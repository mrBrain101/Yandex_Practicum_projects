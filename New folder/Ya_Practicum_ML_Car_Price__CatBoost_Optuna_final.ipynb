{
 "cells": [
  {
   "cell_type": "markdown",
   "metadata": {
    "id": "k87OmX4kgdQw"
   },
   "source": [
    "<center>\n",
    "\n",
    "# Определение стоимости автомобилей\n",
    "\n",
    "</center>"
   ]
  },
  {
   "cell_type": "markdown",
   "metadata": {
    "id": "Jexq0mURgdQz"
   },
   "source": [
    "## Описание проекта.\n",
    "Сервис по продаже автомобилей с пробегом «Не бит, не крашен» разрабатывает приложение для привлечения новых клиентов. В нём можно быстро узнать рыночную стоимость своего автомобиля. В нашем распоряжении исторические данные: технические характеристики, комплектации и цены автомобилей. Необходимо построить модель для определения стоимости. <br><br>\n",
    "\n",
    "\n",
    "- **Заказчик:**\n",
    "Сервис по продаже автомобилей с пробегом «Не бит, не крашен».<br>\n",
    "\n",
    "- **Целевые метрики заказчика:**\n",
    "  - качество предсказания;\n",
    "  - скорость предсказания;\n",
    "  - время обучения.<br><br>\n",
    "\n",
    "- **Целевая метрика ML:**\n",
    "  - Минимизация `RMSE`.\n",
    "\n",
    "### Цели работы:\n",
    "- Построение модели ML, определяющей цены на подержанные автомобили клиентов.\n",
    "\n",
    "### Описание данных.\n",
    "\n",
    "- **Источник данных:** https://code.s3.yandex.net/datasets/autos.csv <br>\n",
    "\n",
    "<center>\n",
    "\n",
    "#### Описание признаков:\n",
    "\n",
    "| Признак | Тип признака | Описание признака |\n",
    "| :- | :- | :- |\n",
    "Признаки:\n",
    "DateCrawled | дата/время | дата скачивания анкеты из базы\n",
    "VehicleType | категориальный | тип автомобильного кузова\n",
    "RegistrationYear | категориальный | год регистрации автомобиля\n",
    "Gearbox | категориальный | тип коробки передач\n",
    "Power | количественный | мощность (л. с.)\n",
    "Model | категориальный | модель автомобиля\n",
    "Kilometer | количественный | пробег (км)\n",
    "RegistrationMonth | категориальный | месяц регистрации автомобиля\n",
    "FuelType | категориальный | тип топлива\n",
    "Brand | категориальный | марка автомобиля\n",
    "Repaired | категориальный | была машина в ремонте или нет\n",
    "DateCreated | дата/время | дата создания анкеты\n",
    "NumberOfPictures | количественный | количество фотографий автомобиля\n",
    "PostalCode | категориальный | почтовый индекс владельца анкеты (пользователя)\n",
    "LastSeen | дата/время | дата последней активности пользователя\n",
    "Целевой признак:\n",
    "Price | количественный | цена (евро)\n",
    "\n",
    "</center><br>"
   ]
  },
  {
   "cell_type": "markdown",
   "metadata": {
    "id": "QFrvlKL_jG3F"
   },
   "source": [
    "## Загрузка используемых библиотек."
   ]
  },
  {
   "cell_type": "code",
   "execution_count": 2,
   "metadata": {
    "id": "yaoXJh5QjFod"
   },
   "outputs": [],
   "source": [
    "### os для обращения к среде разработки и requests для интернет запросов.\n",
    "import os\n",
    "import requests\n",
    "\n",
    "\n",
    "### Работа с датафреймами.\n",
    "# pandas для работы с датафреймами.\n",
    "# !pip install --upgrade pandas --user -q\n",
    "import pandas as pd\n",
    "# функции проверки типа столбцов.\n",
    "from pandas.api.types import is_numeric_dtype, is_object_dtype\n",
    "\n",
    "### numpy для вычислений.\n",
    "import numpy as np\n",
    "\n",
    "### Phi_K для вычисления корреляции признаков.\n",
    "!pip install phik -q\n",
    "import phik\n",
    "from phik.report import plot_correlation_matrix\n",
    "\n",
    "### Визуализация.\n",
    "# matplotlib для визуализации.\n",
    "# !pip install --upgrade matplotlib --user -q\n",
    "import matplotlib.pyplot as plt\n",
    "import matplotlib.ticker as tick\n",
    "# seaborn для визуализации.\n",
    "# !pip install seaborn --upgrade -q\n",
    "import seaborn as sns\n",
    "# probplot для построения вероятностных графиков.\n",
    "from scipy.stats import probplot\n",
    "# missingno для построения графика пропусков.\n",
    "!pip install missingno -q\n",
    "import missingno as msno\n",
    "\n",
    "### Методы и классы для работы с моделями.\n",
    "# Разделение выборок.\n",
    "!pip install scikit-learn --upgrade -q\n",
    "from sklearn.model_selection import train_test_split\n",
    "# Классы для кодирования и трансформации признаков.\n",
    "from sklearn.preprocessing import (OneHotEncoder, OrdinalEncoder,\n",
    "                                   StandardScaler, FunctionTransformer,\n",
    "                                   QuantileTransformer)\n",
    "## Методы и классы для работы с пайплайнами.\n",
    "from sklearn.pipeline import Pipeline\n",
    "from sklearn.compose import ColumnTransformer, TransformedTargetRegressor\n",
    "## Модели.\n",
    "# Константная модель.\n",
    "from sklearn.dummy import DummyRegressor\n",
    "# Линейная регрессия.\n",
    "from sklearn.linear_model import LinearRegression\n",
    "# Дерево решений.\n",
    "from sklearn.tree import DecisionTreeRegressor\n",
    "# Алгоритмы градиентного бустинга.\n",
    "from sklearn.ensemble import HistGradientBoostingRegressor\n",
    "!pip install catboost -q\n",
    "from catboost import CatBoostRegressor\n",
    "!pip install lightgbm -q\n",
    "from lightgbm import LGBMRegressor\n",
    "## Функции подбора гиперпараметров.\n",
    "!pip install optuna -q\n",
    "import optuna\n",
    "## Метрики.\n",
    "from sklearn.metrics import mean_squared_error, r2_score\n",
    "\n",
    "### Модули для контроля времени и хода исполнения ячеек.\n",
    "## tqdm для контроля выполнения ячеек;\n",
    "from tqdm.notebook import tqdm\n",
    "# time для замеров длительности обучения моделей.\n",
    "from time import time\n",
    "from time import perf_counter\n",
    "\n",
    "### Дополнительные модули.\n",
    "# Перевод регистра.\n",
    "!pip install inflection -q\n",
    "from inflection import underscore\n",
    "# # Контроль вывода предупреждений.\n",
    "import warnings\n",
    "### HTML для настройки отображения эл-тов.\n",
    "from IPython.core.display import HTML"
   ]
  },
  {
   "cell_type": "markdown",
   "metadata": {
    "id": "rzAN8mEB1BvF"
   },
   "source": [
    "## Установка глобальных параметров проекта."
   ]
  },
  {
   "cell_type": "code",
   "execution_count": 3,
   "metadata": {
    "id": "sease7mW1BKE"
   },
   "outputs": [
    {
     "ename": "NameError",
     "evalue": "name 'warnings' is not defined",
     "output_type": "error",
     "traceback": [
      "\u001b[1;31m---------------------------------------------------------------------------\u001b[0m",
      "\u001b[1;31mNameError\u001b[0m                                 Traceback (most recent call last)",
      "Cell \u001b[1;32mIn[3], line 16\u001b[0m\n\u001b[0;32m     13\u001b[0m pd\u001b[38;5;241m.\u001b[39mset_option(\u001b[38;5;124m'\u001b[39m\u001b[38;5;124mdisplay.max_columns\u001b[39m\u001b[38;5;124m'\u001b[39m, \u001b[38;5;241m200\u001b[39m)\n\u001b[0;32m     15\u001b[0m \u001b[38;5;66;03m# Также, игнорируем FutureWarning от Pandas, относящиеся к библиотеке Seaborn.\u001b[39;00m\n\u001b[1;32m---> 16\u001b[0m \u001b[43mwarnings\u001b[49m\u001b[38;5;241m.\u001b[39mfilterwarnings(\u001b[38;5;124m\"\u001b[39m\u001b[38;5;124mignore\u001b[39m\u001b[38;5;124m\"\u001b[39m)\n\u001b[0;32m     18\u001b[0m \u001b[38;5;66;03m# Установим начальное значение генератора псевдослучайных чисел.\u001b[39;00m\n\u001b[0;32m     19\u001b[0m SEED \u001b[38;5;241m=\u001b[39m \u001b[38;5;241m42\u001b[39m\n",
      "\u001b[1;31mNameError\u001b[0m: name 'warnings' is not defined"
     ]
    }
   ],
   "source": [
    "# Установим стиль отображения заголовков таблиц.\n",
    "styles = [\n",
    "    dict(selector='caption',\n",
    "         props=[('text-align', 'center'),\n",
    "                ('font-size', '130%'),\n",
    "                ('font-weight', 'bold'),\n",
    "                ('white-space', 'pre-wrap')]),\n",
    "    dict(selector=\"th\",\n",
    "         props=[('max-width', '250px')])\n",
    "    ]\n",
    "\n",
    "# Установим отображение всех столбцов при выводе датафрейма.\n",
    "pd.set_option('display.max_columns', 200)\n",
    "\n",
    "# Также, игнорируем FutureWarning от Pandas, относящиеся к библиотеке Seaborn.\n",
    "warnings.filterwarnings(\"ignore\")\n",
    "\n",
    "# Установим начальное значение генератора псевдослучайных чисел.\n",
    "SEED = 42\n",
    "np.random.seed(SEED)\n",
    "\n",
    "# Установим отображение графиков по центру ячейки\n",
    "HTML(\"\"\"\n",
    "<style>\n",
    ".output_png {\n",
    "    display: table-cell;\n",
    "    text-align: center;\n",
    "    vertical-align: middle;\n",
    "    horizontal-align: middle;\n",
    "}\n",
    "</style>\n",
    "\"\"\")\n",
    "\n",
    "# Определение места хранения файлов отдельно для Google Colab.\n",
    "if os.getenv(\"COLAB_RELEASE_TAG\"):\n",
    "    from google.colab import drive\n",
    "    drive.mount('/content/drive/')"
   ]
  },
  {
   "cell_type": "markdown",
   "metadata": {
    "id": "iCh8yYSbDVQD"
   },
   "source": [
    "<div class=\"alert alert-block alert-success\">\n",
    "<b>Успех:</b> Импорты и настройки на месте.\n",
    "</div>"
   ]
  },
  {
   "cell_type": "markdown",
   "metadata": {
    "id": "eLsEeKHT31rY"
   },
   "source": [
    "## Загрузка данных.\n",
    "- Функция загрузки и записи в переменные любого количества датасетов в формате `.csv` с проверкой адреса/пути."
   ]
  },
  {
   "cell_type": "code",
   "execution_count": null,
   "metadata": {
    "id": "HjcVcX-i32EV"
   },
   "outputs": [],
   "source": [
    "# Функция загрузки и записи в переменные любого количества датасетов в формате\n",
    "# .csv по ссылкам или пути с проверкой адреса/пути.\n",
    "def fetch_datasets(pths, separator=','):\n",
    "    '''Arguments:\n",
    "    - pths: str, list. Full string path in quotes or list of links or\n",
    "    list of file paths as list of strings.\n",
    "    - separator: str, default=','. Separator as a string.\n",
    "    - Example: ('/datasets/file.csv' or ['https://datasets/file.csv'], 't').\n",
    "    '''\n",
    "\n",
    "    # Переведём путь в список при необходимости.\n",
    "    pths = [pths] if isinstance(pths, str) else pths\n",
    "\n",
    "    print(\"\\n\\033[1m\",\n",
    "          'Начало загрузки и записи датасетов в переменные:',\n",
    "          \"\\033[0m\")\n",
    "\n",
    "    for pth in tqdm(pths):\n",
    "        # Запишем название и расширение файла.\n",
    "        full_name = os.path.basename(pth)\n",
    "        name, extension = os.path.splitext(full_name)\n",
    "\n",
    "        # Проверим ссылку и запишем датасет в переменную.\n",
    "        if 'http' in pth:\n",
    "            # Воспользуемся try/except для непредвиденных ошибок.\n",
    "            try:\n",
    "                # Проверим корректность ссылки.\n",
    "                if requests.get(pth).status_code == 200:\n",
    "                    # Создадим переменную и запишем в неё датафрейм.\n",
    "                    globals()[name.lower()] = pd.read_csv(pth, sep=separator)\n",
    "                    print(f'Файл {full_name} прочитан и записан в переменную ',\n",
    "                          f'\"{name.lower()}\". \\nПуть к файлу: \\n{pth}')\n",
    "                    print('~' * 60)\n",
    "                else:\n",
    "                    print(f'Ошибка чтения файла по пути: {pth}')\n",
    "                    print('~' * 60)\n",
    "            except:\n",
    "                print(f'Ошибка чтения файла по пути: {pth}')\n",
    "                pass\n",
    "\n",
    "        # Проверим путь и запишем датасет в переменную.\n",
    "        elif os.path.exists(pth):\n",
    "            # Создадим переменную и запишем в неё датафрейм.\n",
    "            globals()[name.lower()] = pd.read_csv(pth, sep=separator)\n",
    "            print(f'Файл {full_name} прочитан и записан в переменную ',\n",
    "                  f'\"{name.lower()}\". \\nПуть к файлу: \\n{pth}')\n",
    "            print('~' * 60)\n",
    "\n",
    "        else:\n",
    "            print(f'Ошибка чтения файла по пути: {pth}.')\n",
    "            print('~' * 60)"
   ]
  },
  {
   "cell_type": "markdown",
   "metadata": {
    "id": "ZsxZ-3QM3-bk"
   },
   "source": [
    "- Вызовем функцию и загрузим датасеты."
   ]
  },
  {
   "cell_type": "code",
   "execution_count": null,
   "metadata": {
    "colab": {
     "base_uri": "https://localhost:8080/",
     "height": 153,
     "referenced_widgets": [
      "b727811f39a744aea043143491e50f52",
      "5fd7affc387c4b0daeebb4913d150d16",
      "76f436cb48b94d68b412d7a9c16b15ac",
      "6eb1f2f69661496ba37d9b7ebda81066",
      "84e61bb3c8c04862a0f555deca9f80bb",
      "6f4ee9a35bb2411bb3107e7c26277ea7",
      "49bbf4d406f549fb8449072d52f15e8a",
      "1f3eb5cb79f747fbb16ea8dd5d03aae3",
      "63199bb40da84d46a53f6847c2cb6486",
      "71d1f6c2a60741f0b01709cc12d06f6d",
      "6d6fffc9950143e9963843387b51def0",
      "dad584fd1d8746d38f2e7dbcd9fb579e"
     ]
    },
    "executionInfo": {
     "elapsed": 3577,
     "status": "ok",
     "timestamp": 1699807581605,
     "user": {
      "displayName": "S K",
      "userId": "16311672911204145470"
     },
     "user_tz": -180
    },
    "id": "ECK_0enA38-m",
    "outputId": "5c898e7c-b24f-49d2-ca1c-ea793727a1c0"
   },
   "outputs": [],
   "source": [
    "if os.getenv(\"COLAB_RELEASE_TAG\"):\n",
    "    fetch_datasets(['/content/drive/Othercomputers/My_Computer/JupiterNB/' +\n",
    "                    'datasets/autos.csv'])\n",
    "else:\n",
    "    fetch_datasets(['https://code.s3.yandex.net/datasets/autos.csv'])"
   ]
  },
  {
   "cell_type": "markdown",
   "metadata": {
    "id": "6WtBS-OS5DYw"
   },
   "source": [
    "- Переименуем переменные.\n",
    "- Запишем размер датасета и кол-во категорий в константные переменные и создадим счётчик размера датасета для последующего сравнения.\n",
    "- Выведем первые пять строк датафрейма для проверки корретности загрузки."
   ]
  },
  {
   "cell_type": "code",
   "execution_count": null,
   "metadata": {
    "colab": {
     "base_uri": "https://localhost:8080/",
     "height": 399
    },
    "executionInfo": {
     "elapsed": 573,
     "status": "ok",
     "timestamp": 1699807582175,
     "user": {
      "displayName": "S K",
      "userId": "16311672911204145470"
     },
     "user_tz": -180
    },
    "id": "7Lr-37-h5EZg",
    "outputId": "cef5ec69-8e4a-4f93-e070-8a1df31d799f"
   },
   "outputs": [],
   "source": [
    "# Определим переменные для контроля удаления объектов.\n",
    "df = autos\n",
    "NUNIQUE_PER_COL = {col: df[col].nunique() for col in df.columns}\n",
    "ORIGINAL_SHAPE = df.shape\n",
    "del_counter = df.shape[0]\n",
    "df.head()"
   ]
  },
  {
   "cell_type": "markdown",
   "metadata": {
    "id": "-bX1TkaC5LGZ"
   },
   "source": [
    "## Ознакомление, исследовательский анализ данных.\n",
    "- Выведем названия признаков."
   ]
  },
  {
   "cell_type": "code",
   "execution_count": null,
   "metadata": {
    "colab": {
     "base_uri": "https://localhost:8080/",
     "height": 70
    },
    "executionInfo": {
     "elapsed": 399,
     "status": "ok",
     "timestamp": 1699807582571,
     "user": {
      "displayName": "S K",
      "userId": "16311672911204145470"
     },
     "user_tz": -180
    },
    "id": "Xy-yFVPM5QjE",
    "outputId": "7c96e0ba-bea6-4e36-bacf-5ff52275ec27"
   },
   "outputs": [],
   "source": [
    "# Выведем названия признаков.\n",
    "print('\\033[1mНазвания признаков:\\033[0m')\n",
    "display(str(list(df.columns)).strip(\"'[]\"))"
   ]
  },
  {
   "cell_type": "markdown",
   "metadata": {
    "id": "kgWMWL9j5ZIO"
   },
   "source": [
    "- Приведём названия признаков в \"змеиный\" регистр и проверим результат."
   ]
  },
  {
   "cell_type": "code",
   "execution_count": null,
   "metadata": {
    "colab": {
     "base_uri": "https://localhost:8080/",
     "height": 104
    },
    "executionInfo": {
     "elapsed": 11,
     "status": "ok",
     "timestamp": 1699807582572,
     "user": {
      "displayName": "S K",
      "userId": "16311672911204145470"
     },
     "user_tz": -180
    },
    "id": "Cl8i1FE45qa3",
    "outputId": "9ad38321-c29d-4ab1-82aa-db3601063d67"
   },
   "outputs": [],
   "source": [
    "# Приведём названия признаков в \"змеиный\" регистр.\n",
    "df.columns = [underscore(name) for name in df.columns]\n",
    "display(df.columns)\n",
    "# Обновим словарь кол-ва категорий.\n",
    "NUNIQUE_PER_COL = dict(zip(df.columns, NUNIQUE_PER_COL.values()))"
   ]
  },
  {
   "cell_type": "markdown",
   "metadata": {
    "id": "b8qcqshE-sTc"
   },
   "source": [
    "\n",
    "- Введём англо-русский словарь обозначений для наглядности отображения."
   ]
  },
  {
   "cell_type": "code",
   "execution_count": null,
   "metadata": {
    "id": "4h_esIPL8b_V"
   },
   "outputs": [],
   "source": [
    "# Введём англо-русский словарь обозначений.\n",
    "col_names = {\n",
    "    'ytitle' : 'Количество',\n",
    "    'date_crawled' : 'Дата скачивания',\n",
    "    'price' : 'Цена (евро)',\n",
    "    'target' : 'Цена (евро)',\n",
    "    'vehicle_type' : 'Тип кузова',\n",
    "    'registration_year' : 'Год регистрации автомобиля',\n",
    "    'gearbox' : 'Коробка передач',\n",
    "    'power' : 'Мощность (л. с.)',\n",
    "    'model' : 'Модель автомобиля',\n",
    "    'kilometer' : 'Пробег (км)',\n",
    "    'registration_month' : 'Месяц регистрации автомобиля',\n",
    "    'fuel_type' : 'Тип топлива',\n",
    "    'brand' : 'Марка автомобиля',\n",
    "    'repaired' : 'Ремонт',\n",
    "    'date_created' : 'Дата создания анкеты',\n",
    "    'number_of_pictures' : 'Кол-во фото автомобиля',\n",
    "    'postal_code' : 'Почтовый индекс',\n",
    "    'last_seen' : 'Последняя активность'\n",
    "}"
   ]
  },
  {
   "cell_type": "markdown",
   "metadata": {
    "id": "Gyn2FVxW_rSW"
   },
   "source": [
    "### Создание функций для ИАД."
   ]
  },
  {
   "cell_type": "markdown",
   "metadata": {
    "id": "EvlDhKxo_kyN"
   },
   "source": [
    "#### Функция вычисления процента аномальных значений.<br>\n",
    "- Введём функцию рассчёта и вывода процентов аномальных значений для отобранных признаков."
   ]
  },
  {
   "cell_type": "code",
   "execution_count": null,
   "metadata": {
    "id": "TS1VlCgm_tq-"
   },
   "outputs": [],
   "source": [
    "# Введём функцию рассчёта и вывода процентов выбросов для отобранных\n",
    "# признаков.\n",
    "def get_outliers_ratio(data: pd.DataFrame() | pd.Series(),\n",
    "                       col=None,\n",
    "                       whiskers=False):\n",
    "    '''\n",
    "    Calculates boxplot whiskers and outlier percentage as <> (2.7 * sigma).\n",
    "    - Arguments:\n",
    "      - data: pd.DataFrame() | pd.Series(). Either DataFrame or Series variable.\n",
    "      - col: str | None. Column name in case of pandas DataFrame for data\n",
    "        argument.\n",
    "      - whiskers: bool. whether to return whiskers (True) or not\n",
    "    '''\n",
    "    # Запишем признак/столбец в переменную.\n",
    "    col = data[col] if col else data\n",
    "    # Вычислим интерквартильный размах.\n",
    "    distr_iqr = col.quantile(.75) - col.quantile(.25)\n",
    "    # Вычислим усы диаграммы размаха или 2.7 сигмы.\n",
    "    whisker_upp = col.quantile(.75) + 1.5 * distr_iqr\n",
    "    whisker_low = col.quantile(.25) - 1.5 * distr_iqr\n",
    "    # Если усы превышают экстремумы, приравняем их.\n",
    "    if whisker_upp >= col.max():\n",
    "        whisker_upp = col.max()\n",
    "    if whisker_low <= col.min():\n",
    "        whisker_low = col.min()\n",
    "    else:\n",
    "        pass\n",
    "    # Вычислим процент выбросов.\n",
    "    outliers_ratio = (\n",
    "        (col[col > whisker_upp].count() +\n",
    "         col[col < whisker_low].count()) /\n",
    "        len(col)\n",
    "        )\n",
    "    # Выведем усы и процент выбросов если необходимо.\n",
    "    if whiskers:\n",
    "        return whisker_low, whisker_upp, outliers_ratio\n",
    "    # Выведем только процент выбросов.\n",
    "    else:\n",
    "        return outliers_ratio"
   ]
  },
  {
   "cell_type": "markdown",
   "metadata": {
    "id": "TZDW2qTJ_x0D"
   },
   "source": [
    "#### Функция вывода информации о данных.\n",
    "Создадим функцию, которая:\n",
    "  - примет датафрейм;\n",
    "  - название датафрейма (опционально);\n",
    "  - выведет:\n",
    "    - первые 20 строк и информацию о датафрейме;\n",
    "    - информацию о дубликатах, пропусках и уникальных значениях в датафрейме;\n",
    "    - распределения числовых и информацию о строковых значениях в цифрах."
   ]
  },
  {
   "cell_type": "code",
   "execution_count": null,
   "metadata": {
    "id": "tIjG0FoJ_2CB"
   },
   "outputs": [],
   "source": [
    "# Введём функцию вывода информации о датафрейме.\n",
    "def get_eda_data(data:pd.DataFrame(),\n",
    "                 data_name='Датафрейм'):\n",
    "    '''\n",
    "    Arguments:\n",
    "    - data: pd.DataFrame.\n",
    "    - data_name: optional name of the dataframe.\n",
    "    '''\n",
    "\n",
    "    # Отделим численные признаки.\n",
    "    cols_to_analyze = [col for col in data if is_numeric_dtype(data[col])]\n",
    "\n",
    "    # Выведем первые строки датафрейма.\n",
    "    display(\n",
    "        data.head(20)\n",
    "        .style\n",
    "        .set_caption(f'{data_name}.' +\n",
    "                     '\\nПервые 20 строк.')\n",
    "        .set_table_styles(styles)\n",
    "        )\n",
    "    print('\\n')\n",
    "\n",
    "    # Вычислим и занесём в таблицу кол-во нулевых значений в датафрйеме.\n",
    "    zeros = [len([el for el in data[col] if el == 0]) for col in data]\n",
    "    zeros = pd.Series(zeros, index=list(data.columns))\n",
    "\n",
    "    # Выведем информацию о дубликатах, уникальных значениях\n",
    "    # и пропусках в датафрейме.\n",
    "    display(\n",
    "        pd.DataFrame([\n",
    "            data.isna().sum(),\n",
    "            round(data.isna().sum() / len(data), 4).map('{:.2%}'.format),\n",
    "            len(data) - data.nunique(),\n",
    "            (\n",
    "                round((len(data) - data.nunique()) / len(data), 4)\n",
    "                .map('{:.2%}'.format)\n",
    "            ),\n",
    "            data.nunique(),\n",
    "            zeros,\n",
    "                 ],\n",
    "            index=['Кол-во пропусков:', 'Процент пропусков:',\n",
    "                   'Кол-во дубликатов:', 'Процент дубликатов:',\n",
    "                   'Кол-во уникальных значений:', 'Кол-во нулевых значений:']\n",
    "                   )\n",
    "        .style\n",
    "        .set_caption('Пропуски, уникальные значения и дубликаты в ' +\n",
    "                    'датафрейме.\\n Количество явных дубликатов:  ' +\n",
    "                    f'{data.duplicated().sum()}. \\n')\n",
    "        .set_table_styles(styles)\n",
    "        )\n",
    "    print('\\n')\n",
    "\n",
    "    # Построим матрицу пропущенных значений.\n",
    "    msno.matrix(data, figsize=(15, 5))\n",
    "    plt.title('Матрица соответствия пропущенных значений.')\n",
    "    plt.show();\n",
    "    print('\\n')\n",
    "\n",
    "    # Выведем информацию о составе датафрейма.\n",
    "    print('\\033[1m \\n Информация о составе датафрейма. \\033[0m')\n",
    "    display(data.info())\n",
    "    print('\\n')\n",
    "\n",
    "    # Выведем распределение признаков.\n",
    "    skewness = pd.DataFrame(data[cols_to_analyze].skew().map('{:.2f}'.format),\n",
    "                            columns=['Асимметрия распределения:']).transpose()\n",
    "    display(\n",
    "        pd.concat(\n",
    "            [skewness,\n",
    "             pd.DataFrame(data.describe([.05,.1,.25,.50,.75,.90,.95]))]\n",
    "            )\n",
    "        .style\n",
    "        .format(precision=2)\n",
    "        .set_caption(f'Распределение численных признаков.')\n",
    "        .set_table_styles(styles)\n",
    "        )\n",
    "    print('\\n')\n",
    "\n",
    "    # Проверка наличия признаков 'bool' или 'object'\n",
    "    col_types = [str(data[col].dtype) for col in data]\n",
    "    if any(t in col_types for t in ['object', 'bool']):\n",
    "        display(\n",
    "            data.describe(include=['object', 'bool'])\n",
    "            .style\n",
    "            .set_caption(f'Информация о строковых признаках.')\n",
    "            .set_table_styles(styles)\n",
    "            )\n",
    "        print('\\n')"
   ]
  },
  {
   "cell_type": "markdown",
   "metadata": {
    "id": "OAQPIQ_oAqdQ"
   },
   "source": [
    "#### Функция вывода информации о корреляции признаков.\n",
    "Создадим функцию вывода информации о корреляции признаков, воспользовавшись библиотекой `Phi_K`, которая примет датафрейм и выведет тепловые карты:\n",
    "- Матрицу корреляции с коэффициентами корреляции Пирсона для линейных зависимостей и коэффициентами $\\phi_k$ (модифицированный $\\chi^2$) для нелинейных зависимостей;\n",
    "- Матрицу статистической значимости корреляции признаков."
   ]
  },
  {
   "cell_type": "code",
   "execution_count": null,
   "metadata": {
    "id": "Xe4v6FbpArFl"
   },
   "outputs": [],
   "source": [
    "def get_phik_data(data: pd.DataFrame()):\n",
    "    '''\n",
    "    Calculates and plots\n",
    "    - correlation matrix for Phi_K coefficients;\n",
    "    - matrix of statistical significance of Phi_K correlation coefficients.\n",
    "    '''\n",
    "\n",
    "    # Матрица корреляции модифицированных коэфф. Хи^2.\n",
    "    phik_correlation = data.phik_matrix(verbose=False)\n",
    "    # Матрица статистической значимости корреляции.\n",
    "    phik_significance = data.significance_matrix(verbose=False)\n",
    "\n",
    "    # Установим параметры графиков.\n",
    "    mask_corr = np.triu(np.ones_like(phik_correlation, dtype=bool))\n",
    "    mask_sign = np.triu(np.ones_like(phik_significance, dtype=bool))\n",
    "    cmap = sns.diverging_palette(230, 20, as_cmap=True)\n",
    "\n",
    "    # Построим графики.\n",
    "    fig, axes = plt.subplots(1,2, figsize=(15,10))\n",
    "    sns.heatmap(phik_correlation, annot=True, fmt='.2f', annot_kws={\"size\": 9},\n",
    "                mask=mask_corr, cmap=cmap, vmax=1.0, center=0, square=True,\n",
    "                linewidths=.7, cbar_kws={\"shrink\": .5}, ax=axes[0])\n",
    "    axes[0].set_title('Матрица корреляции. \\nКоэффициенты $\\phi_K$ '+\n",
    "                      '(модифицированный $\\u03C7^2$).')\n",
    "    axes[0].set_xticklabels(phik_correlation.index, rotation=45, ha='right',\n",
    "    rotation_mode='anchor')\n",
    "\n",
    "    sns.heatmap(phik_significance, annot=True, fmt='.2f', annot_kws={\"size\": 9},\n",
    "                mask=mask_sign, cmap=cmap, vmax=1.0, center=0, square=True,\n",
    "                linewidths=.7, cbar_kws={\"shrink\": .5}, ax=axes[1])\n",
    "    axes[1].set_title('Матрица статистической значимости корреляции признаков.')\n",
    "    axes[1].set_xticklabels(phik_significance.index, rotation=45, ha='right',\n",
    "                            rotation_mode='anchor')\n",
    "    plt.tight_layout()\n",
    "    plt.show();"
   ]
  },
  {
   "cell_type": "markdown",
   "metadata": {
    "id": "2FStV2ISjqpv"
   },
   "source": [
    "#### Функция вывода графиков.\n",
    "Создадим функцию вывода графиков, которая\n",
    "  - примет датафрейм, признаки, разделённые на группы, и целевой признак;\n",
    "  - выведет соответствующие графики для каждой группы признаков."
   ]
  },
  {
   "cell_type": "code",
   "execution_count": null,
   "metadata": {
    "id": "WVgZvjD5jrRL"
   },
   "outputs": [],
   "source": [
    "# Введём функцию вывода графиков.\n",
    "def get_eda_plot(data: pd.DataFrame(),\n",
    "                 num_cols=None,\n",
    "                 cat_cols_wbox=None,\n",
    "                 target=None):\n",
    "\n",
    "    if num_cols:\n",
    "        # Построим гистограммы, диаграммы размаха и скрипичные диаграммы для\n",
    "        # численных признаков.\n",
    "        for col in data[num_cols]:\n",
    "            # Рассчитаем кол-во корзин и смещение столбцов гистограммы.\n",
    "            bin_shift = data[col].max()*.01\n",
    "            bin_shift = bin_shift * .5 if data[col].min() == 0 else bin_shift\n",
    "            bins = np.arange(data[col].min(),\n",
    "                             data[col].max(),\n",
    "                             data[col].max()*.01) - bin_shift\n",
    "            # Построим графики.\n",
    "            fig = plt.figure(constrained_layout=True, figsize=(15, 8))\n",
    "            gs = fig.add_gridspec(4, 1, height_ratios=[5, 1, 2, .5])\n",
    "            fig.suptitle(f'Признак \"{col}\" (\"{col_names[col]}\").' +\n",
    "                        '\\nОбщий процент аномальных значений' +\n",
    "                        f' ≈ {get_outliers_ratio(data, col):.2%}',\n",
    "                         fontsize=14, x=.52)\n",
    "            # Гистограмма.\n",
    "            f_ax1 = fig.add_subplot(gs[0])\n",
    "            sns.histplot(data=data, x=col, bins=bins, kde=True)\n",
    "            f_ax1.lines[0].set_color('crimson')\n",
    "            f_ax1.set_title('Гистограмма.')\n",
    "            f_ax1.set_xlabel(f'{col_names[col]}.')\n",
    "            f_ax1.set_ylabel(f'{col_names[\"ytitle\"]}.')\n",
    "            # Диаграмма размаха.'\n",
    "            f_ax2 = fig.add_subplot(gs[1], sharex=f_ax1)\n",
    "            sns.boxplot(data=data, x=col)\n",
    "            f_ax2.set_title('Диаграмма размаха.')\n",
    "            f_ax2.set_xlabel(f'{col_names[col]}.')\n",
    "            # Скрипичная диаграмма.\n",
    "            f_ax4 = fig.add_subplot(gs[2], sharex=f_ax1)\n",
    "            sns.violinplot(data=data, x=col)\n",
    "            f_ax4.set_title('Скрипичная диаграмма.')\n",
    "            f_ax4.set_xlabel(f'{col_names[col]}.')\n",
    "            # Разделитель.\n",
    "            f_ax5 = fig.add_subplot(gs[3])\n",
    "            f_ax5.axis('off')\n",
    "            plt.show();\n",
    "\n",
    "    if cat_cols_wbox:\n",
    "        # Построим столбчатые диаграммы и диаграммы размаха для подходящих\n",
    "        # признаков.\n",
    "        for col in cat_cols_wbox:\n",
    "            # Рассчитаем высоту графика.\n",
    "            fig_height = 3 + data[col].nunique() * .5\n",
    "            # Построим графики.\n",
    "            fig, axes = plt.subplots(2, 1,\n",
    "                                     figsize=(15, fig_height),\n",
    "                                     height_ratios=[1.5, 2])\n",
    "            fig.suptitle(f'Признак \"{col}\" (\"{col_names[col]}\").',\n",
    "                         fontsize=14,\n",
    "                         x=.52, y=.99)\n",
    "            # Столбчатая диаграмма.\n",
    "            data[col].value_counts(ascending=True).plot.barh(ax=axes[0])\n",
    "            axes[0].set_title('Распределение категорий.')\n",
    "            axes[0].set_xlabel(f'{col_names[\"ytitle\"]}.')\n",
    "            axes[0].set_ylabel(f'{col_names[col]}.')\n",
    "            # Диаграмма размаха по целевому признаку.\n",
    "            sns.violinplot(data=data, x=target, y=col,\n",
    "                           order=data[col].value_counts().index,\n",
    "                           palette='husl', ax=axes[1])\n",
    "            axes[1].set_title('Распределение категорий по целевому признаку.')\n",
    "            axes[1].set_xlabel(f'{col_names[\"target\"]}.')\n",
    "            axes[1].set_ylabel(f'{col_names[col]}.')\n",
    "            plt.tight_layout()\n",
    "            plt.show();\n",
    "            # Разделитель.\n",
    "            sep, ax = plt.subplots(1,1, figsize=(20, 1))\n",
    "            ax.axis('off')\n",
    "            plt.tight_layout()\n",
    "            plt.show();"
   ]
  },
  {
   "cell_type": "markdown",
   "metadata": {
    "id": "veryNZ1QDVQI"
   },
   "source": [
    "<div class=\"alert alert-block alert-success\">\n",
    "<b>Успех:</b> Отличные функции - помощники!\n",
    "</div>"
   ]
  },
  {
   "cell_type": "markdown",
   "metadata": {
    "id": "9eDt_CfOTFj1"
   },
   "source": [
    "### Вывод информации о данных.\n",
    "- Вызовем функции и выведем информацию о данных и о корреляции признаков, без учёта признаков с типом дата/время и признака `number_of_pictures`."
   ]
  },
  {
   "cell_type": "code",
   "execution_count": null,
   "metadata": {
    "colab": {
     "base_uri": "https://localhost:8080/",
     "height": 1000
    },
    "executionInfo": {
     "elapsed": 89169,
     "status": "ok",
     "timestamp": 1699807671732,
     "user": {
      "displayName": "S K",
      "userId": "16311672911204145470"
     },
     "user_tz": -180
    },
    "id": "iJXWPTOn_3ff",
    "outputId": "986ee75b-6912-4d4a-a9c4-d2df28346003"
   },
   "outputs": [],
   "source": [
    "# Вызовем функции и выведем информацию о данных и о корреляции признаков.\n",
    "get_eda_data(df, 'Характеристики подержанных автомобилей')\n",
    "get_phik_data(df\n",
    "              .drop(['date_crawled', 'date_created',\n",
    "                       'last_seen', 'number_of_pictures'], axis=1)\n",
    "              .dropna())"
   ]
  },
  {
   "cell_type": "markdown",
   "metadata": {
    "id": "jPddQ1aE783o"
   },
   "source": [
    "### Ознакомление, ИАД. Промежуточные выводы.\n",
    "- В признаках `price` и `power` обнаружены аномальные значения, которые необходимо исключить при построении графиков.\n",
    "- Аномальные значения будут обработаны в разделе [\"Предобработка данных.\"](#Предобработка-данных.)"
   ]
  },
  {
   "cell_type": "markdown",
   "metadata": {
    "id": "P7daExnAgdQ0"
   },
   "source": [
    "### Вывод графиков ИАД."
   ]
  },
  {
   "cell_type": "markdown",
   "metadata": {
    "id": "qJqtOyPZ8t_x"
   },
   "source": [
    "- Сгруппируем признаки для визуализации:\n",
    "  - признаки для столбчатых диаграмм и диаграмм размаха по целевому признаку;\n",
    "  - численные признаки.\n",
    "- Вызовем функцию и выведем графики, исключив удаляемые аномальные значения, обнаруженные в признаках\n",
    "  - `price` - исключим нулевые значения;\n",
    "  - `power` - исключим нулевые значения и значения мощности более 500 л.с. <br>(порог выбран с превышением мощности \"стандартных\" седанов и кроссоверов в 2-4 раза).\n",
    "- Отдельно выведем графики по признакам\n",
    "  - `model`;\n",
    "  - `registration_year`;\n",
    "  - `registration_month`."
   ]
  },
  {
   "cell_type": "code",
   "execution_count": null,
   "metadata": {
    "colab": {
     "base_uri": "https://localhost:8080/",
     "height": 1000
    },
    "executionInfo": {
     "elapsed": 31454,
     "status": "ok",
     "timestamp": 1699807703174,
     "user": {
      "displayName": "S K",
      "userId": "16311672911204145470"
     },
     "user_tz": -180
    },
    "id": "NmpWAaD5jmV3",
    "outputId": "5103bd9d-3b99-4149-84b8-83589465b32c"
   },
   "outputs": [],
   "source": [
    "# Признаки для столбчатых диаграмм и диаграмм размаха по целевому.\n",
    "cat_cols_wbox = ['vehicle_type', 'gearbox', 'fuel_type', 'brand', 'repaired']\n",
    "# Численные признаки.\n",
    "num_cols = ['price', 'power', 'kilometer']\n",
    "\n",
    "# Выведем графики для численных и некоторых категориальных признаков.\n",
    "get_eda_plot(df.query('price > 100 and power > 0 and power < 500'),\n",
    "             num_cols=num_cols,\n",
    "             cat_cols_wbox=cat_cols_wbox,\n",
    "             target='price')\n",
    "\n",
    "# Выведем графики по признаку model.\n",
    "fig, axes = plt.subplots(1, 2, figsize=(15, 7))\n",
    "fig.suptitle(f'Признак \"model\" (\"{col_names[\"model\"]}\").', fontsize=14)\n",
    "# Выведем самые дорогие/дешёвые модели автомобилей.\n",
    "(df\n",
    " .groupby('model')['price']\n",
    " .mean()\n",
    " .astype('int')\n",
    " .sort_values()\n",
    " .iloc[np.r_[0:10, -10:0]]\n",
    " .plot\n",
    " .barh(ax=axes[0]))\n",
    "axes[0].legend(['- Верхняя половина - самые дорогие.\\n- Нижняя половина '+\n",
    "                '- самые дешёвые.'])\n",
    "axes[0].set_title('Средние цены моделей в порядке убывания.')\n",
    "axes[0].set_xlabel('Средние цены моделей.')\n",
    "axes[0].set_ylabel(f'{col_names[\"model\"]}.')\n",
    "# Выведем самые популярные/непопулярные среди пользователей модели автомобилей.\n",
    "(df\n",
    " .model\n",
    " .value_counts(ascending=True)\n",
    " .iloc[np.r_[0:10, -10:0]]\n",
    " .plot\n",
    " .barh(ax=axes[1]))\n",
    "axes[1].legend(['- Верхняя половина - самые распространённые.\\n- Нижняя '+\n",
    "                'половина - самые редкие.'])\n",
    "axes[1].set_title('Распространённость моделей в порядке убывания.')\n",
    "axes[1].set_xlabel('Кол-во моделей.')\n",
    "plt.tight_layout()\n",
    "plt.show();\n",
    "\n",
    "# Разделитель.\n",
    "sep, ax = plt.subplots(1,1, figsize=(20, 1))\n",
    "ax.axis('off')\n",
    "plt.tight_layout()\n",
    "plt.show();\n",
    "\n",
    "# Построим графики для 'registration_year'.\n",
    "reg_year = df.query('registration_year < 2016 and registration_year > 1900')\n",
    "reg_year_col = 'registration_year'\n",
    "fig = plt.figure(constrained_layout=True, figsize=(15, 8))\n",
    "gs = fig.add_gridspec(4, 1, height_ratios=[5, 1, 2, .5])\n",
    "fig.suptitle(f'Признак \"{reg_year_col}\"'+\n",
    "             f'(\"{col_names[reg_year_col]}\").' +\n",
    "            '\\nОбщий процент аномальных значений' +\n",
    "            f' ≈ {get_outliers_ratio(reg_year, reg_year_col):.2%}',\n",
    "                fontsize=14, x=.52)\n",
    "# Гистограмма.\n",
    "f_ax1 = fig.add_subplot(gs[0])\n",
    "sns.histplot(data=reg_year,\n",
    "             x=reg_year_col, kde=True)\n",
    "f_ax1.lines[0].set_color('crimson')\n",
    "f_ax1.set_title('Гистограмма.')\n",
    "f_ax1.set_xlabel(f'{col_names[reg_year_col]}.')\n",
    "f_ax1.set_ylabel(f'{col_names[\"ytitle\"]}.')\n",
    "# Диаграмма размаха.'\n",
    "f_ax2 = fig.add_subplot(gs[1], sharex=f_ax1)\n",
    "sns.boxplot(data=reg_year, x=reg_year_col)\n",
    "f_ax2.set_title('Диаграмма размаха.')\n",
    "f_ax2.set_xlabel(f'{col_names[reg_year_col]}.')\n",
    "# Скрипичная диаграмма.\n",
    "f_ax4 = fig.add_subplot(gs[2], sharex=f_ax1)\n",
    "sns.violinplot(data=reg_year, x=reg_year_col)\n",
    "f_ax4.set_title('Скрипичная диаграмма.')\n",
    "f_ax4.set_xlabel(f'{col_names[reg_year_col]}.')\n",
    "# Разделитель.\n",
    "f_ax5 = fig.add_subplot(gs[3])\n",
    "f_ax5.axis('off')\n",
    "plt.show();\n",
    "\n",
    "# Построим графики для 'registration_month'.\n",
    "(df\n",
    " .loc[df['registration_month'] > 0,\n",
    "      'registration_month']\n",
    " .hist(figsize=(15,4), bins=np.arange(14)-.5))\n",
    "plt.title('Признак \"registration_month\" '+\n",
    "          f'(\"{col_names[\"registration_month\"]}\").', fontsize=14)\n",
    "plt.xticks(np.arange(1, 13, 1))\n",
    "plt.tight_layout()\n",
    "plt.show();"
   ]
  },
  {
   "cell_type": "markdown",
   "metadata": {
    "id": "ZmnLuyk1SCyo"
   },
   "source": [
    "### Вывод дополнительной информации.\n",
    "- Признак `date_created`:\n",
    "  - Выведем кол-ва созданных объявлений по годам и месяцам, чтобы определить необходимость учёта временных интервалов и трендов и, в общем, определить ценность признака.\n",
    "- Признак `date_crawled`:\n",
    "  - Выведем последнюю дату скачивания базы данных. Анкеты, созданные после этой даты, не могли попасть в датасет, следовательно эта дата будет верхним пределом рассматриваемых значений признака `registration_year`.\n",
    "\n",
    "- Признак `last_seen`:\n",
    "  - Выведем годы, представленные в признаке, чтобы оценить ценность признака.\n",
    "\n",
    "- Выведем кол-ва уникальных типов кузова по моделям для проверки гипотезы о том, что одной модели может соответствовать только один тип кузова.\n",
    "\n",
    "- Выведем и проверим уникальные значения всех, кроме модели (`model`), категориальных признаков, не связанных с датой/временем:\n",
    "  - `vehicle_type`;\n",
    "  - `gearbox`;\n",
    "  - `kilometer`;\n",
    "  - `fuel_type`;\n",
    "  - `brand`;\n",
    "  - `repaired`.\n",
    "- Признак `registration_year`.\n",
    "  - Выведем 10 объектов с годом регистрации 1950.\n",
    "- Выведем 20 первых строк среза с аномальными значениями цены (`price`) ниже 100 евро."
   ]
  },
  {
   "cell_type": "code",
   "execution_count": null,
   "metadata": {
    "colab": {
     "base_uri": "https://localhost:8080/",
     "height": 1000
    },
    "executionInfo": {
     "elapsed": 1875,
     "status": "ok",
     "timestamp": 1699807705034,
     "user": {
      "displayName": "S K",
      "userId": "16311672911204145470"
     },
     "user_tz": -180
    },
    "id": "JDDZIyHkQNPi",
    "outputId": "36958e27-1996-46ae-f692-f5ea93d0b4d4"
   },
   "outputs": [],
   "source": [
    "# Выведем доп. данные по признаку date_created.\n",
    "print('\\033[1mПризнак `date_created`.\\033[0m')\n",
    "print('Количества созданных анкет по годам:')\n",
    "display(pd.to_datetime(df['date_created']).dt.year.value_counts())\n",
    "print('\\nКоличества созданных анкет по месяцам:')\n",
    "display(pd.to_datetime(df['date_created']).dt.month.value_counts())\n",
    "print('\\n', '~' * 70, '\\n')\n",
    "\n",
    "# Выведем  доп. данные по признаку date_crawled.\n",
    "print('\\033[1mПризнак `date_crawled`.\\033[0m')\n",
    "print('Дата последнего скачивания базы данных: '+\n",
    "      f'\\n{df[\"date_crawled\"].max()}.')\n",
    "print('\\n', '~' * 70, '\\n')\n",
    "\n",
    "# Выведем  доп. данные по признаку last_seen.\n",
    "print('\\033[1mПризнак `last_seen`.\\033[0m\\nГоды, представленные в '+\n",
    "      'признаке \"Последняя активность пользователя\": '+\n",
    "      f'\\n{int(pd.to_datetime(df.last_seen).dt.year.unique())}')\n",
    "print('\\n', '~' * 70, '\\n')\n",
    "\n",
    "# Выведем общий процент объектов с пропусками.\n",
    "print('\\033[1mОбщий процент объектов с пропусками\\033[0m: '+\n",
    "      f'{((df.shape[0] - df.dropna().shape[0]) / df.shape[0]):.2%}.')\n",
    "print('\\n', '~' * 70, '\\n')\n",
    "\n",
    "# Выведем сводку по объектам с аномалиями.\n",
    "print('\\033[1mСводка по аномальным значениям.\\033[0m')\n",
    "print('Количество объектов с ценой менее 100 евро: '+\n",
    "      f'{(price_err := sum(df[\"price\"] < 100))}.')\n",
    "print('- ' * 10)\n",
    "print('Кол-во объектов с мощностью 0: '+\n",
    "      f'{(power_err := sum(df[\"power\"] == 0))}')\n",
    "print('Кол-во объектов с мощностью более 500: '+\n",
    "      f'{(power_err := sum(df[\"power\"] > 500))}')\n",
    "print('Кол-во объектов с нулевым значением мощности и присутствующим '+\n",
    "      'названием модели авто.: '+\n",
    "      f'{df.query(\"power == 0 and model.notna()\").shape[0]}')\n",
    "print('- ' * 10)\n",
    "print('Объектов с нулевыми значениями в признаке \"registration_month\": '+\n",
    "      f'{(regm_err := sum(df[\"registration_month\"] == 0))}.')\n",
    "print('Кол-во объектов до 1950 и и после 2016: ',\n",
    "      (regy_err := sum(sum([(df['registration_year'] == 2016) &\\\n",
    "               (df['registration_month'] > 3) |\\\n",
    "               (df['registration_year'] > 2016) &\\\n",
    "               (df['registration_year'] < 1950)]))))\n",
    "\n",
    "print('Общий процент аномальных значений: '+\n",
    "      f'{(price_err + power_err + regm_err + regy_err) / df.shape[0]:.0%}')\n",
    "print('\\n', '~' * 70, '\\n')\n",
    "\n",
    "# Кол-ва типов кузова по моделям'\n",
    "print('Кол-ва типов кузова по моделям')\n",
    "df.groupby('model')['vehicle_type'].nunique()[:10]\n",
    "print('\\n', '~' * 70, '\\n')\n",
    "\n",
    "# Выведем уникальные значения признаков.\n",
    "for col in ['vehicle_type', 'gearbox', 'kilometer',\n",
    "            'fuel_type', 'brand', 'repaired']:\n",
    "    print(f'\\033[1mПризнак `{col}`.\\033[0m\\nУникальные значения:')\n",
    "    display(str(list(df[col].unique())).strip(\"'[]\"))\n",
    "    print('\\n', '~' * 70, '\\n')\n",
    "\n",
    "# Выведем 20 сэмплов со значениями цены ниже 100 евро.\n",
    "display(df[df['price'] < 100]\n",
    "        .head(20)\n",
    "        .style\n",
    "        .set_caption('20 сэмплов со значениями цены ниже 100 евро.')\n",
    "        .set_table_styles(styles))\n",
    "\n",
    "# Выведем 10 объектов с годом регистрации до 1987.\n",
    "(df[df['registration_year'] < 1950]\n",
    " .head(10)\n",
    " .style\n",
    " .set_caption('10 сэмплов с годом регистрации до 1987.')\n",
    " .set_table_styles(styles))"
   ]
  },
  {
   "cell_type": "markdown",
   "metadata": {
    "id": "9LUf3aYmyXJX"
   },
   "source": [
    "### Ознакомление, ИАД. Выводы.\n",
    "#### Информация о составе данных.\n",
    "- Датасет представлен 354369 записями и 16 признаками:\n",
    "  - 3 признака формата дата/время;\n",
    "  - 9 категориальных признака;\n",
    "  - 4 количественных признака, включая целевой.\n",
    "- Следующие признаки не несут информации, необходимой для построения моделей, и будут удалены в разделе [предобработки данных](#Предобработка-данных.):\n",
    "    - `date_crawled` | дата скачивания анкеты:\n",
    "      - не содержит информации для построения моделей;\n",
    "    - `date_created` | дата создания анкеты:<br>\n",
    "      - т.к. одинаковые (по любым причинам) объявления, созданные в разные даты только усложнят работу модели;\n",
    "      - т.к. для двух из трёх представленных лет, информативно представлен только 2016г.;\n",
    "    - `number_of_pictures` |   количество фотографий автомобиля:\n",
    "      -  т.к. признакне содержит информации.\n",
    "- Типы признаков приведены, за исключением признаков в формате дата/время, которые будут удалены.\n",
    "\n",
    "#### Целевой признак.\n",
    "- Целевой признак количественный, непрерывный.<br>\n",
    "\n",
    "#### Задача машинного обучения.\n",
    "- Т.к. целевой признак определен, количественный, непрерывный, задача построения предиктивной модели сводится к регрессионному анализу, \"обучению с учителем\".<br>\n",
    "\n",
    "#### Аномалии в данных.\n",
    "- Признак `price`.\n",
    "  - Минимальное значение - `0`. <br>\n",
    "  Необходимо удалить записи с нулевыми и аномальными значениями цены. За аномальные примем значения менее `100` евро, которые в данных с большой вероятностью являются ошибочно введёнными.\n",
    "- Признак `power`.\n",
    "  - Т.к. мощность у модификаций одной модели автомобиля, если и будет различаться, то  несильно, заменим ошибочные значения более 500 л.с. и нулевые медианным значением по модели.\n",
    "- Признак `registration_year`.\n",
    "  - Аномально низкие (`1000`) и высокие (`9999`) значения.<br>\n",
    "   - Удалим записи с датой регистрации позже `03.2016`, т.к. анкеты, созданные позже не могли попасть в датасет, а определить верную дату не представляется возможным.\n",
    "   - Удалим записи с годом регистрации до `1950` и при появлении такого маловероятнгого запроса будем давать ошибку, т.к.\n",
    "     - автомобили, произведённые ранее единичны, а до ~1940г. все значения, скорее всего, ошибочны;\n",
    "     - точность предсказания модели снизится, а время обучения увеличится.\n",
    "- Признак `registration_month`.<br>\n",
    "Нулевые значения месяца.\n",
    "  - Удалим признак, т.к. обновление модели в год выпуска крайне маловероятно и обычно модели не обновляются в период от 3 до 8 лет.\n",
    "\n",
    "#### Пропуски в данных.\n",
    "> ___Примечание 1:___ &nbsp;&nbsp;\n",
    "  - __Неосмысленное заполнение пропусков и аномальных значений \"заглушкой\"модой/медианой/средним/случайным/предыдущими/последующими приведёт к искажению данных и снижению качества модели.__\n",
    "  - __Т.к. клиенту важны качество и скорость предсказания модели, рекомендуем введение обязательных для заполнения полей и конечных списков для выбора характеристик автомобиля, т.к. минимизация пропусков путём сбора качественных данных представляется более эффективной стратегией, чем__\n",
    "    - __снижающая точность импутация случайными и пр. значениями;__\n",
    "    - __снижающая точность, ресурсо- и времязатратная импутация с помощью алгоритмов МО (e.g. множественная импутации MICE).__\n",
    "<br><br>\n",
    "\n",
    "- Общий процент объёктов с пропусками ~ 31%. <br>\n",
    "Данных, не учитывая пропуски и аномалии, достаточно для обучения моделей. <br>\n",
    "- Признак `model`: тип пропусков - `MCAR`.\n",
    "  - Удалим пропуски и рекомендуем сделать выбор модели автомобиля обязательным, т.к.\n",
    "    - корреляция с признаком `brand` не означает каузацию и предсказать модель по марке невозможно;\n",
    "    - заполнение самыми частыми значениями по марке исказит данные;\n",
    "    - пропусков относительно немного ~ 5%.<br>\n",
    "- Признак `vehicle_type`: тип пропусков - `MAR`/`MCAR`.<br>\n",
    "  Пропуски необходимо удалить, т.к.\n",
    "  - замена пропусков на значение `other` может исказить данные, т.к. значение может означать, например, модификацию кузова.\n",
    "  - точное заполнение на основании марки и модели невозможно, т.к. в пределах одной марки и модели автомобиля тип кузова различается.\n",
    "- Признак `gearbox`: тип пропусков - `MCAR`.\n",
    "<br>Пропуски необходимо удалить, т.к. ни сильной корреляции ни смысловой связи с другими признаками установить не удалось (на одной модели коробка передач может различаться).\n",
    "- Признак `fuel_type`: тип пропусков - `MCAR` <br>\n",
    "Пропуски необходимо удалить, т.к. тип топлива одной модели автомобиля может отличаться в зависимости от разных лет выпуска или модификаций.\n",
    "- Признак `repaired`: тип пропусков - `MCAR`. <br>\n",
    "Пропуски необходимо удалить т.к.причинами пропусков могут быть\n",
    "    - нежелание владельцев указывать проведение ремонта, снижая цену;\n",
    "    - пропуск параметра владельцами, которые не ремонтировали автомобиль.\n",
    " <br><br>\n",
    "\n",
    "\n",
    "#### Дубликаты в данных.\n",
    "- Обнаружено 4 явных дубликата, которые будут удалены в разделе [предобработки данных](#Предобработка-данных.).\n",
    "- Признак `power`: обнаружен смысловой дубликат.<br>\n",
    "Заменим `petrol` на `gasoline`, т.к. эти значения полностью идентичны по смыслу.\n",
    "\n",
    "\n",
    "#### Корреляция признаков / мультиколлинеарность.\n",
    "- Обнаружена мультиколлинеарность пар признаков\n",
    "  - `model` / `vehicle_type`;\n",
    "  - `model` / `brand`.<br>\n",
    "  Необходимо определить важность признаков для модели линейной регрессии и удалить/преобразовать парный.\n",
    "<br><br>\n",
    "\n",
    "-----------------------------------------------------------------------\n",
    "#### Анализ признаков.\n",
    "\n",
    "- Целевой признак `price`:\n",
    "  - Распределение ненормально, имеет положительную ассиметрию.\n",
    "  - Высокое стандартное отклонение (~`4514` евро), скорее всего, осложнит работу алгоритмов.\n",
    "    - Возможно удаление выбросов или трансформация распределения, например квантильная.\n",
    "  - Относительно небольшое кол-во уникальных значений непрерывного количественного признака вместе с повторяющимся рисунком в распределении значений могут говорить о синтетической природе данных и/или о временной зависимости, которую не представляется возможным определить по имеющимся данным.\n",
    "- Признак `power`.\n",
    "  - Распределение ненормально с сильной положительной ассиметрией.\n",
    "  - Корреляция с целевым и другими признаками отсутствует.\n",
    "- Признак `kilometer`.\n",
    "  - Распределение признака показывает, что автомобилей с пробегом за 100 тыс.км. больше, чем остальных вместе.\n",
    "- \"Портрет\" типичного автомобиля на платформе (признаки `vehicle_type`, `gearbox`, `fuel_type`, `repaired`, `brand` и `model`).\n",
    "  - Наиболее распространены автомобили со следующими характеристиками:\n",
    "\t- тип кузова - седан и малые авто;\n",
    "\t- коробка передач - механическая;\n",
    "\t- тип топлива - бензин;\n",
    "\t- марка и модель - Volkswagen Golf.\n",
    "  - Наиболее дорогие автомобили имеют следующие характеристики:\n",
    "    - тип кузова - кроссовер;\n",
    "\t- коробка передач - автоматическая;\n",
    "\t- тип топлива - гибридный;\n",
    "\t- марка - Porsche и Land Rover;\n",
    "\t- модель - Mercedes-Benz GL.\n",
    "- Признаки `registration_year`.\n",
    "  - Присутствует небольшая корреляция с целевым признаком.\n",
    "- Признак `postal_code`.\n",
    "  - Признак мог бы быть полезен, т.к. цена автомобиля может меняться в зависимости от нас. пункта. Но, т.к. страна не определена, представляется возможным только проверить корреляцию после трансформации целевого признака, и при её отсутствии удалить признак.\n",
    "  \n"
   ]
  },
  {
   "cell_type": "markdown",
   "metadata": {
    "id": "lYrN4x9xDVQO"
   },
   "source": [
    "<div class=\"alert alert-block alert-success\">\n",
    "<b>Успех:</b> Проведен замечательный осмотр данных, добавить нечего!\n",
    "</div>"
   ]
  },
  {
   "cell_type": "markdown",
   "metadata": {
    "id": "Z8PYhHkKDVQO"
   },
   "source": [
    "\n",
    "<div class=\"alert alert-block alert-info\">\n",
    "<b>Совет:</b>\n",
    "\n",
    " Советую обратить внимание на библиотеки sweetviz и pandas_profiling могут помочь ознакомиться с данными перед проведением  тщательного EDA анализа. Исследовательский анализ можно делать и с помощью ручного вызова функций дефолтных библиотек. Данные библиотеки хороши для максимизации комфорта презентации результатов анализа бизнес-пользователям.\n",
    "    \n",
    "Очень просты в использоовании, на вход кладется датафрейм: pandas_profiling.ProfileReport(df)\n",
    "</div>\n",
    "\n"
   ]
  },
  {
   "cell_type": "markdown",
   "metadata": {
    "id": "B1JT1K2zDVQO"
   },
   "source": [
    "<div class=\"alert alert-block alert-warning\">\n",
    "<b>Комментарий студента:</b> Спасибо, с библиотеками знаком. Хочется набивать руку и практиковаться как можно больше.\n",
    "</div>"
   ]
  },
  {
   "cell_type": "markdown",
   "metadata": {
    "id": "90-VTtNtDVQO"
   },
   "source": [
    "<div class=\"alert alert-block alert-success\">\n",
    "    \n",
    "<b>Успех[2]:</b> Верно, во время обучения не злоупотреблять, чтобы руки не забыл как делать EDA анализ)\n",
    "</div>\n"
   ]
  },
  {
   "cell_type": "markdown",
   "metadata": {
    "id": "3SPVa4lMfZrW"
   },
   "source": [
    "## Подготовка данных."
   ]
  },
  {
   "cell_type": "markdown",
   "metadata": {
    "id": "0TUaVqg1fdLl"
   },
   "source": [
    "### Обработка аномалий.\n"
   ]
  },
  {
   "cell_type": "markdown",
   "metadata": {
    "id": "7UwOsvBOAFVE"
   },
   "source": [
    "#### Признак `price`.\n",
    "- Удалим объекты с нулевыми и аномальными значениями цены. <br>\n",
    "За аномальные примем значения менее `100` евро, т.к. большинство цен в анкетах с такими значениями невалидны.\n",
    "- Проверим результат.\n"
   ]
  },
  {
   "cell_type": "code",
   "execution_count": null,
   "metadata": {
    "colab": {
     "base_uri": "https://localhost:8080/"
    },
    "executionInfo": {
     "elapsed": 7,
     "status": "ok",
     "timestamp": 1699807705034,
     "user": {
      "displayName": "S K",
      "userId": "16311672911204145470"
     },
     "user_tz": -180
    },
    "id": "ej2lJzUchLSU",
    "outputId": "ede9ec43-b28e-43a2-d152-12ab11228fe3"
   },
   "outputs": [],
   "source": [
    "# Удалим объекты с ценой менее 100 евро и проверим рез-тат.\n",
    "df.drop(df[df['price'] < 100].index, axis=0, inplace=True)\n",
    "print('Количество объектов с ценой менее 100 евро после удаления: '+\n",
    "      f'{sum(df[\"price\"] < 100)}.')\n",
    "print(f'\\nУдалено объектов: {del_counter - df.shape[0]}.')\n",
    "del_counter -= (del_counter - df.shape[0])"
   ]
  },
  {
   "cell_type": "markdown",
   "metadata": {
    "id": "bWB4lP3zDVQP"
   },
   "source": [
    "\n",
    "<div class=\"alert alert-block alert-success\">\n",
    "<b>Успех:</b>  Самое интересное, что на нескольких сайтов по продажам подержанных автомобилей в Германии (страну можно определить по почтовым индексам, большинство из них из Германии) показало, что цены начинаются действительно с 0 и 1 евро, но это единичные объявления и не понятно, то ли это ошибка при заполнении формы, то ли машины на металлолом. Но я  все-таки склоняюсь к тому, чтобы избавиться от таких данных\n",
    "</div>"
   ]
  },
  {
   "cell_type": "markdown",
   "metadata": {
    "id": "dssNckAFDVQP"
   },
   "source": [
    "<div class=\"alert alert-block alert-warning\">\n",
    "<b>Комментарий студента:</b> Мне показалось, что похоже на Германию, но смутило меньшинство индексов.\n",
    "</div>"
   ]
  },
  {
   "cell_type": "markdown",
   "metadata": {
    "id": "b_6YYuVameyu"
   },
   "source": [
    "#### Признак `power`.\n",
    "- __ВЕРСИЯ 2:__ Нулевые значения могут означать отсутствие двигателя. Оставим их без изменений.\n",
    "- Заменим значения более 500 л.с. медианным значением по модели для имеющихся моделей и удалим остальные объекты.\n",
    "- Проверим результат."
   ]
  },
  {
   "cell_type": "code",
   "execution_count": null,
   "metadata": {
    "colab": {
     "base_uri": "https://localhost:8080/"
    },
    "executionInfo": {
     "elapsed": 5,
     "status": "ok",
     "timestamp": 1699807705034,
     "user": {
      "displayName": "S K",
      "userId": "16311672911204145470"
     },
     "user_tz": -180
    },
    "id": "6WS5_bdxduG7",
    "outputId": "4110ed55-5640-4d88-e858-5817e004de2b",
    "scrolled": true
   },
   "outputs": [],
   "source": [
    "# Заменим значения более 500 л.с. и нулевые медианным значением по модели.\n",
    "# df.loc[(df['power'] == 0) | (df['power'] > 500), 'power'] = np.nan\n",
    "df.loc[df['power'] > 500, 'power'] = np.nan\n",
    "df['power'].fillna(df.groupby('model')['power'].transform('median'),\n",
    "                   inplace=True)\n",
    "\n",
    "# Удалим оставшиеся объекты.\n",
    "df.dropna(subset='power', inplace=True)\n",
    "\n",
    "# Проверим рез-тат.\n",
    "# print('Кол-во объектов с мощностью 0 и более 500 после удаления: '+\n",
    "#       f'{sum(df[\"power\"] == 0) + sum(df[\"power\"] > 500)}')\n",
    "print('Кол-во объектов с мощностью более 500 после удаления: '+\n",
    "      f'{sum(df[\"power\"] > 500)}')\n",
    "print(f'\\nУдалено объектов: {del_counter - df.shape[0]}.')\n",
    "del_counter -= (del_counter - df.shape[0])"
   ]
  },
  {
   "cell_type": "markdown",
   "metadata": {
    "id": "f_5i8XvrDVQQ"
   },
   "source": [
    "<div class=\"alert alert-block alert-info\">\n",
    "<b>Совет:</b>  Вопрос на подумать: Как думаешь а машины с 0-ой мощностью могут быть просто без двигателя?\n",
    "</div>"
   ]
  },
  {
   "cell_type": "markdown",
   "metadata": {
    "id": "6engE8giDVQQ"
   },
   "source": [
    "<div class=\"alert alert-block alert-warning\">\n",
    "<b>Комментарий студента:</b> Интересная мысль! Такой вариант не пришёл в голову.)\n",
    "</div>\n",
    "<div class=\"alert alert-block alert-warning\">\n",
    "<b>Изменения:</b> Отменил удаление 0-ых значений.\n",
    "</div>"
   ]
  },
  {
   "cell_type": "markdown",
   "metadata": {
    "id": "wdOOKiP5DVQQ"
   },
   "source": [
    "<div class=\"alert alert-block alert-success\">\n",
    "    \n",
    "<b>Успех[2]:</b> Но это был не призыв к действию. Тут встает вопрос, если эта гипотеза верная, то нужны ли нам такие авто для предсказания ?)\n",
    "</div>\n"
   ]
  },
  {
   "cell_type": "markdown",
   "metadata": {
    "id": "2qqmgSlRAEny"
   },
   "source": [
    "#### Признак `registration_year`:\n",
    "- Удалим записи с датой регистрации позже `03.2016`, т.к. анкеты, созданные позже не могли попасть в датасет и .\n",
    "- Удалим записи с годом регистрации до `1950`, т.к. автомобили, произведённые ранее, скорее находятся в музеях.\n",
    "- Проверим результат."
   ]
  },
  {
   "cell_type": "code",
   "execution_count": null,
   "metadata": {
    "colab": {
     "base_uri": "https://localhost:8080/"
    },
    "executionInfo": {
     "elapsed": 4,
     "status": "ok",
     "timestamp": 1699807705034,
     "user": {
      "displayName": "S K",
      "userId": "16311672911204145470"
     },
     "user_tz": -180
    },
    "id": "5OCqYvYrq6Pj",
    "outputId": "5c0aaf70-6aa8-44d1-fb3c-1ba34289ec09"
   },
   "outputs": [],
   "source": [
    "# Удалим записи с датой регистрации до 1950 и позже 03.2016.\n",
    "df.drop(\n",
    "    df.loc[(df['registration_year'] == 2016) &\\\n",
    "           (df['registration_month'] > 3) |\\\n",
    "           (df['registration_year'] > 2016) &\\\n",
    "           (df['registration_year'] < 1950)].index,\n",
    "    axis=0,\n",
    "    inplace=True\n",
    "    )\n",
    "\n",
    "print('Кол-во объектов в условном срезе после удаления: ',\n",
    "      sum(sum([(df['registration_year'] == 2016) &\\\n",
    "               (df['registration_month'] > 3) |\\\n",
    "               (df['registration_year'] > 2016) &\\\n",
    "               (df['registration_year'] < 1950)])))\n",
    "\n",
    "print(f'\\nУдалено объектов: {del_counter - df.shape[0]}.')\n",
    "del_counter -= (del_counter - df.shape[0])"
   ]
  },
  {
   "cell_type": "markdown",
   "metadata": {
    "id": "IrcoiEfmDVQR"
   },
   "source": [
    "\n",
    "<div class=\"alert alert-block alert-success\">\n",
    "<b>Успех:</b> С границами согласен\n",
    "</div>"
   ]
  },
  {
   "cell_type": "markdown",
   "metadata": {
    "id": "q1RQYtNB_6HM"
   },
   "source": [
    "### Удаление неинформативных признаков."
   ]
  },
  {
   "cell_type": "markdown",
   "metadata": {
    "id": "uxImDJ7z_vQA"
   },
   "source": [
    "#### Функция удаления признаков.\n",
    "Создадим функцию удаления признаков с проверкой на явные дубликаты после каждого удаления.\n",
    "- Функция примет датафрейм и названия признаков, которые необходимо удалить;\n",
    "- Функция проверит наличие явных дубликатов перед удалением признаков и после каждогот удадения.\n",
    "- Функция вернет датафрейм без удалённых признаков."
   ]
  },
  {
   "cell_type": "code",
   "execution_count": null,
   "metadata": {
    "id": "c9NE9kFTV3v3"
   },
   "outputs": [],
   "source": [
    "# Функция удаления признаков с проверкой на явные дубликаты.\n",
    "def drop_cols(data: pd.DataFrame(), cols):\n",
    "    '''\n",
    "    Drops feature(s) with exact duplicates check.\n",
    "    Prints out exact duplicates number for each new resulting dataframe after\n",
    "    every iteration.\n",
    "    Prints out the total of deleted features and names of features in the\n",
    "    resulting dataset.\n",
    "    Returns original dataset without dropped fetures.\n",
    "    - Arguments:\n",
    "    - data: pd.DataFrame(). Dataset to drop the feature(s) from.\n",
    "    - cols: str | list. Name or names of features to drop.\n",
    "    '''\n",
    "\n",
    "    # Проверим входные данные.\n",
    "    cols = [cols] if isinstance(cols, str) else cols\n",
    "\n",
    "    # Запишем начальное кол-во признаков.\n",
    "    ORIGINAL_SHAPE = data.shape\n",
    "\n",
    "    # Выведем начальные данные.\n",
    "    print(f'Начальное кол-во признаков: {ORIGINAL_SHAPE[1]}.')\n",
    "    print('Начальное кол-во явных дубликатов: '+\n",
    "          f'{data.duplicated().sum()}.\\n------')\n",
    "\n",
    "    # Удалим признаки, выводя прирост дубликатов.\n",
    "    for col in cols:\n",
    "        exact_dupl = data.duplicated().sum()\n",
    "        data.drop(col, axis=1, inplace=True)\n",
    "        exact_dupl = data.duplicated().sum() - exact_dupl\n",
    "        print(f'Удалён признак \"{col}\". Прирост явных дубликатов после '+\n",
    "            f'удаления: {exact_dupl}.\\n-----')\n",
    "\n",
    "    # Выведем результат работы и итоговый датафрейм.\n",
    "    print('Общее кол-во явных дубликатов в финальном датафрейме: '\n",
    "          f'{data.duplicated().sum()}.')\n",
    "    print(f'Удалено признаков: {ORIGINAL_SHAPE[1] - data.shape[1]}. \\nСписок '+\n",
    "          'признаков после удаления:')\n",
    "    display(str(list(data.columns)).strip(\"'[]\"))\n",
    "\n",
    "    return data"
   ]
  },
  {
   "cell_type": "markdown",
   "metadata": {
    "id": "D8sXr2-d_qap"
   },
   "source": [
    "- Вызовем функцию и удалим признаки, не несущие информации необходимой для построения моделей:\n",
    "  - `date_crawled`;\n",
    "  - `registration_month`;\n",
    "  - `date_created`;\n",
    "  - `number_of_pictures`;\n",
    "  - `last_seen`.\n",
    "  "
   ]
  },
  {
   "cell_type": "code",
   "execution_count": null,
   "metadata": {
    "colab": {
     "base_uri": "https://localhost:8080/",
     "height": 313
    },
    "executionInfo": {
     "elapsed": 3019,
     "status": "ok",
     "timestamp": 1699807708420,
     "user": {
      "displayName": "S K",
      "userId": "16311672911204145470"
     },
     "user_tz": -180
    },
    "id": "zZzRFcMPRr7N",
    "outputId": "8af805a6-a2e6-49d2-d011-662ba5a484d6"
   },
   "outputs": [],
   "source": [
    "# Удалим признаки и проверим результат.\n",
    "df = drop_cols(df, ['date_crawled', 'registration_month',\n",
    "                    'date_created', 'number_of_pictures',\n",
    "                    'last_seen'])"
   ]
  },
  {
   "cell_type": "markdown",
   "metadata": {
    "id": "OIg5L9csaUeX"
   },
   "source": [
    "#### Удаление признаков. Вывод.\n",
    "- Было удалено 5 неинформативных признаков, каждый из которых являлся источником явных дубликатов для каждого из сокращённых датафреймов:\n",
    "  - `date_crawled`;\n",
    "  - `registration_month`;\n",
    "  - `date_created`;\n",
    "  - `number_of_pictures`;\n",
    "  - `last_seen`.\n",
    "- Признак `last_seen` маскировал наибольшее кол-во дубликатов и в будущем должен быть удалён до любых операций с датасетом.\n",
    "- Признак `postal_code` будет обработан в разделе [\"Тестирование базовых моделей.\"](#Тестирование-базовых-моделей.)"
   ]
  },
  {
   "cell_type": "markdown",
   "metadata": {
    "id": "BF2YYlkoDVQS"
   },
   "source": [
    "\n",
    "<div class=\"alert alert-block alert-success\">\n",
    "<b>Успех:</b> Согласен с перечнем неинформативных\n",
    "</div>\n"
   ]
  },
  {
   "cell_type": "markdown",
   "metadata": {
    "id": "lo0grwGxfkrM"
   },
   "source": [
    "### Обработка дубликатов.\n",
    "- Удалим явные дубликаты.\n",
    "- Заменим смысловой дубликат `petrol` в признаке ___ВЕРСИЯ2___:`fuel_type` на `gasoline`, т.к. эти значения полностью идентичны по смыслу.\n",
    "- Проверим результат."
   ]
  },
  {
   "cell_type": "markdown",
   "metadata": {
    "id": "suKqf1r5DVQS"
   },
   "source": [
    "<div class=\"alert alert-block alert-warning\">\n",
    "<b>Изменения:</b> Исправил ошибку в описании пункта 7.3: заменил `power` на `fuel_type`.\n",
    "</div>"
   ]
  },
  {
   "cell_type": "markdown",
   "metadata": {
    "id": "FyPsAKvGDVQS"
   },
   "source": [
    "<div class=\"alert alert-block alert-success\">\n",
    "    \n",
    "<b>Успех[2]:</b> 👍\n",
    "</div>\n"
   ]
  },
  {
   "cell_type": "code",
   "execution_count": null,
   "metadata": {
    "colab": {
     "base_uri": "https://localhost:8080/",
     "height": 122
    },
    "executionInfo": {
     "elapsed": 398,
     "status": "ok",
     "timestamp": 1699807708815,
     "user": {
      "displayName": "S K",
      "userId": "16311672911204145470"
     },
     "user_tz": -180
    },
    "id": "cPLv7lnpajoE",
    "outputId": "9ef9076e-297e-4f30-a611-887b7d8be51e"
   },
   "outputs": [],
   "source": [
    "# Удалим явные дубликаты.\n",
    "df.drop_duplicates(inplace=True)\n",
    "print(f'Явных дубликатов после удаления: {df.duplicated().sum()}.')\n",
    "print(f'\\nУдалено объектов: {del_counter - df.shape[0]}.')\n",
    "del_counter -= (del_counter - df.shape[0])\n",
    "\n",
    "# Заменим petrol на gasoline.\n",
    "df['fuel_type'] = df['fuel_type'].where(df['fuel_type'] != 'petrol', 'gasoline')\n",
    "print('\\nУникальные значения признака `fuel_type` после замены:')\n",
    "display(str(list(df['fuel_type'].unique())).strip(\"'[]\"))"
   ]
  },
  {
   "cell_type": "markdown",
   "metadata": {
    "id": "MBs4ru4efgat"
   },
   "source": [
    "### Обработка пропусков.\n",
    "- Удалим пропуски в признаках\n",
    "  - `model`;\n",
    "  - `vehicle_type`;\n",
    "  - `gearbox`;\n",
    "  - `fuel_type`;\n",
    "  - `repaired`.\n",
    "- Проверим результат.\n",
    "- Проверим сохранены ли категории после удаления объектов."
   ]
  },
  {
   "cell_type": "code",
   "execution_count": null,
   "metadata": {
    "colab": {
     "base_uri": "https://localhost:8080/"
    },
    "executionInfo": {
     "elapsed": 572,
     "status": "ok",
     "timestamp": 1699807709385,
     "user": {
      "displayName": "S K",
      "userId": "16311672911204145470"
     },
     "user_tz": -180
    },
    "id": "SQeZemVoBdJt",
    "outputId": "7d2e51c0-22b4-49fb-be17-225e6b074dec"
   },
   "outputs": [],
   "source": [
    "# Удалим пропуски и проверим результат.\n",
    "df.dropna(inplace=True)\n",
    "\n",
    "print(f'\\nУдалено объектов: {del_counter - df.shape[0]}.')\n",
    "del_counter -= (del_counter - df.shape[0])\n",
    "print(f'Кол-во пропусков в очищенном датафрейме: {df.isna().sum().sum()}')\n",
    "print('\\n' + '~' * 70 + '\\n')\n",
    "\n",
    "# Проверим сохранены ли категории после удаления объектов.\n",
    "print('Сохранность категорий по признакам:')\n",
    "preproc_nunique_per_col = {col : df[col].nunique() for col in df.columns}\n",
    "preproc_nunique_per_col = {key : NUNIQUE_PER_COL[key] -\\\n",
    "                           preproc_nunique_per_col.get(key, 0)\\\n",
    "                           for key in preproc_nunique_per_col.keys()}\n",
    "for k, v in preproc_nunique_per_col.items():\n",
    "    if v >= 0:\n",
    "        print(f'- признак \"{k}\" - категории сохранены.')\n",
    "    else:\n",
    "        print(f'- признак \"{k}\" - категории не сохранены. Кол-во потерь:', v)"
   ]
  },
  {
   "cell_type": "markdown",
   "metadata": {
    "id": "z519UzW-EZw2"
   },
   "source": [
    "#### Обработка пропусков. Вывод.\n",
    "- После анализа явных пропусков, можно сделать вывод о том, что единственной осмысленной стратегией в данном случае является анализ полных данных с полным удалением пропусков.\n",
    "- Было удалено все объекты с пропусками."
   ]
  },
  {
   "cell_type": "markdown",
   "metadata": {
    "id": "ZmgUmxn9DVQT"
   },
   "source": [
    "<div class=\"alert alert-block alert-danger\">\n",
    "<b>Ошибка:</b> Как по мне, удаляется слишком большое количество данных, может сможешь найти другой подход к обработке пропусков?\n",
    "</div>\n",
    "\n",
    "\n",
    "<div class=\"alert alert-block alert-info\">\n",
    "<b>Совет:</b> У fuel_type есть категории, которые означают одно и тоже - их можно объединить, либо подумать может они действительно означают, что-то разное.\n",
    "</div>\n"
   ]
  },
  {
   "cell_type": "markdown",
   "metadata": {
    "id": "92W2fElTDVQT"
   },
   "source": [
    "<div class=\"alert alert-block alert-warning\">\n",
    "<b>Комментарий студента:</b>\n",
    "    \n",
    "- По пропускам, честно говоря, кроме следующих вариантов, ничего в голову не приходит:\n",
    "  - Если ты имеешь ввиду заполнение на основе смысла данных:\n",
    "    - `vehicle_type`, `gearbox`, `fuel_type` по `model` - проверил: прямого соответствия нет, заполнять, кажется, можно только модой по группировке категории;\n",
    "    - `model` по `brand` - то же;\n",
    "    - `repaired` - точно сказать, что пропуски означают, что ремонт не проводился, нельзя.\n",
    "    - Можно найти доп. датасет / API по характеристиками авто и частично заполнить оттуда.\n",
    "  - Если ты имеешь ввиду заполнение заглушкой/модой/медианой/средним/случайным/предыдущими/последующими/алгоритмами МО, я исхожу из логики, что заполнение пропусков и аномальных значений без смыслового обоснования приведёт к искажению и потере смысла данных, и такое заполнение имеет оправдание, может быть, когда наблюдений/сэмплов критически мало. Верно?<br>\n",
    "    Перефразируя коментарий в ревью одного из проектов: в случае, например, предсказания анализа рака у пациента, можно ли заполнять пропуски не основываясь на смысле данных, анализах и пр.?\n",
    "  - Буду благодарен, если посоветуешь что-то, т.к. тема важная, хлеб джуна, говорят).<br><br>\n",
    "    \n",
    "- По признаку `fuel_type`:\n",
    "  - Если под категориями с одинаковым смыслом ты имеешь ввиду `petrol` и `gasoline`, `gasoline` был заменён на `petrol` в пункте 7.3. Была ошибка в названии признака в текстовом описании, которую исправил.\n",
    "  - `petrol` и `gasoline` - не одно и тоже?)\n",
    "</div>"
   ]
  },
  {
   "cell_type": "markdown",
   "metadata": {
    "id": "RDeo9_2JDVQT"
   },
   "source": [
    "<div class=\"alert alert-block alert-success\">\n",
    "    \n",
    "<b>Успех[2]:</b>\n",
    "    \n",
    "- Да, все, что ты написал, имеет логику. Поэтому стратегии их заполнения на\n",
    "обучении модели и в процессе предсказания на валидацинной/тестовой выборках должны быть\n",
    "разными. На обучении объекты с пропусками в некоторых важных признаках можно\n",
    "и удалить для построения более точной модели, а на тестировании пропуски следует\n",
    "заполнять, ведь в общем случае мы не можем отказать клиенту в рекомендации, если\n",
    "он не заполнил все сведения об автомобиле (хотя можем и потребовать).\n",
    "    \n",
    "Я бы заполнял по следующему принципу\n",
    "- Пропуски в \"Model\" (модель автомобиля) на обучающей выборке удаляем, на\n",
    "тестовой заполняем наиболее частой моделью для указанного \"Brand\" (марка\n",
    "автомобиля) в соответствующий год регистрации.\n",
    "-  Пропуски в \"VehicleType\" (тип автомобильного кузова) заполняем наиболее частым\n",
    "значением для соответствующих Brand, Model и года регистрации.\n",
    "-  Пропуски в \"Gearbox\" (тип коробки передач) и \"FuelType\" (тип топлива), заполняем\n",
    "по наиболее частым значениям в автомобилях, сгруппированных по указанным выше\n",
    "признакам.\n",
    "- Пропуски \"Repaired\" (была машина в ремонте или нет) заполняем наиболее\n",
    "частым значением среди автомобилей той же марки и года регистрации.\n",
    "</div>\n"
   ]
  },
  {
   "cell_type": "markdown",
   "metadata": {
    "id": "osXgSQJrdFkg"
   },
   "source": [
    "- Подведём итоги очистки данных."
   ]
  },
  {
   "cell_type": "code",
   "execution_count": null,
   "metadata": {
    "colab": {
     "base_uri": "https://localhost:8080/"
    },
    "executionInfo": {
     "elapsed": 6,
     "status": "ok",
     "timestamp": 1699807709634,
     "user": {
      "displayName": "S K",
      "userId": "16311672911204145470"
     },
     "user_tz": -180
    },
    "id": "mF5qotSqFKVh",
    "outputId": "b0179a18-c063-4615-8a77-4c961bf99a4f"
   },
   "outputs": [],
   "source": [
    "print('Итого удалённых объектов: '+\n",
    "      f'{(ORIGINAL_SHAPE[0] - df.shape[0]) / ORIGINAL_SHAPE[0]:.2%}')\n",
    "print('Итого удалённых признаков: '+\n",
    "      f'{ORIGINAL_SHAPE[1] - df.shape[1]}')"
   ]
  },
  {
   "cell_type": "markdown",
   "metadata": {
    "id": "hjdjcfO8FAQI"
   },
   "source": [
    "### Предобработка данных. Вывод.\n",
    "- Были частично заполнены и удалены аномальные значения и неявные пропуски.\n",
    "- Были удалены неинформативные признаки.\n",
    "- Были удалены явные дубликаты.\n",
    "- Были полностью удалены явные пропуски.\n",
    "- Признак `postal_code` будет обработан в разделе [\"Тестирование базовых моделей.\"](#Тестирование-базовых-моделей.)"
   ]
  },
  {
   "cell_type": "markdown",
   "metadata": {
    "id": "RrpmfuN6DVQU"
   },
   "source": [
    "<div class=\"alert alert-block alert-success\">\n",
    "<b>Успех:</b> А так в целом - ты молодец! Очень хорошая, детальная предобработка - идем дальше\n",
    "</div>\n"
   ]
  },
  {
   "cell_type": "markdown",
   "metadata": {
    "id": "7PcB6jBNpfyS"
   },
   "source": [
    "## Разделение на выборки."
   ]
  },
  {
   "cell_type": "markdown",
   "metadata": {
    "id": "IRQjB1CxhDmc"
   },
   "source": [
    "#### Функция разделения на выборки.\n",
    "- Разделим данные на обучающую, тренировочную и тестовую выборки.\n",
    "- Проверим результат."
   ]
  },
  {
   "cell_type": "code",
   "execution_count": null,
   "metadata": {
    "id": "Xtr6a6AvhHo3"
   },
   "outputs": [],
   "source": [
    "### Функция разделения на выборки с использованием train_test_split.\n",
    "def tts_strat_split(data : pd.DataFrame,\n",
    "                    target : str,\n",
    "                    train_ratio : int or float,\n",
    "                    val_ratio : int or float,\n",
    "                    test_ratio: int or float,\n",
    "                    stratify=False,\n",
    "                    show_results=True):\n",
    "    \"\"\"\n",
    "    Splits dataframe into train, test and optionally validation sets\n",
    "    with or w/o stratification using test_train_split 1 or 2 times.\n",
    "    If validation set is not required, input `val_ratio=0`.\n",
    "\n",
    "    Parameters:\n",
    "    - data: dataframe.\n",
    "    - target: target column in quotes. Must be binary.\n",
    "    - train_ratio, val_ratio, test_ratio: subset ratios. Must be same format :\n",
    "    int or float.\n",
    "    - stratify: bool.\n",
    "    - show_results: bool.\n",
    "    \"\"\"\n",
    "    # Зададим значения генератора псевдосл. чисел.\n",
    "    np.random.seed(42)\n",
    "\n",
    "    # Проверка формата целевого признака.\n",
    "    if not isinstance(target, str) or target not in data.columns:\n",
    "        raise ValueError('Датафрейм или название целевого признака ' +\n",
    "                         'указаны неверно.\\nПараметры функции: (датафрейм, ' +\n",
    "                         '\"целевой признак\", размер обучающей выборки, ' +\n",
    "                         'размер валидационной выборки (опционально), ' +\n",
    "                         'размер тестовой выборки.).')\n",
    "\n",
    "    # Запишем признаки в переменные.\n",
    "    X = data.drop(target, axis=1)\n",
    "    y = data[target]\n",
    "\n",
    "    # Обработем доли, указанные в целочисленном формате.\n",
    "    if sum([train_ratio, val_ratio, test_ratio]) == 10:\n",
    "        train_ratio /= 10\n",
    "        test_ratio /= 10\n",
    "        val_ratio = 0 if val_ratio == 0 else val_ratio / 100\n",
    "\n",
    "    elif sum([train_ratio, val_ratio, test_ratio]) == 100:\n",
    "        train_ratio /= 100\n",
    "        test_ratio /= 100\n",
    "        val_ratio = 0 if val_ratio == 0 else val_ratio / 100\n",
    "\n",
    "    # Обработка долей, указанных как соотношение.\n",
    "    elif train_ratio + val_ratio + test_ratio == 1.0:\n",
    "        total = train_ratio + val_ratio + test_ratio\n",
    "        train_ratio /= total\n",
    "        val_ratio = val_ratio / total\n",
    "        test_ratio /= total\n",
    "\n",
    "    # Проверка соответствия суммы долей 1.\n",
    "    if round(sum([train_ratio, val_ratio, test_ratio]), 1) != 1:\n",
    "        raise ValueError('Введено неверное соотношение выборок.')\n",
    "\n",
    "    ## Разделим данные с помощью функции train_test_split из sklearn.\n",
    "    # Разделение без валидационной выборки.\n",
    "    if val_ratio == 0:\n",
    "        X_train, X_test, y_train, y_test = train_test_split(\n",
    "            X, y,\n",
    "            test_size=(1/(1-val_ratio)*test_ratio),\n",
    "            random_state=SEED,\n",
    "            stratify=(y if stratify == True else None)\n",
    "            )\n",
    "\n",
    "        # Сбросим индексы выборок.\n",
    "        for sample in [X_train, y_train, X_test, y_test]:\n",
    "            sample.reset_index(drop=True, inplace=True)\n",
    "\n",
    "        # Запись данных и индекса для таблицы проверки.\n",
    "        size_check = [data.drop(target, axis=1), X_train, X_test]\n",
    "        balance_check = [data[target], y_train, y_test]\n",
    "        index = ['Исходный датафрейм:', 'Обучающая выборка:',\n",
    "                 'Тестовая выборка:']\n",
    "\n",
    "    # Разделение с валидационной выборкой.\n",
    "    else:\n",
    "        X_t, X_val, y_t, y_val = train_test_split(\n",
    "            X, y,\n",
    "            test_size=val_ratio,\n",
    "            random_state=SEED,\n",
    "            stratify=(y if stratify == True else None)\n",
    "            )\n",
    "\n",
    "        X_train, X_test, y_train, y_test = train_test_split(\n",
    "            X_t, y_t,\n",
    "            test_size=(1/(1-val_ratio)*test_ratio),\n",
    "            random_state=SEED,\n",
    "            stratify=(y_t if stratify == True else None)\n",
    "            )\n",
    "\n",
    "        # Сбросим индексы выборок.\n",
    "        for sample in [X_train, y_train, X_val, y_val, X_test, y_test]:\n",
    "            sample.reset_index(drop=True, inplace=True)\n",
    "\n",
    "        # Запись данных и индекса для таблицы проверки.\n",
    "        size_check = [data.drop(target, axis=1), X_train, X_val, X_test]\n",
    "        balance_check = [data[target], y_train, y_val, y_test]\n",
    "        index = ['Исходный датафрейм:', 'Обучающая выборка:',\n",
    "                    'Валидационная выборка:', 'Тестовая выборка:']\n",
    "\n",
    "    if stratify:\n",
    "        ## Выведем таблицу проверки размерностей классов.\n",
    "        balance_list = []\n",
    "        for i in range(len(balance_check)):\n",
    "            balance_list.append(\n",
    "                [size_check[i].shape[0],\n",
    "                f'{(size_check[i].shape[0] / size_check[0].shape[0]):.1%}',\n",
    "                size_check[i].shape[1]]\n",
    "                )\n",
    "\n",
    "        cols = ['Кол-во объектов.', 'Процент объектов.', 'Кол-во признаков.']\n",
    "        display(\n",
    "            pd.DataFrame(balance_list, columns=cols,\n",
    "                        index=index)\n",
    "                .style\n",
    "                .set_caption('Результат разделения выборок.')\n",
    "                .set_table_styles(styles)\n",
    "        )\n",
    "\n",
    "        class_data = (\n",
    "            y_train\n",
    "            .value_counts(normalize=True)\n",
    "            .reset_index()\n",
    "            )\n",
    "\n",
    "        if val_ratio > 0:\n",
    "             class_data = class_data.merge(y_val\n",
    "                                           .value_counts(normalize=True)\n",
    "                                           .reset_index(),\n",
    "                                           on=target)\n",
    "\n",
    "        class_data = (\n",
    "            class_data\n",
    "            .merge(y_test.value_counts(normalize=True).reset_index(),\n",
    "                   on=target)\n",
    "            )\n",
    "\n",
    "        # Выведем проценты объектов по классам.\n",
    "        ax = class_data.plot.barh()\n",
    "        ax.bar_label(\n",
    "            ax.containers[0],\n",
    "            labels=list(class_data\n",
    "                        .drop(target, axis=1)\n",
    "                        .mean(axis=1)\n",
    "                        .map('{:.2%}'.format))\n",
    "            )\n",
    "        ax.set_title('Проценты объектов по классам после разделения.\\n'+\n",
    "                     'Аннотации отображают средний процент.')\n",
    "        if val_ratio != 0:\n",
    "            ax.legend(['Обучающая', 'Валидационная', 'Тестовая'],\n",
    "                      title='Выборки:')\n",
    "        else:\n",
    "            ax.legend(['Обучающая', 'Тестовая'], title='Выборки:')\n",
    "        ax.xaxis.set_major_formatter(tick.PercentFormatter(xmax=1))\n",
    "        ax.set_yticklabels(class_data[target])\n",
    "        plt.show();\n",
    "    else:\n",
    "        ## Выведем таблицу проверки размерностей.\n",
    "        balance_list = []\n",
    "        for i in range(len(balance_check)):\n",
    "            balance_list.append(\n",
    "                [size_check[i].shape[0],\n",
    "                f'{(size_check[i].shape[0] / size_check[0].shape[0]):.1%}',\n",
    "                size_check[i].shape[1]]\n",
    "            )\n",
    "\n",
    "        cols = pd.MultiIndex.from_tuples([\n",
    "            ('Кол-во объектов.', ''),\n",
    "            ('Процент объектов.', ''),\n",
    "            ('Кол-во признаков.', ''),\n",
    "            ])\n",
    "\n",
    "        display(\n",
    "            pd.DataFrame(balance_list, columns=cols, index=index)\n",
    "            .style\n",
    "            .set_caption('Результат разделения выборок.')\n",
    "            .set_table_styles(styles)\n",
    "        )\n",
    "\n",
    "    ## Выведем результирующие выборки.\n",
    "    if val_ratio != 0:\n",
    "        return (X_train, X_val, X_test, y_train, y_val, y_test)\n",
    "    else:\n",
    "        return (X_train, X_test, y_train, y_test)"
   ]
  },
  {
   "cell_type": "markdown",
   "metadata": {
    "id": "UG09PiG4ov_i"
   },
   "source": [
    "#### Разделение на выборки."
   ]
  },
  {
   "cell_type": "code",
   "execution_count": null,
   "metadata": {
    "colab": {
     "base_uri": "https://localhost:8080/",
     "height": 228
    },
    "executionInfo": {
     "elapsed": 5,
     "status": "ok",
     "timestamp": 1699807709634,
     "user": {
      "displayName": "S K",
      "userId": "16311672911204145470"
     },
     "user_tz": -180
    },
    "id": "WBXk86cfaLIg",
    "outputId": "bba97d4b-571b-4415-f724-f0ff08cac1d9"
   },
   "outputs": [],
   "source": [
    "# Разделим даннные на выборки.\n",
    "(X_train, X_val, X_test,\n",
    " y_train, y_val, y_test) = tts_strat_split(df, 'price', .6, .2, .2)"
   ]
  },
  {
   "cell_type": "markdown",
   "metadata": {
    "id": "pvAfp7vDDVQV"
   },
   "source": [
    "<div class=\"alert alert-block alert-success\">\n",
    "<b>Успех:</b> С разбиением все в порядке"
   ]
  },
  {
   "cell_type": "markdown",
   "metadata": {
    "id": "NjPqPOJf1k_y"
   },
   "source": [
    "## Базовые модели. Тестирование гипотез.\n",
    "Установим параметры тестирования базовых моделей и зададим пайплайны обработки данных для всех алгоритмов.\n",
    "- За базовые модели примем относительно быстрые алогоритмы из библиотеки `Sklearn`:\n",
    "  - линейную регрессию `LinearRegression`\n",
    "    - категориальные признаки закодируем методом прямого кодирования;\n",
    "    - численные признаки смасштабируем;\n",
    "  - градиентный бустинг на основе гистограмм `HistGradientBoostingRegressor`\n",
    "    - категориальные признаки закодируем методом порядкового кодирования.\n",
    "- С помощью базовых моделей протестируем три гипотезы:\n",
    "  - улучшает ли признак `postal_code`  целевую метрику и/или время обучения/предсказания алгоритмов?\n",
    "  - улучшает целевую метрику и/или время обучения/предсказания алгоритмов создание нового предиктора на основе двух с идеальной попарной корреляцией?\n",
    "  - улучшает ли целевую метрику квантильное преобразование целевого признака?"
   ]
  },
  {
   "cell_type": "markdown",
   "metadata": {
    "id": "YbU1vTax3VXz"
   },
   "source": [
    "### Определение параметров тестирования.\n",
    "- Определим категориальные, количественные, целевой признаки и признак для проверки.\n",
    "- Определим базовые алгоритмы с гиперпараметрами по умолчанию и целевой метрикой - `RMSE`.\n",
    "- Определим базовую трансформацию признаков и пайплайны.\n",
    "- Определим основную функцию обучения базовых моделей."
   ]
  },
  {
   "cell_type": "code",
   "execution_count": null,
   "metadata": {
    "id": "XqUuwvPJ3bKT"
   },
   "outputs": [],
   "source": [
    "# Определим категориальные, количественные, целевой признаки и признак\n",
    "# для проверки.\n",
    "cat_cols = ['vehicle_type', 'gearbox', 'model',\n",
    "            'fuel_type', 'brand', 'repaired']\n",
    "num_cols = ['registration_year', 'power', 'kilometer', ]\n",
    "check_col = ['postal_code']\n",
    "target = 'price'\n",
    "\n",
    "# Определим базовый трансформер распределения целевого признака.\n",
    "qt = QuantileTransformer(n_quantiles=2000, output_distribution='normal',\n",
    "                         random_state=SEED)\n",
    "\n",
    "# Определим базовые алгоритмы.\n",
    "lr = LinearRegression()\n",
    "hgbr = HistGradientBoostingRegressor(random_state=SEED)\n",
    "\n",
    "# Определим базовую трансформацию признаков и пайплайны для лин. регрессии.\n",
    "col_trans_lr = ColumnTransformer(transformers=[\n",
    "    ('ohe', OneHotEncoder(handle_unknown='error', drop='first'), cat_cols),\n",
    "    ('scale', StandardScaler(), num_cols)\n",
    "    ], n_jobs=-1)\n",
    "\n",
    "lr_pipe = Pipeline(steps=[\n",
    "    ('col_trans_lr', col_trans_lr),\n",
    "    ('lr', lr)\n",
    "    ])\n",
    "\n",
    "lr_pipe_tt = TransformedTargetRegressor(regressor=lr_pipe, transformer=qt)\n",
    "\n",
    "# Определим базовую трансформацию признаков и пайплайны для градиентного\n",
    "# бустинга.\n",
    "col_trans_boost = ColumnTransformer(transformers=[\n",
    "    ('ord', OrdinalEncoder(handle_unknown='error'), cat_cols),\n",
    "    ], remainder='passthrough', n_jobs=-1)\n",
    "\n",
    "hgbr_pipe = Pipeline(steps=[\n",
    "    ('col_trans_boost', col_trans_boost),\n",
    "    ('hgbr', hgbr)\n",
    "    ])\n",
    "\n",
    "hgbr_pipe_tt = TransformedTargetRegressor(regressor=hgbr_pipe, transformer=qt)"
   ]
  },
  {
   "cell_type": "markdown",
   "metadata": {
    "id": "Zcyx3dezDVQW"
   },
   "source": [
    "<div class=\"alert alert-block alert-success\">\n",
    "<b>Успех:</b> Выбраны правильные препроцессоры"
   ]
  },
  {
   "cell_type": "markdown",
   "metadata": {
    "id": "Rg6qKEeIDVQW"
   },
   "source": [
    "<div class=\"alert alert-block alert-info\">\n",
    "    \n",
    "<b>Совет:</b> Также могу посоветовать интересный метод кодирования, который довольно качественно перформит `TargetEncoder`, к тому же он подходит для всех моделей в отличии от OHE/OE.\n",
    "</div>"
   ]
  },
  {
   "cell_type": "markdown",
   "metadata": {
    "id": "P_cmPW2PDVQW"
   },
   "source": [
    "\n",
    "<div class=\"alert alert-block alert-warning\">\n",
    "<b>Комментарий студента:</b> Большое спасибо за рекомендацию!\n",
    "</div>"
   ]
  },
  {
   "cell_type": "markdown",
   "metadata": {
    "id": "wlRM8oAHDVQW"
   },
   "source": [
    "\n",
    "<div class=\"alert alert-block alert-success\">\n",
    "    \n",
    "<b>Успех[2]:</b> 🤝\n",
    "</div>"
   ]
  },
  {
   "cell_type": "markdown",
   "metadata": {
    "id": "FaTwoSaNt5UG"
   },
   "source": [
    "- Определим основную функцию обучения базовых моделей."
   ]
  },
  {
   "cell_type": "code",
   "execution_count": null,
   "metadata": {
    "id": "cDR_XVb7uBdA"
   },
   "outputs": [],
   "source": [
    "# Определим основную функцию обучения базовых моделей.\n",
    "def lr_boost_predict(lr_pipe, boost_pipe,\n",
    "                     X_t, y_t,\n",
    "                     X_v, y_v,\n",
    "                     return_data=False,\n",
    "                     title=('Сравнение RMSE и времени '+\n",
    "                            'обучения/предсказания моделей.')):\n",
    "\n",
    "    # Линейная регрессия.\n",
    "    lr_start = perf_counter() # Таймер.\n",
    "    lr_pipe.fit(X_t, y_t)\n",
    "    lr_stop = perf_counter() # Таймер.\n",
    "    lr_train_t = lr_stop - lr_start\n",
    "\n",
    "    lr_pred_start = perf_counter() # Таймер.\n",
    "    rmse_lr = mean_squared_error(y_v, lr_pipe.predict(X_v),\n",
    "                                squared=False)\n",
    "    lr_pred_stop = perf_counter() # Таймер.\n",
    "    lr_pred_t = lr_pred_stop - lr_pred_start\n",
    "\n",
    "    # Градиентный бустинг.\n",
    "    boost_start = perf_counter() # Таймер.\n",
    "    boost_pipe.fit(X_t, y_t)\n",
    "    boost_stop = perf_counter() # Таймер.\n",
    "    boost_train_t = boost_stop - boost_start\n",
    "\n",
    "    boost_pred_start = perf_counter() # Таймер.\n",
    "    rmse_boost = mean_squared_error(y_v, boost_pipe.predict(X_v),\n",
    "                                squared=False)\n",
    "    boost_pred_stop = perf_counter() # Таймер.\n",
    "    boost_pred_t = boost_pred_stop - boost_pred_start\n",
    "\n",
    "    display(\n",
    "        pd.DataFrame(\n",
    "            {'Линейная регрессия.' :\n",
    "             [round(rmse_lr, 2), round(lr_train_t, 2), round(lr_pred_t, 2)],\n",
    "             'Градиентный бустинг.' :\n",
    "              [round(rmse_boost, 2),\n",
    "               round(boost_train_t, 2),\n",
    "               round(boost_pred_t, 2)],},\n",
    "            index=['RMSE:', 'Время обучения:', 'Время предсказания:'])\n",
    "    .style\n",
    "    .set_caption(title)\n",
    "    .set_table_styles(styles)\n",
    "    )\n",
    "\n",
    "    if return_data:\n",
    "        return (lr_pipe, rmse_lr, lr_train_t, lr_pred_t,\n",
    "                rmse_boost, rmse_boost, boost_train_t, boost_pred_t)"
   ]
  },
  {
   "cell_type": "markdown",
   "metadata": {
    "id": "grd2Lhr1DVQX"
   },
   "source": [
    "<div class=\"alert alert-block alert-success\">\n",
    "<b>Успех:</b> Выглядит корректно, метрики, интересующие заказчика, считатся верным образом\n",
    "</div>\n"
   ]
  },
  {
   "cell_type": "markdown",
   "metadata": {
    "id": "7AA4oulf47hj"
   },
   "source": [
    "#### Тестирование признака `postal_code`.\n",
    "- Сравним целевую метрику `RMSE`\n",
    "  - без учёта признака;\n",
    "  - с его включением после кластеризации путём деления всех значений на 1000 и округления до целых (мин. значение = 1067)."
   ]
  },
  {
   "cell_type": "code",
   "execution_count": null,
   "metadata": {
    "colab": {
     "base_uri": "https://localhost:8080/",
     "height": 394
    },
    "executionInfo": {
     "elapsed": 13738,
     "status": "ok",
     "timestamp": 1699807723368,
     "user": {
      "displayName": "S K",
      "userId": "16311672911204145470"
     },
     "user_tz": -180
    },
    "id": "zwJlEFQ85jeV",
    "outputId": "3399cac9-f117-4c27-8aa1-f56ed78c6ce6"
   },
   "outputs": [],
   "source": [
    "# # Определим функцию трансформации.\n",
    "def scale_by_1000(col):\n",
    "    return pd.DataFrame(col / 1000).astype('int')\n",
    "\n",
    "## Вычислим целевую метрику без postal_code.\n",
    "col_trans_boost.transformers.append(('dropcol', 'drop', ['postal_code']))\n",
    "lr_boost_predict(lr_pipe, hgbr_pipe, X_train, y_train, X_val, y_val,\n",
    "                 title='Базовые модели.\\nЦелевая метрика без \"postal_code\"')\n",
    "col_trans_boost.transformers.pop(1)\n",
    "## Добавим обработку postal_code в базовую трансформацию и вычислим\n",
    "## целевую метрику.\n",
    "for col_trans in [col_trans_lr, col_trans_boost]:\n",
    "    col_trans.transformers.insert(\n",
    "        1, ('reduce_dim', FunctionTransformer(scale_by_1000),\n",
    "            'postal_code')\n",
    "    )\n",
    "print('\\n')\n",
    "lr_boost_predict(lr_pipe, hgbr_pipe, X_train, y_train, X_val, y_val,\n",
    "                 title=('Базовые модели.\\nЦелевая метрика с модиф. '+\n",
    "                        '\"postal_code\"'))\n",
    "\n",
    "for col_trans in [col_trans_lr, col_trans_boost]:\n",
    "    col_trans.transformers.pop(1)"
   ]
  },
  {
   "cell_type": "markdown",
   "metadata": {
    "id": "RF7RXZW233j0"
   },
   "source": [
    "##### Тестирование признака `postal_code`. Вывод.\n",
    "- `RMSE` в обоих случаях практически одинакова, но без признака обе модели более производительны.\n",
    "- Удалим признак `postal_code` и проверим результат."
   ]
  },
  {
   "cell_type": "code",
   "execution_count": null,
   "metadata": {
    "colab": {
     "base_uri": "https://localhost:8080/",
     "height": 173
    },
    "executionInfo": {
     "elapsed": 12,
     "status": "ok",
     "timestamp": 1699807723368,
     "user": {
      "displayName": "S K",
      "userId": "16311672911204145470"
     },
     "user_tz": -180
    },
    "id": "QYLtOEa5zyXB",
    "outputId": "4d8a7cc3-079f-4f7c-a977-e1dfdd8ca980"
   },
   "outputs": [],
   "source": [
    "for data in [X_train, X_val, X_test]:\n",
    "    data.drop('postal_code', axis=1, inplace=True)\n",
    "    display(data.columns)"
   ]
  },
  {
   "cell_type": "markdown",
   "metadata": {
    "id": "9nyaaDDOyCsJ"
   },
   "source": [
    "### Тестирование трансформации распределения целевого признака.\n",
    "- Вычислим метрики после кватильной трансформации и снижения дисперсии целевого признака."
   ]
  },
  {
   "cell_type": "code",
   "execution_count": null,
   "metadata": {
    "colab": {
     "base_uri": "https://localhost:8080/"
    },
    "executionInfo": {
     "elapsed": 5238,
     "status": "ok",
     "timestamp": 1699807728595,
     "user": {
      "displayName": "S K",
      "userId": "16311672911204145470"
     },
     "user_tz": -180
    },
    "id": "Ao33-36LzlA7",
    "outputId": "ff1b0499-2cfd-4167-9d24-3406df30c0e5"
   },
   "outputs": [],
   "source": [
    "lr_pipe_tt.fit(X_train, y_train)\n",
    "rmse_lr_tt = mean_squared_error(y_val, lr_pipe_tt.predict(X_val),\n",
    "                                squared=False)\n",
    "print(f'RMSE регресии: {round(rmse_lr_tt, 2)}.')\n",
    "hgbr_pipe_tt.fit(X_train, y_train)\n",
    "rmse_hgbr_tt = mean_squared_error(y_val, hgbr_pipe_tt.predict(X_val),\n",
    "                                  squared=False)\n",
    "print(f'RMSE градиентного бустинга: {round(rmse_hgbr_tt, 2)}.')"
   ]
  },
  {
   "cell_type": "markdown",
   "metadata": {
    "id": "-9tLSVJWNcLk"
   },
   "source": [
    "#### Тестирование трансформации распределения целевого признака. Вывод.\n",
    "- Линейная регрессия ожидаемо показала уменьшение значения целевой метрики `RMSE`, но недостаточное, чтобы конкурировать с градиентный бустингом.\n",
    "- Метод неэффективен."
   ]
  },
  {
   "cell_type": "markdown",
   "metadata": {
    "id": "f-eD4yY662i7"
   },
   "source": [
    "### Тестирование объединения `brand`, `model`.\n",
    "Проверим улучшит ли целевую метрику и/или время обучения/предсказания алгоритмов создание нового предиктора на основе двух с идеальной корреляцией.\n",
    "- Для этого создадим функцию, которая соединит строковые значения двух признаков в один новый признак и сбросит оригиналы.\n",
    "- Проверим метрики с новым признаком."
   ]
  },
  {
   "cell_type": "code",
   "execution_count": null,
   "metadata": {
    "colab": {
     "base_uri": "https://localhost:8080/",
     "height": 211
    },
    "executionInfo": {
     "elapsed": 9031,
     "status": "ok",
     "timestamp": 1699807737616,
     "user": {
      "displayName": "S K",
      "userId": "16311672911204145470"
     },
     "user_tz": -180
    },
    "id": "QGoXmbwc7wjr",
    "outputId": "f599e875-2bfd-4e3e-ae27-5d1a4d49378e"
   },
   "outputs": [],
   "source": [
    "# Функция,  соединяющая строковые значения 2 признаков.\n",
    "def combine_and_remove(data):\n",
    "    data['brand_model'] = (data['brand'] + ' ' +\\\n",
    "                           data['model']).str.strip()\n",
    "    data.drop(['brand', 'model'], axis=1, inplace=True)\n",
    "\n",
    "    return data\n",
    "\n",
    "cols_to_merge = ['brand', 'model']\n",
    "cat_cols_feat_gen = ['gearbox', 'fuel_type', 'repaired', 'brand_model',\n",
    "                     'vehicle_type']\n",
    "\n",
    "# Применим функцию к копии данных.\n",
    "X_train_feat_gen = X_train.copy()\n",
    "X_val_feat_gen = X_val.copy()\n",
    "\n",
    "a = combine_and_remove(X_train_feat_gen[cols_to_merge])\n",
    "b = combine_and_remove(X_val_feat_gen[cols_to_merge])\n",
    "X_train_feat_gen.loc[:, 'brand_model'] = a\n",
    "X_val_feat_gen.loc[:, 'brand_model'] = b\n",
    "\n",
    "X_train_feat_gen.drop(['brand', 'model'], axis=1, inplace=True)\n",
    "X_val_feat_gen.drop(['brand', 'model'], axis=1, inplace=True)\n",
    "\n",
    "# Определим базовую трансформацию признаков и пайплайны для лин. регрессии.\n",
    "col_trans_lr_feat_gen = ColumnTransformer(transformers=[\n",
    "    ('ohe', OneHotEncoder(handle_unknown='ignore', drop='first'),\n",
    "     cat_cols_feat_gen),\n",
    "    ('scale', StandardScaler(), num_cols)\n",
    "    ], n_jobs=1)\n",
    "\n",
    "lr_pipe_feat_gen = Pipeline(steps=[\n",
    "    ('col_trans_lr_feat_gen', col_trans_lr_feat_gen),\n",
    "    ('lr', lr)\n",
    "    ])\n",
    "\n",
    "# Определим базовую трансформацию признаков и пайплайны для градиентного\n",
    "# бустинга.\n",
    "col_trans_boost_feat_gen = ColumnTransformer(transformers=[\n",
    "    ('ord', OrdinalEncoder(handle_unknown='use_encoded_value',\n",
    "                           unknown_value=500), cat_cols_feat_gen),\n",
    "    ], remainder='passthrough', n_jobs=-1)\n",
    "\n",
    "hgbr_pipe_feat_gen = Pipeline(steps=[\n",
    "    ('col_trans_boost_feat_gen', col_trans_boost_feat_gen),\n",
    "    ('hgbr', hgbr)\n",
    "    ])\n",
    "\n",
    "# Определим базовую трансформацию признаков и пайплайны для градиентного\n",
    "# бустинга.\n",
    "lr_boost_predict(lr_pipe_feat_gen, hgbr_pipe_feat_gen,\n",
    "                 X_train_feat_gen, y_train, X_val_feat_gen, y_val,\n",
    "                 title=('Базовые модели.\\nЦелевая метрика с ген. произнака '+\n",
    "                        'на основе \"brand\", \"model\"'))"
   ]
  },
  {
   "cell_type": "markdown",
   "metadata": {
    "id": "XNRvThSSpt9Y"
   },
   "source": [
    "#### Тестирование объединения `brand` и `model`. Выводы.\n",
    "- Линейная регрессия показала незначительный рост в целевой метрике, но сильно упала в длительности обучения.\n",
    "- Градиентный бустинг изменений не показал.\n",
    "- Метод неэфaективен. Далее исследуем различные модели градиентного бустинга."
   ]
  },
  {
   "cell_type": "markdown",
   "metadata": {
    "id": "UgBgsMgDDVQZ"
   },
   "source": [
    "<div class=\"alert alert-block alert-success\">\n",
    "<b>Успех:</b> Это довольно странно, что время обучения замедлилось для лин. регресии, учитывая, что признаковое пространство в разы уменьшилось.\n",
    "</div>\n"
   ]
  },
  {
   "cell_type": "markdown",
   "metadata": {
    "id": "W16phzhpgdQ1"
   },
   "source": [
    "## Обучение моделей.\n",
    "- Для освобождения памяти удалим все \"тяжёлые\" временные переменные.\n",
    "- Установим параметры обучения моделей.\n",
    "- C помощью библиотеки `Optuna` найдём гиперпараметры минимизирующие `RMSE` для следующих моделей:\n",
    "  - `DecisionTreeRegreessor`;\n",
    "  - `HistGradientBoostingRegressor`;\n",
    "  - `LightGradientBoostingMachineRegressor`;\n",
    "  - `CatBoostRegessor`.\n",
    "\n",
    "> Примечание: диапазоны значений гиперпараметров и количества испытаний `Optuna` сокращены до оптимальных, найденных с использованием GPU."
   ]
  },
  {
   "cell_type": "markdown",
   "metadata": {
    "id": "T2gqGdjaDVQZ"
   },
   "source": [
    "<div class=\"alert alert-block alert-success\">\n",
    "<b>Успех:</b> ок\n",
    "</div>\n"
   ]
  },
  {
   "cell_type": "code",
   "execution_count": null,
   "metadata": {
    "id": "-LCOXwGb57FS"
   },
   "outputs": [],
   "source": [
    "# Уалим все тяжёлые временные переменные.\n",
    "del (X_train_feat_gen, X_val_feat_gen, hgbr_pipe_feat_gen,\n",
    "     hgbr_pipe_tt, lr_pipe_feat_gen, lr_pipe_tt, data)"
   ]
  },
  {
   "cell_type": "markdown",
   "metadata": {
    "id": "vlJ44kjOR3N9"
   },
   "source": [
    "### Установка параметров обучения моделей.\n",
    "- Создадим трансформер порядкового кодирования признаков.\n",
    "- Создадим экземпляры классов и пайплайны моделей.\n",
    "- Зададим уровень логирования `Optuna`."
   ]
  },
  {
   "cell_type": "code",
   "execution_count": null,
   "metadata": {
    "id": "OzTc6EsLAl45"
   },
   "outputs": [],
   "source": [
    "# Создадим трансформер порядкового кодирования признаков.\n",
    "col_enc = ColumnTransformer(\n",
    "    transformers=[\n",
    "        ('ord', OrdinalEncoder(handle_unknown='use_encoded_value',\n",
    "                               unknown_value=500), cat_cols)\n",
    "        ], remainder='passthrough', n_jobs=-1\n",
    "    )\n",
    "\n",
    "# Создадим экземпляр класса и пайплайн DecisionTreeRegressor.\n",
    "dtr = DecisionTreeRegressor(random_state=SEED)\n",
    "dtr_pipe = Pipeline(steps=[('col_enc', col_enc),\n",
    "                            ('dtr', dtr)])\n",
    "\n",
    "# Создадим экземпляр класса и пайплайн HistGradientBoostingRegressor.\n",
    "hgbr = HistGradientBoostingRegressor(random_state=SEED)\n",
    "hgbr_pipe = Pipeline(steps=[('col_enc', col_enc),\n",
    "                            ('hgbr', hgbr)])\n",
    "\n",
    "# Создадим экземпляр класса и пайплайн модLGBMRegressorели.\n",
    "lgbmr = LGBMRegressor(verbose=-1, random_state=SEED)\n",
    "lgbmr_pipe = Pipeline(steps=[('col_enc', col_enc),\n",
    "                            ('lgbmr', lgbmr)])\n",
    "\n",
    "# Создадим экземпляр класса  пайплайн CatBoostRegressor.\n",
    "cbr = CatBoostRegressor(silent=True, random_seed=SEED)\n",
    "cbr_pipe = Pipeline(steps=[('col_enc', col_enc),\n",
    "                            ('cbr', cbr)])\n",
    "\n",
    "# Зададим уровень логирования Optuna.\n",
    "optuna.logging.set_verbosity(optuna.logging.WARNING)"
   ]
  },
  {
   "cell_type": "markdown",
   "metadata": {
    "id": "cbxXm1jaZ-Py"
   },
   "source": [
    "### Модель `DecisionTreeRegressor`.\n",
    "Обучим модель с перебором гиперпараметров для минимизации `RMSE`.\n",
    "- Создадим функцию `objective` в которой укажем гиперпараметры и метрику для оптимизации - `RMSE`."
   ]
  },
  {
   "cell_type": "code",
   "execution_count": null,
   "metadata": {
    "id": "U4otP7YNiOSD"
   },
   "outputs": [],
   "source": [
    "# Создадим функцию.\n",
    "def objective_dtr(trial):\n",
    "\n",
    "    # Список гиперпараметров для LightGBM.\n",
    "    hyperparams_dtr = {\n",
    "        'dtr__max_depth' : trial.suggest_int('max_depth', 1, 20),\n",
    "        }\n",
    "\n",
    "    # Подберём параметры для минимизации RMSE.\n",
    "    dtr_pipe.set_params(**hyperparams_dtr)\n",
    "    dtr_pipe.fit(X_train, y_train)\n",
    "    predictions = dtr_pipe.predict(X_val)\n",
    "    rmse = mean_squared_error(y_val, predictions, squared=False)\n",
    "    return rmse"
   ]
  },
  {
   "cell_type": "markdown",
   "metadata": {
    "id": "c4NO3sMD3c0a"
   },
   "source": [
    "- Создадим исследование и вызовем функцию оптимизации гиперпараметров."
   ]
  },
  {
   "cell_type": "code",
   "execution_count": null,
   "metadata": {
    "colab": {
     "base_uri": "https://localhost:8080/",
     "height": 188,
     "referenced_widgets": [
      "8515f7a5484e43eda5bf7005b3e4fddd",
      "b9c4b5088b9a4918aabebb6b5e6c299f",
      "ca084b8d8cd94fd3a259a0361ee19373",
      "8a31fd3e66504bd49ac708274154ca04",
      "24643cd20c4846c0a8f4816ff4371bc6",
      "858977250ed14560a5bb2c7453127896",
      "13c479d1c67941d89f0d28446420a090",
      "f7a5003d9c7c4ae7b4591d6e696a46dd",
      "0900fbf93b6049179fe2dc12610f7ed7",
      "70a23b123b2442309104d798ded3eb2a",
      "9a3ab31ccade4ed49f559e7d170b0ab5",
      "4a46b6a14fe24ca98612c7b6ca3df518"
     ]
    },
    "executionInfo": {
     "elapsed": 17386,
     "status": "ok",
     "timestamp": 1699807754997,
     "user": {
      "displayName": "S K",
      "userId": "16311672911204145470"
     },
     "user_tz": -180
    },
    "id": "hgyqN1yAiP8x",
    "outputId": "43bdbc3f-7206-4c77-983c-813b4b3d52b8"
   },
   "outputs": [
    {
     "data": {
      "application/vnd.jupyter.widget-view+json": {
       "model_id": "4a46b6a14fe24ca98612c7b6ca3df518",
       "version_major": 2,
       "version_minor": 0
      },
      "text/plain": [
       "  0%|          | 0/20 [00:00<?, ?it/s]"
      ]
     },
     "metadata": {},
     "output_type": "display_data"
    },
    {
     "name": "stdout",
     "output_type": "stream",
     "text": [
      "\n",
      "\u001b[1mАлгоритм - DecisionTreeRegressor.\u001b[0m\n",
      "\u001b[1mГиперпараметры лучшей модели:\u001b[0m\n"
     ]
    },
    {
     "data": {
      "text/plain": [
       "{'max_depth': 14}"
      ]
     },
     "metadata": {},
     "output_type": "display_data"
    },
    {
     "name": "stdout",
     "output_type": "stream",
     "text": [
      "\u001b[1mМинимальная RMSE:\u001b[0m 1913.7\n",
      "\n",
      "CPU times: total: 8.06 s\n",
      "Wall time: 15.5 s\n"
     ]
    }
   ],
   "source": [
    "%%time\n",
    "# Создадим исследование и вызовем функцию оптимизации гиперпараметров.\n",
    "study_dtr = optuna.create_study(direction='minimize', study_name='dtr')\n",
    "study_dtr.optimize(objective_dtr, n_trials=20, show_progress_bar=True)\n",
    "print('\\n\\033[1mАлгоритм - DecisionTreeRegressor.\\033[0m')\n",
    "print('\\033[1mГиперпараметры лучшей модели:\\033[0m')\n",
    "display(study_dtr.best_params)\n",
    "print(f'\\033[1mМинимальная RMSE:\\033[0m {round(study_dtr.best_value, 2)}\\n')"
   ]
  },
  {
   "cell_type": "markdown",
   "metadata": {
    "id": "rF7K0b0aUMd5"
   },
   "source": [
    "### Модель `HistGradientBoostingRegressor`.\n",
    "Обучим модель с перебором гиперпараметров для минимизации `RMSE`.\n",
    "- Создадим функцию `objective` в которой укажем гиперпараметры и метрику для оптимизации - `RMSE`."
   ]
  },
  {
   "cell_type": "code",
   "execution_count": null,
   "metadata": {
    "id": "ataiY0tVXYL_"
   },
   "outputs": [],
   "source": [
    "# Создадим функцию исследования Optuna.\n",
    "def objective_hgbr(trial):\n",
    "\n",
    "    # Определим список гиперпараметров.\n",
    "    hyperparams_hgbr = {\n",
    "        'hgbr__max_leaf_nodes' : trial.suggest_int('max_leaf_nodes',\n",
    "                                                   85, 90),\n",
    "        'hgbr__max_iter': trial.suggest_int('max_iter', 860, 900),\n",
    "        'hgbr__learning_rate': trial.suggest_float('learning_rate',\n",
    "                                                   .04, .06, log=True),\n",
    "        }\n",
    "\n",
    "    # Подберём параметры для минимизации RMSE.\n",
    "    hgbr_pipe.set_params(**hyperparams_hgbr)\n",
    "    hgbr_pipe.fit(X_train, y_train)\n",
    "    predictions = hgbr_pipe.predict(X_val)\n",
    "    rmse = mean_squared_error(y_val, predictions, squared=False)\n",
    "    return rmse"
   ]
  },
  {
   "cell_type": "markdown",
   "metadata": {
    "id": "B4omHPnm3hN6"
   },
   "source": [
    "- Создадим исследование и вызовем функцию оптимизации гиперпараметров."
   ]
  },
  {
   "cell_type": "code",
   "execution_count": null,
   "metadata": {
    "colab": {
     "base_uri": "https://localhost:8080/",
     "height": 188,
     "referenced_widgets": [
      "6189307a342e441691dbbc9414dab6dd",
      "af0ff210eb7b4771bf64c00daf5a5f6f",
      "d13b01c23db54261b5d855bf1068fd3c",
      "e2a21ac3e8cd42c8a7c6533f9d132584",
      "8ae13dc3379148b2a97f3fc5031d2519",
      "10dd22bb0ce0426a86ea7c89955205be",
      "701f3bea1e4242bda916e88fdb297b75",
      "b45290adfb184d15b48cb1013e65a6e3",
      "2bbbf0fad40f423ab81d0f752a688032",
      "f4f8134419114be88ad074f1721f84bf",
      "c393e1c8f5564b45b029ab6f07a5a5c6",
      "307d5ffdae0e49d2a309d797b30c2e5d"
     ]
    },
    "executionInfo": {
     "elapsed": 192673,
     "status": "ok",
     "timestamp": 1699807947649,
     "user": {
      "displayName": "S K",
      "userId": "16311672911204145470"
     },
     "user_tz": -180
    },
    "id": "STGgs9XXXZza",
    "outputId": "bcd7eb75-3a9e-4905-b2fd-5bc1a68b7158"
   },
   "outputs": [
    {
     "data": {
      "application/vnd.jupyter.widget-view+json": {
       "model_id": "307d5ffdae0e49d2a309d797b30c2e5d",
       "version_major": 2,
       "version_minor": 0
      },
      "text/plain": [
       "  0%|          | 0/10 [00:00<?, ?it/s]"
      ]
     },
     "metadata": {},
     "output_type": "display_data"
    },
    {
     "name": "stdout",
     "output_type": "stream",
     "text": [
      "\n",
      "\u001b[1mАлгоритм - HistGradientBoostingRegressor.\u001b[0m\n",
      "\u001b[1mГиперпараметры лучшей модели:\u001b[0m\n"
     ]
    },
    {
     "data": {
      "text/plain": [
       "{'max_leaf_nodes': 89, 'max_iter': 870, 'learning_rate': 0.049639720727249884}"
      ]
     },
     "metadata": {},
     "output_type": "display_data"
    },
    {
     "name": "stdout",
     "output_type": "stream",
     "text": [
      "\u001b[1mМинимальная RMSE:\u001b[0m 1581.34\n",
      "\n",
      "CPU times: total: 8min 53s\n",
      "Wall time: 1min 34s\n"
     ]
    }
   ],
   "source": [
    "%%time\n",
    "# Создадим исследование и вызовем функцию оптимизации гиперпараметров.\n",
    "study_hgbr = optuna.create_study(direction='minimize', study_name='hgbr')\n",
    "study_hgbr.optimize(objective_hgbr, n_trials=10, show_progress_bar=True)\n",
    "print('\\n\\033[1mАлгоритм - HistGradientBoostingRegressor.\\033[0m')\n",
    "print('\\033[1mГиперпараметры лучшей модели:\\033[0m')\n",
    "display(study_hgbr.best_params)\n",
    "print(f'\\033[1mМинимальная RMSE:\\033[0m {round(study_hgbr.best_value, 2)}\\n')"
   ]
  },
  {
   "cell_type": "markdown",
   "metadata": {
    "id": "CuC-3k7wSvqQ"
   },
   "source": [
    "### Модель`LightGBM`.\n",
    "Обучим модель с перебором гиперпараметров для минимизации `RMSE`.\n",
    "- Создадим функцию `objective` в которой укажем гиперпараметры и метрику для оптимизации - `RMSE`."
   ]
  },
  {
   "cell_type": "code",
   "execution_count": null,
   "metadata": {
    "id": "GYKE7Uss_gLQ"
   },
   "outputs": [],
   "source": [
    "# Создадим функцию исследования Optuna.\n",
    "def objective_lgbmr(trial):\n",
    "\n",
    "    # Определим список гиперпараметров.\n",
    "    hyperparams_lgbmr = {\n",
    "        'lgbmr__objective': 'regression',\n",
    "        'lgbmr__metric': 'rmse',\n",
    "        'lgbmr__num_leaves' : trial.suggest_int('num_leaves', 50, 150),\n",
    "        'lgbmr__n_estimators': trial.suggest_int('n_estimators',\n",
    "                                                 600, 800),\n",
    "        'lgbmr__verbosity': -1,\n",
    "        'lgbmr__learning_rate': trial.suggest_float('learning_rate',\n",
    "                                                   1e-2, .1, log=True),\n",
    "        'lgbmr__subsample': trial.suggest_float('subsample', .5, 1.0),\n",
    "        }\n",
    "\n",
    "    # Создадим экземпляр класса и пайплайн модLGBMRegressorели.\n",
    "    lgbmr = LGBMRegressor(random_state=SEED)\n",
    "    lgbmr_pipe = Pipeline(steps=[('col_enc', col_enc),\n",
    "                                ('lgbmr', lgbmr)])\n",
    "\n",
    "    # Подберём параметры для минимизации RMSE.\n",
    "    lgbmr_pipe.set_params(**hyperparams_lgbmr)\n",
    "    lgbmr_pipe.fit(X_train, y_train)\n",
    "    predictions = lgbmr_pipe.predict(X_val)\n",
    "    rmse = mean_squared_error(y_val, predictions, squared=False)\n",
    "    return rmse"
   ]
  },
  {
   "cell_type": "markdown",
   "metadata": {
    "id": "_YvJ9SK23mn6"
   },
   "source": [
    "- Создадим исследование и вызовем функцию оптимизации гиперпараметров."
   ]
  },
  {
   "cell_type": "code",
   "execution_count": null,
   "metadata": {
    "colab": {
     "base_uri": "https://localhost:8080/",
     "height": 240,
     "referenced_widgets": [
      "05a7fde60d0a4549b293a43ea68141ca",
      "f5b13b6a064447a4994a5e90cbb5b80f",
      "5d9ca5901b004559944d8cf54b9dcce7",
      "0fe417e6653b406298da20025056177f",
      "9c060254583f427e9c42e3c0ef680646",
      "ac0bafae7bce449abfe8247acbc66936",
      "58194b3a0fb8479e9abd57c531031f7e",
      "d6a86ff29dbd41b3a7a025d26f7366c6",
      "2e970b71cede4bf3af9ba35935cd20d6",
      "bcaf85ddf8954d8085f08578a308cf4c",
      "98d531f683e44d50935aedbb4127aee2",
      "fd66ed81de034dfd98327acd4e66d223"
     ]
    },
    "executionInfo": {
     "elapsed": 330407,
     "status": "ok",
     "timestamp": 1699808278042,
     "user": {
      "displayName": "S K",
      "userId": "16311672911204145470"
     },
     "user_tz": -180
    },
    "id": "9lgZ1toOBE7i",
    "outputId": "261efde5-e8fc-411b-f0d0-07e1a4ce4f3e"
   },
   "outputs": [
    {
     "data": {
      "application/vnd.jupyter.widget-view+json": {
       "model_id": "fd66ed81de034dfd98327acd4e66d223",
       "version_major": 2,
       "version_minor": 0
      },
      "text/plain": [
       "  0%|          | 0/30 [00:00<?, ?it/s]"
      ]
     },
     "metadata": {},
     "output_type": "display_data"
    },
    {
     "name": "stdout",
     "output_type": "stream",
     "text": [
      "\n",
      "\u001b[1mАлгоритм - LightGBM.\u001b[0m\n",
      "\u001b[1mГиперпараметры лучшей модели:\u001b[0m\n"
     ]
    },
    {
     "data": {
      "text/plain": [
       "{'num_leaves': 132,\n",
       " 'n_estimators': 628,\n",
       " 'learning_rate': 0.05540345424914959,\n",
       " 'subsample': 0.5907074521478524}"
      ]
     },
     "metadata": {},
     "output_type": "display_data"
    },
    {
     "name": "stdout",
     "output_type": "stream",
     "text": [
      "\u001b[1mМинимальная RMSE:\u001b[0m 1567.35\n",
      "\n",
      "CPU times: total: 10min 28s\n",
      "Wall time: 1min 55s\n"
     ]
    }
   ],
   "source": [
    "%%time\n",
    "# Создадим исследование и вызовем функцию оптимизации гиперпараметров.\n",
    "study_lgbmr = optuna.create_study(direction='minimize', study_name='lgbmr')\n",
    "study_lgbmr.optimize(objective_lgbmr, n_trials=30, show_progress_bar=True)\n",
    "print('\\n\\033[1mАлгоритм - LightGBM.\\033[0m')\n",
    "print('\\033[1mГиперпараметры лучшей модели:\\033[0m')\n",
    "display(study_lgbmr.best_params)\n",
    "print(f'\\033[1mМинимальная RMSE:\\033[0m {round(study_lgbmr.best_value, 2)}\\n')"
   ]
  },
  {
   "cell_type": "markdown",
   "metadata": {
    "id": "hO0AMPF5SzVm"
   },
   "source": [
    "### Модель `CatBoostRegressor`.\n",
    "Обучим модель с перебором гиперпараметров для минимизации `RMSE`."
   ]
  },
  {
   "cell_type": "code",
   "execution_count": null,
   "metadata": {
    "id": "BOOa6917-IhX"
   },
   "outputs": [],
   "source": [
    "# Создадим функцию исследования Optuna.\n",
    "def objective_cbr(trial):\n",
    "\n",
    "    # Определим список гиперпараметров.\n",
    "    hyperparams_cbr = {\n",
    "        'cbr__depth': trial.suggest_int('depth', 1, 15, 5),\n",
    "        'cbr__learning_rate': trial.suggest_float('learning_rate',\n",
    "                                                  .05, .1),\n",
    "        'cbr__iterations': trial.suggest_int('iterations', 800, 1000, 100),\n",
    "#         'cbr__task_type': 'GPU'\n",
    "        }\n",
    "\n",
    "    # Создадим экземпляр класса модели.\n",
    "    cbr = CatBoostRegressor(silent=True, random_seed=SEED)\n",
    "    # Создадим пайплайн.\n",
    "    cbr_pipe = Pipeline(steps=[('col_enc', col_enc),\n",
    "                               ('cbr', cbr)])\n",
    "\n",
    "    # Подберём параметры для минимизации RMSE.\n",
    "    cbr_pipe.set_params(**hyperparams_cbr)\n",
    "    cbr_pipe.fit(X_train, y_train)\n",
    "    predictions = cbr_pipe.predict(X_val)\n",
    "    rmse = mean_squared_error(y_val, predictions, squared=False)\n",
    "    return rmse"
   ]
  },
  {
   "cell_type": "markdown",
   "metadata": {
    "id": "tKQ8k-hn34eQ"
   },
   "source": [
    "- Создадим исследование и вызовем функцию оптимизации гиперпараметров."
   ]
  },
  {
   "cell_type": "code",
   "execution_count": null,
   "metadata": {
    "colab": {
     "base_uri": "https://localhost:8080/",
     "height": 188,
     "referenced_widgets": [
      "d6b76dacb1f848c497fcc71bc6da5e79",
      "b8677992af8d4cdf8d687705c576d43d",
      "9c105ccc7c294ab99ee99fe82d124d37",
      "7a5cc596d74743149d8f010a622e2c6f",
      "d81a924a17414b34a2a68b38557cec84",
      "ca4f33e1c75a44248ca467a7cbd402d6",
      "b9877a7761c94c4e94181ce47f4fde62",
      "869db47f231647a08eafe017b232d826",
      "8e4199385ef34356ba1b9f83e91054d5",
      "a782799fa4f840b9aa1559136445ef3f",
      "e332ff97098140c99ead28c1078e504f",
      "e15fe810eecb46c992c34cf4d6a8b812"
     ]
    },
    "executionInfo": {
     "elapsed": 31289,
     "status": "ok",
     "timestamp": 1699808309326,
     "user": {
      "displayName": "S K",
      "userId": "16311672911204145470"
     },
     "user_tz": -180
    },
    "id": "QMnw3vuDeJFi",
    "outputId": "da9179c4-0144-4ed2-d678-28f5fe1a5d63"
   },
   "outputs": [
    {
     "data": {
      "application/vnd.jupyter.widget-view+json": {
       "model_id": "e15fe810eecb46c992c34cf4d6a8b812",
       "version_major": 2,
       "version_minor": 0
      },
      "text/plain": [
       "  0%|          | 0/10 [00:00<?, ?it/s]"
      ]
     },
     "metadata": {},
     "output_type": "display_data"
    },
    {
     "name": "stdout",
     "output_type": "stream",
     "text": [
      "\n",
      "\u001b[1mАлгоритм - CatBoostRegressor.\u001b[0m\n",
      "\u001b[1mГиперпараметры лучшей модели:\u001b[0m\n"
     ]
    },
    {
     "data": {
      "text/plain": [
       "{'depth': 11, 'learning_rate': 0.08947889762652399, 'iterations': 1000}"
      ]
     },
     "metadata": {},
     "output_type": "display_data"
    },
    {
     "name": "stdout",
     "output_type": "stream",
     "text": [
      "\u001b[1mМинимальная RMSE:\u001b[0m 1574.83\n",
      "\n",
      "CPU times: total: 17min 20s\n",
      "Wall time: 3min 22s\n"
     ]
    }
   ],
   "source": [
    "%%time\n",
    "# Создадим исследование и вызовем функцию оптимизации гиперпараметров.\n",
    "study_cbr = optuna.create_study(direction='minimize', study_name='cbr')\n",
    "study_cbr.optimize(objective_cbr, n_trials=10, show_progress_bar=True)\n",
    "print('\\n\\033[1mАлгоритм - CatBoostRegressor.\\033[0m')\n",
    "print('\\033[1mГиперпараметры лучшей модели:\\033[0m')\n",
    "display(study_cbr.best_params)\n",
    "print(f'\\033[1mМинимальная RMSE:\\033[0m {round(study_cbr.best_value, 2)}\\n')"
   ]
  },
  {
   "cell_type": "markdown",
   "metadata": {
    "id": "uHvDvqsZgdQ2"
   },
   "source": [
    "## Анализ моделей.\n",
    "- Для моделей с подобранными гиперпараметрами на валидационной выборке сравним\n",
    "  - целевую метрику `RMSE` / качество предсказаний;\n",
    "  - время обучения;\n",
    "  - время предсказания;\n",
    "  - важность признаков."
   ]
  },
  {
   "cell_type": "markdown",
   "metadata": {
    "id": "qLVJtJWXDVQc"
   },
   "source": [
    "\n",
    "\n",
    "<div class=\"alert alert-block alert-success\">\n",
    "<b>Успех:</b> Отличная работа с моделями, их настройка прошла успешно.\n"
   ]
  },
  {
   "cell_type": "markdown",
   "metadata": {
    "id": "VD6T_K7bBa7E"
   },
   "source": [
    "### Подготовка к сравнению моделей.\n",
    "- Создадим экземпляр класса и пайплайн константного базового регрессора для определения адекватности итоговых моделей.\n",
    "- Введём оптимальные подобранные гиперпараметры в пайплайны.\n",
    "- Зададим функцию, которая\n",
    "  - примет модель / пайплайн;\n",
    "  - обучающую и тестовую выборки;\n",
    "  - замерит и выведет время обучения и предсказания моделей;\n",
    "  - выведет `RMSE`, `R2` и обученные модели.\n"
   ]
  },
  {
   "cell_type": "code",
   "execution_count": null,
   "metadata": {
    "id": "L1plH6Atort2"
   },
   "outputs": [],
   "source": [
    "# Создадим экземпляр класса и пайплайн константного регрессора.\n",
    "dumdum = DummyRegressor()\n",
    "dum_pipe = Pipeline(steps=[('col_enc', col_enc),\n",
    "                           ('dum', dumdum)])\n",
    "\n",
    "# Введём оптимальные гиперпараметры в модели.\n",
    "dtr_pipe.set_params(dtr__max_depth=study_dtr.best_params['max_depth'])\n",
    "\n",
    "hgbr_pipe.set_params(\n",
    "    hgbr__max_leaf_nodes=study_hgbr.best_params['max_leaf_nodes'],\n",
    "    hgbr__max_iter=study_hgbr.best_params['max_iter'],\n",
    "    hgbr__learning_rate=study_hgbr.best_params['learning_rate'])\n",
    "\n",
    "lgbmr_pipe.set_params(\n",
    "    lgbmr__num_leaves=study_lgbmr.best_params['num_leaves'],\n",
    "    lgbmr__n_estimators=study_lgbmr.best_params['n_estimators'],\n",
    "    lgbmr__learning_rate=study_lgbmr.best_params['learning_rate'],\n",
    "    lgbmr__subsample=study_lgbmr.best_params['subsample'])\n",
    "\n",
    "cbr = CatBoostRegressor(silent=True, random_seed=SEED)\n",
    "cbr_pipe = Pipeline(steps=[('col_enc', col_enc),\n",
    "                               ('cbr', cbr)])\n",
    "cbr_pipe.set_params(cbr__learning_rate=study_cbr.best_params['learning_rate'],\n",
    "                    cbr__iterations=study_cbr.best_params['iterations'],\n",
    "                    cbr__depth=study_cbr.best_params['depth'])\n",
    "\n",
    "# Зададим функцию замера времени обучения и предсказания моделей и вывода RMSE.\n",
    "def get_preds_timing(model, X_train, y_train, X_test, y_test):\n",
    "\n",
    "    start = perf_counter() # Таймер.\n",
    "    model.fit(X_train, y_train)\n",
    "    stop = perf_counter() # Таймер.\n",
    "    train_time = stop - start # Время обучения.\n",
    "\n",
    "    start = perf_counter() # Таймер.\n",
    "    preds = model.predict(X_test)\n",
    "    stop = perf_counter() # Таймер.\n",
    "    pred_time = stop - start # Время обучения.\n",
    "\n",
    "    rmse = mean_squared_error(y_test, preds, squared=False)\n",
    "    r2 = r2_score(y_test, preds)\n",
    "\n",
    "    return [model, model[-1].__class__.__name__,\n",
    "            rmse, r2, train_time, pred_time]"
   ]
  },
  {
   "cell_type": "markdown",
   "metadata": {
    "id": "qkKungnGDVQd"
   },
   "source": [
    "\n",
    "\n",
    "<div class=\"alert alert-block alert-danger\">\n",
    "   \n",
    "<b>Ошибка:</b>\n",
    "   \n",
    "- Тестовую выборку мы не должны использовать при вычислении метрик для анализа. Она должна использоваться только для единственной лучшей модели после анализа  в шаге с тестированием.\n",
    "- У нас заданы 3 метрики интересующие заказчика: `время обучения: .fit()`, `скорость предсказания: .predict()` и `качество: RMSE`.\n",
    "- Получить их корректно только либо с помощью валидационной выборки либо используя кросс-валидационные методы (в GridSearchCV например есть все данные метрики в аттрибуте cv_results_).  \n",
    "- Потом проводится анализ и выбирается одна наилучшая модель.\n",
    "- И только затем для одной наилучшей модели  проводится тестирование.\n",
    "  \n",
    "</div>\n"
   ]
  },
  {
   "cell_type": "markdown",
   "metadata": {
    "id": "4IFw5eEbDVQd"
   },
   "source": [
    "<div class=\"alert alert-block alert-warning\">\n",
    "<b>Изменения:</b>\n",
    "    \n",
    "Были внесены следующие изменения:\n",
    "- анализ метрик всех моделей на валидационной выборке и выбор наилучшей производится в пункте 10.2;\n",
    "- вычисление метрик лучшей модели на тестовой выборке производится в пункте 10.3.\n",
    "</div>"
   ]
  },
  {
   "cell_type": "markdown",
   "metadata": {
    "id": "-_Q2ptDwDVQd"
   },
   "source": [
    "\n",
    "<div class=\"alert alert-block alert-success\">\n",
    "    \n",
    "<b>Успех[2]:</b> Есть конткат\n",
    "</div>"
   ]
  },
  {
   "cell_type": "markdown",
   "metadata": {
    "id": "wQI2SJFRCvqg"
   },
   "source": [
    "### Анализ моделей.\n",
    "- Вызовем функцию для всех анализируемых моделей, обучим их и вычислим метрики на валидационной выборке.\n",
    "  - Выведем таблицу производительности алгоритмов.\n",
    "  - Выведем график важности некоторых признаков (исключим времязатратный  метод `permutation_importance` для алгоритма `HistGradientBoostingRegressor`).\n",
    "- Выберем наилучшую."
   ]
  },
  {
   "cell_type": "code",
   "execution_count": null,
   "metadata": {
    "colab": {
     "base_uri": "https://localhost:8080/",
     "height": 49,
     "referenced_widgets": [
      "d9b172417e3a4ffeb7321a710ccae55d",
      "beabf82f40dd43b8bbb5050b2ac2e173",
      "702cf5e8a7b4407ebcd99b8faeb9b51d",
      "84fd4b26c05c4467908289ad724e0cd8",
      "67c99b4b2bf04d2bbcd2bbbefaef0ff7",
      "f9c66cfa90e942c8a443a5a4a315e36e",
      "fd398db886704d8c8c4c80171e58c239",
      "2377e3f3e38748cf97a456e1733b6356",
      "b1d6a289ac9f431f8db970aef37003dd",
      "bef78e1418014a86a109f7906187799e",
      "605fcb64e370421eace1d4ab894d47c0",
      "d9081c9e0184470dae2bb5b1a4057c55"
     ]
    },
    "executionInfo": {
     "elapsed": 99990,
     "status": "ok",
     "timestamp": 1699808472182,
     "user": {
      "displayName": "S K",
      "userId": "16311672911204145470"
     },
     "user_tz": -180
    },
    "id": "jhBXdfDcC1uV",
    "outputId": "cf5d77a1-b191-4ffd-b4e5-33201b5008e9"
   },
   "outputs": [
    {
     "data": {
      "application/vnd.jupyter.widget-view+json": {
       "model_id": "d9081c9e0184470dae2bb5b1a4057c55",
       "version_major": 2,
       "version_minor": 0
      },
      "text/plain": [
       "  0%|          | 0/5 [00:00<?, ?it/s]"
      ]
     },
     "metadata": {},
     "output_type": "display_data"
    },
    {
     "data": {
      "text/html": [
       "<style type=\"text/css\">\n",
       "#T_ce7ee caption {\n",
       "  text-align: center;\n",
       "  font-size: 130%;\n",
       "  font-weight: bold;\n",
       "  white-space: pre-wrap;\n",
       "}\n",
       "#T_ce7ee th {\n",
       "  max-width: 250px;\n",
       "}\n",
       "</style>\n",
       "<table id=\"T_ce7ee\">\n",
       "  <caption>Производительность алгоритмов.</caption>\n",
       "  <thead>\n",
       "    <tr>\n",
       "      <th class=\"blank level0\" >&nbsp;</th>\n",
       "      <th id=\"T_ce7ee_level0_col0\" class=\"col_heading level0 col0\" >Алгоритм</th>\n",
       "      <th id=\"T_ce7ee_level0_col1\" class=\"col_heading level0 col1\" >RMSE (евро)</th>\n",
       "      <th id=\"T_ce7ee_level0_col2\" class=\"col_heading level0 col2\" >R2</th>\n",
       "      <th id=\"T_ce7ee_level0_col3\" class=\"col_heading level0 col3\" >Время обучения (cек.)</th>\n",
       "      <th id=\"T_ce7ee_level0_col4\" class=\"col_heading level0 col4\" >Время предсказания (cек.)</th>\n",
       "    </tr>\n",
       "  </thead>\n",
       "  <tbody>\n",
       "    <tr>\n",
       "      <th id=\"T_ce7ee_level0_row0\" class=\"row_heading level0 row0\" >2</th>\n",
       "      <td id=\"T_ce7ee_row0_col0\" class=\"data row0 col0\" >LGBMRegressor</td>\n",
       "      <td id=\"T_ce7ee_row0_col1\" class=\"data row0 col1\" >1567.35</td>\n",
       "      <td id=\"T_ce7ee_row0_col2\" class=\"data row0 col2\" >0.89</td>\n",
       "      <td id=\"T_ce7ee_row0_col3\" class=\"data row0 col3\" >3.36</td>\n",
       "      <td id=\"T_ce7ee_row0_col4\" class=\"data row0 col4\" >0.54</td>\n",
       "    </tr>\n",
       "    <tr>\n",
       "      <th id=\"T_ce7ee_level0_row1\" class=\"row_heading level0 row1\" >3</th>\n",
       "      <td id=\"T_ce7ee_row1_col0\" class=\"data row1 col0\" >CatBoostRegressor</td>\n",
       "      <td id=\"T_ce7ee_row1_col1\" class=\"data row1 col1\" >1574.83</td>\n",
       "      <td id=\"T_ce7ee_row1_col2\" class=\"data row1 col2\" >0.89</td>\n",
       "      <td id=\"T_ce7ee_row1_col3\" class=\"data row1 col3\" >36.31</td>\n",
       "      <td id=\"T_ce7ee_row1_col4\" class=\"data row1 col4\" >0.27</td>\n",
       "    </tr>\n",
       "    <tr>\n",
       "      <th id=\"T_ce7ee_level0_row2\" class=\"row_heading level0 row2\" >1</th>\n",
       "      <td id=\"T_ce7ee_row2_col0\" class=\"data row2 col0\" >HistGradientBoostingRegressor</td>\n",
       "      <td id=\"T_ce7ee_row2_col1\" class=\"data row2 col1\" >1581.34</td>\n",
       "      <td id=\"T_ce7ee_row2_col2\" class=\"data row2 col2\" >0.89</td>\n",
       "      <td id=\"T_ce7ee_row2_col3\" class=\"data row2 col3\" >11.81</td>\n",
       "      <td id=\"T_ce7ee_row2_col4\" class=\"data row2 col4\" >0.73</td>\n",
       "    </tr>\n",
       "    <tr>\n",
       "      <th id=\"T_ce7ee_level0_row3\" class=\"row_heading level0 row3\" >0</th>\n",
       "      <td id=\"T_ce7ee_row3_col0\" class=\"data row3 col0\" >DecisionTreeRegressor</td>\n",
       "      <td id=\"T_ce7ee_row3_col1\" class=\"data row3 col1\" >1913.70</td>\n",
       "      <td id=\"T_ce7ee_row3_col2\" class=\"data row3 col2\" >0.84</td>\n",
       "      <td id=\"T_ce7ee_row3_col3\" class=\"data row3 col3\" >0.70</td>\n",
       "      <td id=\"T_ce7ee_row3_col4\" class=\"data row3 col4\" >0.09</td>\n",
       "    </tr>\n",
       "    <tr>\n",
       "      <th id=\"T_ce7ee_level0_row4\" class=\"row_heading level0 row4\" >4</th>\n",
       "      <td id=\"T_ce7ee_row4_col0\" class=\"data row4 col0\" >DummyRegressor</td>\n",
       "      <td id=\"T_ce7ee_row4_col1\" class=\"data row4 col1\" >4721.95</td>\n",
       "      <td id=\"T_ce7ee_row4_col2\" class=\"data row4 col2\" >-0.00</td>\n",
       "      <td id=\"T_ce7ee_row4_col3\" class=\"data row4 col3\" >0.38</td>\n",
       "      <td id=\"T_ce7ee_row4_col4\" class=\"data row4 col4\" >0.09</td>\n",
       "    </tr>\n",
       "  </tbody>\n",
       "</table>\n"
      ],
      "text/plain": [
       "<pandas.io.formats.style.Styler at 0x19bc5bae700>"
      ]
     },
     "metadata": {},
     "output_type": "display_data"
    },
    {
     "name": "stdout",
     "output_type": "stream",
     "text": [
      "\n",
      "\n"
     ]
    },
    {
     "data": {
      "image/png": "[encoded data removed]",
      "text/plain": [
       "<Figure size 770x500 with 1 Axes>"
      ]
     },
     "metadata": {},
     "output_type": "display_data"
    }
   ],
   "source": [
    "# Вызовем функцию и получим данные.\n",
    "pipe_list = []\n",
    "for pipe in tqdm([dtr_pipe, hgbr_pipe, lgbmr_pipe, cbr_pipe, dum_pipe]):\n",
    "    pipe_list.append(get_preds_timing(pipe, X_train, y_train, X_val, y_val))\n",
    "# Создадим сводную таблицу.\n",
    "pipe_data = pd.DataFrame(pipe_list).iloc[:, 1:]\n",
    "pipe_data.columns = ['Алгоритм', 'RMSE (евро)', 'R2',\n",
    "                     'Время обучения (cек.)', 'Время предсказания (cек.)']\n",
    "\n",
    "display(pipe_data\n",
    "        .sort_values(by='RMSE (евро)')\n",
    "        .style\n",
    "        .format(precision=2)\n",
    "        .set_caption('Производительность алгоритмов.')\n",
    "        .set_table_styles(styles))\n",
    "print('\\n')\n",
    "pd.DataFrame(\n",
    "    {'DecisionTreeRegressor':\n",
    "     pipe_list[0][0].named_steps['dtr'].feature_importances_,\n",
    "     'LGBMRegressor':\n",
    "     pipe_list[2][0].named_steps['lgbmr'].feature_importances_/100000,\n",
    "     'CatBoostRegressor':\n",
    "     pipe_list[3][0].named_steps['cbr'].feature_importances_/100},\n",
    "    index=[col_names[col] for col in list(X_train.columns)]\n",
    "    ).sort_values(by='LGBMRegressor').plot.barh(figsize=(7.7, 5))\n",
    "plt.suptitle('Важность признаков.\\nБольше - важнее.')\n",
    "plt.tight_layout()\n",
    "plt.show();"
   ]
  },
  {
   "cell_type": "markdown",
   "metadata": {
    "id": "_M92nwfHDVQe"
   },
   "source": [
    "\n",
    "\n",
    "<div class=\"alert alert-block alert-success\">\n",
    "<b>Успех:</b> Важность факторов - хороший для аналитики инструмент!"
   ]
  },
  {
   "cell_type": "markdown",
   "metadata": {
    "id": "rUhyRrHwDVQe"
   },
   "source": [
    "#### Анализ моделей. Вывод.\n",
    "- Лучшая модель - LGBMRegressor.\n",
    "  - Точность: наименьшее значение целевой метрики `RMSE`;\n",
    "  - Время обучения: уступает только DecisionTreeRegressor, у которого `RMSE` гораздо выше.\n",
    "  - Время предсказания: на уровне остальных моделей, кроме CatBoostReggressor, у которого выше `RMSE` и время обучениявыше на порядок."
   ]
  },
  {
   "cell_type": "markdown",
   "metadata": {
    "id": "VNyOd0ZPDVQe"
   },
   "source": [
    "\n",
    "<div class=\"alert alert-block alert-success\">\n",
    "    \n",
    "<b>Успех[2]:</b> Все метрики корректно вычислены и проанализированы. Выбор лучшей модели обоснован!\n",
    "</div>"
   ]
  },
  {
   "cell_type": "markdown",
   "metadata": {
    "id": "wgDvVq7qDVQe"
   },
   "source": [
    "### Тестрование финальной модели.\n",
    "- Соединим обучающую и валидационную выборки для обучения лучшей модели с подобранными гиперпараметрами и тестирования на отложенной тестовой выборке."
   ]
  },
  {
   "cell_type": "code",
   "execution_count": null,
   "metadata": {
    "id": "b5pP55a_DVQe",
    "outputId": "48386850-e769-4035-d6cc-c6b39390a2d1",
    "scrolled": true
   },
   "outputs": [
    {
     "data": {
      "text/html": [
       "<style type=\"text/css\">\n",
       "#T_a4ddf caption {\n",
       "  text-align: center;\n",
       "  font-size: 130%;\n",
       "  font-weight: bold;\n",
       "  white-space: pre-wrap;\n",
       "}\n",
       "#T_a4ddf th {\n",
       "  max-width: 250px;\n",
       "}\n",
       "</style>\n",
       "<table id=\"T_a4ddf\">\n",
       "  <caption>Производительность финальной модели \n",
       "на отложенной тестовой выборке.</caption>\n",
       "  <thead>\n",
       "    <tr>\n",
       "      <th class=\"blank level0\" >&nbsp;</th>\n",
       "      <th id=\"T_a4ddf_level0_col0\" class=\"col_heading level0 col0\" >Алгоритм</th>\n",
       "      <th id=\"T_a4ddf_level0_col1\" class=\"col_heading level0 col1\" >RMSE (евро)</th>\n",
       "      <th id=\"T_a4ddf_level0_col2\" class=\"col_heading level0 col2\" >R2</th>\n",
       "      <th id=\"T_a4ddf_level0_col3\" class=\"col_heading level0 col3\" >Время обучения (cек.)</th>\n",
       "      <th id=\"T_a4ddf_level0_col4\" class=\"col_heading level0 col4\" >Время предсказания (cек.)</th>\n",
       "    </tr>\n",
       "  </thead>\n",
       "  <tbody>\n",
       "    <tr>\n",
       "      <th id=\"T_a4ddf_level0_row0\" class=\"row_heading level0 row0\" >0</th>\n",
       "      <td id=\"T_a4ddf_row0_col0\" class=\"data row0 col0\" >LGBMRegressor</td>\n",
       "      <td id=\"T_a4ddf_row0_col1\" class=\"data row0 col1\" >1535.42</td>\n",
       "      <td id=\"T_a4ddf_row0_col2\" class=\"data row0 col2\" >0.89</td>\n",
       "      <td id=\"T_a4ddf_row0_col3\" class=\"data row0 col3\" >3.88</td>\n",
       "      <td id=\"T_a4ddf_row0_col4\" class=\"data row0 col4\" >0.51</td>\n",
       "    </tr>\n",
       "  </tbody>\n",
       "</table>\n"
      ],
      "text/plain": [
       "<pandas.io.formats.style.Styler at 0x19bc9b20730>"
      ]
     },
     "metadata": {},
     "output_type": "display_data"
    }
   ],
   "source": [
    "# Соединим обучающую и валидационную выборки для финального тестирования.\n",
    "X_train_final = pd.concat([X_train, X_val])\n",
    "y_train_final = pd.concat([y_train, y_val])\n",
    "\n",
    "# Вызовем функцию и получим данные.\n",
    "final_pipe_list = (get_preds_timing(lgbmr_pipe, X_train_final, y_train_final, X_test, y_test))\n",
    "\n",
    "# Занесём данные в таблицу.\n",
    "final_pipe_data = pd.DataFrame(final_pipe_list).T.iloc[:, 1:]\n",
    "final_pipe_data.columns = ['Алгоритм', 'RMSE (евро)', 'R2',\n",
    "                     'Время обучения (cек.)', 'Время предсказания (cек.)']\n",
    "\n",
    "display(final_pipe_data\n",
    "        .sort_values(by='RMSE (евро)')\n",
    "        .style\n",
    "        .format(precision=2)\n",
    "        .set_caption('Производительность финальной модели \\nна отложенной '+\n",
    "                     'тестовой выборке.')\n",
    "        .set_table_styles(styles))"
   ]
  },
  {
   "cell_type": "markdown",
   "metadata": {
    "id": "u-gl1N3MDVQf"
   },
   "source": [
    "\n",
    "<div class=\"alert alert-block alert-success\">\n",
    "    \n",
    "<b>Успех[2]:</b> На тестовой получены хорошие оценки\n",
    "</div>"
   ]
  },
  {
   "cell_type": "markdown",
   "metadata": {
    "id": "zJqFwbLCPklF"
   },
   "source": [
    "## Общий вывод.\n",
    "\n",
    "### Анализ моделей.\n",
    "- Лучшая модель - LGBMRegressor.\n",
    "  - Точность: наименьшее значение целевой метрики `RMSE`;\n",
    "  - Время обучения: уступает только DecisionTreeRegressor, у которого `RMSE` гораздо выше.\n",
    "  - Время предсказания: на уровне остальных моделей, кроме CatBoostReggressor, у которого выше `RMSE` и время обучениявыше на порядок.\n",
    "- Все модели показали `RMSE` выше константной, что говорит об \"адекватности\" моделей.\n",
    "- Все модели показали относительно неплохое значение `R2`, что косвенно подтверждает их адекватность.\n",
    "\n",
    "### Информация о составе данных.\n",
    "- Датасет представлен 354369 объектами и 16 признаками.\n",
    "\n",
    "### Целевой признак.\n",
    "- Целевой признак количественный, непрерывный.\n",
    "\n",
    "### Задача машинного обучения.\n",
    "- Т.к. целевой признак определен, количественный, непрерывный, задача построения предиктивной модели сводится к регрессионному анализу, \"обучению с учителем\".\n",
    "\n",
    "### Очистка данных.\n",
    "- В данных было обнаружено большое количество аномалий и пропусков, которые были обработаны.\n",
    "- Были частично заполнены и удалены аномальные значения и неявные пропуски.\n",
    "- Былоо удаленыо 6 неинформативных признаков:\n",
    "  - `date_crawled`;\n",
    "  - `registration_month`;\n",
    "  - `date_created`;\n",
    "  - `number_of_pictures`;\n",
    "  - `last_seen`,\n",
    "  - `postal_code`.\n",
    "- Были удалены явные дубликаты.\n",
    "- Были полностью удалены явные пропуски.\n",
    "- Было удалено ~37% объектов с невосстановивыми пропусками.\n",
    "\n",
    "### Модели машинного обучения.\n",
    "- Была обучена базовая модель:\n",
    "  - линейная регрессия `LinearRegression`.\n",
    "- Были обучены с подбором гиперпараметров модели:\n",
    "  - `LGBMRegressor`;\n",
    "  - `HistGradientBoostingRegressor`;\n",
    "  - `CatBoostRegressor`;\n",
    "  - `DecisionTreeRegressor`.\n",
    "<br>\n",
    "\n",
    "### Полезные сведения о данных.\n",
    "- \"Портрет\" типичного автомобиля на платформе (признаки `vehicle_type`, `gearbox`, `fuel_type`, `repaired`, `brand` и `model`).\n",
    "  - Наиболее распространены автомобили со следующими характеристиками:\n",
    "\t- тип кузова - седан и малые авто;\n",
    "\t- коробка передач - механическая;\n",
    "\t- тип топлива - бензин;\n",
    "\t- марка и модель - Volkswagen Golf.\n",
    "  - Наиболее дорогие автомобили имеют следующие характеристики:\n",
    "    - тип кузова - кроссовер;\n",
    "\t- коробка передач - автоматическая;\n",
    "\t- тип топлива - гибридный;\n",
    "\t- марка - Porsche и Land Rover;\n",
    "\t- модель - Mercedes-Benz GL.\n",
    "\n",
    "### Рекомендации.\n",
    "- Т.к. клиенту важны качество и скорость предсказания модели, рекомендуем введение обязательных для заполнения полей и конечных списков для выбора характеристик автомобиля пр заполнении анкет, т.к. минимизация пропусков путём сбора качественных данных представляется более эффективной стратегией, чем\n",
    "    - сильно снижающая точность импутация случайными и пр. значениями;\n",
    "    - снижающая точность, ресурсо- и времязатратная импутация с помощью алгоритмов МО (e.g. множественная импутации MICE и пр.)."
   ]
  },
  {
   "cell_type": "markdown",
   "metadata": {
    "id": "7g25CztkDVQf"
   },
   "source": [
    "<div class=\"alert alert-block alert-danger\">\n",
    "<b>Ошибка:</b> После анализа и выбора одной наилучшей модели, должно идти  ее тестирование. Другие модели тестовую выборку использовать не должны.\n",
    "</div>\n"
   ]
  },
  {
   "cell_type": "markdown",
   "metadata": {
    "id": "TIS3euYnDVQf"
   },
   "source": [
    "\n",
    "\n",
    "<div class=\"alert alert-block alert-success\">\n",
    "<b>Успех:</b> Всегда приятно наблюдать подробный и структурированный итоговый вывод в конце работы!\n",
    "</div>\n",
    "\n",
    "\n",
    "<div class=\"alert alert-block alert-info\">\n",
    "<b>Совет:</b>\n",
    "\n",
    "Также если говорить, что можно ещё улучшить в подобных проектах, то я бы выделил такие моменты:<br>\n",
    "\n",
    "    \n",
    "1) У нас разный возраст машин. Есть гипотеза, что для разных возрастов - своё ценообразование. Поэтому, можно попробовать ввести фактор \"тип возраста\" (ретро, супер-ретро, старая, новая... надо подумать..)..<br>\n",
    "\n",
    "2) У некоторых моделей семейства бустингов, есть внутренний метод кодировки данных, который хорошо было бы попробовать\n",
    "</div>\n"
   ]
  },
  {
   "cell_type": "markdown",
   "metadata": {
    "id": "n5Ca18zBgdQ2"
   },
   "source": [
    "## Чек-лист проверки."
   ]
  },
  {
   "cell_type": "markdown",
   "metadata": {
    "id": "TeGd9TVjgdQ3"
   },
   "source": [
    "Поставьте 'x' в выполненных пунктах. Далее нажмите Shift+Enter."
   ]
  },
  {
   "cell_type": "markdown",
   "metadata": {
    "id": "tkyBDE_UgdQ3"
   },
   "source": [
    "- [x]  Jupyter Notebook открыт\n",
    "- [x]  Весь код выполняется без ошибок\n",
    "- [x]  Ячейки с кодом расположены в порядке исполнения\n",
    "- [x]  Выполнена загрузка и подготовка данных\n",
    "- [x]  Выполнено обучение моделей\n",
    "- [x]  Есть анализ скорости работы и качества моделей"
   ]
  },
  {
   "cell_type": "code",
   "execution_count": null,
   "metadata": {
    "id": "NI9BJdMRgdQ3"
   },
   "outputs": [],
   "source": []
  }
 ],
 "metadata": {
  "ExecuteTimeLog": [
   {
    "duration": 19477,
    "start_time": "2023-11-12T23:44:52.345Z"
   },
   {
    "duration": 0,
    "start_time": "2023-11-12T23:45:11.823Z"
   },
   {
    "duration": 0,
    "start_time": "2023-11-12T23:45:11.825Z"
   },
   {
    "duration": 0,
    "start_time": "2023-11-12T23:45:11.826Z"
   },
   {
    "duration": 0,
    "start_time": "2023-11-12T23:45:11.827Z"
   },
   {
    "duration": 9,
    "start_time": "2023-11-12T23:45:21.771Z"
   },
   {
    "duration": 5466,
    "start_time": "2023-11-12T23:46:52.467Z"
   },
   {
    "duration": 4812,
    "start_time": "2023-11-12T23:47:33.991Z"
   },
   {
    "duration": 12846,
    "start_time": "2023-11-12T23:48:30.640Z"
   },
   {
    "duration": 11655,
    "start_time": "2023-11-12T23:50:02.569Z"
   },
   {
    "duration": 10154,
    "start_time": "2023-11-12T23:51:25.850Z"
   },
   {
    "duration": 1012,
    "start_time": "2023-11-12T23:55:26.208Z"
   },
   {
    "duration": 22373,
    "start_time": "2023-11-12T23:56:09.698Z"
   },
   {
    "duration": 60,
    "start_time": "2023-11-12T23:56:37.259Z"
   },
   {
    "duration": 7,
    "start_time": "2023-11-12T23:56:38.322Z"
   },
   {
    "duration": 4654,
    "start_time": "2023-11-12T23:56:39.541Z"
   },
   {
    "duration": 324,
    "start_time": "2023-11-12T23:56:46.134Z"
   },
   {
    "duration": 6,
    "start_time": "2023-11-12T23:56:50.366Z"
   },
   {
    "duration": 6,
    "start_time": "2023-11-12T23:56:51.159Z"
   },
   {
    "duration": 3,
    "start_time": "2023-11-12T23:56:52.419Z"
   },
   {
    "duration": 7,
    "start_time": "2023-11-12T23:56:53.471Z"
   },
   {
    "duration": 12,
    "start_time": "2023-11-12T23:56:54.297Z"
   },
   {
    "duration": 78,
    "start_time": "2023-11-13T00:05:17.952Z"
   },
   {
    "duration": 139,
    "start_time": "2023-11-13T00:05:20.636Z"
   },
   {
    "duration": 90,
    "start_time": "2023-11-13T00:05:32.492Z"
   },
   {
    "duration": 6,
    "start_time": "2023-11-13T00:05:40.918Z"
   },
   {
    "duration": 3258,
    "start_time": "2023-11-13T00:05:47.490Z"
   },
   {
    "duration": 416,
    "start_time": "2023-11-13T00:06:00.963Z"
   },
   {
    "duration": 75,
    "start_time": "2023-11-13T00:38:20.081Z"
   },
   {
    "duration": 64,
    "start_time": "2023-11-13T00:49:49.588Z"
   },
   {
    "duration": 14,
    "start_time": "2023-11-13T00:53:06.957Z"
   },
   {
    "duration": 113,
    "start_time": "2023-11-13T01:09:51.556Z"
   },
   {
    "duration": 7,
    "start_time": "2023-11-13T01:10:07.115Z"
   },
   {
    "duration": 6,
    "start_time": "2023-11-13T01:11:45.161Z"
   },
   {
    "duration": 8,
    "start_time": "2023-11-13T01:11:47.999Z"
   },
   {
    "duration": 11,
    "start_time": "2023-11-13T01:11:48.917Z"
   },
   {
    "duration": 7,
    "start_time": "2023-11-13T01:11:49.665Z"
   },
   {
    "duration": 12,
    "start_time": "2023-11-13T01:11:52.677Z"
   },
   {
    "duration": 55,
    "start_time": "2023-11-13T01:12:05.123Z"
   },
   {
    "duration": 2310,
    "start_time": "2023-11-13T01:12:17.179Z"
   },
   {
    "duration": 281,
    "start_time": "2023-11-13T01:12:19.491Z"
   },
   {
    "duration": 4,
    "start_time": "2023-11-13T01:12:22.624Z"
   },
   {
    "duration": 5,
    "start_time": "2023-11-13T01:12:23.177Z"
   },
   {
    "duration": 69,
    "start_time": "2023-11-13T01:12:33.561Z"
   },
   {
    "duration": 127,
    "start_time": "2023-11-13T01:12:34.919Z"
   },
   {
    "duration": 86,
    "start_time": "2023-11-13T01:12:44.747Z"
   },
   {
    "duration": 6,
    "start_time": "2023-11-13T01:12:48.094Z"
   },
   {
    "duration": 3229,
    "start_time": "2023-11-13T01:12:58.688Z"
   },
   {
    "duration": 2231,
    "start_time": "2023-11-13T01:15:05.745Z"
   },
   {
    "duration": 295,
    "start_time": "2023-11-13T01:15:07.978Z"
   },
   {
    "duration": 4,
    "start_time": "2023-11-13T01:15:09.330Z"
   },
   {
    "duration": 4,
    "start_time": "2023-11-13T01:15:12.200Z"
   },
   {
    "duration": 3,
    "start_time": "2023-11-13T01:22:52.316Z"
   },
   {
    "duration": 4,
    "start_time": "2023-11-13T01:23:33.176Z"
   },
   {
    "duration": 3,
    "start_time": "2023-11-13T01:24:26.590Z"
   },
   {
    "duration": 5,
    "start_time": "2023-11-13T01:25:12.069Z"
   },
   {
    "duration": 104,
    "start_time": "2023-11-13T01:25:32.558Z"
   },
   {
    "duration": 2265,
    "start_time": "2023-11-13T01:26:15.671Z"
   },
   {
    "duration": 302,
    "start_time": "2023-11-13T01:26:17.939Z"
   },
   {
    "duration": 4,
    "start_time": "2023-11-13T01:26:18.242Z"
   },
   {
    "duration": 5,
    "start_time": "2023-11-13T01:26:18.248Z"
   },
   {
    "duration": 67,
    "start_time": "2023-11-13T01:26:42.583Z"
   },
   {
    "duration": 106,
    "start_time": "2023-11-13T01:26:45.269Z"
   },
   {
    "duration": 83,
    "start_time": "2023-11-13T01:36:20.544Z"
   },
   {
    "duration": 2432,
    "start_time": "2023-11-13T01:36:31.877Z"
   },
   {
    "duration": 291,
    "start_time": "2023-11-13T01:36:34.311Z"
   },
   {
    "duration": 5,
    "start_time": "2023-11-13T01:36:34.604Z"
   },
   {
    "duration": 6,
    "start_time": "2023-11-13T01:36:34.611Z"
   },
   {
    "duration": 72,
    "start_time": "2023-11-13T01:36:49.786Z"
   },
   {
    "duration": 99,
    "start_time": "2023-11-13T01:36:51.008Z"
   },
   {
    "duration": 96,
    "start_time": "2023-11-13T01:36:56.628Z"
   },
   {
    "duration": 6,
    "start_time": "2023-11-13T01:37:02.573Z"
   },
   {
    "duration": 3115,
    "start_time": "2023-11-13T01:37:03.774Z"
   },
   {
    "duration": 402,
    "start_time": "2023-11-13T01:37:34.055Z"
   },
   {
    "duration": 219,
    "start_time": "2023-11-13T01:37:38.671Z"
   },
   {
    "duration": 1713,
    "start_time": "2023-11-13T01:39:41.210Z"
   },
   {
    "duration": 271,
    "start_time": "2023-11-13T01:39:42.925Z"
   },
   {
    "duration": 4,
    "start_time": "2023-11-13T01:39:43.199Z"
   },
   {
    "duration": 7,
    "start_time": "2023-11-13T01:39:43.204Z"
   },
   {
    "duration": 65,
    "start_time": "2023-11-13T01:39:59.200Z"
   },
   {
    "duration": 101,
    "start_time": "2023-11-13T01:40:02.365Z"
   },
   {
    "duration": 83,
    "start_time": "2023-11-13T01:40:06.128Z"
   },
   {
    "duration": 5,
    "start_time": "2023-11-13T01:40:09.027Z"
   },
   {
    "duration": 3086,
    "start_time": "2023-11-13T01:40:09.998Z"
   },
   {
    "duration": 406,
    "start_time": "2023-11-13T01:40:14.927Z"
   },
   {
    "duration": 216,
    "start_time": "2023-11-13T01:40:17.696Z"
   },
   {
    "duration": 3,
    "start_time": "2023-11-13T01:40:41.641Z"
   },
   {
    "duration": 17,
    "start_time": "2023-11-13T01:40:49.922Z"
   },
   {
    "duration": 194,
    "start_time": "2023-11-13T01:40:51.037Z"
   },
   {
    "duration": 20650,
    "start_time": "2023-11-13T01:41:33.916Z"
   },
   {
    "duration": 18,
    "start_time": "2023-11-13T01:42:39.222Z"
   },
   {
    "duration": 142,
    "start_time": "2023-11-13T01:42:40.538Z"
   },
   {
    "duration": 24986,
    "start_time": "2023-11-13T01:43:44.266Z"
   },
   {
    "duration": 17,
    "start_time": "2023-11-13T01:44:18.552Z"
   },
   {
    "duration": 151,
    "start_time": "2023-11-13T01:44:20.391Z"
   },
   {
    "duration": 26092,
    "start_time": "2023-11-13T01:45:38.565Z"
   },
   {
    "duration": 52,
    "start_time": "2023-11-13T01:46:04.660Z"
   },
   {
    "duration": 7,
    "start_time": "2023-11-13T01:46:04.713Z"
   },
   {
    "duration": 2577,
    "start_time": "2023-11-13T01:46:04.722Z"
   },
   {
    "duration": 311,
    "start_time": "2023-11-13T01:46:07.301Z"
   },
   {
    "duration": 4,
    "start_time": "2023-11-13T01:46:07.613Z"
   },
   {
    "duration": 11,
    "start_time": "2023-11-13T01:46:07.619Z"
   },
   {
    "duration": 4,
    "start_time": "2023-11-13T01:46:07.631Z"
   },
   {
    "duration": 26106,
    "start_time": "2023-11-13T01:46:30.211Z"
   },
   {
    "duration": 56,
    "start_time": "2023-11-13T01:46:56.319Z"
   },
   {
    "duration": 7,
    "start_time": "2023-11-13T01:46:56.377Z"
   },
   {
    "duration": 2017,
    "start_time": "2023-11-13T01:46:56.386Z"
   },
   {
    "duration": 284,
    "start_time": "2023-11-13T01:46:58.405Z"
   },
   {
    "duration": 8,
    "start_time": "2023-11-13T01:46:58.691Z"
   },
   {
    "duration": 6,
    "start_time": "2023-11-13T01:46:58.700Z"
   },
   {
    "duration": 5,
    "start_time": "2023-11-13T01:46:58.708Z"
   },
   {
    "duration": 6,
    "start_time": "2023-11-13T01:46:58.714Z"
   },
   {
    "duration": 10,
    "start_time": "2023-11-13T01:46:58.723Z"
   },
   {
    "duration": 10,
    "start_time": "2023-11-13T01:46:58.734Z"
   },
   {
    "duration": 11,
    "start_time": "2023-11-13T01:46:58.746Z"
   },
   {
    "duration": 58825,
    "start_time": "2023-11-13T01:46:58.759Z"
   },
   {
    "duration": 1972,
    "start_time": "2023-11-13T01:47:57.586Z"
   },
   {
    "duration": 0,
    "start_time": "2023-11-13T01:47:59.560Z"
   },
   {
    "duration": 0,
    "start_time": "2023-11-13T01:47:59.561Z"
   },
   {
    "duration": 0,
    "start_time": "2023-11-13T01:47:59.562Z"
   },
   {
    "duration": 0,
    "start_time": "2023-11-13T01:47:59.563Z"
   },
   {
    "duration": 0,
    "start_time": "2023-11-13T01:47:59.564Z"
   },
   {
    "duration": 0,
    "start_time": "2023-11-13T01:47:59.565Z"
   },
   {
    "duration": 0,
    "start_time": "2023-11-13T01:47:59.566Z"
   },
   {
    "duration": 0,
    "start_time": "2023-11-13T01:47:59.567Z"
   },
   {
    "duration": 0,
    "start_time": "2023-11-13T01:47:59.568Z"
   },
   {
    "duration": 0,
    "start_time": "2023-11-13T01:47:59.569Z"
   },
   {
    "duration": 0,
    "start_time": "2023-11-13T01:47:59.570Z"
   },
   {
    "duration": 17,
    "start_time": "2023-11-13T01:50:16.433Z"
   },
   {
    "duration": 393,
    "start_time": "2023-11-13T01:50:16.832Z"
   },
   {
    "duration": 6,
    "start_time": "2023-11-13T01:50:27.657Z"
   },
   {
    "duration": 6,
    "start_time": "2023-11-13T01:50:31.197Z"
   },
   {
    "duration": 44255,
    "start_time": "2023-11-13T01:50:33.989Z"
   },
   {
    "duration": 0,
    "start_time": "2023-11-13T01:51:18.246Z"
   },
   {
    "duration": 0,
    "start_time": "2023-11-13T01:51:18.247Z"
   },
   {
    "duration": 0,
    "start_time": "2023-11-13T01:51:18.248Z"
   },
   {
    "duration": 0,
    "start_time": "2023-11-13T01:51:18.249Z"
   },
   {
    "duration": 0,
    "start_time": "2023-11-13T01:51:18.250Z"
   },
   {
    "duration": 0,
    "start_time": "2023-11-13T01:51:18.251Z"
   },
   {
    "duration": 0,
    "start_time": "2023-11-13T01:51:18.252Z"
   },
   {
    "duration": 0,
    "start_time": "2023-11-13T01:51:18.253Z"
   },
   {
    "duration": 0,
    "start_time": "2023-11-13T01:51:18.254Z"
   },
   {
    "duration": 0,
    "start_time": "2023-11-13T01:51:18.255Z"
   },
   {
    "duration": 0,
    "start_time": "2023-11-13T01:51:18.256Z"
   },
   {
    "duration": 0,
    "start_time": "2023-11-13T01:51:18.257Z"
   },
   {
    "duration": 0,
    "start_time": "2023-11-13T01:51:18.258Z"
   },
   {
    "duration": 13,
    "start_time": "2023-11-13T01:51:20.273Z"
   },
   {
    "duration": 108,
    "start_time": "2023-11-13T01:52:13.106Z"
   },
   {
    "duration": 24993,
    "start_time": "2023-11-13T01:52:40.641Z"
   },
   {
    "duration": 46,
    "start_time": "2023-11-13T01:53:05.637Z"
   },
   {
    "duration": 7,
    "start_time": "2023-11-13T01:53:05.684Z"
   },
   {
    "duration": 1880,
    "start_time": "2023-11-13T01:53:05.693Z"
   },
   {
    "duration": 286,
    "start_time": "2023-11-13T01:53:07.575Z"
   },
   {
    "duration": 4,
    "start_time": "2023-11-13T01:53:07.863Z"
   },
   {
    "duration": 7,
    "start_time": "2023-11-13T01:53:07.868Z"
   },
   {
    "duration": 5,
    "start_time": "2023-11-13T01:53:07.876Z"
   },
   {
    "duration": 20,
    "start_time": "2023-11-13T01:53:07.883Z"
   },
   {
    "duration": 38,
    "start_time": "2023-11-13T01:53:07.905Z"
   },
   {
    "duration": 26,
    "start_time": "2023-11-13T01:53:07.944Z"
   },
   {
    "duration": 12,
    "start_time": "2023-11-13T01:53:07.971Z"
   },
   {
    "duration": 2078,
    "start_time": "2023-11-13T01:53:07.984Z"
   },
   {
    "duration": 116,
    "start_time": "2023-11-13T01:56:38.911Z"
   },
   {
    "duration": 1912,
    "start_time": "2023-11-13T01:56:52.701Z"
   },
   {
    "duration": 14,
    "start_time": "2023-11-13T01:59:43.706Z"
   },
   {
    "duration": 656,
    "start_time": "2023-11-13T01:59:48.273Z"
   },
   {
    "duration": 11,
    "start_time": "2023-11-13T02:00:13.197Z"
   },
   {
    "duration": 520,
    "start_time": "2023-11-13T02:00:17.305Z"
   },
   {
    "duration": 20034,
    "start_time": "2023-11-13T02:01:24.373Z"
   },
   {
    "duration": 58,
    "start_time": "2023-11-13T02:01:44.410Z"
   },
   {
    "duration": 7,
    "start_time": "2023-11-13T02:01:44.470Z"
   },
   {
    "duration": 2431,
    "start_time": "2023-11-13T02:01:44.478Z"
   },
   {
    "duration": 283,
    "start_time": "2023-11-13T02:01:46.911Z"
   },
   {
    "duration": 6,
    "start_time": "2023-11-13T02:01:47.195Z"
   },
   {
    "duration": 5,
    "start_time": "2023-11-13T02:01:47.203Z"
   },
   {
    "duration": 4,
    "start_time": "2023-11-13T02:01:47.209Z"
   },
   {
    "duration": 7,
    "start_time": "2023-11-13T02:01:47.214Z"
   },
   {
    "duration": 10,
    "start_time": "2023-11-13T02:01:47.222Z"
   },
   {
    "duration": 7,
    "start_time": "2023-11-13T02:01:47.233Z"
   },
   {
    "duration": 11,
    "start_time": "2023-11-13T02:01:47.242Z"
   },
   {
    "duration": 2062,
    "start_time": "2023-11-13T02:01:47.255Z"
   },
   {
    "duration": 17406,
    "start_time": "2023-11-13T02:04:21.487Z"
   },
   {
    "duration": 50,
    "start_time": "2023-11-13T02:04:38.896Z"
   },
   {
    "duration": 8,
    "start_time": "2023-11-13T02:04:38.948Z"
   },
   {
    "duration": 2888,
    "start_time": "2023-11-13T02:04:38.958Z"
   },
   {
    "duration": 280,
    "start_time": "2023-11-13T02:04:41.848Z"
   },
   {
    "duration": 6,
    "start_time": "2023-11-13T02:04:42.129Z"
   },
   {
    "duration": 6,
    "start_time": "2023-11-13T02:04:42.136Z"
   },
   {
    "duration": 4,
    "start_time": "2023-11-13T02:04:42.144Z"
   },
   {
    "duration": 7,
    "start_time": "2023-11-13T02:04:42.150Z"
   },
   {
    "duration": 40,
    "start_time": "2023-11-13T02:04:42.159Z"
   },
   {
    "duration": 7,
    "start_time": "2023-11-13T02:04:42.201Z"
   },
   {
    "duration": 13,
    "start_time": "2023-11-13T02:04:42.210Z"
   },
   {
    "duration": 2048,
    "start_time": "2023-11-13T02:04:42.224Z"
   },
   {
    "duration": 116,
    "start_time": "2023-11-13T02:05:11.131Z"
   },
   {
    "duration": 788,
    "start_time": "2023-11-13T02:05:16.473Z"
   },
   {
    "duration": 12,
    "start_time": "2023-11-13T02:05:39.212Z"
   },
   {
    "duration": 7240,
    "start_time": "2023-11-13T02:05:59.000Z"
   },
   {
    "duration": 17927,
    "start_time": "2023-11-13T02:25:12.834Z"
   },
   {
    "duration": 51,
    "start_time": "2023-11-13T02:25:30.763Z"
   },
   {
    "duration": 15,
    "start_time": "2023-11-13T02:25:30.816Z"
   },
   {
    "duration": 2041,
    "start_time": "2023-11-13T02:25:30.833Z"
   },
   {
    "duration": 282,
    "start_time": "2023-11-13T02:25:32.875Z"
   },
   {
    "duration": 3,
    "start_time": "2023-11-13T02:25:33.159Z"
   },
   {
    "duration": 4,
    "start_time": "2023-11-13T02:25:33.164Z"
   },
   {
    "duration": 4,
    "start_time": "2023-11-13T02:25:33.170Z"
   },
   {
    "duration": 26,
    "start_time": "2023-11-13T02:25:33.175Z"
   },
   {
    "duration": 10,
    "start_time": "2023-11-13T02:25:33.204Z"
   },
   {
    "duration": 6,
    "start_time": "2023-11-13T02:25:33.216Z"
   },
   {
    "duration": 10,
    "start_time": "2023-11-13T02:25:33.224Z"
   },
   {
    "duration": 7202,
    "start_time": "2023-11-13T02:25:33.236Z"
   },
   {
    "duration": 7150,
    "start_time": "2023-11-13T02:25:55.930Z"
   },
   {
    "duration": 12,
    "start_time": "2023-11-13T02:27:10.873Z"
   },
   {
    "duration": 1867,
    "start_time": "2023-11-13T02:27:14.387Z"
   },
   {
    "duration": 4,
    "start_time": "2023-11-13T02:28:45.434Z"
   },
   {
    "duration": 3,
    "start_time": "2023-11-13T02:29:00.266Z"
   },
   {
    "duration": 11,
    "start_time": "2023-11-13T02:29:31.412Z"
   },
   {
    "duration": 10,
    "start_time": "2023-11-13T02:29:44.083Z"
   },
   {
    "duration": 10,
    "start_time": "2023-11-13T02:29:50.426Z"
   },
   {
    "duration": 10,
    "start_time": "2023-11-13T02:29:54.091Z"
   },
   {
    "duration": 3,
    "start_time": "2023-11-13T02:30:08.900Z"
   },
   {
    "duration": 28955,
    "start_time": "2023-11-13T02:30:53.382Z"
   },
   {
    "duration": 17,
    "start_time": "2023-11-13T02:31:31.681Z"
   },
   {
    "duration": 8,
    "start_time": "2023-11-13T02:31:34.431Z"
   },
   {
    "duration": 11,
    "start_time": "2023-11-13T02:31:36.733Z"
   },
   {
    "duration": 1981,
    "start_time": "2023-11-13T02:31:40.197Z"
   },
   {
    "duration": 4,
    "start_time": "2023-11-13T02:31:55.876Z"
   },
   {
    "duration": 22480,
    "start_time": "2023-11-13T02:36:24.492Z"
   },
   {
    "duration": 24265,
    "start_time": "2023-11-13T02:37:09.176Z"
   },
   {
    "duration": 61,
    "start_time": "2023-11-13T02:37:33.444Z"
   },
   {
    "duration": 8,
    "start_time": "2023-11-13T02:37:33.507Z"
   },
   {
    "duration": 2275,
    "start_time": "2023-11-13T02:37:33.517Z"
   },
   {
    "duration": 285,
    "start_time": "2023-11-13T02:37:35.793Z"
   },
   {
    "duration": 5,
    "start_time": "2023-11-13T02:37:36.079Z"
   },
   {
    "duration": 17,
    "start_time": "2023-11-13T02:37:36.085Z"
   },
   {
    "duration": 5,
    "start_time": "2023-11-13T02:37:36.103Z"
   },
   {
    "duration": 7,
    "start_time": "2023-11-13T02:37:36.109Z"
   },
   {
    "duration": 13,
    "start_time": "2023-11-13T02:37:36.118Z"
   },
   {
    "duration": 7,
    "start_time": "2023-11-13T02:37:36.132Z"
   },
   {
    "duration": 12,
    "start_time": "2023-11-13T02:37:36.140Z"
   },
   {
    "duration": 29452,
    "start_time": "2023-11-13T02:37:36.153Z"
   },
   {
    "duration": 835,
    "start_time": "2023-11-13T02:38:14.265Z"
   },
   {
    "duration": 72,
    "start_time": "2023-11-13T02:38:27.869Z"
   },
   {
    "duration": 124,
    "start_time": "2023-11-13T02:38:30.352Z"
   },
   {
    "duration": 90,
    "start_time": "2023-11-13T02:38:32.919Z"
   },
   {
    "duration": 8,
    "start_time": "2023-11-13T02:38:35.388Z"
   },
   {
    "duration": 3440,
    "start_time": "2023-11-13T02:38:38.695Z"
   },
   {
    "duration": 429,
    "start_time": "2023-11-13T02:38:48.824Z"
   },
   {
    "duration": 214,
    "start_time": "2023-11-13T02:38:52.164Z"
   },
   {
    "duration": 3,
    "start_time": "2023-11-13T02:38:56.348Z"
   },
   {
    "duration": 18,
    "start_time": "2023-11-13T02:39:00.047Z"
   },
   {
    "duration": 122,
    "start_time": "2023-11-13T02:39:01.253Z"
   },
   {
    "duration": 6,
    "start_time": "2023-11-13T02:39:05.974Z"
   },
   {
    "duration": 9,
    "start_time": "2023-11-13T02:39:07.739Z"
   },
   {
    "duration": 252195,
    "start_time": "2023-11-13T02:39:10.827Z"
   },
   {
    "duration": 0,
    "start_time": "2023-11-13T02:43:23.024Z"
   },
   {
    "duration": 20708,
    "start_time": "2023-11-13T02:43:29.701Z"
   },
   {
    "duration": 24401,
    "start_time": "2023-11-13T02:43:53.743Z"
   },
   {
    "duration": 6,
    "start_time": "2023-11-13T02:44:41.102Z"
   },
   {
    "duration": 6,
    "start_time": "2023-11-13T02:44:48.112Z"
   },
   {
    "duration": 445425,
    "start_time": "2023-11-13T02:44:52.596Z"
   },
   {
    "duration": 19289,
    "start_time": "2023-11-13T02:52:23.992Z"
   },
   {
    "duration": 6,
    "start_time": "2023-11-13T02:52:54.900Z"
   },
   {
    "duration": 7,
    "start_time": "2023-11-13T02:52:58.330Z"
   },
   {
    "duration": 217935,
    "start_time": "2023-11-13T02:52:59.586Z"
   },
   {
    "duration": 0,
    "start_time": "2023-11-13T02:56:37.522Z"
   },
   {
    "duration": 24520,
    "start_time": "2023-11-13T02:56:50.512Z"
   },
   {
    "duration": 59,
    "start_time": "2023-11-13T02:57:15.035Z"
   },
   {
    "duration": 7,
    "start_time": "2023-11-13T02:57:15.096Z"
   },
   {
    "duration": 2119,
    "start_time": "2023-11-13T02:57:15.105Z"
   },
   {
    "duration": 295,
    "start_time": "2023-11-13T02:57:17.226Z"
   },
   {
    "duration": 4,
    "start_time": "2023-11-13T02:57:17.523Z"
   },
   {
    "duration": 6,
    "start_time": "2023-11-13T02:57:17.528Z"
   },
   {
    "duration": 7,
    "start_time": "2023-11-13T02:57:17.535Z"
   },
   {
    "duration": 6,
    "start_time": "2023-11-13T02:57:17.544Z"
   },
   {
    "duration": 11,
    "start_time": "2023-11-13T02:57:17.552Z"
   },
   {
    "duration": 11,
    "start_time": "2023-11-13T02:57:17.564Z"
   },
   {
    "duration": 12,
    "start_time": "2023-11-13T02:57:17.598Z"
   },
   {
    "duration": 57853,
    "start_time": "2023-11-13T02:57:17.612Z"
   },
   {
    "duration": 29839,
    "start_time": "2023-11-13T02:58:15.468Z"
   },
   {
    "duration": 752,
    "start_time": "2023-11-13T02:58:45.308Z"
   },
   {
    "duration": 91,
    "start_time": "2023-11-13T02:58:46.061Z"
   },
   {
    "duration": 123,
    "start_time": "2023-11-13T02:58:46.153Z"
   },
   {
    "duration": 95,
    "start_time": "2023-11-13T02:58:46.277Z"
   },
   {
    "duration": 6,
    "start_time": "2023-11-13T02:58:46.374Z"
   },
   {
    "duration": 3345,
    "start_time": "2023-11-13T02:58:46.381Z"
   },
   {
    "duration": 427,
    "start_time": "2023-11-13T02:58:49.728Z"
   },
   {
    "duration": 214,
    "start_time": "2023-11-13T02:58:50.157Z"
   },
   {
    "duration": 3,
    "start_time": "2023-11-13T02:58:50.372Z"
   },
   {
    "duration": 22,
    "start_time": "2023-11-13T02:58:50.377Z"
   },
   {
    "duration": 212,
    "start_time": "2023-11-13T02:58:50.400Z"
   },
   {
    "duration": 6,
    "start_time": "2023-11-13T02:58:50.613Z"
   },
   {
    "duration": 13,
    "start_time": "2023-11-13T02:58:50.621Z"
   },
   {
    "duration": 70456,
    "start_time": "2023-11-13T02:58:50.635Z"
   },
   {
    "duration": 0,
    "start_time": "2023-11-13T03:00:01.092Z"
   }
  ],
  "accelerator": "GPU",
  "colab": {
   "gpuType": "T4",
   "provenance": [],
   "toc_visible": true
  },
  "kernelspec": {
   "display_name": "Python 3 (ipykernel)",
   "language": "python",
   "name": "python3"
  },
  "language_info": {
   "codemirror_mode": {
    "name": "ipython",
    "version": 3
   },
   "file_extension": ".py",
   "mimetype": "text/x-python",
   "name": "python",
   "nbconvert_exporter": "python",
   "pygments_lexer": "ipython3",
   "version": "3.10.9"
  },
  "toc": {
   "base_numbering": 1,
   "nav_menu": {},
   "number_sections": true,
   "sideBar": true,
   "skip_h1_title": true,
   "title_cell": "Table of Contents",
   "title_sidebar": "Contents",
   "toc_cell": false,
   "toc_position": {
    "height": "calc(100% - 180px)",
    "left": "10px",
    "top": "150px",
    "width": "216px"
   },
   "toc_section_display": true,
   "toc_window_display": false
  },
  "widgets": {
   "application/vnd.jupyter.widget-state+json": {
    "state": {},
    "version_major": 2,
    "version_minor": 0
   }
  }
 },
 "nbformat": 4,
 "nbformat_minor": 4
}
