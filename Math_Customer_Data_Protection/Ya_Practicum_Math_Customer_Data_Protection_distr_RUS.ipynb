{
 "cells": [
  {
   "cell_type": "markdown",
   "metadata": {},
   "source": [
    "# <div style=\"text-align: center\">Защита персональных данных клиентов. </div>"
   ]
  },
  {
   "cell_type": "markdown",
   "metadata": {},
   "source": [
    "Страховой компании «Хоть потоп» необходимо предсказывать кол-во страховых выплат клиентам. Данные клиентов, используемые для предсказаний, нужно защитить. Необходимо разработать такой метод преобразования данных, чтобы по ним было сложно восстановить персональную информацию. Необходимо обосновать корректность его работы.\n",
    "\n",
    "Нужно защитить данные, чтобы при преобразовании качество моделей машинного обучения не ухудшилось. Подбирать наилучшую модель не требуется.\n",
    "\n",
    "- __Описание данных:__\n",
    "  - Источник данных: https://code.s3.yandex.net/datasets/insurance.csv.\n",
    "  - Признаки: пол, возраст и зарплата застрахованного, количество членов его семьи.\n",
    "  - Целевой признак: количество страховых выплат клиенту за последние 5 лет.\n",
    "  \n",
    "  \n",
    "- __Цели и план работы__:\n",
    "  - __Цели работы:__\n",
    "    - Разработать метод преобразования данных, который защитит персональную информацию клиентов и не повлияет на результаты прогнозирования страховых выплат.\n",
    "    - Проверить метод на модели линейной регрессии.<br><br>\n",
    "    \n",
    "  - __План работы:__\n",
    "<div class=\"toc\"><ul class=\"toc-item\"><li><span><a href=\"#Загрузка-библиотек.\" data-toc-modified-id=\"Загрузка-библиотек.-1\"><span class=\"toc-item-num\">1&nbsp;&nbsp;</span>Загрузка библиотек.</a></span></li><li><span><a href=\"#Установка-параметров-проекта.\" data-toc-modified-id=\"Установка-параметров-проекта.-2\"><span class=\"toc-item-num\">2&nbsp;&nbsp;</span>Установка параметров проекта.</a></span></li><li><span><a href=\"#Загрузка-и-изучение-данных.\" data-toc-modified-id=\"Загрузка-и-изучение-данных.-3\"><span class=\"toc-item-num\">3&nbsp;&nbsp;</span>Загрузка и изучение данных.</a></span><ul class=\"toc-item\"><li><span><a href=\"#Загрузка-данных.\" data-toc-modified-id=\"Загрузка-данных.-3.1\"><span class=\"toc-item-num\">3.1&nbsp;&nbsp;</span>Загрузка данных.</a></span></li><li><span><a href=\"#Изучение-данных.\" data-toc-modified-id=\"Изучение-данных.-3.2\"><span class=\"toc-item-num\">3.2&nbsp;&nbsp;</span>Изучение данных.</a></span><ul class=\"toc-item\"><li><span><a href=\"#Изучение-данных.-Вывод.\" data-toc-modified-id=\"Изучение-данных.-Вывод.-3.2.1\"><span class=\"toc-item-num\">3.2.1&nbsp;&nbsp;</span>Изучение данных. Вывод.</a></span></li><li><span><a href=\"#Удаление-дубликатов.\" data-toc-modified-id=\"Удаление-дубликатов.-3.2.2\"><span class=\"toc-item-num\">3.2.2&nbsp;&nbsp;</span>Удаление дубликатов.</a></span></li></ul></li></ul></li><li><span><a href=\"#Умножение-матриц.\" data-toc-modified-id=\"Умножение-матриц.-4\"><span class=\"toc-item-num\">4&nbsp;&nbsp;</span>Умножение матриц.</a></span><ul class=\"toc-item\"><li><span><a href=\"#Умножение-матриц.-Вывод.\" data-toc-modified-id=\"Умножение-матриц.-Вывод.-4.1\"><span class=\"toc-item-num\">4.1&nbsp;&nbsp;</span>Умножение матриц. Вывод.</a></span></li></ul></li><li><span><a href=\"#Алгоритм-преобразования.\" data-toc-modified-id=\"Алгоритм-преобразования.-5\"><span class=\"toc-item-num\">5&nbsp;&nbsp;</span>Алгоритм преобразования.</a></span><ul class=\"toc-item\"><li><span><a href=\"#Алгоритм.\" data-toc-modified-id=\"Алгоритм.-5.1\"><span class=\"toc-item-num\">5.1&nbsp;&nbsp;</span>Алгоритм.</a></span></li><li><span><a href=\"#Проверка-работы-алгоритма.\" data-toc-modified-id=\"Проверка-работы-алгоритма.-5.2\"><span class=\"toc-item-num\">5.2&nbsp;&nbsp;</span>Проверка работы алгоритма.</a></span></li><li><span><a href=\"#Обоснование.\" data-toc-modified-id=\"Обоснование.-5.3\"><span class=\"toc-item-num\">5.3&nbsp;&nbsp;</span>Обоснование.</a></span></li></ul></li><li><span><a href=\"#Проверка-алгоритма-на-линейной-регрессии.\" data-toc-modified-id=\"Проверка-алгоритма-на-линейной-регрессии.-6\"><span class=\"toc-item-num\">6&nbsp;&nbsp;</span>Проверка алгоритма на линейной регрессии.</a></span><ul class=\"toc-item\"><li><span><a href=\"#Проверка-$R^2$-c-преобразованием-предикторов.\" data-toc-modified-id=\"Проверка-$R^2$-c-преобразованием-предикторов.-6.1\"><span class=\"toc-item-num\">6.1&nbsp;&nbsp;</span>Проверка $R^2$ c преобразованием предикторов.</a></span></li><li><span><a href=\"#Проверка-$R^2$-без-преобразования-предикторов.\" data-toc-modified-id=\"Проверка-$R^2$-без-преобразования-предикторов.-6.2\"><span class=\"toc-item-num\">6.2&nbsp;&nbsp;</span>Проверка $R^2$ без преобразования предикторов.</a></span></li><li><span><a href=\"#Сравнение-$R^2$.\" data-toc-modified-id=\"Сравнение-$R^2$.-6.3\"><span class=\"toc-item-num\">6.3&nbsp;&nbsp;</span>Сравнение $R^2$.</a></span></li><li><span><a href=\"#Проверка-алгоритма-на-линейной-регрессии.-Вывод.\" data-toc-modified-id=\"Проверка-алгоритма-на-линейной-регрессии.-Вывод.-6.4\"><span class=\"toc-item-num\">6.4&nbsp;&nbsp;</span>Проверка алгоритма на линейной регрессии. Вывод.</a></span></li></ul></li><li><span><a href=\"#Общий-вывод.\" data-toc-modified-id=\"Общий-вывод.-7\"><span class=\"toc-item-num\">7&nbsp;&nbsp;</span>Общий вывод.</a></span></li><li><span><a href=\"#Чек-лист-проверки\" data-toc-modified-id=\"Чек-лист-проверки-8\"><span class=\"toc-item-num\">8&nbsp;&nbsp;</span>Чек-лист проверки</a></span></li></ul></div>"
   ]
  },
  {
   "cell_type": "markdown",
   "metadata": {},
   "source": [
    "## Загрузка библиотек."
   ]
  },
  {
   "cell_type": "code",
   "execution_count": 1,
   "metadata": {},
   "outputs": [],
   "source": [
    "# Работа с таблицами.\n",
    "import pandas as pd\n",
    "# Визуализация.\n",
    "import matplotlib.pyplot as plt\n",
    "# Рассчёты.\n",
    "import numpy as np\n",
    "# Работа с моделями.\n",
    "from sklearn.model_selection import  train_test_split\n",
    "from sklearn.base import BaseEstimator, TransformerMixin\n",
    "from sklearn.pipeline import Pipeline\n",
    "from sklearn.linear_model import LinearRegression\n",
    "from sklearn.metrics import r2_score\n",
    "# Кастомизация вывода.\n",
    "from IPython.display import display_html "
   ]
  },
  {
   "cell_type": "markdown",
   "metadata": {},
   "source": [
    "## Установка параметров проекта."
   ]
  },
  {
   "cell_type": "code",
   "execution_count": 2,
   "metadata": {},
   "outputs": [],
   "source": [
    "# Установим стиль отображения заголовков таблиц.\n",
    "styles = [\n",
    "    dict(selector='caption',\n",
    "         props=[('text-align', 'center'),\n",
    "                ('font-size', '130%'),\n",
    "                ('font-weight', 'bold'),\n",
    "                ('white-space', 'pre-wrap')]),\n",
    "    dict(selector=\"th\",\n",
    "         props=[('max-width', '250px')])\n",
    "    ]\n",
    "\n",
    "# Установим начальное значение генератора псевдослучайных чисел.\n",
    "seed = 42\n",
    "np.random.seed(seed)"
   ]
  },
  {
   "cell_type": "markdown",
   "metadata": {},
   "source": [
    "## Загрузка и изучение данных."
   ]
  },
  {
   "cell_type": "markdown",
   "metadata": {},
   "source": [
    "### Загрузка данных."
   ]
  },
  {
   "cell_type": "code",
   "execution_count": 3,
   "metadata": {},
   "outputs": [],
   "source": [
    "try:\n",
    "    df = pd.read_csv('/datasets/insurance.csv')\n",
    "except:\n",
    "    df = pd.read_csv('https://code.s3.yandex.net/datasets/insurance.csv')"
   ]
  },
  {
   "cell_type": "markdown",
   "metadata": {},
   "source": [
    "### Изучение данных.\n",
    "Выведем информацию и первые 20 строк датафрейма."
   ]
  },
  {
   "cell_type": "code",
   "execution_count": 4,
   "metadata": {},
   "outputs": [
    {
     "name": "stdout",
     "output_type": "stream",
     "text": [
      "\u001b[1m- Информация о датайфрейме:\u001b[0m\n",
      "<class 'pandas.core.frame.DataFrame'>\n",
      "RangeIndex: 5000 entries, 0 to 4999\n",
      "Data columns (total 5 columns):\n",
      " #   Column             Non-Null Count  Dtype  \n",
      "---  ------             --------------  -----  \n",
      " 0   Пол                5000 non-null   int64  \n",
      " 1   Возраст            5000 non-null   float64\n",
      " 2   Зарплата           5000 non-null   float64\n",
      " 3   Члены семьи        5000 non-null   int64  \n",
      " 4   Страховые выплаты  5000 non-null   int64  \n",
      "dtypes: float64(2), int64(3)\n",
      "memory usage: 195.4 KB\n"
     ]
    },
    {
     "data": {
      "text/plain": [
       "None"
      ]
     },
     "metadata": {},
     "output_type": "display_data"
    },
    {
     "name": "stdout",
     "output_type": "stream",
     "text": [
      "  - Кол-во явных дубликатов в датафрейме: 153\n",
      "\n",
      "  - Уникальные значения целевого признака: [0 1 2 3 5 4]\n",
      "~~~~~~~~~~~~~~~~~~~~~~~~~~~~~~~~~~~~~~~~~~~~~~~~~~~~~~~~~~~~~~~~~~~~~~\n",
      "\n",
      "\u001b[1m- Распределение признаков:\u001b[0m\n"
     ]
    },
    {
     "data": {
      "text/html": [
       "<div>\n",
       "<style scoped>\n",
       "    .dataframe tbody tr th:only-of-type {\n",
       "        vertical-align: middle;\n",
       "    }\n",
       "\n",
       "    .dataframe tbody tr th {\n",
       "        vertical-align: top;\n",
       "    }\n",
       "\n",
       "    .dataframe thead th {\n",
       "        text-align: right;\n",
       "    }\n",
       "</style>\n",
       "<table border=\"1\" class=\"dataframe\">\n",
       "  <thead>\n",
       "    <tr style=\"text-align: right;\">\n",
       "      <th></th>\n",
       "      <th>Пол</th>\n",
       "      <th>Возраст</th>\n",
       "      <th>Зарплата</th>\n",
       "      <th>Члены семьи</th>\n",
       "      <th>Страховые выплаты</th>\n",
       "    </tr>\n",
       "  </thead>\n",
       "  <tbody>\n",
       "    <tr>\n",
       "      <th>count</th>\n",
       "      <td>5000.000000</td>\n",
       "      <td>5000.000000</td>\n",
       "      <td>5000.000000</td>\n",
       "      <td>5000.000000</td>\n",
       "      <td>5000.000000</td>\n",
       "    </tr>\n",
       "    <tr>\n",
       "      <th>mean</th>\n",
       "      <td>0.499000</td>\n",
       "      <td>30.952800</td>\n",
       "      <td>39916.360000</td>\n",
       "      <td>1.194200</td>\n",
       "      <td>0.148000</td>\n",
       "    </tr>\n",
       "    <tr>\n",
       "      <th>std</th>\n",
       "      <td>0.500049</td>\n",
       "      <td>8.440807</td>\n",
       "      <td>9900.083569</td>\n",
       "      <td>1.091387</td>\n",
       "      <td>0.463183</td>\n",
       "    </tr>\n",
       "    <tr>\n",
       "      <th>min</th>\n",
       "      <td>0.000000</td>\n",
       "      <td>18.000000</td>\n",
       "      <td>5300.000000</td>\n",
       "      <td>0.000000</td>\n",
       "      <td>0.000000</td>\n",
       "    </tr>\n",
       "    <tr>\n",
       "      <th>25%</th>\n",
       "      <td>0.000000</td>\n",
       "      <td>24.000000</td>\n",
       "      <td>33300.000000</td>\n",
       "      <td>0.000000</td>\n",
       "      <td>0.000000</td>\n",
       "    </tr>\n",
       "    <tr>\n",
       "      <th>50%</th>\n",
       "      <td>0.000000</td>\n",
       "      <td>30.000000</td>\n",
       "      <td>40200.000000</td>\n",
       "      <td>1.000000</td>\n",
       "      <td>0.000000</td>\n",
       "    </tr>\n",
       "    <tr>\n",
       "      <th>75%</th>\n",
       "      <td>1.000000</td>\n",
       "      <td>37.000000</td>\n",
       "      <td>46600.000000</td>\n",
       "      <td>2.000000</td>\n",
       "      <td>0.000000</td>\n",
       "    </tr>\n",
       "    <tr>\n",
       "      <th>85%</th>\n",
       "      <td>1.000000</td>\n",
       "      <td>40.000000</td>\n",
       "      <td>50100.000000</td>\n",
       "      <td>2.000000</td>\n",
       "      <td>0.000000</td>\n",
       "    </tr>\n",
       "    <tr>\n",
       "      <th>max</th>\n",
       "      <td>1.000000</td>\n",
       "      <td>65.000000</td>\n",
       "      <td>79000.000000</td>\n",
       "      <td>6.000000</td>\n",
       "      <td>5.000000</td>\n",
       "    </tr>\n",
       "  </tbody>\n",
       "</table>\n",
       "</div>"
      ],
      "text/plain": [
       "               Пол      Возраст      Зарплата  Члены семьи  Страховые выплаты\n",
       "count  5000.000000  5000.000000   5000.000000  5000.000000        5000.000000\n",
       "mean      0.499000    30.952800  39916.360000     1.194200           0.148000\n",
       "std       0.500049     8.440807   9900.083569     1.091387           0.463183\n",
       "min       0.000000    18.000000   5300.000000     0.000000           0.000000\n",
       "25%       0.000000    24.000000  33300.000000     0.000000           0.000000\n",
       "50%       0.000000    30.000000  40200.000000     1.000000           0.000000\n",
       "75%       1.000000    37.000000  46600.000000     2.000000           0.000000\n",
       "85%       1.000000    40.000000  50100.000000     2.000000           0.000000\n",
       "max       1.000000    65.000000  79000.000000     6.000000           5.000000"
      ]
     },
     "metadata": {},
     "output_type": "display_data"
    },
    {
     "data": {
      "image/png": "[encoded data removed]",
      "text/plain": [
       "<Figure size 1080x720 with 6 Axes>"
      ]
     },
     "metadata": {
      "needs_background": "light"
     },
     "output_type": "display_data"
    },
    {
     "name": "stdout",
     "output_type": "stream",
     "text": [
      "\n",
      "\u001b[1m- Первые 20 строк датафрейма:\u001b[0m\n"
     ]
    },
    {
     "data": {
      "text/html": [
       "<div>\n",
       "<style scoped>\n",
       "    .dataframe tbody tr th:only-of-type {\n",
       "        vertical-align: middle;\n",
       "    }\n",
       "\n",
       "    .dataframe tbody tr th {\n",
       "        vertical-align: top;\n",
       "    }\n",
       "\n",
       "    .dataframe thead th {\n",
       "        text-align: right;\n",
       "    }\n",
       "</style>\n",
       "<table border=\"1\" class=\"dataframe\">\n",
       "  <thead>\n",
       "    <tr style=\"text-align: right;\">\n",
       "      <th></th>\n",
       "      <th>Пол</th>\n",
       "      <th>Возраст</th>\n",
       "      <th>Зарплата</th>\n",
       "      <th>Члены семьи</th>\n",
       "      <th>Страховые выплаты</th>\n",
       "    </tr>\n",
       "  </thead>\n",
       "  <tbody>\n",
       "    <tr>\n",
       "      <th>0</th>\n",
       "      <td>1</td>\n",
       "      <td>41.0</td>\n",
       "      <td>49600.0</td>\n",
       "      <td>1</td>\n",
       "      <td>0</td>\n",
       "    </tr>\n",
       "    <tr>\n",
       "      <th>1</th>\n",
       "      <td>0</td>\n",
       "      <td>46.0</td>\n",
       "      <td>38000.0</td>\n",
       "      <td>1</td>\n",
       "      <td>1</td>\n",
       "    </tr>\n",
       "    <tr>\n",
       "      <th>2</th>\n",
       "      <td>0</td>\n",
       "      <td>29.0</td>\n",
       "      <td>21000.0</td>\n",
       "      <td>0</td>\n",
       "      <td>0</td>\n",
       "    </tr>\n",
       "    <tr>\n",
       "      <th>3</th>\n",
       "      <td>0</td>\n",
       "      <td>21.0</td>\n",
       "      <td>41700.0</td>\n",
       "      <td>2</td>\n",
       "      <td>0</td>\n",
       "    </tr>\n",
       "    <tr>\n",
       "      <th>4</th>\n",
       "      <td>1</td>\n",
       "      <td>28.0</td>\n",
       "      <td>26100.0</td>\n",
       "      <td>0</td>\n",
       "      <td>0</td>\n",
       "    </tr>\n",
       "    <tr>\n",
       "      <th>5</th>\n",
       "      <td>1</td>\n",
       "      <td>43.0</td>\n",
       "      <td>41000.0</td>\n",
       "      <td>2</td>\n",
       "      <td>1</td>\n",
       "    </tr>\n",
       "    <tr>\n",
       "      <th>6</th>\n",
       "      <td>1</td>\n",
       "      <td>39.0</td>\n",
       "      <td>39700.0</td>\n",
       "      <td>2</td>\n",
       "      <td>0</td>\n",
       "    </tr>\n",
       "    <tr>\n",
       "      <th>7</th>\n",
       "      <td>1</td>\n",
       "      <td>25.0</td>\n",
       "      <td>38600.0</td>\n",
       "      <td>4</td>\n",
       "      <td>0</td>\n",
       "    </tr>\n",
       "    <tr>\n",
       "      <th>8</th>\n",
       "      <td>1</td>\n",
       "      <td>36.0</td>\n",
       "      <td>49700.0</td>\n",
       "      <td>1</td>\n",
       "      <td>0</td>\n",
       "    </tr>\n",
       "    <tr>\n",
       "      <th>9</th>\n",
       "      <td>1</td>\n",
       "      <td>32.0</td>\n",
       "      <td>51700.0</td>\n",
       "      <td>1</td>\n",
       "      <td>0</td>\n",
       "    </tr>\n",
       "    <tr>\n",
       "      <th>10</th>\n",
       "      <td>1</td>\n",
       "      <td>25.0</td>\n",
       "      <td>36600.0</td>\n",
       "      <td>1</td>\n",
       "      <td>0</td>\n",
       "    </tr>\n",
       "    <tr>\n",
       "      <th>11</th>\n",
       "      <td>1</td>\n",
       "      <td>38.0</td>\n",
       "      <td>29300.0</td>\n",
       "      <td>0</td>\n",
       "      <td>0</td>\n",
       "    </tr>\n",
       "    <tr>\n",
       "      <th>12</th>\n",
       "      <td>0</td>\n",
       "      <td>23.0</td>\n",
       "      <td>39500.0</td>\n",
       "      <td>3</td>\n",
       "      <td>0</td>\n",
       "    </tr>\n",
       "    <tr>\n",
       "      <th>13</th>\n",
       "      <td>0</td>\n",
       "      <td>21.0</td>\n",
       "      <td>55000.0</td>\n",
       "      <td>0</td>\n",
       "      <td>0</td>\n",
       "    </tr>\n",
       "    <tr>\n",
       "      <th>14</th>\n",
       "      <td>0</td>\n",
       "      <td>40.0</td>\n",
       "      <td>43700.0</td>\n",
       "      <td>1</td>\n",
       "      <td>0</td>\n",
       "    </tr>\n",
       "    <tr>\n",
       "      <th>15</th>\n",
       "      <td>1</td>\n",
       "      <td>34.0</td>\n",
       "      <td>23300.0</td>\n",
       "      <td>0</td>\n",
       "      <td>0</td>\n",
       "    </tr>\n",
       "    <tr>\n",
       "      <th>16</th>\n",
       "      <td>1</td>\n",
       "      <td>26.0</td>\n",
       "      <td>48900.0</td>\n",
       "      <td>2</td>\n",
       "      <td>0</td>\n",
       "    </tr>\n",
       "    <tr>\n",
       "      <th>17</th>\n",
       "      <td>1</td>\n",
       "      <td>41.0</td>\n",
       "      <td>33200.0</td>\n",
       "      <td>2</td>\n",
       "      <td>0</td>\n",
       "    </tr>\n",
       "    <tr>\n",
       "      <th>18</th>\n",
       "      <td>1</td>\n",
       "      <td>42.0</td>\n",
       "      <td>49700.0</td>\n",
       "      <td>0</td>\n",
       "      <td>1</td>\n",
       "    </tr>\n",
       "    <tr>\n",
       "      <th>19</th>\n",
       "      <td>1</td>\n",
       "      <td>27.0</td>\n",
       "      <td>36900.0</td>\n",
       "      <td>0</td>\n",
       "      <td>0</td>\n",
       "    </tr>\n",
       "  </tbody>\n",
       "</table>\n",
       "</div>"
      ],
      "text/plain": [
       "    Пол  Возраст  Зарплата  Члены семьи  Страховые выплаты\n",
       "0     1     41.0   49600.0            1                  0\n",
       "1     0     46.0   38000.0            1                  1\n",
       "2     0     29.0   21000.0            0                  0\n",
       "3     0     21.0   41700.0            2                  0\n",
       "4     1     28.0   26100.0            0                  0\n",
       "5     1     43.0   41000.0            2                  1\n",
       "6     1     39.0   39700.0            2                  0\n",
       "7     1     25.0   38600.0            4                  0\n",
       "8     1     36.0   49700.0            1                  0\n",
       "9     1     32.0   51700.0            1                  0\n",
       "10    1     25.0   36600.0            1                  0\n",
       "11    1     38.0   29300.0            0                  0\n",
       "12    0     23.0   39500.0            3                  0\n",
       "13    0     21.0   55000.0            0                  0\n",
       "14    0     40.0   43700.0            1                  0\n",
       "15    1     34.0   23300.0            0                  0\n",
       "16    1     26.0   48900.0            2                  0\n",
       "17    1     41.0   33200.0            2                  0\n",
       "18    1     42.0   49700.0            0                  1\n",
       "19    1     27.0   36900.0            0                  0"
      ]
     },
     "metadata": {},
     "output_type": "display_data"
    }
   ],
   "source": [
    "# Выведем информацию о данных.\n",
    "print('\\033[1m- Информация о датайфрейме:\\033[0m')\n",
    "display(df.info())\n",
    "\n",
    "# Выведем кол-во явных дубликатов и уникальные значения \n",
    "# целевого признака.\n",
    "print('  - Кол-во явных дубликатов в датафрейме:',\n",
    "     df.duplicated().sum())\n",
    "print('\\n  - Уникальные значения целевого признака:',\n",
    "     df['Страховые выплаты'].unique())\n",
    "print('~' * 70)\n",
    "\n",
    "# Выведем распределения признаков.\n",
    "print('\\n\\033[1m- Распределение признаков:\\033[0m')\n",
    "display(df.describe([.25, .5, .75, .85]))\n",
    "\n",
    "# Выведем гистограммы численных признаков.\n",
    "axs = df.hist(figsize=(15, 10), bins=50)\n",
    "plt.suptitle('Гистограммы численных признаков.', fontsize=18)\n",
    "for ax, col in zip(axs.flatten(), df.columns):\n",
    "#     ax.set_title(col)\n",
    "    ax.set_xlabel(col)\n",
    "    ax.set_ylabel('Количество объектов.')\n",
    "plt.tight_layout()\n",
    "plt.show();\n",
    "\n",
    "# Выведем первые 20 строк датафрейма.\n",
    "print('\\n\\033[1m- Первые 20 строк датафрейма:\\033[0m')\n",
    "display(df.head(20))"
   ]
  },
  {
   "cell_type": "markdown",
   "metadata": {},
   "source": [
    "#### Изучение данных. Вывод.\n",
    "- Данные содержат 5000 объектов и 5 признаков, в т.ч. целевой.<br>\n",
    "- **Признаки**:\n",
    "  - `Пол` - бинарный;\n",
    "  - `Возраст` - количественный, дискретный;\n",
    "  - `Зарплата` - количественный, непрерывный;\n",
    "  - `Члены семьи` количественный, дискретный;\n",
    "\n",
    "- **Целевой признак:**\n",
    "  - `Страховые выплаты` - количественный, дискретный.<br>\n",
    "  \n",
    "- **Дубликаты:**<br>\n",
    "Обнаружено 153 дублированных объекта. Дубликаты необходимо удалить.\n",
    "- **Пропуски:**<br> \n",
    "Не обнаружены.\n",
    "- **Тип данных:**<br> \n",
    "Типы данных приведены, кроме признаков `Возраст` и `Зарплата`, приведение которых к целочисленному формату ощутимо не повлияет на используемую память."
   ]
  },
  {
   "cell_type": "markdown",
   "metadata": {},
   "source": [
    "#### Удаление дубликатов.\n",
    "Удалим дубликаты и проверим результат."
   ]
  },
  {
   "cell_type": "code",
   "execution_count": 5,
   "metadata": {},
   "outputs": [
    {
     "name": "stdout",
     "output_type": "stream",
     "text": [
      "Кол-во явных дубликатов в датафрейме после удаления: 0\n"
     ]
    }
   ],
   "source": [
    "# Удалим дубликаты и проверим результат.\n",
    "df.drop_duplicates(inplace=True)\n",
    "print('Кол-во явных дубликатов в датафрейме после удаления:',\n",
    "     df.duplicated().sum())"
   ]
  },
  {
   "cell_type": "markdown",
   "metadata": {},
   "source": [
    "## Умножение матриц."
   ]
  },
  {
   "cell_type": "markdown",
   "metadata": {},
   "source": [
    "- Задачу защиты данных клиентов решим с помощью матричных преобразований: умножением предикторов на обратимую матрицу.\n",
    "- Для этого предварительно в общем виде установим изменится ли качество линейной регрессии при умножении предикторов на обратимую матрицу (алгоритм можно обучить заново).<br>\n",
    "&nbsp;&nbsp;a. Изменится. Приведём примеры матриц.<br>\n",
    "&nbsp;&nbsp;b. Не изменится. Укажем, как связаны параметры линейной регрессии в исходной задаче и в преобразованной.\n",
    "<br><br>\n",
    "- Обозначения:\n",
    "\n",
    "  - $X$ — матрица признаков (нулевой столбец состоит из единиц)\n",
    "\n",
    "  - $y$ — вектор целевого признака\n",
    "\n",
    "  - $P$ — матрица, на которую умножаются признаки\n",
    "\n",
    "  - $w$ — вектор весов линейной регрессии (нулевой элемент равен сдвигу)\n",
    "\n",
    "  - $A$ и $B$ — произвольные квадратные невырожденные матрицы\n",
    "\n",
    "  - $E$ — единичная матрица<br><br>\n",
    "\n",
    "- Предсказания:\n",
    "\n",
    "$$\n",
    "a = Xw\n",
    "$$\n",
    "\n",
    "- Задача обучения:\n",
    "\n",
    "$$\n",
    "w = \\arg\\min_w MSE(Xw, y)\n",
    "$$\n",
    "\n",
    "- Формула обучения:\n",
    "\n",
    "$$\n",
    "w = (X^T X)^{-1} X^T y\n",
    "$$"
   ]
  },
  {
   "cell_type": "markdown",
   "metadata": {},
   "source": [
    "- Введём матрицу $P$ в формулы вычисления векторов оптимальных весов и предсказаний линейной регрессии.<br>Для этого домножим все матрицы признаков $X$ в формулах на $P$ - обратимую, а следовательно квадратную и согласованную матрицу, на которую, в соответствие с поставленной задачей, умножается матрица признаков для кодирования.\n",
    "\n",
    "$$\n",
    "a_1 = X P w_1\n",
    "$$\n",
    "$$\n",
    "w_1 = ((XP)^T (XP))^{-1} (XP)^T y\n",
    "$$\n",
    "\n",
    "- Подставим преобразованную формулу вычисленния вектора весов $w_1$ в формулу предсказаний $a_1$.\n",
    "\n",
    "$$\n",
    "a_1 = X P ((XP)^T (XP))^{-1} (XP)^T y\n",
    "$$\n",
    "\n",
    "- Воспользуемся свойством транспонированных матриц: $(AB)^T = B^T A^T$.<br>\n",
    "Преообразуем выражения в скобках:\n",
    "\n",
    "$$\n",
    "a_1 = X P ((XP)^T(XP))^{-1}(XP)^T y = \n",
    "$$\n",
    "$$\n",
    "= X P (P^T X^T X P)^{-1} P^T X^T y\n",
    "$$\n",
    "  <br>\n",
    "- Т.к. матрицы $(X^T X)$ и $P$ обратимы и квадратны воспользуемся свойством обратных матриц $(ABC)^{-1} = C^{-1} B^{-1} A^{-1}$.<br>\n",
    "Вынесем матрицы $P$ и $P^T$ за скобки:\n",
    "\n",
    "$$\n",
    "a_1 = X P (P^T X^T X P)^{-1} P^T X^T y =\n",
    "$$\n",
    "$$\n",
    "= X P P^{-1} (X^T X)^{-1} P^{-T} P^T X^T y\n",
    "$$\n",
    "- Cделаем соответствующее преобразование с матрицей $P$, воспользовавшись следующими свойствами матриц:\n",
    "  - матрица, умноженная на обратную, даёт единичную: $AA^{-1}=E$;\n",
    "  - матрица, умноженная на единичную, даёт себя: $AE = A$.\n",
    "\n",
    "$$\n",
    "a_1 = X P P^{-1} (X^T X)^{-1} P^{-T} P^T X^T y\n",
    "$$\n",
    "$$\n",
    "= X E (X^T X)^{-1} E X^T y\n",
    "$$\n",
    "\n",
    "- В результате преобразований получим:\n",
    "$$\n",
    "a_1 = X (X^T X)^{-1} X^T y = a\n",
    "$$"
   ]
  },
  {
   "cell_type": "markdown",
   "metadata": {},
   "source": [
    "### Умножение матриц. Вывод.\n",
    "**Ответ:**<br>\n",
    "Качество линейной регрессии при умножении признаков на обратимую матрицу не изменится.\n",
    "\n",
    "**Обоснование:**<br>\n",
    "Т.к. после преобразваний формулы предсказаний сводятся к одинаковому результату, т.е. $a = a_1$, можем сделать вывод, что умножение матрицы признаков на обратимую матрицу не изменит качество регрессии."
   ]
  },
  {
   "cell_type": "markdown",
   "metadata": {},
   "source": [
    "## Алгоритм преобразования."
   ]
  },
  {
   "cell_type": "markdown",
   "metadata": {},
   "source": [
    "### Алгоритм.     \n",
    "Для защиты данных клиентов перед подачей данных в модель линейной регрессии, умножим предикторы на псевдослучайную обратимую матрицу. Для этого создадим класс преобразователя `sklearn`, в котором зададим функцию, которая\n",
    "  - примет на вход предикторы;\n",
    "  - создаст псевдослучайную обратимую матрицу с размерами равными кол-ву предикторов в данных;\n",
    "  - проверит вырожденность созданной матрицы, сравнив её детерминант с `0`, и проитерирует и перезапишет генератор случайных чисел при необходимости;\n",
    "  - умножит матрицу признаков на созданную псевдослучайную обратимую матрицу;\n",
    "  - выведет на выход преобразованные предикторы.\n",
    "  \n",
    "_Примечание:_ Класс преобразователя был создан для тренировки. Можно было ограничиться функциональным преобразователем - `FunctionTransformer`."
   ]
  },
  {
   "cell_type": "code",
   "execution_count": 6,
   "metadata": {},
   "outputs": [],
   "source": [
    "class MatrixMulitplier(BaseEstimator, TransformerMixin):\n",
    "    '''\n",
    "    Returns the dot product of predictors dataframe `X` and \n",
    "    random invertible matrix of size (`X.shape[1]` x `X.shape[1]`).\n",
    "    '''\n",
    "    def __init__(self, seed=None):\n",
    "        self.seed = seed\n",
    "\n",
    "    def fit(self, X, y=None):\n",
    "        return self\n",
    "        \n",
    "    # Функция умножения предикторов на псевдослучайную обратимую матрицу.\n",
    "    def transform(self, X):\n",
    "        if self.seed is not None:\n",
    "            np.random.seed(self.seed)\n",
    "\n",
    "        # Создадим обратимую матрицу.\n",
    "        n_features = X.shape[1]\n",
    "        rnd_inv_matrix = np.random.rand(n_features, n_features)\n",
    "\n",
    "        # Проверим созданную матрицу на вырожденность.\n",
    "        while np.linalg.det(rnd_inv_matrix) == 0:\n",
    "            self.seed += 1\n",
    "            np.random.seed(self.seed)\n",
    "            rnd_inv_matrix = np.random.rand(n_features, n_features)\n",
    "        # Умножим предикторы на созданную обратимую матрицу и вернём рез-тат.\n",
    "        return X @ rnd_inv_matrix  "
   ]
  },
  {
   "cell_type": "markdown",
   "metadata": {},
   "source": [
    "### Проверка работы алгоритма.\n",
    "- Разделим данные на предикторы и целевой признак.\n",
    "- Создадим экземпляр класса преобразователя и проверим рез-тат работы функции преобразования, выведя первые 5 строк оригинального и преобразованного датафреймов предикторов."
   ]
  },
  {
   "cell_type": "code",
   "execution_count": 7,
   "metadata": {},
   "outputs": [
    {
     "data": {
      "text/html": [
       "<style  type=\"text/css\" >\n",
       "    #T_874ce_ caption {\n",
       "          text-align: center;\n",
       "          font-size: 130%;\n",
       "          font-weight: bold;\n",
       "          white-space: pre-wrap;\n",
       "    }    #T_874ce_ th {\n",
       "          max-width: 250px;\n",
       "    }</style><table id=\"T_874ce_\" style='display:inline'><caption>Оригинальные предикторы.</caption><thead>    <tr>        <th class=\"blank level0\" ></th>        <th class=\"col_heading level0 col0\" >Пол</th>        <th class=\"col_heading level0 col1\" >Возраст</th>        <th class=\"col_heading level0 col2\" >Зарплата</th>        <th class=\"col_heading level0 col3\" >Члены семьи</th>    </tr></thead><tbody>\n",
       "                <tr>\n",
       "                        <th id=\"T_874ce_level0_row0\" class=\"row_heading level0 row0\" >0</th>\n",
       "                        <td id=\"T_874ce_row0_col0\" class=\"data row0 col0\" >1</td>\n",
       "                        <td id=\"T_874ce_row0_col1\" class=\"data row0 col1\" >41.000000</td>\n",
       "                        <td id=\"T_874ce_row0_col2\" class=\"data row0 col2\" >49600.000000</td>\n",
       "                        <td id=\"T_874ce_row0_col3\" class=\"data row0 col3\" >1</td>\n",
       "            </tr>\n",
       "            <tr>\n",
       "                        <th id=\"T_874ce_level0_row1\" class=\"row_heading level0 row1\" >1</th>\n",
       "                        <td id=\"T_874ce_row1_col0\" class=\"data row1 col0\" >0</td>\n",
       "                        <td id=\"T_874ce_row1_col1\" class=\"data row1 col1\" >46.000000</td>\n",
       "                        <td id=\"T_874ce_row1_col2\" class=\"data row1 col2\" >38000.000000</td>\n",
       "                        <td id=\"T_874ce_row1_col3\" class=\"data row1 col3\" >1</td>\n",
       "            </tr>\n",
       "            <tr>\n",
       "                        <th id=\"T_874ce_level0_row2\" class=\"row_heading level0 row2\" >2</th>\n",
       "                        <td id=\"T_874ce_row2_col0\" class=\"data row2 col0\" >0</td>\n",
       "                        <td id=\"T_874ce_row2_col1\" class=\"data row2 col1\" >29.000000</td>\n",
       "                        <td id=\"T_874ce_row2_col2\" class=\"data row2 col2\" >21000.000000</td>\n",
       "                        <td id=\"T_874ce_row2_col3\" class=\"data row2 col3\" >0</td>\n",
       "            </tr>\n",
       "            <tr>\n",
       "                        <th id=\"T_874ce_level0_row3\" class=\"row_heading level0 row3\" >3</th>\n",
       "                        <td id=\"T_874ce_row3_col0\" class=\"data row3 col0\" >0</td>\n",
       "                        <td id=\"T_874ce_row3_col1\" class=\"data row3 col1\" >21.000000</td>\n",
       "                        <td id=\"T_874ce_row3_col2\" class=\"data row3 col2\" >41700.000000</td>\n",
       "                        <td id=\"T_874ce_row3_col3\" class=\"data row3 col3\" >2</td>\n",
       "            </tr>\n",
       "            <tr>\n",
       "                        <th id=\"T_874ce_level0_row4\" class=\"row_heading level0 row4\" >4</th>\n",
       "                        <td id=\"T_874ce_row4_col0\" class=\"data row4 col0\" >1</td>\n",
       "                        <td id=\"T_874ce_row4_col1\" class=\"data row4 col1\" >28.000000</td>\n",
       "                        <td id=\"T_874ce_row4_col2\" class=\"data row4 col2\" >26100.000000</td>\n",
       "                        <td id=\"T_874ce_row4_col3\" class=\"data row4 col3\" >0</td>\n",
       "            </tr>\n",
       "    </tbody></table>     <style  type=\"text/css\" >\n",
       "    #T_504f0_ caption {\n",
       "          text-align: center;\n",
       "          font-size: 130%;\n",
       "          font-weight: bold;\n",
       "          white-space: pre-wrap;\n",
       "    }    #T_504f0_ th {\n",
       "          max-width: 250px;\n",
       "    }</style><table id=\"T_504f0_\" style='display:inline'><caption>Преобразованные предикторы.</caption><thead>    <tr>        <th class=\"blank level0\" ></th>        <th class=\"col_heading level0 col0\" >Пол</th>        <th class=\"col_heading level0 col1\" >Возраст</th>        <th class=\"col_heading level0 col2\" >Зарплата</th>        <th class=\"col_heading level0 col3\" >Члены семьи</th>    </tr></thead><tbody>\n",
       "                <tr>\n",
       "                        <th id=\"T_504f0_level0_row0\" class=\"row_heading level0 row0\" >0</th>\n",
       "                        <td id=\"T_504f0_row0_col0\" class=\"data row0 col0\" >29822.908329</td>\n",
       "                        <td id=\"T_504f0_row0_col1\" class=\"data row0 col1\" >35127.958687</td>\n",
       "                        <td id=\"T_504f0_row0_col2\" class=\"data row0 col2\" >1024.286164</td>\n",
       "                        <td id=\"T_504f0_row0_col3\" class=\"data row0 col3\" >48143.823952</td>\n",
       "            </tr>\n",
       "            <tr>\n",
       "                        <th id=\"T_504f0_level0_row1\" class=\"row_heading level0 row1\" >1</th>\n",
       "                        <td id=\"T_504f0_row1_col0\" class=\"data row1 col0\" >22850.379746</td>\n",
       "                        <td id=\"T_504f0_row1_col1\" class=\"data row1 col1\" >26914.146043</td>\n",
       "                        <td id=\"T_504f0_row1_col2\" class=\"data row1 col2\" >785.064454</td>\n",
       "                        <td id=\"T_504f0_row1_col3\" class=\"data row1 col3\" >36896.601889</td>\n",
       "            </tr>\n",
       "            <tr>\n",
       "                        <th id=\"T_504f0_level0_row2\" class=\"row_heading level0 row2\" >2</th>\n",
       "                        <td id=\"T_504f0_row2_col0\" class=\"data row2 col0\" >12627.939787</td>\n",
       "                        <td id=\"T_504f0_row2_col1\" class=\"data row2 col1\" >14874.047975</td>\n",
       "                        <td id=\"T_504f0_row2_col2\" class=\"data row2 col2\" >433.958805</td>\n",
       "                        <td id=\"T_504f0_row2_col3\" class=\"data row2 col3\" >20393.226004</td>\n",
       "            </tr>\n",
       "            <tr>\n",
       "                        <th id=\"T_504f0_level0_row3\" class=\"row_heading level0 row3\" >3</th>\n",
       "                        <td id=\"T_504f0_row3_col0\" class=\"data row3 col0\" >25071.437266</td>\n",
       "                        <td id=\"T_504f0_row3_col1\" class=\"data row3 col1\" >29530.327057</td>\n",
       "                        <td id=\"T_504f0_row3_col2\" class=\"data row3 col2\" >859.956818</td>\n",
       "                        <td id=\"T_504f0_row3_col3\" class=\"data row3 col3\" >40463.797343</td>\n",
       "            </tr>\n",
       "            <tr>\n",
       "                        <th id=\"T_504f0_level0_row4\" class=\"row_heading level0 row4\" >4</th>\n",
       "                        <td id=\"T_504f0_row4_col0\" class=\"data row4 col0\" >15693.844869</td>\n",
       "                        <td id=\"T_504f0_row4_col1\" class=\"data row4 col1\" >18486.012841</td>\n",
       "                        <td id=\"T_504f0_row4_col2\" class=\"data row4 col2\" >539.613636</td>\n",
       "                        <td id=\"T_504f0_row4_col3\" class=\"data row4 col3\" >25339.498732</td>\n",
       "            </tr>\n",
       "    </tbody></table>"
      ]
     },
     "metadata": {},
     "output_type": "display_data"
    }
   ],
   "source": [
    "# Разделим данные на предикторы и целевой признак.\n",
    "X = df.drop('Страховые выплаты', axis=1)\n",
    "y = df['Страховые выплаты']\n",
    "\n",
    "# Создадим экземпляр класса преобразователя.\n",
    "matrix_encoder = MatrixMulitplier()\n",
    "\n",
    "# Проверим рез-тат работы функции преобразования, выведя первые \n",
    "# 5 строк датафреймов.\n",
    "X_encoded = matrix_encoder.fit_transform(X)\n",
    "X_encoded.columns = X.columns\n",
    "\n",
    "display_html(\n",
    "    X.head()\n",
    "    .style\n",
    "    .set_table_attributes(\"style='display:inline'\")\n",
    "    .set_caption('Оригинальные предикторы.')\n",
    "    .set_table_styles(styles)\n",
    "    ._repr_html_()+\n",
    "    '\\xa0'*5+\n",
    "    X_encoded.head()\n",
    "    .style\n",
    "    .set_table_attributes(\"style='display:inline'\")\n",
    "    .set_caption('Преобразованные предикторы.')\n",
    "    .set_table_styles(styles)\n",
    "    ._repr_html_(), \n",
    "    raw=True\n",
    ")"
   ]
  },
  {
   "cell_type": "markdown",
   "metadata": {},
   "source": [
    "### Обоснование.\n",
    "- Кодирование предикторов умножением на псевдослучайную обратимую матрицу эффективно, т.к.:\n",
    "  - преобразованные предикторы никак внешне не напоминают оригинальные и не имеют смысла для отдельно взятого объекта / клиента (e.g.: Возраст клиента - `29822`);\n",
    "  - преобразование предикторов невозможно обратить, чтобы получить оригинальные данные."
   ]
  },
  {
   "cell_type": "markdown",
   "metadata": {},
   "source": [
    "## Проверка алгоритма на линейной регрессии.\n",
    "- Разделим данные на обучающую и тестовую выборки в соотношении 70% / 30%.\n",
    "- Проверим качество линейной регрессии с преобразованием предикторов.\n",
    "- Проверим качество линейной регрессии без преобразования предикторов.\n",
    "- Сравним результаты."
   ]
  },
  {
   "cell_type": "code",
   "execution_count": 8,
   "metadata": {},
   "outputs": [],
   "source": [
    "# Разделим данные на обучающую и тестовую выборки.\n",
    "X_train, X_test, y_train, y_test = train_test_split(X, y, \n",
    "                                                    test_size=.3, \n",
    "                                                    random_state=seed)"
   ]
  },
  {
   "cell_type": "markdown",
   "metadata": {},
   "source": [
    "### Проверка $R^2$ c преобразованием предикторов.\n",
    "- Создадим пайплайн, включающий шаг преобразования предикторов с помощью класса преобразователя ([5.1](#Алгоритм.)).\n",
    "- Обучим модель на обучающей выборке.\n",
    "- Вычислим коэффициент детерминации $𝑅^2$ на тестовой выборке."
   ]
  },
  {
   "cell_type": "code",
   "execution_count": 10,
   "metadata": {},
   "outputs": [
    {
     "name": "stdout",
     "output_type": "stream",
     "text": [
      "Коэффициент детерминации R^2 для линейной регрессии с преобразованием предикторов: 0.4324084156275294.\n"
     ]
    }
   ],
   "source": [
    "# Создадим пайплайн для линейной регрессии.\n",
    "lr_matrix_pipe = Pipeline(steps=[\n",
    "    ('matrix_multiplier', MatrixMulitplier()),\n",
    "    ('lr', LinearRegression())\n",
    "])\n",
    "\n",
    "lr_matrix_pipe.fit(X_train, y_train)\n",
    "r2_encoded = r2_score(y_test, lr_matrix_pipe.predict(X_test))\n",
    "print('Коэффициент детерминации R^2 для линейной регрессии с '+\n",
    "      f'преобразованием предикторов: {r2_encoded}.')"
   ]
  },
  {
   "cell_type": "markdown",
   "metadata": {},
   "source": [
    "### Проверка $R^2$ без преобразования предикторов.\n",
    "- Обучим модель на обучающей выборке.\n",
    "- Вычислим коэффициент детерминации $𝑅^2$ на тестовой выборке."
   ]
  },
  {
   "cell_type": "code",
   "execution_count": 10,
   "metadata": {},
   "outputs": [
    {
     "name": "stdout",
     "output_type": "stream",
     "text": [
      "Коэффициент детерминации R^2 для линейной регрессии без преобразования предикторов: 0.4324084156282242.\n"
     ]
    }
   ],
   "source": [
    "# Обучим модель и вычислим коэффициент детерминации.\n",
    "lr = LinearRegression()\n",
    "lr.fit(X_train, y_train)\n",
    "r2 = r2_score(y_test, lr.predict(X_test))\n",
    "print('Коэффициент детерминации R^2 для линейной регрессии без '+\n",
    "      f'преобразования предикторов: {r2}.')"
   ]
  },
  {
   "cell_type": "markdown",
   "metadata": {},
   "source": [
    "### Сравнение $R^2$."
   ]
  },
  {
   "cell_type": "code",
   "execution_count": 11,
   "metadata": {},
   "outputs": [
    {
     "name": "stdout",
     "output_type": "stream",
     "text": [
      "Разница значений коэффициента детерминации: -6.94777568810423e-13.\n"
     ]
    }
   ],
   "source": [
    "print(f'Разница значений коэффициента детерминации: {r2_encoded - r2}.')"
   ]
  },
  {
   "cell_type": "markdown",
   "metadata": {},
   "source": [
    "### Проверка алгоритма на линейной регрессии. Вывод.\n",
    "- Учитывая особенности хранения дробных чисел в Python, можно сказать, что коэффициент детерминации $R^2$ для линейной регрессии с преобразованием предикторов и без одинаков, что подверждает отсутствие потери качества линейной регрессии при умножении матрицы признаков на обратимую матрицу."
   ]
  },
  {
   "cell_type": "markdown",
   "metadata": {},
   "source": [
    "## Общий вывод.\n",
    "- Была доказана эффективность алгоритма защиты данных с помощью умножение независымых признаков на обратимую матрицу.\n",
    "- Было доказано, теоритически и практически, что эффективность линейной регрессии при такой трансформации предикторов не снижается."
   ]
  }
 ],
 "metadata": {
  "ExecuteTimeLog": [
   {
    "duration": 1359,
    "start_time": "2023-10-23T12:07:17.521Z"
   },
   {
    "duration": 59,
    "start_time": "2023-10-23T12:07:26.295Z"
   },
   {
    "duration": 19,
    "start_time": "2023-10-23T12:07:33.890Z"
   },
   {
    "duration": 180,
    "start_time": "2023-10-23T12:07:42.024Z"
   },
   {
    "duration": 51,
    "start_time": "2023-10-23T12:09:01.127Z"
   },
   {
    "duration": 49,
    "start_time": "2023-10-23T12:09:39.689Z"
   },
   {
    "duration": 54,
    "start_time": "2023-10-23T12:12:24.813Z"
   },
   {
    "duration": 62,
    "start_time": "2023-10-23T12:13:06.257Z"
   },
   {
    "duration": 65,
    "start_time": "2023-10-23T12:17:15.234Z"
   },
   {
    "duration": 72,
    "start_time": "2023-10-23T12:18:10.431Z"
   },
   {
    "duration": 65,
    "start_time": "2023-10-23T12:18:20.716Z"
   },
   {
    "duration": 52,
    "start_time": "2023-10-23T12:44:07.283Z"
   },
   {
    "duration": 54,
    "start_time": "2023-10-23T12:44:17.771Z"
   },
   {
    "duration": 46,
    "start_time": "2023-10-23T12:44:23.182Z"
   },
   {
    "duration": 6,
    "start_time": "2023-10-23T12:46:40.533Z"
   },
   {
    "duration": 1345,
    "start_time": "2023-10-23T12:49:30.042Z"
   },
   {
    "duration": 87,
    "start_time": "2023-10-23T13:18:43.760Z"
   },
   {
    "duration": 677,
    "start_time": "2023-10-23T13:18:52.407Z"
   },
   {
    "duration": 4,
    "start_time": "2023-10-23T13:19:17.035Z"
   },
   {
    "duration": 756,
    "start_time": "2023-10-23T13:19:19.155Z"
   },
   {
    "duration": 1066,
    "start_time": "2023-10-23T13:19:39.255Z"
   },
   {
    "duration": 623,
    "start_time": "2023-10-23T13:19:53.003Z"
   },
   {
    "duration": 1147,
    "start_time": "2023-10-23T13:20:27.383Z"
   },
   {
    "duration": 1053,
    "start_time": "2023-10-23T13:21:54.586Z"
   },
   {
    "duration": 1536,
    "start_time": "2023-10-23T13:23:38.473Z"
   },
   {
    "duration": 1321,
    "start_time": "2023-10-23T13:23:52.472Z"
   },
   {
    "duration": 23,
    "start_time": "2023-10-23T13:24:39.766Z"
   },
   {
    "duration": 3342,
    "start_time": "2023-10-23T13:25:20.308Z"
   },
   {
    "duration": 1123,
    "start_time": "2023-10-23T13:27:02.599Z"
   },
   {
    "duration": 1218,
    "start_time": "2023-10-23T13:27:43.502Z"
   },
   {
    "duration": 1280,
    "start_time": "2023-10-23T13:29:11.925Z"
   },
   {
    "duration": 1173,
    "start_time": "2023-10-23T13:29:28.462Z"
   },
   {
    "duration": 1203,
    "start_time": "2023-10-23T13:29:43.819Z"
   },
   {
    "duration": 1312,
    "start_time": "2023-10-23T13:30:31.128Z"
   },
   {
    "duration": 1147,
    "start_time": "2023-10-23T13:30:45.901Z"
   },
   {
    "duration": 1108,
    "start_time": "2023-10-23T13:31:17.568Z"
   },
   {
    "duration": 8,
    "start_time": "2023-10-23T13:35:08.773Z"
   },
   {
    "duration": 1497,
    "start_time": "2023-10-24T11:22:32.002Z"
   },
   {
    "duration": 76,
    "start_time": "2023-10-24T11:22:33.501Z"
   },
   {
    "duration": 1019,
    "start_time": "2023-10-24T11:22:33.578Z"
   },
   {
    "duration": 8,
    "start_time": "2023-10-24T11:22:34.599Z"
   },
   {
    "duration": 1206,
    "start_time": "2023-10-24T11:23:36.354Z"
   },
   {
    "duration": 960,
    "start_time": "2023-10-24T11:24:06.809Z"
   },
   {
    "duration": 594,
    "start_time": "2023-10-24T11:24:27.835Z"
   },
   {
    "duration": 77,
    "start_time": "2023-10-24T11:31:10.657Z"
   },
   {
    "duration": 1030,
    "start_time": "2023-10-24T11:31:38.683Z"
   },
   {
    "duration": 1030,
    "start_time": "2023-10-24T11:32:02.121Z"
   },
   {
    "duration": 973,
    "start_time": "2023-10-24T11:32:16.215Z"
   },
   {
    "duration": 1062,
    "start_time": "2023-10-24T11:39:11.910Z"
   },
   {
    "duration": 1253,
    "start_time": "2023-10-24T11:39:37.340Z"
   },
   {
    "duration": 29,
    "start_time": "2023-10-24T11:39:38.594Z"
   },
   {
    "duration": 1004,
    "start_time": "2023-10-24T11:39:38.624Z"
   },
   {
    "duration": 7,
    "start_time": "2023-10-24T11:39:39.642Z"
   },
   {
    "duration": 1002,
    "start_time": "2023-10-24T11:41:06.301Z"
   },
   {
    "duration": 1150,
    "start_time": "2023-10-24T11:41:14.706Z"
   },
   {
    "duration": 6,
    "start_time": "2023-10-24T11:42:27.368Z"
   },
   {
    "duration": 6,
    "start_time": "2023-10-24T11:42:41.032Z"
   },
   {
    "duration": 12,
    "start_time": "2023-10-24T11:42:48.660Z"
   },
   {
    "duration": 5,
    "start_time": "2023-10-24T11:43:15.824Z"
   },
   {
    "duration": 7,
    "start_time": "2023-10-24T11:43:26.587Z"
   },
   {
    "duration": 177,
    "start_time": "2023-10-24T11:51:17.430Z"
   },
   {
    "duration": 80,
    "start_time": "2023-10-24T11:51:35.994Z"
   },
   {
    "duration": 13,
    "start_time": "2023-10-24T11:51:45.623Z"
   },
   {
    "duration": 161,
    "start_time": "2023-10-24T11:55:06.181Z"
   },
   {
    "duration": 4,
    "start_time": "2023-10-24T11:55:12.114Z"
   },
   {
    "duration": 3,
    "start_time": "2023-10-24T11:55:19.663Z"
   },
   {
    "duration": 3,
    "start_time": "2023-10-24T12:21:40.312Z"
   },
   {
    "duration": 3,
    "start_time": "2023-10-24T12:22:26.509Z"
   },
   {
    "duration": 9,
    "start_time": "2023-10-24T12:22:59.241Z"
   },
   {
    "duration": 3,
    "start_time": "2023-10-24T12:23:05.614Z"
   },
   {
    "duration": 3,
    "start_time": "2023-10-24T12:23:11.859Z"
   },
   {
    "duration": 4,
    "start_time": "2023-10-24T12:23:53.810Z"
   },
   {
    "duration": 3,
    "start_time": "2023-10-24T12:24:45.374Z"
   },
   {
    "duration": 4,
    "start_time": "2023-10-24T12:27:46.827Z"
   },
   {
    "duration": 4,
    "start_time": "2023-10-24T12:28:04.012Z"
   },
   {
    "duration": 4,
    "start_time": "2023-10-24T12:28:20.785Z"
   },
   {
    "duration": 5,
    "start_time": "2023-10-24T12:29:20.372Z"
   },
   {
    "duration": 4,
    "start_time": "2023-10-24T12:30:08.127Z"
   },
   {
    "duration": 73,
    "start_time": "2023-10-24T12:31:03.025Z"
   },
   {
    "duration": 4,
    "start_time": "2023-10-24T12:31:05.634Z"
   },
   {
    "duration": 9,
    "start_time": "2023-10-24T12:33:10.029Z"
   },
   {
    "duration": 11,
    "start_time": "2023-10-24T12:33:14.335Z"
   },
   {
    "duration": 5,
    "start_time": "2023-10-24T12:33:21.364Z"
   },
   {
    "duration": 9,
    "start_time": "2023-10-24T12:33:42.339Z"
   },
   {
    "duration": 4,
    "start_time": "2023-10-24T12:34:05.215Z"
   },
   {
    "duration": 923,
    "start_time": "2023-10-24T12:34:42.058Z"
   },
   {
    "duration": 4,
    "start_time": "2023-10-24T12:35:10.775Z"
   },
   {
    "duration": 31,
    "start_time": "2023-10-24T12:36:11.889Z"
   },
   {
    "duration": 5,
    "start_time": "2023-10-24T12:36:44.602Z"
   },
   {
    "duration": 5,
    "start_time": "2023-10-24T12:36:54.283Z"
   },
   {
    "duration": 11,
    "start_time": "2023-10-24T12:39:06.226Z"
   },
   {
    "duration": 13,
    "start_time": "2023-10-24T12:39:13.072Z"
   },
   {
    "duration": 15,
    "start_time": "2023-10-24T12:39:57.934Z"
   },
   {
    "duration": 3,
    "start_time": "2023-10-24T12:40:41.728Z"
   },
   {
    "duration": 4,
    "start_time": "2023-10-24T12:42:55.622Z"
   },
   {
    "duration": 4,
    "start_time": "2023-10-24T12:43:03.859Z"
   },
   {
    "duration": 4,
    "start_time": "2023-10-24T12:43:11.384Z"
   },
   {
    "duration": 6,
    "start_time": "2023-10-24T12:43:45.668Z"
   },
   {
    "duration": 8,
    "start_time": "2023-10-24T12:48:20.127Z"
   },
   {
    "duration": 9,
    "start_time": "2023-10-24T12:48:47.170Z"
   },
   {
    "duration": 3,
    "start_time": "2023-10-24T12:48:49.164Z"
   },
   {
    "duration": 5,
    "start_time": "2023-10-24T12:48:58.750Z"
   },
   {
    "duration": 82,
    "start_time": "2023-10-24T12:51:44.135Z"
   },
   {
    "duration": 6,
    "start_time": "2023-10-24T12:51:46.647Z"
   },
   {
    "duration": 5,
    "start_time": "2023-10-24T12:51:56.613Z"
   },
   {
    "duration": 6,
    "start_time": "2023-10-24T12:52:04.395Z"
   },
   {
    "duration": 4,
    "start_time": "2023-10-24T12:57:27.199Z"
   },
   {
    "duration": 5,
    "start_time": "2023-10-24T12:57:31.478Z"
   },
   {
    "duration": 5,
    "start_time": "2023-10-24T12:57:50.909Z"
   },
   {
    "duration": 12,
    "start_time": "2023-10-24T12:58:35.126Z"
   },
   {
    "duration": 72,
    "start_time": "2023-10-24T12:58:43.612Z"
   },
   {
    "duration": 12,
    "start_time": "2023-10-24T12:58:45.770Z"
   },
   {
    "duration": 1234,
    "start_time": "2023-10-24T12:59:08.863Z"
   },
   {
    "duration": 29,
    "start_time": "2023-10-24T12:59:10.881Z"
   },
   {
    "duration": 1172,
    "start_time": "2023-10-24T12:59:14.624Z"
   },
   {
    "duration": 6,
    "start_time": "2023-10-24T12:59:24.483Z"
   },
   {
    "duration": 11,
    "start_time": "2023-10-24T12:59:29.147Z"
   },
   {
    "duration": 1213,
    "start_time": "2023-10-24T12:59:50.965Z"
   },
   {
    "duration": 1181,
    "start_time": "2023-10-24T12:59:58.895Z"
   },
   {
    "duration": 29,
    "start_time": "2023-10-24T13:00:00.660Z"
   },
   {
    "duration": 1167,
    "start_time": "2023-10-24T13:00:08.707Z"
   },
   {
    "duration": 1231,
    "start_time": "2023-10-24T13:00:11.820Z"
   },
   {
    "duration": 1110,
    "start_time": "2023-10-24T13:00:13.675Z"
   },
   {
    "duration": 10,
    "start_time": "2023-10-24T13:00:19.391Z"
   },
   {
    "duration": 7,
    "start_time": "2023-10-24T13:01:34.943Z"
   },
   {
    "duration": 11,
    "start_time": "2023-10-24T13:01:38.741Z"
   },
   {
    "duration": 10,
    "start_time": "2023-10-24T13:03:08.804Z"
   },
   {
    "duration": 94,
    "start_time": "2023-10-24T13:03:15.683Z"
   },
   {
    "duration": 10,
    "start_time": "2023-10-24T13:03:17.682Z"
   },
   {
    "duration": 15,
    "start_time": "2023-10-24T13:03:22.876Z"
   },
   {
    "duration": 11,
    "start_time": "2023-10-24T13:03:35.716Z"
   },
   {
    "duration": 12,
    "start_time": "2023-10-24T13:03:43.412Z"
   },
   {
    "duration": 17,
    "start_time": "2023-10-24T13:04:26.238Z"
   },
   {
    "duration": 5,
    "start_time": "2023-10-24T13:09:12.940Z"
   },
   {
    "duration": 6,
    "start_time": "2023-10-24T13:09:40.154Z"
   },
   {
    "duration": 8,
    "start_time": "2023-10-24T13:10:10.402Z"
   },
   {
    "duration": 9,
    "start_time": "2023-10-24T13:10:42.955Z"
   },
   {
    "duration": 1200,
    "start_time": "2023-10-24T13:10:59.992Z"
   },
   {
    "duration": 29,
    "start_time": "2023-10-24T13:11:01.194Z"
   },
   {
    "duration": 1130,
    "start_time": "2023-10-24T13:11:01.224Z"
   },
   {
    "duration": 6,
    "start_time": "2023-10-24T13:11:05.936Z"
   },
   {
    "duration": 5,
    "start_time": "2023-10-24T13:11:08.813Z"
   },
   {
    "duration": 9,
    "start_time": "2023-10-24T13:11:11.118Z"
   },
   {
    "duration": 4,
    "start_time": "2023-10-24T13:11:29.404Z"
   },
   {
    "duration": 9,
    "start_time": "2023-10-24T13:11:33.130Z"
   },
   {
    "duration": 1259,
    "start_time": "2023-10-24T13:12:41.028Z"
   },
   {
    "duration": 29,
    "start_time": "2023-10-24T13:12:42.289Z"
   },
   {
    "duration": 1176,
    "start_time": "2023-10-24T13:12:42.319Z"
   },
   {
    "duration": 6,
    "start_time": "2023-10-24T13:12:43.496Z"
   },
   {
    "duration": 11,
    "start_time": "2023-10-24T13:12:43.504Z"
   },
   {
    "duration": 19,
    "start_time": "2023-10-24T13:12:43.516Z"
   },
   {
    "duration": 90,
    "start_time": "2023-10-24T13:12:43.539Z"
   },
   {
    "duration": 0,
    "start_time": "2023-10-24T13:12:43.631Z"
   },
   {
    "duration": 7,
    "start_time": "2023-10-24T13:12:54.319Z"
   },
   {
    "duration": 7,
    "start_time": "2023-10-24T13:13:20.746Z"
   },
   {
    "duration": 8,
    "start_time": "2023-10-24T13:13:24.059Z"
   },
   {
    "duration": 47,
    "start_time": "2023-10-24T15:17:53.194Z"
   },
   {
    "duration": 5,
    "start_time": "2023-10-24T15:17:56.946Z"
   },
   {
    "duration": 8,
    "start_time": "2023-10-24T15:18:02.515Z"
   },
   {
    "duration": 1834,
    "start_time": "2023-10-24T15:18:09.825Z"
   },
   {
    "duration": 76,
    "start_time": "2023-10-24T15:18:11.661Z"
   },
   {
    "duration": 1313,
    "start_time": "2023-10-24T15:18:11.739Z"
   },
   {
    "duration": 6,
    "start_time": "2023-10-24T15:18:13.053Z"
   },
   {
    "duration": 4,
    "start_time": "2023-10-24T15:18:13.770Z"
   },
   {
    "duration": 15,
    "start_time": "2023-10-24T15:18:17.634Z"
   },
   {
    "duration": 66,
    "start_time": "2023-10-24T15:18:31.487Z"
   },
   {
    "duration": 30,
    "start_time": "2023-10-24T15:18:35.839Z"
   },
   {
    "duration": 9,
    "start_time": "2023-10-24T15:18:47.861Z"
   },
   {
    "duration": 1802,
    "start_time": "2023-10-25T10:39:43.948Z"
   },
   {
    "duration": 92,
    "start_time": "2023-10-25T10:39:45.753Z"
   },
   {
    "duration": 1580,
    "start_time": "2023-10-25T10:39:45.848Z"
   },
   {
    "duration": 10,
    "start_time": "2023-10-25T10:39:47.431Z"
   },
   {
    "duration": 32,
    "start_time": "2023-10-25T10:39:47.443Z"
   },
   {
    "duration": 111,
    "start_time": "2023-10-25T11:45:31.602Z"
   },
   {
    "duration": 5,
    "start_time": "2023-10-25T11:45:44.668Z"
   },
   {
    "duration": 10,
    "start_time": "2023-10-25T11:45:47.037Z"
   },
   {
    "duration": 6,
    "start_time": "2023-10-25T11:46:12.370Z"
   },
   {
    "duration": 4,
    "start_time": "2023-10-25T11:49:50.210Z"
   },
   {
    "duration": 5,
    "start_time": "2023-10-25T11:51:58.670Z"
   },
   {
    "duration": 5,
    "start_time": "2023-10-25T11:52:01.272Z"
   },
   {
    "duration": 6,
    "start_time": "2023-10-25T11:52:02.522Z"
   },
   {
    "duration": 3,
    "start_time": "2023-10-25T11:52:53.485Z"
   },
   {
    "duration": 249,
    "start_time": "2023-10-25T11:53:30.737Z"
   },
   {
    "duration": 5,
    "start_time": "2023-10-25T11:53:40.180Z"
   },
   {
    "duration": 16626,
    "start_time": "2023-10-25T11:53:57.270Z"
   },
   {
    "duration": 15358,
    "start_time": "2023-10-25T11:57:31.334Z"
   },
   {
    "duration": 226,
    "start_time": "2023-10-25T11:58:59.788Z"
   },
   {
    "duration": 16338,
    "start_time": "2023-10-25T11:59:03.178Z"
   },
   {
    "duration": 449,
    "start_time": "2023-10-25T11:59:19.519Z"
   },
   {
    "duration": 24,
    "start_time": "2023-10-25T12:02:59.985Z"
   },
   {
    "duration": 221,
    "start_time": "2023-10-25T12:03:47.923Z"
   },
   {
    "duration": 26640,
    "start_time": "2023-10-25T12:04:04.528Z"
   },
   {
    "duration": 10,
    "start_time": "2023-10-25T12:25:12.508Z"
   },
   {
    "duration": 217,
    "start_time": "2023-10-25T12:25:17.626Z"
   },
   {
    "duration": 4553,
    "start_time": "2023-10-25T12:25:18.817Z"
   },
   {
    "duration": 4,
    "start_time": "2023-10-25T12:29:10.702Z"
   },
   {
    "duration": 4,
    "start_time": "2023-10-25T12:29:12.540Z"
   },
   {
    "duration": 1498,
    "start_time": "2023-10-25T12:51:27.809Z"
   },
   {
    "duration": 1372,
    "start_time": "2023-10-25T12:51:51.067Z"
   },
   {
    "duration": 4,
    "start_time": "2023-10-25T13:01:21.001Z"
   },
   {
    "duration": 8,
    "start_time": "2023-10-25T13:01:24.879Z"
   },
   {
    "duration": 19,
    "start_time": "2023-10-25T13:01:41.727Z"
   },
   {
    "duration": 9,
    "start_time": "2023-10-25T13:15:17.006Z"
   },
   {
    "duration": 4,
    "start_time": "2023-10-25T13:15:36.977Z"
   },
   {
    "duration": 3,
    "start_time": "2023-10-25T13:17:18.516Z"
   },
   {
    "duration": 4,
    "start_time": "2023-10-25T13:20:27.665Z"
   },
   {
    "duration": 10,
    "start_time": "2023-10-25T13:24:03.338Z"
   },
   {
    "duration": 9,
    "start_time": "2023-10-25T13:24:19.306Z"
   },
   {
    "duration": 4,
    "start_time": "2023-10-25T13:24:23.056Z"
   },
   {
    "duration": 4,
    "start_time": "2023-10-25T13:24:36.444Z"
   },
   {
    "duration": 13,
    "start_time": "2023-10-25T13:24:46.605Z"
   },
   {
    "duration": 7,
    "start_time": "2023-10-25T13:24:51.889Z"
   },
   {
    "duration": 154,
    "start_time": "2023-10-25T13:24:58.832Z"
   },
   {
    "duration": 5,
    "start_time": "2023-10-25T13:25:10.239Z"
   },
   {
    "duration": 4,
    "start_time": "2023-10-25T13:26:49.396Z"
   },
   {
    "duration": 9,
    "start_time": "2023-10-25T13:27:01.806Z"
   },
   {
    "duration": 6,
    "start_time": "2023-10-25T13:27:06.980Z"
   },
   {
    "duration": 4,
    "start_time": "2023-10-25T13:27:19.230Z"
   },
   {
    "duration": 6,
    "start_time": "2023-10-25T13:38:34.844Z"
   },
   {
    "duration": 7,
    "start_time": "2023-10-25T13:41:03.978Z"
   },
   {
    "duration": 17,
    "start_time": "2023-10-25T13:44:39.680Z"
   },
   {
    "duration": 93,
    "start_time": "2023-10-25T13:44:57.789Z"
   },
   {
    "duration": 8,
    "start_time": "2023-10-25T13:45:19.972Z"
   },
   {
    "duration": 7,
    "start_time": "2023-10-25T13:54:50.914Z"
   },
   {
    "duration": 11,
    "start_time": "2023-10-25T13:55:34.882Z"
   },
   {
    "duration": 14,
    "start_time": "2023-10-25T14:17:04.997Z"
   },
   {
    "duration": 6,
    "start_time": "2023-10-25T14:17:28.802Z"
   },
   {
    "duration": 6,
    "start_time": "2023-10-25T14:19:02.113Z"
   },
   {
    "duration": 20,
    "start_time": "2023-10-25T14:19:24.031Z"
   },
   {
    "duration": 9,
    "start_time": "2023-10-25T14:25:23.092Z"
   },
   {
    "duration": 20,
    "start_time": "2023-10-25T14:25:46.479Z"
   },
   {
    "duration": 13,
    "start_time": "2023-10-25T14:26:31.421Z"
   },
   {
    "duration": 5,
    "start_time": "2023-10-25T14:26:34.505Z"
   },
   {
    "duration": 13,
    "start_time": "2023-10-25T14:26:44.786Z"
   },
   {
    "duration": 6,
    "start_time": "2023-10-25T14:26:47.785Z"
   },
   {
    "duration": 5,
    "start_time": "2023-10-25T14:28:23.598Z"
   },
   {
    "duration": 18,
    "start_time": "2023-10-25T14:28:26.584Z"
   },
   {
    "duration": 5,
    "start_time": "2023-10-25T14:29:02.110Z"
   },
   {
    "duration": 6,
    "start_time": "2023-10-25T14:29:29.083Z"
   },
   {
    "duration": 18,
    "start_time": "2023-10-25T14:29:36.523Z"
   },
   {
    "duration": 13,
    "start_time": "2023-10-25T14:29:43.687Z"
   },
   {
    "duration": 18,
    "start_time": "2023-10-25T14:29:47.491Z"
   },
   {
    "duration": 6,
    "start_time": "2023-10-25T14:33:56.897Z"
   },
   {
    "duration": 16,
    "start_time": "2023-10-25T14:34:00.255Z"
   },
   {
    "duration": 14,
    "start_time": "2023-10-25T14:34:36.756Z"
   },
   {
    "duration": 90,
    "start_time": "2023-10-25T14:35:52.783Z"
   },
   {
    "duration": 14,
    "start_time": "2023-10-25T14:36:26.599Z"
   },
   {
    "duration": 15,
    "start_time": "2023-10-25T14:36:33.538Z"
   },
   {
    "duration": 11,
    "start_time": "2023-10-25T14:36:41.596Z"
   },
   {
    "duration": 11,
    "start_time": "2023-10-25T14:38:05.252Z"
   },
   {
    "duration": 13,
    "start_time": "2023-10-25T14:38:26.080Z"
   },
   {
    "duration": 13,
    "start_time": "2023-10-25T14:39:17.796Z"
   },
   {
    "duration": 13,
    "start_time": "2023-10-25T14:39:22.400Z"
   },
   {
    "duration": 16,
    "start_time": "2023-10-25T14:39:24.090Z"
   },
   {
    "duration": 1474,
    "start_time": "2023-10-25T14:39:39.284Z"
   },
   {
    "duration": 5,
    "start_time": "2023-10-25T14:39:41.170Z"
   },
   {
    "duration": 30,
    "start_time": "2023-10-25T14:39:42.978Z"
   },
   {
    "duration": 1531,
    "start_time": "2023-10-25T14:39:43.890Z"
   },
   {
    "duration": 8,
    "start_time": "2023-10-25T14:39:51.354Z"
   },
   {
    "duration": 7,
    "start_time": "2023-10-25T14:39:54.835Z"
   },
   {
    "duration": 132,
    "start_time": "2023-10-25T14:40:00.802Z"
   },
   {
    "duration": 5,
    "start_time": "2023-10-25T14:40:17.008Z"
   },
   {
    "duration": 12,
    "start_time": "2023-10-25T14:40:18.303Z"
   },
   {
    "duration": 9,
    "start_time": "2023-10-25T14:40:22.789Z"
   },
   {
    "duration": 101,
    "start_time": "2023-10-25T14:40:44.382Z"
   },
   {
    "duration": 7,
    "start_time": "2023-10-25T14:41:52.585Z"
   },
   {
    "duration": 15,
    "start_time": "2023-10-25T14:42:51.013Z"
   },
   {
    "duration": 12,
    "start_time": "2023-10-25T14:43:22.288Z"
   },
   {
    "duration": 12,
    "start_time": "2023-10-25T14:43:35.111Z"
   },
   {
    "duration": 11,
    "start_time": "2023-10-25T14:43:37.987Z"
   },
   {
    "duration": 18,
    "start_time": "2023-10-25T14:43:39.156Z"
   },
   {
    "duration": 16,
    "start_time": "2023-10-25T14:43:42.614Z"
   },
   {
    "duration": 5,
    "start_time": "2023-10-25T14:44:07.236Z"
   },
   {
    "duration": 13,
    "start_time": "2023-10-25T14:44:11.520Z"
   },
   {
    "duration": 13,
    "start_time": "2023-10-25T14:44:13.616Z"
   },
   {
    "duration": 12,
    "start_time": "2023-10-25T14:44:15.285Z"
   },
   {
    "duration": 6,
    "start_time": "2023-10-25T14:44:54.733Z"
   },
   {
    "duration": 17,
    "start_time": "2023-10-25T14:45:02.230Z"
   },
   {
    "duration": 17,
    "start_time": "2023-10-25T14:46:00.598Z"
   },
   {
    "duration": 14,
    "start_time": "2023-10-25T14:53:14.417Z"
   },
   {
    "duration": 5,
    "start_time": "2023-10-25T14:53:17.418Z"
   },
   {
    "duration": 20,
    "start_time": "2023-10-25T14:53:20.104Z"
   },
   {
    "duration": 22,
    "start_time": "2023-10-25T14:53:35.053Z"
   },
   {
    "duration": 4,
    "start_time": "2023-10-25T15:06:10.009Z"
   },
   {
    "duration": 5,
    "start_time": "2023-10-25T15:06:42.840Z"
   },
   {
    "duration": 8,
    "start_time": "2023-10-25T15:07:05.899Z"
   },
   {
    "duration": 12,
    "start_time": "2023-10-25T15:57:54.217Z"
   },
   {
    "duration": 12,
    "start_time": "2023-10-25T16:00:59.329Z"
   },
   {
    "duration": 12,
    "start_time": "2023-10-25T16:01:02.100Z"
   },
   {
    "duration": 11,
    "start_time": "2023-10-25T16:01:11.547Z"
   },
   {
    "duration": 13,
    "start_time": "2023-10-25T16:02:20.889Z"
   },
   {
    "duration": 13,
    "start_time": "2023-10-25T16:02:30.455Z"
   },
   {
    "duration": 11,
    "start_time": "2023-10-25T16:02:48.119Z"
   },
   {
    "duration": 13,
    "start_time": "2023-10-25T16:02:57.530Z"
   },
   {
    "duration": 17,
    "start_time": "2023-10-25T16:03:01.573Z"
   },
   {
    "duration": 16,
    "start_time": "2023-10-25T16:03:13.634Z"
   },
   {
    "duration": 14,
    "start_time": "2023-10-25T16:04:33.801Z"
   },
   {
    "duration": 5,
    "start_time": "2023-10-25T16:04:44.380Z"
   },
   {
    "duration": 13,
    "start_time": "2023-10-25T16:06:15.948Z"
   },
   {
    "duration": 9,
    "start_time": "2023-10-25T16:08:13.519Z"
   },
   {
    "duration": 5,
    "start_time": "2023-10-25T16:08:19.814Z"
   },
   {
    "duration": 18,
    "start_time": "2023-10-25T16:09:26.390Z"
   },
   {
    "duration": 12,
    "start_time": "2023-10-25T16:10:51.688Z"
   },
   {
    "duration": 5,
    "start_time": "2023-10-25T16:11:17.694Z"
   },
   {
    "duration": 13,
    "start_time": "2023-10-25T16:11:20.239Z"
   },
   {
    "duration": 12,
    "start_time": "2023-10-25T16:12:08.933Z"
   },
   {
    "duration": 15,
    "start_time": "2023-10-25T16:12:52.642Z"
   },
   {
    "duration": 15,
    "start_time": "2023-10-25T16:13:17.217Z"
   },
   {
    "duration": 19,
    "start_time": "2023-10-25T16:24:33.408Z"
   },
   {
    "duration": 21,
    "start_time": "2023-10-25T16:24:58.234Z"
   },
   {
    "duration": 173,
    "start_time": "2023-10-25T16:25:09.025Z"
   },
   {
    "duration": 12,
    "start_time": "2023-10-25T16:26:48.013Z"
   },
   {
    "duration": 12,
    "start_time": "2023-10-25T16:47:04.908Z"
   },
   {
    "duration": 9,
    "start_time": "2023-10-25T16:47:07.429Z"
   },
   {
    "duration": 20,
    "start_time": "2023-10-25T17:09:49.987Z"
   },
   {
    "duration": 2203,
    "start_time": "2023-10-25T17:14:13.194Z"
   },
   {
    "duration": 27,
    "start_time": "2023-10-25T17:14:43.104Z"
   },
   {
    "duration": 16,
    "start_time": "2023-10-25T17:14:52.880Z"
   },
   {
    "duration": 5,
    "start_time": "2023-10-25T17:15:52.494Z"
   },
   {
    "duration": 12,
    "start_time": "2023-10-25T17:15:59.990Z"
   },
   {
    "duration": 18,
    "start_time": "2023-10-25T17:16:24.515Z"
   },
   {
    "duration": 14,
    "start_time": "2023-10-25T17:16:30.886Z"
   },
   {
    "duration": 12,
    "start_time": "2023-10-25T17:16:55.493Z"
   },
   {
    "duration": 12,
    "start_time": "2023-10-25T17:18:27.686Z"
   },
   {
    "duration": 5,
    "start_time": "2023-10-25T17:19:54.985Z"
   },
   {
    "duration": 1502,
    "start_time": "2023-10-25T17:20:04.076Z"
   },
   {
    "duration": 4,
    "start_time": "2023-10-25T17:20:05.585Z"
   },
   {
    "duration": 54,
    "start_time": "2023-10-25T17:20:05.591Z"
   },
   {
    "duration": 1479,
    "start_time": "2023-10-25T17:20:05.647Z"
   },
   {
    "duration": 8,
    "start_time": "2023-10-25T17:20:07.128Z"
   },
   {
    "duration": 6,
    "start_time": "2023-10-25T17:20:07.137Z"
   },
   {
    "duration": 155,
    "start_time": "2023-10-25T17:20:07.172Z"
   },
   {
    "duration": 6,
    "start_time": "2023-10-25T17:20:07.329Z"
   },
   {
    "duration": 34,
    "start_time": "2023-10-25T17:20:07.338Z"
   },
   {
    "duration": 14,
    "start_time": "2023-10-25T17:20:07.374Z"
   },
   {
    "duration": 12,
    "start_time": "2023-10-25T17:25:32.651Z"
   },
   {
    "duration": 14,
    "start_time": "2023-10-25T17:26:22.290Z"
   },
   {
    "duration": 5,
    "start_time": "2023-10-25T17:27:59.538Z"
   },
   {
    "duration": 1539,
    "start_time": "2023-10-25T17:45:34.371Z"
   },
   {
    "duration": 3,
    "start_time": "2023-10-25T17:45:35.912Z"
   },
   {
    "duration": 88,
    "start_time": "2023-10-25T17:45:35.917Z"
   },
   {
    "duration": 1488,
    "start_time": "2023-10-25T17:45:36.007Z"
   },
   {
    "duration": 8,
    "start_time": "2023-10-25T17:45:37.498Z"
   },
   {
    "duration": 17,
    "start_time": "2023-10-25T17:45:37.508Z"
   },
   {
    "duration": 178,
    "start_time": "2023-10-25T17:45:37.527Z"
   },
   {
    "duration": 6,
    "start_time": "2023-10-25T17:45:37.707Z"
   },
   {
    "duration": 18,
    "start_time": "2023-10-25T17:45:37.714Z"
   },
   {
    "duration": 19,
    "start_time": "2023-10-25T17:45:37.734Z"
   },
   {
    "duration": 22,
    "start_time": "2023-10-25T17:45:37.754Z"
   },
   {
    "duration": 12,
    "start_time": "2023-10-25T18:00:32.739Z"
   },
   {
    "duration": 10,
    "start_time": "2023-10-25T18:02:16.987Z"
   },
   {
    "duration": 1488,
    "start_time": "2023-10-25T18:09:26.342Z"
   },
   {
    "duration": 4,
    "start_time": "2023-10-25T18:09:27.833Z"
   },
   {
    "duration": 34,
    "start_time": "2023-10-25T18:09:27.839Z"
   },
   {
    "duration": 1403,
    "start_time": "2023-10-25T18:09:27.875Z"
   },
   {
    "duration": 9,
    "start_time": "2023-10-25T18:09:29.282Z"
   },
   {
    "duration": 14,
    "start_time": "2023-10-25T18:09:29.292Z"
   },
   {
    "duration": 154,
    "start_time": "2023-10-25T18:09:29.307Z"
   },
   {
    "duration": 4,
    "start_time": "2023-10-25T18:09:29.467Z"
   },
   {
    "duration": 11,
    "start_time": "2023-10-25T18:09:29.472Z"
   },
   {
    "duration": 7,
    "start_time": "2023-10-25T18:09:29.485Z"
   },
   {
    "duration": 15,
    "start_time": "2023-10-25T18:09:29.494Z"
   },
   {
    "duration": 1472,
    "start_time": "2023-10-26T09:54:30.300Z"
   },
   {
    "duration": 3,
    "start_time": "2023-10-26T09:54:31.775Z"
   },
   {
    "duration": 124,
    "start_time": "2023-10-26T09:54:31.780Z"
   },
   {
    "duration": 1312,
    "start_time": "2023-10-26T09:54:31.906Z"
   },
   {
    "duration": 8,
    "start_time": "2023-10-26T09:54:33.219Z"
   },
   {
    "duration": 75,
    "start_time": "2023-10-26T09:54:33.228Z"
   },
   {
    "duration": 133,
    "start_time": "2023-10-26T09:54:33.305Z"
   },
   {
    "duration": 5,
    "start_time": "2023-10-26T09:54:33.444Z"
   },
   {
    "duration": 19,
    "start_time": "2023-10-26T09:54:33.451Z"
   },
   {
    "duration": 11,
    "start_time": "2023-10-26T09:54:33.473Z"
   },
   {
    "duration": 21,
    "start_time": "2023-10-26T09:54:33.486Z"
   },
   {
    "duration": 12,
    "start_time": "2023-10-26T10:01:25.004Z"
   },
   {
    "duration": 123,
    "start_time": "2023-10-26T10:01:54.457Z"
   },
   {
    "duration": 14,
    "start_time": "2023-10-26T10:06:02.619Z"
   },
   {
    "duration": 388,
    "start_time": "2023-10-26T10:07:43.174Z"
   },
   {
    "duration": 1333,
    "start_time": "2023-10-26T10:08:22.634Z"
   },
   {
    "duration": 22,
    "start_time": "2023-10-26T10:09:04.085Z"
   },
   {
    "duration": 376,
    "start_time": "2023-10-26T10:09:18.413Z"
   },
   {
    "duration": 12,
    "start_time": "2023-10-26T10:09:24.854Z"
   },
   {
    "duration": 4529,
    "start_time": "2023-10-27T09:57:29.698Z"
   },
   {
    "duration": 3,
    "start_time": "2023-10-27T09:57:34.230Z"
   },
   {
    "duration": 89,
    "start_time": "2023-10-27T09:57:34.235Z"
   },
   {
    "duration": 1498,
    "start_time": "2023-10-27T09:57:34.326Z"
   },
   {
    "duration": 10,
    "start_time": "2023-10-27T09:57:35.827Z"
   },
   {
    "duration": 12,
    "start_time": "2023-10-27T09:57:35.839Z"
   },
   {
    "duration": 171,
    "start_time": "2023-10-27T09:57:35.853Z"
   },
   {
    "duration": 10,
    "start_time": "2023-10-27T09:57:36.026Z"
   },
   {
    "duration": 4,
    "start_time": "2023-10-27T09:57:40.039Z"
   },
   {
    "duration": 10,
    "start_time": "2023-10-27T09:57:45.959Z"
   }
  ],
  "kernelspec": {
   "display_name": "Python 3 (ipykernel)",
   "language": "python",
   "name": "python3"
  },
  "language_info": {
   "codemirror_mode": {
    "name": "ipython",
    "version": 3
   },
   "file_extension": ".py",
   "mimetype": "text/x-python",
   "name": "python",
   "nbconvert_exporter": "python",
   "pygments_lexer": "ipython3",
   "version": "3.12.4"
  },
  "toc": {
   "base_numbering": 1,
   "nav_menu": {},
   "number_sections": true,
   "sideBar": true,
   "skip_h1_title": true,
   "title_cell": "Содержание",
   "title_sidebar": "Contents",
   "toc_cell": false,
   "toc_position": {
    "height": "calc(100% - 180px)",
    "left": "10px",
    "top": "150px",
    "width": "264.386px"
   },
   "toc_section_display": true,
   "toc_window_display": true
  }
 },
 "nbformat": 4,
 "nbformat_minor": 4
}
