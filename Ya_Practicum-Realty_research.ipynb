{
 "cells": [
  {
   "cell_type": "markdown",
   "metadata": {},
   "source": [
    "# Исследование объявлений о продаже квартир\n",
    "\n",
    "В вашем распоряжении данные сервиса Яндекс.Недвижимость — архив объявлений о продаже квартир в Санкт-Петербурге и соседних населённых пунктов за несколько лет. Нужно научиться определять рыночную стоимость объектов недвижимости. Ваша задача — установить параметры. Это позволит построить автоматизированную систему: она отследит аномалии и мошенническую деятельность. \n",
    "\n",
    "По каждой квартире на продажу доступны два вида данных. Первые вписаны пользователем, вторые — получены автоматически на основе картографических данных. Например, расстояние до центра, аэропорта, ближайшего парка и водоёма. "
   ]
  },
  {
   "cell_type": "markdown",
   "metadata": {},
   "source": [
    "# Предварительные замечания\n",
    "1. В процессе подачи тест-объявления на сайте [Яндекс.Недвидимости](https://realty.ya.ru/management-new/add/) было выявлено, что для подачи объявления необходимы:\n",
    "- регистрация аккаунта\n",
    "- адрес\n",
    "- 4 фотографии<br><br>\n",
    "Остальные параметры не обязательны к заполнению при оформлении объявления о продаже и могут быть не указаны.\n",
    "\n",
    "2. Под кол-вом этажей в столбце `floors_total` подразумевается этажность, т.е. число надземных этажей, а не общее число этажей, которое учитывает ЕГРН."
   ]
  },
  {
   "cell_type": "markdown",
   "metadata": {},
   "source": [
    "# Не забыть!!!\n",
    "не забыть заменить переменную на data в 2.1.2.3"
   ]
  },
  {
   "cell_type": "markdown",
   "metadata": {},
   "source": [
    "### Откройте файл с данными и изучите общую информацию. "
   ]
  },
  {
   "cell_type": "code",
   "execution_count": 1,
   "metadata": {},
   "outputs": [],
   "source": [
    "# Импорт библиотек, которые будем использовать\n",
    "import pandas as pd\n",
    "import matplotlib.pyplot as plt\n",
    "import seaborn as sns\n",
    "\n",
    "# Открываем файл и записываем его в перенную data\n",
    "try:\n",
    "    data = pd.read_csv('/datasets/real_estate_data.csv', sep='\\t')\n",
    "except:\n",
    "    data = pd.read_csv('https://code.s3.yandex.net/datasets/real_estate_data.csv', sep='\\t')"
   ]
  },
  {
   "cell_type": "code",
   "execution_count": 2,
   "metadata": {},
   "outputs": [],
   "source": [
    "# Будем отображать все колонки\n",
    "pd.set_option('display.max_columns', None)"
   ]
  },
  {
   "cell_type": "markdown",
   "metadata": {},
   "source": [
    "#### Ознакомление с датафреймом:"
   ]
  },
  {
   "cell_type": "code",
   "execution_count": 3,
   "metadata": {},
   "outputs": [
    {
     "data": {
      "text/html": [
       "<div>\n",
       "<style scoped>\n",
       "    .dataframe tbody tr th:only-of-type {\n",
       "        vertical-align: middle;\n",
       "    }\n",
       "\n",
       "    .dataframe tbody tr th {\n",
       "        vertical-align: top;\n",
       "    }\n",
       "\n",
       "    .dataframe thead th {\n",
       "        text-align: right;\n",
       "    }\n",
       "</style>\n",
       "<table border=\"1\" class=\"dataframe\">\n",
       "  <thead>\n",
       "    <tr style=\"text-align: right;\">\n",
       "      <th></th>\n",
       "      <th>total_images</th>\n",
       "      <th>last_price</th>\n",
       "      <th>total_area</th>\n",
       "      <th>first_day_exposition</th>\n",
       "      <th>rooms</th>\n",
       "      <th>ceiling_height</th>\n",
       "      <th>floors_total</th>\n",
       "      <th>living_area</th>\n",
       "      <th>floor</th>\n",
       "      <th>is_apartment</th>\n",
       "      <th>studio</th>\n",
       "      <th>open_plan</th>\n",
       "      <th>kitchen_area</th>\n",
       "      <th>balcony</th>\n",
       "      <th>locality_name</th>\n",
       "      <th>airports_nearest</th>\n",
       "      <th>cityCenters_nearest</th>\n",
       "      <th>parks_around3000</th>\n",
       "      <th>parks_nearest</th>\n",
       "      <th>ponds_around3000</th>\n",
       "      <th>ponds_nearest</th>\n",
       "      <th>days_exposition</th>\n",
       "    </tr>\n",
       "  </thead>\n",
       "  <tbody>\n",
       "    <tr>\n",
       "      <th>0</th>\n",
       "      <td>20</td>\n",
       "      <td>13000000.0</td>\n",
       "      <td>108.00</td>\n",
       "      <td>2019-03-07T00:00:00</td>\n",
       "      <td>3</td>\n",
       "      <td>2.70</td>\n",
       "      <td>16.0</td>\n",
       "      <td>51.00</td>\n",
       "      <td>8</td>\n",
       "      <td>NaN</td>\n",
       "      <td>False</td>\n",
       "      <td>False</td>\n",
       "      <td>25.00</td>\n",
       "      <td>NaN</td>\n",
       "      <td>Санкт-Петербург</td>\n",
       "      <td>18863.0</td>\n",
       "      <td>16028.0</td>\n",
       "      <td>1.0</td>\n",
       "      <td>482.0</td>\n",
       "      <td>2.0</td>\n",
       "      <td>755.0</td>\n",
       "      <td>NaN</td>\n",
       "    </tr>\n",
       "    <tr>\n",
       "      <th>1</th>\n",
       "      <td>7</td>\n",
       "      <td>3350000.0</td>\n",
       "      <td>40.40</td>\n",
       "      <td>2018-12-04T00:00:00</td>\n",
       "      <td>1</td>\n",
       "      <td>NaN</td>\n",
       "      <td>11.0</td>\n",
       "      <td>18.60</td>\n",
       "      <td>1</td>\n",
       "      <td>NaN</td>\n",
       "      <td>False</td>\n",
       "      <td>False</td>\n",
       "      <td>11.00</td>\n",
       "      <td>2.0</td>\n",
       "      <td>посёлок Шушары</td>\n",
       "      <td>12817.0</td>\n",
       "      <td>18603.0</td>\n",
       "      <td>0.0</td>\n",
       "      <td>NaN</td>\n",
       "      <td>0.0</td>\n",
       "      <td>NaN</td>\n",
       "      <td>81.0</td>\n",
       "    </tr>\n",
       "    <tr>\n",
       "      <th>2</th>\n",
       "      <td>10</td>\n",
       "      <td>5196000.0</td>\n",
       "      <td>56.00</td>\n",
       "      <td>2015-08-20T00:00:00</td>\n",
       "      <td>2</td>\n",
       "      <td>NaN</td>\n",
       "      <td>5.0</td>\n",
       "      <td>34.30</td>\n",
       "      <td>4</td>\n",
       "      <td>NaN</td>\n",
       "      <td>False</td>\n",
       "      <td>False</td>\n",
       "      <td>8.30</td>\n",
       "      <td>0.0</td>\n",
       "      <td>Санкт-Петербург</td>\n",
       "      <td>21741.0</td>\n",
       "      <td>13933.0</td>\n",
       "      <td>1.0</td>\n",
       "      <td>90.0</td>\n",
       "      <td>2.0</td>\n",
       "      <td>574.0</td>\n",
       "      <td>558.0</td>\n",
       "    </tr>\n",
       "    <tr>\n",
       "      <th>3</th>\n",
       "      <td>0</td>\n",
       "      <td>64900000.0</td>\n",
       "      <td>159.00</td>\n",
       "      <td>2015-07-24T00:00:00</td>\n",
       "      <td>3</td>\n",
       "      <td>NaN</td>\n",
       "      <td>14.0</td>\n",
       "      <td>NaN</td>\n",
       "      <td>9</td>\n",
       "      <td>NaN</td>\n",
       "      <td>False</td>\n",
       "      <td>False</td>\n",
       "      <td>NaN</td>\n",
       "      <td>0.0</td>\n",
       "      <td>Санкт-Петербург</td>\n",
       "      <td>28098.0</td>\n",
       "      <td>6800.0</td>\n",
       "      <td>2.0</td>\n",
       "      <td>84.0</td>\n",
       "      <td>3.0</td>\n",
       "      <td>234.0</td>\n",
       "      <td>424.0</td>\n",
       "    </tr>\n",
       "    <tr>\n",
       "      <th>4</th>\n",
       "      <td>2</td>\n",
       "      <td>10000000.0</td>\n",
       "      <td>100.00</td>\n",
       "      <td>2018-06-19T00:00:00</td>\n",
       "      <td>2</td>\n",
       "      <td>3.03</td>\n",
       "      <td>14.0</td>\n",
       "      <td>32.00</td>\n",
       "      <td>13</td>\n",
       "      <td>NaN</td>\n",
       "      <td>False</td>\n",
       "      <td>False</td>\n",
       "      <td>41.00</td>\n",
       "      <td>NaN</td>\n",
       "      <td>Санкт-Петербург</td>\n",
       "      <td>31856.0</td>\n",
       "      <td>8098.0</td>\n",
       "      <td>2.0</td>\n",
       "      <td>112.0</td>\n",
       "      <td>1.0</td>\n",
       "      <td>48.0</td>\n",
       "      <td>121.0</td>\n",
       "    </tr>\n",
       "    <tr>\n",
       "      <th>5</th>\n",
       "      <td>10</td>\n",
       "      <td>2890000.0</td>\n",
       "      <td>30.40</td>\n",
       "      <td>2018-09-10T00:00:00</td>\n",
       "      <td>1</td>\n",
       "      <td>NaN</td>\n",
       "      <td>12.0</td>\n",
       "      <td>14.40</td>\n",
       "      <td>5</td>\n",
       "      <td>NaN</td>\n",
       "      <td>False</td>\n",
       "      <td>False</td>\n",
       "      <td>9.10</td>\n",
       "      <td>NaN</td>\n",
       "      <td>городской посёлок Янино-1</td>\n",
       "      <td>NaN</td>\n",
       "      <td>NaN</td>\n",
       "      <td>NaN</td>\n",
       "      <td>NaN</td>\n",
       "      <td>NaN</td>\n",
       "      <td>NaN</td>\n",
       "      <td>55.0</td>\n",
       "    </tr>\n",
       "    <tr>\n",
       "      <th>6</th>\n",
       "      <td>6</td>\n",
       "      <td>3700000.0</td>\n",
       "      <td>37.30</td>\n",
       "      <td>2017-11-02T00:00:00</td>\n",
       "      <td>1</td>\n",
       "      <td>NaN</td>\n",
       "      <td>26.0</td>\n",
       "      <td>10.60</td>\n",
       "      <td>6</td>\n",
       "      <td>NaN</td>\n",
       "      <td>False</td>\n",
       "      <td>False</td>\n",
       "      <td>14.40</td>\n",
       "      <td>1.0</td>\n",
       "      <td>посёлок Парголово</td>\n",
       "      <td>52996.0</td>\n",
       "      <td>19143.0</td>\n",
       "      <td>0.0</td>\n",
       "      <td>NaN</td>\n",
       "      <td>0.0</td>\n",
       "      <td>NaN</td>\n",
       "      <td>155.0</td>\n",
       "    </tr>\n",
       "    <tr>\n",
       "      <th>7</th>\n",
       "      <td>5</td>\n",
       "      <td>7915000.0</td>\n",
       "      <td>71.60</td>\n",
       "      <td>2019-04-18T00:00:00</td>\n",
       "      <td>2</td>\n",
       "      <td>NaN</td>\n",
       "      <td>24.0</td>\n",
       "      <td>NaN</td>\n",
       "      <td>22</td>\n",
       "      <td>NaN</td>\n",
       "      <td>False</td>\n",
       "      <td>False</td>\n",
       "      <td>18.90</td>\n",
       "      <td>2.0</td>\n",
       "      <td>Санкт-Петербург</td>\n",
       "      <td>23982.0</td>\n",
       "      <td>11634.0</td>\n",
       "      <td>0.0</td>\n",
       "      <td>NaN</td>\n",
       "      <td>0.0</td>\n",
       "      <td>NaN</td>\n",
       "      <td>NaN</td>\n",
       "    </tr>\n",
       "    <tr>\n",
       "      <th>8</th>\n",
       "      <td>20</td>\n",
       "      <td>2900000.0</td>\n",
       "      <td>33.16</td>\n",
       "      <td>2018-05-23T00:00:00</td>\n",
       "      <td>1</td>\n",
       "      <td>NaN</td>\n",
       "      <td>27.0</td>\n",
       "      <td>15.43</td>\n",
       "      <td>26</td>\n",
       "      <td>NaN</td>\n",
       "      <td>False</td>\n",
       "      <td>False</td>\n",
       "      <td>8.81</td>\n",
       "      <td>NaN</td>\n",
       "      <td>посёлок Мурино</td>\n",
       "      <td>NaN</td>\n",
       "      <td>NaN</td>\n",
       "      <td>NaN</td>\n",
       "      <td>NaN</td>\n",
       "      <td>NaN</td>\n",
       "      <td>NaN</td>\n",
       "      <td>189.0</td>\n",
       "    </tr>\n",
       "    <tr>\n",
       "      <th>9</th>\n",
       "      <td>18</td>\n",
       "      <td>5400000.0</td>\n",
       "      <td>61.00</td>\n",
       "      <td>2017-02-26T00:00:00</td>\n",
       "      <td>3</td>\n",
       "      <td>2.50</td>\n",
       "      <td>9.0</td>\n",
       "      <td>43.60</td>\n",
       "      <td>7</td>\n",
       "      <td>NaN</td>\n",
       "      <td>False</td>\n",
       "      <td>False</td>\n",
       "      <td>6.50</td>\n",
       "      <td>2.0</td>\n",
       "      <td>Санкт-Петербург</td>\n",
       "      <td>50898.0</td>\n",
       "      <td>15008.0</td>\n",
       "      <td>0.0</td>\n",
       "      <td>NaN</td>\n",
       "      <td>0.0</td>\n",
       "      <td>NaN</td>\n",
       "      <td>289.0</td>\n",
       "    </tr>\n",
       "    <tr>\n",
       "      <th>10</th>\n",
       "      <td>5</td>\n",
       "      <td>5050000.0</td>\n",
       "      <td>39.60</td>\n",
       "      <td>2017-11-16T00:00:00</td>\n",
       "      <td>1</td>\n",
       "      <td>2.67</td>\n",
       "      <td>12.0</td>\n",
       "      <td>20.30</td>\n",
       "      <td>3</td>\n",
       "      <td>NaN</td>\n",
       "      <td>False</td>\n",
       "      <td>False</td>\n",
       "      <td>8.50</td>\n",
       "      <td>NaN</td>\n",
       "      <td>Санкт-Петербург</td>\n",
       "      <td>38357.0</td>\n",
       "      <td>13878.0</td>\n",
       "      <td>1.0</td>\n",
       "      <td>310.0</td>\n",
       "      <td>2.0</td>\n",
       "      <td>553.0</td>\n",
       "      <td>137.0</td>\n",
       "    </tr>\n",
       "    <tr>\n",
       "      <th>11</th>\n",
       "      <td>9</td>\n",
       "      <td>3300000.0</td>\n",
       "      <td>44.00</td>\n",
       "      <td>2018-08-27T00:00:00</td>\n",
       "      <td>2</td>\n",
       "      <td>NaN</td>\n",
       "      <td>5.0</td>\n",
       "      <td>31.00</td>\n",
       "      <td>4</td>\n",
       "      <td>False</td>\n",
       "      <td>False</td>\n",
       "      <td>False</td>\n",
       "      <td>6.00</td>\n",
       "      <td>1.0</td>\n",
       "      <td>Ломоносов</td>\n",
       "      <td>48252.0</td>\n",
       "      <td>51677.0</td>\n",
       "      <td>0.0</td>\n",
       "      <td>NaN</td>\n",
       "      <td>0.0</td>\n",
       "      <td>NaN</td>\n",
       "      <td>7.0</td>\n",
       "    </tr>\n",
       "    <tr>\n",
       "      <th>12</th>\n",
       "      <td>10</td>\n",
       "      <td>3890000.0</td>\n",
       "      <td>54.00</td>\n",
       "      <td>2016-06-30T00:00:00</td>\n",
       "      <td>2</td>\n",
       "      <td>NaN</td>\n",
       "      <td>5.0</td>\n",
       "      <td>30.00</td>\n",
       "      <td>5</td>\n",
       "      <td>NaN</td>\n",
       "      <td>False</td>\n",
       "      <td>False</td>\n",
       "      <td>9.00</td>\n",
       "      <td>0.0</td>\n",
       "      <td>Сертолово</td>\n",
       "      <td>NaN</td>\n",
       "      <td>NaN</td>\n",
       "      <td>NaN</td>\n",
       "      <td>NaN</td>\n",
       "      <td>NaN</td>\n",
       "      <td>NaN</td>\n",
       "      <td>90.0</td>\n",
       "    </tr>\n",
       "    <tr>\n",
       "      <th>13</th>\n",
       "      <td>20</td>\n",
       "      <td>3550000.0</td>\n",
       "      <td>42.80</td>\n",
       "      <td>2017-07-01T00:00:00</td>\n",
       "      <td>2</td>\n",
       "      <td>2.56</td>\n",
       "      <td>5.0</td>\n",
       "      <td>27.00</td>\n",
       "      <td>5</td>\n",
       "      <td>NaN</td>\n",
       "      <td>False</td>\n",
       "      <td>False</td>\n",
       "      <td>5.20</td>\n",
       "      <td>1.0</td>\n",
       "      <td>Петергоф</td>\n",
       "      <td>37868.0</td>\n",
       "      <td>33058.0</td>\n",
       "      <td>1.0</td>\n",
       "      <td>294.0</td>\n",
       "      <td>3.0</td>\n",
       "      <td>298.0</td>\n",
       "      <td>366.0</td>\n",
       "    </tr>\n",
       "    <tr>\n",
       "      <th>14</th>\n",
       "      <td>1</td>\n",
       "      <td>4400000.0</td>\n",
       "      <td>36.00</td>\n",
       "      <td>2016-06-23T00:00:00</td>\n",
       "      <td>1</td>\n",
       "      <td>NaN</td>\n",
       "      <td>6.0</td>\n",
       "      <td>17.00</td>\n",
       "      <td>1</td>\n",
       "      <td>NaN</td>\n",
       "      <td>False</td>\n",
       "      <td>False</td>\n",
       "      <td>8.00</td>\n",
       "      <td>0.0</td>\n",
       "      <td>Пушкин</td>\n",
       "      <td>20782.0</td>\n",
       "      <td>30759.0</td>\n",
       "      <td>0.0</td>\n",
       "      <td>NaN</td>\n",
       "      <td>1.0</td>\n",
       "      <td>96.0</td>\n",
       "      <td>203.0</td>\n",
       "    </tr>\n",
       "    <tr>\n",
       "      <th>15</th>\n",
       "      <td>16</td>\n",
       "      <td>4650000.0</td>\n",
       "      <td>39.00</td>\n",
       "      <td>2017-11-18T00:00:00</td>\n",
       "      <td>1</td>\n",
       "      <td>NaN</td>\n",
       "      <td>14.0</td>\n",
       "      <td>20.50</td>\n",
       "      <td>5</td>\n",
       "      <td>NaN</td>\n",
       "      <td>False</td>\n",
       "      <td>False</td>\n",
       "      <td>7.60</td>\n",
       "      <td>1.0</td>\n",
       "      <td>Санкт-Петербург</td>\n",
       "      <td>12900.0</td>\n",
       "      <td>14259.0</td>\n",
       "      <td>1.0</td>\n",
       "      <td>590.0</td>\n",
       "      <td>1.0</td>\n",
       "      <td>296.0</td>\n",
       "      <td>19.0</td>\n",
       "    </tr>\n",
       "    <tr>\n",
       "      <th>16</th>\n",
       "      <td>11</td>\n",
       "      <td>6700000.0</td>\n",
       "      <td>82.00</td>\n",
       "      <td>2017-11-23T00:00:00</td>\n",
       "      <td>3</td>\n",
       "      <td>3.05</td>\n",
       "      <td>5.0</td>\n",
       "      <td>55.60</td>\n",
       "      <td>1</td>\n",
       "      <td>NaN</td>\n",
       "      <td>False</td>\n",
       "      <td>False</td>\n",
       "      <td>9.00</td>\n",
       "      <td>NaN</td>\n",
       "      <td>Санкт-Петербург</td>\n",
       "      <td>22108.0</td>\n",
       "      <td>10698.0</td>\n",
       "      <td>3.0</td>\n",
       "      <td>420.0</td>\n",
       "      <td>0.0</td>\n",
       "      <td>NaN</td>\n",
       "      <td>397.0</td>\n",
       "    </tr>\n",
       "    <tr>\n",
       "      <th>17</th>\n",
       "      <td>6</td>\n",
       "      <td>4180000.0</td>\n",
       "      <td>36.00</td>\n",
       "      <td>2016-09-09T00:00:00</td>\n",
       "      <td>1</td>\n",
       "      <td>NaN</td>\n",
       "      <td>17.0</td>\n",
       "      <td>16.50</td>\n",
       "      <td>7</td>\n",
       "      <td>NaN</td>\n",
       "      <td>False</td>\n",
       "      <td>False</td>\n",
       "      <td>11.00</td>\n",
       "      <td>1.0</td>\n",
       "      <td>Санкт-Петербург</td>\n",
       "      <td>33564.0</td>\n",
       "      <td>14616.0</td>\n",
       "      <td>0.0</td>\n",
       "      <td>NaN</td>\n",
       "      <td>1.0</td>\n",
       "      <td>859.0</td>\n",
       "      <td>571.0</td>\n",
       "    </tr>\n",
       "    <tr>\n",
       "      <th>18</th>\n",
       "      <td>8</td>\n",
       "      <td>3250000.0</td>\n",
       "      <td>31.00</td>\n",
       "      <td>2017-01-27T00:00:00</td>\n",
       "      <td>1</td>\n",
       "      <td>2.50</td>\n",
       "      <td>5.0</td>\n",
       "      <td>19.40</td>\n",
       "      <td>2</td>\n",
       "      <td>NaN</td>\n",
       "      <td>False</td>\n",
       "      <td>False</td>\n",
       "      <td>5.60</td>\n",
       "      <td>1.0</td>\n",
       "      <td>Санкт-Петербург</td>\n",
       "      <td>44060.0</td>\n",
       "      <td>10842.0</td>\n",
       "      <td>1.0</td>\n",
       "      <td>759.0</td>\n",
       "      <td>0.0</td>\n",
       "      <td>NaN</td>\n",
       "      <td>168.0</td>\n",
       "    </tr>\n",
       "    <tr>\n",
       "      <th>19</th>\n",
       "      <td>16</td>\n",
       "      <td>14200000.0</td>\n",
       "      <td>121.00</td>\n",
       "      <td>2019-01-09T00:00:00</td>\n",
       "      <td>3</td>\n",
       "      <td>2.75</td>\n",
       "      <td>16.0</td>\n",
       "      <td>76.00</td>\n",
       "      <td>8</td>\n",
       "      <td>NaN</td>\n",
       "      <td>False</td>\n",
       "      <td>False</td>\n",
       "      <td>12.00</td>\n",
       "      <td>NaN</td>\n",
       "      <td>Санкт-Петербург</td>\n",
       "      <td>38900.0</td>\n",
       "      <td>12843.0</td>\n",
       "      <td>0.0</td>\n",
       "      <td>NaN</td>\n",
       "      <td>0.0</td>\n",
       "      <td>NaN</td>\n",
       "      <td>97.0</td>\n",
       "    </tr>\n",
       "  </tbody>\n",
       "</table>\n",
       "</div>"
      ],
      "text/plain": [
       "    total_images  last_price  total_area first_day_exposition  rooms  \\\n",
       "0             20  13000000.0      108.00  2019-03-07T00:00:00      3   \n",
       "1              7   3350000.0       40.40  2018-12-04T00:00:00      1   \n",
       "2             10   5196000.0       56.00  2015-08-20T00:00:00      2   \n",
       "3              0  64900000.0      159.00  2015-07-24T00:00:00      3   \n",
       "4              2  10000000.0      100.00  2018-06-19T00:00:00      2   \n",
       "5             10   2890000.0       30.40  2018-09-10T00:00:00      1   \n",
       "6              6   3700000.0       37.30  2017-11-02T00:00:00      1   \n",
       "7              5   7915000.0       71.60  2019-04-18T00:00:00      2   \n",
       "8             20   2900000.0       33.16  2018-05-23T00:00:00      1   \n",
       "9             18   5400000.0       61.00  2017-02-26T00:00:00      3   \n",
       "10             5   5050000.0       39.60  2017-11-16T00:00:00      1   \n",
       "11             9   3300000.0       44.00  2018-08-27T00:00:00      2   \n",
       "12            10   3890000.0       54.00  2016-06-30T00:00:00      2   \n",
       "13            20   3550000.0       42.80  2017-07-01T00:00:00      2   \n",
       "14             1   4400000.0       36.00  2016-06-23T00:00:00      1   \n",
       "15            16   4650000.0       39.00  2017-11-18T00:00:00      1   \n",
       "16            11   6700000.0       82.00  2017-11-23T00:00:00      3   \n",
       "17             6   4180000.0       36.00  2016-09-09T00:00:00      1   \n",
       "18             8   3250000.0       31.00  2017-01-27T00:00:00      1   \n",
       "19            16  14200000.0      121.00  2019-01-09T00:00:00      3   \n",
       "\n",
       "    ceiling_height  floors_total  living_area  floor is_apartment  studio  \\\n",
       "0             2.70          16.0        51.00      8          NaN   False   \n",
       "1              NaN          11.0        18.60      1          NaN   False   \n",
       "2              NaN           5.0        34.30      4          NaN   False   \n",
       "3              NaN          14.0          NaN      9          NaN   False   \n",
       "4             3.03          14.0        32.00     13          NaN   False   \n",
       "5              NaN          12.0        14.40      5          NaN   False   \n",
       "6              NaN          26.0        10.60      6          NaN   False   \n",
       "7              NaN          24.0          NaN     22          NaN   False   \n",
       "8              NaN          27.0        15.43     26          NaN   False   \n",
       "9             2.50           9.0        43.60      7          NaN   False   \n",
       "10            2.67          12.0        20.30      3          NaN   False   \n",
       "11             NaN           5.0        31.00      4        False   False   \n",
       "12             NaN           5.0        30.00      5          NaN   False   \n",
       "13            2.56           5.0        27.00      5          NaN   False   \n",
       "14             NaN           6.0        17.00      1          NaN   False   \n",
       "15             NaN          14.0        20.50      5          NaN   False   \n",
       "16            3.05           5.0        55.60      1          NaN   False   \n",
       "17             NaN          17.0        16.50      7          NaN   False   \n",
       "18            2.50           5.0        19.40      2          NaN   False   \n",
       "19            2.75          16.0        76.00      8          NaN   False   \n",
       "\n",
       "    open_plan  kitchen_area  balcony              locality_name  \\\n",
       "0       False         25.00      NaN            Санкт-Петербург   \n",
       "1       False         11.00      2.0             посёлок Шушары   \n",
       "2       False          8.30      0.0            Санкт-Петербург   \n",
       "3       False           NaN      0.0            Санкт-Петербург   \n",
       "4       False         41.00      NaN            Санкт-Петербург   \n",
       "5       False          9.10      NaN  городской посёлок Янино-1   \n",
       "6       False         14.40      1.0          посёлок Парголово   \n",
       "7       False         18.90      2.0            Санкт-Петербург   \n",
       "8       False          8.81      NaN             посёлок Мурино   \n",
       "9       False          6.50      2.0            Санкт-Петербург   \n",
       "10      False          8.50      NaN            Санкт-Петербург   \n",
       "11      False          6.00      1.0                  Ломоносов   \n",
       "12      False          9.00      0.0                  Сертолово   \n",
       "13      False          5.20      1.0                   Петергоф   \n",
       "14      False          8.00      0.0                     Пушкин   \n",
       "15      False          7.60      1.0            Санкт-Петербург   \n",
       "16      False          9.00      NaN            Санкт-Петербург   \n",
       "17      False         11.00      1.0            Санкт-Петербург   \n",
       "18      False          5.60      1.0            Санкт-Петербург   \n",
       "19      False         12.00      NaN            Санкт-Петербург   \n",
       "\n",
       "    airports_nearest  cityCenters_nearest  parks_around3000  parks_nearest  \\\n",
       "0            18863.0              16028.0               1.0          482.0   \n",
       "1            12817.0              18603.0               0.0            NaN   \n",
       "2            21741.0              13933.0               1.0           90.0   \n",
       "3            28098.0               6800.0               2.0           84.0   \n",
       "4            31856.0               8098.0               2.0          112.0   \n",
       "5                NaN                  NaN               NaN            NaN   \n",
       "6            52996.0              19143.0               0.0            NaN   \n",
       "7            23982.0              11634.0               0.0            NaN   \n",
       "8                NaN                  NaN               NaN            NaN   \n",
       "9            50898.0              15008.0               0.0            NaN   \n",
       "10           38357.0              13878.0               1.0          310.0   \n",
       "11           48252.0              51677.0               0.0            NaN   \n",
       "12               NaN                  NaN               NaN            NaN   \n",
       "13           37868.0              33058.0               1.0          294.0   \n",
       "14           20782.0              30759.0               0.0            NaN   \n",
       "15           12900.0              14259.0               1.0          590.0   \n",
       "16           22108.0              10698.0               3.0          420.0   \n",
       "17           33564.0              14616.0               0.0            NaN   \n",
       "18           44060.0              10842.0               1.0          759.0   \n",
       "19           38900.0              12843.0               0.0            NaN   \n",
       "\n",
       "    ponds_around3000  ponds_nearest  days_exposition  \n",
       "0                2.0          755.0              NaN  \n",
       "1                0.0            NaN             81.0  \n",
       "2                2.0          574.0            558.0  \n",
       "3                3.0          234.0            424.0  \n",
       "4                1.0           48.0            121.0  \n",
       "5                NaN            NaN             55.0  \n",
       "6                0.0            NaN            155.0  \n",
       "7                0.0            NaN              NaN  \n",
       "8                NaN            NaN            189.0  \n",
       "9                0.0            NaN            289.0  \n",
       "10               2.0          553.0            137.0  \n",
       "11               0.0            NaN              7.0  \n",
       "12               NaN            NaN             90.0  \n",
       "13               3.0          298.0            366.0  \n",
       "14               1.0           96.0            203.0  \n",
       "15               1.0          296.0             19.0  \n",
       "16               0.0            NaN            397.0  \n",
       "17               1.0          859.0            571.0  \n",
       "18               0.0            NaN            168.0  \n",
       "19               0.0            NaN             97.0  "
      ]
     },
     "metadata": {},
     "output_type": "display_data"
    },
    {
     "data": {
      "text/plain": [
       "'Количество строк - 23699, кол-во столбцов - 22.'"
      ]
     },
     "execution_count": 3,
     "metadata": {},
     "output_type": "execute_result"
    }
   ],
   "source": [
    "display(data.head(20))\n",
    "f'Количество строк - {data.shape[0]}, кол-во столбцов - {data.shape[1]}.'"
   ]
  },
  {
   "cell_type": "code",
   "execution_count": 4,
   "metadata": {
    "scrolled": true
   },
   "outputs": [
    {
     "data": {
      "text/html": [
       "<div>\n",
       "<style scoped>\n",
       "    .dataframe tbody tr th:only-of-type {\n",
       "        vertical-align: middle;\n",
       "    }\n",
       "\n",
       "    .dataframe tbody tr th {\n",
       "        vertical-align: top;\n",
       "    }\n",
       "\n",
       "    .dataframe thead th {\n",
       "        text-align: right;\n",
       "    }\n",
       "</style>\n",
       "<table border=\"1\" class=\"dataframe\">\n",
       "  <thead>\n",
       "    <tr style=\"text-align: right;\">\n",
       "      <th></th>\n",
       "      <th>total_images</th>\n",
       "      <th>last_price</th>\n",
       "      <th>total_area</th>\n",
       "      <th>rooms</th>\n",
       "      <th>ceiling_height</th>\n",
       "      <th>floors_total</th>\n",
       "      <th>living_area</th>\n",
       "      <th>floor</th>\n",
       "      <th>kitchen_area</th>\n",
       "      <th>balcony</th>\n",
       "      <th>airports_nearest</th>\n",
       "      <th>cityCenters_nearest</th>\n",
       "      <th>parks_around3000</th>\n",
       "      <th>parks_nearest</th>\n",
       "      <th>ponds_around3000</th>\n",
       "      <th>ponds_nearest</th>\n",
       "      <th>days_exposition</th>\n",
       "    </tr>\n",
       "  </thead>\n",
       "  <tbody>\n",
       "    <tr>\n",
       "      <th>count</th>\n",
       "      <td>23699.000000</td>\n",
       "      <td>2.369900e+04</td>\n",
       "      <td>23699.000000</td>\n",
       "      <td>23699.000000</td>\n",
       "      <td>14504.000000</td>\n",
       "      <td>23613.000000</td>\n",
       "      <td>21796.000000</td>\n",
       "      <td>23699.000000</td>\n",
       "      <td>21421.000000</td>\n",
       "      <td>12180.000000</td>\n",
       "      <td>18157.000000</td>\n",
       "      <td>18180.000000</td>\n",
       "      <td>18181.000000</td>\n",
       "      <td>8079.000000</td>\n",
       "      <td>18181.000000</td>\n",
       "      <td>9110.000000</td>\n",
       "      <td>20518.000000</td>\n",
       "    </tr>\n",
       "    <tr>\n",
       "      <th>mean</th>\n",
       "      <td>9.858475</td>\n",
       "      <td>6.541549e+06</td>\n",
       "      <td>60.348651</td>\n",
       "      <td>2.070636</td>\n",
       "      <td>2.771499</td>\n",
       "      <td>10.673824</td>\n",
       "      <td>34.457852</td>\n",
       "      <td>5.892358</td>\n",
       "      <td>10.569807</td>\n",
       "      <td>1.150082</td>\n",
       "      <td>28793.672193</td>\n",
       "      <td>14191.277833</td>\n",
       "      <td>0.611408</td>\n",
       "      <td>490.804555</td>\n",
       "      <td>0.770255</td>\n",
       "      <td>517.980900</td>\n",
       "      <td>180.888634</td>\n",
       "    </tr>\n",
       "    <tr>\n",
       "      <th>std</th>\n",
       "      <td>5.682529</td>\n",
       "      <td>1.088701e+07</td>\n",
       "      <td>35.654083</td>\n",
       "      <td>1.078405</td>\n",
       "      <td>1.261056</td>\n",
       "      <td>6.597173</td>\n",
       "      <td>22.030445</td>\n",
       "      <td>4.885249</td>\n",
       "      <td>5.905438</td>\n",
       "      <td>1.071300</td>\n",
       "      <td>12630.880622</td>\n",
       "      <td>8608.386210</td>\n",
       "      <td>0.802074</td>\n",
       "      <td>342.317995</td>\n",
       "      <td>0.938346</td>\n",
       "      <td>277.720643</td>\n",
       "      <td>219.727988</td>\n",
       "    </tr>\n",
       "    <tr>\n",
       "      <th>min</th>\n",
       "      <td>0.000000</td>\n",
       "      <td>1.219000e+04</td>\n",
       "      <td>12.000000</td>\n",
       "      <td>0.000000</td>\n",
       "      <td>1.000000</td>\n",
       "      <td>1.000000</td>\n",
       "      <td>2.000000</td>\n",
       "      <td>1.000000</td>\n",
       "      <td>1.300000</td>\n",
       "      <td>0.000000</td>\n",
       "      <td>0.000000</td>\n",
       "      <td>181.000000</td>\n",
       "      <td>0.000000</td>\n",
       "      <td>1.000000</td>\n",
       "      <td>0.000000</td>\n",
       "      <td>13.000000</td>\n",
       "      <td>1.000000</td>\n",
       "    </tr>\n",
       "    <tr>\n",
       "      <th>25%</th>\n",
       "      <td>6.000000</td>\n",
       "      <td>3.400000e+06</td>\n",
       "      <td>40.000000</td>\n",
       "      <td>1.000000</td>\n",
       "      <td>2.520000</td>\n",
       "      <td>5.000000</td>\n",
       "      <td>18.600000</td>\n",
       "      <td>2.000000</td>\n",
       "      <td>7.000000</td>\n",
       "      <td>0.000000</td>\n",
       "      <td>18585.000000</td>\n",
       "      <td>9238.000000</td>\n",
       "      <td>0.000000</td>\n",
       "      <td>288.000000</td>\n",
       "      <td>0.000000</td>\n",
       "      <td>294.000000</td>\n",
       "      <td>45.000000</td>\n",
       "    </tr>\n",
       "    <tr>\n",
       "      <th>50%</th>\n",
       "      <td>9.000000</td>\n",
       "      <td>4.650000e+06</td>\n",
       "      <td>52.000000</td>\n",
       "      <td>2.000000</td>\n",
       "      <td>2.650000</td>\n",
       "      <td>9.000000</td>\n",
       "      <td>30.000000</td>\n",
       "      <td>4.000000</td>\n",
       "      <td>9.100000</td>\n",
       "      <td>1.000000</td>\n",
       "      <td>26726.000000</td>\n",
       "      <td>13098.500000</td>\n",
       "      <td>0.000000</td>\n",
       "      <td>455.000000</td>\n",
       "      <td>1.000000</td>\n",
       "      <td>502.000000</td>\n",
       "      <td>95.000000</td>\n",
       "    </tr>\n",
       "    <tr>\n",
       "      <th>75%</th>\n",
       "      <td>14.000000</td>\n",
       "      <td>6.800000e+06</td>\n",
       "      <td>69.900000</td>\n",
       "      <td>3.000000</td>\n",
       "      <td>2.800000</td>\n",
       "      <td>16.000000</td>\n",
       "      <td>42.300000</td>\n",
       "      <td>8.000000</td>\n",
       "      <td>12.000000</td>\n",
       "      <td>2.000000</td>\n",
       "      <td>37273.000000</td>\n",
       "      <td>16293.000000</td>\n",
       "      <td>1.000000</td>\n",
       "      <td>612.000000</td>\n",
       "      <td>1.000000</td>\n",
       "      <td>729.000000</td>\n",
       "      <td>232.000000</td>\n",
       "    </tr>\n",
       "    <tr>\n",
       "      <th>max</th>\n",
       "      <td>50.000000</td>\n",
       "      <td>7.630000e+08</td>\n",
       "      <td>900.000000</td>\n",
       "      <td>19.000000</td>\n",
       "      <td>100.000000</td>\n",
       "      <td>60.000000</td>\n",
       "      <td>409.700000</td>\n",
       "      <td>33.000000</td>\n",
       "      <td>112.000000</td>\n",
       "      <td>5.000000</td>\n",
       "      <td>84869.000000</td>\n",
       "      <td>65968.000000</td>\n",
       "      <td>3.000000</td>\n",
       "      <td>3190.000000</td>\n",
       "      <td>3.000000</td>\n",
       "      <td>1344.000000</td>\n",
       "      <td>1580.000000</td>\n",
       "    </tr>\n",
       "  </tbody>\n",
       "</table>\n",
       "</div>"
      ],
      "text/plain": [
       "       total_images    last_price    total_area         rooms  ceiling_height  \\\n",
       "count  23699.000000  2.369900e+04  23699.000000  23699.000000    14504.000000   \n",
       "mean       9.858475  6.541549e+06     60.348651      2.070636        2.771499   \n",
       "std        5.682529  1.088701e+07     35.654083      1.078405        1.261056   \n",
       "min        0.000000  1.219000e+04     12.000000      0.000000        1.000000   \n",
       "25%        6.000000  3.400000e+06     40.000000      1.000000        2.520000   \n",
       "50%        9.000000  4.650000e+06     52.000000      2.000000        2.650000   \n",
       "75%       14.000000  6.800000e+06     69.900000      3.000000        2.800000   \n",
       "max       50.000000  7.630000e+08    900.000000     19.000000      100.000000   \n",
       "\n",
       "       floors_total   living_area         floor  kitchen_area       balcony  \\\n",
       "count  23613.000000  21796.000000  23699.000000  21421.000000  12180.000000   \n",
       "mean      10.673824     34.457852      5.892358     10.569807      1.150082   \n",
       "std        6.597173     22.030445      4.885249      5.905438      1.071300   \n",
       "min        1.000000      2.000000      1.000000      1.300000      0.000000   \n",
       "25%        5.000000     18.600000      2.000000      7.000000      0.000000   \n",
       "50%        9.000000     30.000000      4.000000      9.100000      1.000000   \n",
       "75%       16.000000     42.300000      8.000000     12.000000      2.000000   \n",
       "max       60.000000    409.700000     33.000000    112.000000      5.000000   \n",
       "\n",
       "       airports_nearest  cityCenters_nearest  parks_around3000  parks_nearest  \\\n",
       "count      18157.000000         18180.000000      18181.000000    8079.000000   \n",
       "mean       28793.672193         14191.277833          0.611408     490.804555   \n",
       "std        12630.880622          8608.386210          0.802074     342.317995   \n",
       "min            0.000000           181.000000          0.000000       1.000000   \n",
       "25%        18585.000000          9238.000000          0.000000     288.000000   \n",
       "50%        26726.000000         13098.500000          0.000000     455.000000   \n",
       "75%        37273.000000         16293.000000          1.000000     612.000000   \n",
       "max        84869.000000         65968.000000          3.000000    3190.000000   \n",
       "\n",
       "       ponds_around3000  ponds_nearest  days_exposition  \n",
       "count      18181.000000    9110.000000     20518.000000  \n",
       "mean           0.770255     517.980900       180.888634  \n",
       "std            0.938346     277.720643       219.727988  \n",
       "min            0.000000      13.000000         1.000000  \n",
       "25%            0.000000     294.000000        45.000000  \n",
       "50%            1.000000     502.000000        95.000000  \n",
       "75%            1.000000     729.000000       232.000000  \n",
       "max            3.000000    1344.000000      1580.000000  "
      ]
     },
     "execution_count": 4,
     "metadata": {},
     "output_type": "execute_result"
    }
   ],
   "source": [
    "data.describe()"
   ]
  },
  {
   "cell_type": "code",
   "execution_count": 5,
   "metadata": {},
   "outputs": [
    {
     "data": {
      "text/html": [
       "<div>\n",
       "<style scoped>\n",
       "    .dataframe tbody tr th:only-of-type {\n",
       "        vertical-align: middle;\n",
       "    }\n",
       "\n",
       "    .dataframe tbody tr th {\n",
       "        vertical-align: top;\n",
       "    }\n",
       "\n",
       "    .dataframe thead th {\n",
       "        text-align: right;\n",
       "    }\n",
       "</style>\n",
       "<table border=\"1\" class=\"dataframe\">\n",
       "  <thead>\n",
       "    <tr style=\"text-align: right;\">\n",
       "      <th></th>\n",
       "      <th>first_day_exposition</th>\n",
       "      <th>is_apartment</th>\n",
       "      <th>studio</th>\n",
       "      <th>open_plan</th>\n",
       "      <th>locality_name</th>\n",
       "    </tr>\n",
       "  </thead>\n",
       "  <tbody>\n",
       "    <tr>\n",
       "      <th>count</th>\n",
       "      <td>23699</td>\n",
       "      <td>2775</td>\n",
       "      <td>23699</td>\n",
       "      <td>23699</td>\n",
       "      <td>23650</td>\n",
       "    </tr>\n",
       "    <tr>\n",
       "      <th>unique</th>\n",
       "      <td>1491</td>\n",
       "      <td>2</td>\n",
       "      <td>2</td>\n",
       "      <td>2</td>\n",
       "      <td>364</td>\n",
       "    </tr>\n",
       "    <tr>\n",
       "      <th>top</th>\n",
       "      <td>2018-02-01T00:00:00</td>\n",
       "      <td>False</td>\n",
       "      <td>False</td>\n",
       "      <td>False</td>\n",
       "      <td>Санкт-Петербург</td>\n",
       "    </tr>\n",
       "    <tr>\n",
       "      <th>freq</th>\n",
       "      <td>368</td>\n",
       "      <td>2725</td>\n",
       "      <td>23550</td>\n",
       "      <td>23632</td>\n",
       "      <td>15721</td>\n",
       "    </tr>\n",
       "  </tbody>\n",
       "</table>\n",
       "</div>"
      ],
      "text/plain": [
       "       first_day_exposition is_apartment studio open_plan    locality_name\n",
       "count                 23699         2775  23699     23699            23650\n",
       "unique                 1491            2      2         2              364\n",
       "top     2018-02-01T00:00:00        False  False     False  Санкт-Петербург\n",
       "freq                    368         2725  23550     23632            15721"
      ]
     },
     "execution_count": 5,
     "metadata": {},
     "output_type": "execute_result"
    }
   ],
   "source": [
    "data.describe(include=[\"object\", \"bool\"])"
   ]
  },
  {
   "cell_type": "markdown",
   "metadata": {},
   "source": [
    "#### Информация о типах данных в датафрейме:"
   ]
  },
  {
   "cell_type": "code",
   "execution_count": 6,
   "metadata": {},
   "outputs": [
    {
     "name": "stdout",
     "output_type": "stream",
     "text": [
      "<class 'pandas.core.frame.DataFrame'>\n",
      "RangeIndex: 23699 entries, 0 to 23698\n",
      "Data columns (total 22 columns):\n",
      " #   Column                Non-Null Count  Dtype  \n",
      "---  ------                --------------  -----  \n",
      " 0   total_images          23699 non-null  int64  \n",
      " 1   last_price            23699 non-null  float64\n",
      " 2   total_area            23699 non-null  float64\n",
      " 3   first_day_exposition  23699 non-null  object \n",
      " 4   rooms                 23699 non-null  int64  \n",
      " 5   ceiling_height        14504 non-null  float64\n",
      " 6   floors_total          23613 non-null  float64\n",
      " 7   living_area           21796 non-null  float64\n",
      " 8   floor                 23699 non-null  int64  \n",
      " 9   is_apartment          2775 non-null   object \n",
      " 10  studio                23699 non-null  bool   \n",
      " 11  open_plan             23699 non-null  bool   \n",
      " 12  kitchen_area          21421 non-null  float64\n",
      " 13  balcony               12180 non-null  float64\n",
      " 14  locality_name         23650 non-null  object \n",
      " 15  airports_nearest      18157 non-null  float64\n",
      " 16  cityCenters_nearest   18180 non-null  float64\n",
      " 17  parks_around3000      18181 non-null  float64\n",
      " 18  parks_nearest         8079 non-null   float64\n",
      " 19  ponds_around3000      18181 non-null  float64\n",
      " 20  ponds_nearest         9110 non-null   float64\n",
      " 21  days_exposition       20518 non-null  float64\n",
      "dtypes: bool(2), float64(14), int64(3), object(3)\n",
      "memory usage: 3.7+ MB\n"
     ]
    }
   ],
   "source": [
    "data.info()"
   ]
  },
  {
   "cell_type": "markdown",
   "metadata": {},
   "source": [
    "#### Общая гистограмма для всех числовых столбцов."
   ]
  },
  {
   "cell_type": "code",
   "execution_count": 7,
   "metadata": {
    "scrolled": true
   },
   "outputs": [
    {
     "data": {
      "text/plain": [
       "array([[<AxesSubplot:title={'center':'total_images'}>,\n",
       "        <AxesSubplot:title={'center':'last_price'}>,\n",
       "        <AxesSubplot:title={'center':'total_area'}>,\n",
       "        <AxesSubplot:title={'center':'rooms'}>],\n",
       "       [<AxesSubplot:title={'center':'ceiling_height'}>,\n",
       "        <AxesSubplot:title={'center':'floors_total'}>,\n",
       "        <AxesSubplot:title={'center':'living_area'}>,\n",
       "        <AxesSubplot:title={'center':'floor'}>],\n",
       "       [<AxesSubplot:title={'center':'kitchen_area'}>,\n",
       "        <AxesSubplot:title={'center':'balcony'}>,\n",
       "        <AxesSubplot:title={'center':'airports_nearest'}>,\n",
       "        <AxesSubplot:title={'center':'cityCenters_nearest'}>],\n",
       "       [<AxesSubplot:title={'center':'parks_around3000'}>,\n",
       "        <AxesSubplot:title={'center':'parks_nearest'}>,\n",
       "        <AxesSubplot:title={'center':'ponds_around3000'}>,\n",
       "        <AxesSubplot:title={'center':'ponds_nearest'}>],\n",
       "       [<AxesSubplot:title={'center':'days_exposition'}>, <AxesSubplot:>,\n",
       "        <AxesSubplot:>, <AxesSubplot:>]], dtype=object)"
      ]
     },
     "execution_count": 7,
     "metadata": {},
     "output_type": "execute_result"
    },
    {
     "data": {
      "image/png": "[encoded data removed]",
      "text/plain": [
       "<Figure size 1080x1440 with 20 Axes>"
      ]
     },
     "metadata": {
      "needs_background": "light"
     },
     "output_type": "display_data"
    }
   ],
   "source": [
    "data.hist(figsize=(15, 20))"
   ]
  },
  {
   "cell_type": "markdown",
   "metadata": {},
   "source": [
    "#### Описание столбцов для справки:\n",
    "- `airports_nearest` — расстояние до ближайшего аэропорта в метрах (м)\n",
    "- `balcony` — число балконов\n",
    "- `ceiling_height` — высота потолков (м)\n",
    "- `cityCenters_nearest` — расстояние до центра города (м)\n",
    "- `days_exposition` — сколько дней было размещено объявление (от публикации до снятия)\n",
    "- `first_day_exposition` — дата публикации\n",
    "- `floor` — этаж\n",
    "- `floors_total` — всего этажей в доме\n",
    "- `is_apartment` — апартаменты (булев тип)\n",
    "- `kitchen_area` — площадь кухни в квадратных метрах (м²)\n",
    "- `last_price` — цена на момент снятия с публикации\n",
    "- `living_area` — жилая площадь в квадратных метрах (м²)\n",
    "- `locality_name` — название населённого пункта\n",
    "- `open_plan` — свободная планировка (булев тип)\n",
    "- `parks_around3000` — число парков в радиусе 3 км\n",
    "- `parks_nearest` — расстояние до ближайшего парка (м)\n",
    "- `ponds_around3000` — число водоёмов в радиусе 3 км\n",
    "- `ponds_nearest` — расстояние до ближайшего водоёма (м)\n",
    "- `rooms` — число комнат\n",
    "- `studio` — квартира-студия (булев тип)\n",
    "- `total_area` — общая площадь квартиры в квадратных метрах (м²)\n",
    "- `total_images` — число фотографий квартиры в объявлении"
   ]
  },
  {
   "cell_type": "markdown",
   "metadata": {},
   "source": [
    "#### Предварительные выводы по составу датафрейма:\n",
    "- большое кол-во пропусков\n",
    "- наличие аномальных значений, например, высота потолков - 100м и 1м\n",
    "- неверные типы данных, например,\n",
    "   - `is_apartment` - `object`, должен быть `bool`\n",
    "   - `parks_around`, `ponds_around`, `days_exposition`, - `float64`, должны быть `int64`\n",
    "- некорректные названия столбцов"
   ]
  },
  {
   "cell_type": "markdown",
   "metadata": {},
   "source": [
    "### Предобработка данных"
   ]
  },
  {
   "cell_type": "markdown",
   "metadata": {},
   "source": [
    "#### Анализ пропусков."
   ]
  },
  {
   "cell_type": "markdown",
   "metadata": {},
   "source": [
    "##### Пропуски по столбцам."
   ]
  },
  {
   "cell_type": "code",
   "execution_count": 8,
   "metadata": {},
   "outputs": [
    {
     "data": {
      "text/html": [
       "<div>\n",
       "<style scoped>\n",
       "    .dataframe tbody tr th:only-of-type {\n",
       "        vertical-align: middle;\n",
       "    }\n",
       "\n",
       "    .dataframe tbody tr th {\n",
       "        vertical-align: top;\n",
       "    }\n",
       "\n",
       "    .dataframe thead th {\n",
       "        text-align: right;\n",
       "    }\n",
       "</style>\n",
       "<table border=\"1\" class=\"dataframe\">\n",
       "  <thead>\n",
       "    <tr style=\"text-align: right;\">\n",
       "      <th></th>\n",
       "      <th>Доля пропусков по столбцу</th>\n",
       "      <th>Кол-во пропусков по столбцу</th>\n",
       "    </tr>\n",
       "  </thead>\n",
       "  <tbody>\n",
       "    <tr>\n",
       "      <th>is_apartment</th>\n",
       "      <td>88.29%</td>\n",
       "      <td>20924</td>\n",
       "    </tr>\n",
       "    <tr>\n",
       "      <th>parks_nearest</th>\n",
       "      <td>65.91%</td>\n",
       "      <td>15620</td>\n",
       "    </tr>\n",
       "    <tr>\n",
       "      <th>ponds_nearest</th>\n",
       "      <td>61.56%</td>\n",
       "      <td>14589</td>\n",
       "    </tr>\n",
       "    <tr>\n",
       "      <th>balcony</th>\n",
       "      <td>48.61%</td>\n",
       "      <td>11519</td>\n",
       "    </tr>\n",
       "    <tr>\n",
       "      <th>ceiling_height</th>\n",
       "      <td>38.80%</td>\n",
       "      <td>9195</td>\n",
       "    </tr>\n",
       "    <tr>\n",
       "      <th>airports_nearest</th>\n",
       "      <td>23.38%</td>\n",
       "      <td>5542</td>\n",
       "    </tr>\n",
       "    <tr>\n",
       "      <th>cityCenters_nearest</th>\n",
       "      <td>23.29%</td>\n",
       "      <td>5519</td>\n",
       "    </tr>\n",
       "    <tr>\n",
       "      <th>ponds_around3000</th>\n",
       "      <td>23.28%</td>\n",
       "      <td>5518</td>\n",
       "    </tr>\n",
       "    <tr>\n",
       "      <th>parks_around3000</th>\n",
       "      <td>23.28%</td>\n",
       "      <td>5518</td>\n",
       "    </tr>\n",
       "    <tr>\n",
       "      <th>days_exposition</th>\n",
       "      <td>13.42%</td>\n",
       "      <td>3181</td>\n",
       "    </tr>\n",
       "    <tr>\n",
       "      <th>kitchen_area</th>\n",
       "      <td>9.61%</td>\n",
       "      <td>2278</td>\n",
       "    </tr>\n",
       "    <tr>\n",
       "      <th>living_area</th>\n",
       "      <td>8.03%</td>\n",
       "      <td>1903</td>\n",
       "    </tr>\n",
       "    <tr>\n",
       "      <th>floors_total</th>\n",
       "      <td>0.36%</td>\n",
       "      <td>86</td>\n",
       "    </tr>\n",
       "    <tr>\n",
       "      <th>locality_name</th>\n",
       "      <td>0.21%</td>\n",
       "      <td>49</td>\n",
       "    </tr>\n",
       "    <tr>\n",
       "      <th>total_images</th>\n",
       "      <td>0.00%</td>\n",
       "      <td>0</td>\n",
       "    </tr>\n",
       "    <tr>\n",
       "      <th>last_price</th>\n",
       "      <td>0.00%</td>\n",
       "      <td>0</td>\n",
       "    </tr>\n",
       "    <tr>\n",
       "      <th>studio</th>\n",
       "      <td>0.00%</td>\n",
       "      <td>0</td>\n",
       "    </tr>\n",
       "    <tr>\n",
       "      <th>floor</th>\n",
       "      <td>0.00%</td>\n",
       "      <td>0</td>\n",
       "    </tr>\n",
       "    <tr>\n",
       "      <th>rooms</th>\n",
       "      <td>0.00%</td>\n",
       "      <td>0</td>\n",
       "    </tr>\n",
       "    <tr>\n",
       "      <th>first_day_exposition</th>\n",
       "      <td>0.00%</td>\n",
       "      <td>0</td>\n",
       "    </tr>\n",
       "    <tr>\n",
       "      <th>total_area</th>\n",
       "      <td>0.00%</td>\n",
       "      <td>0</td>\n",
       "    </tr>\n",
       "    <tr>\n",
       "      <th>open_plan</th>\n",
       "      <td>0.00%</td>\n",
       "      <td>0</td>\n",
       "    </tr>\n",
       "  </tbody>\n",
       "</table>\n",
       "</div>"
      ],
      "text/plain": [
       "                     Доля пропусков по столбцу  Кол-во пропусков по столбцу\n",
       "is_apartment                            88.29%                        20924\n",
       "parks_nearest                           65.91%                        15620\n",
       "ponds_nearest                           61.56%                        14589\n",
       "balcony                                 48.61%                        11519\n",
       "ceiling_height                          38.80%                         9195\n",
       "airports_nearest                        23.38%                         5542\n",
       "cityCenters_nearest                     23.29%                         5519\n",
       "ponds_around3000                        23.28%                         5518\n",
       "parks_around3000                        23.28%                         5518\n",
       "days_exposition                         13.42%                         3181\n",
       "kitchen_area                             9.61%                         2278\n",
       "living_area                              8.03%                         1903\n",
       "floors_total                             0.36%                           86\n",
       "locality_name                            0.21%                           49\n",
       "total_images                             0.00%                            0\n",
       "last_price                               0.00%                            0\n",
       "studio                                   0.00%                            0\n",
       "floor                                    0.00%                            0\n",
       "rooms                                    0.00%                            0\n",
       "first_day_exposition                     0.00%                            0\n",
       "total_area                               0.00%                            0\n",
       "open_plan                                0.00%                            0"
      ]
     },
     "execution_count": 8,
     "metadata": {},
     "output_type": "execute_result"
    }
   ],
   "source": [
    "# Выводим долю пропущенных записей от общего кол-ва записей по столбцам в процентах и \n",
    "# кол-во пропущенных записей по столбцам:\n",
    "data_missing_total = pd.DataFrame({'Доля пропусков по столбцу': \n",
    "                                   (round(data.isna().sum() / len(data), 4).map('{:.2%}'.format)), \n",
    "                                   'Кол-во пропусков по столбцу': data.isna().sum()})\n",
    "data_missing_total.sort_values(by='Кол-во пропусков по столбцу', ascending=False)"
   ]
  },
  {
   "cell_type": "markdown",
   "metadata": {},
   "source": [
    "##### Пропуски в столбце - \"высота потолков\" `ceiling_height`"
   ]
  },
  {
   "cell_type": "code",
   "execution_count": 9,
   "metadata": {},
   "outputs": [
    {
     "data": {
      "text/plain": [
       "'Процент пропусков от общего кол-ва записей: 38.80%'"
      ]
     },
     "execution_count": 9,
     "metadata": {},
     "output_type": "execute_result"
    }
   ],
   "source": [
    "f'Процент пропусков от общего кол-ва записей: {round(data[\"ceiling_height\"].isna().sum() / len(data[\"ceiling_height\"]), 4):.2%}'"
   ]
  },
  {
   "cell_type": "markdown",
   "metadata": {},
   "source": [
    "###### Гипотезы:\n",
    "**Причины появления пропусков:**\n",
    "- желание продавцов скрыть непривлекательные значения до последнего, тем самым привлечь максимальное кол-во потенциальных покупателей\n",
    "- предположение продавца, что высоты потолков в типовых домах известны покупателям (пример: высота потолков в \"хрущевках\" - 2.5м)\n",
    "- необязательность указания этажа при подаче объявления\n",
    "- ошибки в заполнении / передаче данных\n",
    "\n",
    "**Заполнение пропусков:**<br>\n",
    "- Значения высот потолков можно было бы заменить на средние или медианные в типовых домах[<sup>1</sup>](#fn1) массовой застройки, если такие дома составляют большу́ю часть датафрейма. <br>\n",
    "- Значения высот потолков в нетиповых домах могут быть крайне не характерны для остальных данных. Оставим их без изменений."
   ]
  },
  {
   "cell_type": "markdown",
   "metadata": {},
   "source": [
    "###### Анализ:\n",
    "Для оценки целесообразности замены пропущенных значений для типовых домов:\n",
    "1. проверим распределение пропущенных значений по этажности домов: если пропусков по типовым этажностям достаточно много, замена пропусков будет эффективной\n",
    "2. проверим распределение заполненных значений по каждой из типовых этажностей: если в заполненных значениях большой процент типовых высот, замена пропусков типовыми значениями не исказит распределение\n",
    "<br><br><br>\n",
    "<sup>1</sup><span id=\"fn1\"> Справка по типовым домам массовой застройки ([источник](https://www.bn.ru/sprav_dom.phtml \"www.bn.ru\")):\n",
    "- 5 этажей, высота потолков 2.5м\n",
    "- 9 этажей, высота потолков 2.5м / 2.64м\n",
    "- 10 этажей, высота потолков 2.5м / 2.64м\n",
    "- 12 этажей, высота потолков 2.5м / 2.64м\n",
    "- 16 этажей, выотса потолков 2.5м / 2.64м / 2.7м </span><br>"
   ]
  },
  {
   "cell_type": "code",
   "execution_count": 10,
   "metadata": {
    "scrolled": false
   },
   "outputs": [
    {
     "data": {
      "image/png": "[encoded data removed]",
      "text/plain": [
       "<Figure size 504x504 with 1 Axes>"
      ]
     },
     "metadata": {},
     "output_type": "display_data"
    },
    {
     "data": {
      "image/png": "[encoded data removed]",
      "text/plain": [
       "<Figure size 1080x360 with 5 Axes>"
      ]
     },
     "metadata": {},
     "output_type": "display_data"
    },
    {
     "data": {
      "text/html": [
       "<div>\n",
       "<style scoped>\n",
       "    .dataframe tbody tr th:only-of-type {\n",
       "        vertical-align: middle;\n",
       "    }\n",
       "\n",
       "    .dataframe tbody tr th {\n",
       "        vertical-align: top;\n",
       "    }\n",
       "\n",
       "    .dataframe thead th {\n",
       "        text-align: right;\n",
       "    }\n",
       "</style>\n",
       "<table border=\"1\" class=\"dataframe\">\n",
       "  <thead>\n",
       "    <tr style=\"text-align: right;\">\n",
       "      <th></th>\n",
       "      <th>Средняя высота потолков</th>\n",
       "      <th>Медианная высота потолков</th>\n",
       "      <th>Типовые высоты</th>\n",
       "    </tr>\n",
       "    <tr>\n",
       "      <th>Этажей в доме</th>\n",
       "      <th></th>\n",
       "      <th></th>\n",
       "      <th></th>\n",
       "    </tr>\n",
       "  </thead>\n",
       "  <tbody>\n",
       "    <tr>\n",
       "      <th>5.0</th>\n",
       "      <td>2.793191</td>\n",
       "      <td>2.55</td>\n",
       "      <td>2.5</td>\n",
       "    </tr>\n",
       "    <tr>\n",
       "      <th>9.0</th>\n",
       "      <td>2.599093</td>\n",
       "      <td>2.55</td>\n",
       "      <td>2.5 или 2.64</td>\n",
       "    </tr>\n",
       "    <tr>\n",
       "      <th>10.0</th>\n",
       "      <td>2.685200</td>\n",
       "      <td>2.60</td>\n",
       "      <td>2.5 или 2.64</td>\n",
       "    </tr>\n",
       "    <tr>\n",
       "      <th>12.0</th>\n",
       "      <td>2.640258</td>\n",
       "      <td>2.65</td>\n",
       "      <td>2.5 или 2.64</td>\n",
       "    </tr>\n",
       "    <tr>\n",
       "      <th>16.0</th>\n",
       "      <td>2.747503</td>\n",
       "      <td>2.70</td>\n",
       "      <td>2.5 или 2.64м или 2.7м</td>\n",
       "    </tr>\n",
       "  </tbody>\n",
       "</table>\n",
       "</div>"
      ],
      "text/plain": [
       "               Средняя высота потолков  Медианная высота потолков  \\\n",
       "Этажей в доме                                                       \n",
       "5.0                           2.793191                       2.55   \n",
       "9.0                           2.599093                       2.55   \n",
       "10.0                          2.685200                       2.60   \n",
       "12.0                          2.640258                       2.65   \n",
       "16.0                          2.747503                       2.70   \n",
       "\n",
       "                       Типовые высоты  \n",
       "Этажей в доме                          \n",
       "5.0                               2.5  \n",
       "9.0                      2.5 или 2.64  \n",
       "10.0                     2.5 или 2.64  \n",
       "12.0                     2.5 или 2.64  \n",
       "16.0           2.5 или 2.64м или 2.7м  "
      ]
     },
     "execution_count": 10,
     "metadata": {},
     "output_type": "execute_result"
    }
   ],
   "source": [
    "# Отобразим процент пропусков по кол-ву этажей в доме\n",
    "data.query('ceiling_height.isna()')['floors_total'].value_counts().plot(kind='pie', \n",
    "                                                                        figsize=(7, 7), \n",
    "                                                                        autopct='%1.1f%%', \n",
    "                                                                        title='Рис.1. Распределение пропусков по кол-ву этажей в доме.', \n",
    "                                                                        label='')\n",
    "plt.show()\n",
    "\n",
    "# Смотрим распределение заполненных значений высот потолков в типовых домах\n",
    "## Список кол-ва этажей в типовых домах\n",
    "mass_floors = [5.0, 9.0, 10.0, 12.0, 16.0]\n",
    "i = 0\n",
    "fig, ax = plt.subplots(1, 5, figsize=(15, 5))\n",
    "fig.suptitle('Рис.2. Распределение заполненных значений высоты потолков по типовым домам');\n",
    "for floor_per_ceiling in mass_floors:\n",
    "    heights = data.query('floors_total == @floor_per_ceiling')['ceiling_height'].value_counts()\n",
    "    ax[i].pie(heights, autopct='%1.1f%%', labels=heights.index)\n",
    "    ax[i].set_title(f'{floor_per_ceiling} этажные дома')   \n",
    "    i += 1\n",
    "plt.show()\n",
    "\n",
    "# Выведем среднюю и медианную высоты по этажности\n",
    "data_floors_pivoted = data.query('floors_total in @mass_floors').pivot_table(index='floors_total',\n",
    "                                                                             values='ceiling_height',\n",
    "                                                                             aggfunc=['mean', 'median'])\n",
    "# Создаем столбец с типовыми высотами\n",
    "reference_ceiling = {'Типовые высоты': ['2.5', '2.5 или 2.64', '2.5 или 2.64', '2.5 или 2.64', '2.5 или 2.64м или 2.7м']}\n",
    "reference_data = pd.DataFrame(data=reference_ceiling, index=mass_floors)\n",
    "\n",
    "# Заменяем названия столбцов для наглядности\n",
    "data_floors_pivoted.columns = ['Средняя высота потолков', 'Медианная высота потолков']\n",
    "data_floors_pivoted.index.rename('Этажей в доме', inplace=True)\n",
    "\n",
    "#Объединяем столбцы с высотами\n",
    "data_floors_pivoted.join(reference_data)"
   ]
  },
  {
   "cell_type": "markdown",
   "metadata": {},
   "source": [
    "###### Выводы:\n",
    "1. Рис.1 показывает, что замена пропусков будет эффективной, т.к. доля пропусков в домах с кол-вом этажей, соответствующим типовым, больше 40% от общего кол-ва пропусков высот потолков:\n",
    "- 23% в 5 этажных\n",
    "- 13% в 9 этажных\n",
    "- 6% в 12 этажных<br>\n",
    "2. Проанализировав Рис. 2, можно сказать, что почти половина заполненных значений высот потолков для каждой этажности соответствует типовой, что означает наличие большого кол-ва типовых домов в данных.\n",
    "3. Медианные высоты потолков по соответствующим этажностям находятся в пределах характерных типовых значений, что позволяет заменить пропуски без искажения данных.<br>\n",
    "**Итог:** Заменим пропуски высот потолков в типовых домах с 5, 9, 10, 12, 16 этажами на соответствующие медианные значения и проверим результат."
   ]
  },
  {
   "cell_type": "code",
   "execution_count": 11,
   "metadata": {},
   "outputs": [
    {
     "data": {
      "text/plain": [
       "'Пропусков до замены: 4770'"
      ]
     },
     "metadata": {},
     "output_type": "display_data"
    },
    {
     "data": {
      "text/plain": [
       "'Пропусков после замены: 0'"
      ]
     },
     "execution_count": 11,
     "metadata": {},
     "output_type": "execute_result"
    }
   ],
   "source": [
    "display(f'Пропусков до замены: {data.query(\"floors_total in @mass_floors\")[\"ceiling_height\"].isna().sum()}')\n",
    "filled_ceiling_height = data.copy()\n",
    "# Замена пропусков высот потолков в типовых домах с 5, 9, 10, 12, 16 этажами\n",
    "for floor_to_replace in mass_floors:\n",
    "    filled_ceiling_height.loc[(filled_ceiling_height['floors_total'] == floor_to_replace) & (filled_ceiling_height['ceiling_height'].isna()), 'ceiling_height'] = \\\n",
    "    filled_ceiling_height.loc[(filled_ceiling_height['floors_total'] == floor_to_replace), 'ceiling_height'].median()\n",
    "# Проверка наличия пропусков высот потолков в типовых домах\n",
    "f'Пропусков после замены: {filled_ceiling_height.query(\"floors_total in @mass_floors\")[\"ceiling_height\"].isna().sum()}'"
   ]
  },
  {
   "cell_type": "markdown",
   "metadata": {},
   "source": [
    "##### Пропуски в столбце - \"общая этажность\" `floors_total`"
   ]
  },
  {
   "cell_type": "code",
   "execution_count": 12,
   "metadata": {
    "scrolled": true
   },
   "outputs": [
    {
     "data": {
      "text/plain": [
       "'Процент пропусков от общего кол-ва записей: 0.36%'"
      ]
     },
     "execution_count": 12,
     "metadata": {},
     "output_type": "execute_result"
    }
   ],
   "source": [
    "f'Процент пропусков от общего кол-ва записей: {round(data[\"floors_total\"].isna().sum() / len(data[\"floors_total\"]), 4):.2%}'"
   ]
  },
  {
   "cell_type": "markdown",
   "metadata": {},
   "source": [
    "**Причины появления пропусков:**\n",
    "- необязательность указания этажа при подаче объявления\n",
    "- ошибки в заполнении / передаче данных\n",
    "\n",
    "**Заполнение пропусков:**<br>\n",
    "- Так как доля пропущенных значений невысока (0.35%) и предположить или вычислить пропуски проблематично, оставим пропуски без зизменений."
   ]
  },
  {
   "cell_type": "markdown",
   "metadata": {},
   "source": [
    "##### Пропуски в столбцах - \"жилая площадь\" `living_area` и \"площадь кухни\" `kitchen area`"
   ]
  },
  {
   "cell_type": "code",
   "execution_count": 13,
   "metadata": {},
   "outputs": [
    {
     "data": {
      "text/plain": [
       "'Процент пропусков жилой площади: 8.03%. Кол-во пропусков жилой площади: 1903.'"
      ]
     },
     "metadata": {},
     "output_type": "display_data"
    },
    {
     "data": {
      "text/plain": [
       "'Процент пропусков площади кухни: 9.61%. Кол-во пропусков площади кухни: 2278.'"
      ]
     },
     "metadata": {},
     "output_type": "display_data"
    },
    {
     "data": {
      "text/plain": [
       "'Процент пропусков площади в студиях и квартирах со свободной планировкой от общего числа записей в столбце:0.63%.'"
      ]
     },
     "metadata": {},
     "output_type": "display_data"
    }
   ],
   "source": [
    "display(f'Процент пропусков жилой площади: {round(data[\"living_area\"].isna().sum() / len(data[\"living_area\"]), 4):.2%}. \\\n",
    "Кол-во пропусков жилой площади: {data[\"living_area\"].isna().sum()}.')\n",
    "\n",
    "display(f'Процент пропусков площади кухни: {round(data[\"kitchen_area\"].isna().sum() / len(data[\"kitchen_area\"]), 4):.2%}. \\\n",
    "Кол-во пропусков площади кухни: {data[\"kitchen_area\"].isna().sum()}.')\n",
    "\n",
    "ratio_kitchen_missing = data.query(\"studio == True or open_plan == True and ~(kitchen_area.isna())\")\n",
    "display(f'Процент пропусков площади в студиях и квартирах со свободной планировкой от общего числа записей в столбце:\\\n",
    "{round(ratio_kitchen_missing[\"kitchen_area\"].isna().sum() / len(data[\"kitchen_area\"]), 4):.2%}.')"
   ]
  },
  {
   "cell_type": "markdown",
   "metadata": {},
   "source": [
    "###### Гипотезы:\n",
    "**Причины появления пропусков:**\n",
    "- предположение продавца, что \n",
    " - жилая площадь не так важна как общая\n",
    " - не так отражает заявленную цену\n",
    " - общей площади достаточно для оценки привлекательности квартиры\n",
    "- необязательность указания жилой площади и площади кухни при подаче объявления\n",
    "- ошибки в заполнении / передаче данных\n",
    "- возможно, жилая площадь и площадь кухни не указана в квартирах-студиях (столбец `studio`) или квартирах со свободной планировкой (столбец `open_plan`)\n",
    "\n",
    "**Заполнение пропусков:**<br>\n",
    "- жилая площадь может быть расчитана как разница общей и жилой или нежилой площадей, не включая балконы и лоджии, но т.к. данные о нежилой площади (подсобные помещения, гардеробные, коридоры, ванные комнаты) не включены в датафрейм, рассчитать значения не представляется возможным\n",
    "- также будет неверным заполнение значений медианными или средними по категориям, т.к. планировки могут разительно отличаться\n",
    "- гипотеза о пропусках в значениях жилой площади и площади кухни в квартирах-студиях или квартирах со свободной планировкой требует проверки"
   ]
  },
  {
   "cell_type": "markdown",
   "metadata": {},
   "source": [
    "###### Анализ\n",
    "Проверим гипотезу о пропусках значениях жилой площади от обратного: если в данных есть квартиры-студии с заполненными значениями общей и жилой площадей, говорить о том, что все пропуски жилой площади относятся к квартирам-студиям нельзя. Для проверки выведем два среза датафрейма с условиями:\n",
    "- квартира - студия или  с открытой планировкой\n",
    "- и указаны\n",
    " - и общая и жилая площади \n",
    " - указана площадь кухни"
   ]
  },
  {
   "cell_type": "code",
   "execution_count": 14,
   "metadata": {},
   "outputs": [
    {
     "data": {
      "text/plain": [
       "'Кол-во записей для квартир-студий с заполненными значениями общих и жилых площадей: 139'"
      ]
     },
     "metadata": {},
     "output_type": "display_data"
    },
    {
     "data": {
      "text/plain": [
       "'Кол-во записей для квартир с открытой планировкой с заполненными значениями общих и жилых площадей: 62'"
      ]
     },
     "metadata": {},
     "output_type": "display_data"
    },
    {
     "data": {
      "text/plain": [
       "'Кол-во заполненных значений площадей кухонь в квартирах-студиях:0'"
      ]
     },
     "metadata": {},
     "output_type": "display_data"
    },
    {
     "data": {
      "text/plain": [
       "'Кол-во заполненных значений площадей кухонь в квартирах с открытой планировкой:0'"
      ]
     },
     "metadata": {},
     "output_type": "display_data"
    }
   ],
   "source": [
    "# Проверим есть ли строки с заполненными значениями общих и жилых площадей для квартир-студий\n",
    "display(f'Кол-во записей для квартир-студий с заполненными значениями общих и жилых площадей: \\\n",
    "{len(data.query(\"~(living_area.isna()) and studio == True and ~(total_area.isna())\"))}')\n",
    "\n",
    "# Проверим есть ли строки с заполненными значениями общих и жилых площадей для квартир с открытой планировкой\n",
    "display(f'Кол-во записей для квартир с открытой планировкой с заполненными значениями общих и жилых площадей: \\\n",
    "{len(data.query(\"~(living_area.isna()) and open_plan == True and ~(total_area.isna())\"))}')\n",
    "\n",
    "\n",
    "# Проверим, есть ли заполненные значения площадей кухни для квартир-студий \n",
    "display(f'Кол-во заполненных значений площадей кухонь в квартирах-студиях:\\\n",
    "{len(data.query(\"studio == True and ~(kitchen_area.isna())\"))}')\n",
    "\n",
    "# Проверим, есть ли заполненные значения площадей кухни для квартир с открытой планировкой\n",
    "display(f'Кол-во заполненных значений площадей кухонь в квартирах с открытой планировкой:\\\n",
    "{len(data.query(\"open_plan == True and ~(kitchen_area.isna())\"))}')"
   ]
  },
  {
   "cell_type": "markdown",
   "metadata": {},
   "source": [
    "###### Выводы:\n",
    "1. Т.к. в данных есть квартиры с указанными общей и жилой площадями как для квартир-студий так и для квартир с открытой планировкой, гипотеза о пропусках для данных категорий не подтвердилась. Замена пропусков другими способами будет некорректной, а удаление записей может привести к искажению данных, поэтому оставими значения пустыми.\n",
    "2. Для данных по площадям кухонь гипотеза подтвердилась: во всех даных по квартирам-студиям и квартирам с общей планировкой нет площадей кухонь, что позволяет заменять пропущенные значения в этих строках. Но, так как таких пропусков очень мало по сравнению с общим кол-вом записей в столбце `kitchen_area` (0.63%), заменять только их - нецелесообразно, а для замены всех оставшихся, - данных недостаточно. \n",
    "**Общий вывод** Оставим пропуски в столбцах \"жилая площадь\" `living_area` и \"площадь кухни\" `kitchen area` без изменений."
   ]
  },
  {
   "cell_type": "markdown",
   "metadata": {},
   "source": [
    "##### Пропуски в столбце - \"апартаменты\" `is_apartment`."
   ]
  },
  {
   "cell_type": "code",
   "execution_count": 15,
   "metadata": {},
   "outputs": [
    {
     "data": {
      "text/plain": [
       "'Процент пропусков в столбце \"Апартаменты\": 88.29%'"
      ]
     },
     "metadata": {},
     "output_type": "display_data"
    }
   ],
   "source": [
    "display(f'Процент пропусков в столбце \"Апартаменты\": {round(data[\"is_apartment\"].isna().sum() / len(data[\"is_apartment\"]), 4):.2%}')"
   ]
  },
  {
   "cell_type": "markdown",
   "metadata": {},
   "source": [
    "**Причины появления пропусков:**\n",
    "- необязательность указания вида недвижимости при подаче объявления\n",
    "- возможно, часть объявлений приходится на период, в котором нельзя было выбрать \"Статус\" объекта\n",
    "- ошибки в заполнении / передаче данных\n",
    "\n",
    "**Заполнение пропусков:**<br>\n",
    "- Вероятно, большое кол-во пропусков относится к помещениям, не являющимся апартаментами, но, так как точно определить значения пропусков невозможно и параметр не участвует в исследовании оставим пропуски без изменений."
   ]
  },
  {
   "cell_type": "markdown",
   "metadata": {},
   "source": [
    "##### Пропуски в столбце - \"кол-во балконов\" `balcony`."
   ]
  },
  {
   "cell_type": "code",
   "execution_count": 16,
   "metadata": {},
   "outputs": [
    {
     "data": {
      "text/plain": [
       "'Процент пропусков от общего кол-ва записей: 9.61%'"
      ]
     },
     "execution_count": 16,
     "metadata": {},
     "output_type": "execute_result"
    }
   ],
   "source": [
    "f'Процент пропусков от общего кол-ва записей: {round(data[\"kitchen_area\"].isna().sum() / len(data[\"kitchen_area\"]), 4):.2%}'"
   ]
  },
  {
   "cell_type": "markdown",
   "metadata": {},
   "source": [
    "**Причины появления пропусков:**\n",
    "- отсутвие балкона\n",
    "- необязательность указания наличия и кол-ва балконов при подаче объявления\n",
    "- ошибки в заполнении / передаче данных\n",
    "\n",
    "**Заполнение пропусков:**<br>\n",
    "- Скорее всего, большое кол-во пропусков относится к квартирам без балконов, поэтому заменим площадь на `0`."
   ]
  },
  {
   "cell_type": "code",
   "execution_count": 17,
   "metadata": {},
   "outputs": [
    {
     "data": {
      "text/plain": [
       "'Пропусков после замены: 0'"
      ]
     },
     "execution_count": 17,
     "metadata": {},
     "output_type": "execute_result"
    }
   ],
   "source": [
    "# Заменим значения пропусков на 0.\n",
    "data['balcony'].fillna(0, inplace=True)\n",
    "# Проверим кол-во пропусков после замены.\n",
    "f'Пропусков после замены: {data[\"balcony\"].isna().sum()}'"
   ]
  },
  {
   "cell_type": "markdown",
   "metadata": {},
   "source": [
    "##### Пропуски в столбцах \"Название населенного пункта\" `locality_name`, \"Ближайший аэропорт\" `airport_nearest`,\"Расстояние до центра города\" `cityCenters_nearest`  оставим без изменений, т.к. предположить значения без дополнительных данных и/или сторонних API невозможно."
   ]
  },
  {
   "cell_type": "code",
   "execution_count": null,
   "metadata": {},
   "outputs": [],
   "source": []
  },
  {
   "cell_type": "markdown",
   "metadata": {},
   "source": [
    "##### Пропуски в столбцах - `parks_around3000` и `ponds_around3000`\n",
    "(\"число парков в радиусе 3 км.\" и \"число прудов в радиусе 3 км.\", соответственно)."
   ]
  },
  {
   "cell_type": "markdown",
   "metadata": {},
   "source": [
    "**Причины появления пропусков:**\n",
    "- отсутствие парков или прудов в радиусе 3км.\n",
    "\n",
    "**Заполнение пропусков:**<br>\n",
    "- Так как в столбце указаны кол-ва, а пропуски означают отсутствие, заменим все пропуски на `0`."
   ]
  },
  {
   "cell_type": "code",
   "execution_count": 18,
   "metadata": {},
   "outputs": [
    {
     "data": {
      "text/plain": [
       "'Пропусков в \"Парках\" после замены: 0'"
      ]
     },
     "metadata": {},
     "output_type": "display_data"
    },
    {
     "data": {
      "text/plain": [
       "'Пропусков в \"Водоёмах\" после замены: 0'"
      ]
     },
     "metadata": {},
     "output_type": "display_data"
    }
   ],
   "source": [
    "# Замена пропусков на 0\n",
    "data['parks_around3000'] = data['parks_around3000'].fillna(0)\n",
    "data['ponds_around3000'] = data['ponds_around3000'].fillna(0)\n",
    "\n",
    "# Проверка отсутствия пропусков\n",
    "display(f'Пропусков в \"Парках\" после замены: {data[\"parks_around3000\"].isna().sum()}')\n",
    "display(f'Пропусков в \"Водоёмах\" после замены: {data[\"ponds_around3000\"].isna().sum()}')"
   ]
  },
  {
   "cell_type": "markdown",
   "metadata": {},
   "source": [
    "##### Пропуски в столбцах -  `parks_nearest` и `ponds_nearest`\n",
    "(\"расстояние до ближайшего парка\" и \"расстояние до ближайшего водоёма\", соответственно)."
   ]
  },
  {
   "cell_type": "code",
   "execution_count": 19,
   "metadata": {},
   "outputs": [
    {
     "data": {
      "text/plain": [
       "'Процент пропусков по \"Паркам\": 65.91%'"
      ]
     },
     "metadata": {},
     "output_type": "display_data"
    },
    {
     "data": {
      "text/plain": [
       "'Процент пропусков по \"Водоёмам\": 65.91%'"
      ]
     },
     "execution_count": 19,
     "metadata": {},
     "output_type": "execute_result"
    }
   ],
   "source": [
    "display(f'Процент пропусков по \"Паркам\": {round(data[\"parks_nearest\"].isna().sum() / len(data[\"parks_nearest\"]), 4):.2%}')\n",
    "f'Процент пропусков по \"Водоёмам\": {round(data[\"parks_nearest\"].isna().sum() / len(data[\"parks_nearest\"]), 4):.2%}'"
   ]
  },
  {
   "cell_type": "markdown",
   "metadata": {},
   "source": [
    "###### Гипотеза:\n",
    "**Причины появления пропусков:**\n",
    "- система не заполняла[<sup>2</sup>](#fn2) значения при отсутствии парков или водоёмов в радиусе 3км\n",
    "- системе не удалось автоматически определить местонахождение объекта\n",
    "\n",
    "**Заполнение пропусков:**<br>\n",
    "- Оставим пропуски без изменений, т.к столбец уже несёт всю необходимую информацию. <br><br>\n",
    "\n",
    "<sup>2</sup><span id=\"fn1\"> Проверим гипотезу о пропуске значений по критерию удаленности на более чем 3км, сравнив пропуски в соответствующих столбцах наличия и расстояния до парков и водоёмов.</span><br>\n",
    "Так же, проверим предположение о пропуске значений, местонахождение для которых не было найдено."
   ]
  },
  {
   "cell_type": "code",
   "execution_count": 20,
   "metadata": {},
   "outputs": [
    {
     "data": {
      "text/plain": [
       "'Несоответствий пропусков в двух столбцах \"Водоёмы\":        0'"
      ]
     },
     "metadata": {},
     "output_type": "display_data"
    },
    {
     "data": {
      "text/plain": [
       "'Несоответствий пропусков в двух столбцах \"Парки\":        4'"
      ]
     },
     "metadata": {},
     "output_type": "display_data"
    },
    {
     "data": {
      "text/plain": [
       "'Расстояния до парков с незаполненным числом парков:'"
      ]
     },
     "metadata": {},
     "output_type": "display_data"
    },
    {
     "data": {
      "text/plain": [
       "1590     3064.0\n",
       "10959    3190.0\n",
       "19208    3013.0\n",
       "19430    3190.0\n",
       "Name: parks_nearest, dtype: float64"
      ]
     },
     "metadata": {},
     "output_type": "display_data"
    },
    {
     "data": {
      "text/html": [
       "<div>\n",
       "<style scoped>\n",
       "    .dataframe tbody tr th:only-of-type {\n",
       "        vertical-align: middle;\n",
       "    }\n",
       "\n",
       "    .dataframe tbody tr th {\n",
       "        vertical-align: top;\n",
       "    }\n",
       "\n",
       "    .dataframe thead th {\n",
       "        text-align: right;\n",
       "    }\n",
       "</style>\n",
       "<table border=\"1\" class=\"dataframe\">\n",
       "  <thead>\n",
       "    <tr style=\"text-align: right;\">\n",
       "      <th></th>\n",
       "      <th>total_images</th>\n",
       "      <th>last_price</th>\n",
       "      <th>total_area</th>\n",
       "      <th>first_day_exposition</th>\n",
       "      <th>rooms</th>\n",
       "      <th>ceiling_height</th>\n",
       "      <th>floors_total</th>\n",
       "      <th>living_area</th>\n",
       "      <th>floor</th>\n",
       "      <th>is_apartment</th>\n",
       "      <th>studio</th>\n",
       "      <th>open_plan</th>\n",
       "      <th>kitchen_area</th>\n",
       "      <th>balcony</th>\n",
       "      <th>locality_name</th>\n",
       "      <th>airports_nearest</th>\n",
       "      <th>cityCenters_nearest</th>\n",
       "      <th>parks_around3000</th>\n",
       "      <th>parks_nearest</th>\n",
       "      <th>ponds_around3000</th>\n",
       "      <th>ponds_nearest</th>\n",
       "      <th>days_exposition</th>\n",
       "    </tr>\n",
       "  </thead>\n",
       "  <tbody>\n",
       "    <tr>\n",
       "      <th>1097</th>\n",
       "      <td>3</td>\n",
       "      <td>8600000.0</td>\n",
       "      <td>81.7</td>\n",
       "      <td>2016-04-15T00:00:00</td>\n",
       "      <td>3</td>\n",
       "      <td>3.55</td>\n",
       "      <td>5.0</td>\n",
       "      <td>50.8</td>\n",
       "      <td>2</td>\n",
       "      <td>NaN</td>\n",
       "      <td>False</td>\n",
       "      <td>False</td>\n",
       "      <td>8.8</td>\n",
       "      <td>0.0</td>\n",
       "      <td>NaN</td>\n",
       "      <td>23478.0</td>\n",
       "      <td>4258.0</td>\n",
       "      <td>0.0</td>\n",
       "      <td>NaN</td>\n",
       "      <td>0.0</td>\n",
       "      <td>NaN</td>\n",
       "      <td>147.0</td>\n",
       "    </tr>\n",
       "    <tr>\n",
       "      <th>2033</th>\n",
       "      <td>6</td>\n",
       "      <td>5398000.0</td>\n",
       "      <td>80.0</td>\n",
       "      <td>2017-05-30T00:00:00</td>\n",
       "      <td>3</td>\n",
       "      <td>NaN</td>\n",
       "      <td>4.0</td>\n",
       "      <td>42.6</td>\n",
       "      <td>2</td>\n",
       "      <td>NaN</td>\n",
       "      <td>False</td>\n",
       "      <td>False</td>\n",
       "      <td>18.6</td>\n",
       "      <td>0.0</td>\n",
       "      <td>NaN</td>\n",
       "      <td>NaN</td>\n",
       "      <td>NaN</td>\n",
       "      <td>0.0</td>\n",
       "      <td>NaN</td>\n",
       "      <td>0.0</td>\n",
       "      <td>NaN</td>\n",
       "      <td>34.0</td>\n",
       "    </tr>\n",
       "    <tr>\n",
       "      <th>7114</th>\n",
       "      <td>5</td>\n",
       "      <td>4250000.0</td>\n",
       "      <td>56.0</td>\n",
       "      <td>2016-03-16T00:00:00</td>\n",
       "      <td>3</td>\n",
       "      <td>NaN</td>\n",
       "      <td>5.0</td>\n",
       "      <td>40.0</td>\n",
       "      <td>4</td>\n",
       "      <td>NaN</td>\n",
       "      <td>False</td>\n",
       "      <td>False</td>\n",
       "      <td>6.0</td>\n",
       "      <td>0.0</td>\n",
       "      <td>NaN</td>\n",
       "      <td>14031.0</td>\n",
       "      <td>8582.0</td>\n",
       "      <td>0.0</td>\n",
       "      <td>NaN</td>\n",
       "      <td>0.0</td>\n",
       "      <td>NaN</td>\n",
       "      <td>96.0</td>\n",
       "    </tr>\n",
       "    <tr>\n",
       "      <th>7600</th>\n",
       "      <td>8</td>\n",
       "      <td>6800000.0</td>\n",
       "      <td>70.0</td>\n",
       "      <td>2016-01-31T00:00:00</td>\n",
       "      <td>3</td>\n",
       "      <td>NaN</td>\n",
       "      <td>11.0</td>\n",
       "      <td>42.0</td>\n",
       "      <td>9</td>\n",
       "      <td>NaN</td>\n",
       "      <td>False</td>\n",
       "      <td>False</td>\n",
       "      <td>11.0</td>\n",
       "      <td>1.0</td>\n",
       "      <td>NaN</td>\n",
       "      <td>37123.0</td>\n",
       "      <td>12332.0</td>\n",
       "      <td>0.0</td>\n",
       "      <td>NaN</td>\n",
       "      <td>0.0</td>\n",
       "      <td>NaN</td>\n",
       "      <td>209.0</td>\n",
       "    </tr>\n",
       "    <tr>\n",
       "      <th>8986</th>\n",
       "      <td>10</td>\n",
       "      <td>4850000.0</td>\n",
       "      <td>103.1</td>\n",
       "      <td>2018-07-10T00:00:00</td>\n",
       "      <td>3</td>\n",
       "      <td>NaN</td>\n",
       "      <td>NaN</td>\n",
       "      <td>68.1</td>\n",
       "      <td>4</td>\n",
       "      <td>NaN</td>\n",
       "      <td>False</td>\n",
       "      <td>False</td>\n",
       "      <td>16.7</td>\n",
       "      <td>0.0</td>\n",
       "      <td>NaN</td>\n",
       "      <td>19659.0</td>\n",
       "      <td>31813.0</td>\n",
       "      <td>0.0</td>\n",
       "      <td>NaN</td>\n",
       "      <td>0.0</td>\n",
       "      <td>NaN</td>\n",
       "      <td>28.0</td>\n",
       "    </tr>\n",
       "    <tr>\n",
       "      <th>12879</th>\n",
       "      <td>12</td>\n",
       "      <td>4400000.0</td>\n",
       "      <td>39.2</td>\n",
       "      <td>2016-04-26T00:00:00</td>\n",
       "      <td>1</td>\n",
       "      <td>NaN</td>\n",
       "      <td>12.0</td>\n",
       "      <td>20.0</td>\n",
       "      <td>12</td>\n",
       "      <td>False</td>\n",
       "      <td>False</td>\n",
       "      <td>False</td>\n",
       "      <td>7.9</td>\n",
       "      <td>0.0</td>\n",
       "      <td>NaN</td>\n",
       "      <td>37123.0</td>\n",
       "      <td>12332.0</td>\n",
       "      <td>0.0</td>\n",
       "      <td>NaN</td>\n",
       "      <td>0.0</td>\n",
       "      <td>NaN</td>\n",
       "      <td>179.0</td>\n",
       "    </tr>\n",
       "    <tr>\n",
       "      <th>14342</th>\n",
       "      <td>3</td>\n",
       "      <td>3611000.0</td>\n",
       "      <td>53.5</td>\n",
       "      <td>2017-04-27T00:00:00</td>\n",
       "      <td>1</td>\n",
       "      <td>NaN</td>\n",
       "      <td>4.0</td>\n",
       "      <td>25.8</td>\n",
       "      <td>3</td>\n",
       "      <td>False</td>\n",
       "      <td>False</td>\n",
       "      <td>False</td>\n",
       "      <td>NaN</td>\n",
       "      <td>1.0</td>\n",
       "      <td>NaN</td>\n",
       "      <td>NaN</td>\n",
       "      <td>NaN</td>\n",
       "      <td>0.0</td>\n",
       "      <td>NaN</td>\n",
       "      <td>0.0</td>\n",
       "      <td>NaN</td>\n",
       "      <td>92.0</td>\n",
       "    </tr>\n",
       "    <tr>\n",
       "      <th>17535</th>\n",
       "      <td>2</td>\n",
       "      <td>5985000.0</td>\n",
       "      <td>79.8</td>\n",
       "      <td>2018-07-30T00:00:00</td>\n",
       "      <td>3</td>\n",
       "      <td>NaN</td>\n",
       "      <td>9.0</td>\n",
       "      <td>NaN</td>\n",
       "      <td>2</td>\n",
       "      <td>False</td>\n",
       "      <td>False</td>\n",
       "      <td>False</td>\n",
       "      <td>NaN</td>\n",
       "      <td>0.0</td>\n",
       "      <td>NaN</td>\n",
       "      <td>NaN</td>\n",
       "      <td>NaN</td>\n",
       "      <td>0.0</td>\n",
       "      <td>NaN</td>\n",
       "      <td>0.0</td>\n",
       "      <td>NaN</td>\n",
       "      <td>213.0</td>\n",
       "    </tr>\n",
       "    <tr>\n",
       "      <th>18526</th>\n",
       "      <td>3</td>\n",
       "      <td>10800000.0</td>\n",
       "      <td>86.0</td>\n",
       "      <td>2016-06-24T00:00:00</td>\n",
       "      <td>4</td>\n",
       "      <td>3.20</td>\n",
       "      <td>7.0</td>\n",
       "      <td>48.0</td>\n",
       "      <td>2</td>\n",
       "      <td>NaN</td>\n",
       "      <td>False</td>\n",
       "      <td>False</td>\n",
       "      <td>12.0</td>\n",
       "      <td>0.0</td>\n",
       "      <td>NaN</td>\n",
       "      <td>11206.0</td>\n",
       "      <td>8943.0</td>\n",
       "      <td>0.0</td>\n",
       "      <td>NaN</td>\n",
       "      <td>0.0</td>\n",
       "      <td>NaN</td>\n",
       "      <td>65.0</td>\n",
       "    </tr>\n",
       "    <tr>\n",
       "      <th>20057</th>\n",
       "      <td>13</td>\n",
       "      <td>11500000.0</td>\n",
       "      <td>102.0</td>\n",
       "      <td>2015-10-14T00:00:00</td>\n",
       "      <td>2</td>\n",
       "      <td>NaN</td>\n",
       "      <td>5.0</td>\n",
       "      <td>70.0</td>\n",
       "      <td>2</td>\n",
       "      <td>NaN</td>\n",
       "      <td>False</td>\n",
       "      <td>False</td>\n",
       "      <td>NaN</td>\n",
       "      <td>0.0</td>\n",
       "      <td>NaN</td>\n",
       "      <td>23478.0</td>\n",
       "      <td>4258.0</td>\n",
       "      <td>0.0</td>\n",
       "      <td>NaN</td>\n",
       "      <td>0.0</td>\n",
       "      <td>NaN</td>\n",
       "      <td>325.0</td>\n",
       "    </tr>\n",
       "    <tr>\n",
       "      <th>20382</th>\n",
       "      <td>8</td>\n",
       "      <td>1750000.0</td>\n",
       "      <td>72.9</td>\n",
       "      <td>2018-10-27T00:00:00</td>\n",
       "      <td>3</td>\n",
       "      <td>NaN</td>\n",
       "      <td>5.0</td>\n",
       "      <td>47.3</td>\n",
       "      <td>2</td>\n",
       "      <td>NaN</td>\n",
       "      <td>False</td>\n",
       "      <td>False</td>\n",
       "      <td>8.3</td>\n",
       "      <td>0.0</td>\n",
       "      <td>NaN</td>\n",
       "      <td>NaN</td>\n",
       "      <td>NaN</td>\n",
       "      <td>0.0</td>\n",
       "      <td>NaN</td>\n",
       "      <td>0.0</td>\n",
       "      <td>NaN</td>\n",
       "      <td>NaN</td>\n",
       "    </tr>\n",
       "    <tr>\n",
       "      <th>20590</th>\n",
       "      <td>7</td>\n",
       "      <td>3380000.0</td>\n",
       "      <td>56.0</td>\n",
       "      <td>2017-11-06T00:00:00</td>\n",
       "      <td>2</td>\n",
       "      <td>2.70</td>\n",
       "      <td>4.0</td>\n",
       "      <td>29.0</td>\n",
       "      <td>3</td>\n",
       "      <td>NaN</td>\n",
       "      <td>False</td>\n",
       "      <td>False</td>\n",
       "      <td>10.0</td>\n",
       "      <td>1.0</td>\n",
       "      <td>NaN</td>\n",
       "      <td>NaN</td>\n",
       "      <td>NaN</td>\n",
       "      <td>0.0</td>\n",
       "      <td>NaN</td>\n",
       "      <td>0.0</td>\n",
       "      <td>NaN</td>\n",
       "      <td>78.0</td>\n",
       "    </tr>\n",
       "    <tr>\n",
       "      <th>21119</th>\n",
       "      <td>8</td>\n",
       "      <td>3500000.0</td>\n",
       "      <td>43.2</td>\n",
       "      <td>2018-11-11T00:00:00</td>\n",
       "      <td>2</td>\n",
       "      <td>NaN</td>\n",
       "      <td>4.0</td>\n",
       "      <td>NaN</td>\n",
       "      <td>2</td>\n",
       "      <td>NaN</td>\n",
       "      <td>False</td>\n",
       "      <td>False</td>\n",
       "      <td>NaN</td>\n",
       "      <td>0.0</td>\n",
       "      <td>NaN</td>\n",
       "      <td>19744.0</td>\n",
       "      <td>31897.0</td>\n",
       "      <td>0.0</td>\n",
       "      <td>NaN</td>\n",
       "      <td>0.0</td>\n",
       "      <td>NaN</td>\n",
       "      <td>9.0</td>\n",
       "    </tr>\n",
       "    <tr>\n",
       "      <th>21276</th>\n",
       "      <td>0</td>\n",
       "      <td>17122148.0</td>\n",
       "      <td>178.3</td>\n",
       "      <td>2017-02-10T00:00:00</td>\n",
       "      <td>1</td>\n",
       "      <td>NaN</td>\n",
       "      <td>3.0</td>\n",
       "      <td>NaN</td>\n",
       "      <td>1</td>\n",
       "      <td>NaN</td>\n",
       "      <td>False</td>\n",
       "      <td>False</td>\n",
       "      <td>41.6</td>\n",
       "      <td>1.0</td>\n",
       "      <td>NaN</td>\n",
       "      <td>60195.0</td>\n",
       "      <td>41294.0</td>\n",
       "      <td>0.0</td>\n",
       "      <td>NaN</td>\n",
       "      <td>0.0</td>\n",
       "      <td>NaN</td>\n",
       "      <td>4.0</td>\n",
       "    </tr>\n",
       "    <tr>\n",
       "      <th>21715</th>\n",
       "      <td>2</td>\n",
       "      <td>6047550.0</td>\n",
       "      <td>80.1</td>\n",
       "      <td>2018-07-30T00:00:00</td>\n",
       "      <td>2</td>\n",
       "      <td>NaN</td>\n",
       "      <td>9.0</td>\n",
       "      <td>30.5</td>\n",
       "      <td>2</td>\n",
       "      <td>False</td>\n",
       "      <td>False</td>\n",
       "      <td>False</td>\n",
       "      <td>29.2</td>\n",
       "      <td>0.0</td>\n",
       "      <td>NaN</td>\n",
       "      <td>NaN</td>\n",
       "      <td>NaN</td>\n",
       "      <td>0.0</td>\n",
       "      <td>NaN</td>\n",
       "      <td>0.0</td>\n",
       "      <td>NaN</td>\n",
       "      <td>176.0</td>\n",
       "    </tr>\n",
       "    <tr>\n",
       "      <th>21898</th>\n",
       "      <td>2</td>\n",
       "      <td>5886750.0</td>\n",
       "      <td>83.5</td>\n",
       "      <td>2018-07-30T00:00:00</td>\n",
       "      <td>2</td>\n",
       "      <td>NaN</td>\n",
       "      <td>9.0</td>\n",
       "      <td>36.6</td>\n",
       "      <td>2</td>\n",
       "      <td>False</td>\n",
       "      <td>False</td>\n",
       "      <td>False</td>\n",
       "      <td>29.7</td>\n",
       "      <td>0.0</td>\n",
       "      <td>NaN</td>\n",
       "      <td>NaN</td>\n",
       "      <td>NaN</td>\n",
       "      <td>0.0</td>\n",
       "      <td>NaN</td>\n",
       "      <td>0.0</td>\n",
       "      <td>NaN</td>\n",
       "      <td>169.0</td>\n",
       "    </tr>\n",
       "    <tr>\n",
       "      <th>22717</th>\n",
       "      <td>9</td>\n",
       "      <td>3000000.0</td>\n",
       "      <td>35.0</td>\n",
       "      <td>2018-01-02T00:00:00</td>\n",
       "      <td>1</td>\n",
       "      <td>2.60</td>\n",
       "      <td>16.0</td>\n",
       "      <td>16.0</td>\n",
       "      <td>7</td>\n",
       "      <td>False</td>\n",
       "      <td>False</td>\n",
       "      <td>False</td>\n",
       "      <td>10.0</td>\n",
       "      <td>1.0</td>\n",
       "      <td>NaN</td>\n",
       "      <td>NaN</td>\n",
       "      <td>NaN</td>\n",
       "      <td>0.0</td>\n",
       "      <td>NaN</td>\n",
       "      <td>0.0</td>\n",
       "      <td>NaN</td>\n",
       "      <td>75.0</td>\n",
       "    </tr>\n",
       "    <tr>\n",
       "      <th>23214</th>\n",
       "      <td>3</td>\n",
       "      <td>7990000.0</td>\n",
       "      <td>56.0</td>\n",
       "      <td>2016-05-31T00:00:00</td>\n",
       "      <td>2</td>\n",
       "      <td>NaN</td>\n",
       "      <td>6.0</td>\n",
       "      <td>NaN</td>\n",
       "      <td>5</td>\n",
       "      <td>False</td>\n",
       "      <td>False</td>\n",
       "      <td>False</td>\n",
       "      <td>NaN</td>\n",
       "      <td>0.0</td>\n",
       "      <td>NaN</td>\n",
       "      <td>11206.0</td>\n",
       "      <td>8943.0</td>\n",
       "      <td>0.0</td>\n",
       "      <td>NaN</td>\n",
       "      <td>0.0</td>\n",
       "      <td>NaN</td>\n",
       "      <td>70.0</td>\n",
       "    </tr>\n",
       "  </tbody>\n",
       "</table>\n",
       "</div>"
      ],
      "text/plain": [
       "       total_images  last_price  total_area first_day_exposition  rooms  \\\n",
       "1097              3   8600000.0        81.7  2016-04-15T00:00:00      3   \n",
       "2033              6   5398000.0        80.0  2017-05-30T00:00:00      3   \n",
       "7114              5   4250000.0        56.0  2016-03-16T00:00:00      3   \n",
       "7600              8   6800000.0        70.0  2016-01-31T00:00:00      3   \n",
       "8986             10   4850000.0       103.1  2018-07-10T00:00:00      3   \n",
       "12879            12   4400000.0        39.2  2016-04-26T00:00:00      1   \n",
       "14342             3   3611000.0        53.5  2017-04-27T00:00:00      1   \n",
       "17535             2   5985000.0        79.8  2018-07-30T00:00:00      3   \n",
       "18526             3  10800000.0        86.0  2016-06-24T00:00:00      4   \n",
       "20057            13  11500000.0       102.0  2015-10-14T00:00:00      2   \n",
       "20382             8   1750000.0        72.9  2018-10-27T00:00:00      3   \n",
       "20590             7   3380000.0        56.0  2017-11-06T00:00:00      2   \n",
       "21119             8   3500000.0        43.2  2018-11-11T00:00:00      2   \n",
       "21276             0  17122148.0       178.3  2017-02-10T00:00:00      1   \n",
       "21715             2   6047550.0        80.1  2018-07-30T00:00:00      2   \n",
       "21898             2   5886750.0        83.5  2018-07-30T00:00:00      2   \n",
       "22717             9   3000000.0        35.0  2018-01-02T00:00:00      1   \n",
       "23214             3   7990000.0        56.0  2016-05-31T00:00:00      2   \n",
       "\n",
       "       ceiling_height  floors_total  living_area  floor is_apartment  studio  \\\n",
       "1097             3.55           5.0         50.8      2          NaN   False   \n",
       "2033              NaN           4.0         42.6      2          NaN   False   \n",
       "7114              NaN           5.0         40.0      4          NaN   False   \n",
       "7600              NaN          11.0         42.0      9          NaN   False   \n",
       "8986              NaN           NaN         68.1      4          NaN   False   \n",
       "12879             NaN          12.0         20.0     12        False   False   \n",
       "14342             NaN           4.0         25.8      3        False   False   \n",
       "17535             NaN           9.0          NaN      2        False   False   \n",
       "18526            3.20           7.0         48.0      2          NaN   False   \n",
       "20057             NaN           5.0         70.0      2          NaN   False   \n",
       "20382             NaN           5.0         47.3      2          NaN   False   \n",
       "20590            2.70           4.0         29.0      3          NaN   False   \n",
       "21119             NaN           4.0          NaN      2          NaN   False   \n",
       "21276             NaN           3.0          NaN      1          NaN   False   \n",
       "21715             NaN           9.0         30.5      2        False   False   \n",
       "21898             NaN           9.0         36.6      2        False   False   \n",
       "22717            2.60          16.0         16.0      7        False   False   \n",
       "23214             NaN           6.0          NaN      5        False   False   \n",
       "\n",
       "       open_plan  kitchen_area  balcony locality_name  airports_nearest  \\\n",
       "1097       False           8.8      0.0           NaN           23478.0   \n",
       "2033       False          18.6      0.0           NaN               NaN   \n",
       "7114       False           6.0      0.0           NaN           14031.0   \n",
       "7600       False          11.0      1.0           NaN           37123.0   \n",
       "8986       False          16.7      0.0           NaN           19659.0   \n",
       "12879      False           7.9      0.0           NaN           37123.0   \n",
       "14342      False           NaN      1.0           NaN               NaN   \n",
       "17535      False           NaN      0.0           NaN               NaN   \n",
       "18526      False          12.0      0.0           NaN           11206.0   \n",
       "20057      False           NaN      0.0           NaN           23478.0   \n",
       "20382      False           8.3      0.0           NaN               NaN   \n",
       "20590      False          10.0      1.0           NaN               NaN   \n",
       "21119      False           NaN      0.0           NaN           19744.0   \n",
       "21276      False          41.6      1.0           NaN           60195.0   \n",
       "21715      False          29.2      0.0           NaN               NaN   \n",
       "21898      False          29.7      0.0           NaN               NaN   \n",
       "22717      False          10.0      1.0           NaN               NaN   \n",
       "23214      False           NaN      0.0           NaN           11206.0   \n",
       "\n",
       "       cityCenters_nearest  parks_around3000  parks_nearest  ponds_around3000  \\\n",
       "1097                4258.0               0.0            NaN               0.0   \n",
       "2033                   NaN               0.0            NaN               0.0   \n",
       "7114                8582.0               0.0            NaN               0.0   \n",
       "7600               12332.0               0.0            NaN               0.0   \n",
       "8986               31813.0               0.0            NaN               0.0   \n",
       "12879              12332.0               0.0            NaN               0.0   \n",
       "14342                  NaN               0.0            NaN               0.0   \n",
       "17535                  NaN               0.0            NaN               0.0   \n",
       "18526               8943.0               0.0            NaN               0.0   \n",
       "20057               4258.0               0.0            NaN               0.0   \n",
       "20382                  NaN               0.0            NaN               0.0   \n",
       "20590                  NaN               0.0            NaN               0.0   \n",
       "21119              31897.0               0.0            NaN               0.0   \n",
       "21276              41294.0               0.0            NaN               0.0   \n",
       "21715                  NaN               0.0            NaN               0.0   \n",
       "21898                  NaN               0.0            NaN               0.0   \n",
       "22717                  NaN               0.0            NaN               0.0   \n",
       "23214               8943.0               0.0            NaN               0.0   \n",
       "\n",
       "       ponds_nearest  days_exposition  \n",
       "1097             NaN            147.0  \n",
       "2033             NaN             34.0  \n",
       "7114             NaN             96.0  \n",
       "7600             NaN            209.0  \n",
       "8986             NaN             28.0  \n",
       "12879            NaN            179.0  \n",
       "14342            NaN             92.0  \n",
       "17535            NaN            213.0  \n",
       "18526            NaN             65.0  \n",
       "20057            NaN            325.0  \n",
       "20382            NaN              NaN  \n",
       "20590            NaN             78.0  \n",
       "21119            NaN              9.0  \n",
       "21276            NaN              4.0  \n",
       "21715            NaN            176.0  \n",
       "21898            NaN            169.0  \n",
       "22717            NaN             75.0  \n",
       "23214            NaN             70.0  "
      ]
     },
     "execution_count": 20,
     "metadata": {},
     "output_type": "execute_result"
    }
   ],
   "source": [
    "# Проверка соответствия кол-ва пропусков расстояния до ближ. водоёма кол-ву пропусков\n",
    "# числа водоёмов в радиусе 3км.\n",
    "display(f'Несоответствий пропусков в двух столбцах \"Водоёмы\":\\\n",
    "        {data.loc[data[\"ponds_around3000\"] == 0, \"ponds_around3000\"].count() - data[\"ponds_nearest\"].isna().sum()}')\n",
    "\n",
    "# Проверка соответствия кол-ва пропусков расстояния до ближ. парка кол-ву пропусков\n",
    "# числа парков в радиусе 3км.\n",
    "display(f'Несоответствий пропусков в двух столбцах \"Парки\":\\\n",
    "        {data.loc[data[\"parks_around3000\"] == 0, \"parks_around3000\"].count() - data[\"parks_nearest\"].isna().sum()}')\n",
    "\n",
    "# Проверка расстояний до парков с незаполненным числом парков\n",
    "display('Расстояния до парков с незаполненным числом парков:', data.query('parks_around3000 == 0 and ~(parks_nearest.isna())')['parks_nearest'])\n",
    "\n",
    "# Проверка определения системой адреса объекта\n",
    "data.query('locality_name.isna() and parks_nearest.isna() and ponds_nearest.isna()')"
   ]
  },
  {
   "cell_type": "markdown",
   "metadata": {},
   "source": [
    "###### Вывод:\n",
    "Первая гипотеза почти подтвердилась: система заполнила расстояния до четырех парков, оказавшиеся чуть больше (макс. - 190м) критерия удаленности на 3км.. Оставим эти значения без изменений, т.к. они не аномальны и не исказят результатов исследований.<br><br>\n",
    "Вторая гипотеза опровергнута: некоторым пропускам в названии населенных пунктов, числе прудов и парков, соответствуют заполненные значения расстояния до аэропортов и центров города."
   ]
  },
  {
   "cell_type": "markdown",
   "metadata": {},
   "source": [
    "##### Пропуски в столбце \"Время показа объявления в днях\" `days_exposition`."
   ]
  },
  {
   "cell_type": "code",
   "execution_count": 21,
   "metadata": {},
   "outputs": [
    {
     "data": {
      "text/plain": [
       "'Процент пропусков от общего кол-ва записей: 13.42%'"
      ]
     },
     "execution_count": 21,
     "metadata": {},
     "output_type": "execute_result"
    }
   ],
   "source": [
    "f'Процент пропусков от общего кол-ва записей: {round(data[\"days_exposition\"].isna().sum() / len(data[\"days_exposition\"]), 4):.2%}'"
   ]
  },
  {
   "cell_type": "markdown",
   "metadata": {},
   "source": [
    "**Причины появления пропусков:**\n",
    "- обьекты не были проданы за весь рассматриваемый период\n",
    "- объекты были проданы, но объявления не были сняты\n",
    "\n",
    "**Заполнение пропусков:**<br>\n",
    "- Оставим пропуски без изменений и исключим из анализа объявления не снятые с публикации и без даты продажи. <br><br>"
   ]
  },
  {
   "cell_type": "markdown",
   "metadata": {},
   "source": [
    "#### Анализ типов данных"
   ]
  },
  {
   "cell_type": "markdown",
   "metadata": {},
   "source": [
    "##### Типы данных в столбцах"
   ]
  },
  {
   "cell_type": "code",
   "execution_count": 22,
   "metadata": {},
   "outputs": [
    {
     "name": "stdout",
     "output_type": "stream",
     "text": [
      "<class 'pandas.core.frame.DataFrame'>\n",
      "RangeIndex: 23699 entries, 0 to 23698\n",
      "Data columns (total 22 columns):\n",
      " #   Column                Non-Null Count  Dtype  \n",
      "---  ------                --------------  -----  \n",
      " 0   total_images          23699 non-null  int64  \n",
      " 1   last_price            23699 non-null  float64\n",
      " 2   total_area            23699 non-null  float64\n",
      " 3   first_day_exposition  23699 non-null  object \n",
      " 4   rooms                 23699 non-null  int64  \n",
      " 5   ceiling_height        14504 non-null  float64\n",
      " 6   floors_total          23613 non-null  float64\n",
      " 7   living_area           21796 non-null  float64\n",
      " 8   floor                 23699 non-null  int64  \n",
      " 9   is_apartment          2775 non-null   object \n",
      " 10  studio                23699 non-null  bool   \n",
      " 11  open_plan             23699 non-null  bool   \n",
      " 12  kitchen_area          21421 non-null  float64\n",
      " 13  balcony               23699 non-null  float64\n",
      " 14  locality_name         23650 non-null  object \n",
      " 15  airports_nearest      18157 non-null  float64\n",
      " 16  cityCenters_nearest   18180 non-null  float64\n",
      " 17  parks_around3000      23699 non-null  float64\n",
      " 18  parks_nearest         8079 non-null   float64\n",
      " 19  ponds_around3000      23699 non-null  float64\n",
      " 20  ponds_nearest         9110 non-null   float64\n",
      " 21  days_exposition       20518 non-null  float64\n",
      "dtypes: bool(2), float64(14), int64(3), object(3)\n",
      "memory usage: 3.7+ MB\n"
     ]
    }
   ],
   "source": [
    "data.info()"
   ]
  },
  {
   "cell_type": "code",
   "execution_count": 23,
   "metadata": {},
   "outputs": [
    {
     "data": {
      "text/html": [
       "<div>\n",
       "<style scoped>\n",
       "    .dataframe tbody tr th:only-of-type {\n",
       "        vertical-align: middle;\n",
       "    }\n",
       "\n",
       "    .dataframe tbody tr th {\n",
       "        vertical-align: top;\n",
       "    }\n",
       "\n",
       "    .dataframe thead th {\n",
       "        text-align: right;\n",
       "    }\n",
       "</style>\n",
       "<table border=\"1\" class=\"dataframe\">\n",
       "  <thead>\n",
       "    <tr style=\"text-align: right;\">\n",
       "      <th></th>\n",
       "      <th>total_images</th>\n",
       "      <th>last_price</th>\n",
       "      <th>total_area</th>\n",
       "      <th>first_day_exposition</th>\n",
       "      <th>rooms</th>\n",
       "      <th>ceiling_height</th>\n",
       "      <th>floors_total</th>\n",
       "      <th>living_area</th>\n",
       "      <th>floor</th>\n",
       "      <th>is_apartment</th>\n",
       "      <th>studio</th>\n",
       "      <th>open_plan</th>\n",
       "      <th>kitchen_area</th>\n",
       "      <th>balcony</th>\n",
       "      <th>locality_name</th>\n",
       "      <th>airports_nearest</th>\n",
       "      <th>cityCenters_nearest</th>\n",
       "      <th>parks_around3000</th>\n",
       "      <th>parks_nearest</th>\n",
       "      <th>ponds_around3000</th>\n",
       "      <th>ponds_nearest</th>\n",
       "      <th>days_exposition</th>\n",
       "    </tr>\n",
       "  </thead>\n",
       "  <tbody>\n",
       "    <tr>\n",
       "      <th>0</th>\n",
       "      <td>20</td>\n",
       "      <td>13000000.0</td>\n",
       "      <td>108.00</td>\n",
       "      <td>2019-03-07T00:00:00</td>\n",
       "      <td>3</td>\n",
       "      <td>2.70</td>\n",
       "      <td>16.0</td>\n",
       "      <td>51.00</td>\n",
       "      <td>8</td>\n",
       "      <td>NaN</td>\n",
       "      <td>False</td>\n",
       "      <td>False</td>\n",
       "      <td>25.00</td>\n",
       "      <td>0.0</td>\n",
       "      <td>Санкт-Петербург</td>\n",
       "      <td>18863.0</td>\n",
       "      <td>16028.0</td>\n",
       "      <td>1.0</td>\n",
       "      <td>482.0</td>\n",
       "      <td>2.0</td>\n",
       "      <td>755.0</td>\n",
       "      <td>NaN</td>\n",
       "    </tr>\n",
       "    <tr>\n",
       "      <th>1</th>\n",
       "      <td>7</td>\n",
       "      <td>3350000.0</td>\n",
       "      <td>40.40</td>\n",
       "      <td>2018-12-04T00:00:00</td>\n",
       "      <td>1</td>\n",
       "      <td>NaN</td>\n",
       "      <td>11.0</td>\n",
       "      <td>18.60</td>\n",
       "      <td>1</td>\n",
       "      <td>NaN</td>\n",
       "      <td>False</td>\n",
       "      <td>False</td>\n",
       "      <td>11.00</td>\n",
       "      <td>2.0</td>\n",
       "      <td>посёлок Шушары</td>\n",
       "      <td>12817.0</td>\n",
       "      <td>18603.0</td>\n",
       "      <td>0.0</td>\n",
       "      <td>NaN</td>\n",
       "      <td>0.0</td>\n",
       "      <td>NaN</td>\n",
       "      <td>81.0</td>\n",
       "    </tr>\n",
       "    <tr>\n",
       "      <th>2</th>\n",
       "      <td>10</td>\n",
       "      <td>5196000.0</td>\n",
       "      <td>56.00</td>\n",
       "      <td>2015-08-20T00:00:00</td>\n",
       "      <td>2</td>\n",
       "      <td>NaN</td>\n",
       "      <td>5.0</td>\n",
       "      <td>34.30</td>\n",
       "      <td>4</td>\n",
       "      <td>NaN</td>\n",
       "      <td>False</td>\n",
       "      <td>False</td>\n",
       "      <td>8.30</td>\n",
       "      <td>0.0</td>\n",
       "      <td>Санкт-Петербург</td>\n",
       "      <td>21741.0</td>\n",
       "      <td>13933.0</td>\n",
       "      <td>1.0</td>\n",
       "      <td>90.0</td>\n",
       "      <td>2.0</td>\n",
       "      <td>574.0</td>\n",
       "      <td>558.0</td>\n",
       "    </tr>\n",
       "    <tr>\n",
       "      <th>3</th>\n",
       "      <td>0</td>\n",
       "      <td>64900000.0</td>\n",
       "      <td>159.00</td>\n",
       "      <td>2015-07-24T00:00:00</td>\n",
       "      <td>3</td>\n",
       "      <td>NaN</td>\n",
       "      <td>14.0</td>\n",
       "      <td>NaN</td>\n",
       "      <td>9</td>\n",
       "      <td>NaN</td>\n",
       "      <td>False</td>\n",
       "      <td>False</td>\n",
       "      <td>NaN</td>\n",
       "      <td>0.0</td>\n",
       "      <td>Санкт-Петербург</td>\n",
       "      <td>28098.0</td>\n",
       "      <td>6800.0</td>\n",
       "      <td>2.0</td>\n",
       "      <td>84.0</td>\n",
       "      <td>3.0</td>\n",
       "      <td>234.0</td>\n",
       "      <td>424.0</td>\n",
       "    </tr>\n",
       "    <tr>\n",
       "      <th>4</th>\n",
       "      <td>2</td>\n",
       "      <td>10000000.0</td>\n",
       "      <td>100.00</td>\n",
       "      <td>2018-06-19T00:00:00</td>\n",
       "      <td>2</td>\n",
       "      <td>3.03</td>\n",
       "      <td>14.0</td>\n",
       "      <td>32.00</td>\n",
       "      <td>13</td>\n",
       "      <td>NaN</td>\n",
       "      <td>False</td>\n",
       "      <td>False</td>\n",
       "      <td>41.00</td>\n",
       "      <td>0.0</td>\n",
       "      <td>Санкт-Петербург</td>\n",
       "      <td>31856.0</td>\n",
       "      <td>8098.0</td>\n",
       "      <td>2.0</td>\n",
       "      <td>112.0</td>\n",
       "      <td>1.0</td>\n",
       "      <td>48.0</td>\n",
       "      <td>121.0</td>\n",
       "    </tr>\n",
       "    <tr>\n",
       "      <th>5</th>\n",
       "      <td>10</td>\n",
       "      <td>2890000.0</td>\n",
       "      <td>30.40</td>\n",
       "      <td>2018-09-10T00:00:00</td>\n",
       "      <td>1</td>\n",
       "      <td>NaN</td>\n",
       "      <td>12.0</td>\n",
       "      <td>14.40</td>\n",
       "      <td>5</td>\n",
       "      <td>NaN</td>\n",
       "      <td>False</td>\n",
       "      <td>False</td>\n",
       "      <td>9.10</td>\n",
       "      <td>0.0</td>\n",
       "      <td>городской посёлок Янино-1</td>\n",
       "      <td>NaN</td>\n",
       "      <td>NaN</td>\n",
       "      <td>0.0</td>\n",
       "      <td>NaN</td>\n",
       "      <td>0.0</td>\n",
       "      <td>NaN</td>\n",
       "      <td>55.0</td>\n",
       "    </tr>\n",
       "    <tr>\n",
       "      <th>6</th>\n",
       "      <td>6</td>\n",
       "      <td>3700000.0</td>\n",
       "      <td>37.30</td>\n",
       "      <td>2017-11-02T00:00:00</td>\n",
       "      <td>1</td>\n",
       "      <td>NaN</td>\n",
       "      <td>26.0</td>\n",
       "      <td>10.60</td>\n",
       "      <td>6</td>\n",
       "      <td>NaN</td>\n",
       "      <td>False</td>\n",
       "      <td>False</td>\n",
       "      <td>14.40</td>\n",
       "      <td>1.0</td>\n",
       "      <td>посёлок Парголово</td>\n",
       "      <td>52996.0</td>\n",
       "      <td>19143.0</td>\n",
       "      <td>0.0</td>\n",
       "      <td>NaN</td>\n",
       "      <td>0.0</td>\n",
       "      <td>NaN</td>\n",
       "      <td>155.0</td>\n",
       "    </tr>\n",
       "    <tr>\n",
       "      <th>7</th>\n",
       "      <td>5</td>\n",
       "      <td>7915000.0</td>\n",
       "      <td>71.60</td>\n",
       "      <td>2019-04-18T00:00:00</td>\n",
       "      <td>2</td>\n",
       "      <td>NaN</td>\n",
       "      <td>24.0</td>\n",
       "      <td>NaN</td>\n",
       "      <td>22</td>\n",
       "      <td>NaN</td>\n",
       "      <td>False</td>\n",
       "      <td>False</td>\n",
       "      <td>18.90</td>\n",
       "      <td>2.0</td>\n",
       "      <td>Санкт-Петербург</td>\n",
       "      <td>23982.0</td>\n",
       "      <td>11634.0</td>\n",
       "      <td>0.0</td>\n",
       "      <td>NaN</td>\n",
       "      <td>0.0</td>\n",
       "      <td>NaN</td>\n",
       "      <td>NaN</td>\n",
       "    </tr>\n",
       "    <tr>\n",
       "      <th>8</th>\n",
       "      <td>20</td>\n",
       "      <td>2900000.0</td>\n",
       "      <td>33.16</td>\n",
       "      <td>2018-05-23T00:00:00</td>\n",
       "      <td>1</td>\n",
       "      <td>NaN</td>\n",
       "      <td>27.0</td>\n",
       "      <td>15.43</td>\n",
       "      <td>26</td>\n",
       "      <td>NaN</td>\n",
       "      <td>False</td>\n",
       "      <td>False</td>\n",
       "      <td>8.81</td>\n",
       "      <td>0.0</td>\n",
       "      <td>посёлок Мурино</td>\n",
       "      <td>NaN</td>\n",
       "      <td>NaN</td>\n",
       "      <td>0.0</td>\n",
       "      <td>NaN</td>\n",
       "      <td>0.0</td>\n",
       "      <td>NaN</td>\n",
       "      <td>189.0</td>\n",
       "    </tr>\n",
       "    <tr>\n",
       "      <th>9</th>\n",
       "      <td>18</td>\n",
       "      <td>5400000.0</td>\n",
       "      <td>61.00</td>\n",
       "      <td>2017-02-26T00:00:00</td>\n",
       "      <td>3</td>\n",
       "      <td>2.50</td>\n",
       "      <td>9.0</td>\n",
       "      <td>43.60</td>\n",
       "      <td>7</td>\n",
       "      <td>NaN</td>\n",
       "      <td>False</td>\n",
       "      <td>False</td>\n",
       "      <td>6.50</td>\n",
       "      <td>2.0</td>\n",
       "      <td>Санкт-Петербург</td>\n",
       "      <td>50898.0</td>\n",
       "      <td>15008.0</td>\n",
       "      <td>0.0</td>\n",
       "      <td>NaN</td>\n",
       "      <td>0.0</td>\n",
       "      <td>NaN</td>\n",
       "      <td>289.0</td>\n",
       "    </tr>\n",
       "    <tr>\n",
       "      <th>10</th>\n",
       "      <td>5</td>\n",
       "      <td>5050000.0</td>\n",
       "      <td>39.60</td>\n",
       "      <td>2017-11-16T00:00:00</td>\n",
       "      <td>1</td>\n",
       "      <td>2.67</td>\n",
       "      <td>12.0</td>\n",
       "      <td>20.30</td>\n",
       "      <td>3</td>\n",
       "      <td>NaN</td>\n",
       "      <td>False</td>\n",
       "      <td>False</td>\n",
       "      <td>8.50</td>\n",
       "      <td>0.0</td>\n",
       "      <td>Санкт-Петербург</td>\n",
       "      <td>38357.0</td>\n",
       "      <td>13878.0</td>\n",
       "      <td>1.0</td>\n",
       "      <td>310.0</td>\n",
       "      <td>2.0</td>\n",
       "      <td>553.0</td>\n",
       "      <td>137.0</td>\n",
       "    </tr>\n",
       "    <tr>\n",
       "      <th>11</th>\n",
       "      <td>9</td>\n",
       "      <td>3300000.0</td>\n",
       "      <td>44.00</td>\n",
       "      <td>2018-08-27T00:00:00</td>\n",
       "      <td>2</td>\n",
       "      <td>NaN</td>\n",
       "      <td>5.0</td>\n",
       "      <td>31.00</td>\n",
       "      <td>4</td>\n",
       "      <td>False</td>\n",
       "      <td>False</td>\n",
       "      <td>False</td>\n",
       "      <td>6.00</td>\n",
       "      <td>1.0</td>\n",
       "      <td>Ломоносов</td>\n",
       "      <td>48252.0</td>\n",
       "      <td>51677.0</td>\n",
       "      <td>0.0</td>\n",
       "      <td>NaN</td>\n",
       "      <td>0.0</td>\n",
       "      <td>NaN</td>\n",
       "      <td>7.0</td>\n",
       "    </tr>\n",
       "    <tr>\n",
       "      <th>12</th>\n",
       "      <td>10</td>\n",
       "      <td>3890000.0</td>\n",
       "      <td>54.00</td>\n",
       "      <td>2016-06-30T00:00:00</td>\n",
       "      <td>2</td>\n",
       "      <td>NaN</td>\n",
       "      <td>5.0</td>\n",
       "      <td>30.00</td>\n",
       "      <td>5</td>\n",
       "      <td>NaN</td>\n",
       "      <td>False</td>\n",
       "      <td>False</td>\n",
       "      <td>9.00</td>\n",
       "      <td>0.0</td>\n",
       "      <td>Сертолово</td>\n",
       "      <td>NaN</td>\n",
       "      <td>NaN</td>\n",
       "      <td>0.0</td>\n",
       "      <td>NaN</td>\n",
       "      <td>0.0</td>\n",
       "      <td>NaN</td>\n",
       "      <td>90.0</td>\n",
       "    </tr>\n",
       "    <tr>\n",
       "      <th>13</th>\n",
       "      <td>20</td>\n",
       "      <td>3550000.0</td>\n",
       "      <td>42.80</td>\n",
       "      <td>2017-07-01T00:00:00</td>\n",
       "      <td>2</td>\n",
       "      <td>2.56</td>\n",
       "      <td>5.0</td>\n",
       "      <td>27.00</td>\n",
       "      <td>5</td>\n",
       "      <td>NaN</td>\n",
       "      <td>False</td>\n",
       "      <td>False</td>\n",
       "      <td>5.20</td>\n",
       "      <td>1.0</td>\n",
       "      <td>Петергоф</td>\n",
       "      <td>37868.0</td>\n",
       "      <td>33058.0</td>\n",
       "      <td>1.0</td>\n",
       "      <td>294.0</td>\n",
       "      <td>3.0</td>\n",
       "      <td>298.0</td>\n",
       "      <td>366.0</td>\n",
       "    </tr>\n",
       "    <tr>\n",
       "      <th>14</th>\n",
       "      <td>1</td>\n",
       "      <td>4400000.0</td>\n",
       "      <td>36.00</td>\n",
       "      <td>2016-06-23T00:00:00</td>\n",
       "      <td>1</td>\n",
       "      <td>NaN</td>\n",
       "      <td>6.0</td>\n",
       "      <td>17.00</td>\n",
       "      <td>1</td>\n",
       "      <td>NaN</td>\n",
       "      <td>False</td>\n",
       "      <td>False</td>\n",
       "      <td>8.00</td>\n",
       "      <td>0.0</td>\n",
       "      <td>Пушкин</td>\n",
       "      <td>20782.0</td>\n",
       "      <td>30759.0</td>\n",
       "      <td>0.0</td>\n",
       "      <td>NaN</td>\n",
       "      <td>1.0</td>\n",
       "      <td>96.0</td>\n",
       "      <td>203.0</td>\n",
       "    </tr>\n",
       "    <tr>\n",
       "      <th>15</th>\n",
       "      <td>16</td>\n",
       "      <td>4650000.0</td>\n",
       "      <td>39.00</td>\n",
       "      <td>2017-11-18T00:00:00</td>\n",
       "      <td>1</td>\n",
       "      <td>NaN</td>\n",
       "      <td>14.0</td>\n",
       "      <td>20.50</td>\n",
       "      <td>5</td>\n",
       "      <td>NaN</td>\n",
       "      <td>False</td>\n",
       "      <td>False</td>\n",
       "      <td>7.60</td>\n",
       "      <td>1.0</td>\n",
       "      <td>Санкт-Петербург</td>\n",
       "      <td>12900.0</td>\n",
       "      <td>14259.0</td>\n",
       "      <td>1.0</td>\n",
       "      <td>590.0</td>\n",
       "      <td>1.0</td>\n",
       "      <td>296.0</td>\n",
       "      <td>19.0</td>\n",
       "    </tr>\n",
       "    <tr>\n",
       "      <th>16</th>\n",
       "      <td>11</td>\n",
       "      <td>6700000.0</td>\n",
       "      <td>82.00</td>\n",
       "      <td>2017-11-23T00:00:00</td>\n",
       "      <td>3</td>\n",
       "      <td>3.05</td>\n",
       "      <td>5.0</td>\n",
       "      <td>55.60</td>\n",
       "      <td>1</td>\n",
       "      <td>NaN</td>\n",
       "      <td>False</td>\n",
       "      <td>False</td>\n",
       "      <td>9.00</td>\n",
       "      <td>0.0</td>\n",
       "      <td>Санкт-Петербург</td>\n",
       "      <td>22108.0</td>\n",
       "      <td>10698.0</td>\n",
       "      <td>3.0</td>\n",
       "      <td>420.0</td>\n",
       "      <td>0.0</td>\n",
       "      <td>NaN</td>\n",
       "      <td>397.0</td>\n",
       "    </tr>\n",
       "    <tr>\n",
       "      <th>17</th>\n",
       "      <td>6</td>\n",
       "      <td>4180000.0</td>\n",
       "      <td>36.00</td>\n",
       "      <td>2016-09-09T00:00:00</td>\n",
       "      <td>1</td>\n",
       "      <td>NaN</td>\n",
       "      <td>17.0</td>\n",
       "      <td>16.50</td>\n",
       "      <td>7</td>\n",
       "      <td>NaN</td>\n",
       "      <td>False</td>\n",
       "      <td>False</td>\n",
       "      <td>11.00</td>\n",
       "      <td>1.0</td>\n",
       "      <td>Санкт-Петербург</td>\n",
       "      <td>33564.0</td>\n",
       "      <td>14616.0</td>\n",
       "      <td>0.0</td>\n",
       "      <td>NaN</td>\n",
       "      <td>1.0</td>\n",
       "      <td>859.0</td>\n",
       "      <td>571.0</td>\n",
       "    </tr>\n",
       "    <tr>\n",
       "      <th>18</th>\n",
       "      <td>8</td>\n",
       "      <td>3250000.0</td>\n",
       "      <td>31.00</td>\n",
       "      <td>2017-01-27T00:00:00</td>\n",
       "      <td>1</td>\n",
       "      <td>2.50</td>\n",
       "      <td>5.0</td>\n",
       "      <td>19.40</td>\n",
       "      <td>2</td>\n",
       "      <td>NaN</td>\n",
       "      <td>False</td>\n",
       "      <td>False</td>\n",
       "      <td>5.60</td>\n",
       "      <td>1.0</td>\n",
       "      <td>Санкт-Петербург</td>\n",
       "      <td>44060.0</td>\n",
       "      <td>10842.0</td>\n",
       "      <td>1.0</td>\n",
       "      <td>759.0</td>\n",
       "      <td>0.0</td>\n",
       "      <td>NaN</td>\n",
       "      <td>168.0</td>\n",
       "    </tr>\n",
       "    <tr>\n",
       "      <th>19</th>\n",
       "      <td>16</td>\n",
       "      <td>14200000.0</td>\n",
       "      <td>121.00</td>\n",
       "      <td>2019-01-09T00:00:00</td>\n",
       "      <td>3</td>\n",
       "      <td>2.75</td>\n",
       "      <td>16.0</td>\n",
       "      <td>76.00</td>\n",
       "      <td>8</td>\n",
       "      <td>NaN</td>\n",
       "      <td>False</td>\n",
       "      <td>False</td>\n",
       "      <td>12.00</td>\n",
       "      <td>0.0</td>\n",
       "      <td>Санкт-Петербург</td>\n",
       "      <td>38900.0</td>\n",
       "      <td>12843.0</td>\n",
       "      <td>0.0</td>\n",
       "      <td>NaN</td>\n",
       "      <td>0.0</td>\n",
       "      <td>NaN</td>\n",
       "      <td>97.0</td>\n",
       "    </tr>\n",
       "  </tbody>\n",
       "</table>\n",
       "</div>"
      ],
      "text/plain": [
       "    total_images  last_price  total_area first_day_exposition  rooms  \\\n",
       "0             20  13000000.0      108.00  2019-03-07T00:00:00      3   \n",
       "1              7   3350000.0       40.40  2018-12-04T00:00:00      1   \n",
       "2             10   5196000.0       56.00  2015-08-20T00:00:00      2   \n",
       "3              0  64900000.0      159.00  2015-07-24T00:00:00      3   \n",
       "4              2  10000000.0      100.00  2018-06-19T00:00:00      2   \n",
       "5             10   2890000.0       30.40  2018-09-10T00:00:00      1   \n",
       "6              6   3700000.0       37.30  2017-11-02T00:00:00      1   \n",
       "7              5   7915000.0       71.60  2019-04-18T00:00:00      2   \n",
       "8             20   2900000.0       33.16  2018-05-23T00:00:00      1   \n",
       "9             18   5400000.0       61.00  2017-02-26T00:00:00      3   \n",
       "10             5   5050000.0       39.60  2017-11-16T00:00:00      1   \n",
       "11             9   3300000.0       44.00  2018-08-27T00:00:00      2   \n",
       "12            10   3890000.0       54.00  2016-06-30T00:00:00      2   \n",
       "13            20   3550000.0       42.80  2017-07-01T00:00:00      2   \n",
       "14             1   4400000.0       36.00  2016-06-23T00:00:00      1   \n",
       "15            16   4650000.0       39.00  2017-11-18T00:00:00      1   \n",
       "16            11   6700000.0       82.00  2017-11-23T00:00:00      3   \n",
       "17             6   4180000.0       36.00  2016-09-09T00:00:00      1   \n",
       "18             8   3250000.0       31.00  2017-01-27T00:00:00      1   \n",
       "19            16  14200000.0      121.00  2019-01-09T00:00:00      3   \n",
       "\n",
       "    ceiling_height  floors_total  living_area  floor is_apartment  studio  \\\n",
       "0             2.70          16.0        51.00      8          NaN   False   \n",
       "1              NaN          11.0        18.60      1          NaN   False   \n",
       "2              NaN           5.0        34.30      4          NaN   False   \n",
       "3              NaN          14.0          NaN      9          NaN   False   \n",
       "4             3.03          14.0        32.00     13          NaN   False   \n",
       "5              NaN          12.0        14.40      5          NaN   False   \n",
       "6              NaN          26.0        10.60      6          NaN   False   \n",
       "7              NaN          24.0          NaN     22          NaN   False   \n",
       "8              NaN          27.0        15.43     26          NaN   False   \n",
       "9             2.50           9.0        43.60      7          NaN   False   \n",
       "10            2.67          12.0        20.30      3          NaN   False   \n",
       "11             NaN           5.0        31.00      4        False   False   \n",
       "12             NaN           5.0        30.00      5          NaN   False   \n",
       "13            2.56           5.0        27.00      5          NaN   False   \n",
       "14             NaN           6.0        17.00      1          NaN   False   \n",
       "15             NaN          14.0        20.50      5          NaN   False   \n",
       "16            3.05           5.0        55.60      1          NaN   False   \n",
       "17             NaN          17.0        16.50      7          NaN   False   \n",
       "18            2.50           5.0        19.40      2          NaN   False   \n",
       "19            2.75          16.0        76.00      8          NaN   False   \n",
       "\n",
       "    open_plan  kitchen_area  balcony              locality_name  \\\n",
       "0       False         25.00      0.0            Санкт-Петербург   \n",
       "1       False         11.00      2.0             посёлок Шушары   \n",
       "2       False          8.30      0.0            Санкт-Петербург   \n",
       "3       False           NaN      0.0            Санкт-Петербург   \n",
       "4       False         41.00      0.0            Санкт-Петербург   \n",
       "5       False          9.10      0.0  городской посёлок Янино-1   \n",
       "6       False         14.40      1.0          посёлок Парголово   \n",
       "7       False         18.90      2.0            Санкт-Петербург   \n",
       "8       False          8.81      0.0             посёлок Мурино   \n",
       "9       False          6.50      2.0            Санкт-Петербург   \n",
       "10      False          8.50      0.0            Санкт-Петербург   \n",
       "11      False          6.00      1.0                  Ломоносов   \n",
       "12      False          9.00      0.0                  Сертолово   \n",
       "13      False          5.20      1.0                   Петергоф   \n",
       "14      False          8.00      0.0                     Пушкин   \n",
       "15      False          7.60      1.0            Санкт-Петербург   \n",
       "16      False          9.00      0.0            Санкт-Петербург   \n",
       "17      False         11.00      1.0            Санкт-Петербург   \n",
       "18      False          5.60      1.0            Санкт-Петербург   \n",
       "19      False         12.00      0.0            Санкт-Петербург   \n",
       "\n",
       "    airports_nearest  cityCenters_nearest  parks_around3000  parks_nearest  \\\n",
       "0            18863.0              16028.0               1.0          482.0   \n",
       "1            12817.0              18603.0               0.0            NaN   \n",
       "2            21741.0              13933.0               1.0           90.0   \n",
       "3            28098.0               6800.0               2.0           84.0   \n",
       "4            31856.0               8098.0               2.0          112.0   \n",
       "5                NaN                  NaN               0.0            NaN   \n",
       "6            52996.0              19143.0               0.0            NaN   \n",
       "7            23982.0              11634.0               0.0            NaN   \n",
       "8                NaN                  NaN               0.0            NaN   \n",
       "9            50898.0              15008.0               0.0            NaN   \n",
       "10           38357.0              13878.0               1.0          310.0   \n",
       "11           48252.0              51677.0               0.0            NaN   \n",
       "12               NaN                  NaN               0.0            NaN   \n",
       "13           37868.0              33058.0               1.0          294.0   \n",
       "14           20782.0              30759.0               0.0            NaN   \n",
       "15           12900.0              14259.0               1.0          590.0   \n",
       "16           22108.0              10698.0               3.0          420.0   \n",
       "17           33564.0              14616.0               0.0            NaN   \n",
       "18           44060.0              10842.0               1.0          759.0   \n",
       "19           38900.0              12843.0               0.0            NaN   \n",
       "\n",
       "    ponds_around3000  ponds_nearest  days_exposition  \n",
       "0                2.0          755.0              NaN  \n",
       "1                0.0            NaN             81.0  \n",
       "2                2.0          574.0            558.0  \n",
       "3                3.0          234.0            424.0  \n",
       "4                1.0           48.0            121.0  \n",
       "5                0.0            NaN             55.0  \n",
       "6                0.0            NaN            155.0  \n",
       "7                0.0            NaN              NaN  \n",
       "8                0.0            NaN            189.0  \n",
       "9                0.0            NaN            289.0  \n",
       "10               2.0          553.0            137.0  \n",
       "11               0.0            NaN              7.0  \n",
       "12               0.0            NaN             90.0  \n",
       "13               3.0          298.0            366.0  \n",
       "14               1.0           96.0            203.0  \n",
       "15               1.0          296.0             19.0  \n",
       "16               0.0            NaN            397.0  \n",
       "17               1.0          859.0            571.0  \n",
       "18               0.0            NaN            168.0  \n",
       "19               0.0            NaN             97.0  "
      ]
     },
     "execution_count": 23,
     "metadata": {},
     "output_type": "execute_result"
    }
   ],
   "source": [
    "data.head(20)"
   ]
  },
  {
   "cell_type": "markdown",
   "metadata": {},
   "source": [
    "##### Преобразование типов данных и переименование столбцов"
   ]
  },
  {
   "cell_type": "markdown",
   "metadata": {},
   "source": [
    "###### Переименование столбцов"
   ]
  },
  {
   "cell_type": "code",
   "execution_count": 24,
   "metadata": {},
   "outputs": [],
   "source": [
    "data = data.rename(columns={'cityCenters_nearest': 'city_centers_nearest', \n",
    "                            'parks_around3000': 'parks_around_3000', \n",
    "                            'ponds_around3000': 'ponds_around_3000'})"
   ]
  },
  {
   "cell_type": "markdown",
   "metadata": {},
   "source": [
    "###### Преобразование типов"
   ]
  },
  {
   "cell_type": "markdown",
   "metadata": {},
   "source": [
    "Преобразуем типы данных в столбцах без пропусков (в столбцах с пропусками перед преобразованием нужно заменять/удалять пропуски или вводить условные обозначения, что усложнило бы работу).\n",
    "\n",
    "# Проверка last\n",
    "columns_to_check = ['last_price', 'floors_total', \n",
    "                    'balcony', 'airports_nearest', \n",
    "                    'city_centers_nearest', 'parks_around_3000', 'parks_nearest', \n",
    "                    'ponds_around_3000', 'ponds_nearest', 'days_exposition']\n"
   ]
  },
  {
   "cell_type": "code",
   "execution_count": 25,
   "metadata": {},
   "outputs": [
    {
     "data": {
      "text/plain": [
       "'Кол-во дробных значений: 0'"
      ]
     },
     "metadata": {},
     "output_type": "display_data"
    },
    {
     "data": {
      "text/plain": [
       "'Новый тип данных: int64'"
      ]
     },
     "execution_count": 25,
     "metadata": {},
     "output_type": "execute_result"
    }
   ],
   "source": [
    "#Проверка Last_price\n",
    "last_price_check = data['last_price'] == data['last_price'].astype(int)\n",
    "last_price_delta = last_price_check.sum() - data[\"last_price\"].count()\n",
    "\n",
    "if last_price_delta == 0:\n",
    "    data['last_price'] = data['last_price'].astype(int)\n",
    "\n",
    "display(f'Кол-во дробных значений: {last_price_delta}')\n",
    "f'Новый тип данных: {data[\"last_price\"].dtype}'"
   ]
  },
  {
   "cell_type": "code",
   "execution_count": null,
   "metadata": {},
   "outputs": [],
   "source": []
  },
  {
   "cell_type": "code",
   "execution_count": null,
   "metadata": {},
   "outputs": [],
   "source": []
  },
  {
   "cell_type": "markdown",
   "metadata": {},
   "source": [
    "почему"
   ]
  },
  {
   "cell_type": "markdown",
   "metadata": {},
   "source": [
    "#### Анализ дубликатов"
   ]
  },
  {
   "cell_type": "markdown",
   "metadata": {},
   "source": [
    "##### Проверка данных на явные дубликаты."
   ]
  },
  {
   "cell_type": "code",
   "execution_count": 26,
   "metadata": {},
   "outputs": [
    {
     "data": {
      "text/plain": [
       "0"
      ]
     },
     "execution_count": 26,
     "metadata": {},
     "output_type": "execute_result"
    }
   ],
   "source": [
    "data.duplicated().sum()"
   ]
  },
  {
   "cell_type": "markdown",
   "metadata": {},
   "source": [
    "##### Проверка данных на неявные дубликаты"
   ]
  },
  {
   "cell_type": "markdown",
   "metadata": {},
   "source": [
    "#### Проверка на аномальные значения"
   ]
  },
  {
   "cell_type": "markdown",
   "metadata": {},
   "source": [
    "### Посчитайте и добавьте в таблицу новые столбцы"
   ]
  },
  {
   "cell_type": "code",
   "execution_count": null,
   "metadata": {},
   "outputs": [],
   "source": []
  },
  {
   "cell_type": "markdown",
   "metadata": {},
   "source": [
    "### Проведите исследовательский анализ данных"
   ]
  },
  {
   "cell_type": "code",
   "execution_count": null,
   "metadata": {},
   "outputs": [],
   "source": []
  },
  {
   "cell_type": "markdown",
   "metadata": {},
   "source": [
    "### Общий вывод"
   ]
  },
  {
   "cell_type": "markdown",
   "metadata": {},
   "source": []
  },
  {
   "cell_type": "markdown",
   "metadata": {},
   "source": [
    "**Чек-лист готовности проекта**\n",
    "\n",
    "Поставьте 'x' в выполненных пунктах. Далее нажмите Shift+Enter."
   ]
  },
  {
   "cell_type": "markdown",
   "metadata": {},
   "source": [
    "- [x]  открыт файл\n",
    "- [ ]  файлы изучены (выведены первые строки, метод `info()`, гистограммы и т.д.)\n",
    "- [ ]  определены пропущенные значения\n",
    "- [ ]  заполнены пропущенные значения там, где это возможно\n",
    "- [ ]  есть пояснение, какие пропущенные значения обнаружены\n",
    "- [ ]  изменены типы данных\n",
    "- [ ]  есть пояснение, в каких столбцах изменены типы и почему\n",
    "- [ ]  устранены неявные дубликаты в названиях населённых пунктов\n",
    "- [ ]  устранены редкие и выбивающиеся значения (аномалии) во всех столбцах\n",
    "- [ ]  посчитано и добавлено в таблицу: цена одного квадратного метра\n",
    "- [ ]  посчитано и добавлено в таблицу: день публикации объявления (0 - понедельник, 1 - вторник и т.д.)\n",
    "- [ ]  посчитано и добавлено в таблицу: месяц публикации объявления\n",
    "- [ ]  посчитано и добавлено в таблицу: год публикации объявления\n",
    "- [ ]  посчитано и добавлено в таблицу: тип этажа квартиры (значения — «первый», «последний», «другой»)\n",
    "- [ ]  посчитано и добавлено в таблицу: расстояние в км до центра города\n",
    "- [ ]  изучены и описаны следующие параметры:\n",
    "        - общая площадь;\n",
    "        - жилая площадь;\n",
    "        - площадь кухни;\n",
    "        - цена объекта;\n",
    "        - количество комнат;\n",
    "        - высота потолков;\n",
    "        - этаж квартиры;\n",
    "        - тип этажа квартиры («первый», «последний», «другой»);\n",
    "        - общее количество этажей в доме;\n",
    "        - расстояние до центра города в метрах;\n",
    "        - расстояние до ближайшего аэропорта;\n",
    "        - расстояние до ближайшего парка;\n",
    "        - день и месяц публикации объявления\n",
    "- [ ]  построены гистограммы для каждого параметра\n",
    "- [ ]  выполнено задание: \"Изучите, как быстро продавались квартиры (столбец days_exposition). Этот параметр показывает, сколько дней «висело» каждое объявление.\n",
    "    - Постройте гистограмму.\n",
    "    - Посчитайте среднее и медиану.\n",
    "    - В ячейке типа markdown опишите, сколько обычно занимает продажа. Какие продажи можно считать быстрыми, а какие — необычно долгими?\"\n",
    "- [ ]  выполнено задание: \"Какие факторы больше всего влияют на общую (полную) стоимость объекта? Постройте графики, которые покажут зависимость цены от указанных ниже параметров. Для подготовки данных перед визуализацией вы можете использовать сводные таблицы.\"\n",
    "        - общей площади;\n",
    "        - жилой площади;\n",
    "        - площади кухни;\n",
    "        - количество комнат;\n",
    "        - типа этажа, на котором расположена квартира (первый, последний, другой);\n",
    "        - даты размещения (день недели, месяц, год);\n",
    "- [ ]  выполнено задание: \"Посчитайте среднюю цену одного квадратного метра в 10 населённых пунктах с наибольшим числом объявлений. Выделите населённые пункты с самой высокой и низкой стоимостью квадратного метра. Эти данные можно найти по имени в столбце `locality_name`.\"\n",
    "- [ ]  выполнено задание: \"Ранее вы посчитали расстояние до центра в километрах. Теперь выделите квартиры в Санкт-Петербурге с помощью столбца `locality_name` и вычислите среднюю цену каждого километра. Опишите, как стоимость объектов зависит от расстояния до центра города.\"\n",
    "- [ ]  в каждом этапе есть промежуточные выводы\n",
    "- [ ]  есть общий вывод"
   ]
  }
 ],
 "metadata": {
  "ExecuteTimeLog": [
   {
    "duration": 482,
    "start_time": "2023-03-17T11:08:40.489Z"
   },
   {
    "duration": 315,
    "start_time": "2023-03-17T11:08:57.767Z"
   },
   {
    "duration": 108,
    "start_time": "2023-03-17T11:16:58.007Z"
   },
   {
    "duration": 93,
    "start_time": "2023-03-17T11:46:58.489Z"
   },
   {
    "duration": 90,
    "start_time": "2023-03-17T11:47:02.689Z"
   },
   {
    "duration": 95,
    "start_time": "2023-03-17T11:47:35.931Z"
   },
   {
    "duration": 78,
    "start_time": "2023-03-17T11:47:40.699Z"
   },
   {
    "duration": 83,
    "start_time": "2023-03-17T11:47:49.897Z"
   },
   {
    "duration": 80,
    "start_time": "2023-03-17T11:48:03.928Z"
   },
   {
    "duration": 104,
    "start_time": "2023-03-17T11:48:27.523Z"
   },
   {
    "duration": 91,
    "start_time": "2023-03-17T11:48:33.837Z"
   },
   {
    "duration": 161,
    "start_time": "2023-03-17T11:50:26.859Z"
   },
   {
    "duration": 86,
    "start_time": "2023-03-17T11:51:50.773Z"
   },
   {
    "duration": 49,
    "start_time": "2023-03-17T11:52:27.262Z"
   },
   {
    "duration": 9,
    "start_time": "2023-03-17T11:53:12.483Z"
   },
   {
    "duration": 4,
    "start_time": "2023-03-17T11:53:17.081Z"
   },
   {
    "duration": 84,
    "start_time": "2023-03-17T11:55:45.624Z"
   },
   {
    "duration": 70,
    "start_time": "2023-03-17T11:55:51.655Z"
   },
   {
    "duration": 130,
    "start_time": "2023-03-17T11:55:54.573Z"
   },
   {
    "duration": 148,
    "start_time": "2023-03-17T11:57:01.549Z"
   },
   {
    "duration": 67,
    "start_time": "2023-03-17T11:57:22.344Z"
   },
   {
    "duration": 132,
    "start_time": "2023-03-17T11:57:32.509Z"
   },
   {
    "duration": 126,
    "start_time": "2023-03-17T11:58:51.389Z"
   },
   {
    "duration": 135,
    "start_time": "2023-03-17T11:59:06.447Z"
   },
   {
    "duration": 144,
    "start_time": "2023-03-17T11:59:34.222Z"
   },
   {
    "duration": 38,
    "start_time": "2023-03-17T12:01:07.591Z"
   },
   {
    "duration": 108,
    "start_time": "2023-03-17T12:01:14.856Z"
   },
   {
    "duration": 41,
    "start_time": "2023-03-17T12:02:27.564Z"
   },
   {
    "duration": 109,
    "start_time": "2023-03-17T12:04:26.252Z"
   },
   {
    "duration": 121,
    "start_time": "2023-03-17T12:04:37.997Z"
   },
   {
    "duration": 10,
    "start_time": "2023-03-17T12:06:54.765Z"
   },
   {
    "duration": 114,
    "start_time": "2023-03-17T12:08:51.958Z"
   },
   {
    "duration": 108,
    "start_time": "2023-03-17T12:09:58.221Z"
   },
   {
    "duration": 78,
    "start_time": "2023-03-17T12:11:50.196Z"
   },
   {
    "duration": 274,
    "start_time": "2023-03-17T12:11:54.687Z"
   },
   {
    "duration": 41,
    "start_time": "2023-03-17T12:11:58.363Z"
   },
   {
    "duration": 56,
    "start_time": "2023-03-17T12:14:24.898Z"
   },
   {
    "duration": 3,
    "start_time": "2023-03-17T12:15:07.693Z"
   },
   {
    "duration": 38,
    "start_time": "2023-03-17T12:16:01.758Z"
   },
   {
    "duration": 19,
    "start_time": "2023-03-17T12:16:53.133Z"
   },
   {
    "duration": 18,
    "start_time": "2023-03-17T12:18:22.771Z"
   },
   {
    "duration": 17,
    "start_time": "2023-03-17T12:18:42.930Z"
   },
   {
    "duration": 15,
    "start_time": "2023-03-17T12:18:48.624Z"
   },
   {
    "duration": 16,
    "start_time": "2023-03-17T12:19:02.955Z"
   },
   {
    "duration": 20,
    "start_time": "2023-03-17T12:19:08.372Z"
   },
   {
    "duration": 2560,
    "start_time": "2023-03-17T12:22:06.399Z"
   },
   {
    "duration": 2501,
    "start_time": "2023-03-17T12:31:19.645Z"
   },
   {
    "duration": 2028,
    "start_time": "2023-03-17T12:31:36.801Z"
   },
   {
    "duration": 215,
    "start_time": "2023-03-17T12:34:49.349Z"
   },
   {
    "duration": 91,
    "start_time": "2023-03-17T12:36:05.496Z"
   },
   {
    "duration": 101,
    "start_time": "2023-03-17T12:36:11.704Z"
   },
   {
    "duration": 96,
    "start_time": "2023-03-17T12:36:13.769Z"
   },
   {
    "duration": 8,
    "start_time": "2023-03-17T12:36:38.452Z"
   },
   {
    "duration": 12,
    "start_time": "2023-03-17T12:37:00.123Z"
   },
   {
    "duration": 5,
    "start_time": "2023-03-17T12:37:37.318Z"
   },
   {
    "duration": 6,
    "start_time": "2023-03-17T12:37:46.801Z"
   },
   {
    "duration": 5,
    "start_time": "2023-03-17T12:38:22.079Z"
   },
   {
    "duration": 5,
    "start_time": "2023-03-17T12:38:28.557Z"
   },
   {
    "duration": 6,
    "start_time": "2023-03-17T12:38:48.924Z"
   },
   {
    "duration": 279,
    "start_time": "2023-03-17T12:39:00.899Z"
   },
   {
    "duration": 9,
    "start_time": "2023-03-17T12:39:10.536Z"
   },
   {
    "duration": 6,
    "start_time": "2023-03-17T12:39:25.686Z"
   },
   {
    "duration": 6,
    "start_time": "2023-03-17T12:39:35.167Z"
   },
   {
    "duration": 5,
    "start_time": "2023-03-17T12:39:42.184Z"
   },
   {
    "duration": 2137,
    "start_time": "2023-03-17T12:40:00.394Z"
   },
   {
    "duration": 5,
    "start_time": "2023-03-17T12:41:32.423Z"
   },
   {
    "duration": 11,
    "start_time": "2023-03-17T12:43:57.999Z"
   },
   {
    "duration": 7,
    "start_time": "2023-03-17T12:48:12.116Z"
   },
   {
    "duration": 79,
    "start_time": "2023-03-17T12:52:55.664Z"
   },
   {
    "duration": 2,
    "start_time": "2023-03-17T12:56:26.994Z"
   },
   {
    "duration": 7,
    "start_time": "2023-03-17T12:59:35.167Z"
   },
   {
    "duration": 19,
    "start_time": "2023-03-17T12:59:46.290Z"
   },
   {
    "duration": 7,
    "start_time": "2023-03-17T12:59:53.874Z"
   },
   {
    "duration": 4,
    "start_time": "2023-03-17T12:59:57.776Z"
   },
   {
    "duration": 29,
    "start_time": "2023-03-17T13:00:27.139Z"
   },
   {
    "duration": 11,
    "start_time": "2023-03-17T13:00:40.732Z"
   },
   {
    "duration": 42,
    "start_time": "2023-03-17T13:01:00.963Z"
   },
   {
    "duration": 47,
    "start_time": "2023-03-17T13:13:05.324Z"
   },
   {
    "duration": 48,
    "start_time": "2023-03-17T13:13:42.326Z"
   },
   {
    "duration": 53,
    "start_time": "2023-03-17T13:14:16.764Z"
   },
   {
    "duration": 59,
    "start_time": "2023-03-17T13:24:41.287Z"
   },
   {
    "duration": 91,
    "start_time": "2023-03-17T13:30:26.123Z"
   },
   {
    "duration": 70,
    "start_time": "2023-03-17T13:31:15.268Z"
   },
   {
    "duration": 69,
    "start_time": "2023-03-17T13:31:22.502Z"
   },
   {
    "duration": 56,
    "start_time": "2023-03-17T13:31:26.558Z"
   },
   {
    "duration": 61,
    "start_time": "2023-03-17T13:31:31.050Z"
   },
   {
    "duration": 59,
    "start_time": "2023-03-17T13:32:19.570Z"
   },
   {
    "duration": 72,
    "start_time": "2023-03-17T13:32:37.681Z"
   },
   {
    "duration": 4,
    "start_time": "2023-03-17T13:36:51.869Z"
   },
   {
    "duration": 80,
    "start_time": "2023-03-17T13:37:31.959Z"
   },
   {
    "duration": 66,
    "start_time": "2023-03-17T13:37:35.783Z"
   },
   {
    "duration": 65,
    "start_time": "2023-03-17T13:38:33.194Z"
   },
   {
    "duration": 17,
    "start_time": "2023-03-17T13:38:56.293Z"
   },
   {
    "duration": 32,
    "start_time": "2023-03-17T13:39:07.068Z"
   },
   {
    "duration": 26,
    "start_time": "2023-03-17T13:40:34.572Z"
   },
   {
    "duration": 94,
    "start_time": "2023-03-17T13:40:48.892Z"
   },
   {
    "duration": 36,
    "start_time": "2023-03-17T13:40:55.202Z"
   },
   {
    "duration": 30,
    "start_time": "2023-03-17T13:41:09.959Z"
   },
   {
    "duration": 30,
    "start_time": "2023-03-17T13:41:20.647Z"
   },
   {
    "duration": 38,
    "start_time": "2023-03-17T13:42:02.406Z"
   },
   {
    "duration": 33,
    "start_time": "2023-03-17T13:43:39.327Z"
   },
   {
    "duration": 31,
    "start_time": "2023-03-17T13:43:57.254Z"
   },
   {
    "duration": 34,
    "start_time": "2023-03-17T13:44:23.253Z"
   },
   {
    "duration": 48,
    "start_time": "2023-03-17T13:44:37.106Z"
   },
   {
    "duration": 36,
    "start_time": "2023-03-17T13:45:10.215Z"
   },
   {
    "duration": 27,
    "start_time": "2023-03-17T13:45:19.696Z"
   },
   {
    "duration": 40,
    "start_time": "2023-03-17T13:45:32.502Z"
   },
   {
    "duration": 16,
    "start_time": "2023-03-17T13:45:50.706Z"
   },
   {
    "duration": 11,
    "start_time": "2023-03-17T13:51:31.590Z"
   },
   {
    "duration": 25,
    "start_time": "2023-03-17T13:52:17.864Z"
   },
   {
    "duration": 33,
    "start_time": "2023-03-17T13:52:25.698Z"
   },
   {
    "duration": 12,
    "start_time": "2023-03-17T13:59:19.483Z"
   },
   {
    "duration": 146,
    "start_time": "2023-03-17T14:00:01.550Z"
   },
   {
    "duration": 216,
    "start_time": "2023-03-17T14:00:50.672Z"
   },
   {
    "duration": 26,
    "start_time": "2023-03-17T14:08:59.737Z"
   },
   {
    "duration": 154,
    "start_time": "2023-03-19T06:53:21.462Z"
   },
   {
    "duration": 1097,
    "start_time": "2023-03-19T06:53:29.598Z"
   },
   {
    "duration": 50,
    "start_time": "2023-03-19T06:53:30.698Z"
   },
   {
    "duration": 17,
    "start_time": "2023-03-19T06:53:30.749Z"
   },
   {
    "duration": 2807,
    "start_time": "2023-03-19T06:53:30.768Z"
   },
   {
    "duration": 32,
    "start_time": "2023-03-19T06:53:33.577Z"
   },
   {
    "duration": 11,
    "start_time": "2023-03-19T06:53:33.611Z"
   },
   {
    "duration": 73,
    "start_time": "2023-03-19T06:53:33.624Z"
   },
   {
    "duration": 1691,
    "start_time": "2023-03-19T06:54:14.172Z"
   },
   {
    "duration": 1491,
    "start_time": "2023-03-19T06:56:10.415Z"
   },
   {
    "duration": 32113,
    "start_time": "2023-03-19T06:56:25.939Z"
   },
   {
    "duration": 7118,
    "start_time": "2023-03-19T06:57:05.612Z"
   },
   {
    "duration": 6201,
    "start_time": "2023-03-19T06:58:06.689Z"
   },
   {
    "duration": 187,
    "start_time": "2023-03-19T06:58:45.835Z"
   },
   {
    "duration": 164,
    "start_time": "2023-03-19T06:59:09.169Z"
   },
   {
    "duration": 208,
    "start_time": "2023-03-19T06:59:53.728Z"
   },
   {
    "duration": 166,
    "start_time": "2023-03-19T07:00:31.259Z"
   },
   {
    "duration": 206,
    "start_time": "2023-03-19T07:02:38.966Z"
   },
   {
    "duration": 199,
    "start_time": "2023-03-19T07:02:54.610Z"
   },
   {
    "duration": 48,
    "start_time": "2023-03-19T07:04:25.351Z"
   },
   {
    "duration": 1514,
    "start_time": "2023-03-19T07:04:34.539Z"
   },
   {
    "duration": 71,
    "start_time": "2023-03-19T07:04:58.697Z"
   },
   {
    "duration": 115,
    "start_time": "2023-03-19T07:05:05.324Z"
   },
   {
    "duration": 1338,
    "start_time": "2023-03-19T07:05:08.653Z"
   },
   {
    "duration": 233,
    "start_time": "2023-03-19T07:05:45.210Z"
   },
   {
    "duration": 497,
    "start_time": "2023-03-19T07:05:56.096Z"
   },
   {
    "duration": 544,
    "start_time": "2023-03-19T07:06:36.816Z"
   },
   {
    "duration": 218,
    "start_time": "2023-03-19T07:07:11.032Z"
   },
   {
    "duration": 176,
    "start_time": "2023-03-19T07:07:20.660Z"
   },
   {
    "duration": 215,
    "start_time": "2023-03-19T07:08:12.909Z"
   },
   {
    "duration": 1992,
    "start_time": "2023-03-19T07:08:22.681Z"
   },
   {
    "duration": 246,
    "start_time": "2023-03-19T07:09:08.605Z"
   },
   {
    "duration": 251,
    "start_time": "2023-03-19T07:10:22.511Z"
   },
   {
    "duration": 18,
    "start_time": "2023-03-19T07:10:38.442Z"
   },
   {
    "duration": 58,
    "start_time": "2023-03-19T07:11:11.261Z"
   },
   {
    "duration": 57,
    "start_time": "2023-03-19T07:12:11.704Z"
   },
   {
    "duration": 56,
    "start_time": "2023-03-19T07:15:39.515Z"
   },
   {
    "duration": 10,
    "start_time": "2023-03-19T07:16:08.122Z"
   },
   {
    "duration": 6,
    "start_time": "2023-03-19T07:26:54.249Z"
   },
   {
    "duration": 44,
    "start_time": "2023-03-19T07:27:15.376Z"
   },
   {
    "duration": 63,
    "start_time": "2023-03-19T07:29:54.280Z"
   },
   {
    "duration": 63,
    "start_time": "2023-03-19T07:36:32.563Z"
   },
   {
    "duration": 501,
    "start_time": "2023-03-19T07:37:29.995Z"
   },
   {
    "duration": 49,
    "start_time": "2023-03-19T07:37:30.499Z"
   },
   {
    "duration": 47,
    "start_time": "2023-03-19T07:37:30.550Z"
   },
   {
    "duration": 2592,
    "start_time": "2023-03-19T07:37:30.599Z"
   },
   {
    "duration": 26,
    "start_time": "2023-03-19T07:37:33.194Z"
   },
   {
    "duration": 10,
    "start_time": "2023-03-19T07:37:33.222Z"
   },
   {
    "duration": 10,
    "start_time": "2023-03-19T07:37:33.234Z"
   },
   {
    "duration": 56,
    "start_time": "2023-03-19T07:37:33.246Z"
   },
   {
    "duration": 42,
    "start_time": "2023-03-19T07:37:33.304Z"
   },
   {
    "duration": 87,
    "start_time": "2023-03-19T07:42:28.676Z"
   },
   {
    "duration": 46,
    "start_time": "2023-03-19T07:42:37.665Z"
   },
   {
    "duration": 43,
    "start_time": "2023-03-19T07:42:43.010Z"
   },
   {
    "duration": 38,
    "start_time": "2023-03-19T07:43:13.700Z"
   },
   {
    "duration": 315,
    "start_time": "2023-03-19T07:46:13.370Z"
   },
   {
    "duration": 25,
    "start_time": "2023-03-19T07:46:51.361Z"
   },
   {
    "duration": 5,
    "start_time": "2023-03-19T07:47:25.214Z"
   },
   {
    "duration": 37,
    "start_time": "2023-03-19T07:47:33.138Z"
   },
   {
    "duration": 4,
    "start_time": "2023-03-19T07:52:03.999Z"
   },
   {
    "duration": 26,
    "start_time": "2023-03-19T07:52:07.174Z"
   },
   {
    "duration": 11,
    "start_time": "2023-03-19T07:52:08.851Z"
   },
   {
    "duration": 9,
    "start_time": "2023-03-19T07:52:15.660Z"
   },
   {
    "duration": 40,
    "start_time": "2023-03-19T07:52:21.234Z"
   },
   {
    "duration": 39,
    "start_time": "2023-03-19T07:52:25.135Z"
   },
   {
    "duration": 9,
    "start_time": "2023-03-19T07:53:24.096Z"
   },
   {
    "duration": 43,
    "start_time": "2023-03-19T07:56:28.373Z"
   },
   {
    "duration": 54,
    "start_time": "2023-03-19T08:11:20.074Z"
   },
   {
    "duration": 22,
    "start_time": "2023-03-19T08:13:10.763Z"
   },
   {
    "duration": 46,
    "start_time": "2023-03-19T08:13:31.654Z"
   },
   {
    "duration": 39,
    "start_time": "2023-03-19T08:15:28.328Z"
   },
   {
    "duration": 38,
    "start_time": "2023-03-19T08:15:33.644Z"
   },
   {
    "duration": 33,
    "start_time": "2023-03-19T08:25:54.304Z"
   },
   {
    "duration": 6,
    "start_time": "2023-03-19T08:26:13.244Z"
   },
   {
    "duration": 7,
    "start_time": "2023-03-19T08:36:06.063Z"
   },
   {
    "duration": 7,
    "start_time": "2023-03-19T08:36:27.776Z"
   },
   {
    "duration": 6,
    "start_time": "2023-03-19T08:36:47.492Z"
   },
   {
    "duration": 6,
    "start_time": "2023-03-19T08:37:15.531Z"
   },
   {
    "duration": 6,
    "start_time": "2023-03-19T08:37:46.946Z"
   },
   {
    "duration": 6,
    "start_time": "2023-03-19T08:38:01.716Z"
   },
   {
    "duration": 4,
    "start_time": "2023-03-19T08:41:13.250Z"
   },
   {
    "duration": 25,
    "start_time": "2023-03-19T08:42:34.719Z"
   },
   {
    "duration": 4,
    "start_time": "2023-03-19T08:47:40.594Z"
   },
   {
    "duration": 2,
    "start_time": "2023-03-19T08:49:03.031Z"
   },
   {
    "duration": 22,
    "start_time": "2023-03-19T08:51:12.188Z"
   },
   {
    "duration": 5,
    "start_time": "2023-03-19T08:52:14.458Z"
   },
   {
    "duration": 4,
    "start_time": "2023-03-19T08:52:27.520Z"
   },
   {
    "duration": 4,
    "start_time": "2023-03-19T08:53:54.313Z"
   },
   {
    "duration": 6,
    "start_time": "2023-03-19T09:04:54.346Z"
   },
   {
    "duration": 31,
    "start_time": "2023-03-19T09:06:18.406Z"
   },
   {
    "duration": 67,
    "start_time": "2023-03-19T09:18:51.097Z"
   },
   {
    "duration": 46,
    "start_time": "2023-03-19T09:19:11.440Z"
   },
   {
    "duration": 7,
    "start_time": "2023-03-19T09:23:29.792Z"
   },
   {
    "duration": 574,
    "start_time": "2023-03-19T09:24:22.049Z"
   },
   {
    "duration": 61,
    "start_time": "2023-03-19T09:24:22.626Z"
   },
   {
    "duration": 25,
    "start_time": "2023-03-19T09:24:22.689Z"
   },
   {
    "duration": 2585,
    "start_time": "2023-03-19T09:24:22.718Z"
   },
   {
    "duration": 9,
    "start_time": "2023-03-19T09:24:25.306Z"
   },
   {
    "duration": 20,
    "start_time": "2023-03-19T09:24:25.317Z"
   },
   {
    "duration": 60,
    "start_time": "2023-03-19T09:24:25.338Z"
   },
   {
    "duration": 31,
    "start_time": "2023-03-19T09:24:25.402Z"
   },
   {
    "duration": 5,
    "start_time": "2023-03-19T09:24:25.435Z"
   },
   {
    "duration": 113,
    "start_time": "2023-03-19T09:24:25.442Z"
   },
   {
    "duration": 0,
    "start_time": "2023-03-19T09:24:25.557Z"
   },
   {
    "duration": 0,
    "start_time": "2023-03-19T09:24:25.559Z"
   },
   {
    "duration": 13,
    "start_time": "2023-03-19T09:25:15.868Z"
   },
   {
    "duration": 8,
    "start_time": "2023-03-19T09:26:19.300Z"
   },
   {
    "duration": 10,
    "start_time": "2023-03-19T09:27:54.161Z"
   },
   {
    "duration": 18,
    "start_time": "2023-03-19T09:27:58.861Z"
   },
   {
    "duration": 17,
    "start_time": "2023-03-19T09:28:06.195Z"
   },
   {
    "duration": 18,
    "start_time": "2023-03-19T09:28:52.289Z"
   },
   {
    "duration": 16,
    "start_time": "2023-03-19T09:29:04.812Z"
   },
   {
    "duration": 44,
    "start_time": "2023-03-19T09:35:39.665Z"
   },
   {
    "duration": 38,
    "start_time": "2023-03-19T09:35:51.006Z"
   },
   {
    "duration": 13,
    "start_time": "2023-03-19T09:49:02.168Z"
   },
   {
    "duration": 11,
    "start_time": "2023-03-19T09:49:17.356Z"
   },
   {
    "duration": 17,
    "start_time": "2023-03-19T09:49:49.393Z"
   },
   {
    "duration": 10,
    "start_time": "2023-03-19T09:49:58.852Z"
   },
   {
    "duration": 19,
    "start_time": "2023-03-19T09:50:08.173Z"
   },
   {
    "duration": 16,
    "start_time": "2023-03-19T09:50:30.426Z"
   },
   {
    "duration": 29,
    "start_time": "2023-03-19T09:50:48.696Z"
   },
   {
    "duration": 17,
    "start_time": "2023-03-19T09:51:01.446Z"
   },
   {
    "duration": 9,
    "start_time": "2023-03-19T09:51:16.136Z"
   },
   {
    "duration": 9,
    "start_time": "2023-03-19T09:51:30.417Z"
   },
   {
    "duration": 10,
    "start_time": "2023-03-19T09:51:45.767Z"
   },
   {
    "duration": 27,
    "start_time": "2023-03-19T09:53:48.029Z"
   },
   {
    "duration": 35,
    "start_time": "2023-03-19T09:53:59.889Z"
   },
   {
    "duration": 28,
    "start_time": "2023-03-19T09:54:16.107Z"
   },
   {
    "duration": 17,
    "start_time": "2023-03-19T09:54:48.444Z"
   },
   {
    "duration": 28,
    "start_time": "2023-03-19T09:55:01.906Z"
   },
   {
    "duration": 17,
    "start_time": "2023-03-19T09:55:14.702Z"
   },
   {
    "duration": 8,
    "start_time": "2023-03-19T09:55:21.844Z"
   },
   {
    "duration": 32,
    "start_time": "2023-03-19T09:55:32.616Z"
   },
   {
    "duration": 23,
    "start_time": "2023-03-19T10:00:32.868Z"
   },
   {
    "duration": 16,
    "start_time": "2023-03-19T10:03:59.102Z"
   },
   {
    "duration": 16,
    "start_time": "2023-03-19T10:04:20.111Z"
   },
   {
    "duration": 14,
    "start_time": "2023-03-19T10:05:53.137Z"
   },
   {
    "duration": 70,
    "start_time": "2023-03-19T10:08:47.561Z"
   },
   {
    "duration": 66,
    "start_time": "2023-03-19T10:09:03.984Z"
   },
   {
    "duration": 669,
    "start_time": "2023-03-19T10:09:22.116Z"
   },
   {
    "duration": 64,
    "start_time": "2023-03-19T10:09:31.575Z"
   },
   {
    "duration": 85,
    "start_time": "2023-03-19T10:12:20.040Z"
   },
   {
    "duration": 84,
    "start_time": "2023-03-19T10:14:31.861Z"
   },
   {
    "duration": 277,
    "start_time": "2023-03-19T10:14:50.210Z"
   },
   {
    "duration": 363,
    "start_time": "2023-03-19T10:16:31.090Z"
   },
   {
    "duration": 374,
    "start_time": "2023-03-19T10:16:46.754Z"
   },
   {
    "duration": 1173,
    "start_time": "2023-03-19T10:20:36.296Z"
   },
   {
    "duration": 201,
    "start_time": "2023-03-19T10:21:00.252Z"
   },
   {
    "duration": 519,
    "start_time": "2023-03-19T10:21:20.113Z"
   },
   {
    "duration": 52,
    "start_time": "2023-03-19T10:21:20.635Z"
   },
   {
    "duration": 17,
    "start_time": "2023-03-19T10:21:20.692Z"
   },
   {
    "duration": 2577,
    "start_time": "2023-03-19T10:21:20.711Z"
   },
   {
    "duration": 11,
    "start_time": "2023-03-19T10:21:23.290Z"
   },
   {
    "duration": 11,
    "start_time": "2023-03-19T10:21:23.303Z"
   },
   {
    "duration": 39,
    "start_time": "2023-03-19T10:21:23.316Z"
   },
   {
    "duration": 57,
    "start_time": "2023-03-19T10:21:23.357Z"
   },
   {
    "duration": 6,
    "start_time": "2023-03-19T10:21:23.416Z"
   },
   {
    "duration": 64,
    "start_time": "2023-03-19T10:21:23.423Z"
   },
   {
    "duration": 221,
    "start_time": "2023-03-19T10:21:23.489Z"
   },
   {
    "duration": 3,
    "start_time": "2023-03-19T10:21:23.712Z"
   },
   {
    "duration": 33,
    "start_time": "2023-03-19T10:21:23.718Z"
   },
   {
    "duration": 198,
    "start_time": "2023-03-19T10:21:50.444Z"
   },
   {
    "duration": 9,
    "start_time": "2023-03-19T10:21:57.630Z"
   },
   {
    "duration": 512,
    "start_time": "2023-03-19T10:22:03.546Z"
   },
   {
    "duration": 54,
    "start_time": "2023-03-19T10:22:04.060Z"
   },
   {
    "duration": 23,
    "start_time": "2023-03-19T10:22:04.115Z"
   },
   {
    "duration": 2623,
    "start_time": "2023-03-19T10:22:04.140Z"
   },
   {
    "duration": 19,
    "start_time": "2023-03-19T10:22:06.767Z"
   },
   {
    "duration": 12,
    "start_time": "2023-03-19T10:22:06.791Z"
   },
   {
    "duration": 54,
    "start_time": "2023-03-19T10:22:06.805Z"
   },
   {
    "duration": 44,
    "start_time": "2023-03-19T10:22:06.863Z"
   },
   {
    "duration": 5,
    "start_time": "2023-03-19T10:22:06.909Z"
   },
   {
    "duration": 38,
    "start_time": "2023-03-19T10:22:06.916Z"
   },
   {
    "duration": 31,
    "start_time": "2023-03-19T10:22:06.956Z"
   },
   {
    "duration": 24,
    "start_time": "2023-03-19T10:22:06.991Z"
   },
   {
    "duration": 37,
    "start_time": "2023-03-19T10:22:07.017Z"
   },
   {
    "duration": 82,
    "start_time": "2023-03-19T10:22:19.692Z"
   },
   {
    "duration": 9,
    "start_time": "2023-03-19T10:22:31.817Z"
   },
   {
    "duration": 16,
    "start_time": "2023-03-19T10:22:54.032Z"
   },
   {
    "duration": 575,
    "start_time": "2023-03-19T10:23:06.899Z"
   },
   {
    "duration": 6,
    "start_time": "2023-03-19T10:28:04.501Z"
   },
   {
    "duration": 10,
    "start_time": "2023-03-19T10:28:37.489Z"
   },
   {
    "duration": 14,
    "start_time": "2023-03-19T10:28:57.699Z"
   },
   {
    "duration": 10,
    "start_time": "2023-03-19T10:29:19.007Z"
   },
   {
    "duration": 12,
    "start_time": "2023-03-19T10:29:40.532Z"
   },
   {
    "duration": 15,
    "start_time": "2023-03-19T10:30:41.895Z"
   },
   {
    "duration": 15,
    "start_time": "2023-03-19T10:31:02.057Z"
   },
   {
    "duration": 16,
    "start_time": "2023-03-19T10:31:12.552Z"
   },
   {
    "duration": 246,
    "start_time": "2023-03-19T10:31:51.173Z"
   },
   {
    "duration": 11,
    "start_time": "2023-03-19T10:35:11.158Z"
   },
   {
    "duration": 498,
    "start_time": "2023-03-19T10:35:18.725Z"
   },
   {
    "duration": 42,
    "start_time": "2023-03-19T10:35:19.226Z"
   },
   {
    "duration": 19,
    "start_time": "2023-03-19T10:35:19.281Z"
   },
   {
    "duration": 2521,
    "start_time": "2023-03-19T10:35:19.302Z"
   },
   {
    "duration": 10,
    "start_time": "2023-03-19T10:35:21.826Z"
   },
   {
    "duration": 28,
    "start_time": "2023-03-19T10:35:21.838Z"
   },
   {
    "duration": 45,
    "start_time": "2023-03-19T10:35:21.868Z"
   },
   {
    "duration": 33,
    "start_time": "2023-03-19T10:35:21.915Z"
   },
   {
    "duration": 5,
    "start_time": "2023-03-19T10:35:21.950Z"
   },
   {
    "duration": 56,
    "start_time": "2023-03-19T10:35:21.956Z"
   },
   {
    "duration": 13,
    "start_time": "2023-03-19T10:35:22.014Z"
   },
   {
    "duration": 5,
    "start_time": "2023-03-19T10:35:22.029Z"
   },
   {
    "duration": 54,
    "start_time": "2023-03-19T10:35:22.036Z"
   },
   {
    "duration": 1676,
    "start_time": "2023-03-19T10:42:57.528Z"
   },
   {
    "duration": 1694,
    "start_time": "2023-03-19T10:43:34.276Z"
   },
   {
    "duration": 1714,
    "start_time": "2023-03-19T10:43:45.292Z"
   },
   {
    "duration": 1674,
    "start_time": "2023-03-19T10:43:56.829Z"
   },
   {
    "duration": 265,
    "start_time": "2023-03-19T10:46:02.334Z"
   },
   {
    "duration": 7,
    "start_time": "2023-03-19T10:46:25.196Z"
   },
   {
    "duration": 532,
    "start_time": "2023-03-19T10:46:33.890Z"
   },
   {
    "duration": 45,
    "start_time": "2023-03-19T10:46:34.424Z"
   },
   {
    "duration": 27,
    "start_time": "2023-03-19T10:46:34.470Z"
   },
   {
    "duration": 2540,
    "start_time": "2023-03-19T10:46:34.499Z"
   },
   {
    "duration": 10,
    "start_time": "2023-03-19T10:46:37.042Z"
   },
   {
    "duration": 18,
    "start_time": "2023-03-19T10:46:37.054Z"
   },
   {
    "duration": 56,
    "start_time": "2023-03-19T10:46:37.074Z"
   },
   {
    "duration": 32,
    "start_time": "2023-03-19T10:46:37.131Z"
   },
   {
    "duration": 5,
    "start_time": "2023-03-19T10:46:37.165Z"
   },
   {
    "duration": 52,
    "start_time": "2023-03-19T10:46:37.172Z"
   },
   {
    "duration": 6,
    "start_time": "2023-03-19T10:46:37.226Z"
   },
   {
    "duration": 8,
    "start_time": "2023-03-19T10:46:37.234Z"
   },
   {
    "duration": 38,
    "start_time": "2023-03-19T10:46:37.244Z"
   },
   {
    "duration": 7,
    "start_time": "2023-03-19T10:49:45.338Z"
   },
   {
    "duration": 90,
    "start_time": "2023-03-19T10:51:35.200Z"
   },
   {
    "duration": 8,
    "start_time": "2023-03-19T10:51:40.215Z"
   },
   {
    "duration": 9,
    "start_time": "2023-03-19T10:52:06.722Z"
   },
   {
    "duration": 95,
    "start_time": "2023-03-19T10:53:17.892Z"
   },
   {
    "duration": 93,
    "start_time": "2023-03-19T10:53:29.906Z"
   },
   {
    "duration": 90,
    "start_time": "2023-03-19T10:53:47.404Z"
   },
   {
    "duration": 97,
    "start_time": "2023-03-19T10:54:23.143Z"
   },
   {
    "duration": 219,
    "start_time": "2023-03-19T10:57:44.489Z"
   },
   {
    "duration": 91,
    "start_time": "2023-03-19T10:58:56.990Z"
   },
   {
    "duration": 87,
    "start_time": "2023-03-19T10:59:53.063Z"
   },
   {
    "duration": 122,
    "start_time": "2023-03-19T11:00:37.307Z"
   },
   {
    "duration": 9,
    "start_time": "2023-03-19T11:03:31.433Z"
   },
   {
    "duration": 10,
    "start_time": "2023-03-19T11:03:41.789Z"
   },
   {
    "duration": 8,
    "start_time": "2023-03-19T11:03:50.806Z"
   },
   {
    "duration": 10,
    "start_time": "2023-03-19T11:04:05.291Z"
   },
   {
    "duration": 11,
    "start_time": "2023-03-19T11:04:13.106Z"
   },
   {
    "duration": 8,
    "start_time": "2023-03-19T11:06:18.931Z"
   },
   {
    "duration": 5,
    "start_time": "2023-03-19T11:07:42.536Z"
   },
   {
    "duration": 118,
    "start_time": "2023-03-19T11:11:55.220Z"
   },
   {
    "duration": 184,
    "start_time": "2023-03-19T11:13:37.697Z"
   },
   {
    "duration": 92,
    "start_time": "2023-03-19T11:15:10.234Z"
   },
   {
    "duration": 93,
    "start_time": "2023-03-19T11:16:02.963Z"
   },
   {
    "duration": 88,
    "start_time": "2023-03-19T11:16:26.969Z"
   },
   {
    "duration": 111,
    "start_time": "2023-03-19T11:16:34.967Z"
   },
   {
    "duration": 89,
    "start_time": "2023-03-19T11:16:41.248Z"
   },
   {
    "duration": 92,
    "start_time": "2023-03-19T11:16:44.458Z"
   },
   {
    "duration": 81,
    "start_time": "2023-03-19T11:21:17.405Z"
   },
   {
    "duration": 17,
    "start_time": "2023-03-19T11:21:30.432Z"
   },
   {
    "duration": 2446,
    "start_time": "2023-03-19T11:23:34.874Z"
   },
   {
    "duration": 2301,
    "start_time": "2023-03-19T11:23:58.726Z"
   },
   {
    "duration": 2409,
    "start_time": "2023-03-19T11:25:01.923Z"
   },
   {
    "duration": 29,
    "start_time": "2023-03-19T11:29:32.257Z"
   },
   {
    "duration": 17,
    "start_time": "2023-03-19T11:29:45.580Z"
   },
   {
    "duration": 39,
    "start_time": "2023-03-19T11:30:18.768Z"
   },
   {
    "duration": 24,
    "start_time": "2023-03-19T11:30:24.102Z"
   },
   {
    "duration": 38,
    "start_time": "2023-03-19T11:31:25.139Z"
   },
   {
    "duration": 564,
    "start_time": "2023-03-19T11:31:38.190Z"
   },
   {
    "duration": 93,
    "start_time": "2023-03-19T11:33:10.123Z"
   },
   {
    "duration": 473,
    "start_time": "2023-03-19T11:36:11.731Z"
   },
   {
    "duration": 45,
    "start_time": "2023-03-19T11:36:12.207Z"
   },
   {
    "duration": 27,
    "start_time": "2023-03-19T11:36:12.254Z"
   },
   {
    "duration": 2472,
    "start_time": "2023-03-19T11:36:12.283Z"
   },
   {
    "duration": 9,
    "start_time": "2023-03-19T11:36:14.758Z"
   },
   {
    "duration": 11,
    "start_time": "2023-03-19T11:36:14.769Z"
   },
   {
    "duration": 38,
    "start_time": "2023-03-19T11:36:14.781Z"
   },
   {
    "duration": 30,
    "start_time": "2023-03-19T11:36:14.821Z"
   },
   {
    "duration": 26,
    "start_time": "2023-03-19T11:36:14.853Z"
   },
   {
    "duration": 39,
    "start_time": "2023-03-19T11:36:14.880Z"
   },
   {
    "duration": 102,
    "start_time": "2023-03-19T11:36:14.921Z"
   },
   {
    "duration": 4,
    "start_time": "2023-03-19T11:36:15.025Z"
   },
   {
    "duration": 47,
    "start_time": "2023-03-19T11:36:15.031Z"
   },
   {
    "duration": 33,
    "start_time": "2023-03-19T11:38:04.185Z"
   },
   {
    "duration": 34,
    "start_time": "2023-03-19T11:39:37.873Z"
   },
   {
    "duration": 36,
    "start_time": "2023-03-19T11:39:46.682Z"
   },
   {
    "duration": 84,
    "start_time": "2023-03-19T11:39:56.036Z"
   },
   {
    "duration": 12,
    "start_time": "2023-03-19T11:40:04.983Z"
   },
   {
    "duration": 39,
    "start_time": "2023-03-19T11:40:14.084Z"
   },
   {
    "duration": 9,
    "start_time": "2023-03-19T11:40:25.722Z"
   },
   {
    "duration": 10,
    "start_time": "2023-03-19T11:40:39.785Z"
   },
   {
    "duration": 6,
    "start_time": "2023-03-19T11:41:21.509Z"
   },
   {
    "duration": 8,
    "start_time": "2023-03-19T11:42:13.436Z"
   },
   {
    "duration": 7,
    "start_time": "2023-03-19T11:42:18.682Z"
   },
   {
    "duration": 6,
    "start_time": "2023-03-19T11:42:23.409Z"
   },
   {
    "duration": 20,
    "start_time": "2023-03-19T11:45:48.034Z"
   },
   {
    "duration": 13,
    "start_time": "2023-03-19T11:46:38.492Z"
   },
   {
    "duration": 9,
    "start_time": "2023-03-19T11:46:49.004Z"
   },
   {
    "duration": 12,
    "start_time": "2023-03-19T11:47:25.311Z"
   },
   {
    "duration": 4,
    "start_time": "2023-03-19T11:47:37.226Z"
   },
   {
    "duration": 9,
    "start_time": "2023-03-19T11:47:40.531Z"
   },
   {
    "duration": 26,
    "start_time": "2023-03-19T11:49:17.568Z"
   },
   {
    "duration": 5,
    "start_time": "2023-03-19T11:49:22.996Z"
   },
   {
    "duration": 9,
    "start_time": "2023-03-19T11:49:26.823Z"
   },
   {
    "duration": 13,
    "start_time": "2023-03-19T12:01:34.949Z"
   },
   {
    "duration": 13,
    "start_time": "2023-03-19T12:02:01.366Z"
   },
   {
    "duration": 122,
    "start_time": "2023-03-19T12:02:11.966Z"
   },
   {
    "duration": 13,
    "start_time": "2023-03-19T12:03:00.789Z"
   },
   {
    "duration": 42,
    "start_time": "2023-03-19T12:03:07.950Z"
   },
   {
    "duration": 43,
    "start_time": "2023-03-19T12:03:19.725Z"
   },
   {
    "duration": 17,
    "start_time": "2023-03-19T12:03:43.143Z"
   },
   {
    "duration": 13,
    "start_time": "2023-03-19T12:03:57.112Z"
   },
   {
    "duration": 83,
    "start_time": "2023-03-19T12:04:03.647Z"
   },
   {
    "duration": 40,
    "start_time": "2023-03-19T12:04:07.869Z"
   },
   {
    "duration": 16,
    "start_time": "2023-03-19T12:04:14.021Z"
   },
   {
    "duration": 22,
    "start_time": "2023-03-19T12:06:39.890Z"
   },
   {
    "duration": 19,
    "start_time": "2023-03-19T12:07:09.284Z"
   },
   {
    "duration": 11,
    "start_time": "2023-03-19T12:07:22.899Z"
   },
   {
    "duration": 43,
    "start_time": "2023-03-19T12:07:50.801Z"
   },
   {
    "duration": 66,
    "start_time": "2023-03-19T12:08:01.991Z"
   },
   {
    "duration": 63,
    "start_time": "2023-03-19T12:08:10.955Z"
   },
   {
    "duration": 45,
    "start_time": "2023-03-19T12:09:17.847Z"
   },
   {
    "duration": 17,
    "start_time": "2023-03-19T12:09:28.302Z"
   },
   {
    "duration": 16,
    "start_time": "2023-03-19T12:09:35.316Z"
   },
   {
    "duration": 18,
    "start_time": "2023-03-19T12:09:46.493Z"
   },
   {
    "duration": 22,
    "start_time": "2023-03-19T12:09:54.581Z"
   },
   {
    "duration": 51,
    "start_time": "2023-03-19T12:10:28.370Z"
   },
   {
    "duration": 48,
    "start_time": "2023-03-19T12:10:55.373Z"
   },
   {
    "duration": 43,
    "start_time": "2023-03-19T12:13:40.540Z"
   },
   {
    "duration": 41,
    "start_time": "2023-03-19T12:14:52.010Z"
   },
   {
    "duration": 150,
    "start_time": "2023-03-19T12:15:12.087Z"
   },
   {
    "duration": 31,
    "start_time": "2023-03-19T12:15:16.823Z"
   },
   {
    "duration": 25,
    "start_time": "2023-03-19T12:16:39.428Z"
   },
   {
    "duration": 479,
    "start_time": "2023-03-19T12:20:24.821Z"
   },
   {
    "duration": 43,
    "start_time": "2023-03-19T12:20:25.302Z"
   },
   {
    "duration": 32,
    "start_time": "2023-03-19T12:20:25.347Z"
   },
   {
    "duration": 2382,
    "start_time": "2023-03-19T12:20:25.381Z"
   },
   {
    "duration": 10,
    "start_time": "2023-03-19T12:20:27.765Z"
   },
   {
    "duration": 12,
    "start_time": "2023-03-19T12:20:27.776Z"
   },
   {
    "duration": 40,
    "start_time": "2023-03-19T12:20:27.789Z"
   },
   {
    "duration": 48,
    "start_time": "2023-03-19T12:20:27.831Z"
   },
   {
    "duration": 7,
    "start_time": "2023-03-19T12:20:27.881Z"
   },
   {
    "duration": 33,
    "start_time": "2023-03-19T12:20:27.891Z"
   },
   {
    "duration": 80,
    "start_time": "2023-03-19T12:20:27.926Z"
   },
   {
    "duration": 23,
    "start_time": "2023-03-19T12:20:28.008Z"
   },
   {
    "duration": 4,
    "start_time": "2023-03-19T12:20:28.033Z"
   },
   {
    "duration": 50,
    "start_time": "2023-03-19T12:20:28.039Z"
   },
   {
    "duration": 11,
    "start_time": "2023-03-19T12:26:59.479Z"
   },
   {
    "duration": 72,
    "start_time": "2023-03-19T12:28:05.221Z"
   },
   {
    "duration": 76,
    "start_time": "2023-03-19T12:28:54.483Z"
   },
   {
    "duration": 9,
    "start_time": "2023-03-19T12:29:00.844Z"
   },
   {
    "duration": 9,
    "start_time": "2023-03-19T12:29:05.924Z"
   },
   {
    "duration": 65,
    "start_time": "2023-03-19T12:29:44.085Z"
   },
   {
    "duration": 10,
    "start_time": "2023-03-19T12:30:09.679Z"
   },
   {
    "duration": 13,
    "start_time": "2023-03-19T12:30:19.680Z"
   },
   {
    "duration": 9,
    "start_time": "2023-03-19T12:30:46.047Z"
   },
   {
    "duration": 8,
    "start_time": "2023-03-19T12:30:48.530Z"
   },
   {
    "duration": 6,
    "start_time": "2023-03-19T12:31:19.002Z"
   },
   {
    "duration": 51,
    "start_time": "2023-03-19T12:41:47.510Z"
   },
   {
    "duration": 65,
    "start_time": "2023-03-19T12:42:32.512Z"
   },
   {
    "duration": 81,
    "start_time": "2023-03-19T12:43:58.710Z"
   },
   {
    "duration": 56,
    "start_time": "2023-03-19T12:44:47.616Z"
   },
   {
    "duration": 43,
    "start_time": "2023-03-19T12:44:53.198Z"
   },
   {
    "duration": 26,
    "start_time": "2023-03-19T12:48:59.732Z"
   },
   {
    "duration": 551,
    "start_time": "2023-03-19T12:49:16.155Z"
   },
   {
    "duration": 44,
    "start_time": "2023-03-19T12:49:16.708Z"
   },
   {
    "duration": 33,
    "start_time": "2023-03-19T12:49:16.757Z"
   },
   {
    "duration": 2439,
    "start_time": "2023-03-19T12:49:16.792Z"
   },
   {
    "duration": 11,
    "start_time": "2023-03-19T12:49:19.233Z"
   },
   {
    "duration": 26,
    "start_time": "2023-03-19T12:49:19.246Z"
   },
   {
    "duration": 36,
    "start_time": "2023-03-19T12:49:19.274Z"
   },
   {
    "duration": 32,
    "start_time": "2023-03-19T12:49:19.312Z"
   },
   {
    "duration": 5,
    "start_time": "2023-03-19T12:49:19.346Z"
   },
   {
    "duration": 57,
    "start_time": "2023-03-19T12:49:19.353Z"
   },
   {
    "duration": 76,
    "start_time": "2023-03-19T12:49:19.412Z"
   },
   {
    "duration": 42,
    "start_time": "2023-03-19T12:49:19.490Z"
   },
   {
    "duration": 5,
    "start_time": "2023-03-19T12:49:19.535Z"
   },
   {
    "duration": 58,
    "start_time": "2023-03-19T12:49:19.542Z"
   },
   {
    "duration": 79,
    "start_time": "2023-03-19T12:50:52.100Z"
   },
   {
    "duration": 30,
    "start_time": "2023-03-19T12:51:09.380Z"
   },
   {
    "duration": 524,
    "start_time": "2023-03-19T12:51:34.624Z"
   },
   {
    "duration": 54,
    "start_time": "2023-03-19T12:51:35.151Z"
   },
   {
    "duration": 18,
    "start_time": "2023-03-19T12:51:35.207Z"
   },
   {
    "duration": 2436,
    "start_time": "2023-03-19T12:51:35.227Z"
   },
   {
    "duration": 10,
    "start_time": "2023-03-19T12:51:37.666Z"
   },
   {
    "duration": 20,
    "start_time": "2023-03-19T12:51:37.678Z"
   },
   {
    "duration": 40,
    "start_time": "2023-03-19T12:51:37.700Z"
   },
   {
    "duration": 41,
    "start_time": "2023-03-19T12:51:37.742Z"
   },
   {
    "duration": 5,
    "start_time": "2023-03-19T12:51:37.785Z"
   },
   {
    "duration": 36,
    "start_time": "2023-03-19T12:51:37.791Z"
   },
   {
    "duration": 71,
    "start_time": "2023-03-19T12:51:37.829Z"
   },
   {
    "duration": 36,
    "start_time": "2023-03-19T12:51:37.902Z"
   },
   {
    "duration": 63,
    "start_time": "2023-03-19T12:51:37.940Z"
   },
   {
    "duration": 2,
    "start_time": "2023-03-19T12:51:38.006Z"
   },
   {
    "duration": 29,
    "start_time": "2023-03-19T12:51:38.010Z"
   },
   {
    "duration": 84,
    "start_time": "2023-03-19T12:56:21.407Z"
   },
   {
    "duration": 44,
    "start_time": "2023-03-19T12:56:28.769Z"
   },
   {
    "duration": 77,
    "start_time": "2023-03-19T12:58:48.942Z"
   },
   {
    "duration": 76,
    "start_time": "2023-03-19T12:58:55.242Z"
   },
   {
    "duration": 54,
    "start_time": "2023-03-19T12:59:31.278Z"
   },
   {
    "duration": 94,
    "start_time": "2023-03-19T12:59:52.623Z"
   },
   {
    "duration": 90,
    "start_time": "2023-03-19T13:01:28.225Z"
   },
   {
    "duration": 544,
    "start_time": "2023-03-19T13:02:17.253Z"
   },
   {
    "duration": 47,
    "start_time": "2023-03-19T13:02:17.799Z"
   },
   {
    "duration": 31,
    "start_time": "2023-03-19T13:02:17.848Z"
   },
   {
    "duration": 2467,
    "start_time": "2023-03-19T13:02:17.881Z"
   },
   {
    "duration": 21,
    "start_time": "2023-03-19T13:02:20.352Z"
   },
   {
    "duration": 29,
    "start_time": "2023-03-19T13:02:20.375Z"
   },
   {
    "duration": 52,
    "start_time": "2023-03-19T13:02:20.406Z"
   },
   {
    "duration": 29,
    "start_time": "2023-03-19T13:02:20.460Z"
   },
   {
    "duration": 5,
    "start_time": "2023-03-19T13:02:20.491Z"
   },
   {
    "duration": 42,
    "start_time": "2023-03-19T13:02:20.498Z"
   },
   {
    "duration": 96,
    "start_time": "2023-03-19T13:02:20.542Z"
   },
   {
    "duration": 41,
    "start_time": "2023-03-19T13:02:20.640Z"
   },
   {
    "duration": 76,
    "start_time": "2023-03-19T13:02:20.683Z"
   },
   {
    "duration": 2,
    "start_time": "2023-03-19T13:02:20.777Z"
   },
   {
    "duration": 44,
    "start_time": "2023-03-19T13:02:20.781Z"
   },
   {
    "duration": 78,
    "start_time": "2023-03-19T13:03:15.890Z"
   },
   {
    "duration": 44,
    "start_time": "2023-03-19T13:03:24.416Z"
   },
   {
    "duration": 17,
    "start_time": "2023-03-19T13:03:53.489Z"
   },
   {
    "duration": 85,
    "start_time": "2023-03-19T13:04:48.844Z"
   },
   {
    "duration": 13,
    "start_time": "2023-03-19T13:04:59.586Z"
   },
   {
    "duration": 13,
    "start_time": "2023-03-19T13:05:48.888Z"
   },
   {
    "duration": 13,
    "start_time": "2023-03-19T13:06:23.148Z"
   },
   {
    "duration": 1033,
    "start_time": "2023-03-19T13:07:00.852Z"
   },
   {
    "duration": 14,
    "start_time": "2023-03-19T13:07:16.305Z"
   },
   {
    "duration": 105,
    "start_time": "2023-03-19T13:07:24.281Z"
   },
   {
    "duration": 94,
    "start_time": "2023-03-19T13:07:44.251Z"
   },
   {
    "duration": 128,
    "start_time": "2023-03-19T13:07:58.682Z"
   },
   {
    "duration": 107,
    "start_time": "2023-03-19T13:08:19.925Z"
   },
   {
    "duration": 83,
    "start_time": "2023-03-19T13:10:01.447Z"
   },
   {
    "duration": 112,
    "start_time": "2023-03-19T13:10:12.579Z"
   },
   {
    "duration": 95,
    "start_time": "2023-03-19T13:10:29.646Z"
   },
   {
    "duration": 104,
    "start_time": "2023-03-19T13:10:49.615Z"
   },
   {
    "duration": 79,
    "start_time": "2023-03-19T13:11:47.042Z"
   },
   {
    "duration": 83,
    "start_time": "2023-03-19T13:11:56.539Z"
   },
   {
    "duration": 1238,
    "start_time": "2023-03-19T13:14:12.593Z"
   },
   {
    "duration": 1218,
    "start_time": "2023-03-19T13:14:21.788Z"
   },
   {
    "duration": 1261,
    "start_time": "2023-03-19T13:14:49.079Z"
   },
   {
    "duration": 380,
    "start_time": "2023-03-19T13:15:12.106Z"
   },
   {
    "duration": 4,
    "start_time": "2023-03-19T13:19:14.936Z"
   },
   {
    "duration": 110,
    "start_time": "2023-03-19T13:19:23.161Z"
   },
   {
    "duration": 206,
    "start_time": "2023-03-19T13:21:32.424Z"
   },
   {
    "duration": 25,
    "start_time": "2023-03-19T13:22:23.331Z"
   },
   {
    "duration": 180,
    "start_time": "2023-03-19T13:22:30.421Z"
   },
   {
    "duration": 101,
    "start_time": "2023-03-19T13:22:45.299Z"
   },
   {
    "duration": 537,
    "start_time": "2023-03-19T13:22:52.434Z"
   },
   {
    "duration": 45,
    "start_time": "2023-03-19T13:22:52.973Z"
   },
   {
    "duration": 16,
    "start_time": "2023-03-19T13:22:53.020Z"
   },
   {
    "duration": 2440,
    "start_time": "2023-03-19T13:22:53.039Z"
   },
   {
    "duration": 11,
    "start_time": "2023-03-19T13:22:55.481Z"
   },
   {
    "duration": 26,
    "start_time": "2023-03-19T13:22:55.494Z"
   },
   {
    "duration": 81,
    "start_time": "2023-03-19T13:22:55.522Z"
   },
   {
    "duration": 42,
    "start_time": "2023-03-19T13:22:55.605Z"
   },
   {
    "duration": 6,
    "start_time": "2023-03-19T13:22:55.648Z"
   },
   {
    "duration": 58,
    "start_time": "2023-03-19T13:22:55.656Z"
   },
   {
    "duration": 127,
    "start_time": "2023-03-19T13:22:55.716Z"
   },
   {
    "duration": 56,
    "start_time": "2023-03-19T13:22:55.845Z"
   },
   {
    "duration": 91,
    "start_time": "2023-03-19T13:22:55.902Z"
   },
   {
    "duration": 3,
    "start_time": "2023-03-19T13:22:55.995Z"
   },
   {
    "duration": 45,
    "start_time": "2023-03-19T13:22:55.999Z"
   },
   {
    "duration": 97,
    "start_time": "2023-03-19T13:23:40.851Z"
   },
   {
    "duration": 43,
    "start_time": "2023-03-19T13:23:41.905Z"
   },
   {
    "duration": 17,
    "start_time": "2023-03-19T13:23:45.232Z"
   },
   {
    "duration": 2078,
    "start_time": "2023-03-19T13:23:47.096Z"
   },
   {
    "duration": 12,
    "start_time": "2023-03-19T13:23:51.154Z"
   },
   {
    "duration": 11,
    "start_time": "2023-03-19T13:23:53.194Z"
   },
   {
    "duration": 39,
    "start_time": "2023-03-19T13:23:56.785Z"
   },
   {
    "duration": 34,
    "start_time": "2023-03-19T13:24:00.527Z"
   },
   {
    "duration": 6,
    "start_time": "2023-03-19T13:24:05.572Z"
   },
   {
    "duration": 40,
    "start_time": "2023-03-19T13:24:09.521Z"
   },
   {
    "duration": 117,
    "start_time": "2023-03-19T13:24:13.264Z"
   },
   {
    "duration": 380,
    "start_time": "2023-03-19T13:24:41.297Z"
   },
   {
    "duration": 86,
    "start_time": "2023-03-19T13:25:26.039Z"
   },
   {
    "duration": 339,
    "start_time": "2023-03-19T13:26:05.991Z"
   },
   {
    "duration": 344,
    "start_time": "2023-03-19T13:26:16.092Z"
   },
   {
    "duration": 68,
    "start_time": "2023-03-19T13:26:29.043Z"
   },
   {
    "duration": 19,
    "start_time": "2023-03-19T13:28:34.019Z"
   },
   {
    "duration": 20,
    "start_time": "2023-03-19T13:29:50.002Z"
   },
   {
    "duration": 16,
    "start_time": "2023-03-19T13:30:59.302Z"
   },
   {
    "duration": 42,
    "start_time": "2023-03-19T13:32:07.541Z"
   },
   {
    "duration": 18,
    "start_time": "2023-03-19T13:33:26.450Z"
   },
   {
    "duration": 25,
    "start_time": "2023-03-19T13:34:01.292Z"
   },
   {
    "duration": 227,
    "start_time": "2023-03-19T13:34:10.993Z"
   },
   {
    "duration": 60,
    "start_time": "2023-03-19T13:34:41.711Z"
   },
   {
    "duration": 64,
    "start_time": "2023-03-19T13:35:10.953Z"
   },
   {
    "duration": 340,
    "start_time": "2023-03-19T13:36:03.184Z"
   },
   {
    "duration": 328,
    "start_time": "2023-03-19T13:36:25.782Z"
   },
   {
    "duration": 505,
    "start_time": "2023-03-19T13:37:27.208Z"
   },
   {
    "duration": 42,
    "start_time": "2023-03-19T13:37:27.715Z"
   },
   {
    "duration": 23,
    "start_time": "2023-03-19T13:37:27.759Z"
   },
   {
    "duration": 2431,
    "start_time": "2023-03-19T13:37:27.784Z"
   },
   {
    "duration": 14,
    "start_time": "2023-03-19T13:37:30.218Z"
   },
   {
    "duration": 26,
    "start_time": "2023-03-19T13:37:30.234Z"
   },
   {
    "duration": 54,
    "start_time": "2023-03-19T13:37:30.262Z"
   },
   {
    "duration": 39,
    "start_time": "2023-03-19T13:37:30.318Z"
   },
   {
    "duration": 26,
    "start_time": "2023-03-19T13:37:30.358Z"
   },
   {
    "duration": 75,
    "start_time": "2023-03-19T13:37:30.386Z"
   },
   {
    "duration": 34,
    "start_time": "2023-03-19T13:37:30.463Z"
   },
   {
    "duration": 18,
    "start_time": "2023-03-19T13:37:30.499Z"
   },
   {
    "duration": 61,
    "start_time": "2023-03-19T13:37:30.518Z"
   },
   {
    "duration": 32,
    "start_time": "2023-03-19T13:38:35.459Z"
   },
   {
    "duration": 92,
    "start_time": "2023-03-19T13:45:40.668Z"
   },
   {
    "duration": 10,
    "start_time": "2023-03-19T13:45:46.968Z"
   },
   {
    "duration": 74,
    "start_time": "2023-03-19T13:56:02.463Z"
   },
   {
    "duration": 93,
    "start_time": "2023-03-19T13:56:45.718Z"
   },
   {
    "duration": 89,
    "start_time": "2023-03-19T13:57:41.873Z"
   },
   {
    "duration": 97,
    "start_time": "2023-03-19T13:57:50.228Z"
   },
   {
    "duration": 235,
    "start_time": "2023-03-19T13:58:20.325Z"
   },
   {
    "duration": 108,
    "start_time": "2023-03-19T13:58:51.929Z"
   },
   {
    "duration": 118,
    "start_time": "2023-03-19T14:00:40.876Z"
   },
   {
    "duration": 90,
    "start_time": "2023-03-19T14:01:32.796Z"
   },
   {
    "duration": 128,
    "start_time": "2023-03-19T14:02:16.861Z"
   },
   {
    "duration": 100,
    "start_time": "2023-03-19T14:02:21.860Z"
   },
   {
    "duration": 118,
    "start_time": "2023-03-19T14:02:34.864Z"
   },
   {
    "duration": 131,
    "start_time": "2023-03-19T14:03:11.112Z"
   },
   {
    "duration": 180,
    "start_time": "2023-03-19T14:03:30.650Z"
   },
   {
    "duration": 96,
    "start_time": "2023-03-19T14:04:17.100Z"
   },
   {
    "duration": 116,
    "start_time": "2023-03-19T14:04:30.666Z"
   },
   {
    "duration": 228,
    "start_time": "2023-03-19T14:05:10.510Z"
   },
   {
    "duration": 102,
    "start_time": "2023-03-19T14:05:16.876Z"
   },
   {
    "duration": 516,
    "start_time": "2023-03-19T14:05:27.073Z"
   },
   {
    "duration": 44,
    "start_time": "2023-03-19T14:05:27.591Z"
   },
   {
    "duration": 17,
    "start_time": "2023-03-19T14:05:27.637Z"
   },
   {
    "duration": 2327,
    "start_time": "2023-03-19T14:05:27.656Z"
   },
   {
    "duration": 9,
    "start_time": "2023-03-19T14:05:29.985Z"
   },
   {
    "duration": 22,
    "start_time": "2023-03-19T14:05:29.995Z"
   },
   {
    "duration": 41,
    "start_time": "2023-03-19T14:05:30.019Z"
   },
   {
    "duration": 27,
    "start_time": "2023-03-19T14:05:30.062Z"
   },
   {
    "duration": 5,
    "start_time": "2023-03-19T14:05:30.091Z"
   },
   {
    "duration": 46,
    "start_time": "2023-03-19T14:05:30.099Z"
   },
   {
    "duration": 105,
    "start_time": "2023-03-19T14:05:30.146Z"
   },
   {
    "duration": 40,
    "start_time": "2023-03-19T14:05:30.252Z"
   },
   {
    "duration": 3,
    "start_time": "2023-03-19T14:05:30.293Z"
   },
   {
    "duration": 57,
    "start_time": "2023-03-19T14:05:30.297Z"
   },
   {
    "duration": 8,
    "start_time": "2023-03-19T14:06:15.147Z"
   },
   {
    "duration": 568,
    "start_time": "2023-03-19T14:06:22.081Z"
   },
   {
    "duration": 42,
    "start_time": "2023-03-19T14:06:22.651Z"
   },
   {
    "duration": 16,
    "start_time": "2023-03-19T14:06:22.694Z"
   },
   {
    "duration": 2300,
    "start_time": "2023-03-19T14:06:22.711Z"
   },
   {
    "duration": 10,
    "start_time": "2023-03-19T14:06:25.014Z"
   },
   {
    "duration": 11,
    "start_time": "2023-03-19T14:06:25.025Z"
   },
   {
    "duration": 40,
    "start_time": "2023-03-19T14:06:25.038Z"
   },
   {
    "duration": 30,
    "start_time": "2023-03-19T14:06:25.079Z"
   },
   {
    "duration": 10,
    "start_time": "2023-03-19T14:06:25.111Z"
   },
   {
    "duration": 41,
    "start_time": "2023-03-19T14:06:25.122Z"
   },
   {
    "duration": 19,
    "start_time": "2023-03-19T14:06:25.164Z"
   },
   {
    "duration": 39,
    "start_time": "2023-03-19T14:06:25.185Z"
   },
   {
    "duration": 3,
    "start_time": "2023-03-19T14:06:25.226Z"
   },
   {
    "duration": 49,
    "start_time": "2023-03-19T14:06:25.232Z"
   },
   {
    "duration": 202,
    "start_time": "2023-03-19T14:06:45.337Z"
   },
   {
    "duration": 478,
    "start_time": "2023-03-19T14:11:22.621Z"
   },
   {
    "duration": 43,
    "start_time": "2023-03-19T14:11:23.102Z"
   },
   {
    "duration": 33,
    "start_time": "2023-03-19T14:11:23.147Z"
   },
   {
    "duration": 2344,
    "start_time": "2023-03-19T14:11:23.183Z"
   },
   {
    "duration": 11,
    "start_time": "2023-03-19T14:11:25.529Z"
   },
   {
    "duration": 27,
    "start_time": "2023-03-19T14:11:25.542Z"
   },
   {
    "duration": 41,
    "start_time": "2023-03-19T14:11:25.571Z"
   },
   {
    "duration": 30,
    "start_time": "2023-03-19T14:11:25.614Z"
   },
   {
    "duration": 6,
    "start_time": "2023-03-19T14:11:25.646Z"
   },
   {
    "duration": 59,
    "start_time": "2023-03-19T14:11:25.654Z"
   },
   {
    "duration": 44,
    "start_time": "2023-03-19T14:11:25.715Z"
   },
   {
    "duration": 15,
    "start_time": "2023-03-19T14:11:25.762Z"
   },
   {
    "duration": 37,
    "start_time": "2023-03-19T14:11:25.779Z"
   },
   {
    "duration": 85,
    "start_time": "2023-03-19T14:14:10.378Z"
   },
   {
    "duration": 33,
    "start_time": "2023-03-19T14:14:29.735Z"
   },
   {
    "duration": 9,
    "start_time": "2023-03-19T14:14:44.220Z"
   },
   {
    "duration": 6,
    "start_time": "2023-03-19T14:19:30.604Z"
   },
   {
    "duration": 7,
    "start_time": "2023-03-19T14:19:52.561Z"
   },
   {
    "duration": 6,
    "start_time": "2023-03-19T14:20:17.058Z"
   },
   {
    "duration": 6,
    "start_time": "2023-03-19T14:35:50.486Z"
   },
   {
    "duration": 8,
    "start_time": "2023-03-19T14:45:21.231Z"
   },
   {
    "duration": 109,
    "start_time": "2023-03-19T14:45:29.442Z"
   },
   {
    "duration": 37,
    "start_time": "2023-03-19T14:45:38.551Z"
   },
   {
    "duration": 10,
    "start_time": "2023-03-19T14:46:25.356Z"
   },
   {
    "duration": 40,
    "start_time": "2023-03-19T14:46:37.439Z"
   },
   {
    "duration": 42,
    "start_time": "2023-03-19T14:51:46.596Z"
   },
   {
    "duration": 40,
    "start_time": "2023-03-19T14:52:49.899Z"
   },
   {
    "duration": 44,
    "start_time": "2023-03-19T14:52:54.844Z"
   },
   {
    "duration": 46,
    "start_time": "2023-03-19T14:53:57.092Z"
   },
   {
    "duration": 43,
    "start_time": "2023-03-19T14:54:04.063Z"
   },
   {
    "duration": 41,
    "start_time": "2023-03-19T14:56:30.059Z"
   },
   {
    "duration": 324,
    "start_time": "2023-03-19T14:56:43.724Z"
   },
   {
    "duration": 343,
    "start_time": "2023-03-19T14:56:57.086Z"
   },
   {
    "duration": 41,
    "start_time": "2023-03-19T14:57:28.735Z"
   },
   {
    "duration": 346,
    "start_time": "2023-03-19T14:58:30.914Z"
   },
   {
    "duration": 340,
    "start_time": "2023-03-19T14:58:38.904Z"
   },
   {
    "duration": 355,
    "start_time": "2023-03-19T14:58:46.306Z"
   },
   {
    "duration": 41,
    "start_time": "2023-03-19T14:59:54.334Z"
   },
   {
    "duration": 1210,
    "start_time": "2023-03-19T15:00:19.948Z"
   },
   {
    "duration": 43,
    "start_time": "2023-03-19T15:00:29.641Z"
   },
   {
    "duration": 45,
    "start_time": "2023-03-19T15:02:17.423Z"
   },
   {
    "duration": 39,
    "start_time": "2023-03-19T15:02:28.228Z"
   },
   {
    "duration": 52,
    "start_time": "2023-03-20T09:22:53.338Z"
   },
   {
    "duration": 1439,
    "start_time": "2023-03-20T09:22:58.335Z"
   },
   {
    "duration": 3,
    "start_time": "2023-03-20T09:22:59.777Z"
   },
   {
    "duration": 52,
    "start_time": "2023-03-20T09:23:01.507Z"
   },
   {
    "duration": 81,
    "start_time": "2023-03-20T09:23:18.808Z"
   },
   {
    "duration": 153,
    "start_time": "2023-03-20T09:29:33.352Z"
   },
   {
    "duration": 68,
    "start_time": "2023-03-20T09:29:45.940Z"
   },
   {
    "duration": 9,
    "start_time": "2023-03-20T09:31:14.827Z"
   },
   {
    "duration": 20,
    "start_time": "2023-03-20T09:31:32.272Z"
   },
   {
    "duration": 10,
    "start_time": "2023-03-20T09:31:41.609Z"
   },
   {
    "duration": 8,
    "start_time": "2023-03-20T09:31:46.745Z"
   },
   {
    "duration": 74,
    "start_time": "2023-03-20T10:21:37.640Z"
   },
   {
    "duration": 60,
    "start_time": "2023-03-20T10:22:56.271Z"
   },
   {
    "duration": 68,
    "start_time": "2023-03-20T10:23:13.025Z"
   },
   {
    "duration": 9,
    "start_time": "2023-03-20T10:23:49.966Z"
   },
   {
    "duration": 10,
    "start_time": "2023-03-20T10:24:01.355Z"
   },
   {
    "duration": 9,
    "start_time": "2023-03-20T10:25:12.663Z"
   },
   {
    "duration": 10,
    "start_time": "2023-03-20T10:28:25.437Z"
   },
   {
    "duration": 36,
    "start_time": "2023-03-20T10:28:29.677Z"
   },
   {
    "duration": 70,
    "start_time": "2023-03-20T10:28:36.414Z"
   },
   {
    "duration": 10,
    "start_time": "2023-03-20T10:30:35.803Z"
   },
   {
    "duration": 11,
    "start_time": "2023-03-20T10:30:44.120Z"
   },
   {
    "duration": 36,
    "start_time": "2023-03-20T10:30:51.533Z"
   },
   {
    "duration": 69,
    "start_time": "2023-03-20T10:35:07.290Z"
   },
   {
    "duration": 2,
    "start_time": "2023-03-20T10:35:18.190Z"
   },
   {
    "duration": 4,
    "start_time": "2023-03-20T10:35:42.000Z"
   },
   {
    "duration": 4,
    "start_time": "2023-03-20T10:36:04.332Z"
   },
   {
    "duration": 49,
    "start_time": "2023-03-20T10:36:11.545Z"
   },
   {
    "duration": 20,
    "start_time": "2023-03-20T10:36:14.803Z"
   },
   {
    "duration": 9,
    "start_time": "2023-03-20T10:36:32.247Z"
   },
   {
    "duration": 8,
    "start_time": "2023-03-20T10:37:06.821Z"
   },
   {
    "duration": 8,
    "start_time": "2023-03-20T10:37:11.163Z"
   },
   {
    "duration": 9,
    "start_time": "2023-03-20T10:37:29.759Z"
   },
   {
    "duration": 9,
    "start_time": "2023-03-20T10:37:37.350Z"
   },
   {
    "duration": 9,
    "start_time": "2023-03-20T10:37:53.949Z"
   },
   {
    "duration": 8,
    "start_time": "2023-03-20T10:39:47.281Z"
   },
   {
    "duration": 8,
    "start_time": "2023-03-20T10:41:51.949Z"
   },
   {
    "duration": 44,
    "start_time": "2023-03-20T10:42:51.648Z"
   },
   {
    "duration": 9,
    "start_time": "2023-03-20T10:43:01.259Z"
   },
   {
    "duration": 3,
    "start_time": "2023-03-20T10:43:24.777Z"
   },
   {
    "duration": 8,
    "start_time": "2023-03-20T10:43:28.131Z"
   },
   {
    "duration": 10,
    "start_time": "2023-03-20T10:43:34.554Z"
   },
   {
    "duration": 9,
    "start_time": "2023-03-20T10:43:41.185Z"
   },
   {
    "duration": 9,
    "start_time": "2023-03-20T10:44:25.311Z"
   },
   {
    "duration": 8,
    "start_time": "2023-03-20T10:46:36.614Z"
   },
   {
    "duration": 4,
    "start_time": "2023-03-20T10:48:41.402Z"
   },
   {
    "duration": 2,
    "start_time": "2023-03-20T10:49:49.725Z"
   },
   {
    "duration": 33,
    "start_time": "2023-03-20T10:49:57.233Z"
   },
   {
    "duration": 4,
    "start_time": "2023-03-20T11:21:50.470Z"
   },
   {
    "duration": 4,
    "start_time": "2023-03-20T11:22:10.589Z"
   },
   {
    "duration": 4,
    "start_time": "2023-03-20T11:23:19.386Z"
   },
   {
    "duration": 4,
    "start_time": "2023-03-20T11:23:26.216Z"
   },
   {
    "duration": 73,
    "start_time": "2023-03-20T11:25:48.032Z"
   },
   {
    "duration": 80,
    "start_time": "2023-03-20T11:25:59.198Z"
   },
   {
    "duration": 17,
    "start_time": "2023-03-20T11:26:36.824Z"
   },
   {
    "duration": 4,
    "start_time": "2023-03-20T11:26:46.758Z"
   },
   {
    "duration": 4,
    "start_time": "2023-03-20T11:27:33.101Z"
   },
   {
    "duration": 21,
    "start_time": "2023-03-20T11:29:00.297Z"
   },
   {
    "duration": 8,
    "start_time": "2023-03-20T11:29:43.477Z"
   },
   {
    "duration": 23,
    "start_time": "2023-03-20T11:30:02.988Z"
   },
   {
    "duration": 56,
    "start_time": "2023-03-20T11:52:26.049Z"
   },
   {
    "duration": 9,
    "start_time": "2023-03-20T11:52:31.303Z"
   },
   {
    "duration": 11,
    "start_time": "2023-03-20T11:53:16.951Z"
   },
   {
    "duration": 133,
    "start_time": "2023-03-20T11:53:45.593Z"
   },
   {
    "duration": 112,
    "start_time": "2023-03-20T11:55:50.078Z"
   },
   {
    "duration": 108,
    "start_time": "2023-03-20T11:56:26.437Z"
   },
   {
    "duration": 13,
    "start_time": "2023-03-20T11:57:08.923Z"
   },
   {
    "duration": 52,
    "start_time": "2023-03-20T11:57:30.971Z"
   },
   {
    "duration": 46,
    "start_time": "2023-03-20T11:59:40.509Z"
   },
   {
    "duration": 24,
    "start_time": "2023-03-20T11:59:45.330Z"
   },
   {
    "duration": 15,
    "start_time": "2023-03-20T12:00:40.814Z"
   },
   {
    "duration": 4,
    "start_time": "2023-03-20T12:02:15.813Z"
   },
   {
    "duration": 17,
    "start_time": "2023-03-20T12:02:22.860Z"
   },
   {
    "duration": 17,
    "start_time": "2023-03-20T12:02:45.224Z"
   },
   {
    "duration": 16,
    "start_time": "2023-03-20T12:03:07.317Z"
   },
   {
    "duration": 16,
    "start_time": "2023-03-20T12:03:47.057Z"
   },
   {
    "duration": 14,
    "start_time": "2023-03-20T12:04:14.668Z"
   },
   {
    "duration": 17,
    "start_time": "2023-03-20T12:04:24.817Z"
   },
   {
    "duration": 17,
    "start_time": "2023-03-20T12:05:29.113Z"
   },
   {
    "duration": 16,
    "start_time": "2023-03-20T12:05:41.719Z"
   },
   {
    "duration": 17,
    "start_time": "2023-03-20T12:07:53.129Z"
   },
   {
    "duration": 133,
    "start_time": "2023-03-20T12:09:01.444Z"
   },
   {
    "duration": 108,
    "start_time": "2023-03-20T12:09:49.627Z"
   },
   {
    "duration": 111,
    "start_time": "2023-03-20T12:10:03.437Z"
   },
   {
    "duration": 117,
    "start_time": "2023-03-20T12:10:13.788Z"
   },
   {
    "duration": 132,
    "start_time": "2023-03-20T12:10:18.346Z"
   },
   {
    "duration": 157,
    "start_time": "2023-03-20T12:10:28.472Z"
   },
   {
    "duration": 130,
    "start_time": "2023-03-20T12:10:36.973Z"
   },
   {
    "duration": 114,
    "start_time": "2023-03-20T12:11:46.645Z"
   },
   {
    "duration": 15,
    "start_time": "2023-03-20T12:13:46.867Z"
   },
   {
    "duration": 13,
    "start_time": "2023-03-20T12:14:10.852Z"
   },
   {
    "duration": 15,
    "start_time": "2023-03-20T12:14:18.333Z"
   },
   {
    "duration": 121,
    "start_time": "2023-03-20T12:14:42.412Z"
   },
   {
    "duration": 115,
    "start_time": "2023-03-20T12:15:11.335Z"
   },
   {
    "duration": 140,
    "start_time": "2023-03-20T12:15:21.518Z"
   },
   {
    "duration": 138,
    "start_time": "2023-03-20T12:16:21.191Z"
   },
   {
    "duration": 128,
    "start_time": "2023-03-20T12:16:25.420Z"
   },
   {
    "duration": 143,
    "start_time": "2023-03-20T12:19:04.523Z"
   },
   {
    "duration": 264,
    "start_time": "2023-03-20T12:19:22.416Z"
   },
   {
    "duration": 247,
    "start_time": "2023-03-20T12:24:46.797Z"
   },
   {
    "duration": 285,
    "start_time": "2023-03-20T12:25:16.152Z"
   },
   {
    "duration": 282,
    "start_time": "2023-03-20T12:27:10.249Z"
   },
   {
    "duration": 270,
    "start_time": "2023-03-20T12:27:30.177Z"
   },
   {
    "duration": 53,
    "start_time": "2023-03-20T12:32:32.895Z"
   },
   {
    "duration": 280,
    "start_time": "2023-03-20T12:32:37.446Z"
   },
   {
    "duration": 2125,
    "start_time": "2023-03-20T12:35:34.359Z"
   },
   {
    "duration": 277,
    "start_time": "2023-03-20T12:35:56.918Z"
   },
   {
    "duration": 311,
    "start_time": "2023-03-20T12:36:58.239Z"
   },
   {
    "duration": 257,
    "start_time": "2023-03-20T12:37:11.264Z"
   },
   {
    "duration": 297,
    "start_time": "2023-03-20T12:37:26.734Z"
   },
   {
    "duration": 270,
    "start_time": "2023-03-20T12:37:41.852Z"
   },
   {
    "duration": 153,
    "start_time": "2023-03-20T12:37:56.113Z"
   },
   {
    "duration": 12,
    "start_time": "2023-03-20T12:38:09.790Z"
   },
   {
    "duration": 43,
    "start_time": "2023-03-20T12:39:08.730Z"
   },
   {
    "duration": 167,
    "start_time": "2023-03-20T12:39:35.028Z"
   },
   {
    "duration": 55,
    "start_time": "2023-03-20T12:40:26.620Z"
   },
   {
    "duration": 37,
    "start_time": "2023-03-20T12:40:38.458Z"
   },
   {
    "duration": 10,
    "start_time": "2023-03-20T12:40:54.924Z"
   },
   {
    "duration": 29,
    "start_time": "2023-03-20T12:42:15.575Z"
   },
   {
    "duration": 11,
    "start_time": "2023-03-20T12:42:29.218Z"
   },
   {
    "duration": 12,
    "start_time": "2023-03-20T12:42:46.299Z"
   },
   {
    "duration": 11,
    "start_time": "2023-03-20T12:43:07.132Z"
   },
   {
    "duration": 288,
    "start_time": "2023-03-20T12:43:31.128Z"
   },
   {
    "duration": 51,
    "start_time": "2023-03-20T12:43:53.549Z"
   },
   {
    "duration": 304,
    "start_time": "2023-03-20T12:43:55.968Z"
   },
   {
    "duration": 284,
    "start_time": "2023-03-20T12:44:05.599Z"
   },
   {
    "duration": 276,
    "start_time": "2023-03-20T12:44:10.211Z"
   },
   {
    "duration": 282,
    "start_time": "2023-03-20T12:44:36.073Z"
   },
   {
    "duration": 251,
    "start_time": "2023-03-20T12:44:58.635Z"
   },
   {
    "duration": 201,
    "start_time": "2023-03-20T12:49:08.189Z"
   },
   {
    "duration": 49,
    "start_time": "2023-03-20T12:49:29.212Z"
   },
   {
    "duration": 59,
    "start_time": "2023-03-20T12:49:40.787Z"
   },
   {
    "duration": 52,
    "start_time": "2023-03-20T12:50:54.827Z"
   },
   {
    "duration": 120,
    "start_time": "2023-03-20T12:51:04.586Z"
   },
   {
    "duration": 125,
    "start_time": "2023-03-20T12:51:15.622Z"
   },
   {
    "duration": 250,
    "start_time": "2023-03-20T12:52:31.536Z"
   },
   {
    "duration": 295,
    "start_time": "2023-03-20T12:57:16.591Z"
   },
   {
    "duration": 258,
    "start_time": "2023-03-20T12:57:58.620Z"
   },
   {
    "duration": 11,
    "start_time": "2023-03-20T13:04:13.241Z"
   },
   {
    "duration": 13,
    "start_time": "2023-03-20T13:04:35.556Z"
   },
   {
    "duration": 14,
    "start_time": "2023-03-20T13:04:56.191Z"
   },
   {
    "duration": 14,
    "start_time": "2023-03-20T13:07:27.569Z"
   },
   {
    "duration": 10,
    "start_time": "2023-03-20T13:07:32.162Z"
   },
   {
    "duration": 27,
    "start_time": "2023-03-20T13:07:54.161Z"
   },
   {
    "duration": 36,
    "start_time": "2023-03-20T13:09:44.625Z"
   },
   {
    "duration": 26,
    "start_time": "2023-03-20T13:09:53.886Z"
   },
   {
    "duration": 42,
    "start_time": "2023-03-20T13:10:40.315Z"
   },
   {
    "duration": 49,
    "start_time": "2023-03-20T13:10:52.716Z"
   },
   {
    "duration": 20,
    "start_time": "2023-03-20T13:12:34.765Z"
   },
   {
    "duration": 18,
    "start_time": "2023-03-20T13:14:27.096Z"
   },
   {
    "duration": 19,
    "start_time": "2023-03-20T13:16:21.806Z"
   },
   {
    "duration": 14,
    "start_time": "2023-03-20T13:21:27.055Z"
   },
   {
    "duration": 8,
    "start_time": "2023-03-20T13:24:43.078Z"
   },
   {
    "duration": 11,
    "start_time": "2023-03-20T13:24:50.485Z"
   },
   {
    "duration": 59,
    "start_time": "2023-03-20T13:25:05.858Z"
   },
   {
    "duration": 11,
    "start_time": "2023-03-20T13:26:42.942Z"
   },
   {
    "duration": 19,
    "start_time": "2023-03-20T13:26:50.282Z"
   },
   {
    "duration": 18,
    "start_time": "2023-03-20T13:27:24.154Z"
   },
   {
    "duration": 14,
    "start_time": "2023-03-20T13:27:46.343Z"
   },
   {
    "duration": 10,
    "start_time": "2023-03-20T13:27:53.461Z"
   },
   {
    "duration": 127,
    "start_time": "2023-03-20T13:28:20.480Z"
   },
   {
    "duration": 100,
    "start_time": "2023-03-20T13:28:36.239Z"
   },
   {
    "duration": 121,
    "start_time": "2023-03-20T13:28:44.776Z"
   },
   {
    "duration": 234,
    "start_time": "2023-03-20T13:29:02.226Z"
   },
   {
    "duration": 112,
    "start_time": "2023-03-20T13:29:30.613Z"
   },
   {
    "duration": 223,
    "start_time": "2023-03-20T13:30:05.300Z"
   },
   {
    "duration": 221,
    "start_time": "2023-03-20T13:33:26.916Z"
   },
   {
    "duration": 232,
    "start_time": "2023-03-20T13:33:33.676Z"
   },
   {
    "duration": 701,
    "start_time": "2023-03-20T13:33:41.786Z"
   },
   {
    "duration": 14,
    "start_time": "2023-03-20T13:35:55.831Z"
   },
   {
    "duration": 14,
    "start_time": "2023-03-20T13:36:02.062Z"
   },
   {
    "duration": 248,
    "start_time": "2023-03-20T13:36:05.215Z"
   },
   {
    "duration": 11,
    "start_time": "2023-03-20T13:36:53.041Z"
   },
   {
    "duration": 44,
    "start_time": "2023-03-20T13:43:47.988Z"
   },
   {
    "duration": 46,
    "start_time": "2023-03-20T13:44:12.696Z"
   },
   {
    "duration": 8,
    "start_time": "2023-03-20T13:44:21.800Z"
   },
   {
    "duration": 8,
    "start_time": "2023-03-20T13:45:21.093Z"
   },
   {
    "duration": 9,
    "start_time": "2023-03-20T13:45:58.618Z"
   },
   {
    "duration": 11,
    "start_time": "2023-03-20T13:47:38.628Z"
   },
   {
    "duration": 11,
    "start_time": "2023-03-20T13:47:55.199Z"
   },
   {
    "duration": 11,
    "start_time": "2023-03-20T13:48:16.247Z"
   },
   {
    "duration": 71,
    "start_time": "2023-03-20T13:48:24.032Z"
   },
   {
    "duration": 46,
    "start_time": "2023-03-20T13:48:28.136Z"
   },
   {
    "duration": 10,
    "start_time": "2023-03-20T13:48:29.825Z"
   },
   {
    "duration": 145,
    "start_time": "2023-03-20T13:50:44.447Z"
   },
   {
    "duration": 11,
    "start_time": "2023-03-20T13:50:59.990Z"
   },
   {
    "duration": 118,
    "start_time": "2023-03-20T13:52:51.304Z"
   },
   {
    "duration": 212,
    "start_time": "2023-03-20T13:52:59.171Z"
   },
   {
    "duration": 222,
    "start_time": "2023-03-20T13:53:13.675Z"
   },
   {
    "duration": 207,
    "start_time": "2023-03-20T13:53:26.591Z"
   },
   {
    "duration": 212,
    "start_time": "2023-03-20T13:54:39.585Z"
   },
   {
    "duration": 47,
    "start_time": "2023-03-20T14:00:06.153Z"
   },
   {
    "duration": 55,
    "start_time": "2023-03-20T14:00:10.959Z"
   },
   {
    "duration": 13,
    "start_time": "2023-03-20T14:00:26.002Z"
   },
   {
    "duration": 226,
    "start_time": "2023-03-20T14:01:59.823Z"
   },
   {
    "duration": 236,
    "start_time": "2023-03-20T14:02:14.592Z"
   },
   {
    "duration": 238,
    "start_time": "2023-03-20T14:03:07.675Z"
   },
   {
    "duration": 228,
    "start_time": "2023-03-20T14:03:33.553Z"
   },
   {
    "duration": 228,
    "start_time": "2023-03-20T14:03:41.732Z"
   },
   {
    "duration": 214,
    "start_time": "2023-03-20T14:03:46.721Z"
   },
   {
    "duration": 227,
    "start_time": "2023-03-20T14:04:09.733Z"
   },
   {
    "duration": 225,
    "start_time": "2023-03-20T14:04:18.584Z"
   },
   {
    "duration": 225,
    "start_time": "2023-03-20T14:04:33.289Z"
   },
   {
    "duration": 24,
    "start_time": "2023-03-20T14:05:01.593Z"
   },
   {
    "duration": 9,
    "start_time": "2023-03-20T14:05:26.895Z"
   },
   {
    "duration": 106,
    "start_time": "2023-03-20T14:05:35.699Z"
   },
   {
    "duration": 214,
    "start_time": "2023-03-20T14:05:42.890Z"
   },
   {
    "duration": 216,
    "start_time": "2023-03-20T14:08:07.098Z"
   },
   {
    "duration": 222,
    "start_time": "2023-03-20T14:08:13.468Z"
   },
   {
    "duration": 204,
    "start_time": "2023-03-20T14:08:17.824Z"
   },
   {
    "duration": 211,
    "start_time": "2023-03-20T14:08:29.009Z"
   },
   {
    "duration": 223,
    "start_time": "2023-03-20T14:09:00.189Z"
   },
   {
    "duration": 116,
    "start_time": "2023-03-20T14:15:52.216Z"
   },
   {
    "duration": 16,
    "start_time": "2023-03-20T14:17:51.956Z"
   },
   {
    "duration": 107,
    "start_time": "2023-03-20T14:19:05.128Z"
   },
   {
    "duration": 105,
    "start_time": "2023-03-20T14:19:12.370Z"
   },
   {
    "duration": 212,
    "start_time": "2023-03-20T14:19:17.749Z"
   },
   {
    "duration": 205,
    "start_time": "2023-03-20T14:19:40.119Z"
   },
   {
    "duration": 201,
    "start_time": "2023-03-20T14:22:32.590Z"
   },
   {
    "duration": 201,
    "start_time": "2023-03-20T14:22:41.135Z"
   },
   {
    "duration": 234,
    "start_time": "2023-03-20T14:23:10.426Z"
   },
   {
    "duration": 247,
    "start_time": "2023-03-20T14:23:17.985Z"
   },
   {
    "duration": 215,
    "start_time": "2023-03-20T14:23:36.923Z"
   },
   {
    "duration": 247,
    "start_time": "2023-03-20T14:25:46.693Z"
   },
   {
    "duration": 241,
    "start_time": "2023-03-20T14:26:16.621Z"
   },
   {
    "duration": 256,
    "start_time": "2023-03-20T14:26:26.117Z"
   },
   {
    "duration": 247,
    "start_time": "2023-03-20T14:31:59.876Z"
   },
   {
    "duration": 263,
    "start_time": "2023-03-20T14:33:47.162Z"
   },
   {
    "duration": 222,
    "start_time": "2023-03-20T14:33:51.824Z"
   },
   {
    "duration": 242,
    "start_time": "2023-03-20T14:33:56.209Z"
   },
   {
    "duration": 789,
    "start_time": "2023-03-20T14:35:21.725Z"
   },
   {
    "duration": 257,
    "start_time": "2023-03-20T14:36:17.584Z"
   },
   {
    "duration": 236,
    "start_time": "2023-03-20T14:36:22.676Z"
   },
   {
    "duration": 255,
    "start_time": "2023-03-20T14:36:36.051Z"
   },
   {
    "duration": 272,
    "start_time": "2023-03-20T14:36:42.219Z"
   },
   {
    "duration": 245,
    "start_time": "2023-03-20T14:40:14.362Z"
   },
   {
    "duration": 238,
    "start_time": "2023-03-20T14:40:29.582Z"
   },
   {
    "duration": 253,
    "start_time": "2023-03-20T14:40:34.888Z"
   },
   {
    "duration": 257,
    "start_time": "2023-03-20T14:40:40.594Z"
   },
   {
    "duration": 242,
    "start_time": "2023-03-20T14:40:48.688Z"
   },
   {
    "duration": 247,
    "start_time": "2023-03-20T14:43:18.583Z"
   },
   {
    "duration": 225,
    "start_time": "2023-03-20T14:43:57.090Z"
   },
   {
    "duration": 249,
    "start_time": "2023-03-20T14:44:51.953Z"
   },
   {
    "duration": 234,
    "start_time": "2023-03-20T14:45:02.491Z"
   },
   {
    "duration": 244,
    "start_time": "2023-03-20T14:49:00.590Z"
   },
   {
    "duration": 253,
    "start_time": "2023-03-20T14:49:46.407Z"
   },
   {
    "duration": 255,
    "start_time": "2023-03-20T14:49:53.429Z"
   },
   {
    "duration": 302,
    "start_time": "2023-03-20T14:50:17.874Z"
   },
   {
    "duration": 259,
    "start_time": "2023-03-20T14:50:52.461Z"
   },
   {
    "duration": 265,
    "start_time": "2023-03-20T14:51:09.824Z"
   },
   {
    "duration": 272,
    "start_time": "2023-03-20T14:51:25.215Z"
   },
   {
    "duration": 314,
    "start_time": "2023-03-20T14:54:01.486Z"
   },
   {
    "duration": 262,
    "start_time": "2023-03-20T14:57:26.000Z"
   },
   {
    "duration": 268,
    "start_time": "2023-03-20T14:57:46.697Z"
   },
   {
    "duration": 1044,
    "start_time": "2023-03-20T14:59:11.390Z"
   },
   {
    "duration": 292,
    "start_time": "2023-03-20T15:02:34.112Z"
   },
   {
    "duration": 285,
    "start_time": "2023-03-20T15:02:52.598Z"
   },
   {
    "duration": 266,
    "start_time": "2023-03-20T15:03:49.547Z"
   },
   {
    "duration": 359,
    "start_time": "2023-03-20T15:04:10.358Z"
   },
   {
    "duration": 299,
    "start_time": "2023-03-20T15:05:49.389Z"
   },
   {
    "duration": 312,
    "start_time": "2023-03-20T15:14:20.527Z"
   },
   {
    "duration": 300,
    "start_time": "2023-03-20T15:14:35.002Z"
   },
   {
    "duration": 63,
    "start_time": "2023-03-20T15:14:51.115Z"
   },
   {
    "duration": 412,
    "start_time": "2023-03-20T15:14:54.796Z"
   },
   {
    "duration": 742,
    "start_time": "2023-03-20T15:17:09.495Z"
   },
   {
    "duration": 3,
    "start_time": "2023-03-20T15:17:10.239Z"
   },
   {
    "duration": 58,
    "start_time": "2023-03-20T15:17:10.243Z"
   },
   {
    "duration": 130,
    "start_time": "2023-03-20T15:17:10.303Z"
   },
   {
    "duration": 16,
    "start_time": "2023-03-20T15:17:10.437Z"
   },
   {
    "duration": 2152,
    "start_time": "2023-03-20T15:17:10.455Z"
   },
   {
    "duration": 27,
    "start_time": "2023-03-20T15:17:12.609Z"
   },
   {
    "duration": 272,
    "start_time": "2023-03-20T15:17:12.637Z"
   },
   {
    "duration": 47554,
    "start_time": "2023-03-20T15:17:12.910Z"
   },
   {
    "duration": 54,
    "start_time": "2023-03-20T15:18:00.466Z"
   },
   {
    "duration": 151,
    "start_time": "2023-03-20T15:18:00.521Z"
   },
   {
    "duration": 22,
    "start_time": "2023-03-20T15:18:00.673Z"
   },
   {
    "duration": 45,
    "start_time": "2023-03-20T15:18:00.697Z"
   },
   {
    "duration": 56,
    "start_time": "2023-03-20T15:18:00.746Z"
   },
   {
    "duration": 63,
    "start_time": "2023-03-20T15:18:00.804Z"
   },
   {
    "duration": 67,
    "start_time": "2023-03-20T15:18:00.869Z"
   },
   {
    "duration": 29314,
    "start_time": "2023-03-20T15:18:47.289Z"
   },
   {
    "duration": 1365,
    "start_time": "2023-03-20T15:20:17.555Z"
   },
   {
    "duration": 2716,
    "start_time": "2023-03-20T15:20:51.893Z"
   },
   {
    "duration": 254,
    "start_time": "2023-03-20T15:22:14.521Z"
   },
   {
    "duration": 268,
    "start_time": "2023-03-20T15:22:34.308Z"
   },
   {
    "duration": 332,
    "start_time": "2023-03-20T15:23:01.193Z"
   },
   {
    "duration": 255,
    "start_time": "2023-03-20T15:23:10.805Z"
   },
   {
    "duration": 271,
    "start_time": "2023-03-20T15:23:45.005Z"
   },
   {
    "duration": 261,
    "start_time": "2023-03-20T15:24:30.901Z"
   },
   {
    "duration": 251,
    "start_time": "2023-03-20T15:24:59.210Z"
   },
   {
    "duration": 376,
    "start_time": "2023-03-20T15:25:05.119Z"
   },
   {
    "duration": 284,
    "start_time": "2023-03-20T15:25:16.373Z"
   },
   {
    "duration": 240,
    "start_time": "2023-03-20T15:27:43.310Z"
   },
   {
    "duration": 233,
    "start_time": "2023-03-20T15:30:45.656Z"
   },
   {
    "duration": 229,
    "start_time": "2023-03-20T15:30:49.856Z"
   },
   {
    "duration": 228,
    "start_time": "2023-03-20T15:36:13.749Z"
   },
   {
    "duration": 10,
    "start_time": "2023-03-20T15:36:31.488Z"
   },
   {
    "duration": 19,
    "start_time": "2023-03-20T15:37:04.488Z"
   },
   {
    "duration": 308,
    "start_time": "2023-03-20T15:37:43.993Z"
   },
   {
    "duration": 222,
    "start_time": "2023-03-20T15:38:34.857Z"
   },
   {
    "duration": 232,
    "start_time": "2023-03-20T15:38:49.286Z"
   },
   {
    "duration": 236,
    "start_time": "2023-03-20T15:38:52.855Z"
   },
   {
    "duration": 232,
    "start_time": "2023-03-20T15:39:32.529Z"
   },
   {
    "duration": 39,
    "start_time": "2023-03-20T15:40:50.686Z"
   },
   {
    "duration": 8,
    "start_time": "2023-03-20T15:40:54.722Z"
   },
   {
    "duration": 13,
    "start_time": "2023-03-20T15:41:14.085Z"
   },
   {
    "duration": 10,
    "start_time": "2023-03-20T15:41:45.377Z"
   },
   {
    "duration": 14,
    "start_time": "2023-03-20T15:42:12.425Z"
   },
   {
    "duration": 253,
    "start_time": "2023-03-20T15:42:25.426Z"
   },
   {
    "duration": 137,
    "start_time": "2023-03-20T15:42:31.806Z"
   },
   {
    "duration": 150,
    "start_time": "2023-03-20T15:43:19.516Z"
   },
   {
    "duration": 145,
    "start_time": "2023-03-20T15:44:01.871Z"
   },
   {
    "duration": 148,
    "start_time": "2023-03-20T15:44:30.808Z"
   },
   {
    "duration": 205,
    "start_time": "2023-03-20T15:46:02.826Z"
   },
   {
    "duration": 240,
    "start_time": "2023-03-20T15:46:17.808Z"
   },
   {
    "duration": 237,
    "start_time": "2023-03-20T15:46:54.525Z"
   },
   {
    "duration": 252,
    "start_time": "2023-03-20T15:47:09.071Z"
   },
   {
    "duration": 240,
    "start_time": "2023-03-20T15:47:20.101Z"
   },
   {
    "duration": 164,
    "start_time": "2023-03-20T15:48:07.365Z"
   },
   {
    "duration": 187,
    "start_time": "2023-03-20T15:48:45.116Z"
   },
   {
    "duration": 258,
    "start_time": "2023-03-20T15:49:03.340Z"
   },
   {
    "duration": 174,
    "start_time": "2023-03-20T15:49:11.441Z"
   },
   {
    "duration": 191,
    "start_time": "2023-03-20T15:49:13.641Z"
   },
   {
    "duration": 198,
    "start_time": "2023-03-20T15:49:20.378Z"
   },
   {
    "duration": 166,
    "start_time": "2023-03-20T15:49:31.873Z"
   },
   {
    "duration": 195,
    "start_time": "2023-03-20T15:49:50.829Z"
   },
   {
    "duration": 254,
    "start_time": "2023-03-20T15:50:04.110Z"
   },
   {
    "duration": 172,
    "start_time": "2023-03-20T15:52:04.173Z"
   },
   {
    "duration": 186,
    "start_time": "2023-03-20T15:52:50.386Z"
   },
   {
    "duration": 189,
    "start_time": "2023-03-20T15:55:45.572Z"
   },
   {
    "duration": 164,
    "start_time": "2023-03-20T15:55:57.394Z"
   },
   {
    "duration": 164,
    "start_time": "2023-03-20T15:59:52.689Z"
   },
   {
    "duration": 202,
    "start_time": "2023-03-20T16:00:04.742Z"
   },
   {
    "duration": 179,
    "start_time": "2023-03-20T16:00:39.468Z"
   },
   {
    "duration": 324,
    "start_time": "2023-03-20T16:00:53.431Z"
   },
   {
    "duration": 318,
    "start_time": "2023-03-20T16:01:12.670Z"
   },
   {
    "duration": 356,
    "start_time": "2023-03-20T16:01:22.022Z"
   },
   {
    "duration": 121,
    "start_time": "2023-03-20T16:03:35.360Z"
   },
   {
    "duration": 103,
    "start_time": "2023-03-20T16:03:39.213Z"
   },
   {
    "duration": 336,
    "start_time": "2023-03-20T16:04:00.066Z"
   },
   {
    "duration": 318,
    "start_time": "2023-03-20T16:04:37.104Z"
   },
   {
    "duration": 160,
    "start_time": "2023-03-20T16:06:16.189Z"
   },
   {
    "duration": 153,
    "start_time": "2023-03-20T16:07:55.894Z"
   },
   {
    "duration": 148,
    "start_time": "2023-03-20T16:09:06.288Z"
   },
   {
    "duration": 92,
    "start_time": "2023-03-20T16:09:31.990Z"
   },
   {
    "duration": 103,
    "start_time": "2023-03-20T16:12:55.696Z"
   },
   {
    "duration": 156,
    "start_time": "2023-03-20T16:13:08.612Z"
   },
   {
    "duration": 164,
    "start_time": "2023-03-20T16:13:44.865Z"
   },
   {
    "duration": 277,
    "start_time": "2023-03-20T16:14:26.720Z"
   },
   {
    "duration": 152,
    "start_time": "2023-03-20T16:15:20.868Z"
   },
   {
    "duration": 19,
    "start_time": "2023-03-20T16:15:53.072Z"
   },
   {
    "duration": 86,
    "start_time": "2023-03-20T16:16:17.764Z"
   },
   {
    "duration": 143,
    "start_time": "2023-03-20T16:16:22.312Z"
   },
   {
    "duration": 155,
    "start_time": "2023-03-20T16:16:36.782Z"
   },
   {
    "duration": 172,
    "start_time": "2023-03-20T16:18:05.842Z"
   },
   {
    "duration": 89,
    "start_time": "2023-03-20T16:18:52.972Z"
   },
   {
    "duration": 155,
    "start_time": "2023-03-20T16:18:56.702Z"
   },
   {
    "duration": 105,
    "start_time": "2023-03-20T16:19:42.206Z"
   },
   {
    "duration": 172,
    "start_time": "2023-03-20T16:21:49.877Z"
   },
   {
    "duration": 13,
    "start_time": "2023-03-20T16:22:13.889Z"
   },
   {
    "duration": 15,
    "start_time": "2023-03-20T16:22:21.725Z"
   },
   {
    "duration": 15,
    "start_time": "2023-03-20T16:22:24.142Z"
   },
   {
    "duration": 14,
    "start_time": "2023-03-20T16:22:27.240Z"
   },
   {
    "duration": 17,
    "start_time": "2023-03-20T16:22:34.885Z"
   },
   {
    "duration": 14,
    "start_time": "2023-03-20T16:25:07.372Z"
   },
   {
    "duration": 12,
    "start_time": "2023-03-20T16:25:32.684Z"
   },
   {
    "duration": 17,
    "start_time": "2023-03-20T16:25:58.249Z"
   },
   {
    "duration": 15,
    "start_time": "2023-03-20T16:26:03.653Z"
   },
   {
    "duration": 40,
    "start_time": "2023-03-20T16:35:02.247Z"
   },
   {
    "duration": 19,
    "start_time": "2023-03-20T16:35:34.009Z"
   },
   {
    "duration": 39,
    "start_time": "2023-03-20T16:35:40.244Z"
   },
   {
    "duration": 13,
    "start_time": "2023-03-20T16:36:04.648Z"
   },
   {
    "duration": 277,
    "start_time": "2023-03-20T16:41:47.721Z"
   },
   {
    "duration": 265,
    "start_time": "2023-03-20T16:42:07.681Z"
   },
   {
    "duration": 405,
    "start_time": "2023-03-20T16:43:42.895Z"
   },
   {
    "duration": 556,
    "start_time": "2023-03-20T16:43:51.688Z"
   },
   {
    "duration": 1881,
    "start_time": "2023-03-20T16:44:08.209Z"
   },
   {
    "duration": 383,
    "start_time": "2023-03-20T16:44:19.020Z"
   },
   {
    "duration": 1464,
    "start_time": "2023-03-20T16:44:38.388Z"
   },
   {
    "duration": 421,
    "start_time": "2023-03-20T16:48:49.232Z"
   },
   {
    "duration": 1021,
    "start_time": "2023-03-20T16:49:20.600Z"
   },
   {
    "duration": 1236,
    "start_time": "2023-03-20T16:50:26.309Z"
   },
   {
    "duration": 1088,
    "start_time": "2023-03-20T16:50:46.638Z"
   },
   {
    "duration": 1110,
    "start_time": "2023-03-20T16:51:38.413Z"
   },
   {
    "duration": 266,
    "start_time": "2023-03-20T16:51:47.794Z"
   },
   {
    "duration": 287,
    "start_time": "2023-03-20T16:52:03.302Z"
   },
   {
    "duration": 1273,
    "start_time": "2023-03-20T16:52:16.730Z"
   },
   {
    "duration": 1031,
    "start_time": "2023-03-20T16:52:49.084Z"
   },
   {
    "duration": 1165,
    "start_time": "2023-03-20T16:53:25.517Z"
   },
   {
    "duration": 1389,
    "start_time": "2023-03-20T16:53:48.632Z"
   },
   {
    "duration": 1222,
    "start_time": "2023-03-20T16:54:15.247Z"
   },
   {
    "duration": 1393,
    "start_time": "2023-03-20T16:54:26.371Z"
   },
   {
    "duration": 1292,
    "start_time": "2023-03-20T16:54:34.685Z"
   },
   {
    "duration": 1257,
    "start_time": "2023-03-20T16:54:42.220Z"
   },
   {
    "duration": 1381,
    "start_time": "2023-03-20T16:55:23.946Z"
   },
   {
    "duration": 1488,
    "start_time": "2023-03-20T16:55:49.215Z"
   },
   {
    "duration": 1247,
    "start_time": "2023-03-20T16:56:41.148Z"
   },
   {
    "duration": 49,
    "start_time": "2023-03-20T16:57:48.889Z"
   },
   {
    "duration": 46,
    "start_time": "2023-03-20T16:57:56.506Z"
   },
   {
    "duration": 49,
    "start_time": "2023-03-20T16:58:04.247Z"
   },
   {
    "duration": 50,
    "start_time": "2023-03-20T16:58:19.610Z"
   },
   {
    "duration": 52,
    "start_time": "2023-03-20T16:58:57.015Z"
   },
   {
    "duration": 51,
    "start_time": "2023-03-20T16:59:13.516Z"
   },
   {
    "duration": 46,
    "start_time": "2023-03-20T16:59:28.976Z"
   },
   {
    "duration": 114,
    "start_time": "2023-03-20T16:59:48.782Z"
   },
   {
    "duration": 116,
    "start_time": "2023-03-20T17:00:24.506Z"
   },
   {
    "duration": 1240,
    "start_time": "2023-03-20T17:01:15.180Z"
   },
   {
    "duration": 1590,
    "start_time": "2023-03-20T17:02:01.093Z"
   },
   {
    "duration": 1172,
    "start_time": "2023-03-20T17:02:12.084Z"
   },
   {
    "duration": 1208,
    "start_time": "2023-03-20T17:02:20.030Z"
   },
   {
    "duration": 1336,
    "start_time": "2023-03-20T17:02:23.183Z"
   },
   {
    "duration": 1209,
    "start_time": "2023-03-20T17:04:16.983Z"
   },
   {
    "duration": 1560,
    "start_time": "2023-03-20T17:04:48.438Z"
   },
   {
    "duration": 1304,
    "start_time": "2023-03-20T17:07:01.125Z"
   },
   {
    "duration": 1217,
    "start_time": "2023-03-20T17:07:11.639Z"
   },
   {
    "duration": 1263,
    "start_time": "2023-03-20T17:07:19.905Z"
   },
   {
    "duration": 1210,
    "start_time": "2023-03-20T17:08:18.081Z"
   },
   {
    "duration": 112,
    "start_time": "2023-03-20T17:08:43.219Z"
   },
   {
    "duration": 1708,
    "start_time": "2023-03-20T17:08:48.437Z"
   },
   {
    "duration": 1145,
    "start_time": "2023-03-20T17:09:11.917Z"
   },
   {
    "duration": 1181,
    "start_time": "2023-03-20T17:09:40.900Z"
   },
   {
    "duration": 1187,
    "start_time": "2023-03-20T17:10:40.583Z"
   },
   {
    "duration": 12,
    "start_time": "2023-03-20T17:12:13.005Z"
   },
   {
    "duration": 117,
    "start_time": "2023-03-20T17:15:01.387Z"
   },
   {
    "duration": 107,
    "start_time": "2023-03-20T17:15:59.590Z"
   },
   {
    "duration": 1087,
    "start_time": "2023-03-20T17:17:08.524Z"
   },
   {
    "duration": 112,
    "start_time": "2023-03-20T17:17:50.147Z"
   },
   {
    "duration": 154,
    "start_time": "2023-03-20T17:18:17.586Z"
   },
   {
    "duration": 1089,
    "start_time": "2023-03-20T17:18:24.458Z"
   },
   {
    "duration": 1765,
    "start_time": "2023-03-20T17:18:44.007Z"
   },
   {
    "duration": 1111,
    "start_time": "2023-03-20T17:18:51.980Z"
   },
   {
    "duration": 110,
    "start_time": "2023-03-20T17:19:29.716Z"
   },
   {
    "duration": 1174,
    "start_time": "2023-03-20T17:19:38.995Z"
   },
   {
    "duration": 137,
    "start_time": "2023-03-20T17:20:26.127Z"
   },
   {
    "duration": 1220,
    "start_time": "2023-03-20T17:20:49.983Z"
   },
   {
    "duration": 1220,
    "start_time": "2023-03-20T17:21:16.925Z"
   },
   {
    "duration": 1462,
    "start_time": "2023-03-20T17:21:26.030Z"
   },
   {
    "duration": 2036,
    "start_time": "2023-03-20T17:22:13.004Z"
   },
   {
    "duration": 1974,
    "start_time": "2023-03-20T17:22:40.295Z"
   },
   {
    "duration": 2349,
    "start_time": "2023-03-20T17:22:51.142Z"
   },
   {
    "duration": 2169,
    "start_time": "2023-03-20T17:25:30.830Z"
   },
   {
    "duration": 2809,
    "start_time": "2023-03-20T17:25:37.192Z"
   },
   {
    "duration": 2366,
    "start_time": "2023-03-20T17:25:46.857Z"
   },
   {
    "duration": 2400,
    "start_time": "2023-03-20T17:26:28.787Z"
   },
   {
    "duration": 2421,
    "start_time": "2023-03-20T17:29:35.190Z"
   },
   {
    "duration": 2585,
    "start_time": "2023-03-20T17:29:43.696Z"
   },
   {
    "duration": 3003,
    "start_time": "2023-03-20T17:30:27.165Z"
   },
   {
    "duration": 49,
    "start_time": "2023-03-20T17:35:27.045Z"
   },
   {
    "duration": 2394,
    "start_time": "2023-03-20T17:35:30.985Z"
   },
   {
    "duration": 2145,
    "start_time": "2023-03-20T17:36:20.441Z"
   },
   {
    "duration": 2704,
    "start_time": "2023-03-20T17:37:00.608Z"
   },
   {
    "duration": 2784,
    "start_time": "2023-03-20T17:37:13.206Z"
   },
   {
    "duration": 3323,
    "start_time": "2023-03-20T17:37:16.205Z"
   },
   {
    "duration": 2671,
    "start_time": "2023-03-20T17:37:50.197Z"
   },
   {
    "duration": 586,
    "start_time": "2023-03-20T17:41:28.566Z"
   },
   {
    "duration": 459,
    "start_time": "2023-03-20T17:41:37.384Z"
   },
   {
    "duration": 2113,
    "start_time": "2023-03-20T17:41:48.525Z"
   },
   {
    "duration": 551,
    "start_time": "2023-03-20T17:43:47.980Z"
   },
   {
    "duration": 614,
    "start_time": "2023-03-20T17:43:58.179Z"
   },
   {
    "duration": 573,
    "start_time": "2023-03-20T17:44:04.583Z"
   },
   {
    "duration": 591,
    "start_time": "2023-03-20T17:44:26.586Z"
   },
   {
    "duration": 46,
    "start_time": "2023-03-20T17:44:49.079Z"
   },
   {
    "duration": 596,
    "start_time": "2023-03-20T17:45:02.007Z"
   },
   {
    "duration": 667,
    "start_time": "2023-03-20T17:45:13.908Z"
   },
   {
    "duration": 1254,
    "start_time": "2023-03-20T17:46:31.463Z"
   },
   {
    "duration": 49,
    "start_time": "2023-03-20T17:49:11.629Z"
   },
   {
    "duration": 827,
    "start_time": "2023-03-20T17:49:19.335Z"
   },
   {
    "duration": 663,
    "start_time": "2023-03-20T17:49:47.516Z"
   },
   {
    "duration": 687,
    "start_time": "2023-03-20T17:50:00.064Z"
   },
   {
    "duration": 677,
    "start_time": "2023-03-20T17:51:18.365Z"
   },
   {
    "duration": 639,
    "start_time": "2023-03-20T17:52:23.753Z"
   },
   {
    "duration": 589,
    "start_time": "2023-03-20T17:52:30.823Z"
   },
   {
    "duration": 729,
    "start_time": "2023-03-20T17:52:38.214Z"
   },
   {
    "duration": 832,
    "start_time": "2023-03-20T17:52:46.187Z"
   },
   {
    "duration": 786,
    "start_time": "2023-03-20T17:53:02.028Z"
   },
   {
    "duration": 769,
    "start_time": "2023-03-20T17:53:14.287Z"
   },
   {
    "duration": 48,
    "start_time": "2023-03-20T17:53:23.537Z"
   },
   {
    "duration": 739,
    "start_time": "2023-03-20T17:53:29.614Z"
   },
   {
    "duration": 810,
    "start_time": "2023-03-20T17:53:42.386Z"
   },
   {
    "duration": 932,
    "start_time": "2023-03-20T17:53:49.531Z"
   },
   {
    "duration": 1401,
    "start_time": "2023-03-20T17:53:58.190Z"
   },
   {
    "duration": 2452,
    "start_time": "2023-03-20T17:54:21.558Z"
   },
   {
    "duration": 693,
    "start_time": "2023-03-20T17:54:37.878Z"
   },
   {
    "duration": 675,
    "start_time": "2023-03-20T17:54:48.115Z"
   },
   {
    "duration": 727,
    "start_time": "2023-03-20T17:57:37.708Z"
   },
   {
    "duration": 1710,
    "start_time": "2023-03-20T17:57:43.533Z"
   },
   {
    "duration": 2293,
    "start_time": "2023-03-20T17:58:13.549Z"
   },
   {
    "duration": 681,
    "start_time": "2023-03-20T17:58:57.361Z"
   },
   {
    "duration": 3085,
    "start_time": "2023-03-20T17:59:40.469Z"
   },
   {
    "duration": 2655,
    "start_time": "2023-03-20T18:00:32.792Z"
   },
   {
    "duration": 2733,
    "start_time": "2023-03-20T18:00:54.111Z"
   },
   {
    "duration": 484,
    "start_time": "2023-03-20T18:04:39.980Z"
   },
   {
    "duration": 476,
    "start_time": "2023-03-20T18:04:48.458Z"
   },
   {
    "duration": 452,
    "start_time": "2023-03-20T18:06:38.084Z"
   },
   {
    "duration": 471,
    "start_time": "2023-03-20T18:06:47.979Z"
   },
   {
    "duration": 491,
    "start_time": "2023-03-20T18:06:54.265Z"
   },
   {
    "duration": 455,
    "start_time": "2023-03-20T18:07:09.525Z"
   },
   {
    "duration": 463,
    "start_time": "2023-03-20T18:20:26.229Z"
   },
   {
    "duration": 480,
    "start_time": "2023-03-20T18:21:00.005Z"
   },
   {
    "duration": 462,
    "start_time": "2023-03-20T18:22:00.028Z"
   },
   {
    "duration": 446,
    "start_time": "2023-03-20T18:22:35.479Z"
   },
   {
    "duration": 446,
    "start_time": "2023-03-20T18:22:48.236Z"
   },
   {
    "duration": 440,
    "start_time": "2023-03-20T18:23:43.066Z"
   },
   {
    "duration": 488,
    "start_time": "2023-03-20T18:24:10.046Z"
   },
   {
    "duration": 702,
    "start_time": "2023-03-20T18:25:52.158Z"
   },
   {
    "duration": 1421,
    "start_time": "2023-03-20T18:26:40.661Z"
   },
   {
    "duration": 727,
    "start_time": "2023-03-20T18:30:45.773Z"
   },
   {
    "duration": 697,
    "start_time": "2023-03-20T18:32:18.419Z"
   },
   {
    "duration": 266,
    "start_time": "2023-03-20T18:33:02.173Z"
   },
   {
    "duration": 25,
    "start_time": "2023-03-20T18:33:24.449Z"
   },
   {
    "duration": 14,
    "start_time": "2023-03-20T18:33:34.995Z"
   },
   {
    "duration": 247,
    "start_time": "2023-03-20T18:33:46.726Z"
   },
   {
    "duration": 250,
    "start_time": "2023-03-20T18:33:51.311Z"
   },
   {
    "duration": 2620,
    "start_time": "2023-03-20T18:34:11.413Z"
   },
   {
    "duration": 1927,
    "start_time": "2023-03-20T18:34:56.120Z"
   },
   {
    "duration": 2879,
    "start_time": "2023-03-20T18:35:17.724Z"
   },
   {
    "duration": 3278,
    "start_time": "2023-03-20T18:35:33.279Z"
   },
   {
    "duration": 2699,
    "start_time": "2023-03-20T18:36:15.035Z"
   },
   {
    "duration": 279,
    "start_time": "2023-03-20T18:37:44.079Z"
   },
   {
    "duration": 2832,
    "start_time": "2023-03-20T18:38:02.087Z"
   },
   {
    "duration": 1212,
    "start_time": "2023-03-20T18:38:12.778Z"
   },
   {
    "duration": 1956,
    "start_time": "2023-03-20T18:38:56.172Z"
   },
   {
    "duration": 1241,
    "start_time": "2023-03-20T18:39:11.530Z"
   },
   {
    "duration": 1626,
    "start_time": "2023-03-20T18:39:36.549Z"
   },
   {
    "duration": 2337,
    "start_time": "2023-03-20T18:41:13.799Z"
   },
   {
    "duration": 2775,
    "start_time": "2023-03-20T18:41:45.398Z"
   },
   {
    "duration": 2289,
    "start_time": "2023-03-20T18:41:54.599Z"
   },
   {
    "duration": 2300,
    "start_time": "2023-03-20T18:42:37.394Z"
   },
   {
    "duration": 2225,
    "start_time": "2023-03-20T18:42:47.364Z"
   },
   {
    "duration": 2281,
    "start_time": "2023-03-20T18:43:12.010Z"
   },
   {
    "duration": 3812,
    "start_time": "2023-03-20T18:44:27.292Z"
   },
   {
    "duration": 83,
    "start_time": "2023-03-20T18:44:51.196Z"
   },
   {
    "duration": 3,
    "start_time": "2023-03-20T18:44:51.784Z"
   },
   {
    "duration": 36,
    "start_time": "2023-03-20T18:44:52.407Z"
   },
   {
    "duration": 71,
    "start_time": "2023-03-20T18:44:53.606Z"
   },
   {
    "duration": 15,
    "start_time": "2023-03-20T18:44:55.430Z"
   },
   {
    "duration": 1815,
    "start_time": "2023-03-20T18:45:02.073Z"
   },
   {
    "duration": 24,
    "start_time": "2023-03-20T18:45:05.101Z"
   },
   {
    "duration": 11,
    "start_time": "2023-03-20T18:45:09.844Z"
   },
   {
    "duration": 10,
    "start_time": "2023-03-20T18:45:14.610Z"
   },
   {
    "duration": 4062,
    "start_time": "2023-03-20T18:45:17.113Z"
   },
   {
    "duration": 48,
    "start_time": "2023-03-20T18:45:32.768Z"
   },
   {
    "duration": 6698,
    "start_time": "2023-03-20T18:45:46.770Z"
   },
   {
    "duration": 5818,
    "start_time": "2023-03-20T18:46:51.467Z"
   },
   {
    "duration": 56,
    "start_time": "2023-03-20T18:47:42.531Z"
   },
   {
    "duration": 956,
    "start_time": "2023-03-20T18:47:59.854Z"
   },
   {
    "duration": 4502,
    "start_time": "2023-03-20T18:49:19.073Z"
   },
   {
    "duration": 3823,
    "start_time": "2023-03-20T18:49:30.989Z"
   },
   {
    "duration": 3913,
    "start_time": "2023-03-20T18:50:05.177Z"
   },
   {
    "duration": 3830,
    "start_time": "2023-03-20T18:50:25.315Z"
   },
   {
    "duration": 266,
    "start_time": "2023-03-20T18:52:14.561Z"
   },
   {
    "duration": 257,
    "start_time": "2023-03-20T18:52:32.429Z"
   },
   {
    "duration": 668,
    "start_time": "2023-03-20T18:53:06.414Z"
   },
   {
    "duration": 3,
    "start_time": "2023-03-20T18:53:07.084Z"
   },
   {
    "duration": 41,
    "start_time": "2023-03-20T18:53:07.088Z"
   },
   {
    "duration": 82,
    "start_time": "2023-03-20T18:53:07.130Z"
   },
   {
    "duration": 14,
    "start_time": "2023-03-20T18:53:07.214Z"
   },
   {
    "duration": 1934,
    "start_time": "2023-03-20T18:53:07.230Z"
   },
   {
    "duration": 25,
    "start_time": "2023-03-20T18:53:09.167Z"
   },
   {
    "duration": 11,
    "start_time": "2023-03-20T18:53:09.194Z"
   },
   {
    "duration": 10,
    "start_time": "2023-03-20T18:53:09.206Z"
   },
   {
    "duration": 362,
    "start_time": "2023-03-20T18:53:09.218Z"
   },
   {
    "duration": 0,
    "start_time": "2023-03-20T18:53:09.582Z"
   },
   {
    "duration": 0,
    "start_time": "2023-03-20T18:53:09.583Z"
   },
   {
    "duration": 0,
    "start_time": "2023-03-20T18:53:09.584Z"
   },
   {
    "duration": 0,
    "start_time": "2023-03-20T18:53:09.585Z"
   },
   {
    "duration": 0,
    "start_time": "2023-03-20T18:53:09.586Z"
   },
   {
    "duration": 0,
    "start_time": "2023-03-20T18:53:09.587Z"
   },
   {
    "duration": 0,
    "start_time": "2023-03-20T18:53:09.588Z"
   },
   {
    "duration": 271,
    "start_time": "2023-03-20T18:53:45.361Z"
   },
   {
    "duration": 290,
    "start_time": "2023-03-20T18:54:05.765Z"
   },
   {
    "duration": 359,
    "start_time": "2023-03-20T18:55:50.244Z"
   },
   {
    "duration": 252,
    "start_time": "2023-03-20T18:56:13.657Z"
   },
   {
    "duration": 234,
    "start_time": "2023-03-20T18:56:32.312Z"
   },
   {
    "duration": 320,
    "start_time": "2023-03-20T18:56:43.948Z"
   },
   {
    "duration": 278,
    "start_time": "2023-03-20T18:58:55.214Z"
   },
   {
    "duration": 3030,
    "start_time": "2023-03-20T18:59:22.645Z"
   },
   {
    "duration": 4701,
    "start_time": "2023-03-20T18:59:37.389Z"
   },
   {
    "duration": 384,
    "start_time": "2023-03-20T19:00:41.404Z"
   },
   {
    "duration": 2899,
    "start_time": "2023-03-20T19:01:13.530Z"
   },
   {
    "duration": 378,
    "start_time": "2023-03-20T19:01:28.015Z"
   },
   {
    "duration": 18,
    "start_time": "2023-03-20T19:01:38.759Z"
   },
   {
    "duration": 1532,
    "start_time": "2023-03-20T19:02:55.291Z"
   },
   {
    "duration": 2764,
    "start_time": "2023-03-20T19:03:16.412Z"
   },
   {
    "duration": 2666,
    "start_time": "2023-03-20T19:03:29.964Z"
   },
   {
    "duration": 2991,
    "start_time": "2023-03-20T19:04:02.692Z"
   },
   {
    "duration": 3269,
    "start_time": "2023-03-20T19:05:24.080Z"
   },
   {
    "duration": 3232,
    "start_time": "2023-03-20T19:07:22.345Z"
   },
   {
    "duration": 3425,
    "start_time": "2023-03-20T19:18:12.195Z"
   },
   {
    "duration": 3345,
    "start_time": "2023-03-20T19:18:51.048Z"
   },
   {
    "duration": 3426,
    "start_time": "2023-03-20T19:19:57.989Z"
   },
   {
    "duration": 3313,
    "start_time": "2023-03-20T19:21:43.127Z"
   },
   {
    "duration": 3443,
    "start_time": "2023-03-20T19:22:35.541Z"
   },
   {
    "duration": 3353,
    "start_time": "2023-03-20T19:23:30.179Z"
   },
   {
    "duration": 3984,
    "start_time": "2023-03-20T19:24:53.710Z"
   },
   {
    "duration": 3137,
    "start_time": "2023-03-20T19:25:48.206Z"
   },
   {
    "duration": 3648,
    "start_time": "2023-03-20T19:26:36.948Z"
   },
   {
    "duration": 3453,
    "start_time": "2023-03-20T19:26:51.995Z"
   },
   {
    "duration": 3383,
    "start_time": "2023-03-20T19:27:15.982Z"
   },
   {
    "duration": 3112,
    "start_time": "2023-03-20T20:02:49.477Z"
   },
   {
    "duration": 12,
    "start_time": "2023-03-20T20:47:16.545Z"
   },
   {
    "duration": 13,
    "start_time": "2023-03-20T20:48:22.301Z"
   },
   {
    "duration": 10,
    "start_time": "2023-03-20T20:51:27.098Z"
   },
   {
    "duration": 10,
    "start_time": "2023-03-20T20:51:48.228Z"
   },
   {
    "duration": 22,
    "start_time": "2023-03-20T21:02:21.906Z"
   },
   {
    "duration": 64,
    "start_time": "2023-03-20T21:07:18.888Z"
   },
   {
    "duration": 48,
    "start_time": "2023-03-20T21:08:24.386Z"
   },
   {
    "duration": 47,
    "start_time": "2023-03-20T21:08:40.121Z"
   },
   {
    "duration": 28,
    "start_time": "2023-03-20T21:09:37.020Z"
   },
   {
    "duration": 13,
    "start_time": "2023-03-20T21:09:59.945Z"
   },
   {
    "duration": 19,
    "start_time": "2023-03-20T21:10:03.318Z"
   },
   {
    "duration": 14,
    "start_time": "2023-03-20T21:10:18.787Z"
   },
   {
    "duration": 27,
    "start_time": "2023-03-20T21:10:21.676Z"
   },
   {
    "duration": 28,
    "start_time": "2023-03-20T21:12:00.533Z"
   },
   {
    "duration": 43,
    "start_time": "2023-03-20T21:13:03.050Z"
   },
   {
    "duration": 40,
    "start_time": "2023-03-20T21:13:15.422Z"
   },
   {
    "duration": 19,
    "start_time": "2023-03-20T21:13:31.477Z"
   },
   {
    "duration": 9,
    "start_time": "2023-03-20T21:14:01.000Z"
   },
   {
    "duration": 12,
    "start_time": "2023-03-20T21:16:34.441Z"
   },
   {
    "duration": 12,
    "start_time": "2023-03-20T21:16:43.364Z"
   },
   {
    "duration": 18,
    "start_time": "2023-03-20T21:17:15.239Z"
   },
   {
    "duration": 21,
    "start_time": "2023-03-20T21:17:50.158Z"
   },
   {
    "duration": 20,
    "start_time": "2023-03-20T21:18:50.802Z"
   },
   {
    "duration": 17,
    "start_time": "2023-03-20T21:18:54.082Z"
   },
   {
    "duration": 47,
    "start_time": "2023-03-20T21:19:57.929Z"
   },
   {
    "duration": 14,
    "start_time": "2023-03-20T21:20:20.017Z"
   },
   {
    "duration": 48,
    "start_time": "2023-03-20T21:20:45.134Z"
   },
   {
    "duration": 21,
    "start_time": "2023-03-20T21:20:51.641Z"
   },
   {
    "duration": 20,
    "start_time": "2023-03-20T21:21:02.017Z"
   },
   {
    "duration": 18,
    "start_time": "2023-03-20T21:21:12.115Z"
   },
   {
    "duration": 4,
    "start_time": "2023-03-20T21:22:30.638Z"
   },
   {
    "duration": 20,
    "start_time": "2023-03-20T21:22:34.626Z"
   },
   {
    "duration": 22,
    "start_time": "2023-03-20T21:22:38.068Z"
   },
   {
    "duration": 44,
    "start_time": "2023-03-20T21:25:07.915Z"
   },
   {
    "duration": 14,
    "start_time": "2023-03-20T21:25:11.781Z"
   },
   {
    "duration": 15,
    "start_time": "2023-03-20T21:25:39.308Z"
   },
   {
    "duration": 25,
    "start_time": "2023-03-20T21:26:02.188Z"
   },
   {
    "duration": 16,
    "start_time": "2023-03-20T21:26:22.306Z"
   },
   {
    "duration": 44,
    "start_time": "2023-03-20T21:26:59.472Z"
   },
   {
    "duration": 16,
    "start_time": "2023-03-20T21:27:23.597Z"
   },
   {
    "duration": 30,
    "start_time": "2023-03-20T21:28:01.621Z"
   },
   {
    "duration": 18,
    "start_time": "2023-03-20T21:28:30.527Z"
   },
   {
    "duration": 16,
    "start_time": "2023-03-20T21:28:40.081Z"
   },
   {
    "duration": 17,
    "start_time": "2023-03-20T21:33:56.937Z"
   },
   {
    "duration": 1689,
    "start_time": "2023-03-21T06:27:46.903Z"
   },
   {
    "duration": 3,
    "start_time": "2023-03-21T06:27:48.594Z"
   },
   {
    "duration": 41,
    "start_time": "2023-03-21T06:27:48.598Z"
   },
   {
    "duration": 67,
    "start_time": "2023-03-21T06:27:48.641Z"
   },
   {
    "duration": 22,
    "start_time": "2023-03-21T06:27:48.710Z"
   },
   {
    "duration": 1787,
    "start_time": "2023-03-21T06:27:48.734Z"
   },
   {
    "duration": 19,
    "start_time": "2023-03-21T06:27:50.522Z"
   },
   {
    "duration": 18,
    "start_time": "2023-03-21T06:27:50.543Z"
   },
   {
    "duration": 3508,
    "start_time": "2023-03-21T06:27:50.563Z"
   },
   {
    "duration": 29,
    "start_time": "2023-03-21T06:27:54.073Z"
   },
   {
    "duration": 39,
    "start_time": "2023-03-21T06:27:54.103Z"
   },
   {
    "duration": 5,
    "start_time": "2023-03-21T06:27:54.144Z"
   },
   {
    "duration": 10,
    "start_time": "2023-03-21T06:27:54.150Z"
   },
   {
    "duration": 31,
    "start_time": "2023-03-21T06:27:54.161Z"
   },
   {
    "duration": 2,
    "start_time": "2023-03-21T06:27:54.193Z"
   },
   {
    "duration": 42,
    "start_time": "2023-03-21T06:27:54.197Z"
   },
   {
    "duration": 9,
    "start_time": "2023-03-21T06:36:39.495Z"
   },
   {
    "duration": 8,
    "start_time": "2023-03-21T06:37:02.440Z"
   },
   {
    "duration": 7,
    "start_time": "2023-03-21T06:37:29.312Z"
   },
   {
    "duration": 8,
    "start_time": "2023-03-21T06:37:40.958Z"
   },
   {
    "duration": 138,
    "start_time": "2023-03-21T06:39:35.291Z"
   },
   {
    "duration": 25,
    "start_time": "2023-03-21T06:39:46.388Z"
   },
   {
    "duration": 36,
    "start_time": "2023-03-21T06:40:05.991Z"
   },
   {
    "duration": 10,
    "start_time": "2023-03-21T06:40:39.659Z"
   },
   {
    "duration": 25,
    "start_time": "2023-03-21T06:41:07.830Z"
   },
   {
    "duration": 80,
    "start_time": "2023-03-21T06:41:16.487Z"
   },
   {
    "duration": 29,
    "start_time": "2023-03-21T06:41:22.058Z"
   },
   {
    "duration": 25,
    "start_time": "2023-03-21T06:41:30.990Z"
   },
   {
    "duration": 24,
    "start_time": "2023-03-21T06:41:36.653Z"
   },
   {
    "duration": 8,
    "start_time": "2023-03-21T06:41:53.951Z"
   },
   {
    "duration": 25,
    "start_time": "2023-03-21T06:41:59.503Z"
   },
   {
    "duration": 1596,
    "start_time": "2023-03-21T06:47:32.035Z"
   },
   {
    "duration": 7,
    "start_time": "2023-03-21T06:49:39.839Z"
   },
   {
    "duration": 11,
    "start_time": "2023-03-21T06:49:52.297Z"
   },
   {
    "duration": 12,
    "start_time": "2023-03-21T06:50:10.148Z"
   },
   {
    "duration": 182,
    "start_time": "2023-03-21T06:51:33.241Z"
   },
   {
    "duration": 10,
    "start_time": "2023-03-21T06:51:58.209Z"
   },
   {
    "duration": 1132,
    "start_time": "2023-03-21T06:52:41.099Z"
   },
   {
    "duration": 12,
    "start_time": "2023-03-21T06:52:56.438Z"
   },
   {
    "duration": 12,
    "start_time": "2023-03-21T06:55:27.033Z"
   },
   {
    "duration": 10,
    "start_time": "2023-03-21T06:56:17.792Z"
   },
   {
    "duration": 16,
    "start_time": "2023-03-21T06:56:24.237Z"
   },
   {
    "duration": 93,
    "start_time": "2023-03-21T06:56:46.452Z"
   },
   {
    "duration": 818,
    "start_time": "2023-03-21T06:56:51.000Z"
   },
   {
    "duration": 869,
    "start_time": "2023-03-21T06:57:12.212Z"
   },
   {
    "duration": 748,
    "start_time": "2023-03-21T06:57:20.840Z"
   },
   {
    "duration": 1814,
    "start_time": "2023-03-21T06:58:08.044Z"
   },
   {
    "duration": 1653,
    "start_time": "2023-03-21T06:58:36.834Z"
   },
   {
    "duration": 1717,
    "start_time": "2023-03-21T06:58:41.758Z"
   },
   {
    "duration": 250,
    "start_time": "2023-03-21T07:04:55.124Z"
   },
   {
    "duration": 284,
    "start_time": "2023-03-21T07:05:38.755Z"
   },
   {
    "duration": 254,
    "start_time": "2023-03-21T07:06:48.341Z"
   },
   {
    "duration": 156,
    "start_time": "2023-03-21T07:06:55.254Z"
   },
   {
    "duration": 414,
    "start_time": "2023-03-21T07:07:25.000Z"
   },
   {
    "duration": 23,
    "start_time": "2023-03-21T07:07:49.924Z"
   },
   {
    "duration": 18,
    "start_time": "2023-03-21T07:10:01.019Z"
   },
   {
    "duration": 222,
    "start_time": "2023-03-21T07:10:45.222Z"
   },
   {
    "duration": 28,
    "start_time": "2023-03-21T07:10:55.959Z"
   },
   {
    "duration": 19,
    "start_time": "2023-03-21T07:11:12.514Z"
   },
   {
    "duration": 17,
    "start_time": "2023-03-21T07:11:24.658Z"
   },
   {
    "duration": 22,
    "start_time": "2023-03-21T07:11:46.453Z"
   },
   {
    "duration": 19,
    "start_time": "2023-03-21T07:12:00.668Z"
   },
   {
    "duration": 240,
    "start_time": "2023-03-21T07:12:07.934Z"
   },
   {
    "duration": 21,
    "start_time": "2023-03-21T07:12:15.568Z"
   },
   {
    "duration": 3435,
    "start_time": "2023-03-21T07:13:34.731Z"
   },
   {
    "duration": 18,
    "start_time": "2023-03-21T07:14:02.629Z"
   },
   {
    "duration": 16,
    "start_time": "2023-03-21T07:14:18.166Z"
   },
   {
    "duration": 2762,
    "start_time": "2023-03-21T07:18:27.003Z"
   },
   {
    "duration": 2651,
    "start_time": "2023-03-21T07:29:32.528Z"
   },
   {
    "duration": 878,
    "start_time": "2023-03-21T07:31:37.533Z"
   },
   {
    "duration": 2879,
    "start_time": "2023-03-21T07:31:57.331Z"
   },
   {
    "duration": 843,
    "start_time": "2023-03-21T07:32:05.103Z"
   },
   {
    "duration": 2864,
    "start_time": "2023-03-21T07:32:10.623Z"
   },
   {
    "duration": 3700,
    "start_time": "2023-03-21T07:45:44.223Z"
   },
   {
    "duration": 3239,
    "start_time": "2023-03-21T07:46:17.226Z"
   },
   {
    "duration": 3087,
    "start_time": "2023-03-21T07:46:30.645Z"
   },
   {
    "duration": 118,
    "start_time": "2023-03-21T07:56:28.609Z"
   },
   {
    "duration": 3699,
    "start_time": "2023-03-21T07:56:34.960Z"
   },
   {
    "duration": 3637,
    "start_time": "2023-03-21T07:56:49.039Z"
   },
   {
    "duration": 3676,
    "start_time": "2023-03-21T07:57:18.346Z"
   },
   {
    "duration": 3480,
    "start_time": "2023-03-21T08:06:24.505Z"
   },
   {
    "duration": 3823,
    "start_time": "2023-03-21T08:08:20.583Z"
   },
   {
    "duration": 3433,
    "start_time": "2023-03-21T08:08:58.176Z"
   },
   {
    "duration": 3934,
    "start_time": "2023-03-21T08:56:43.346Z"
   },
   {
    "duration": 3509,
    "start_time": "2023-03-21T08:56:52.817Z"
   },
   {
    "duration": 259,
    "start_time": "2023-03-21T09:05:02.983Z"
   },
   {
    "duration": 3888,
    "start_time": "2023-03-21T09:05:21.885Z"
   },
   {
    "duration": 4046,
    "start_time": "2023-03-21T09:08:47.660Z"
   },
   {
    "duration": 116,
    "start_time": "2023-03-21T09:19:38.311Z"
   },
   {
    "duration": 3859,
    "start_time": "2023-03-21T09:20:21.146Z"
   },
   {
    "duration": 4397,
    "start_time": "2023-03-21T09:21:15.664Z"
   },
   {
    "duration": 3561,
    "start_time": "2023-03-21T09:21:36.595Z"
   },
   {
    "duration": 3790,
    "start_time": "2023-03-21T09:22:02.456Z"
   },
   {
    "duration": 3564,
    "start_time": "2023-03-21T09:22:29.446Z"
   },
   {
    "duration": 3749,
    "start_time": "2023-03-21T09:22:54.237Z"
   },
   {
    "duration": 3542,
    "start_time": "2023-03-21T09:23:53.018Z"
   },
   {
    "duration": 4060,
    "start_time": "2023-03-21T09:26:09.175Z"
   },
   {
    "duration": 3623,
    "start_time": "2023-03-21T09:26:25.106Z"
   },
   {
    "duration": 3395,
    "start_time": "2023-03-21T09:26:52.429Z"
   },
   {
    "duration": 3708,
    "start_time": "2023-03-21T09:27:27.915Z"
   },
   {
    "duration": 3449,
    "start_time": "2023-03-21T09:28:00.160Z"
   },
   {
    "duration": 368,
    "start_time": "2023-03-21T09:29:30.421Z"
   },
   {
    "duration": 110,
    "start_time": "2023-03-21T09:29:36.213Z"
   },
   {
    "duration": 3657,
    "start_time": "2023-03-21T09:29:52.224Z"
   },
   {
    "duration": 3732,
    "start_time": "2023-03-21T09:30:06.160Z"
   },
   {
    "duration": 3560,
    "start_time": "2023-03-21T09:32:18.680Z"
   },
   {
    "duration": 456,
    "start_time": "2023-03-21T09:39:50.542Z"
   },
   {
    "duration": 122,
    "start_time": "2023-03-21T09:41:42.889Z"
   },
   {
    "duration": 623,
    "start_time": "2023-03-21T09:42:16.585Z"
   },
   {
    "duration": 2952,
    "start_time": "2023-03-21T09:42:59.683Z"
   },
   {
    "duration": 9,
    "start_time": "2023-03-21T09:43:27.717Z"
   },
   {
    "duration": 7,
    "start_time": "2023-03-21T09:44:09.357Z"
   },
   {
    "duration": 54,
    "start_time": "2023-03-21T09:46:20.481Z"
   },
   {
    "duration": 8,
    "start_time": "2023-03-21T09:48:55.269Z"
   },
   {
    "duration": 1158,
    "start_time": "2023-03-21T09:49:24.358Z"
   },
   {
    "duration": 525,
    "start_time": "2023-03-21T09:50:03.511Z"
   },
   {
    "duration": 15,
    "start_time": "2023-03-21T09:51:03.122Z"
   },
   {
    "duration": 26,
    "start_time": "2023-03-21T09:57:45.836Z"
   },
   {
    "duration": 31,
    "start_time": "2023-03-21T09:58:29.144Z"
   },
   {
    "duration": 25,
    "start_time": "2023-03-21T10:04:39.074Z"
   },
   {
    "duration": 113,
    "start_time": "2023-03-21T10:05:19.355Z"
   },
   {
    "duration": 5,
    "start_time": "2023-03-21T10:05:35.712Z"
   },
   {
    "duration": 49,
    "start_time": "2023-03-21T10:06:02.652Z"
   },
   {
    "duration": 30,
    "start_time": "2023-03-21T10:06:52.437Z"
   },
   {
    "duration": 23,
    "start_time": "2023-03-21T10:07:08.950Z"
   },
   {
    "duration": 4466,
    "start_time": "2023-03-21T10:07:20.146Z"
   },
   {
    "duration": 941,
    "start_time": "2023-03-21T10:07:42.215Z"
   },
   {
    "duration": 2,
    "start_time": "2023-03-21T10:07:43.161Z"
   },
   {
    "duration": 69,
    "start_time": "2023-03-21T10:07:43.173Z"
   },
   {
    "duration": 95,
    "start_time": "2023-03-21T10:07:43.249Z"
   },
   {
    "duration": 21,
    "start_time": "2023-03-21T10:07:43.346Z"
   },
   {
    "duration": 2108,
    "start_time": "2023-03-21T10:07:43.369Z"
   },
   {
    "duration": 22,
    "start_time": "2023-03-21T10:07:45.478Z"
   },
   {
    "duration": 4098,
    "start_time": "2023-03-21T10:07:45.501Z"
   },
   {
    "duration": 29,
    "start_time": "2023-03-21T10:07:49.601Z"
   },
   {
    "duration": 44,
    "start_time": "2023-03-21T10:07:49.632Z"
   },
   {
    "duration": 25,
    "start_time": "2023-03-21T10:07:49.677Z"
   },
   {
    "duration": 4,
    "start_time": "2023-03-21T10:07:49.703Z"
   },
   {
    "duration": 13,
    "start_time": "2023-03-21T10:07:49.709Z"
   },
   {
    "duration": 85,
    "start_time": "2023-03-21T10:07:49.723Z"
   },
   {
    "duration": 2,
    "start_time": "2023-03-21T10:07:49.810Z"
   },
   {
    "duration": 77,
    "start_time": "2023-03-21T10:07:49.813Z"
   },
   {
    "duration": 26,
    "start_time": "2023-03-21T10:10:12.450Z"
   },
   {
    "duration": 22,
    "start_time": "2023-03-21T10:10:27.902Z"
   },
   {
    "duration": 22,
    "start_time": "2023-03-21T10:10:58.462Z"
   },
   {
    "duration": 4276,
    "start_time": "2023-03-21T10:11:02.873Z"
   },
   {
    "duration": 837,
    "start_time": "2023-03-21T10:11:51.249Z"
   },
   {
    "duration": 4,
    "start_time": "2023-03-21T10:11:52.090Z"
   },
   {
    "duration": 93,
    "start_time": "2023-03-21T10:11:52.095Z"
   },
   {
    "duration": 87,
    "start_time": "2023-03-21T10:11:52.190Z"
   },
   {
    "duration": 14,
    "start_time": "2023-03-21T10:11:52.280Z"
   },
   {
    "duration": 2358,
    "start_time": "2023-03-21T10:11:52.295Z"
   },
   {
    "duration": 36,
    "start_time": "2023-03-21T10:11:54.655Z"
   },
   {
    "duration": 6120,
    "start_time": "2023-03-21T10:11:54.693Z"
   },
   {
    "duration": 44,
    "start_time": "2023-03-21T10:12:00.815Z"
   },
   {
    "duration": 87,
    "start_time": "2023-03-21T10:12:00.863Z"
   },
   {
    "duration": 53,
    "start_time": "2023-03-21T10:12:00.951Z"
   },
   {
    "duration": 4,
    "start_time": "2023-03-21T10:12:01.006Z"
   },
   {
    "duration": 89,
    "start_time": "2023-03-21T10:12:01.011Z"
   },
   {
    "duration": 182,
    "start_time": "2023-03-21T10:12:01.102Z"
   },
   {
    "duration": 11,
    "start_time": "2023-03-21T10:12:01.285Z"
   },
   {
    "duration": 155,
    "start_time": "2023-03-21T10:12:01.298Z"
   },
   {
    "duration": 31,
    "start_time": "2023-03-21T10:12:21.246Z"
   },
   {
    "duration": 768,
    "start_time": "2023-03-21T10:12:28.281Z"
   },
   {
    "duration": 3,
    "start_time": "2023-03-21T10:12:29.051Z"
   },
   {
    "duration": 61,
    "start_time": "2023-03-21T10:12:29.072Z"
   },
   {
    "duration": 74,
    "start_time": "2023-03-21T10:12:29.135Z"
   },
   {
    "duration": 28,
    "start_time": "2023-03-21T10:12:29.211Z"
   },
   {
    "duration": 1926,
    "start_time": "2023-03-21T10:12:29.251Z"
   },
   {
    "duration": 18,
    "start_time": "2023-03-21T10:12:31.178Z"
   },
   {
    "duration": 5703,
    "start_time": "2023-03-21T10:12:31.198Z"
   },
   {
    "duration": 45,
    "start_time": "2023-03-21T10:12:36.903Z"
   },
   {
    "duration": 51,
    "start_time": "2023-03-21T10:12:36.950Z"
   },
   {
    "duration": 36,
    "start_time": "2023-03-21T10:12:37.003Z"
   },
   {
    "duration": 11,
    "start_time": "2023-03-21T10:12:37.040Z"
   },
   {
    "duration": 45,
    "start_time": "2023-03-21T10:12:37.053Z"
   },
   {
    "duration": 48,
    "start_time": "2023-03-21T10:12:37.101Z"
   },
   {
    "duration": 2,
    "start_time": "2023-03-21T10:12:37.151Z"
   },
   {
    "duration": 47,
    "start_time": "2023-03-21T10:12:37.155Z"
   },
   {
    "duration": 29,
    "start_time": "2023-03-21T10:13:38.686Z"
   },
   {
    "duration": 30,
    "start_time": "2023-03-21T10:13:51.947Z"
   },
   {
    "duration": 10,
    "start_time": "2023-03-21T10:14:40.265Z"
   },
   {
    "duration": 888,
    "start_time": "2023-03-21T10:14:46.855Z"
   },
   {
    "duration": 8,
    "start_time": "2023-03-21T10:14:47.747Z"
   },
   {
    "duration": 72,
    "start_time": "2023-03-21T10:14:47.773Z"
   },
   {
    "duration": 67,
    "start_time": "2023-03-21T10:14:47.847Z"
   },
   {
    "duration": 14,
    "start_time": "2023-03-21T10:14:47.915Z"
   },
   {
    "duration": 2036,
    "start_time": "2023-03-21T10:14:47.930Z"
   },
   {
    "duration": 17,
    "start_time": "2023-03-21T10:14:49.968Z"
   },
   {
    "duration": 4145,
    "start_time": "2023-03-21T10:14:49.987Z"
   },
   {
    "duration": 14,
    "start_time": "2023-03-21T10:14:54.136Z"
   },
   {
    "duration": 58,
    "start_time": "2023-03-21T10:14:54.152Z"
   },
   {
    "duration": 40,
    "start_time": "2023-03-21T10:14:54.211Z"
   },
   {
    "duration": 12,
    "start_time": "2023-03-21T10:14:54.253Z"
   },
   {
    "duration": 21,
    "start_time": "2023-03-21T10:14:54.269Z"
   },
   {
    "duration": 47,
    "start_time": "2023-03-21T10:14:54.291Z"
   },
   {
    "duration": 44,
    "start_time": "2023-03-21T10:14:54.339Z"
   },
   {
    "duration": 26,
    "start_time": "2023-03-21T10:14:54.384Z"
   },
   {
    "duration": 8,
    "start_time": "2023-03-21T10:15:13.202Z"
   },
   {
    "duration": 21,
    "start_time": "2023-03-21T10:15:41.482Z"
   },
   {
    "duration": 27,
    "start_time": "2023-03-21T10:15:44.139Z"
   },
   {
    "duration": 8,
    "start_time": "2023-03-21T10:15:53.101Z"
   },
   {
    "duration": 851,
    "start_time": "2023-03-21T10:16:00.841Z"
   },
   {
    "duration": 2,
    "start_time": "2023-03-21T10:16:01.694Z"
   },
   {
    "duration": 110,
    "start_time": "2023-03-21T10:16:01.698Z"
   },
   {
    "duration": 84,
    "start_time": "2023-03-21T10:16:01.810Z"
   },
   {
    "duration": 16,
    "start_time": "2023-03-21T10:16:01.897Z"
   },
   {
    "duration": 1994,
    "start_time": "2023-03-21T10:16:01.915Z"
   },
   {
    "duration": 18,
    "start_time": "2023-03-21T10:16:03.910Z"
   },
   {
    "duration": 4330,
    "start_time": "2023-03-21T10:16:03.930Z"
   },
   {
    "duration": 17,
    "start_time": "2023-03-21T10:16:08.263Z"
   },
   {
    "duration": 68,
    "start_time": "2023-03-21T10:16:08.282Z"
   },
   {
    "duration": 40,
    "start_time": "2023-03-21T10:16:08.363Z"
   },
   {
    "duration": 4,
    "start_time": "2023-03-21T10:16:08.405Z"
   },
   {
    "duration": 19,
    "start_time": "2023-03-21T10:16:08.410Z"
   },
   {
    "duration": 62,
    "start_time": "2023-03-21T10:16:08.431Z"
   },
   {
    "duration": 2,
    "start_time": "2023-03-21T10:16:08.494Z"
   },
   {
    "duration": 23,
    "start_time": "2023-03-21T10:16:08.498Z"
   },
   {
    "duration": 104,
    "start_time": "2023-03-21T10:17:48.589Z"
   },
   {
    "duration": 27,
    "start_time": "2023-03-21T10:17:57.276Z"
   },
   {
    "duration": 23,
    "start_time": "2023-03-21T10:18:01.377Z"
   },
   {
    "duration": 7,
    "start_time": "2023-03-21T10:40:43.874Z"
   },
   {
    "duration": 63,
    "start_time": "2023-03-21T10:41:02.593Z"
   },
   {
    "duration": 15,
    "start_time": "2023-03-21T10:44:11.992Z"
   },
   {
    "duration": 7,
    "start_time": "2023-03-21T10:44:45.649Z"
   },
   {
    "duration": 75,
    "start_time": "2023-03-21T10:45:20.709Z"
   },
   {
    "duration": 11,
    "start_time": "2023-03-21T10:45:57.446Z"
   },
   {
    "duration": 70,
    "start_time": "2023-03-21T10:46:11.638Z"
   },
   {
    "duration": 12,
    "start_time": "2023-03-21T10:46:52.508Z"
   },
   {
    "duration": 53,
    "start_time": "2023-03-21T10:46:54.495Z"
   },
   {
    "duration": 115,
    "start_time": "2023-03-21T10:49:55.475Z"
   },
   {
    "duration": 15,
    "start_time": "2023-03-21T10:51:45.818Z"
   },
   {
    "duration": 12,
    "start_time": "2023-03-21T10:51:52.947Z"
   },
   {
    "duration": 97,
    "start_time": "2023-03-21T10:51:56.943Z"
   },
   {
    "duration": 32,
    "start_time": "2023-03-21T10:52:45.777Z"
   },
   {
    "duration": 15,
    "start_time": "2023-03-21T10:53:12.153Z"
   },
   {
    "duration": 6,
    "start_time": "2023-03-21T10:53:37.253Z"
   },
   {
    "duration": 10,
    "start_time": "2023-03-21T10:53:57.953Z"
   },
   {
    "duration": 6,
    "start_time": "2023-03-21T10:54:05.594Z"
   },
   {
    "duration": 1428,
    "start_time": "2023-03-21T11:30:37.168Z"
   },
   {
    "duration": 2,
    "start_time": "2023-03-21T11:30:38.598Z"
   },
   {
    "duration": 81,
    "start_time": "2023-03-21T11:30:38.602Z"
   },
   {
    "duration": 68,
    "start_time": "2023-03-21T11:30:38.685Z"
   },
   {
    "duration": 13,
    "start_time": "2023-03-21T11:30:38.754Z"
   },
   {
    "duration": 18,
    "start_time": "2023-03-21T11:30:38.768Z"
   },
   {
    "duration": 56,
    "start_time": "2023-03-21T11:30:38.787Z"
   },
   {
    "duration": 3903,
    "start_time": "2023-03-21T11:30:38.849Z"
   },
   {
    "duration": 25,
    "start_time": "2023-03-21T11:30:42.753Z"
   },
   {
    "duration": 31,
    "start_time": "2023-03-21T11:30:42.780Z"
   },
   {
    "duration": 54,
    "start_time": "2023-03-21T11:30:42.812Z"
   },
   {
    "duration": 4,
    "start_time": "2023-03-21T11:30:42.867Z"
   },
   {
    "duration": 13,
    "start_time": "2023-03-21T11:30:42.872Z"
   },
   {
    "duration": 31,
    "start_time": "2023-03-21T11:30:42.886Z"
   },
   {
    "duration": 58,
    "start_time": "2023-03-21T11:30:42.918Z"
   },
   {
    "duration": 2,
    "start_time": "2023-03-21T11:30:42.978Z"
   },
   {
    "duration": 58,
    "start_time": "2023-03-21T11:30:42.982Z"
   },
   {
    "duration": 123,
    "start_time": "2023-03-21T11:30:50.370Z"
   },
   {
    "duration": 758,
    "start_time": "2023-03-21T11:36:46.901Z"
   },
   {
    "duration": 2,
    "start_time": "2023-03-21T11:36:47.661Z"
   },
   {
    "duration": 48,
    "start_time": "2023-03-21T11:36:47.665Z"
   },
   {
    "duration": 72,
    "start_time": "2023-03-21T11:36:47.715Z"
   },
   {
    "duration": 13,
    "start_time": "2023-03-21T11:36:47.789Z"
   },
   {
    "duration": 1977,
    "start_time": "2023-03-21T11:36:47.804Z"
   },
   {
    "duration": 21,
    "start_time": "2023-03-21T11:36:49.783Z"
   },
   {
    "duration": 3877,
    "start_time": "2023-03-21T11:36:49.806Z"
   },
   {
    "duration": 58,
    "start_time": "2023-03-21T11:36:53.685Z"
   },
   {
    "duration": 34,
    "start_time": "2023-03-21T11:36:53.745Z"
   },
   {
    "duration": 32,
    "start_time": "2023-03-21T11:36:53.781Z"
   },
   {
    "duration": 5,
    "start_time": "2023-03-21T11:36:53.815Z"
   },
   {
    "duration": 36,
    "start_time": "2023-03-21T11:36:53.822Z"
   },
   {
    "duration": 9,
    "start_time": "2023-03-21T11:36:53.861Z"
   },
   {
    "duration": 29,
    "start_time": "2023-03-21T11:36:53.872Z"
   },
   {
    "duration": 2,
    "start_time": "2023-03-21T11:36:53.903Z"
   },
   {
    "duration": 38,
    "start_time": "2023-03-21T11:36:53.906Z"
   },
   {
    "duration": 2,
    "start_time": "2023-03-21T11:37:14.494Z"
   },
   {
    "duration": 127,
    "start_time": "2023-03-21T11:37:32.376Z"
   },
   {
    "duration": 93,
    "start_time": "2023-03-21T11:41:17.495Z"
   },
   {
    "duration": 11,
    "start_time": "2023-03-21T11:41:24.403Z"
   },
   {
    "duration": 16,
    "start_time": "2023-03-21T11:41:54.051Z"
   },
   {
    "duration": 123,
    "start_time": "2023-03-21T11:44:26.150Z"
   },
   {
    "duration": 97,
    "start_time": "2023-03-21T11:44:37.317Z"
   },
   {
    "duration": 93,
    "start_time": "2023-03-21T11:44:52.086Z"
   },
   {
    "duration": 153,
    "start_time": "2023-03-21T11:45:01.105Z"
   },
   {
    "duration": 7,
    "start_time": "2023-03-21T11:45:24.749Z"
   },
   {
    "duration": 6,
    "start_time": "2023-03-21T11:50:53.154Z"
   },
   {
    "duration": 714,
    "start_time": "2023-03-21T11:51:00.756Z"
   },
   {
    "duration": 70,
    "start_time": "2023-03-21T11:51:04.582Z"
   },
   {
    "duration": 28,
    "start_time": "2023-03-21T11:51:17.953Z"
   },
   {
    "duration": 3718,
    "start_time": "2023-03-21T11:51:30.353Z"
   },
   {
    "duration": 358,
    "start_time": "2023-03-21T11:51:45.789Z"
   },
   {
    "duration": 10,
    "start_time": "2023-03-21T11:51:58.956Z"
   },
   {
    "duration": 9,
    "start_time": "2023-03-21T11:52:25.063Z"
   },
   {
    "duration": 102,
    "start_time": "2023-03-21T11:52:47.914Z"
   },
   {
    "duration": 137,
    "start_time": "2023-03-21T11:52:50.727Z"
   },
   {
    "duration": 161,
    "start_time": "2023-03-21T11:53:02.159Z"
   },
   {
    "duration": 145,
    "start_time": "2023-03-21T11:53:42.712Z"
   },
   {
    "duration": 111,
    "start_time": "2023-03-21T11:53:54.463Z"
   },
   {
    "duration": 25,
    "start_time": "2023-03-21T11:55:03.342Z"
   },
   {
    "duration": 8,
    "start_time": "2023-03-21T11:55:06.853Z"
   },
   {
    "duration": 769,
    "start_time": "2023-03-21T11:55:13.549Z"
   },
   {
    "duration": 8,
    "start_time": "2023-03-21T11:56:10.694Z"
   },
   {
    "duration": 9,
    "start_time": "2023-03-21T11:58:24.791Z"
   },
   {
    "duration": 18,
    "start_time": "2023-03-21T11:58:30.044Z"
   },
   {
    "duration": 9,
    "start_time": "2023-03-21T11:59:57.569Z"
   },
   {
    "duration": 18,
    "start_time": "2023-03-21T12:00:09.547Z"
   },
   {
    "duration": 1802,
    "start_time": "2023-03-21T12:00:31.277Z"
   },
   {
    "duration": 10,
    "start_time": "2023-03-21T12:03:10.060Z"
   },
   {
    "duration": 10,
    "start_time": "2023-03-21T12:03:16.917Z"
   },
   {
    "duration": 108,
    "start_time": "2023-03-21T12:04:51.412Z"
   },
   {
    "duration": 8,
    "start_time": "2023-03-21T12:04:58.824Z"
   },
   {
    "duration": 5,
    "start_time": "2023-03-21T12:05:14.584Z"
   },
   {
    "duration": 68,
    "start_time": "2023-03-21T12:05:42.007Z"
   },
   {
    "duration": 26,
    "start_time": "2023-03-21T12:06:49.552Z"
   },
   {
    "duration": 137,
    "start_time": "2023-03-21T12:12:07.160Z"
   },
   {
    "duration": 3877,
    "start_time": "2023-03-21T12:12:26.719Z"
   },
   {
    "duration": 727,
    "start_time": "2023-03-21T12:12:53.138Z"
   },
   {
    "duration": 985,
    "start_time": "2023-03-21T12:13:36.104Z"
   },
   {
    "duration": 765,
    "start_time": "2023-03-21T12:13:50.224Z"
   },
   {
    "duration": 3214,
    "start_time": "2023-03-21T12:14:00.963Z"
   },
   {
    "duration": 3949,
    "start_time": "2023-03-21T12:14:46.954Z"
   },
   {
    "duration": 108,
    "start_time": "2023-03-21T12:40:56.357Z"
   },
   {
    "duration": 5,
    "start_time": "2023-03-21T12:41:00.469Z"
   },
   {
    "duration": 24,
    "start_time": "2023-03-21T12:42:42.220Z"
   },
   {
    "duration": 8,
    "start_time": "2023-03-21T12:43:06.950Z"
   },
   {
    "duration": 209,
    "start_time": "2023-03-21T12:43:13.000Z"
   },
   {
    "duration": 133,
    "start_time": "2023-03-21T12:43:28.762Z"
   },
   {
    "duration": 130,
    "start_time": "2023-03-21T12:46:38.093Z"
   },
   {
    "duration": 109,
    "start_time": "2023-03-21T12:46:49.344Z"
   },
   {
    "duration": 116,
    "start_time": "2023-03-21T12:47:17.282Z"
   },
   {
    "duration": 99,
    "start_time": "2023-03-21T12:47:24.122Z"
   },
   {
    "duration": 8,
    "start_time": "2023-03-21T12:47:54.884Z"
   },
   {
    "duration": 5,
    "start_time": "2023-03-21T12:48:01.585Z"
   },
   {
    "duration": 5,
    "start_time": "2023-03-21T12:48:09.070Z"
   },
   {
    "duration": 125,
    "start_time": "2023-03-21T12:48:22.955Z"
   },
   {
    "duration": 5,
    "start_time": "2023-03-21T12:48:38.690Z"
   },
   {
    "duration": 7,
    "start_time": "2023-03-21T12:49:16.163Z"
   },
   {
    "duration": 74,
    "start_time": "2023-03-21T13:20:20.936Z"
   },
   {
    "duration": 3,
    "start_time": "2023-03-21T13:21:09.737Z"
   },
   {
    "duration": 57,
    "start_time": "2023-03-21T13:21:29.791Z"
   },
   {
    "duration": 5,
    "start_time": "2023-03-21T13:21:38.838Z"
   },
   {
    "duration": 4,
    "start_time": "2023-03-21T13:28:31.013Z"
   },
   {
    "duration": 5,
    "start_time": "2023-03-21T13:31:44.682Z"
   },
   {
    "duration": 5,
    "start_time": "2023-03-21T13:32:40.304Z"
   },
   {
    "duration": 5,
    "start_time": "2023-03-21T13:33:40.490Z"
   },
   {
    "duration": 5,
    "start_time": "2023-03-21T13:33:53.350Z"
   },
   {
    "duration": 5,
    "start_time": "2023-03-21T13:35:54.721Z"
   },
   {
    "duration": 392,
    "start_time": "2023-03-21T13:38:02.055Z"
   },
   {
    "duration": 14,
    "start_time": "2023-03-21T13:38:41.845Z"
   },
   {
    "duration": 392,
    "start_time": "2023-03-21T13:39:30.729Z"
   },
   {
    "duration": 63,
    "start_time": "2023-03-21T13:40:54.941Z"
   },
   {
    "duration": 332,
    "start_time": "2023-03-21T13:41:00.657Z"
   },
   {
    "duration": 82,
    "start_time": "2023-03-21T13:43:42.913Z"
   },
   {
    "duration": 11,
    "start_time": "2023-03-21T13:45:20.040Z"
   },
   {
    "duration": 1548,
    "start_time": "2023-03-21T13:45:54.811Z"
   },
   {
    "duration": 1859,
    "start_time": "2023-03-21T13:46:14.709Z"
   },
   {
    "duration": 19,
    "start_time": "2023-03-21T13:48:03.072Z"
   },
   {
    "duration": 3,
    "start_time": "2023-03-21T13:49:48.208Z"
   },
   {
    "duration": 28,
    "start_time": "2023-03-21T14:02:57.231Z"
   },
   {
    "duration": 37,
    "start_time": "2023-03-21T14:03:11.162Z"
   },
   {
    "duration": 31,
    "start_time": "2023-03-21T14:04:22.390Z"
   },
   {
    "duration": 23,
    "start_time": "2023-03-21T14:08:10.035Z"
   },
   {
    "duration": 12,
    "start_time": "2023-03-21T14:08:44.184Z"
   },
   {
    "duration": 11,
    "start_time": "2023-03-21T14:09:18.632Z"
   },
   {
    "duration": 13,
    "start_time": "2023-03-21T14:09:24.977Z"
   },
   {
    "duration": 12,
    "start_time": "2023-03-21T14:10:37.233Z"
   },
   {
    "duration": 14,
    "start_time": "2023-03-21T14:11:11.147Z"
   },
   {
    "duration": 27,
    "start_time": "2023-03-21T14:11:21.730Z"
   },
   {
    "duration": 91,
    "start_time": "2023-03-21T14:12:22.145Z"
   },
   {
    "duration": 60,
    "start_time": "2023-03-21T14:12:56.538Z"
   },
   {
    "duration": 52,
    "start_time": "2023-03-21T14:17:29.289Z"
   },
   {
    "duration": 40,
    "start_time": "2023-03-21T14:18:12.694Z"
   },
   {
    "duration": 42,
    "start_time": "2023-03-21T14:18:31.865Z"
   },
   {
    "duration": 61,
    "start_time": "2023-03-21T14:18:54.495Z"
   },
   {
    "duration": 54,
    "start_time": "2023-03-21T14:19:03.231Z"
   },
   {
    "duration": 61,
    "start_time": "2023-03-21T14:19:35.678Z"
   },
   {
    "duration": 28,
    "start_time": "2023-03-21T14:19:54.344Z"
   },
   {
    "duration": 1220,
    "start_time": "2023-03-21T14:20:21.988Z"
   },
   {
    "duration": 48,
    "start_time": "2023-03-21T14:21:02.840Z"
   },
   {
    "duration": 28,
    "start_time": "2023-03-21T14:21:08.291Z"
   },
   {
    "duration": 618,
    "start_time": "2023-03-21T14:21:24.429Z"
   },
   {
    "duration": 7,
    "start_time": "2023-03-21T14:21:31.839Z"
   },
   {
    "duration": 6,
    "start_time": "2023-03-21T14:21:42.449Z"
   },
   {
    "duration": 30,
    "start_time": "2023-03-21T14:21:58.135Z"
   },
   {
    "duration": 31,
    "start_time": "2023-03-21T14:22:05.781Z"
   },
   {
    "duration": 26,
    "start_time": "2023-03-21T14:22:10.886Z"
   },
   {
    "duration": 33,
    "start_time": "2023-03-21T14:22:38.555Z"
   },
   {
    "duration": 31,
    "start_time": "2023-03-21T14:22:49.278Z"
   },
   {
    "duration": 32,
    "start_time": "2023-03-21T14:23:24.188Z"
   },
   {
    "duration": 36,
    "start_time": "2023-03-21T14:23:43.721Z"
   },
   {
    "duration": 34,
    "start_time": "2023-03-21T14:23:51.850Z"
   },
   {
    "duration": 27,
    "start_time": "2023-03-21T14:24:06.937Z"
   },
   {
    "duration": 36,
    "start_time": "2023-03-21T14:24:18.380Z"
   },
   {
    "duration": 27,
    "start_time": "2023-03-21T14:24:24.730Z"
   },
   {
    "duration": 12,
    "start_time": "2023-03-21T14:24:39.250Z"
   },
   {
    "duration": 11,
    "start_time": "2023-03-21T14:25:09.488Z"
   },
   {
    "duration": 103,
    "start_time": "2023-03-21T14:25:15.952Z"
   },
   {
    "duration": 113,
    "start_time": "2023-03-21T14:26:00.857Z"
   },
   {
    "duration": 84,
    "start_time": "2023-03-21T14:26:07.932Z"
   },
   {
    "duration": 74,
    "start_time": "2023-03-21T14:26:11.949Z"
   },
   {
    "duration": 39,
    "start_time": "2023-03-21T14:26:15.826Z"
   },
   {
    "duration": 34,
    "start_time": "2023-03-21T14:26:49.132Z"
   },
   {
    "duration": 40,
    "start_time": "2023-03-21T14:26:52.595Z"
   },
   {
    "duration": 59,
    "start_time": "2023-03-21T14:27:05.398Z"
   },
   {
    "duration": 7,
    "start_time": "2023-03-21T14:34:11.844Z"
   },
   {
    "duration": 65,
    "start_time": "2023-03-21T14:40:13.791Z"
   },
   {
    "duration": 3,
    "start_time": "2023-03-21T14:41:36.806Z"
   },
   {
    "duration": 3,
    "start_time": "2023-03-21T14:41:42.323Z"
   },
   {
    "duration": 30,
    "start_time": "2023-03-21T14:41:45.598Z"
   },
   {
    "duration": 31,
    "start_time": "2023-03-21T14:46:52.606Z"
   },
   {
    "duration": 36,
    "start_time": "2023-03-21T14:56:16.485Z"
   },
   {
    "duration": 22,
    "start_time": "2023-03-21T14:57:30.613Z"
   },
   {
    "duration": 38,
    "start_time": "2023-03-21T14:58:05.856Z"
   },
   {
    "duration": 30,
    "start_time": "2023-03-21T15:02:24.193Z"
   },
   {
    "duration": 33,
    "start_time": "2023-03-21T15:04:33.177Z"
   },
   {
    "duration": 13,
    "start_time": "2023-03-21T15:05:06.978Z"
   },
   {
    "duration": 34,
    "start_time": "2023-03-21T15:06:12.013Z"
   },
   {
    "duration": 19,
    "start_time": "2023-03-21T15:06:37.949Z"
   },
   {
    "duration": 53,
    "start_time": "2023-03-21T15:07:01.998Z"
   },
   {
    "duration": 54,
    "start_time": "2023-03-21T15:07:43.690Z"
   },
   {
    "duration": 50,
    "start_time": "2023-03-21T15:07:54.642Z"
   },
   {
    "duration": 91,
    "start_time": "2023-03-21T15:10:22.064Z"
   },
   {
    "duration": 59,
    "start_time": "2023-03-21T15:10:38.280Z"
   },
   {
    "duration": 68,
    "start_time": "2023-03-21T15:10:48.646Z"
   },
   {
    "duration": 97,
    "start_time": "2023-03-21T15:11:08.716Z"
   },
   {
    "duration": 77,
    "start_time": "2023-03-21T15:11:59.123Z"
   },
   {
    "duration": 44,
    "start_time": "2023-03-21T15:12:13.651Z"
   },
   {
    "duration": 50,
    "start_time": "2023-03-21T15:12:47.437Z"
   },
   {
    "duration": 52,
    "start_time": "2023-03-21T15:12:56.911Z"
   },
   {
    "duration": 82,
    "start_time": "2023-03-21T15:13:09.084Z"
   },
   {
    "duration": 55,
    "start_time": "2023-03-21T15:13:23.697Z"
   },
   {
    "duration": 58,
    "start_time": "2023-03-21T15:13:49.852Z"
   },
   {
    "duration": 37,
    "start_time": "2023-03-21T15:14:57.777Z"
   },
   {
    "duration": 69,
    "start_time": "2023-03-21T15:17:05.171Z"
   },
   {
    "duration": 31,
    "start_time": "2023-03-21T15:17:12.434Z"
   },
   {
    "duration": 56,
    "start_time": "2023-03-21T15:17:33.817Z"
   },
   {
    "duration": 12,
    "start_time": "2023-03-21T15:18:20.243Z"
   },
   {
    "duration": 22,
    "start_time": "2023-03-21T15:18:54.717Z"
   },
   {
    "duration": 12,
    "start_time": "2023-03-21T15:18:59.604Z"
   },
   {
    "duration": 8,
    "start_time": "2023-03-21T15:19:39.134Z"
   },
   {
    "duration": 25,
    "start_time": "2023-03-21T15:19:43.419Z"
   },
   {
    "duration": 11,
    "start_time": "2023-03-21T15:20:14.098Z"
   },
   {
    "duration": 121,
    "start_time": "2023-03-21T15:20:21.278Z"
   },
   {
    "duration": 144,
    "start_time": "2023-03-21T15:21:17.236Z"
   },
   {
    "duration": 1129,
    "start_time": "2023-03-21T15:21:26.794Z"
   },
   {
    "duration": 4,
    "start_time": "2023-03-21T15:21:27.932Z"
   },
   {
    "duration": 42,
    "start_time": "2023-03-21T15:21:27.938Z"
   },
   {
    "duration": 80,
    "start_time": "2023-03-21T15:21:27.981Z"
   },
   {
    "duration": 25,
    "start_time": "2023-03-21T15:21:28.064Z"
   },
   {
    "duration": 13,
    "start_time": "2023-03-21T15:21:28.090Z"
   },
   {
    "duration": 1730,
    "start_time": "2023-03-21T15:21:28.104Z"
   },
   {
    "duration": 17,
    "start_time": "2023-03-21T15:21:29.836Z"
   },
   {
    "duration": 8,
    "start_time": "2023-03-21T15:21:29.854Z"
   },
   {
    "duration": 3665,
    "start_time": "2023-03-21T15:21:29.864Z"
   },
   {
    "duration": 26,
    "start_time": "2023-03-21T15:21:33.530Z"
   },
   {
    "duration": 4,
    "start_time": "2023-03-21T15:21:33.558Z"
   },
   {
    "duration": 8,
    "start_time": "2023-03-21T15:21:33.563Z"
   },
   {
    "duration": 32,
    "start_time": "2023-03-21T15:21:33.573Z"
   },
   {
    "duration": 30,
    "start_time": "2023-03-21T15:21:33.606Z"
   },
   {
    "duration": 8,
    "start_time": "2023-03-21T15:21:33.637Z"
   },
   {
    "duration": 8,
    "start_time": "2023-03-21T15:21:33.646Z"
   },
   {
    "duration": 6,
    "start_time": "2023-03-21T15:21:33.656Z"
   },
   {
    "duration": 7,
    "start_time": "2023-03-21T15:21:33.663Z"
   },
   {
    "duration": 29,
    "start_time": "2023-03-21T15:21:33.672Z"
   },
   {
    "duration": 25,
    "start_time": "2023-03-21T15:21:33.702Z"
   },
   {
    "duration": 21,
    "start_time": "2023-03-21T15:21:33.732Z"
   },
   {
    "duration": 7,
    "start_time": "2023-03-21T15:25:18.215Z"
   },
   {
    "duration": 93,
    "start_time": "2023-03-21T15:27:12.478Z"
   },
   {
    "duration": 83,
    "start_time": "2023-03-21T15:27:17.837Z"
   },
   {
    "duration": 8,
    "start_time": "2023-03-21T15:27:32.134Z"
   },
   {
    "duration": 71,
    "start_time": "2023-03-21T15:27:39.347Z"
   },
   {
    "duration": 78,
    "start_time": "2023-03-21T15:27:48.391Z"
   },
   {
    "duration": 6,
    "start_time": "2023-03-21T15:28:13.271Z"
   },
   {
    "duration": 9,
    "start_time": "2023-03-21T15:28:29.089Z"
   },
   {
    "duration": 8,
    "start_time": "2023-03-21T15:28:45.052Z"
   },
   {
    "duration": 11,
    "start_time": "2023-03-21T15:28:48.619Z"
   },
   {
    "duration": 7,
    "start_time": "2023-03-21T15:29:03.445Z"
   },
   {
    "duration": 15,
    "start_time": "2023-03-21T15:46:29.989Z"
   },
   {
    "duration": 16,
    "start_time": "2023-03-21T15:46:43.700Z"
   },
   {
    "duration": 29,
    "start_time": "2023-03-21T15:47:06.621Z"
   },
   {
    "duration": 30,
    "start_time": "2023-03-21T15:49:30.480Z"
   },
   {
    "duration": 30,
    "start_time": "2023-03-21T15:49:51.177Z"
   },
   {
    "duration": 35,
    "start_time": "2023-03-21T15:52:21.105Z"
   },
   {
    "duration": 118,
    "start_time": "2023-03-21T15:54:46.193Z"
   },
   {
    "duration": 36,
    "start_time": "2023-03-21T15:55:43.633Z"
   },
   {
    "duration": 83,
    "start_time": "2023-03-21T15:59:00.966Z"
   },
   {
    "duration": 37,
    "start_time": "2023-03-21T15:59:20.334Z"
   },
   {
    "duration": 580,
    "start_time": "2023-03-21T16:00:11.712Z"
   },
   {
    "duration": 36,
    "start_time": "2023-03-21T16:00:35.705Z"
   },
   {
    "duration": 55,
    "start_time": "2023-03-21T16:00:45.993Z"
   },
   {
    "duration": 3,
    "start_time": "2023-03-21T16:01:27.322Z"
   },
   {
    "duration": 38,
    "start_time": "2023-03-21T16:01:33.034Z"
   },
   {
    "duration": 169,
    "start_time": "2023-03-21T16:02:21.299Z"
   },
   {
    "duration": 74,
    "start_time": "2023-03-21T16:02:27.491Z"
   },
   {
    "duration": 61,
    "start_time": "2023-03-21T16:02:36.802Z"
   },
   {
    "duration": 67,
    "start_time": "2023-03-21T16:03:05.671Z"
   },
   {
    "duration": 43,
    "start_time": "2023-03-21T16:03:48.390Z"
   },
   {
    "duration": 11,
    "start_time": "2023-03-21T16:04:00.172Z"
   },
   {
    "duration": 15,
    "start_time": "2023-03-21T16:04:08.889Z"
   },
   {
    "duration": 20,
    "start_time": "2023-03-21T16:04:11.352Z"
   },
   {
    "duration": 38,
    "start_time": "2023-03-21T16:04:34.603Z"
   },
   {
    "duration": 44,
    "start_time": "2023-03-21T16:05:02.007Z"
   },
   {
    "duration": 12,
    "start_time": "2023-03-21T16:05:05.170Z"
   },
   {
    "duration": 32,
    "start_time": "2023-03-21T16:06:05.100Z"
   },
   {
    "duration": 20,
    "start_time": "2023-03-21T16:06:11.443Z"
   },
   {
    "duration": 56,
    "start_time": "2023-03-21T16:06:38.715Z"
   },
   {
    "duration": 19,
    "start_time": "2023-03-21T16:12:27.958Z"
   },
   {
    "duration": 18,
    "start_time": "2023-03-21T16:12:31.670Z"
   },
   {
    "duration": 46,
    "start_time": "2023-03-21T16:12:35.245Z"
   },
   {
    "duration": 22,
    "start_time": "2023-03-21T16:12:58.543Z"
   },
   {
    "duration": 19,
    "start_time": "2023-03-21T16:13:23.769Z"
   },
   {
    "duration": 22,
    "start_time": "2023-03-21T16:13:29.794Z"
   },
   {
    "duration": 193,
    "start_time": "2023-03-21T16:15:07.709Z"
   },
   {
    "duration": 103,
    "start_time": "2023-03-21T16:15:43.219Z"
   },
   {
    "duration": 90,
    "start_time": "2023-03-21T16:15:46.164Z"
   },
   {
    "duration": 99,
    "start_time": "2023-03-21T16:16:11.146Z"
   },
   {
    "duration": 113,
    "start_time": "2023-03-21T16:16:32.655Z"
   },
   {
    "duration": 99,
    "start_time": "2023-03-21T16:17:25.766Z"
   },
   {
    "duration": 101,
    "start_time": "2023-03-21T16:18:03.667Z"
   },
   {
    "duration": 83,
    "start_time": "2023-03-21T16:18:32.263Z"
   },
   {
    "duration": 108,
    "start_time": "2023-03-21T16:19:00.502Z"
   },
   {
    "duration": 20,
    "start_time": "2023-03-21T16:19:16.373Z"
   },
   {
    "duration": 26,
    "start_time": "2023-03-21T16:19:28.237Z"
   },
   {
    "duration": 34,
    "start_time": "2023-03-21T16:19:42.902Z"
   },
   {
    "duration": 79,
    "start_time": "2023-03-21T16:20:17.738Z"
   },
   {
    "duration": 21,
    "start_time": "2023-03-21T16:20:28.989Z"
   },
   {
    "duration": 79,
    "start_time": "2023-03-21T16:20:47.873Z"
   },
   {
    "duration": 29,
    "start_time": "2023-03-21T16:20:52.959Z"
   },
   {
    "duration": 41,
    "start_time": "2023-03-21T16:21:16.607Z"
   },
   {
    "duration": 21,
    "start_time": "2023-03-21T16:21:28.874Z"
   },
   {
    "duration": 92,
    "start_time": "2023-03-21T16:23:20.822Z"
   },
   {
    "duration": 91,
    "start_time": "2023-03-21T16:23:48.715Z"
   },
   {
    "duration": 33,
    "start_time": "2023-03-21T16:23:56.094Z"
   },
   {
    "duration": 20,
    "start_time": "2023-03-21T16:27:00.468Z"
   },
   {
    "duration": 24,
    "start_time": "2023-03-21T16:27:37.839Z"
   },
   {
    "duration": 85,
    "start_time": "2023-03-21T16:27:54.607Z"
   },
   {
    "duration": 129,
    "start_time": "2023-03-21T16:27:57.943Z"
   },
   {
    "duration": 20,
    "start_time": "2023-03-21T16:28:00.254Z"
   },
   {
    "duration": 9,
    "start_time": "2023-03-21T16:36:00.425Z"
   },
   {
    "duration": 10,
    "start_time": "2023-03-21T16:36:16.043Z"
   },
   {
    "duration": 14,
    "start_time": "2023-03-21T16:36:31.725Z"
   },
   {
    "duration": 71,
    "start_time": "2023-03-21T16:37:50.138Z"
   },
   {
    "duration": 92,
    "start_time": "2023-03-21T16:39:11.813Z"
   },
   {
    "duration": 71,
    "start_time": "2023-03-21T16:39:19.347Z"
   },
   {
    "duration": 12,
    "start_time": "2023-03-21T16:39:24.093Z"
   },
   {
    "duration": 13,
    "start_time": "2023-03-21T16:40:44.837Z"
   },
   {
    "duration": 110,
    "start_time": "2023-03-21T16:41:02.129Z"
   },
   {
    "duration": 76,
    "start_time": "2023-03-21T16:41:21.238Z"
   },
   {
    "duration": 13,
    "start_time": "2023-03-21T16:41:26.461Z"
   },
   {
    "duration": 86,
    "start_time": "2023-03-21T16:41:33.370Z"
   },
   {
    "duration": 81,
    "start_time": "2023-03-21T16:41:58.447Z"
   },
   {
    "duration": 74,
    "start_time": "2023-03-21T16:42:03.018Z"
   },
   {
    "duration": 98,
    "start_time": "2023-03-21T16:42:26.415Z"
   },
   {
    "duration": 67,
    "start_time": "2023-03-21T16:42:36.570Z"
   },
   {
    "duration": 106,
    "start_time": "2023-03-21T16:42:56.045Z"
   },
   {
    "duration": 14,
    "start_time": "2023-03-21T16:43:11.288Z"
   },
   {
    "duration": 20,
    "start_time": "2023-03-21T16:43:16.415Z"
   },
   {
    "duration": 101,
    "start_time": "2023-03-21T16:43:41.000Z"
   },
   {
    "duration": 14,
    "start_time": "2023-03-21T16:43:47.474Z"
   },
   {
    "duration": 111,
    "start_time": "2023-03-21T16:43:54.261Z"
   },
   {
    "duration": 73,
    "start_time": "2023-03-21T16:44:10.240Z"
   },
   {
    "duration": 12,
    "start_time": "2023-03-21T16:44:22.901Z"
   },
   {
    "duration": 12,
    "start_time": "2023-03-21T16:46:17.944Z"
   },
   {
    "duration": 14,
    "start_time": "2023-03-21T16:47:08.005Z"
   },
   {
    "duration": 26,
    "start_time": "2023-03-21T16:48:05.523Z"
   },
   {
    "duration": 22,
    "start_time": "2023-03-21T16:48:10.676Z"
   },
   {
    "duration": 24,
    "start_time": "2023-03-21T16:48:23.956Z"
   },
   {
    "duration": 24,
    "start_time": "2023-03-21T16:48:42.770Z"
   },
   {
    "duration": 5,
    "start_time": "2023-03-21T16:55:24.062Z"
   },
   {
    "duration": 8,
    "start_time": "2023-03-21T16:55:28.546Z"
   },
   {
    "duration": 1596,
    "start_time": "2023-03-22T12:00:32.614Z"
   },
   {
    "duration": 5,
    "start_time": "2023-03-22T12:00:34.212Z"
   },
   {
    "duration": 64,
    "start_time": "2023-03-22T12:00:34.220Z"
   },
   {
    "duration": 112,
    "start_time": "2023-03-22T12:00:34.287Z"
   },
   {
    "duration": 50,
    "start_time": "2023-03-22T12:00:34.400Z"
   },
   {
    "duration": 21,
    "start_time": "2023-03-22T12:00:34.452Z"
   },
   {
    "duration": 2388,
    "start_time": "2023-03-22T12:00:34.475Z"
   },
   {
    "duration": 29,
    "start_time": "2023-03-22T12:00:36.866Z"
   },
   {
    "duration": 5,
    "start_time": "2023-03-22T12:00:36.898Z"
   },
   {
    "duration": 4960,
    "start_time": "2023-03-22T12:00:36.907Z"
   },
   {
    "duration": 27,
    "start_time": "2023-03-22T12:00:41.869Z"
   },
   {
    "duration": 31,
    "start_time": "2023-03-22T12:00:41.898Z"
   },
   {
    "duration": 18,
    "start_time": "2023-03-22T12:00:41.931Z"
   },
   {
    "duration": 26,
    "start_time": "2023-03-22T12:00:41.950Z"
   },
   {
    "duration": 5,
    "start_time": "2023-03-22T12:00:41.977Z"
   },
   {
    "duration": 24,
    "start_time": "2023-03-22T12:00:41.983Z"
   },
   {
    "duration": 11,
    "start_time": "2023-03-22T12:00:42.029Z"
   },
   {
    "duration": 21,
    "start_time": "2023-03-22T12:00:42.042Z"
   },
   {
    "duration": 76,
    "start_time": "2023-03-22T12:00:42.065Z"
   },
   {
    "duration": 3,
    "start_time": "2023-03-22T12:00:42.143Z"
   },
   {
    "duration": 34,
    "start_time": "2023-03-22T12:00:42.148Z"
   },
   {
    "duration": 7,
    "start_time": "2023-03-22T12:23:59.612Z"
   },
   {
    "duration": 10,
    "start_time": "2023-03-22T12:28:30.751Z"
   },
   {
    "duration": 6,
    "start_time": "2023-03-22T12:31:53.457Z"
   },
   {
    "duration": 32,
    "start_time": "2023-03-22T12:32:23.122Z"
   },
   {
    "duration": 27,
    "start_time": "2023-03-22T12:35:14.522Z"
   },
   {
    "duration": 12,
    "start_time": "2023-03-22T12:37:00.252Z"
   },
   {
    "duration": 82,
    "start_time": "2023-03-22T12:46:32.190Z"
   },
   {
    "duration": 15,
    "start_time": "2023-03-22T12:46:36.582Z"
   },
   {
    "duration": 18,
    "start_time": "2023-03-22T12:47:00.639Z"
   },
   {
    "duration": 22,
    "start_time": "2023-03-22T12:47:31.095Z"
   },
   {
    "duration": 201,
    "start_time": "2023-03-22T12:48:43.347Z"
   },
   {
    "duration": 60,
    "start_time": "2023-03-22T12:49:06.443Z"
   },
   {
    "duration": 29,
    "start_time": "2023-03-22T12:49:29.722Z"
   },
   {
    "duration": 21,
    "start_time": "2023-03-22T12:49:57.448Z"
   },
   {
    "duration": 18,
    "start_time": "2023-03-22T12:50:29.191Z"
   },
   {
    "duration": 12,
    "start_time": "2023-03-22T12:50:49.658Z"
   },
   {
    "duration": 52,
    "start_time": "2023-03-22T12:50:52.891Z"
   },
   {
    "duration": 11,
    "start_time": "2023-03-22T12:51:26.139Z"
   },
   {
    "duration": 20,
    "start_time": "2023-03-22T12:51:42.950Z"
   },
   {
    "duration": 19,
    "start_time": "2023-03-22T12:51:48.937Z"
   },
   {
    "duration": 65,
    "start_time": "2023-03-22T12:52:24.023Z"
   },
   {
    "duration": 24,
    "start_time": "2023-03-22T12:52:37.316Z"
   },
   {
    "duration": 52,
    "start_time": "2023-03-22T12:53:57.616Z"
   },
   {
    "duration": 97,
    "start_time": "2023-03-22T12:54:02.545Z"
   },
   {
    "duration": 23,
    "start_time": "2023-03-22T12:54:20.518Z"
   },
   {
    "duration": 13,
    "start_time": "2023-03-22T12:55:04.186Z"
   },
   {
    "duration": 15,
    "start_time": "2023-03-22T12:55:42.881Z"
   },
   {
    "duration": 461,
    "start_time": "2023-03-22T12:56:14.886Z"
   },
   {
    "duration": 17,
    "start_time": "2023-03-22T12:56:19.327Z"
   },
   {
    "duration": 7,
    "start_time": "2023-03-22T12:56:22.143Z"
   },
   {
    "duration": 9,
    "start_time": "2023-03-22T12:57:53.182Z"
   },
   {
    "duration": 10,
    "start_time": "2023-03-22T12:58:07.519Z"
   },
   {
    "duration": 10,
    "start_time": "2023-03-22T13:03:54.467Z"
   },
   {
    "duration": 88,
    "start_time": "2023-03-22T13:04:43.112Z"
   },
   {
    "duration": 14,
    "start_time": "2023-03-22T13:04:52.915Z"
   },
   {
    "duration": 8,
    "start_time": "2023-03-22T13:05:13.543Z"
   },
   {
    "duration": 11,
    "start_time": "2023-03-22T13:05:50.457Z"
   },
   {
    "duration": 11,
    "start_time": "2023-03-22T13:06:02.911Z"
   },
   {
    "duration": 15,
    "start_time": "2023-03-22T13:06:15.261Z"
   },
   {
    "duration": 12,
    "start_time": "2023-03-22T13:07:46.878Z"
   },
   {
    "duration": 9,
    "start_time": "2023-03-22T13:07:59.511Z"
   },
   {
    "duration": 4935,
    "start_time": "2023-03-22T13:31:46.262Z"
   },
   {
    "duration": 44,
    "start_time": "2023-03-22T13:38:55.854Z"
   },
   {
    "duration": 4,
    "start_time": "2023-03-22T13:41:15.683Z"
   },
   {
    "duration": 58,
    "start_time": "2023-03-22T13:41:28.340Z"
   },
   {
    "duration": 9,
    "start_time": "2023-03-22T13:41:39.053Z"
   },
   {
    "duration": 10,
    "start_time": "2023-03-22T13:42:26.917Z"
   },
   {
    "duration": 9,
    "start_time": "2023-03-22T13:42:46.226Z"
   },
   {
    "duration": 9,
    "start_time": "2023-03-22T13:42:53.214Z"
   },
   {
    "duration": 8,
    "start_time": "2023-03-22T13:43:02.653Z"
   },
   {
    "duration": 12,
    "start_time": "2023-03-22T13:43:21.286Z"
   },
   {
    "duration": 14,
    "start_time": "2023-03-22T13:43:35.118Z"
   },
   {
    "duration": 37,
    "start_time": "2023-03-22T13:45:03.590Z"
   },
   {
    "duration": 41,
    "start_time": "2023-03-22T13:45:25.498Z"
   },
   {
    "duration": 30,
    "start_time": "2023-03-22T13:45:39.439Z"
   },
   {
    "duration": 32,
    "start_time": "2023-03-22T13:48:45.919Z"
   },
   {
    "duration": 18,
    "start_time": "2023-03-22T13:49:12.030Z"
   },
   {
    "duration": 18,
    "start_time": "2023-03-22T13:49:25.050Z"
   },
   {
    "duration": 57,
    "start_time": "2023-03-22T13:52:38.292Z"
   },
   {
    "duration": 43,
    "start_time": "2023-03-22T13:52:42.452Z"
   },
   {
    "duration": 20,
    "start_time": "2023-03-22T13:52:54.002Z"
   },
   {
    "duration": 22,
    "start_time": "2023-03-22T13:53:19.721Z"
   },
   {
    "duration": 50,
    "start_time": "2023-03-22T13:53:48.512Z"
   },
   {
    "duration": 41,
    "start_time": "2023-03-22T13:53:53.271Z"
   },
   {
    "duration": 18,
    "start_time": "2023-03-22T13:54:23.799Z"
   },
   {
    "duration": 50,
    "start_time": "2023-03-22T13:54:48.976Z"
   },
   {
    "duration": 68,
    "start_time": "2023-03-22T13:54:53.251Z"
   },
   {
    "duration": 46,
    "start_time": "2023-03-22T13:55:31.843Z"
   },
   {
    "duration": 16,
    "start_time": "2023-03-22T13:55:43.462Z"
   },
   {
    "duration": 7,
    "start_time": "2023-03-22T14:02:10.431Z"
   },
   {
    "duration": 4,
    "start_time": "2023-03-22T14:02:49.672Z"
   },
   {
    "duration": 50,
    "start_time": "2023-03-22T14:02:52.524Z"
   },
   {
    "duration": 48,
    "start_time": "2023-03-22T14:03:05.040Z"
   },
   {
    "duration": 5,
    "start_time": "2023-03-22T14:03:27.929Z"
   },
   {
    "duration": 5,
    "start_time": "2023-03-22T14:04:56.034Z"
   },
   {
    "duration": 5,
    "start_time": "2023-03-22T14:05:17.690Z"
   },
   {
    "duration": 6,
    "start_time": "2023-03-22T14:05:39.939Z"
   },
   {
    "duration": 6,
    "start_time": "2023-03-22T14:06:01.436Z"
   },
   {
    "duration": 8,
    "start_time": "2023-03-22T14:06:09.545Z"
   },
   {
    "duration": 9,
    "start_time": "2023-03-22T14:07:32.220Z"
   },
   {
    "duration": 47,
    "start_time": "2023-03-22T14:11:55.030Z"
   },
   {
    "duration": 52,
    "start_time": "2023-03-22T14:12:05.805Z"
   },
   {
    "duration": 10,
    "start_time": "2023-03-22T14:12:15.189Z"
   },
   {
    "duration": 9,
    "start_time": "2023-03-22T14:12:30.836Z"
   },
   {
    "duration": 5,
    "start_time": "2023-03-22T14:13:15.646Z"
   },
   {
    "duration": 64,
    "start_time": "2023-03-22T14:14:09.649Z"
   },
   {
    "duration": 51,
    "start_time": "2023-03-22T14:14:14.226Z"
   },
   {
    "duration": 58,
    "start_time": "2023-03-22T14:15:36.496Z"
   },
   {
    "duration": 8,
    "start_time": "2023-03-22T14:15:51.039Z"
   },
   {
    "duration": 14,
    "start_time": "2023-03-22T14:16:11.629Z"
   },
   {
    "duration": 6,
    "start_time": "2023-03-22T14:16:24.843Z"
   },
   {
    "duration": 53,
    "start_time": "2023-03-22T14:32:30.920Z"
   },
   {
    "duration": 63,
    "start_time": "2023-03-22T14:32:34.976Z"
   },
   {
    "duration": 39,
    "start_time": "2023-03-22T14:33:16.628Z"
   },
   {
    "duration": 26,
    "start_time": "2023-03-22T14:34:11.689Z"
   },
   {
    "duration": 26,
    "start_time": "2023-03-22T14:34:45.339Z"
   },
   {
    "duration": 5,
    "start_time": "2023-03-22T14:36:50.990Z"
   },
   {
    "duration": 5,
    "start_time": "2023-03-22T14:37:16.251Z"
   },
   {
    "duration": 8,
    "start_time": "2023-03-22T14:38:52.936Z"
   },
   {
    "duration": 9,
    "start_time": "2023-03-22T14:39:26.236Z"
   },
   {
    "duration": 8,
    "start_time": "2023-03-22T14:39:34.699Z"
   },
   {
    "duration": 8,
    "start_time": "2023-03-22T14:42:32.039Z"
   },
   {
    "duration": 22,
    "start_time": "2023-03-22T14:49:20.438Z"
   },
   {
    "duration": 22,
    "start_time": "2023-03-22T14:49:28.142Z"
   },
   {
    "duration": 60,
    "start_time": "2023-03-22T14:49:36.380Z"
   },
   {
    "duration": 23,
    "start_time": "2023-03-22T14:49:50.051Z"
   },
   {
    "duration": 22,
    "start_time": "2023-03-22T14:50:06.531Z"
   },
   {
    "duration": 22,
    "start_time": "2023-03-22T14:50:13.460Z"
   },
   {
    "duration": 60,
    "start_time": "2023-03-22T14:50:16.228Z"
   },
   {
    "duration": 51,
    "start_time": "2023-03-22T14:51:56.588Z"
   },
   {
    "duration": 53,
    "start_time": "2023-03-22T14:59:46.062Z"
   },
   {
    "duration": 5,
    "start_time": "2023-03-22T15:08:56.122Z"
   },
   {
    "duration": 13,
    "start_time": "2023-03-22T15:09:52.422Z"
   },
   {
    "duration": 26,
    "start_time": "2023-03-22T15:10:48.024Z"
   },
   {
    "duration": 5,
    "start_time": "2023-03-22T15:11:48.586Z"
   },
   {
    "duration": 10,
    "start_time": "2023-03-22T15:17:28.327Z"
   },
   {
    "duration": 13,
    "start_time": "2023-03-22T15:30:55.164Z"
   },
   {
    "duration": 9,
    "start_time": "2023-03-22T15:32:00.285Z"
   },
   {
    "duration": 9,
    "start_time": "2023-03-22T15:32:27.441Z"
   },
   {
    "duration": 34,
    "start_time": "2023-03-22T15:38:39.951Z"
   },
   {
    "duration": 5,
    "start_time": "2023-03-22T16:05:00.414Z"
   },
   {
    "duration": 6,
    "start_time": "2023-03-22T16:12:03.218Z"
   },
   {
    "duration": 187,
    "start_time": "2023-03-22T16:12:25.331Z"
   },
   {
    "duration": 4,
    "start_time": "2023-03-22T16:16:07.423Z"
   },
   {
    "duration": 35,
    "start_time": "2023-03-22T16:16:19.595Z"
   },
   {
    "duration": 9,
    "start_time": "2023-03-22T16:16:51.178Z"
   },
   {
    "duration": 9,
    "start_time": "2023-03-22T16:17:23.341Z"
   },
   {
    "duration": 7,
    "start_time": "2023-03-22T16:17:32.723Z"
   },
   {
    "duration": 6,
    "start_time": "2023-03-22T16:17:36.734Z"
   },
   {
    "duration": 8,
    "start_time": "2023-03-22T16:17:52.344Z"
   },
   {
    "duration": 6,
    "start_time": "2023-03-22T16:17:59.783Z"
   },
   {
    "duration": 23,
    "start_time": "2023-03-22T16:33:14.123Z"
   },
   {
    "duration": 2,
    "start_time": "2023-03-22T16:37:14.336Z"
   },
   {
    "duration": 7,
    "start_time": "2023-03-22T16:49:06.383Z"
   },
   {
    "duration": 9,
    "start_time": "2023-03-22T16:49:49.846Z"
   },
   {
    "duration": 21,
    "start_time": "2023-03-22T16:50:25.726Z"
   },
   {
    "duration": 45,
    "start_time": "2023-03-22T16:50:40.512Z"
   },
   {
    "duration": 1360,
    "start_time": "2023-03-22T16:50:52.783Z"
   },
   {
    "duration": 3,
    "start_time": "2023-03-22T16:50:54.145Z"
   },
   {
    "duration": 62,
    "start_time": "2023-03-22T16:50:54.152Z"
   },
   {
    "duration": 84,
    "start_time": "2023-03-22T16:50:54.216Z"
   },
   {
    "duration": 35,
    "start_time": "2023-03-22T16:50:54.302Z"
   },
   {
    "duration": 15,
    "start_time": "2023-03-22T16:50:54.339Z"
   },
   {
    "duration": 2273,
    "start_time": "2023-03-22T16:50:54.355Z"
   },
   {
    "duration": 21,
    "start_time": "2023-03-22T16:50:56.629Z"
   },
   {
    "duration": 5,
    "start_time": "2023-03-22T16:50:56.651Z"
   },
   {
    "duration": 4611,
    "start_time": "2023-03-22T16:50:56.657Z"
   },
   {
    "duration": 30,
    "start_time": "2023-03-22T16:51:01.270Z"
   },
   {
    "duration": 24,
    "start_time": "2023-03-22T16:51:01.301Z"
   },
   {
    "duration": 56,
    "start_time": "2023-03-22T16:51:01.328Z"
   },
   {
    "duration": 41,
    "start_time": "2023-03-22T16:51:01.386Z"
   },
   {
    "duration": 22,
    "start_time": "2023-03-22T16:51:01.429Z"
   },
   {
    "duration": 33,
    "start_time": "2023-03-22T16:51:01.453Z"
   },
   {
    "duration": 35,
    "start_time": "2023-03-22T16:51:01.488Z"
   },
   {
    "duration": 60,
    "start_time": "2023-03-22T16:51:01.525Z"
   },
   {
    "duration": 37,
    "start_time": "2023-03-22T16:51:01.587Z"
   },
   {
    "duration": 86,
    "start_time": "2023-03-22T16:51:01.626Z"
   },
   {
    "duration": 6,
    "start_time": "2023-03-22T16:51:01.714Z"
   },
   {
    "duration": 66,
    "start_time": "2023-03-22T16:51:01.721Z"
   },
   {
    "duration": 47,
    "start_time": "2023-03-22T16:51:01.789Z"
   },
   {
    "duration": 13,
    "start_time": "2023-03-22T16:51:01.838Z"
   },
   {
    "duration": 23,
    "start_time": "2023-03-22T16:51:01.853Z"
   },
   {
    "duration": 90,
    "start_time": "2023-03-22T16:51:01.878Z"
   },
   {
    "duration": 98,
    "start_time": "2023-03-22T16:59:13.836Z"
   },
   {
    "duration": 10,
    "start_time": "2023-03-22T16:59:19.031Z"
   },
   {
    "duration": 7,
    "start_time": "2023-03-22T17:00:15.141Z"
   },
   {
    "duration": 12,
    "start_time": "2023-03-22T17:01:04.814Z"
   },
   {
    "duration": 26,
    "start_time": "2023-03-22T17:01:14.529Z"
   },
   {
    "duration": 21,
    "start_time": "2023-03-22T17:01:53.612Z"
   },
   {
    "duration": 8,
    "start_time": "2023-03-22T17:02:13.463Z"
   },
   {
    "duration": 6,
    "start_time": "2023-03-22T17:02:35.125Z"
   },
   {
    "duration": 18,
    "start_time": "2023-03-22T17:02:51.751Z"
   },
   {
    "duration": 6,
    "start_time": "2023-03-22T17:03:05.885Z"
   },
   {
    "duration": 5,
    "start_time": "2023-03-22T17:03:13.918Z"
   },
   {
    "duration": 5,
    "start_time": "2023-03-22T17:03:28.290Z"
   },
   {
    "duration": 7,
    "start_time": "2023-03-22T17:03:50.566Z"
   },
   {
    "duration": 7,
    "start_time": "2023-03-22T17:08:53.190Z"
   },
   {
    "duration": 10,
    "start_time": "2023-03-22T17:09:06.536Z"
   },
   {
    "duration": 27,
    "start_time": "2023-03-22T17:09:10.229Z"
   },
   {
    "duration": 19,
    "start_time": "2023-03-22T17:09:25.856Z"
   },
   {
    "duration": 17,
    "start_time": "2023-03-22T17:16:20.388Z"
   },
   {
    "duration": 10,
    "start_time": "2023-03-22T17:19:38.840Z"
   },
   {
    "duration": 13,
    "start_time": "2023-03-22T17:19:50.926Z"
   },
   {
    "duration": 11,
    "start_time": "2023-03-22T17:25:51.721Z"
   },
   {
    "duration": 4,
    "start_time": "2023-03-22T17:26:17.476Z"
   },
   {
    "duration": 6,
    "start_time": "2023-03-22T17:26:32.969Z"
   },
   {
    "duration": 18,
    "start_time": "2023-03-22T17:27:43.939Z"
   },
   {
    "duration": 21,
    "start_time": "2023-03-22T17:29:32.601Z"
   },
   {
    "duration": 398,
    "start_time": "2023-03-22T17:39:46.205Z"
   },
   {
    "duration": 6,
    "start_time": "2023-03-22T17:40:07.976Z"
   },
   {
    "duration": 5,
    "start_time": "2023-03-22T17:41:09.021Z"
   },
   {
    "duration": 48,
    "start_time": "2023-03-22T17:46:32.993Z"
   },
   {
    "duration": 7,
    "start_time": "2023-03-22T17:50:47.818Z"
   },
   {
    "duration": 6,
    "start_time": "2023-03-22T17:51:08.618Z"
   },
   {
    "duration": 7,
    "start_time": "2023-03-22T17:51:14.940Z"
   },
   {
    "duration": 20,
    "start_time": "2023-03-22T17:59:36.127Z"
   },
   {
    "duration": 12,
    "start_time": "2023-03-22T17:59:46.147Z"
   },
   {
    "duration": 15,
    "start_time": "2023-03-22T18:00:23.243Z"
   },
   {
    "duration": 17,
    "start_time": "2023-03-22T18:00:43.379Z"
   },
   {
    "duration": 8,
    "start_time": "2023-03-22T18:01:07.681Z"
   },
   {
    "duration": 21,
    "start_time": "2023-03-22T18:01:14.745Z"
   },
   {
    "duration": 9,
    "start_time": "2023-03-22T18:01:17.393Z"
   },
   {
    "duration": 45,
    "start_time": "2023-03-22T18:01:39.139Z"
   },
   {
    "duration": 67,
    "start_time": "2023-03-22T18:01:42.795Z"
   },
   {
    "duration": 15,
    "start_time": "2023-03-22T18:02:32.755Z"
   },
   {
    "duration": 14,
    "start_time": "2023-03-22T18:02:41.044Z"
   },
   {
    "duration": 10,
    "start_time": "2023-03-22T18:02:53.250Z"
   },
   {
    "duration": 9,
    "start_time": "2023-03-22T18:03:03.260Z"
   },
   {
    "duration": 5,
    "start_time": "2023-03-22T18:07:13.599Z"
   },
   {
    "duration": 32,
    "start_time": "2023-03-22T18:07:44.038Z"
   },
   {
    "duration": 13,
    "start_time": "2023-03-22T18:07:57.318Z"
   },
   {
    "duration": 11,
    "start_time": "2023-03-22T18:08:11.343Z"
   },
   {
    "duration": 9,
    "start_time": "2023-03-22T18:08:14.380Z"
   },
   {
    "duration": 8,
    "start_time": "2023-03-22T18:08:25.253Z"
   },
   {
    "duration": 5,
    "start_time": "2023-03-22T18:08:39.051Z"
   },
   {
    "duration": 231,
    "start_time": "2023-03-22T18:08:55.742Z"
   },
   {
    "duration": 7,
    "start_time": "2023-03-22T18:09:19.892Z"
   },
   {
    "duration": 15,
    "start_time": "2023-03-22T18:11:12.648Z"
   },
   {
    "duration": 14,
    "start_time": "2023-03-22T18:11:38.250Z"
   },
   {
    "duration": 63,
    "start_time": "2023-03-22T18:12:22.867Z"
   },
   {
    "duration": 16,
    "start_time": "2023-03-22T18:12:29.647Z"
   },
   {
    "duration": 12,
    "start_time": "2023-03-22T18:13:06.054Z"
   },
   {
    "duration": 13,
    "start_time": "2023-03-22T18:14:39.551Z"
   },
   {
    "duration": 18,
    "start_time": "2023-03-22T18:15:19.267Z"
   },
   {
    "duration": 75,
    "start_time": "2023-03-22T18:15:42.280Z"
   },
   {
    "duration": 13,
    "start_time": "2023-03-22T18:15:46.264Z"
   },
   {
    "duration": 10,
    "start_time": "2023-03-22T18:16:45.298Z"
   },
   {
    "duration": 22,
    "start_time": "2023-03-22T18:17:30.854Z"
   },
   {
    "duration": 18,
    "start_time": "2023-03-22T18:19:27.262Z"
   },
   {
    "duration": 39,
    "start_time": "2023-03-22T18:20:44.890Z"
   },
   {
    "duration": 45,
    "start_time": "2023-03-22T18:22:03.475Z"
   },
   {
    "duration": 1030,
    "start_time": "2023-03-22T18:22:30.892Z"
   },
   {
    "duration": 49,
    "start_time": "2023-03-22T18:24:01.542Z"
   },
   {
    "duration": 771,
    "start_time": "2023-03-22T18:24:09.581Z"
   },
   {
    "duration": 8,
    "start_time": "2023-03-22T18:25:21.402Z"
   },
   {
    "duration": 51,
    "start_time": "2023-03-23T06:07:54.947Z"
   },
   {
    "duration": 1551,
    "start_time": "2023-03-23T06:08:03.356Z"
   },
   {
    "duration": 3,
    "start_time": "2023-03-23T06:08:04.909Z"
   },
   {
    "duration": 49,
    "start_time": "2023-03-23T06:08:04.914Z"
   },
   {
    "duration": 127,
    "start_time": "2023-03-23T06:08:04.965Z"
   },
   {
    "duration": 40,
    "start_time": "2023-03-23T06:08:05.094Z"
   },
   {
    "duration": 21,
    "start_time": "2023-03-23T06:08:05.136Z"
   },
   {
    "duration": 2364,
    "start_time": "2023-03-23T06:08:05.159Z"
   },
   {
    "duration": 20,
    "start_time": "2023-03-23T06:08:07.524Z"
   },
   {
    "duration": 5,
    "start_time": "2023-03-23T06:08:07.546Z"
   },
   {
    "duration": 5222,
    "start_time": "2023-03-23T06:08:07.552Z"
   },
   {
    "duration": 47,
    "start_time": "2023-03-23T06:08:12.776Z"
   },
   {
    "duration": 5,
    "start_time": "2023-03-23T06:08:12.826Z"
   },
   {
    "duration": 22,
    "start_time": "2023-03-23T06:08:12.833Z"
   },
   {
    "duration": 72,
    "start_time": "2023-03-23T06:08:12.859Z"
   },
   {
    "duration": 6,
    "start_time": "2023-03-23T06:08:12.932Z"
   },
   {
    "duration": 6,
    "start_time": "2023-03-23T06:08:12.939Z"
   },
   {
    "duration": 7,
    "start_time": "2023-03-23T06:08:12.946Z"
   },
   {
    "duration": 12,
    "start_time": "2023-03-23T06:08:12.954Z"
   },
   {
    "duration": 36,
    "start_time": "2023-03-23T06:08:12.968Z"
   },
   {
    "duration": 58,
    "start_time": "2023-03-23T06:08:13.006Z"
   },
   {
    "duration": 5,
    "start_time": "2023-03-23T06:08:13.066Z"
   },
   {
    "duration": 39,
    "start_time": "2023-03-23T06:08:13.073Z"
   },
   {
    "duration": 47,
    "start_time": "2023-03-23T06:08:13.114Z"
   },
   {
    "duration": 5,
    "start_time": "2023-03-23T06:08:13.163Z"
   },
   {
    "duration": 37,
    "start_time": "2023-03-23T06:08:13.169Z"
   },
   {
    "duration": 29,
    "start_time": "2023-03-23T06:08:13.208Z"
   }
  ],
  "kernelspec": {
   "display_name": "Python 3 (ipykernel)",
   "language": "python",
   "name": "python3"
  },
  "language_info": {
   "codemirror_mode": {
    "name": "ipython",
    "version": 3
   },
   "file_extension": ".py",
   "mimetype": "text/x-python",
   "name": "python",
   "nbconvert_exporter": "python",
   "pygments_lexer": "ipython3",
   "version": "3.9.5"
  },
  "toc": {
   "base_numbering": 1,
   "nav_menu": {
    "height": "763px",
    "width": "414px"
   },
   "number_sections": true,
   "sideBar": true,
   "skip_h1_title": true,
   "title_cell": "Table of Contents",
   "title_sidebar": "Contents",
   "toc_cell": false,
   "toc_position": {
    "height": "calc(100% - 180px)",
    "left": "10px",
    "top": "150px",
    "width": "532.068px"
   },
   "toc_section_display": true,
   "toc_window_display": true
  }
 },
 "nbformat": 4,
 "nbformat_minor": 2
}
