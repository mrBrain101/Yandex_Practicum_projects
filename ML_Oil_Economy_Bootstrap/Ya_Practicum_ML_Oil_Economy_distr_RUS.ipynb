{
 "cells": [
  {
   "cell_type": "markdown",
   "metadata": {
    "id": "9cDEydayvXuz"
   },
   "source": [
    "# <div style=\"text-align:center\">Выбор локации для скважины</div>"
   ]
  },
  {
   "cell_type": "markdown",
   "metadata": {
    "id": "XDIOnBwevXu2"
   },
   "source": [
    "## Описание проекта.\n",
    "\n",
    "- **Заказчик:**\n",
    "«ГлавРосГосНефть».<br><br>\n",
    "\n",
    "- **Введение:**<br>\n",
    "Компании «ГлавРосГосНефть» необходимо решить, где бурить новую скважину.\n",
    "  - Шаги для выбора локации:\n",
    "    1. В избранном регионе ищут месторождения, для каждого определяют значения признаков;\n",
    "    2. Строят модель и оценивают объём запасов;\n",
    "    3. Выбирают месторождения с самым высокими оценками значений\n",
    "    4. Прибыль равна суммарной прибыли отобранных месторождений.\n",
    "\n",
    "  - Условия задачи:<br>\n",
    "    - Для обучения модели подходит только линейная регрессия (остальные — недостаточно предсказуемые).\n",
    "    - При разведке региона исследуют 500 точек, из которых с помощью машинного обучения выбирают 200 лучших для разработки.\n",
    "    - Бюджет на разработку скважин в регионе — 10 млрд рублей.\n",
    "    - При нынешних ценах один баррель сырья приносит 450 рублей дохода. Доход с каждой единицы продукта составляет 450 тыс. рублей, поскольку объём указан в тысячах баррелей.\n",
    "    - После оценки рисков нужно оставить лишь те регионы, в которых вероятность убытков меньше 2.5%. Среди них выбирают регион с наибольшей средней прибылью.\n",
    "    \n",
    "    Данные синтетические: детали контрактов и характеристики месторождений не разглашаются.<br><br>\n",
    "\n",
    "- **Описание данных:**<br>\n",
    "  Пробы нефти в трёх регионах: в каждом 10 000 месторождений, где измерили качество нефти и объём её запасов.\n",
    "\n",
    "  - **Источник(и) данных:**<br>\n",
    "Данные геологоразведки трёх регионов:<br>\n",
    "    - [Данные по региону 0](https://code.s3.yandex.net/datasets/geo_data_0.csv),<br>\n",
    "    - [Данные по региону 1](https://code.s3.yandex.net/datasets/geo_data_1.csv),<br>\n",
    "    - [Данные по региону 2](https://code.s3.yandex.net/datasets/geo_data_2.csv).\n",
    "\n",
    "  - **Описание признаков:**<br>\n",
    "    - `id` — уникальный идентификатор скважины;\n",
    "    - `f0`, `f1`, `f2` — три характеристики каждой скважины (неважно, что они означают, но сами признаки значимы);\n",
    "    - `product` — объём запасов в скважине (тыс. баррелей).\n",
    "  <br><br>\n",
    "\n",
    "- **Цели и план работы:**\n",
    "  - **Цели работы:**\n",
    "    - построить модель машинного обучения, которая поможет определить регион, где добыча принесёт наибольшую прибыль;\n",
    "    - проанализировать возможную прибыль и риски техникой *Bootstrap.*\n",
    "\n",
    "  - **План работы:**\n",
    "<div class=\"toc\"><ul class=\"toc-item\"><li><span><a href=\"#Описание-проекта.\" data-toc-modified-id=\"Описание-проекта.-1\"><span class=\"toc-item-num\">1&nbsp;&nbsp;</span>Описание проекта.</a></span><ul class=\"toc-item\"><li><span><a href=\"#Итог-работы.\" data-toc-modified-id=\"Итог-работы.-1.1\"><span class=\"toc-item-num\">1.1&nbsp;&nbsp;</span>Итог работы.</a></span></li></ul></li><li><span><a href=\"#Загрузка-используемых-библиотек.\" data-toc-modified-id=\"Загрузка-используемых-библиотек.-2\"><span class=\"toc-item-num\">2&nbsp;&nbsp;</span>Загрузка используемых библиотек.</a></span></li><li><span><a href=\"#Установка-параметров.\" data-toc-modified-id=\"Установка-параметров.-3\"><span class=\"toc-item-num\">3&nbsp;&nbsp;</span>Установка параметров.</a></span></li><li><span><a href=\"#Загрузка-данных.\" data-toc-modified-id=\"Загрузка-данных.-4\"><span class=\"toc-item-num\">4&nbsp;&nbsp;</span>Загрузка данных.</a></span></li><li><span><a href=\"#Общая-информация-о-данных.\" data-toc-modified-id=\"Общая-информация-о-данных.-5\"><span class=\"toc-item-num\">5&nbsp;&nbsp;</span>Общая информация о данных.</a></span><ul class=\"toc-item\"><li><span><a href=\"#Создание-функций-для-ИАД.\" data-toc-modified-id=\"Создание-функций-для-ИАД.-5.1\"><span class=\"toc-item-num\">5.1&nbsp;&nbsp;</span>Создание функций для ИАД.</a></span></li><li><span><a href=\"#Вывод-общей-информации-о-данных.\" data-toc-modified-id=\"Вывод-общей-информации-о-данных.-5.2\"><span class=\"toc-item-num\">5.2&nbsp;&nbsp;</span>Вывод общей информации о данных.</a></span></li><li><span><a href=\"#Общая-информация-о-данных.-Выводы.\" data-toc-modified-id=\"Общая-информация-о-данных.-Выводы.-5.3\"><span class=\"toc-item-num\">5.3&nbsp;&nbsp;</span>Общая информация о данных. Выводы.</a></span><ul class=\"toc-item\"><li><span><a href=\"#Информация-о-составе-датафреймов.\" data-toc-modified-id=\"Информация-о-составе-датафреймов.-5.3.1\"><span class=\"toc-item-num\">5.3.1&nbsp;&nbsp;</span>Информация о составе датафреймов.</a></span></li><li><span><a href=\"#Признаки.\" data-toc-modified-id=\"Признаки.-5.3.2\"><span class=\"toc-item-num\">5.3.2&nbsp;&nbsp;</span>Признаки.</a></span></li><li><span><a href=\"#Задача-построения-модели.\" data-toc-modified-id=\"Задача-построения-модели.-5.3.3\"><span class=\"toc-item-num\">5.3.3&nbsp;&nbsp;</span>Задача построения модели.</a></span></li><li><span><a href=\"#Пропуски-в-данных.\" data-toc-modified-id=\"Пропуски-в-данных.-5.3.4\"><span class=\"toc-item-num\">5.3.4&nbsp;&nbsp;</span>Пропуски в данных.</a></span></li><li><span><a href=\"#Аномалии-в-данных.\" data-toc-modified-id=\"Аномалии-в-данных.-5.3.5\"><span class=\"toc-item-num\">5.3.5&nbsp;&nbsp;</span>Аномалии в данных.</a></span></li><li><span><a href=\"#Дубликаты-в-данных.\" data-toc-modified-id=\"Дубликаты-в-данных.-5.3.6\"><span class=\"toc-item-num\">5.3.6&nbsp;&nbsp;</span>Дубликаты в данных.</a></span></li><li><span><a href=\"#Распределения-признаков.\" data-toc-modified-id=\"Распределения-признаков.-5.3.7\"><span class=\"toc-item-num\">5.3.7&nbsp;&nbsp;</span>Распределения признаков.</a></span></li><li><span><a href=\"#Корреляция-признаков-/-мультиколлинеарность.\" data-toc-modified-id=\"Корреляция-признаков-/-мультиколлинеарность.-5.3.8\"><span class=\"toc-item-num\">5.3.8&nbsp;&nbsp;</span>Корреляция признаков / мультиколлинеарность.</a></span></li></ul></li></ul></li><li><span><a href=\"#Предобработка-данных.\" data-toc-modified-id=\"Предобработка-данных.-6\"><span class=\"toc-item-num\">6&nbsp;&nbsp;</span>Предобработка данных.</a></span><ul class=\"toc-item\"><li><span><a href=\"#Обработка-дубликатов.\" data-toc-modified-id=\"Обработка-дубликатов.-6.1\"><span class=\"toc-item-num\">6.1&nbsp;&nbsp;</span>Обработка дубликатов.</a></span><ul class=\"toc-item\"><li><span><a href=\"#Удаление-дубликатов.\" data-toc-modified-id=\"Удаление-дубликатов.-6.1.1\"><span class=\"toc-item-num\">6.1.1&nbsp;&nbsp;</span>Удаление дубликатов.</a></span></li></ul></li><li><span><a href=\"#Удаление-неинформативного-признака.\" data-toc-modified-id=\"Удаление-неинформативного-признака.-6.2\"><span class=\"toc-item-num\">6.2&nbsp;&nbsp;</span>Удаление неинформативного признака.</a></span></li><li><span><a href=\"#Предобработка-данных.-Выводы.\" data-toc-modified-id=\"Предобработка-данных.-Выводы.-6.3\"><span class=\"toc-item-num\">6.3&nbsp;&nbsp;</span>Предобработка данных. Выводы.</a></span></li></ul></li><li><span><a href=\"#Обучение-и-проверка-модели.\" data-toc-modified-id=\"Обучение-и-проверка-модели.-7\"><span class=\"toc-item-num\">7&nbsp;&nbsp;</span>Обучение и проверка модели.</a></span><ul class=\"toc-item\"><li><span><a href=\"#Создание-функции.\" data-toc-modified-id=\"Создание-функции.-7.1\"><span class=\"toc-item-num\">7.1&nbsp;&nbsp;</span>Создание функции.</a></span></li><li><span><a href=\"#Обучение-и-проверка-модели.\" data-toc-modified-id=\"Обучение-и-проверка-модели.-7.2\"><span class=\"toc-item-num\">7.2&nbsp;&nbsp;</span>Обучение и проверка модели.</a></span></li><li><span><a href=\"#Обучение-и-проверка-модели.-Выводы.\" data-toc-modified-id=\"Обучение-и-проверка-модели.-Выводы.-7.3\"><span class=\"toc-item-num\">7.3&nbsp;&nbsp;</span>Обучение и проверка модели. Выводы.</a></span></li></ul></li><li><span><a href=\"#Подготовка-к-расчёту-прибыли.\" data-toc-modified-id=\"Подготовка-к-расчёту-прибыли.-8\"><span class=\"toc-item-num\">8&nbsp;&nbsp;</span>Подготовка к расчёту прибыли.</a></span><ul class=\"toc-item\"><li><span><a href=\"#Определение-констант,-указанных-в-ТЗ.\" data-toc-modified-id=\"Определение-констант,-указанных-в-ТЗ.-8.1\"><span class=\"toc-item-num\">8.1&nbsp;&nbsp;</span>Определение констант, указанных в ТЗ.</a></span></li><li><span><a href=\"#Расчёт-достаточного-объёма-сырья.\" data-toc-modified-id=\"Расчёт-достаточного-объёма-сырья.-8.2\"><span class=\"toc-item-num\">8.2&nbsp;&nbsp;</span>Расчёт достаточного объёма сырья.</a></span></li><li><span><a href=\"#Подготовка-к-рассчёту-прибыли.-Выводы.\" data-toc-modified-id=\"Подготовка-к-рассчёту-прибыли.-Выводы.-8.3\"><span class=\"toc-item-num\">8.3&nbsp;&nbsp;</span>Подготовка к рассчёту прибыли. Выводы.</a></span></li></ul></li><li><span><a href=\"#Расчёт-прибыли-и-рисков\" data-toc-modified-id=\"Расчёт-прибыли-и-рисков-9\"><span class=\"toc-item-num\">9&nbsp;&nbsp;</span>Расчёт прибыли и рисков</a></span><ul class=\"toc-item\"><li><span><a href=\"#Функция-расчёта-прибыли.\" data-toc-modified-id=\"Функция-расчёта-прибыли.-9.1\"><span class=\"toc-item-num\">9.1&nbsp;&nbsp;</span>Функция расчёта прибыли.</a></span></li><li><span><a href=\"#Рассчёт-средней-прибыли,-доверительного-интервала-и-риска-убытков.\" data-toc-modified-id=\"Рассчёт-средней-прибыли,-доверительного-интервала-и-риска-убытков.-9.2\"><span class=\"toc-item-num\">9.2&nbsp;&nbsp;</span>Рассчёт средней прибыли, доверительного интервала и риска убытков.</a></span></li><li><span><a href=\"#Расчёт-прибыли-и-рисков.-Выводы:\" data-toc-modified-id=\"Расчёт-прибыли-и-рисков.-Выводы:-9.3\"><span class=\"toc-item-num\">9.3&nbsp;&nbsp;</span>Расчёт прибыли и рисков. Выводы:</a></span></li></ul></li><li><span><a href=\"#Общие-выводы:\" data-toc-modified-id=\"Общие-выводы:-10\"><span class=\"toc-item-num\">10&nbsp;&nbsp;</span>Общие выводы:</a></span><ul class=\"toc-item\"><li><span><a href=\"#Моделирование.\" data-toc-modified-id=\"Моделирование.-10.1\"><span class=\"toc-item-num\">10.1&nbsp;&nbsp;</span>Моделирование.</a></span></li><li><span><a href=\"#Информация-о-составе-датафреймов.\" data-toc-modified-id=\"Информация-о-составе-датафреймов.-10.2\"><span class=\"toc-item-num\">10.2&nbsp;&nbsp;</span>Информация о составе датафреймов.</a></span></li><li><span><a href=\"#Обучение-и-проверка-модели.\" data-toc-modified-id=\"Обучение-и-проверка-модели.-10.3\"><span class=\"toc-item-num\">10.3&nbsp;&nbsp;</span>Обучение и проверка модели.</a></span></li><li><span><a href=\"#Расчёт-прибыли,-95%-го-доверительного-интервала-и-рисков-убытков.\" data-toc-modified-id=\"Расчёт-прибыли,-95%-го-доверительного-интервала-и-рисков-убытков.-10.4\"><span class=\"toc-item-num\">10.4&nbsp;&nbsp;</span>Расчёт прибыли, 95%-го доверительного интервала и рисков убытков.</a></span></li><li><span><a href=\"#Регион,-в-котором-рекомендуется-бурить-новые-скважины:-Регион-1.\" data-toc-modified-id=\"Регион,-в-котором-рекомендуется-бурить-новые-скважины:-Регион-1.-10.5\"><span class=\"toc-item-num\">10.5&nbsp;&nbsp;</span>Регион, в котором рекомендуется бурить новые скважины: <code>Регион 1</code>.</a></span></li></ul></li><li><span><a href=\"#Чек-лист-готовности-проекта\" data-toc-modified-id=\"Чек-лист-готовности-проекта-11\"><span class=\"toc-item-num\">11&nbsp;&nbsp;</span>Чек-лист готовности проекта</a></span></li></ul></div>\n",
    "<br>\n",
    "\n",
    "### Итог работы.\n",
    "Регион, в котором рекомендуется бурить новые скважины: `Регион 1`.\n",
    "- Риск убытков в данном регионе ниже порога убыточности `2.5%`.\n",
    "- Данный регион имеет наибольшую среднюю прибыль.\n",
    "- Параметры данного региона:\n",
    "  - `Регион 1` | `geo_data_1.csv`.\n",
    "  - Средняя прибыль: `~539 млн.руб`.\n",
    "  - `95%` доверительный интервал: `(~135 млн.руб. , ~954 млн.руб.)`.\n",
    "  - Риск убытков: `0.4%`."
   ]
  },
  {
   "cell_type": "markdown",
   "metadata": {
    "id": "uCnYaIv02KLc"
   },
   "source": [
    "## Загрузка используемых библиотек."
   ]
  },
  {
   "cell_type": "code",
   "execution_count": 1,
   "metadata": {
    "colab": {
     "base_uri": "https://localhost:8080/",
     "height": 904
    },
    "executionInfo": {
     "elapsed": 72397,
     "status": "ok",
     "timestamp": 1690480277759,
     "user": {
      "displayName": "S K",
      "userId": "16311672911204145470"
     },
     "user_tz": -180
    },
    "id": "By8jU5HA3_oU",
    "outputId": "44a22538-2733-47b2-df1f-fb0dc35ed9c2"
   },
   "outputs": [
    {
     "name": "stdout",
     "output_type": "stream",
     "text": [
      "Requirement already satisfied: pandas in /usr/local/lib/python3.10/dist-packages (1.5.3)\n",
      "Collecting pandas\n",
      "  Downloading pandas-2.0.3-cp310-cp310-manylinux_2_17_x86_64.manylinux2014_x86_64.whl (12.3 MB)\n",
      "\u001b[2K     \u001b[90m━━━━━━━━━━━━━━━━━━━━━━━━━━━━━━━━━━━━━━━━\u001b[0m \u001b[32m12.3/12.3 MB\u001b[0m \u001b[31m18.7 MB/s\u001b[0m eta \u001b[36m0:00:00\u001b[0m\n",
      "\u001b[?25hRequirement already satisfied: python-dateutil>=2.8.2 in /usr/local/lib/python3.10/dist-packages (from pandas) (2.8.2)\n",
      "Requirement already satisfied: pytz>=2020.1 in /usr/local/lib/python3.10/dist-packages (from pandas) (2022.7.1)\n",
      "Collecting tzdata>=2022.1 (from pandas)\n",
      "  Downloading tzdata-2023.3-py2.py3-none-any.whl (341 kB)\n",
      "\u001b[2K     \u001b[90m━━━━━━━━━━━━━━━━━━━━━━━━━━━━━━━━━━━━━━\u001b[0m \u001b[32m341.8/341.8 kB\u001b[0m \u001b[31m14.0 MB/s\u001b[0m eta \u001b[36m0:00:00\u001b[0m\n",
      "\u001b[?25hRequirement already satisfied: numpy>=1.21.0 in /usr/local/lib/python3.10/dist-packages (from pandas) (1.22.4)\n",
      "Requirement already satisfied: six>=1.5 in /usr/local/lib/python3.10/dist-packages (from python-dateutil>=2.8.2->pandas) (1.16.0)\n",
      "Installing collected packages: tzdata, pandas\n",
      "  Attempting uninstall: pandas\n",
      "    Found existing installation: pandas 1.5.3\n",
      "    Uninstalling pandas-1.5.3:\n",
      "      Successfully uninstalled pandas-1.5.3\n",
      "\u001b[31mERROR: pip's dependency resolver does not currently take into account all the packages that are installed. This behaviour is the source of the following dependency conflicts.\n",
      "google-colab 1.0.0 requires pandas==1.5.3, but you have pandas 2.0.3 which is incompatible.\u001b[0m\u001b[31m\n",
      "\u001b[0mSuccessfully installed pandas-2.0.3 tzdata-2023.3\n",
      "Requirement already satisfied: matplotlib in /usr/local/lib/python3.10/dist-packages (3.7.1)\n",
      "Collecting matplotlib\n",
      "  Downloading matplotlib-3.7.2-cp310-cp310-manylinux_2_17_x86_64.manylinux2014_x86_64.whl (11.6 MB)\n",
      "\u001b[2K     \u001b[90m━━━━━━━━━━━━━━━━━━━━━━━━━━━━━━━━━━━━━━━━\u001b[0m \u001b[32m11.6/11.6 MB\u001b[0m \u001b[31m21.5 MB/s\u001b[0m eta \u001b[36m0:00:00\u001b[0m\n",
      "\u001b[?25hRequirement already satisfied: contourpy>=1.0.1 in /usr/local/lib/python3.10/dist-packages (from matplotlib) (1.1.0)\n",
      "Requirement already satisfied: cycler>=0.10 in /usr/local/lib/python3.10/dist-packages (from matplotlib) (0.11.0)\n",
      "Requirement already satisfied: fonttools>=4.22.0 in /usr/local/lib/python3.10/dist-packages (from matplotlib) (4.41.1)\n",
      "Requirement already satisfied: kiwisolver>=1.0.1 in /usr/local/lib/python3.10/dist-packages (from matplotlib) (1.4.4)\n",
      "Requirement already satisfied: numpy>=1.20 in /usr/local/lib/python3.10/dist-packages (from matplotlib) (1.22.4)\n",
      "Requirement already satisfied: packaging>=20.0 in /usr/local/lib/python3.10/dist-packages (from matplotlib) (23.1)\n",
      "Requirement already satisfied: pillow>=6.2.0 in /usr/local/lib/python3.10/dist-packages (from matplotlib) (9.4.0)\n",
      "Collecting pyparsing<3.1,>=2.3.1 (from matplotlib)\n",
      "  Downloading pyparsing-3.0.9-py3-none-any.whl (98 kB)\n",
      "\u001b[2K     \u001b[90m━━━━━━━━━━━━━━━━━━━━━━━━━━━━━━━━━━━━━━━━\u001b[0m \u001b[32m98.3/98.3 kB\u001b[0m \u001b[31m8.1 MB/s\u001b[0m eta \u001b[36m0:00:00\u001b[0m\n",
      "\u001b[?25hRequirement already satisfied: python-dateutil>=2.7 in /usr/local/lib/python3.10/dist-packages (from matplotlib) (2.8.2)\n",
      "Requirement already satisfied: six>=1.5 in /usr/local/lib/python3.10/dist-packages (from python-dateutil>=2.7->matplotlib) (1.16.0)\n",
      "Installing collected packages: pyparsing, matplotlib\n",
      "  Attempting uninstall: pyparsing\n",
      "    Found existing installation: pyparsing 3.1.0\n",
      "    Uninstalling pyparsing-3.1.0:\n",
      "      Successfully uninstalled pyparsing-3.1.0\n",
      "  Attempting uninstall: matplotlib\n",
      "    Found existing installation: matplotlib 3.7.1\n",
      "    Uninstalling matplotlib-3.7.1:\n",
      "      Successfully uninstalled matplotlib-3.7.1\n",
      "Successfully installed matplotlib-3.7.2 pyparsing-3.0.9\n"
     ]
    },
    {
     "data": {
      "application/vnd.colab-display-data+json": {
       "pip_warning": {
        "packages": [
         "matplotlib",
         "mpl_toolkits"
        ]
       }
      }
     },
     "metadata": {},
     "output_type": "display_data"
    }
   ],
   "source": [
    "### Работа с датафреймами.\n",
    "# pandas для работы с датафреймами.\n",
    "!pip install pandas --upgrade\n",
    "import pandas as pd\n",
    "# Функции проверки типа столбцов.\n",
    "from pandas.api.types import is_numeric_dtype, is_string_dtype\n",
    "\n",
    "### numpy для вычислений.\n",
    "import numpy as np\n",
    "\n",
    "### Визуализация.\n",
    "# matplotlib для визуализации.\n",
    "!pip install matplotlib --upgrade\n",
    "import matplotlib.pyplot as plt\n",
    "# seaborn для построения графиков.\n",
    "import seaborn as sns\n",
    "\n",
    "### Функции для работы с моделями.\n",
    "## Функция масштабирования - StandardScaler.\n",
    "from sklearn.preprocessing import StandardScaler\n",
    "## Функция составления конвеера.\n",
    "from sklearn.pipeline import Pipeline\n",
    "## train_test_split для разделения на выборки.\n",
    "from sklearn.model_selection import train_test_split\n",
    "## Метрики для анализа моделей.\n",
    "from sklearn.metrics import r2_score, mean_squared_error\n",
    "## Модель регрессии.\n",
    "from sklearn.linear_model import LinearRegression\n",
    "\n",
    "### os для обращения к среде разработки и requests для интернет запросов.\n",
    "import os\n",
    "import requests\n",
    "\n",
    "### tqdm для контроля выполнения ячеек.\n",
    "from tqdm.notebook import tqdm\n",
    "from tqdm import trange\n",
    "\n",
    "### HTML для настройки отображения эл-тов.\n",
    "from IPython.core.display import HTML"
   ]
  },
  {
   "cell_type": "markdown",
   "metadata": {
    "id": "LEABSmOi9kvg"
   },
   "source": [
    "## Установка параметров."
   ]
  },
  {
   "cell_type": "code",
   "execution_count": 2,
   "metadata": {
    "colab": {
     "base_uri": "https://localhost:8080/",
     "height": 17
    },
    "executionInfo": {
     "elapsed": 9,
     "status": "ok",
     "timestamp": 1690480277759,
     "user": {
      "displayName": "S K",
      "userId": "16311672911204145470"
     },
     "user_tz": -180
    },
    "id": "QY4yi_NB9oJl",
    "outputId": "f27aace5-a891-412c-8b54-2188e19e10bf"
   },
   "outputs": [
    {
     "data": {
      "text/html": [
       "\n",
       "<style>\n",
       ".output_png {\n",
       "    display: table-cell;\n",
       "    text-align: center;\n",
       "    vertical-align: middle;\n",
       "}\n",
       "</style>\n"
      ],
      "text/plain": [
       "<IPython.core.display.HTML object>"
      ]
     },
     "execution_count": 2,
     "metadata": {},
     "output_type": "execute_result"
    }
   ],
   "source": [
    "# Установим стиль отображения заголовков таблиц.\n",
    "styles = [\n",
    "    dict(selector='caption',\n",
    "         props=[('text-align', 'center'),\n",
    "                ('font-size', '130%'),\n",
    "                ('font-weight', 'bold'),\n",
    "                ('white-space', 'pre-wrap')]),\n",
    "    dict(selector=\"th\",\n",
    "         props=[('max-width', '200px')])\n",
    "    ]\n",
    "\n",
    "# Установим отображение всех столбцов при выводе датафрейма.\n",
    "pd.set_option('display.max_columns', None)\n",
    "\n",
    "# Зафиксируем начальное значение генератора псевдослучайных чисел.\n",
    "seed = 42\n",
    "\n",
    "# Установим отображение графиков по центру ячейки\n",
    "HTML(\"\"\"\n",
    "<style>\n",
    ".output_png {\n",
    "    display: table-cell;\n",
    "    text-align: center;\n",
    "    vertical-align: middle;\n",
    "}\n",
    "</style>\n",
    "\"\"\")"
   ]
  },
  {
   "cell_type": "markdown",
   "metadata": {
    "id": "FUTc9FVavXu3"
   },
   "source": [
    "## Загрузка данных."
   ]
  },
  {
   "cell_type": "markdown",
   "metadata": {
    "id": "zojMg4_kxsAJ"
   },
   "source": [
    "- Функция загрузки и записи в переменные любого количества датасетов в формате `.csv` с проверкой адреса/пути."
   ]
  },
  {
   "cell_type": "code",
   "execution_count": 3,
   "metadata": {
    "executionInfo": {
     "elapsed": 9,
     "status": "ok",
     "timestamp": 1690480277760,
     "user": {
      "displayName": "S K",
      "userId": "16311672911204145470"
     },
     "user_tz": -180
    },
    "id": "G59zekSN3yBA"
   },
   "outputs": [],
   "source": [
    "# Функция загрузки и записи в переменные любого количества датасетов\n",
    "# по ссылкам или пути с проверкой адреса/пути.\n",
    "def fetch_datasets(pths, separator=','):\n",
    "    '''Arguments:\n",
    "    - pths: str, list. Full string path in quotes or list of links or\n",
    "    list of file paths as list of strings.\n",
    "    - separator: str, default=','. Separator as a string.\n",
    "    - Example: ('/datasets/file.csv' or ['https://datasets/file.csv'], 't').\n",
    "    '''\n",
    "\n",
    "    # Переведём путь в список при необходимости.\n",
    "    pths = [pths] if isinstance(pths, str) else pths\n",
    "\n",
    "    print(\"\\n\\033[1m\",\n",
    "          'Начало загрузки и записи датасетов в переменные:',\n",
    "          \"\\033[0m\")\n",
    "\n",
    "    for pth in tqdm(pths):\n",
    "        # Запишем название и расширение файла.\n",
    "        full_name = os.path.basename(pth)\n",
    "        name, extension = os.path.splitext(full_name)\n",
    "\n",
    "        # Проверим ссылку и запишем датасет в переменную.\n",
    "        if 'http' in pth:\n",
    "            # Воспользуемся try/except для непредвиденных ошибок.\n",
    "            try:\n",
    "                # Проверим корректность ссылки.\n",
    "                if requests.get(pth).status_code == 200:\n",
    "                    # Создадим переменную и запишем в неё датафрейм.\n",
    "                    globals()[name.lower()] = pd.read_csv(pth, sep=separator)\n",
    "                    print(f'Файл {full_name} прочитан и записан в переменную ',\n",
    "                          f'\"{name.lower()}\". \\nПуть к файлу: \\n{pth}')\n",
    "                    print('~' * 60)\n",
    "                else:\n",
    "                    print(f'Ошибка чтения файла по пути: {pth}')\n",
    "                    print('~' * 60)\n",
    "            except:\n",
    "                print(f'Ошибка чтения файла по пути: {pth}')\n",
    "\n",
    "        # Проверим путь и запишем датасет в переменную.\n",
    "        elif os.path.exists(pth):\n",
    "            # Создадим переменную и запишем в неё датафрейм.\n",
    "            globals()[name.lower()] = pd.read_csv(pth, sep=separator)\n",
    "            print(f'Файл {full_name} прочитан и записан в переменную ',\n",
    "                  f'\"{name.lower()}\". \\nПуть к файлу: \\n{pth}')\n",
    "            print('~' * 60)\n",
    "\n",
    "        else:\n",
    "            print(f'Ошибка чтения файла по пути: {pth}.')\n",
    "            print('~' * 60)"
   ]
  },
  {
   "cell_type": "markdown",
   "metadata": {
    "id": "v4Xq-XG6x4Bc"
   },
   "source": [
    "- Вызовем функцию и загрузим данные."
   ]
  },
  {
   "cell_type": "code",
   "execution_count": 4,
   "metadata": {
    "colab": {
     "base_uri": "https://localhost:8080/",
     "height": 292,
     "referenced_widgets": [
      "677b4813aadb464e920fbc5838340b4c",
      "5b7c4a004f974620a3156c3c02e7f84f",
      "e9222103417c451b9b43ddd177c78407",
      "55931096d1d3499fb5b3da6d41692f66",
      "6b82ea4e4e994e6a8ba2c6d9998a8a99",
      "16be6648677b4fb0a0caa0afcf530d60",
      "c2210adea97c4019be8b03a0c4c7f954",
      "8a25f01ac321465391ec899f9acbdd1f",
      "4736b05c0c014fa48115412b664443bc",
      "e8c428bb6bde4ef8b1953c69884af94f",
      "59c7b61fb2184d10870476a212b896e2"
     ]
    },
    "executionInfo": {
     "elapsed": 12945,
     "status": "ok",
     "timestamp": 1690480290697,
     "user": {
      "displayName": "S K",
      "userId": "16311672911204145470"
     },
     "user_tz": -180
    },
    "id": "FBQDb4-i334K",
    "outputId": "9fe5edaf-d9fb-4dd1-b4f8-b5cac66b5cdc"
   },
   "outputs": [
    {
     "name": "stdout",
     "output_type": "stream",
     "text": [
      "\n",
      "\u001b[1m Начало загрузки и записи датасетов в переменные: \u001b[0m\n"
     ]
    },
    {
     "data": {
      "application/vnd.jupyter.widget-view+json": {
       "model_id": "677b4813aadb464e920fbc5838340b4c",
       "version_major": 2,
       "version_minor": 0
      },
      "text/plain": [
       "  0%|          | 0/3 [00:00<?, ?it/s]"
      ]
     },
     "metadata": {},
     "output_type": "display_data"
    },
    {
     "name": "stdout",
     "output_type": "stream",
     "text": [
      "Файл geo_data_0.csv прочитан и записан в переменную  \"geo_data_0\". \n",
      "Путь к файлу: \n",
      "https://code.s3.yandex.net/datasets/geo_data_0.csv\n",
      "~~~~~~~~~~~~~~~~~~~~~~~~~~~~~~~~~~~~~~~~~~~~~~~~~~~~~~~~~~~~\n",
      "Файл geo_data_1.csv прочитан и записан в переменную  \"geo_data_1\". \n",
      "Путь к файлу: \n",
      "https://code.s3.yandex.net/datasets/geo_data_1.csv\n",
      "~~~~~~~~~~~~~~~~~~~~~~~~~~~~~~~~~~~~~~~~~~~~~~~~~~~~~~~~~~~~\n",
      "Файл geo_data_2.csv прочитан и записан в переменную  \"geo_data_2\". \n",
      "Путь к файлу: \n",
      "https://code.s3.yandex.net/datasets/geo_data_2.csv\n",
      "~~~~~~~~~~~~~~~~~~~~~~~~~~~~~~~~~~~~~~~~~~~~~~~~~~~~~~~~~~~~\n"
     ]
    }
   ],
   "source": [
    "fetch_datasets(['https://code.s3.yandex.net/datasets/geo_data_0.csv',\n",
    "                'https://code.s3.yandex.net/datasets/geo_data_1.csv',\n",
    "                'https://code.s3.yandex.net/datasets/geo_data_2.csv'])"
   ]
  },
  {
   "cell_type": "markdown",
   "metadata": {
    "id": "X_pLTZvXswrB"
   },
   "source": [
    "- Объявим переменные для систем проверки кода, не распознающих динамическое объявление."
   ]
  },
  {
   "cell_type": "code",
   "execution_count": 5,
   "metadata": {
    "executionInfo": {
     "elapsed": 4,
     "status": "ok",
     "timestamp": 1690480290697,
     "user": {
      "displayName": "S K",
      "userId": "16311672911204145470"
     },
     "user_tz": -180
    },
    "id": "kwQPNKFA8hNK"
   },
   "outputs": [],
   "source": [
    "# Объявим переменные для систем проверки кода, не распознающих\n",
    "# динамическое объявление.\n",
    "geo_data_0 = geo_data_0\n",
    "geo_data_1 = geo_data_1\n",
    "geo_data_2 = geo_data_2"
   ]
  },
  {
   "cell_type": "markdown",
   "metadata": {
    "id": "93V2k5h_uiU-"
   },
   "source": [
    "## Общая информация о данных."
   ]
  },
  {
   "cell_type": "markdown",
   "metadata": {
    "id": "w7tEDlbYrORF"
   },
   "source": [
    "### Создание функций для ИАД."
   ]
  },
  {
   "cell_type": "markdown",
   "metadata": {
    "id": "S-wExDtxit8V"
   },
   "source": [
    "- Введём функцию рассчёта и вывода процентов выбросов для отобранных признаков. <br>\n",
    "Выбросы определим как значения вне 1.5 интерквартильных размаха."
   ]
  },
  {
   "cell_type": "code",
   "execution_count": 6,
   "metadata": {
    "executionInfo": {
     "elapsed": 4,
     "status": "ok",
     "timestamp": 1690480290698,
     "user": {
      "displayName": "S K",
      "userId": "16311672911204145470"
     },
     "user_tz": -180
    },
    "id": "FlJGW0LehrNg"
   },
   "outputs": [],
   "source": [
    "### Введём функцию рассчёта и вывода процентов выбросов для\n",
    "# отобранных признаков.\n",
    "def get_outliers_ratio(data, col):\n",
    "    distr = data[col].describe()\n",
    "    distr_iqr = distr[6] - distr[4]\n",
    "    whisker_upp = distr[6] + 1.5 * distr_iqr\n",
    "    whisker_low = distr[4] - 1.5 * distr_iqr\n",
    "    if whisker_upp >= distr[7]:\n",
    "        whisker_upp = distr[7]\n",
    "    if whisker_low <= distr[3]:\n",
    "        whisker_low = distr[3]\n",
    "    else:\n",
    "        pass\n",
    "    outliers_ratio = (\n",
    "        (data.loc[data[col] >\n",
    "                whisker_upp, col].count() +\n",
    "        data.loc[data[col] <\n",
    "                whisker_low, col].count()) /\n",
    "        len(data[col])\n",
    "    )\n",
    "    return outliers_ratio"
   ]
  },
  {
   "cell_type": "markdown",
   "metadata": {
    "id": "NI9SGZ8Aup2N"
   },
   "source": [
    "- Введём функцию вывода общей информации о данных."
   ]
  },
  {
   "cell_type": "code",
   "execution_count": 7,
   "metadata": {
    "executionInfo": {
     "elapsed": 4,
     "status": "ok",
     "timestamp": 1690480290698,
     "user": {
      "displayName": "S K",
      "userId": "16311672911204145470"
     },
     "user_tz": -180
    },
    "id": "TNsodTYJ5UFV"
   },
   "outputs": [],
   "source": [
    "### Введём функцию вывода информации о датафрейме.\n",
    "def get_eda_data(data, data_name='Датафрейм'):\n",
    "\n",
    "    # Отделим численные признаки.\n",
    "    cols_to_analyze = [col for col in data if is_numeric_dtype(data[col])]\n",
    "\n",
    "    # Выведем первые строки датафрейма.\n",
    "    display(\n",
    "        data.head(20)\n",
    "        .style\n",
    "        .set_caption(f'{data_name}.' +\n",
    "                     '\\nПервые 20 строк.')\n",
    "        .set_table_styles(styles)\n",
    "        )\n",
    "\n",
    "    print('\\n')\n",
    "\n",
    "    # Вычислим кол-во нулевых значений в датафрйеме.\n",
    "    zeros = []\n",
    "    for col in data:\n",
    "        zeros.append(len([el for el in data[col] if el == 0]))\n",
    "\n",
    "    zeros = pd.Series(zeros, index=list(data.columns))\n",
    "\n",
    "    # Выведем информацию о дубликатах, уникальных значениях\n",
    "    # и пропусках в датафрейме.\n",
    "    display(\n",
    "        pd.DataFrame(\n",
    "            data=[\n",
    "                data.isna().sum(),\n",
    "                round(data.isna().sum() / len(data), 4).map('{:.2%}'.format),\n",
    "                len(data) - data.nunique(),\n",
    "                (\n",
    "                    round((len(data) - data.nunique()) / len(data), 4)\n",
    "                    .map('{:.2%}'.format)\n",
    "                ),\n",
    "                data.nunique(),\n",
    "                zeros\n",
    "                 ],\n",
    "            index=['Кол-во пропусков:', 'Процент пропусков:',\n",
    "                   'Кол-во дубликатов:', 'Процент дубликатов:',\n",
    "                   'Кол-во уникальных значений:', 'Кол-во нулевых значений:']\n",
    "                   )\n",
    "        .style\n",
    "        .set_caption('Пропуски, уникальные значения и дубликаты в датафрейме.' +\n",
    "                    '\\n Количество явных дубликатов:  ' +\n",
    "                    f'{data.duplicated().sum()}. \\n')\n",
    "        .set_table_styles(styles)\n",
    "        )\n",
    "\n",
    "    # Выведем информацию о составе датафрейма.\n",
    "    print('\\033[1m \\n Информация о составе датафрейма. \\033[0m')\n",
    "    display(data.info())\n",
    "\n",
    "\n",
    "    print('\\n')\n",
    "\n",
    "    # Выведем распределение признаков.\n",
    "    display(\n",
    "        data.describe([.05,.1,.25,.50,.75,.90,0.95])\n",
    "        .style\n",
    "        .format(precision=2)\n",
    "        .set_caption(f'Распределение численных признаков.')\n",
    "        .set_table_styles(styles)\n",
    "        )\n",
    "\n",
    "    print('\\n')\n",
    "\n",
    "    # Проверка наличия признаков 'bool' или 'object'\n",
    "    col_types = [str(data[col].dtype) for col in data]\n",
    "    if any(t in col_types for t in ['object', 'bool']):\n",
    "        display(\n",
    "            data.describe(include=['object', 'bool'])\n",
    "            .style\n",
    "            .set_caption(f'Информация о строковых признаках.')\n",
    "            .set_table_styles(styles)\n",
    "            )\n",
    "\n",
    "        print('\\n')\n",
    "\n",
    "    ## Выведем значения матрицы корреляции.\n",
    "    display(data[cols_to_analyze]\n",
    "            .corr()\n",
    "            .style\n",
    "            .background_gradient(cmap='YlOrRd')\n",
    "            .format(precision=2)\n",
    "            .set_caption('Матрица корреляции.\\n(Коэффициенты Пирсона.)')\n",
    "            .set_table_styles(styles)\n",
    "        )\n",
    "\n",
    "    print('\\n')"
   ]
  },
  {
   "cell_type": "markdown",
   "metadata": {
    "id": "OSH5f9J7gbG0"
   },
   "source": [
    "- Введём функцию вывода графиков."
   ]
  },
  {
   "cell_type": "code",
   "execution_count": 8,
   "metadata": {
    "executionInfo": {
     "elapsed": 4,
     "status": "ok",
     "timestamp": 1690480290698,
     "user": {
      "displayName": "S K",
      "userId": "16311672911204145470"
     },
     "user_tz": -180
    },
    "id": "Zv-rygyS_jTp"
   },
   "outputs": [],
   "source": [
    "### Введём функцию вывода графиков.\n",
    "def get_eda_info(data):\n",
    "    # Выделим численные признаки.\n",
    "    cols_to_analyze = [col for col in data if is_numeric_dtype(data[col])]\n",
    "\n",
    "    # Проверим наличие перевода названий и добавим известные\n",
    "    # при необходимости.\n",
    "    try:\n",
    "        names_rus\n",
    "    except:\n",
    "        globals()['names_rus'] = {el : el for el in list(data.columns)}\n",
    "        names_rus.update({'product' : 'Кол-во баррелей в тыс.'})\n",
    "\n",
    "    ## Выведем гистограммы и диаграммы размаха.\n",
    "    for col in cols_to_analyze:\n",
    "        data.rename(columns={col : names_rus[col]}, inplace=True)\n",
    "        fig, axes = plt.subplots(1,2, figsize=(15, 5))\n",
    "        fig.suptitle(f'Признак \"{col}\".' +\n",
    "                     '\\nОбщий процент аномальных значений' +\n",
    "                     f' ≈ {get_outliers_ratio(data, names_rus[col]):.2%}')\n",
    "        sns.histplot(data=data, x=names_rus[col], ax=axes[0])\n",
    "        axes[0].set_xlabel(names_rus[col])\n",
    "        axes[0].set_ylabel('Количество')\n",
    "        sns.boxplot(data=data, y=names_rus[col], ax=axes[1])\n",
    "        axes[1].set_ylabel(names_rus[col])\n",
    "        plt.show();\n",
    "        data.rename(columns={names_rus[col] : col}, inplace=True)"
   ]
  },
  {
   "cell_type": "markdown",
   "metadata": {
    "id": "AjtTqHFlu_3P"
   },
   "source": [
    "### Вывод общей информации о данных.\n",
    "Вызовем функции и выведем информацию и графики."
   ]
  },
  {
   "cell_type": "code",
   "execution_count": 9,
   "metadata": {
    "colab": {
     "base_uri": "https://localhost:8080/",
     "height": 1000
    },
    "executionInfo": {
     "elapsed": 20852,
     "status": "ok",
     "timestamp": 1690480311547,
     "user": {
      "displayName": "S K",
      "userId": "16311672911204145470"
     },
     "user_tz": -180
    },
    "id": "qMX8ZC866eiz",
    "outputId": "87b7cf3c-2111-4b61-95e1-cd6a221ffee6"
   },
   "outputs": [
    {
     "data": {
      "text/html": [
       "<style type=\"text/css\">\n",
       "#T_4ffa5 caption {\n",
       "  text-align: center;\n",
       "  font-size: 130%;\n",
       "  font-weight: bold;\n",
       "  white-space: pre-wrap;\n",
       "}\n",
       "#T_4ffa5 th {\n",
       "  max-width: 200px;\n",
       "}\n",
       "</style>\n",
       "<table id=\"T_4ffa5\" class=\"dataframe\">\n",
       "  <caption>Регион 0.\n",
       "Первые 20 строк.</caption>\n",
       "  <thead>\n",
       "    <tr>\n",
       "      <th class=\"blank level0\" >&nbsp;</th>\n",
       "      <th id=\"T_4ffa5_level0_col0\" class=\"col_heading level0 col0\" >id</th>\n",
       "      <th id=\"T_4ffa5_level0_col1\" class=\"col_heading level0 col1\" >f0</th>\n",
       "      <th id=\"T_4ffa5_level0_col2\" class=\"col_heading level0 col2\" >f1</th>\n",
       "      <th id=\"T_4ffa5_level0_col3\" class=\"col_heading level0 col3\" >f2</th>\n",
       "      <th id=\"T_4ffa5_level0_col4\" class=\"col_heading level0 col4\" >product</th>\n",
       "    </tr>\n",
       "  </thead>\n",
       "  <tbody>\n",
       "    <tr>\n",
       "      <th id=\"T_4ffa5_level0_row0\" class=\"row_heading level0 row0\" >0</th>\n",
       "      <td id=\"T_4ffa5_row0_col0\" class=\"data row0 col0\" >txEyH</td>\n",
       "      <td id=\"T_4ffa5_row0_col1\" class=\"data row0 col1\" >0.705745</td>\n",
       "      <td id=\"T_4ffa5_row0_col2\" class=\"data row0 col2\" >-0.497823</td>\n",
       "      <td id=\"T_4ffa5_row0_col3\" class=\"data row0 col3\" >1.221170</td>\n",
       "      <td id=\"T_4ffa5_row0_col4\" class=\"data row0 col4\" >105.280062</td>\n",
       "    </tr>\n",
       "    <tr>\n",
       "      <th id=\"T_4ffa5_level0_row1\" class=\"row_heading level0 row1\" >1</th>\n",
       "      <td id=\"T_4ffa5_row1_col0\" class=\"data row1 col0\" >2acmU</td>\n",
       "      <td id=\"T_4ffa5_row1_col1\" class=\"data row1 col1\" >1.334711</td>\n",
       "      <td id=\"T_4ffa5_row1_col2\" class=\"data row1 col2\" >-0.340164</td>\n",
       "      <td id=\"T_4ffa5_row1_col3\" class=\"data row1 col3\" >4.365080</td>\n",
       "      <td id=\"T_4ffa5_row1_col4\" class=\"data row1 col4\" >73.037750</td>\n",
       "    </tr>\n",
       "    <tr>\n",
       "      <th id=\"T_4ffa5_level0_row2\" class=\"row_heading level0 row2\" >2</th>\n",
       "      <td id=\"T_4ffa5_row2_col0\" class=\"data row2 col0\" >409Wp</td>\n",
       "      <td id=\"T_4ffa5_row2_col1\" class=\"data row2 col1\" >1.022732</td>\n",
       "      <td id=\"T_4ffa5_row2_col2\" class=\"data row2 col2\" >0.151990</td>\n",
       "      <td id=\"T_4ffa5_row2_col3\" class=\"data row2 col3\" >1.419926</td>\n",
       "      <td id=\"T_4ffa5_row2_col4\" class=\"data row2 col4\" >85.265647</td>\n",
       "    </tr>\n",
       "    <tr>\n",
       "      <th id=\"T_4ffa5_level0_row3\" class=\"row_heading level0 row3\" >3</th>\n",
       "      <td id=\"T_4ffa5_row3_col0\" class=\"data row3 col0\" >iJLyR</td>\n",
       "      <td id=\"T_4ffa5_row3_col1\" class=\"data row3 col1\" >-0.032172</td>\n",
       "      <td id=\"T_4ffa5_row3_col2\" class=\"data row3 col2\" >0.139033</td>\n",
       "      <td id=\"T_4ffa5_row3_col3\" class=\"data row3 col3\" >2.978566</td>\n",
       "      <td id=\"T_4ffa5_row3_col4\" class=\"data row3 col4\" >168.620776</td>\n",
       "    </tr>\n",
       "    <tr>\n",
       "      <th id=\"T_4ffa5_level0_row4\" class=\"row_heading level0 row4\" >4</th>\n",
       "      <td id=\"T_4ffa5_row4_col0\" class=\"data row4 col0\" >Xdl7t</td>\n",
       "      <td id=\"T_4ffa5_row4_col1\" class=\"data row4 col1\" >1.988431</td>\n",
       "      <td id=\"T_4ffa5_row4_col2\" class=\"data row4 col2\" >0.155413</td>\n",
       "      <td id=\"T_4ffa5_row4_col3\" class=\"data row4 col3\" >4.751769</td>\n",
       "      <td id=\"T_4ffa5_row4_col4\" class=\"data row4 col4\" >154.036647</td>\n",
       "    </tr>\n",
       "    <tr>\n",
       "      <th id=\"T_4ffa5_level0_row5\" class=\"row_heading level0 row5\" >5</th>\n",
       "      <td id=\"T_4ffa5_row5_col0\" class=\"data row5 col0\" >wX4Hy</td>\n",
       "      <td id=\"T_4ffa5_row5_col1\" class=\"data row5 col1\" >0.969570</td>\n",
       "      <td id=\"T_4ffa5_row5_col2\" class=\"data row5 col2\" >0.489775</td>\n",
       "      <td id=\"T_4ffa5_row5_col3\" class=\"data row5 col3\" >-0.735383</td>\n",
       "      <td id=\"T_4ffa5_row5_col4\" class=\"data row5 col4\" >64.741541</td>\n",
       "    </tr>\n",
       "    <tr>\n",
       "      <th id=\"T_4ffa5_level0_row6\" class=\"row_heading level0 row6\" >6</th>\n",
       "      <td id=\"T_4ffa5_row6_col0\" class=\"data row6 col0\" >tL6pL</td>\n",
       "      <td id=\"T_4ffa5_row6_col1\" class=\"data row6 col1\" >0.645075</td>\n",
       "      <td id=\"T_4ffa5_row6_col2\" class=\"data row6 col2\" >0.530656</td>\n",
       "      <td id=\"T_4ffa5_row6_col3\" class=\"data row6 col3\" >1.780266</td>\n",
       "      <td id=\"T_4ffa5_row6_col4\" class=\"data row6 col4\" >49.055285</td>\n",
       "    </tr>\n",
       "    <tr>\n",
       "      <th id=\"T_4ffa5_level0_row7\" class=\"row_heading level0 row7\" >7</th>\n",
       "      <td id=\"T_4ffa5_row7_col0\" class=\"data row7 col0\" >BYPU6</td>\n",
       "      <td id=\"T_4ffa5_row7_col1\" class=\"data row7 col1\" >-0.400648</td>\n",
       "      <td id=\"T_4ffa5_row7_col2\" class=\"data row7 col2\" >0.808337</td>\n",
       "      <td id=\"T_4ffa5_row7_col3\" class=\"data row7 col3\" >-5.624670</td>\n",
       "      <td id=\"T_4ffa5_row7_col4\" class=\"data row7 col4\" >72.943292</td>\n",
       "    </tr>\n",
       "    <tr>\n",
       "      <th id=\"T_4ffa5_level0_row8\" class=\"row_heading level0 row8\" >8</th>\n",
       "      <td id=\"T_4ffa5_row8_col0\" class=\"data row8 col0\" >j9Oui</td>\n",
       "      <td id=\"T_4ffa5_row8_col1\" class=\"data row8 col1\" >0.643105</td>\n",
       "      <td id=\"T_4ffa5_row8_col2\" class=\"data row8 col2\" >-0.551583</td>\n",
       "      <td id=\"T_4ffa5_row8_col3\" class=\"data row8 col3\" >2.372141</td>\n",
       "      <td id=\"T_4ffa5_row8_col4\" class=\"data row8 col4\" >113.356160</td>\n",
       "    </tr>\n",
       "    <tr>\n",
       "      <th id=\"T_4ffa5_level0_row9\" class=\"row_heading level0 row9\" >9</th>\n",
       "      <td id=\"T_4ffa5_row9_col0\" class=\"data row9 col0\" >OLuZU</td>\n",
       "      <td id=\"T_4ffa5_row9_col1\" class=\"data row9 col1\" >2.173381</td>\n",
       "      <td id=\"T_4ffa5_row9_col2\" class=\"data row9 col2\" >0.563698</td>\n",
       "      <td id=\"T_4ffa5_row9_col3\" class=\"data row9 col3\" >9.441852</td>\n",
       "      <td id=\"T_4ffa5_row9_col4\" class=\"data row9 col4\" >127.910945</td>\n",
       "    </tr>\n",
       "    <tr>\n",
       "      <th id=\"T_4ffa5_level0_row10\" class=\"row_heading level0 row10\" >10</th>\n",
       "      <td id=\"T_4ffa5_row10_col0\" class=\"data row10 col0\" >b8WQ6</td>\n",
       "      <td id=\"T_4ffa5_row10_col1\" class=\"data row10 col1\" >0.371066</td>\n",
       "      <td id=\"T_4ffa5_row10_col2\" class=\"data row10 col2\" >-0.036585</td>\n",
       "      <td id=\"T_4ffa5_row10_col3\" class=\"data row10 col3\" >0.009208</td>\n",
       "      <td id=\"T_4ffa5_row10_col4\" class=\"data row10 col4\" >70.326617</td>\n",
       "    </tr>\n",
       "    <tr>\n",
       "      <th id=\"T_4ffa5_level0_row11\" class=\"row_heading level0 row11\" >11</th>\n",
       "      <td id=\"T_4ffa5_row11_col0\" class=\"data row11 col0\" >1YYm1</td>\n",
       "      <td id=\"T_4ffa5_row11_col1\" class=\"data row11 col1\" >0.015920</td>\n",
       "      <td id=\"T_4ffa5_row11_col2\" class=\"data row11 col2\" >1.062729</td>\n",
       "      <td id=\"T_4ffa5_row11_col3\" class=\"data row11 col3\" >-0.722248</td>\n",
       "      <td id=\"T_4ffa5_row11_col4\" class=\"data row11 col4\" >45.110381</td>\n",
       "    </tr>\n",
       "    <tr>\n",
       "      <th id=\"T_4ffa5_level0_row12\" class=\"row_heading level0 row12\" >12</th>\n",
       "      <td id=\"T_4ffa5_row12_col0\" class=\"data row12 col0\" >zIYPq</td>\n",
       "      <td id=\"T_4ffa5_row12_col1\" class=\"data row12 col1\" >-0.276476</td>\n",
       "      <td id=\"T_4ffa5_row12_col2\" class=\"data row12 col2\" >0.924865</td>\n",
       "      <td id=\"T_4ffa5_row12_col3\" class=\"data row12 col3\" >0.095584</td>\n",
       "      <td id=\"T_4ffa5_row12_col4\" class=\"data row12 col4\" >89.158678</td>\n",
       "    </tr>\n",
       "    <tr>\n",
       "      <th id=\"T_4ffa5_level0_row13\" class=\"row_heading level0 row13\" >13</th>\n",
       "      <td id=\"T_4ffa5_row13_col0\" class=\"data row13 col0\" >iqTqq</td>\n",
       "      <td id=\"T_4ffa5_row13_col1\" class=\"data row13 col1\" >0.212696</td>\n",
       "      <td id=\"T_4ffa5_row13_col2\" class=\"data row13 col2\" >-0.111147</td>\n",
       "      <td id=\"T_4ffa5_row13_col3\" class=\"data row13 col3\" >5.770095</td>\n",
       "      <td id=\"T_4ffa5_row13_col4\" class=\"data row13 col4\" >164.298520</td>\n",
       "    </tr>\n",
       "    <tr>\n",
       "      <th id=\"T_4ffa5_level0_row14\" class=\"row_heading level0 row14\" >14</th>\n",
       "      <td id=\"T_4ffa5_row14_col0\" class=\"data row14 col0\" >Ct5yY</td>\n",
       "      <td id=\"T_4ffa5_row14_col1\" class=\"data row14 col1\" >-0.018578</td>\n",
       "      <td id=\"T_4ffa5_row14_col2\" class=\"data row14 col2\" >0.187516</td>\n",
       "      <td id=\"T_4ffa5_row14_col3\" class=\"data row14 col3\" >2.944683</td>\n",
       "      <td id=\"T_4ffa5_row14_col4\" class=\"data row14 col4\" >158.633720</td>\n",
       "    </tr>\n",
       "    <tr>\n",
       "      <th id=\"T_4ffa5_level0_row15\" class=\"row_heading level0 row15\" >15</th>\n",
       "      <td id=\"T_4ffa5_row15_col0\" class=\"data row15 col0\" >Q77WQ</td>\n",
       "      <td id=\"T_4ffa5_row15_col1\" class=\"data row15 col1\" >1.324566</td>\n",
       "      <td id=\"T_4ffa5_row15_col2\" class=\"data row15 col2\" >-0.419149</td>\n",
       "      <td id=\"T_4ffa5_row15_col3\" class=\"data row15 col3\" >-4.097429</td>\n",
       "      <td id=\"T_4ffa5_row15_col4\" class=\"data row15 col4\" >60.677876</td>\n",
       "    </tr>\n",
       "    <tr>\n",
       "      <th id=\"T_4ffa5_level0_row16\" class=\"row_heading level0 row16\" >16</th>\n",
       "      <td id=\"T_4ffa5_row16_col0\" class=\"data row16 col0\" >6vJcD</td>\n",
       "      <td id=\"T_4ffa5_row16_col1\" class=\"data row16 col1\" >-0.000247</td>\n",
       "      <td id=\"T_4ffa5_row16_col2\" class=\"data row16 col2\" >0.360146</td>\n",
       "      <td id=\"T_4ffa5_row16_col3\" class=\"data row16 col3\" >0.794115</td>\n",
       "      <td id=\"T_4ffa5_row16_col4\" class=\"data row16 col4\" >163.143987</td>\n",
       "    </tr>\n",
       "    <tr>\n",
       "      <th id=\"T_4ffa5_level0_row17\" class=\"row_heading level0 row17\" >17</th>\n",
       "      <td id=\"T_4ffa5_row17_col0\" class=\"data row17 col0\" >AgRR6</td>\n",
       "      <td id=\"T_4ffa5_row17_col1\" class=\"data row17 col1\" >0.380913</td>\n",
       "      <td id=\"T_4ffa5_row17_col2\" class=\"data row17 col2\" >1.114558</td>\n",
       "      <td id=\"T_4ffa5_row17_col3\" class=\"data row17 col3\" >0.992377</td>\n",
       "      <td id=\"T_4ffa5_row17_col4\" class=\"data row17 col4\" >125.942543</td>\n",
       "    </tr>\n",
       "    <tr>\n",
       "      <th id=\"T_4ffa5_level0_row18\" class=\"row_heading level0 row18\" >18</th>\n",
       "      <td id=\"T_4ffa5_row18_col0\" class=\"data row18 col0\" >tgSSC</td>\n",
       "      <td id=\"T_4ffa5_row18_col1\" class=\"data row18 col1\" >0.160021</td>\n",
       "      <td id=\"T_4ffa5_row18_col2\" class=\"data row18 col2\" >0.788151</td>\n",
       "      <td id=\"T_4ffa5_row18_col3\" class=\"data row18 col3\" >7.629164</td>\n",
       "      <td id=\"T_4ffa5_row18_col4\" class=\"data row18 col4\" >113.793566</td>\n",
       "    </tr>\n",
       "    <tr>\n",
       "      <th id=\"T_4ffa5_level0_row19\" class=\"row_heading level0 row19\" >19</th>\n",
       "      <td id=\"T_4ffa5_row19_col0\" class=\"data row19 col0\" >s2g8E</td>\n",
       "      <td id=\"T_4ffa5_row19_col1\" class=\"data row19 col1\" >0.593078</td>\n",
       "      <td id=\"T_4ffa5_row19_col2\" class=\"data row19 col2\" >-0.414964</td>\n",
       "      <td id=\"T_4ffa5_row19_col3\" class=\"data row19 col3\" >-0.715774</td>\n",
       "      <td id=\"T_4ffa5_row19_col4\" class=\"data row19 col4\" >28.207978</td>\n",
       "    </tr>\n",
       "  </tbody>\n",
       "</table>\n"
      ],
      "text/plain": [
       "<pandas.io.formats.style.Styler at 0x787ae08c2e30>"
      ]
     },
     "metadata": {},
     "output_type": "display_data"
    },
    {
     "name": "stdout",
     "output_type": "stream",
     "text": [
      "\n",
      "\n"
     ]
    },
    {
     "data": {
      "text/html": [
       "<style type=\"text/css\">\n",
       "#T_67041 caption {\n",
       "  text-align: center;\n",
       "  font-size: 130%;\n",
       "  font-weight: bold;\n",
       "  white-space: pre-wrap;\n",
       "}\n",
       "#T_67041 th {\n",
       "  max-width: 200px;\n",
       "}\n",
       "</style>\n",
       "<table id=\"T_67041\" class=\"dataframe\">\n",
       "  <caption>Пропуски, уникальные значения и дубликаты в датафрейме.\n",
       " Количество явных дубликатов:  0. \n",
       "</caption>\n",
       "  <thead>\n",
       "    <tr>\n",
       "      <th class=\"blank level0\" >&nbsp;</th>\n",
       "      <th id=\"T_67041_level0_col0\" class=\"col_heading level0 col0\" >id</th>\n",
       "      <th id=\"T_67041_level0_col1\" class=\"col_heading level0 col1\" >f0</th>\n",
       "      <th id=\"T_67041_level0_col2\" class=\"col_heading level0 col2\" >f1</th>\n",
       "      <th id=\"T_67041_level0_col3\" class=\"col_heading level0 col3\" >f2</th>\n",
       "      <th id=\"T_67041_level0_col4\" class=\"col_heading level0 col4\" >product</th>\n",
       "    </tr>\n",
       "  </thead>\n",
       "  <tbody>\n",
       "    <tr>\n",
       "      <th id=\"T_67041_level0_row0\" class=\"row_heading level0 row0\" >Кол-во пропусков:</th>\n",
       "      <td id=\"T_67041_row0_col0\" class=\"data row0 col0\" >0</td>\n",
       "      <td id=\"T_67041_row0_col1\" class=\"data row0 col1\" >0</td>\n",
       "      <td id=\"T_67041_row0_col2\" class=\"data row0 col2\" >0</td>\n",
       "      <td id=\"T_67041_row0_col3\" class=\"data row0 col3\" >0</td>\n",
       "      <td id=\"T_67041_row0_col4\" class=\"data row0 col4\" >0</td>\n",
       "    </tr>\n",
       "    <tr>\n",
       "      <th id=\"T_67041_level0_row1\" class=\"row_heading level0 row1\" >Процент пропусков:</th>\n",
       "      <td id=\"T_67041_row1_col0\" class=\"data row1 col0\" >0.00%</td>\n",
       "      <td id=\"T_67041_row1_col1\" class=\"data row1 col1\" >0.00%</td>\n",
       "      <td id=\"T_67041_row1_col2\" class=\"data row1 col2\" >0.00%</td>\n",
       "      <td id=\"T_67041_row1_col3\" class=\"data row1 col3\" >0.00%</td>\n",
       "      <td id=\"T_67041_row1_col4\" class=\"data row1 col4\" >0.00%</td>\n",
       "    </tr>\n",
       "    <tr>\n",
       "      <th id=\"T_67041_level0_row2\" class=\"row_heading level0 row2\" >Кол-во дубликатов:</th>\n",
       "      <td id=\"T_67041_row2_col0\" class=\"data row2 col0\" >10</td>\n",
       "      <td id=\"T_67041_row2_col1\" class=\"data row2 col1\" >0</td>\n",
       "      <td id=\"T_67041_row2_col2\" class=\"data row2 col2\" >0</td>\n",
       "      <td id=\"T_67041_row2_col3\" class=\"data row2 col3\" >0</td>\n",
       "      <td id=\"T_67041_row2_col4\" class=\"data row2 col4\" >0</td>\n",
       "    </tr>\n",
       "    <tr>\n",
       "      <th id=\"T_67041_level0_row3\" class=\"row_heading level0 row3\" >Процент дубликатов:</th>\n",
       "      <td id=\"T_67041_row3_col0\" class=\"data row3 col0\" >0.01%</td>\n",
       "      <td id=\"T_67041_row3_col1\" class=\"data row3 col1\" >0.00%</td>\n",
       "      <td id=\"T_67041_row3_col2\" class=\"data row3 col2\" >0.00%</td>\n",
       "      <td id=\"T_67041_row3_col3\" class=\"data row3 col3\" >0.00%</td>\n",
       "      <td id=\"T_67041_row3_col4\" class=\"data row3 col4\" >0.00%</td>\n",
       "    </tr>\n",
       "    <tr>\n",
       "      <th id=\"T_67041_level0_row4\" class=\"row_heading level0 row4\" >Кол-во уникальных значений:</th>\n",
       "      <td id=\"T_67041_row4_col0\" class=\"data row4 col0\" >99990</td>\n",
       "      <td id=\"T_67041_row4_col1\" class=\"data row4 col1\" >100000</td>\n",
       "      <td id=\"T_67041_row4_col2\" class=\"data row4 col2\" >100000</td>\n",
       "      <td id=\"T_67041_row4_col3\" class=\"data row4 col3\" >100000</td>\n",
       "      <td id=\"T_67041_row4_col4\" class=\"data row4 col4\" >100000</td>\n",
       "    </tr>\n",
       "    <tr>\n",
       "      <th id=\"T_67041_level0_row5\" class=\"row_heading level0 row5\" >Кол-во нулевых значений:</th>\n",
       "      <td id=\"T_67041_row5_col0\" class=\"data row5 col0\" >0</td>\n",
       "      <td id=\"T_67041_row5_col1\" class=\"data row5 col1\" >0</td>\n",
       "      <td id=\"T_67041_row5_col2\" class=\"data row5 col2\" >0</td>\n",
       "      <td id=\"T_67041_row5_col3\" class=\"data row5 col3\" >0</td>\n",
       "      <td id=\"T_67041_row5_col4\" class=\"data row5 col4\" >1</td>\n",
       "    </tr>\n",
       "  </tbody>\n",
       "</table>\n"
      ],
      "text/plain": [
       "<pandas.io.formats.style.Styler at 0x787b1a0daa70>"
      ]
     },
     "metadata": {},
     "output_type": "display_data"
    },
    {
     "name": "stdout",
     "output_type": "stream",
     "text": [
      "\u001b[1m \n",
      " Информация о составе датафрейма. \u001b[0m\n",
      "<class 'pandas.core.frame.DataFrame'>\n",
      "RangeIndex: 100000 entries, 0 to 99999\n",
      "Data columns (total 5 columns):\n",
      " #   Column   Non-Null Count   Dtype  \n",
      "---  ------   --------------   -----  \n",
      " 0   id       100000 non-null  object \n",
      " 1   f0       100000 non-null  float64\n",
      " 2   f1       100000 non-null  float64\n",
      " 3   f2       100000 non-null  float64\n",
      " 4   product  100000 non-null  float64\n",
      "dtypes: float64(4), object(1)\n",
      "memory usage: 3.8+ MB\n"
     ]
    },
    {
     "data": {
      "text/plain": [
       "None"
      ]
     },
     "metadata": {},
     "output_type": "display_data"
    },
    {
     "name": "stdout",
     "output_type": "stream",
     "text": [
      "\n",
      "\n"
     ]
    },
    {
     "data": {
      "text/html": [
       "<style type=\"text/css\">\n",
       "#T_05336 caption {\n",
       "  text-align: center;\n",
       "  font-size: 130%;\n",
       "  font-weight: bold;\n",
       "  white-space: pre-wrap;\n",
       "}\n",
       "#T_05336 th {\n",
       "  max-width: 200px;\n",
       "}\n",
       "</style>\n",
       "<table id=\"T_05336\" class=\"dataframe\">\n",
       "  <caption>Распределение численных признаков.</caption>\n",
       "  <thead>\n",
       "    <tr>\n",
       "      <th class=\"blank level0\" >&nbsp;</th>\n",
       "      <th id=\"T_05336_level0_col0\" class=\"col_heading level0 col0\" >f0</th>\n",
       "      <th id=\"T_05336_level0_col1\" class=\"col_heading level0 col1\" >f1</th>\n",
       "      <th id=\"T_05336_level0_col2\" class=\"col_heading level0 col2\" >f2</th>\n",
       "      <th id=\"T_05336_level0_col3\" class=\"col_heading level0 col3\" >product</th>\n",
       "    </tr>\n",
       "  </thead>\n",
       "  <tbody>\n",
       "    <tr>\n",
       "      <th id=\"T_05336_level0_row0\" class=\"row_heading level0 row0\" >count</th>\n",
       "      <td id=\"T_05336_row0_col0\" class=\"data row0 col0\" >100000.00</td>\n",
       "      <td id=\"T_05336_row0_col1\" class=\"data row0 col1\" >100000.00</td>\n",
       "      <td id=\"T_05336_row0_col2\" class=\"data row0 col2\" >100000.00</td>\n",
       "      <td id=\"T_05336_row0_col3\" class=\"data row0 col3\" >100000.00</td>\n",
       "    </tr>\n",
       "    <tr>\n",
       "      <th id=\"T_05336_level0_row1\" class=\"row_heading level0 row1\" >mean</th>\n",
       "      <td id=\"T_05336_row1_col0\" class=\"data row1 col0\" >0.50</td>\n",
       "      <td id=\"T_05336_row1_col1\" class=\"data row1 col1\" >0.25</td>\n",
       "      <td id=\"T_05336_row1_col2\" class=\"data row1 col2\" >2.50</td>\n",
       "      <td id=\"T_05336_row1_col3\" class=\"data row1 col3\" >92.50</td>\n",
       "    </tr>\n",
       "    <tr>\n",
       "      <th id=\"T_05336_level0_row2\" class=\"row_heading level0 row2\" >std</th>\n",
       "      <td id=\"T_05336_row2_col0\" class=\"data row2 col0\" >0.87</td>\n",
       "      <td id=\"T_05336_row2_col1\" class=\"data row2 col1\" >0.50</td>\n",
       "      <td id=\"T_05336_row2_col2\" class=\"data row2 col2\" >3.25</td>\n",
       "      <td id=\"T_05336_row2_col3\" class=\"data row2 col3\" >44.29</td>\n",
       "    </tr>\n",
       "    <tr>\n",
       "      <th id=\"T_05336_level0_row3\" class=\"row_heading level0 row3\" >min</th>\n",
       "      <td id=\"T_05336_row3_col0\" class=\"data row3 col0\" >-1.41</td>\n",
       "      <td id=\"T_05336_row3_col1\" class=\"data row3 col1\" >-0.85</td>\n",
       "      <td id=\"T_05336_row3_col2\" class=\"data row3 col2\" >-12.09</td>\n",
       "      <td id=\"T_05336_row3_col3\" class=\"data row3 col3\" >0.00</td>\n",
       "    </tr>\n",
       "    <tr>\n",
       "      <th id=\"T_05336_level0_row4\" class=\"row_heading level0 row4\" >5%</th>\n",
       "      <td id=\"T_05336_row4_col0\" class=\"data row4 col0\" >-0.94</td>\n",
       "      <td id=\"T_05336_row4_col1\" class=\"data row4 col1\" >-0.51</td>\n",
       "      <td id=\"T_05336_row4_col2\" class=\"data row4 col2\" >-2.86</td>\n",
       "      <td id=\"T_05336_row4_col3\" class=\"data row4 col3\" >24.02</td>\n",
       "    </tr>\n",
       "    <tr>\n",
       "      <th id=\"T_05336_level0_row5\" class=\"row_heading level0 row5\" >10%</th>\n",
       "      <td id=\"T_05336_row5_col0\" class=\"data row5 col0\" >-0.79</td>\n",
       "      <td id=\"T_05336_row5_col1\" class=\"data row5 col1\" >-0.44</td>\n",
       "      <td id=\"T_05336_row5_col2\" class=\"data row5 col2\" >-1.70</td>\n",
       "      <td id=\"T_05336_row5_col3\" class=\"data row5 col3\" >32.59</td>\n",
       "    </tr>\n",
       "    <tr>\n",
       "      <th id=\"T_05336_level0_row6\" class=\"row_heading level0 row6\" >25%</th>\n",
       "      <td id=\"T_05336_row6_col0\" class=\"data row6 col0\" >-0.07</td>\n",
       "      <td id=\"T_05336_row6_col1\" class=\"data row6 col1\" >-0.20</td>\n",
       "      <td id=\"T_05336_row6_col2\" class=\"data row6 col2\" >0.29</td>\n",
       "      <td id=\"T_05336_row6_col3\" class=\"data row6 col3\" >56.50</td>\n",
       "    </tr>\n",
       "    <tr>\n",
       "      <th id=\"T_05336_level0_row7\" class=\"row_heading level0 row7\" >50%</th>\n",
       "      <td id=\"T_05336_row7_col0\" class=\"data row7 col0\" >0.50</td>\n",
       "      <td id=\"T_05336_row7_col1\" class=\"data row7 col1\" >0.25</td>\n",
       "      <td id=\"T_05336_row7_col2\" class=\"data row7 col2\" >2.52</td>\n",
       "      <td id=\"T_05336_row7_col3\" class=\"data row7 col3\" >91.85</td>\n",
       "    </tr>\n",
       "    <tr>\n",
       "      <th id=\"T_05336_level0_row8\" class=\"row_heading level0 row8\" >75%</th>\n",
       "      <td id=\"T_05336_row8_col0\" class=\"data row8 col0\" >1.07</td>\n",
       "      <td id=\"T_05336_row8_col1\" class=\"data row8 col1\" >0.70</td>\n",
       "      <td id=\"T_05336_row8_col2\" class=\"data row8 col2\" >4.72</td>\n",
       "      <td id=\"T_05336_row8_col3\" class=\"data row8 col3\" >128.56</td>\n",
       "    </tr>\n",
       "    <tr>\n",
       "      <th id=\"T_05336_level0_row9\" class=\"row_heading level0 row9\" >90%</th>\n",
       "      <td id=\"T_05336_row9_col0\" class=\"data row9 col0\" >1.79</td>\n",
       "      <td id=\"T_05336_row9_col1\" class=\"data row9 col1\" >0.94</td>\n",
       "      <td id=\"T_05336_row9_col2\" class=\"data row9 col2\" >6.70</td>\n",
       "      <td id=\"T_05336_row9_col3\" class=\"data row9 col3\" >152.65</td>\n",
       "    </tr>\n",
       "    <tr>\n",
       "      <th id=\"T_05336_level0_row10\" class=\"row_heading level0 row10\" >95%</th>\n",
       "      <td id=\"T_05336_row10_col0\" class=\"data row10 col0\" >1.94</td>\n",
       "      <td id=\"T_05336_row10_col1\" class=\"data row10 col1\" >1.02</td>\n",
       "      <td id=\"T_05336_row10_col2\" class=\"data row10 col2\" >7.84</td>\n",
       "      <td id=\"T_05336_row10_col3\" class=\"data row10 col3\" >161.21</td>\n",
       "    </tr>\n",
       "    <tr>\n",
       "      <th id=\"T_05336_level0_row11\" class=\"row_heading level0 row11\" >max</th>\n",
       "      <td id=\"T_05336_row11_col0\" class=\"data row11 col0\" >2.36</td>\n",
       "      <td id=\"T_05336_row11_col1\" class=\"data row11 col1\" >1.34</td>\n",
       "      <td id=\"T_05336_row11_col2\" class=\"data row11 col2\" >16.00</td>\n",
       "      <td id=\"T_05336_row11_col3\" class=\"data row11 col3\" >185.36</td>\n",
       "    </tr>\n",
       "  </tbody>\n",
       "</table>\n"
      ],
      "text/plain": [
       "<pandas.io.formats.style.Styler at 0x787b1a0daa70>"
      ]
     },
     "metadata": {},
     "output_type": "display_data"
    },
    {
     "name": "stdout",
     "output_type": "stream",
     "text": [
      "\n",
      "\n"
     ]
    },
    {
     "data": {
      "text/html": [
       "<style type=\"text/css\">\n",
       "#T_bdd42 caption {\n",
       "  text-align: center;\n",
       "  font-size: 130%;\n",
       "  font-weight: bold;\n",
       "  white-space: pre-wrap;\n",
       "}\n",
       "#T_bdd42 th {\n",
       "  max-width: 200px;\n",
       "}\n",
       "</style>\n",
       "<table id=\"T_bdd42\" class=\"dataframe\">\n",
       "  <caption>Информация о строковых признаках.</caption>\n",
       "  <thead>\n",
       "    <tr>\n",
       "      <th class=\"blank level0\" >&nbsp;</th>\n",
       "      <th id=\"T_bdd42_level0_col0\" class=\"col_heading level0 col0\" >id</th>\n",
       "    </tr>\n",
       "  </thead>\n",
       "  <tbody>\n",
       "    <tr>\n",
       "      <th id=\"T_bdd42_level0_row0\" class=\"row_heading level0 row0\" >count</th>\n",
       "      <td id=\"T_bdd42_row0_col0\" class=\"data row0 col0\" >100000</td>\n",
       "    </tr>\n",
       "    <tr>\n",
       "      <th id=\"T_bdd42_level0_row1\" class=\"row_heading level0 row1\" >unique</th>\n",
       "      <td id=\"T_bdd42_row1_col0\" class=\"data row1 col0\" >99990</td>\n",
       "    </tr>\n",
       "    <tr>\n",
       "      <th id=\"T_bdd42_level0_row2\" class=\"row_heading level0 row2\" >top</th>\n",
       "      <td id=\"T_bdd42_row2_col0\" class=\"data row2 col0\" >fiKDv</td>\n",
       "    </tr>\n",
       "    <tr>\n",
       "      <th id=\"T_bdd42_level0_row3\" class=\"row_heading level0 row3\" >freq</th>\n",
       "      <td id=\"T_bdd42_row3_col0\" class=\"data row3 col0\" >2</td>\n",
       "    </tr>\n",
       "  </tbody>\n",
       "</table>\n"
      ],
      "text/plain": [
       "<pandas.io.formats.style.Styler at 0x787ae08c0c70>"
      ]
     },
     "metadata": {},
     "output_type": "display_data"
    },
    {
     "name": "stdout",
     "output_type": "stream",
     "text": [
      "\n",
      "\n"
     ]
    },
    {
     "data": {
      "text/html": [
       "<style type=\"text/css\">\n",
       "#T_06931 caption {\n",
       "  text-align: center;\n",
       "  font-size: 130%;\n",
       "  font-weight: bold;\n",
       "  white-space: pre-wrap;\n",
       "}\n",
       "#T_06931 th {\n",
       "  max-width: 200px;\n",
       "}\n",
       "#T_06931_row0_col0, #T_06931_row1_col1, #T_06931_row2_col2, #T_06931_row3_col3 {\n",
       "  background-color: #800026;\n",
       "  color: #f1f1f1;\n",
       "}\n",
       "#T_06931_row0_col1, #T_06931_row0_col2, #T_06931_row1_col0, #T_06931_row1_col3 {\n",
       "  background-color: #ffffcc;\n",
       "  color: #000000;\n",
       "}\n",
       "#T_06931_row0_col3 {\n",
       "  background-color: #fecf6b;\n",
       "  color: #000000;\n",
       "}\n",
       "#T_06931_row1_col2 {\n",
       "  background-color: #fffecb;\n",
       "  color: #000000;\n",
       "}\n",
       "#T_06931_row2_col0 {\n",
       "  background-color: #fec965;\n",
       "  color: #000000;\n",
       "}\n",
       "#T_06931_row2_col1 {\n",
       "  background-color: #fec863;\n",
       "  color: #000000;\n",
       "}\n",
       "#T_06931_row2_col3 {\n",
       "  background-color: #fc6a32;\n",
       "  color: #f1f1f1;\n",
       "}\n",
       "#T_06931_row3_col0 {\n",
       "  background-color: #fea948;\n",
       "  color: #000000;\n",
       "}\n",
       "#T_06931_row3_col1 {\n",
       "  background-color: #ffe590;\n",
       "  color: #000000;\n",
       "}\n",
       "#T_06931_row3_col2 {\n",
       "  background-color: #fd913e;\n",
       "  color: #000000;\n",
       "}\n",
       "</style>\n",
       "<table id=\"T_06931\" class=\"dataframe\">\n",
       "  <caption>Матрица корреляции.\n",
       "(Коэффициенты Пирсона.)</caption>\n",
       "  <thead>\n",
       "    <tr>\n",
       "      <th class=\"blank level0\" >&nbsp;</th>\n",
       "      <th id=\"T_06931_level0_col0\" class=\"col_heading level0 col0\" >f0</th>\n",
       "      <th id=\"T_06931_level0_col1\" class=\"col_heading level0 col1\" >f1</th>\n",
       "      <th id=\"T_06931_level0_col2\" class=\"col_heading level0 col2\" >f2</th>\n",
       "      <th id=\"T_06931_level0_col3\" class=\"col_heading level0 col3\" >product</th>\n",
       "    </tr>\n",
       "  </thead>\n",
       "  <tbody>\n",
       "    <tr>\n",
       "      <th id=\"T_06931_level0_row0\" class=\"row_heading level0 row0\" >f0</th>\n",
       "      <td id=\"T_06931_row0_col0\" class=\"data row0 col0\" >1.00</td>\n",
       "      <td id=\"T_06931_row0_col1\" class=\"data row0 col1\" >-0.44</td>\n",
       "      <td id=\"T_06931_row0_col2\" class=\"data row0 col2\" >-0.00</td>\n",
       "      <td id=\"T_06931_row0_col3\" class=\"data row0 col3\" >0.14</td>\n",
       "    </tr>\n",
       "    <tr>\n",
       "      <th id=\"T_06931_level0_row1\" class=\"row_heading level0 row1\" >f1</th>\n",
       "      <td id=\"T_06931_row1_col0\" class=\"data row1 col0\" >-0.44</td>\n",
       "      <td id=\"T_06931_row1_col1\" class=\"data row1 col1\" >1.00</td>\n",
       "      <td id=\"T_06931_row1_col2\" class=\"data row1 col2\" >0.00</td>\n",
       "      <td id=\"T_06931_row1_col3\" class=\"data row1 col3\" >-0.19</td>\n",
       "    </tr>\n",
       "    <tr>\n",
       "      <th id=\"T_06931_level0_row2\" class=\"row_heading level0 row2\" >f2</th>\n",
       "      <td id=\"T_06931_row2_col0\" class=\"data row2 col0\" >-0.00</td>\n",
       "      <td id=\"T_06931_row2_col1\" class=\"data row2 col1\" >0.00</td>\n",
       "      <td id=\"T_06931_row2_col2\" class=\"data row2 col2\" >1.00</td>\n",
       "      <td id=\"T_06931_row2_col3\" class=\"data row2 col3\" >0.48</td>\n",
       "    </tr>\n",
       "    <tr>\n",
       "      <th id=\"T_06931_level0_row3\" class=\"row_heading level0 row3\" >product</th>\n",
       "      <td id=\"T_06931_row3_col0\" class=\"data row3 col0\" >0.14</td>\n",
       "      <td id=\"T_06931_row3_col1\" class=\"data row3 col1\" >-0.19</td>\n",
       "      <td id=\"T_06931_row3_col2\" class=\"data row3 col2\" >0.48</td>\n",
       "      <td id=\"T_06931_row3_col3\" class=\"data row3 col3\" >1.00</td>\n",
       "    </tr>\n",
       "  </tbody>\n",
       "</table>\n"
      ],
      "text/plain": [
       "<pandas.io.formats.style.Styler at 0x787ae08c2830>"
      ]
     },
     "metadata": {},
     "output_type": "display_data"
    },
    {
     "name": "stdout",
     "output_type": "stream",
     "text": [
      "\n",
      "\n"
     ]
    },
    {
     "data": {
      "image/png": "[encoded data removed]",
      "text/plain": [
       "<Figure size 1500x500 with 2 Axes>"
      ]
     },
     "metadata": {},
     "output_type": "display_data"
    },
    {
     "data": {
      "image/png": "[encoded data removed]",
      "text/plain": [
       "<Figure size 1500x500 with 2 Axes>"
      ]
     },
     "metadata": {},
     "output_type": "display_data"
    },
    {
     "data": {
      "image/png": "[encoded data removed]",
      "text/plain": [
       "<Figure size 1500x500 with 2 Axes>"
      ]
     },
     "metadata": {},
     "output_type": "display_data"
    },
    {
     "data": {
      "image/png": "[encoded data removed]",
      "text/plain": [
       "<Figure size 1500x500 with 2 Axes>"
      ]
     },
     "metadata": {},
     "output_type": "display_data"
    },
    {
     "name": "stdout",
     "output_type": "stream",
     "text": [
      "~~~~~~~~~~~~~~~~~~~~~~~~~~~~~~~~~~~~~~~~~~~~~~~~~~~~~~~~~~~~~~~~~~~~~~\n"
     ]
    },
    {
     "data": {
      "text/html": [
       "<style type=\"text/css\">\n",
       "#T_3c0a1 caption {\n",
       "  text-align: center;\n",
       "  font-size: 130%;\n",
       "  font-weight: bold;\n",
       "  white-space: pre-wrap;\n",
       "}\n",
       "#T_3c0a1 th {\n",
       "  max-width: 200px;\n",
       "}\n",
       "</style>\n",
       "<table id=\"T_3c0a1\" class=\"dataframe\">\n",
       "  <caption>Регион 1.\n",
       "Первые 20 строк.</caption>\n",
       "  <thead>\n",
       "    <tr>\n",
       "      <th class=\"blank level0\" >&nbsp;</th>\n",
       "      <th id=\"T_3c0a1_level0_col0\" class=\"col_heading level0 col0\" >id</th>\n",
       "      <th id=\"T_3c0a1_level0_col1\" class=\"col_heading level0 col1\" >f0</th>\n",
       "      <th id=\"T_3c0a1_level0_col2\" class=\"col_heading level0 col2\" >f1</th>\n",
       "      <th id=\"T_3c0a1_level0_col3\" class=\"col_heading level0 col3\" >f2</th>\n",
       "      <th id=\"T_3c0a1_level0_col4\" class=\"col_heading level0 col4\" >product</th>\n",
       "    </tr>\n",
       "  </thead>\n",
       "  <tbody>\n",
       "    <tr>\n",
       "      <th id=\"T_3c0a1_level0_row0\" class=\"row_heading level0 row0\" >0</th>\n",
       "      <td id=\"T_3c0a1_row0_col0\" class=\"data row0 col0\" >kBEdx</td>\n",
       "      <td id=\"T_3c0a1_row0_col1\" class=\"data row0 col1\" >-15.001348</td>\n",
       "      <td id=\"T_3c0a1_row0_col2\" class=\"data row0 col2\" >-8.276000</td>\n",
       "      <td id=\"T_3c0a1_row0_col3\" class=\"data row0 col3\" >-0.005876</td>\n",
       "      <td id=\"T_3c0a1_row0_col4\" class=\"data row0 col4\" >3.179103</td>\n",
       "    </tr>\n",
       "    <tr>\n",
       "      <th id=\"T_3c0a1_level0_row1\" class=\"row_heading level0 row1\" >1</th>\n",
       "      <td id=\"T_3c0a1_row1_col0\" class=\"data row1 col0\" >62mP7</td>\n",
       "      <td id=\"T_3c0a1_row1_col1\" class=\"data row1 col1\" >14.272088</td>\n",
       "      <td id=\"T_3c0a1_row1_col2\" class=\"data row1 col2\" >-3.475083</td>\n",
       "      <td id=\"T_3c0a1_row1_col3\" class=\"data row1 col3\" >0.999183</td>\n",
       "      <td id=\"T_3c0a1_row1_col4\" class=\"data row1 col4\" >26.953261</td>\n",
       "    </tr>\n",
       "    <tr>\n",
       "      <th id=\"T_3c0a1_level0_row2\" class=\"row_heading level0 row2\" >2</th>\n",
       "      <td id=\"T_3c0a1_row2_col0\" class=\"data row2 col0\" >vyE1P</td>\n",
       "      <td id=\"T_3c0a1_row2_col1\" class=\"data row2 col1\" >6.263187</td>\n",
       "      <td id=\"T_3c0a1_row2_col2\" class=\"data row2 col2\" >-5.948386</td>\n",
       "      <td id=\"T_3c0a1_row2_col3\" class=\"data row2 col3\" >5.001160</td>\n",
       "      <td id=\"T_3c0a1_row2_col4\" class=\"data row2 col4\" >134.766305</td>\n",
       "    </tr>\n",
       "    <tr>\n",
       "      <th id=\"T_3c0a1_level0_row3\" class=\"row_heading level0 row3\" >3</th>\n",
       "      <td id=\"T_3c0a1_row3_col0\" class=\"data row3 col0\" >KcrkZ</td>\n",
       "      <td id=\"T_3c0a1_row3_col1\" class=\"data row3 col1\" >-13.081196</td>\n",
       "      <td id=\"T_3c0a1_row3_col2\" class=\"data row3 col2\" >-11.506057</td>\n",
       "      <td id=\"T_3c0a1_row3_col3\" class=\"data row3 col3\" >4.999415</td>\n",
       "      <td id=\"T_3c0a1_row3_col4\" class=\"data row3 col4\" >137.945408</td>\n",
       "    </tr>\n",
       "    <tr>\n",
       "      <th id=\"T_3c0a1_level0_row4\" class=\"row_heading level0 row4\" >4</th>\n",
       "      <td id=\"T_3c0a1_row4_col0\" class=\"data row4 col0\" >AHL4O</td>\n",
       "      <td id=\"T_3c0a1_row4_col1\" class=\"data row4 col1\" >12.702195</td>\n",
       "      <td id=\"T_3c0a1_row4_col2\" class=\"data row4 col2\" >-8.147433</td>\n",
       "      <td id=\"T_3c0a1_row4_col3\" class=\"data row4 col3\" >5.004363</td>\n",
       "      <td id=\"T_3c0a1_row4_col4\" class=\"data row4 col4\" >134.766305</td>\n",
       "    </tr>\n",
       "    <tr>\n",
       "      <th id=\"T_3c0a1_level0_row5\" class=\"row_heading level0 row5\" >5</th>\n",
       "      <td id=\"T_3c0a1_row5_col0\" class=\"data row5 col0\" >HHckp</td>\n",
       "      <td id=\"T_3c0a1_row5_col1\" class=\"data row5 col1\" >-3.327590</td>\n",
       "      <td id=\"T_3c0a1_row5_col2\" class=\"data row5 col2\" >-2.205276</td>\n",
       "      <td id=\"T_3c0a1_row5_col3\" class=\"data row5 col3\" >3.003647</td>\n",
       "      <td id=\"T_3c0a1_row5_col4\" class=\"data row5 col4\" >84.038886</td>\n",
       "    </tr>\n",
       "    <tr>\n",
       "      <th id=\"T_3c0a1_level0_row6\" class=\"row_heading level0 row6\" >6</th>\n",
       "      <td id=\"T_3c0a1_row6_col0\" class=\"data row6 col0\" >h5Ujo</td>\n",
       "      <td id=\"T_3c0a1_row6_col1\" class=\"data row6 col1\" >-11.142655</td>\n",
       "      <td id=\"T_3c0a1_row6_col2\" class=\"data row6 col2\" >-10.133399</td>\n",
       "      <td id=\"T_3c0a1_row6_col3\" class=\"data row6 col3\" >4.002382</td>\n",
       "      <td id=\"T_3c0a1_row6_col4\" class=\"data row6 col4\" >110.992147</td>\n",
       "    </tr>\n",
       "    <tr>\n",
       "      <th id=\"T_3c0a1_level0_row7\" class=\"row_heading level0 row7\" >7</th>\n",
       "      <td id=\"T_3c0a1_row7_col0\" class=\"data row7 col0\" >muH9x</td>\n",
       "      <td id=\"T_3c0a1_row7_col1\" class=\"data row7 col1\" >4.234715</td>\n",
       "      <td id=\"T_3c0a1_row7_col2\" class=\"data row7 col2\" >-0.001354</td>\n",
       "      <td id=\"T_3c0a1_row7_col3\" class=\"data row7 col3\" >2.004588</td>\n",
       "      <td id=\"T_3c0a1_row7_col4\" class=\"data row7 col4\" >53.906522</td>\n",
       "    </tr>\n",
       "    <tr>\n",
       "      <th id=\"T_3c0a1_level0_row8\" class=\"row_heading level0 row8\" >8</th>\n",
       "      <td id=\"T_3c0a1_row8_col0\" class=\"data row8 col0\" >YiRkx</td>\n",
       "      <td id=\"T_3c0a1_row8_col1\" class=\"data row8 col1\" >13.355129</td>\n",
       "      <td id=\"T_3c0a1_row8_col2\" class=\"data row8 col2\" >-0.332068</td>\n",
       "      <td id=\"T_3c0a1_row8_col3\" class=\"data row8 col3\" >4.998647</td>\n",
       "      <td id=\"T_3c0a1_row8_col4\" class=\"data row8 col4\" >134.766305</td>\n",
       "    </tr>\n",
       "    <tr>\n",
       "      <th id=\"T_3c0a1_level0_row9\" class=\"row_heading level0 row9\" >9</th>\n",
       "      <td id=\"T_3c0a1_row9_col0\" class=\"data row9 col0\" >jG6Gi</td>\n",
       "      <td id=\"T_3c0a1_row9_col1\" class=\"data row9 col1\" >1.069227</td>\n",
       "      <td id=\"T_3c0a1_row9_col2\" class=\"data row9 col2\" >-11.025667</td>\n",
       "      <td id=\"T_3c0a1_row9_col3\" class=\"data row9 col3\" >4.997844</td>\n",
       "      <td id=\"T_3c0a1_row9_col4\" class=\"data row9 col4\" >137.945408</td>\n",
       "    </tr>\n",
       "    <tr>\n",
       "      <th id=\"T_3c0a1_level0_row10\" class=\"row_heading level0 row10\" >10</th>\n",
       "      <td id=\"T_3c0a1_row10_col0\" class=\"data row10 col0\" >7uHUe</td>\n",
       "      <td id=\"T_3c0a1_row10_col1\" class=\"data row10 col1\" >11.777049</td>\n",
       "      <td id=\"T_3c0a1_row10_col2\" class=\"data row10 col2\" >-5.334084</td>\n",
       "      <td id=\"T_3c0a1_row10_col3\" class=\"data row10 col3\" >2.003033</td>\n",
       "      <td id=\"T_3c0a1_row10_col4\" class=\"data row10 col4\" >53.906522</td>\n",
       "    </tr>\n",
       "    <tr>\n",
       "      <th id=\"T_3c0a1_level0_row11\" class=\"row_heading level0 row11\" >11</th>\n",
       "      <td id=\"T_3c0a1_row11_col0\" class=\"data row11 col0\" >OXyvW</td>\n",
       "      <td id=\"T_3c0a1_row11_col1\" class=\"data row11 col1\" >16.320755</td>\n",
       "      <td id=\"T_3c0a1_row11_col2\" class=\"data row11 col2\" >-0.562946</td>\n",
       "      <td id=\"T_3c0a1_row11_col3\" class=\"data row11 col3\" >-0.001783</td>\n",
       "      <td id=\"T_3c0a1_row11_col4\" class=\"data row11 col4\" >0.000000</td>\n",
       "    </tr>\n",
       "    <tr>\n",
       "      <th id=\"T_3c0a1_level0_row12\" class=\"row_heading level0 row12\" >12</th>\n",
       "      <td id=\"T_3c0a1_row12_col0\" class=\"data row12 col0\" >cB8re</td>\n",
       "      <td id=\"T_3c0a1_row12_col1\" class=\"data row12 col1\" >7.736313</td>\n",
       "      <td id=\"T_3c0a1_row12_col2\" class=\"data row12 col2\" >-6.093374</td>\n",
       "      <td id=\"T_3c0a1_row12_col3\" class=\"data row12 col3\" >3.982531</td>\n",
       "      <td id=\"T_3c0a1_row12_col4\" class=\"data row12 col4\" >107.813044</td>\n",
       "    </tr>\n",
       "    <tr>\n",
       "      <th id=\"T_3c0a1_level0_row13\" class=\"row_heading level0 row13\" >13</th>\n",
       "      <td id=\"T_3c0a1_row13_col0\" class=\"data row13 col0\" >igmai</td>\n",
       "      <td id=\"T_3c0a1_row13_col1\" class=\"data row13 col1\" >6.695604</td>\n",
       "      <td id=\"T_3c0a1_row13_col2\" class=\"data row13 col2\" >-0.749449</td>\n",
       "      <td id=\"T_3c0a1_row13_col3\" class=\"data row13 col3\" >-0.007630</td>\n",
       "      <td id=\"T_3c0a1_row13_col4\" class=\"data row13 col4\" >0.000000</td>\n",
       "    </tr>\n",
       "    <tr>\n",
       "      <th id=\"T_3c0a1_level0_row14\" class=\"row_heading level0 row14\" >14</th>\n",
       "      <td id=\"T_3c0a1_row14_col0\" class=\"data row14 col0\" >3OdkE</td>\n",
       "      <td id=\"T_3c0a1_row14_col1\" class=\"data row14 col1\" >-10.985487</td>\n",
       "      <td id=\"T_3c0a1_row14_col2\" class=\"data row14 col2\" >-5.605994</td>\n",
       "      <td id=\"T_3c0a1_row14_col3\" class=\"data row14 col3\" >2.991130</td>\n",
       "      <td id=\"T_3c0a1_row14_col4\" class=\"data row14 col4\" >84.038886</td>\n",
       "    </tr>\n",
       "    <tr>\n",
       "      <th id=\"T_3c0a1_level0_row15\" class=\"row_heading level0 row15\" >15</th>\n",
       "      <td id=\"T_3c0a1_row15_col0\" class=\"data row15 col0\" >3tVUO</td>\n",
       "      <td id=\"T_3c0a1_row15_col1\" class=\"data row15 col1\" >-0.347599</td>\n",
       "      <td id=\"T_3c0a1_row15_col2\" class=\"data row15 col2\" >-6.275884</td>\n",
       "      <td id=\"T_3c0a1_row15_col3\" class=\"data row15 col3\" >-0.003448</td>\n",
       "      <td id=\"T_3c0a1_row15_col4\" class=\"data row15 col4\" >3.179103</td>\n",
       "    </tr>\n",
       "    <tr>\n",
       "      <th id=\"T_3c0a1_level0_row16\" class=\"row_heading level0 row16\" >16</th>\n",
       "      <td id=\"T_3c0a1_row16_col0\" class=\"data row16 col0\" >siveY</td>\n",
       "      <td id=\"T_3c0a1_row16_col1\" class=\"data row16 col1\" >12.300570</td>\n",
       "      <td id=\"T_3c0a1_row16_col2\" class=\"data row16 col2\" >2.944454</td>\n",
       "      <td id=\"T_3c0a1_row16_col3\" class=\"data row16 col3\" >2.005541</td>\n",
       "      <td id=\"T_3c0a1_row16_col4\" class=\"data row16 col4\" >53.906522</td>\n",
       "    </tr>\n",
       "    <tr>\n",
       "      <th id=\"T_3c0a1_level0_row17\" class=\"row_heading level0 row17\" >17</th>\n",
       "      <td id=\"T_3c0a1_row17_col0\" class=\"data row17 col0\" >gIqzq</td>\n",
       "      <td id=\"T_3c0a1_row17_col1\" class=\"data row17 col1\" >8.900460</td>\n",
       "      <td id=\"T_3c0a1_row17_col2\" class=\"data row17 col2\" >-5.632857</td>\n",
       "      <td id=\"T_3c0a1_row17_col3\" class=\"data row17 col3\" >4.994324</td>\n",
       "      <td id=\"T_3c0a1_row17_col4\" class=\"data row17 col4\" >134.766305</td>\n",
       "    </tr>\n",
       "    <tr>\n",
       "      <th id=\"T_3c0a1_level0_row18\" class=\"row_heading level0 row18\" >18</th>\n",
       "      <td id=\"T_3c0a1_row18_col0\" class=\"data row18 col0\" >zO5EU</td>\n",
       "      <td id=\"T_3c0a1_row18_col1\" class=\"data row18 col1\" >-13.412826</td>\n",
       "      <td id=\"T_3c0a1_row18_col2\" class=\"data row18 col2\" >-4.729495</td>\n",
       "      <td id=\"T_3c0a1_row18_col3\" class=\"data row18 col3\" >2.998590</td>\n",
       "      <td id=\"T_3c0a1_row18_col4\" class=\"data row18 col4\" >84.038886</td>\n",
       "    </tr>\n",
       "    <tr>\n",
       "      <th id=\"T_3c0a1_level0_row19\" class=\"row_heading level0 row19\" >19</th>\n",
       "      <td id=\"T_3c0a1_row19_col0\" class=\"data row19 col0\" >dkcEb</td>\n",
       "      <td id=\"T_3c0a1_row19_col1\" class=\"data row19 col1\" >-4.373526</td>\n",
       "      <td id=\"T_3c0a1_row19_col2\" class=\"data row19 col2\" >-8.590017</td>\n",
       "      <td id=\"T_3c0a1_row19_col3\" class=\"data row19 col3\" >2.995379</td>\n",
       "      <td id=\"T_3c0a1_row19_col4\" class=\"data row19 col4\" >84.038886</td>\n",
       "    </tr>\n",
       "  </tbody>\n",
       "</table>\n"
      ],
      "text/plain": [
       "<pandas.io.formats.style.Styler at 0x787ade2e2bc0>"
      ]
     },
     "metadata": {},
     "output_type": "display_data"
    },
    {
     "name": "stdout",
     "output_type": "stream",
     "text": [
      "\n",
      "\n"
     ]
    },
    {
     "data": {
      "text/html": [
       "<style type=\"text/css\">\n",
       "#T_03e8c caption {\n",
       "  text-align: center;\n",
       "  font-size: 130%;\n",
       "  font-weight: bold;\n",
       "  white-space: pre-wrap;\n",
       "}\n",
       "#T_03e8c th {\n",
       "  max-width: 200px;\n",
       "}\n",
       "</style>\n",
       "<table id=\"T_03e8c\" class=\"dataframe\">\n",
       "  <caption>Пропуски, уникальные значения и дубликаты в датафрейме.\n",
       " Количество явных дубликатов:  0. \n",
       "</caption>\n",
       "  <thead>\n",
       "    <tr>\n",
       "      <th class=\"blank level0\" >&nbsp;</th>\n",
       "      <th id=\"T_03e8c_level0_col0\" class=\"col_heading level0 col0\" >id</th>\n",
       "      <th id=\"T_03e8c_level0_col1\" class=\"col_heading level0 col1\" >f0</th>\n",
       "      <th id=\"T_03e8c_level0_col2\" class=\"col_heading level0 col2\" >f1</th>\n",
       "      <th id=\"T_03e8c_level0_col3\" class=\"col_heading level0 col3\" >f2</th>\n",
       "      <th id=\"T_03e8c_level0_col4\" class=\"col_heading level0 col4\" >product</th>\n",
       "    </tr>\n",
       "  </thead>\n",
       "  <tbody>\n",
       "    <tr>\n",
       "      <th id=\"T_03e8c_level0_row0\" class=\"row_heading level0 row0\" >Кол-во пропусков:</th>\n",
       "      <td id=\"T_03e8c_row0_col0\" class=\"data row0 col0\" >0</td>\n",
       "      <td id=\"T_03e8c_row0_col1\" class=\"data row0 col1\" >0</td>\n",
       "      <td id=\"T_03e8c_row0_col2\" class=\"data row0 col2\" >0</td>\n",
       "      <td id=\"T_03e8c_row0_col3\" class=\"data row0 col3\" >0</td>\n",
       "      <td id=\"T_03e8c_row0_col4\" class=\"data row0 col4\" >0</td>\n",
       "    </tr>\n",
       "    <tr>\n",
       "      <th id=\"T_03e8c_level0_row1\" class=\"row_heading level0 row1\" >Процент пропусков:</th>\n",
       "      <td id=\"T_03e8c_row1_col0\" class=\"data row1 col0\" >0.00%</td>\n",
       "      <td id=\"T_03e8c_row1_col1\" class=\"data row1 col1\" >0.00%</td>\n",
       "      <td id=\"T_03e8c_row1_col2\" class=\"data row1 col2\" >0.00%</td>\n",
       "      <td id=\"T_03e8c_row1_col3\" class=\"data row1 col3\" >0.00%</td>\n",
       "      <td id=\"T_03e8c_row1_col4\" class=\"data row1 col4\" >0.00%</td>\n",
       "    </tr>\n",
       "    <tr>\n",
       "      <th id=\"T_03e8c_level0_row2\" class=\"row_heading level0 row2\" >Кол-во дубликатов:</th>\n",
       "      <td id=\"T_03e8c_row2_col0\" class=\"data row2 col0\" >4</td>\n",
       "      <td id=\"T_03e8c_row2_col1\" class=\"data row2 col1\" >0</td>\n",
       "      <td id=\"T_03e8c_row2_col2\" class=\"data row2 col2\" >0</td>\n",
       "      <td id=\"T_03e8c_row2_col3\" class=\"data row2 col3\" >0</td>\n",
       "      <td id=\"T_03e8c_row2_col4\" class=\"data row2 col4\" >99988</td>\n",
       "    </tr>\n",
       "    <tr>\n",
       "      <th id=\"T_03e8c_level0_row3\" class=\"row_heading level0 row3\" >Процент дубликатов:</th>\n",
       "      <td id=\"T_03e8c_row3_col0\" class=\"data row3 col0\" >0.00%</td>\n",
       "      <td id=\"T_03e8c_row3_col1\" class=\"data row3 col1\" >0.00%</td>\n",
       "      <td id=\"T_03e8c_row3_col2\" class=\"data row3 col2\" >0.00%</td>\n",
       "      <td id=\"T_03e8c_row3_col3\" class=\"data row3 col3\" >0.00%</td>\n",
       "      <td id=\"T_03e8c_row3_col4\" class=\"data row3 col4\" >99.99%</td>\n",
       "    </tr>\n",
       "    <tr>\n",
       "      <th id=\"T_03e8c_level0_row4\" class=\"row_heading level0 row4\" >Кол-во уникальных значений:</th>\n",
       "      <td id=\"T_03e8c_row4_col0\" class=\"data row4 col0\" >99996</td>\n",
       "      <td id=\"T_03e8c_row4_col1\" class=\"data row4 col1\" >100000</td>\n",
       "      <td id=\"T_03e8c_row4_col2\" class=\"data row4 col2\" >100000</td>\n",
       "      <td id=\"T_03e8c_row4_col3\" class=\"data row4 col3\" >100000</td>\n",
       "      <td id=\"T_03e8c_row4_col4\" class=\"data row4 col4\" >12</td>\n",
       "    </tr>\n",
       "    <tr>\n",
       "      <th id=\"T_03e8c_level0_row5\" class=\"row_heading level0 row5\" >Кол-во нулевых значений:</th>\n",
       "      <td id=\"T_03e8c_row5_col0\" class=\"data row5 col0\" >0</td>\n",
       "      <td id=\"T_03e8c_row5_col1\" class=\"data row5 col1\" >0</td>\n",
       "      <td id=\"T_03e8c_row5_col2\" class=\"data row5 col2\" >0</td>\n",
       "      <td id=\"T_03e8c_row5_col3\" class=\"data row5 col3\" >0</td>\n",
       "      <td id=\"T_03e8c_row5_col4\" class=\"data row5 col4\" >8235</td>\n",
       "    </tr>\n",
       "  </tbody>\n",
       "</table>\n"
      ],
      "text/plain": [
       "<pandas.io.formats.style.Styler at 0x787ade273850>"
      ]
     },
     "metadata": {},
     "output_type": "display_data"
    },
    {
     "name": "stdout",
     "output_type": "stream",
     "text": [
      "\u001b[1m \n",
      " Информация о составе датафрейма. \u001b[0m\n",
      "<class 'pandas.core.frame.DataFrame'>\n",
      "RangeIndex: 100000 entries, 0 to 99999\n",
      "Data columns (total 5 columns):\n",
      " #   Column   Non-Null Count   Dtype  \n",
      "---  ------   --------------   -----  \n",
      " 0   id       100000 non-null  object \n",
      " 1   f0       100000 non-null  float64\n",
      " 2   f1       100000 non-null  float64\n",
      " 3   f2       100000 non-null  float64\n",
      " 4   product  100000 non-null  float64\n",
      "dtypes: float64(4), object(1)\n",
      "memory usage: 3.8+ MB\n"
     ]
    },
    {
     "data": {
      "text/plain": [
       "None"
      ]
     },
     "metadata": {},
     "output_type": "display_data"
    },
    {
     "name": "stdout",
     "output_type": "stream",
     "text": [
      "\n",
      "\n"
     ]
    },
    {
     "data": {
      "text/html": [
       "<style type=\"text/css\">\n",
       "#T_e2785 caption {\n",
       "  text-align: center;\n",
       "  font-size: 130%;\n",
       "  font-weight: bold;\n",
       "  white-space: pre-wrap;\n",
       "}\n",
       "#T_e2785 th {\n",
       "  max-width: 200px;\n",
       "}\n",
       "</style>\n",
       "<table id=\"T_e2785\" class=\"dataframe\">\n",
       "  <caption>Распределение численных признаков.</caption>\n",
       "  <thead>\n",
       "    <tr>\n",
       "      <th class=\"blank level0\" >&nbsp;</th>\n",
       "      <th id=\"T_e2785_level0_col0\" class=\"col_heading level0 col0\" >f0</th>\n",
       "      <th id=\"T_e2785_level0_col1\" class=\"col_heading level0 col1\" >f1</th>\n",
       "      <th id=\"T_e2785_level0_col2\" class=\"col_heading level0 col2\" >f2</th>\n",
       "      <th id=\"T_e2785_level0_col3\" class=\"col_heading level0 col3\" >product</th>\n",
       "    </tr>\n",
       "  </thead>\n",
       "  <tbody>\n",
       "    <tr>\n",
       "      <th id=\"T_e2785_level0_row0\" class=\"row_heading level0 row0\" >count</th>\n",
       "      <td id=\"T_e2785_row0_col0\" class=\"data row0 col0\" >100000.00</td>\n",
       "      <td id=\"T_e2785_row0_col1\" class=\"data row0 col1\" >100000.00</td>\n",
       "      <td id=\"T_e2785_row0_col2\" class=\"data row0 col2\" >100000.00</td>\n",
       "      <td id=\"T_e2785_row0_col3\" class=\"data row0 col3\" >100000.00</td>\n",
       "    </tr>\n",
       "    <tr>\n",
       "      <th id=\"T_e2785_level0_row1\" class=\"row_heading level0 row1\" >mean</th>\n",
       "      <td id=\"T_e2785_row1_col0\" class=\"data row1 col0\" >1.14</td>\n",
       "      <td id=\"T_e2785_row1_col1\" class=\"data row1 col1\" >-4.80</td>\n",
       "      <td id=\"T_e2785_row1_col2\" class=\"data row1 col2\" >2.49</td>\n",
       "      <td id=\"T_e2785_row1_col3\" class=\"data row1 col3\" >68.83</td>\n",
       "    </tr>\n",
       "    <tr>\n",
       "      <th id=\"T_e2785_level0_row2\" class=\"row_heading level0 row2\" >std</th>\n",
       "      <td id=\"T_e2785_row2_col0\" class=\"data row2 col0\" >8.97</td>\n",
       "      <td id=\"T_e2785_row2_col1\" class=\"data row2 col1\" >5.12</td>\n",
       "      <td id=\"T_e2785_row2_col2\" class=\"data row2 col2\" >1.70</td>\n",
       "      <td id=\"T_e2785_row2_col3\" class=\"data row2 col3\" >45.94</td>\n",
       "    </tr>\n",
       "    <tr>\n",
       "      <th id=\"T_e2785_level0_row3\" class=\"row_heading level0 row3\" >min</th>\n",
       "      <td id=\"T_e2785_row3_col0\" class=\"data row3 col0\" >-31.61</td>\n",
       "      <td id=\"T_e2785_row3_col1\" class=\"data row3 col1\" >-26.36</td>\n",
       "      <td id=\"T_e2785_row3_col2\" class=\"data row3 col2\" >-0.02</td>\n",
       "      <td id=\"T_e2785_row3_col3\" class=\"data row3 col3\" >0.00</td>\n",
       "    </tr>\n",
       "    <tr>\n",
       "      <th id=\"T_e2785_level0_row4\" class=\"row_heading level0 row4\" >5%</th>\n",
       "      <td id=\"T_e2785_row4_col0\" class=\"data row4 col0\" >-12.71</td>\n",
       "      <td id=\"T_e2785_row4_col1\" class=\"data row4 col1\" >-13.19</td>\n",
       "      <td id=\"T_e2785_row4_col2\" class=\"data row4 col2\" >-0.00</td>\n",
       "      <td id=\"T_e2785_row4_col3\" class=\"data row4 col3\" >0.00</td>\n",
       "    </tr>\n",
       "    <tr>\n",
       "      <th id=\"T_e2785_level0_row5\" class=\"row_heading level0 row5\" >10%</th>\n",
       "      <td id=\"T_e2785_row5_col0\" class=\"data row5 col0\" >-10.49</td>\n",
       "      <td id=\"T_e2785_row5_col1\" class=\"data row5 col1\" >-11.36</td>\n",
       "      <td id=\"T_e2785_row5_col2\" class=\"data row5 col2\" >0.00</td>\n",
       "      <td id=\"T_e2785_row5_col3\" class=\"data row5 col3\" >3.18</td>\n",
       "    </tr>\n",
       "    <tr>\n",
       "      <th id=\"T_e2785_level0_row6\" class=\"row_heading level0 row6\" >25%</th>\n",
       "      <td id=\"T_e2785_row6_col0\" class=\"data row6 col0\" >-6.30</td>\n",
       "      <td id=\"T_e2785_row6_col1\" class=\"data row6 col1\" >-8.27</td>\n",
       "      <td id=\"T_e2785_row6_col2\" class=\"data row6 col2\" >1.00</td>\n",
       "      <td id=\"T_e2785_row6_col3\" class=\"data row6 col3\" >26.95</td>\n",
       "    </tr>\n",
       "    <tr>\n",
       "      <th id=\"T_e2785_level0_row7\" class=\"row_heading level0 row7\" >50%</th>\n",
       "      <td id=\"T_e2785_row7_col0\" class=\"data row7 col0\" >1.15</td>\n",
       "      <td id=\"T_e2785_row7_col1\" class=\"data row7 col1\" >-4.81</td>\n",
       "      <td id=\"T_e2785_row7_col2\" class=\"data row7 col2\" >2.01</td>\n",
       "      <td id=\"T_e2785_row7_col3\" class=\"data row7 col3\" >57.09</td>\n",
       "    </tr>\n",
       "    <tr>\n",
       "      <th id=\"T_e2785_level0_row8\" class=\"row_heading level0 row8\" >75%</th>\n",
       "      <td id=\"T_e2785_row8_col0\" class=\"data row8 col0\" >8.62</td>\n",
       "      <td id=\"T_e2785_row8_col1\" class=\"data row8 col1\" >-1.33</td>\n",
       "      <td id=\"T_e2785_row8_col2\" class=\"data row8 col2\" >4.00</td>\n",
       "      <td id=\"T_e2785_row8_col3\" class=\"data row8 col3\" >107.81</td>\n",
       "    </tr>\n",
       "    <tr>\n",
       "      <th id=\"T_e2785_level0_row9\" class=\"row_heading level0 row9\" >90%</th>\n",
       "      <td id=\"T_e2785_row9_col0\" class=\"data row9 col0\" >12.77</td>\n",
       "      <td id=\"T_e2785_row9_col1\" class=\"data row9 col1\" >1.78</td>\n",
       "      <td id=\"T_e2785_row9_col2\" class=\"data row9 col2\" >5.00</td>\n",
       "      <td id=\"T_e2785_row9_col3\" class=\"data row9 col3\" >134.77</td>\n",
       "    </tr>\n",
       "    <tr>\n",
       "      <th id=\"T_e2785_level0_row10\" class=\"row_heading level0 row10\" >95%</th>\n",
       "      <td id=\"T_e2785_row10_col0\" class=\"data row10 col0\" >15.02</td>\n",
       "      <td id=\"T_e2785_row10_col1\" class=\"data row10 col1\" >3.67</td>\n",
       "      <td id=\"T_e2785_row10_col2\" class=\"data row10 col2\" >5.00</td>\n",
       "      <td id=\"T_e2785_row10_col3\" class=\"data row10 col3\" >137.95</td>\n",
       "    </tr>\n",
       "    <tr>\n",
       "      <th id=\"T_e2785_level0_row11\" class=\"row_heading level0 row11\" >max</th>\n",
       "      <td id=\"T_e2785_row11_col0\" class=\"data row11 col0\" >29.42</td>\n",
       "      <td id=\"T_e2785_row11_col1\" class=\"data row11 col1\" >18.73</td>\n",
       "      <td id=\"T_e2785_row11_col2\" class=\"data row11 col2\" >5.02</td>\n",
       "      <td id=\"T_e2785_row11_col3\" class=\"data row11 col3\" >137.95</td>\n",
       "    </tr>\n",
       "  </tbody>\n",
       "</table>\n"
      ],
      "text/plain": [
       "<pandas.io.formats.style.Styler at 0x787ade1e7b50>"
      ]
     },
     "metadata": {},
     "output_type": "display_data"
    },
    {
     "name": "stdout",
     "output_type": "stream",
     "text": [
      "\n",
      "\n"
     ]
    },
    {
     "data": {
      "text/html": [
       "<style type=\"text/css\">\n",
       "#T_e32f7 caption {\n",
       "  text-align: center;\n",
       "  font-size: 130%;\n",
       "  font-weight: bold;\n",
       "  white-space: pre-wrap;\n",
       "}\n",
       "#T_e32f7 th {\n",
       "  max-width: 200px;\n",
       "}\n",
       "</style>\n",
       "<table id=\"T_e32f7\" class=\"dataframe\">\n",
       "  <caption>Информация о строковых признаках.</caption>\n",
       "  <thead>\n",
       "    <tr>\n",
       "      <th class=\"blank level0\" >&nbsp;</th>\n",
       "      <th id=\"T_e32f7_level0_col0\" class=\"col_heading level0 col0\" >id</th>\n",
       "    </tr>\n",
       "  </thead>\n",
       "  <tbody>\n",
       "    <tr>\n",
       "      <th id=\"T_e32f7_level0_row0\" class=\"row_heading level0 row0\" >count</th>\n",
       "      <td id=\"T_e32f7_row0_col0\" class=\"data row0 col0\" >100000</td>\n",
       "    </tr>\n",
       "    <tr>\n",
       "      <th id=\"T_e32f7_level0_row1\" class=\"row_heading level0 row1\" >unique</th>\n",
       "      <td id=\"T_e32f7_row1_col0\" class=\"data row1 col0\" >99996</td>\n",
       "    </tr>\n",
       "    <tr>\n",
       "      <th id=\"T_e32f7_level0_row2\" class=\"row_heading level0 row2\" >top</th>\n",
       "      <td id=\"T_e32f7_row2_col0\" class=\"data row2 col0\" >wt4Uk</td>\n",
       "    </tr>\n",
       "    <tr>\n",
       "      <th id=\"T_e32f7_level0_row3\" class=\"row_heading level0 row3\" >freq</th>\n",
       "      <td id=\"T_e32f7_row3_col0\" class=\"data row3 col0\" >2</td>\n",
       "    </tr>\n",
       "  </tbody>\n",
       "</table>\n"
      ],
      "text/plain": [
       "<pandas.io.formats.style.Styler at 0x787ade1896f0>"
      ]
     },
     "metadata": {},
     "output_type": "display_data"
    },
    {
     "name": "stdout",
     "output_type": "stream",
     "text": [
      "\n",
      "\n"
     ]
    },
    {
     "data": {
      "text/html": [
       "<style type=\"text/css\">\n",
       "#T_f9418 caption {\n",
       "  text-align: center;\n",
       "  font-size: 130%;\n",
       "  font-weight: bold;\n",
       "  white-space: pre-wrap;\n",
       "}\n",
       "#T_f9418 th {\n",
       "  max-width: 200px;\n",
       "}\n",
       "#T_f9418_row0_col0, #T_f9418_row1_col1, #T_f9418_row2_col2, #T_f9418_row2_col3, #T_f9418_row3_col2, #T_f9418_row3_col3 {\n",
       "  background-color: #800026;\n",
       "  color: #f1f1f1;\n",
       "}\n",
       "#T_f9418_row0_col1 {\n",
       "  background-color: #fee38b;\n",
       "  color: #000000;\n",
       "}\n",
       "#T_f9418_row0_col2, #T_f9418_row0_col3, #T_f9418_row1_col2, #T_f9418_row3_col0, #T_f9418_row3_col1 {\n",
       "  background-color: #ffffcc;\n",
       "  color: #000000;\n",
       "}\n",
       "#T_f9418_row1_col0 {\n",
       "  background-color: #fee085;\n",
       "  color: #000000;\n",
       "}\n",
       "#T_f9418_row1_col3 {\n",
       "  background-color: #fffcc5;\n",
       "  color: #000000;\n",
       "}\n",
       "#T_f9418_row2_col0 {\n",
       "  background-color: #fffbc2;\n",
       "  color: #000000;\n",
       "}\n",
       "#T_f9418_row2_col1 {\n",
       "  background-color: #fffecb;\n",
       "  color: #000000;\n",
       "}\n",
       "</style>\n",
       "<table id=\"T_f9418\" class=\"dataframe\">\n",
       "  <caption>Матрица корреляции.\n",
       "(Коэффициенты Пирсона.)</caption>\n",
       "  <thead>\n",
       "    <tr>\n",
       "      <th class=\"blank level0\" >&nbsp;</th>\n",
       "      <th id=\"T_f9418_level0_col0\" class=\"col_heading level0 col0\" >f0</th>\n",
       "      <th id=\"T_f9418_level0_col1\" class=\"col_heading level0 col1\" >f1</th>\n",
       "      <th id=\"T_f9418_level0_col2\" class=\"col_heading level0 col2\" >f2</th>\n",
       "      <th id=\"T_f9418_level0_col3\" class=\"col_heading level0 col3\" >product</th>\n",
       "    </tr>\n",
       "  </thead>\n",
       "  <tbody>\n",
       "    <tr>\n",
       "      <th id=\"T_f9418_level0_row0\" class=\"row_heading level0 row0\" >f0</th>\n",
       "      <td id=\"T_f9418_row0_col0\" class=\"data row0 col0\" >1.00</td>\n",
       "      <td id=\"T_f9418_row0_col1\" class=\"data row0 col1\" >0.18</td>\n",
       "      <td id=\"T_f9418_row0_col2\" class=\"data row0 col2\" >-0.00</td>\n",
       "      <td id=\"T_f9418_row0_col3\" class=\"data row0 col3\" >-0.03</td>\n",
       "    </tr>\n",
       "    <tr>\n",
       "      <th id=\"T_f9418_level0_row1\" class=\"row_heading level0 row1\" >f1</th>\n",
       "      <td id=\"T_f9418_row1_col0\" class=\"data row1 col0\" >0.18</td>\n",
       "      <td id=\"T_f9418_row1_col1\" class=\"data row1 col1\" >1.00</td>\n",
       "      <td id=\"T_f9418_row1_col2\" class=\"data row1 col2\" >-0.00</td>\n",
       "      <td id=\"T_f9418_row1_col3\" class=\"data row1 col3\" >-0.01</td>\n",
       "    </tr>\n",
       "    <tr>\n",
       "      <th id=\"T_f9418_level0_row2\" class=\"row_heading level0 row2\" >f2</th>\n",
       "      <td id=\"T_f9418_row2_col0\" class=\"data row2 col0\" >-0.00</td>\n",
       "      <td id=\"T_f9418_row2_col1\" class=\"data row2 col1\" >-0.00</td>\n",
       "      <td id=\"T_f9418_row2_col2\" class=\"data row2 col2\" >1.00</td>\n",
       "      <td id=\"T_f9418_row2_col3\" class=\"data row2 col3\" >1.00</td>\n",
       "    </tr>\n",
       "    <tr>\n",
       "      <th id=\"T_f9418_level0_row3\" class=\"row_heading level0 row3\" >product</th>\n",
       "      <td id=\"T_f9418_row3_col0\" class=\"data row3 col0\" >-0.03</td>\n",
       "      <td id=\"T_f9418_row3_col1\" class=\"data row3 col1\" >-0.01</td>\n",
       "      <td id=\"T_f9418_row3_col2\" class=\"data row3 col2\" >1.00</td>\n",
       "      <td id=\"T_f9418_row3_col3\" class=\"data row3 col3\" >1.00</td>\n",
       "    </tr>\n",
       "  </tbody>\n",
       "</table>\n"
      ],
      "text/plain": [
       "<pandas.io.formats.style.Styler at 0x787ade1e7b50>"
      ]
     },
     "metadata": {},
     "output_type": "display_data"
    },
    {
     "name": "stdout",
     "output_type": "stream",
     "text": [
      "\n",
      "\n"
     ]
    },
    {
     "data": {
      "image/png": "[encoded data removed]",
      "text/plain": [
       "<Figure size 1500x500 with 2 Axes>"
      ]
     },
     "metadata": {},
     "output_type": "display_data"
    },
    {
     "data": {
      "image/png": "[encoded data removed]",
      "text/plain": [
       "<Figure size 1500x500 with 2 Axes>"
      ]
     },
     "metadata": {},
     "output_type": "display_data"
    },
    {
     "data": {
      "image/png": "[encoded data removed]",
      "text/plain": [
       "<Figure size 1500x500 with 2 Axes>"
      ]
     },
     "metadata": {},
     "output_type": "display_data"
    },
    {
     "data": {
      "image/png": "[encoded data removed]",
      "text/plain": [
       "<Figure size 1500x500 with 2 Axes>"
      ]
     },
     "metadata": {},
     "output_type": "display_data"
    },
    {
     "name": "stdout",
     "output_type": "stream",
     "text": [
      "~~~~~~~~~~~~~~~~~~~~~~~~~~~~~~~~~~~~~~~~~~~~~~~~~~~~~~~~~~~~~~~~~~~~~~\n"
     ]
    },
    {
     "data": {
      "text/html": [
       "<style type=\"text/css\">\n",
       "#T_3a3f4 caption {\n",
       "  text-align: center;\n",
       "  font-size: 130%;\n",
       "  font-weight: bold;\n",
       "  white-space: pre-wrap;\n",
       "}\n",
       "#T_3a3f4 th {\n",
       "  max-width: 200px;\n",
       "}\n",
       "</style>\n",
       "<table id=\"T_3a3f4\" class=\"dataframe\">\n",
       "  <caption>Регион 2.\n",
       "Первые 20 строк.</caption>\n",
       "  <thead>\n",
       "    <tr>\n",
       "      <th class=\"blank level0\" >&nbsp;</th>\n",
       "      <th id=\"T_3a3f4_level0_col0\" class=\"col_heading level0 col0\" >id</th>\n",
       "      <th id=\"T_3a3f4_level0_col1\" class=\"col_heading level0 col1\" >f0</th>\n",
       "      <th id=\"T_3a3f4_level0_col2\" class=\"col_heading level0 col2\" >f1</th>\n",
       "      <th id=\"T_3a3f4_level0_col3\" class=\"col_heading level0 col3\" >f2</th>\n",
       "      <th id=\"T_3a3f4_level0_col4\" class=\"col_heading level0 col4\" >product</th>\n",
       "    </tr>\n",
       "  </thead>\n",
       "  <tbody>\n",
       "    <tr>\n",
       "      <th id=\"T_3a3f4_level0_row0\" class=\"row_heading level0 row0\" >0</th>\n",
       "      <td id=\"T_3a3f4_row0_col0\" class=\"data row0 col0\" >fwXo0</td>\n",
       "      <td id=\"T_3a3f4_row0_col1\" class=\"data row0 col1\" >-1.146987</td>\n",
       "      <td id=\"T_3a3f4_row0_col2\" class=\"data row0 col2\" >0.963328</td>\n",
       "      <td id=\"T_3a3f4_row0_col3\" class=\"data row0 col3\" >-0.828965</td>\n",
       "      <td id=\"T_3a3f4_row0_col4\" class=\"data row0 col4\" >27.758673</td>\n",
       "    </tr>\n",
       "    <tr>\n",
       "      <th id=\"T_3a3f4_level0_row1\" class=\"row_heading level0 row1\" >1</th>\n",
       "      <td id=\"T_3a3f4_row1_col0\" class=\"data row1 col0\" >WJtFt</td>\n",
       "      <td id=\"T_3a3f4_row1_col1\" class=\"data row1 col1\" >0.262778</td>\n",
       "      <td id=\"T_3a3f4_row1_col2\" class=\"data row1 col2\" >0.269839</td>\n",
       "      <td id=\"T_3a3f4_row1_col3\" class=\"data row1 col3\" >-2.530187</td>\n",
       "      <td id=\"T_3a3f4_row1_col4\" class=\"data row1 col4\" >56.069697</td>\n",
       "    </tr>\n",
       "    <tr>\n",
       "      <th id=\"T_3a3f4_level0_row2\" class=\"row_heading level0 row2\" >2</th>\n",
       "      <td id=\"T_3a3f4_row2_col0\" class=\"data row2 col0\" >ovLUW</td>\n",
       "      <td id=\"T_3a3f4_row2_col1\" class=\"data row2 col1\" >0.194587</td>\n",
       "      <td id=\"T_3a3f4_row2_col2\" class=\"data row2 col2\" >0.289035</td>\n",
       "      <td id=\"T_3a3f4_row2_col3\" class=\"data row2 col3\" >-5.586433</td>\n",
       "      <td id=\"T_3a3f4_row2_col4\" class=\"data row2 col4\" >62.871910</td>\n",
       "    </tr>\n",
       "    <tr>\n",
       "      <th id=\"T_3a3f4_level0_row3\" class=\"row_heading level0 row3\" >3</th>\n",
       "      <td id=\"T_3a3f4_row3_col0\" class=\"data row3 col0\" >q6cA6</td>\n",
       "      <td id=\"T_3a3f4_row3_col1\" class=\"data row3 col1\" >2.236060</td>\n",
       "      <td id=\"T_3a3f4_row3_col2\" class=\"data row3 col2\" >-0.553760</td>\n",
       "      <td id=\"T_3a3f4_row3_col3\" class=\"data row3 col3\" >0.930038</td>\n",
       "      <td id=\"T_3a3f4_row3_col4\" class=\"data row3 col4\" >114.572842</td>\n",
       "    </tr>\n",
       "    <tr>\n",
       "      <th id=\"T_3a3f4_level0_row4\" class=\"row_heading level0 row4\" >4</th>\n",
       "      <td id=\"T_3a3f4_row4_col0\" class=\"data row4 col0\" >WPMUX</td>\n",
       "      <td id=\"T_3a3f4_row4_col1\" class=\"data row4 col1\" >-0.515993</td>\n",
       "      <td id=\"T_3a3f4_row4_col2\" class=\"data row4 col2\" >1.716266</td>\n",
       "      <td id=\"T_3a3f4_row4_col3\" class=\"data row4 col3\" >5.899011</td>\n",
       "      <td id=\"T_3a3f4_row4_col4\" class=\"data row4 col4\" >149.600746</td>\n",
       "    </tr>\n",
       "    <tr>\n",
       "      <th id=\"T_3a3f4_level0_row5\" class=\"row_heading level0 row5\" >5</th>\n",
       "      <td id=\"T_3a3f4_row5_col0\" class=\"data row5 col0\" >LzZXx</td>\n",
       "      <td id=\"T_3a3f4_row5_col1\" class=\"data row5 col1\" >-0.758092</td>\n",
       "      <td id=\"T_3a3f4_row5_col2\" class=\"data row5 col2\" >0.710691</td>\n",
       "      <td id=\"T_3a3f4_row5_col3\" class=\"data row5 col3\" >2.585887</td>\n",
       "      <td id=\"T_3a3f4_row5_col4\" class=\"data row5 col4\" >90.222465</td>\n",
       "    </tr>\n",
       "    <tr>\n",
       "      <th id=\"T_3a3f4_level0_row6\" class=\"row_heading level0 row6\" >6</th>\n",
       "      <td id=\"T_3a3f4_row6_col0\" class=\"data row6 col0\" >WBHRv</td>\n",
       "      <td id=\"T_3a3f4_row6_col1\" class=\"data row6 col1\" >-0.574891</td>\n",
       "      <td id=\"T_3a3f4_row6_col2\" class=\"data row6 col2\" >0.317727</td>\n",
       "      <td id=\"T_3a3f4_row6_col3\" class=\"data row6 col3\" >1.773745</td>\n",
       "      <td id=\"T_3a3f4_row6_col4\" class=\"data row6 col4\" >45.641478</td>\n",
       "    </tr>\n",
       "    <tr>\n",
       "      <th id=\"T_3a3f4_level0_row7\" class=\"row_heading level0 row7\" >7</th>\n",
       "      <td id=\"T_3a3f4_row7_col0\" class=\"data row7 col0\" >XO8fn</td>\n",
       "      <td id=\"T_3a3f4_row7_col1\" class=\"data row7 col1\" >-1.906649</td>\n",
       "      <td id=\"T_3a3f4_row7_col2\" class=\"data row7 col2\" >-2.458350</td>\n",
       "      <td id=\"T_3a3f4_row7_col3\" class=\"data row7 col3\" >-0.177097</td>\n",
       "      <td id=\"T_3a3f4_row7_col4\" class=\"data row7 col4\" >72.480640</td>\n",
       "    </tr>\n",
       "    <tr>\n",
       "      <th id=\"T_3a3f4_level0_row8\" class=\"row_heading level0 row8\" >8</th>\n",
       "      <td id=\"T_3a3f4_row8_col0\" class=\"data row8 col0\" >ybmQ5</td>\n",
       "      <td id=\"T_3a3f4_row8_col1\" class=\"data row8 col1\" >1.776292</td>\n",
       "      <td id=\"T_3a3f4_row8_col2\" class=\"data row8 col2\" >-0.279356</td>\n",
       "      <td id=\"T_3a3f4_row8_col3\" class=\"data row8 col3\" >3.004156</td>\n",
       "      <td id=\"T_3a3f4_row8_col4\" class=\"data row8 col4\" >106.616832</td>\n",
       "    </tr>\n",
       "    <tr>\n",
       "      <th id=\"T_3a3f4_level0_row9\" class=\"row_heading level0 row9\" >9</th>\n",
       "      <td id=\"T_3a3f4_row9_col0\" class=\"data row9 col0\" >OilcN</td>\n",
       "      <td id=\"T_3a3f4_row9_col1\" class=\"data row9 col1\" >-1.214452</td>\n",
       "      <td id=\"T_3a3f4_row9_col2\" class=\"data row9 col2\" >-0.439314</td>\n",
       "      <td id=\"T_3a3f4_row9_col3\" class=\"data row9 col3\" >5.922514</td>\n",
       "      <td id=\"T_3a3f4_row9_col4\" class=\"data row9 col4\" >52.954532</td>\n",
       "    </tr>\n",
       "    <tr>\n",
       "      <th id=\"T_3a3f4_level0_row10\" class=\"row_heading level0 row10\" >10</th>\n",
       "      <td id=\"T_3a3f4_row10_col0\" class=\"data row10 col0\" >myq2g</td>\n",
       "      <td id=\"T_3a3f4_row10_col1\" class=\"data row10 col1\" >0.628659</td>\n",
       "      <td id=\"T_3a3f4_row10_col2\" class=\"data row10 col2\" >-2.120049</td>\n",
       "      <td id=\"T_3a3f4_row10_col3\" class=\"data row10 col3\" >5.362437</td>\n",
       "      <td id=\"T_3a3f4_row10_col4\" class=\"data row10 col4\" >166.799132</td>\n",
       "    </tr>\n",
       "    <tr>\n",
       "      <th id=\"T_3a3f4_level0_row11\" class=\"row_heading level0 row11\" >11</th>\n",
       "      <td id=\"T_3a3f4_row11_col0\" class=\"data row11 col0\" >V9R1y</td>\n",
       "      <td id=\"T_3a3f4_row11_col1\" class=\"data row11 col1\" >-0.544565</td>\n",
       "      <td id=\"T_3a3f4_row11_col2\" class=\"data row11 col2\" >0.039088</td>\n",
       "      <td id=\"T_3a3f4_row11_col3\" class=\"data row11 col3\" >8.635293</td>\n",
       "      <td id=\"T_3a3f4_row11_col4\" class=\"data row11 col4\" >150.859435</td>\n",
       "    </tr>\n",
       "    <tr>\n",
       "      <th id=\"T_3a3f4_level0_row12\" class=\"row_heading level0 row12\" >12</th>\n",
       "      <td id=\"T_3a3f4_row12_col0\" class=\"data row12 col0\" >bKDo0</td>\n",
       "      <td id=\"T_3a3f4_row12_col1\" class=\"data row12 col1\" >-0.960453</td>\n",
       "      <td id=\"T_3a3f4_row12_col2\" class=\"data row12 col2\" >-0.127113</td>\n",
       "      <td id=\"T_3a3f4_row12_col3\" class=\"data row12 col3\" >7.764734</td>\n",
       "      <td id=\"T_3a3f4_row12_col4\" class=\"data row12 col4\" >96.910855</td>\n",
       "    </tr>\n",
       "    <tr>\n",
       "      <th id=\"T_3a3f4_level0_row13\" class=\"row_heading level0 row13\" >13</th>\n",
       "      <td id=\"T_3a3f4_row13_col0\" class=\"data row13 col0\" >eXvhs</td>\n",
       "      <td id=\"T_3a3f4_row13_col1\" class=\"data row13 col1\" >1.432891</td>\n",
       "      <td id=\"T_3a3f4_row13_col2\" class=\"data row13 col2\" >-1.242074</td>\n",
       "      <td id=\"T_3a3f4_row13_col3\" class=\"data row13 col3\" >3.557168</td>\n",
       "      <td id=\"T_3a3f4_row13_col4\" class=\"data row13 col4\" >8.704162</td>\n",
       "    </tr>\n",
       "    <tr>\n",
       "      <th id=\"T_3a3f4_level0_row14\" class=\"row_heading level0 row14\" >14</th>\n",
       "      <td id=\"T_3a3f4_row14_col0\" class=\"data row14 col0\" >wI4j3</td>\n",
       "      <td id=\"T_3a3f4_row14_col1\" class=\"data row14 col1\" >-0.935464</td>\n",
       "      <td id=\"T_3a3f4_row14_col2\" class=\"data row14 col2\" >2.420523</td>\n",
       "      <td id=\"T_3a3f4_row14_col3\" class=\"data row14 col3\" >1.150536</td>\n",
       "      <td id=\"T_3a3f4_row14_col4\" class=\"data row14 col4\" >116.829811</td>\n",
       "    </tr>\n",
       "    <tr>\n",
       "      <th id=\"T_3a3f4_level0_row15\" class=\"row_heading level0 row15\" >15</th>\n",
       "      <td id=\"T_3a3f4_row15_col0\" class=\"data row15 col0\" >XOWTx</td>\n",
       "      <td id=\"T_3a3f4_row15_col1\" class=\"data row15 col1\" >-2.628353</td>\n",
       "      <td id=\"T_3a3f4_row15_col2\" class=\"data row15 col2\" >0.937303</td>\n",
       "      <td id=\"T_3a3f4_row15_col3\" class=\"data row15 col3\" >0.057847</td>\n",
       "      <td id=\"T_3a3f4_row15_col4\" class=\"data row15 col4\" >68.655498</td>\n",
       "    </tr>\n",
       "    <tr>\n",
       "      <th id=\"T_3a3f4_level0_row16\" class=\"row_heading level0 row16\" >16</th>\n",
       "      <td id=\"T_3a3f4_row16_col0\" class=\"data row16 col0\" >2oVFv</td>\n",
       "      <td id=\"T_3a3f4_row16_col1\" class=\"data row16 col1\" >-0.428050</td>\n",
       "      <td id=\"T_3a3f4_row16_col2\" class=\"data row16 col2\" >-2.246556</td>\n",
       "      <td id=\"T_3a3f4_row16_col3\" class=\"data row16 col3\" >6.970420</td>\n",
       "      <td id=\"T_3a3f4_row16_col4\" class=\"data row16 col4\" >84.500464</td>\n",
       "    </tr>\n",
       "    <tr>\n",
       "      <th id=\"T_3a3f4_level0_row17\" class=\"row_heading level0 row17\" >17</th>\n",
       "      <td id=\"T_3a3f4_row17_col0\" class=\"data row17 col0\" >0wbDA</td>\n",
       "      <td id=\"T_3a3f4_row17_col1\" class=\"data row17 col1\" >0.735307</td>\n",
       "      <td id=\"T_3a3f4_row17_col2\" class=\"data row17 col2\" >0.913124</td>\n",
       "      <td id=\"T_3a3f4_row17_col3\" class=\"data row17 col3\" >7.899539</td>\n",
       "      <td id=\"T_3a3f4_row17_col4\" class=\"data row17 col4\" >96.284701</td>\n",
       "    </tr>\n",
       "    <tr>\n",
       "      <th id=\"T_3a3f4_level0_row18\" class=\"row_heading level0 row18\" >18</th>\n",
       "      <td id=\"T_3a3f4_row18_col0\" class=\"data row18 col0\" >NhHaR</td>\n",
       "      <td id=\"T_3a3f4_row18_col1\" class=\"data row18 col1\" >0.706261</td>\n",
       "      <td id=\"T_3a3f4_row18_col2\" class=\"data row18 col2\" >-0.993553</td>\n",
       "      <td id=\"T_3a3f4_row18_col3\" class=\"data row18 col3\" >3.155582</td>\n",
       "      <td id=\"T_3a3f4_row18_col4\" class=\"data row18 col4\" >48.052268</td>\n",
       "    </tr>\n",
       "    <tr>\n",
       "      <th id=\"T_3a3f4_level0_row19\" class=\"row_heading level0 row19\" >19</th>\n",
       "      <td id=\"T_3a3f4_row19_col0\" class=\"data row19 col0\" >DMNMZ</td>\n",
       "      <td id=\"T_3a3f4_row19_col1\" class=\"data row19 col1\" >-1.867846</td>\n",
       "      <td id=\"T_3a3f4_row19_col2\" class=\"data row19 col2\" >2.744144</td>\n",
       "      <td id=\"T_3a3f4_row19_col3\" class=\"data row19 col3\" >5.918278</td>\n",
       "      <td id=\"T_3a3f4_row19_col4\" class=\"data row19 col4\" >153.815137</td>\n",
       "    </tr>\n",
       "  </tbody>\n",
       "</table>\n"
      ],
      "text/plain": [
       "<pandas.io.formats.style.Styler at 0x787ade00b700>"
      ]
     },
     "metadata": {},
     "output_type": "display_data"
    },
    {
     "name": "stdout",
     "output_type": "stream",
     "text": [
      "\n",
      "\n"
     ]
    },
    {
     "data": {
      "text/html": [
       "<style type=\"text/css\">\n",
       "#T_3101e caption {\n",
       "  text-align: center;\n",
       "  font-size: 130%;\n",
       "  font-weight: bold;\n",
       "  white-space: pre-wrap;\n",
       "}\n",
       "#T_3101e th {\n",
       "  max-width: 200px;\n",
       "}\n",
       "</style>\n",
       "<table id=\"T_3101e\" class=\"dataframe\">\n",
       "  <caption>Пропуски, уникальные значения и дубликаты в датафрейме.\n",
       " Количество явных дубликатов:  0. \n",
       "</caption>\n",
       "  <thead>\n",
       "    <tr>\n",
       "      <th class=\"blank level0\" >&nbsp;</th>\n",
       "      <th id=\"T_3101e_level0_col0\" class=\"col_heading level0 col0\" >id</th>\n",
       "      <th id=\"T_3101e_level0_col1\" class=\"col_heading level0 col1\" >f0</th>\n",
       "      <th id=\"T_3101e_level0_col2\" class=\"col_heading level0 col2\" >f1</th>\n",
       "      <th id=\"T_3101e_level0_col3\" class=\"col_heading level0 col3\" >f2</th>\n",
       "      <th id=\"T_3101e_level0_col4\" class=\"col_heading level0 col4\" >product</th>\n",
       "    </tr>\n",
       "  </thead>\n",
       "  <tbody>\n",
       "    <tr>\n",
       "      <th id=\"T_3101e_level0_row0\" class=\"row_heading level0 row0\" >Кол-во пропусков:</th>\n",
       "      <td id=\"T_3101e_row0_col0\" class=\"data row0 col0\" >0</td>\n",
       "      <td id=\"T_3101e_row0_col1\" class=\"data row0 col1\" >0</td>\n",
       "      <td id=\"T_3101e_row0_col2\" class=\"data row0 col2\" >0</td>\n",
       "      <td id=\"T_3101e_row0_col3\" class=\"data row0 col3\" >0</td>\n",
       "      <td id=\"T_3101e_row0_col4\" class=\"data row0 col4\" >0</td>\n",
       "    </tr>\n",
       "    <tr>\n",
       "      <th id=\"T_3101e_level0_row1\" class=\"row_heading level0 row1\" >Процент пропусков:</th>\n",
       "      <td id=\"T_3101e_row1_col0\" class=\"data row1 col0\" >0.00%</td>\n",
       "      <td id=\"T_3101e_row1_col1\" class=\"data row1 col1\" >0.00%</td>\n",
       "      <td id=\"T_3101e_row1_col2\" class=\"data row1 col2\" >0.00%</td>\n",
       "      <td id=\"T_3101e_row1_col3\" class=\"data row1 col3\" >0.00%</td>\n",
       "      <td id=\"T_3101e_row1_col4\" class=\"data row1 col4\" >0.00%</td>\n",
       "    </tr>\n",
       "    <tr>\n",
       "      <th id=\"T_3101e_level0_row2\" class=\"row_heading level0 row2\" >Кол-во дубликатов:</th>\n",
       "      <td id=\"T_3101e_row2_col0\" class=\"data row2 col0\" >4</td>\n",
       "      <td id=\"T_3101e_row2_col1\" class=\"data row2 col1\" >0</td>\n",
       "      <td id=\"T_3101e_row2_col2\" class=\"data row2 col2\" >0</td>\n",
       "      <td id=\"T_3101e_row2_col3\" class=\"data row2 col3\" >0</td>\n",
       "      <td id=\"T_3101e_row2_col4\" class=\"data row2 col4\" >0</td>\n",
       "    </tr>\n",
       "    <tr>\n",
       "      <th id=\"T_3101e_level0_row3\" class=\"row_heading level0 row3\" >Процент дубликатов:</th>\n",
       "      <td id=\"T_3101e_row3_col0\" class=\"data row3 col0\" >0.00%</td>\n",
       "      <td id=\"T_3101e_row3_col1\" class=\"data row3 col1\" >0.00%</td>\n",
       "      <td id=\"T_3101e_row3_col2\" class=\"data row3 col2\" >0.00%</td>\n",
       "      <td id=\"T_3101e_row3_col3\" class=\"data row3 col3\" >0.00%</td>\n",
       "      <td id=\"T_3101e_row3_col4\" class=\"data row3 col4\" >0.00%</td>\n",
       "    </tr>\n",
       "    <tr>\n",
       "      <th id=\"T_3101e_level0_row4\" class=\"row_heading level0 row4\" >Кол-во уникальных значений:</th>\n",
       "      <td id=\"T_3101e_row4_col0\" class=\"data row4 col0\" >99996</td>\n",
       "      <td id=\"T_3101e_row4_col1\" class=\"data row4 col1\" >100000</td>\n",
       "      <td id=\"T_3101e_row4_col2\" class=\"data row4 col2\" >100000</td>\n",
       "      <td id=\"T_3101e_row4_col3\" class=\"data row4 col3\" >100000</td>\n",
       "      <td id=\"T_3101e_row4_col4\" class=\"data row4 col4\" >100000</td>\n",
       "    </tr>\n",
       "    <tr>\n",
       "      <th id=\"T_3101e_level0_row5\" class=\"row_heading level0 row5\" >Кол-во нулевых значений:</th>\n",
       "      <td id=\"T_3101e_row5_col0\" class=\"data row5 col0\" >0</td>\n",
       "      <td id=\"T_3101e_row5_col1\" class=\"data row5 col1\" >0</td>\n",
       "      <td id=\"T_3101e_row5_col2\" class=\"data row5 col2\" >0</td>\n",
       "      <td id=\"T_3101e_row5_col3\" class=\"data row5 col3\" >0</td>\n",
       "      <td id=\"T_3101e_row5_col4\" class=\"data row5 col4\" >1</td>\n",
       "    </tr>\n",
       "  </tbody>\n",
       "</table>\n"
      ],
      "text/plain": [
       "<pandas.io.formats.style.Styler at 0x787adddebf40>"
      ]
     },
     "metadata": {},
     "output_type": "display_data"
    },
    {
     "name": "stdout",
     "output_type": "stream",
     "text": [
      "\u001b[1m \n",
      " Информация о составе датафрейма. \u001b[0m\n",
      "<class 'pandas.core.frame.DataFrame'>\n",
      "RangeIndex: 100000 entries, 0 to 99999\n",
      "Data columns (total 5 columns):\n",
      " #   Column   Non-Null Count   Dtype  \n",
      "---  ------   --------------   -----  \n",
      " 0   id       100000 non-null  object \n",
      " 1   f0       100000 non-null  float64\n",
      " 2   f1       100000 non-null  float64\n",
      " 3   f2       100000 non-null  float64\n",
      " 4   product  100000 non-null  float64\n",
      "dtypes: float64(4), object(1)\n",
      "memory usage: 3.8+ MB\n"
     ]
    },
    {
     "data": {
      "text/plain": [
       "None"
      ]
     },
     "metadata": {},
     "output_type": "display_data"
    },
    {
     "name": "stdout",
     "output_type": "stream",
     "text": [
      "\n",
      "\n"
     ]
    },
    {
     "data": {
      "text/html": [
       "<style type=\"text/css\">\n",
       "#T_1a82d caption {\n",
       "  text-align: center;\n",
       "  font-size: 130%;\n",
       "  font-weight: bold;\n",
       "  white-space: pre-wrap;\n",
       "}\n",
       "#T_1a82d th {\n",
       "  max-width: 200px;\n",
       "}\n",
       "</style>\n",
       "<table id=\"T_1a82d\" class=\"dataframe\">\n",
       "  <caption>Распределение численных признаков.</caption>\n",
       "  <thead>\n",
       "    <tr>\n",
       "      <th class=\"blank level0\" >&nbsp;</th>\n",
       "      <th id=\"T_1a82d_level0_col0\" class=\"col_heading level0 col0\" >f0</th>\n",
       "      <th id=\"T_1a82d_level0_col1\" class=\"col_heading level0 col1\" >f1</th>\n",
       "      <th id=\"T_1a82d_level0_col2\" class=\"col_heading level0 col2\" >f2</th>\n",
       "      <th id=\"T_1a82d_level0_col3\" class=\"col_heading level0 col3\" >product</th>\n",
       "    </tr>\n",
       "  </thead>\n",
       "  <tbody>\n",
       "    <tr>\n",
       "      <th id=\"T_1a82d_level0_row0\" class=\"row_heading level0 row0\" >count</th>\n",
       "      <td id=\"T_1a82d_row0_col0\" class=\"data row0 col0\" >100000.00</td>\n",
       "      <td id=\"T_1a82d_row0_col1\" class=\"data row0 col1\" >100000.00</td>\n",
       "      <td id=\"T_1a82d_row0_col2\" class=\"data row0 col2\" >100000.00</td>\n",
       "      <td id=\"T_1a82d_row0_col3\" class=\"data row0 col3\" >100000.00</td>\n",
       "    </tr>\n",
       "    <tr>\n",
       "      <th id=\"T_1a82d_level0_row1\" class=\"row_heading level0 row1\" >mean</th>\n",
       "      <td id=\"T_1a82d_row1_col0\" class=\"data row1 col0\" >0.00</td>\n",
       "      <td id=\"T_1a82d_row1_col1\" class=\"data row1 col1\" >-0.00</td>\n",
       "      <td id=\"T_1a82d_row1_col2\" class=\"data row1 col2\" >2.50</td>\n",
       "      <td id=\"T_1a82d_row1_col3\" class=\"data row1 col3\" >95.00</td>\n",
       "    </tr>\n",
       "    <tr>\n",
       "      <th id=\"T_1a82d_level0_row2\" class=\"row_heading level0 row2\" >std</th>\n",
       "      <td id=\"T_1a82d_row2_col0\" class=\"data row2 col0\" >1.73</td>\n",
       "      <td id=\"T_1a82d_row2_col1\" class=\"data row2 col1\" >1.73</td>\n",
       "      <td id=\"T_1a82d_row2_col2\" class=\"data row2 col2\" >3.47</td>\n",
       "      <td id=\"T_1a82d_row2_col3\" class=\"data row2 col3\" >44.75</td>\n",
       "    </tr>\n",
       "    <tr>\n",
       "      <th id=\"T_1a82d_level0_row3\" class=\"row_heading level0 row3\" >min</th>\n",
       "      <td id=\"T_1a82d_row3_col0\" class=\"data row3 col0\" >-8.76</td>\n",
       "      <td id=\"T_1a82d_row3_col1\" class=\"data row3 col1\" >-7.08</td>\n",
       "      <td id=\"T_1a82d_row3_col2\" class=\"data row3 col2\" >-11.97</td>\n",
       "      <td id=\"T_1a82d_row3_col3\" class=\"data row3 col3\" >0.00</td>\n",
       "    </tr>\n",
       "    <tr>\n",
       "      <th id=\"T_1a82d_level0_row4\" class=\"row_heading level0 row4\" >5%</th>\n",
       "      <td id=\"T_1a82d_row4_col0\" class=\"data row4 col0\" >-2.85</td>\n",
       "      <td id=\"T_1a82d_row4_col1\" class=\"data row4 col1\" >-2.84</td>\n",
       "      <td id=\"T_1a82d_row4_col2\" class=\"data row4 col2\" >-3.19</td>\n",
       "      <td id=\"T_1a82d_row4_col3\" class=\"data row4 col3\" >24.68</td>\n",
       "    </tr>\n",
       "    <tr>\n",
       "      <th id=\"T_1a82d_level0_row5\" class=\"row_heading level0 row5\" >10%</th>\n",
       "      <td id=\"T_1a82d_row5_col0\" class=\"data row5 col0\" >-2.22</td>\n",
       "      <td id=\"T_1a82d_row5_col1\" class=\"data row5 col1\" >-2.21</td>\n",
       "      <td id=\"T_1a82d_row5_col2\" class=\"data row5 col2\" >-1.97</td>\n",
       "      <td id=\"T_1a82d_row5_col3\" class=\"data row5 col3\" >34.59</td>\n",
       "    </tr>\n",
       "    <tr>\n",
       "      <th id=\"T_1a82d_level0_row6\" class=\"row_heading level0 row6\" >25%</th>\n",
       "      <td id=\"T_1a82d_row6_col0\" class=\"data row6 col0\" >-1.16</td>\n",
       "      <td id=\"T_1a82d_row6_col1\" class=\"data row6 col1\" >-1.17</td>\n",
       "      <td id=\"T_1a82d_row6_col2\" class=\"data row6 col2\" >0.13</td>\n",
       "      <td id=\"T_1a82d_row6_col3\" class=\"data row6 col3\" >59.45</td>\n",
       "    </tr>\n",
       "    <tr>\n",
       "      <th id=\"T_1a82d_level0_row7\" class=\"row_heading level0 row7\" >50%</th>\n",
       "      <td id=\"T_1a82d_row7_col0\" class=\"data row7 col0\" >0.01</td>\n",
       "      <td id=\"T_1a82d_row7_col1\" class=\"data row7 col1\" >-0.01</td>\n",
       "      <td id=\"T_1a82d_row7_col2\" class=\"data row7 col2\" >2.48</td>\n",
       "      <td id=\"T_1a82d_row7_col3\" class=\"data row7 col3\" >94.93</td>\n",
       "    </tr>\n",
       "    <tr>\n",
       "      <th id=\"T_1a82d_level0_row8\" class=\"row_heading level0 row8\" >75%</th>\n",
       "      <td id=\"T_1a82d_row8_col0\" class=\"data row8 col0\" >1.16</td>\n",
       "      <td id=\"T_1a82d_row8_col1\" class=\"data row8 col1\" >1.16</td>\n",
       "      <td id=\"T_1a82d_row8_col2\" class=\"data row8 col2\" >4.86</td>\n",
       "      <td id=\"T_1a82d_row8_col3\" class=\"data row8 col3\" >130.60</td>\n",
       "    </tr>\n",
       "    <tr>\n",
       "      <th id=\"T_1a82d_level0_row9\" class=\"row_heading level0 row9\" >90%</th>\n",
       "      <td id=\"T_1a82d_row9_col0\" class=\"data row9 col0\" >2.23</td>\n",
       "      <td id=\"T_1a82d_row9_col1\" class=\"data row9 col1\" >2.22</td>\n",
       "      <td id=\"T_1a82d_row9_col2\" class=\"data row9 col2\" >6.97</td>\n",
       "      <td id=\"T_1a82d_row9_col3\" class=\"data row9 col3\" >155.39</td>\n",
       "    </tr>\n",
       "    <tr>\n",
       "      <th id=\"T_1a82d_level0_row10\" class=\"row_heading level0 row10\" >95%</th>\n",
       "      <td id=\"T_1a82d_row10_col0\" class=\"data row10 col0\" >2.85</td>\n",
       "      <td id=\"T_1a82d_row10_col1\" class=\"data row10 col1\" >2.85</td>\n",
       "      <td id=\"T_1a82d_row10_col2\" class=\"data row10 col2\" >8.23</td>\n",
       "      <td id=\"T_1a82d_row10_col3\" class=\"data row10 col3\" >165.67</td>\n",
       "    </tr>\n",
       "    <tr>\n",
       "      <th id=\"T_1a82d_level0_row11\" class=\"row_heading level0 row11\" >max</th>\n",
       "      <td id=\"T_1a82d_row11_col0\" class=\"data row11 col0\" >7.24</td>\n",
       "      <td id=\"T_1a82d_row11_col1\" class=\"data row11 col1\" >7.84</td>\n",
       "      <td id=\"T_1a82d_row11_col2\" class=\"data row11 col2\" >16.74</td>\n",
       "      <td id=\"T_1a82d_row11_col3\" class=\"data row11 col3\" >190.03</td>\n",
       "    </tr>\n",
       "  </tbody>\n",
       "</table>\n"
      ],
      "text/plain": [
       "<pandas.io.formats.style.Styler at 0x787addcdfc40>"
      ]
     },
     "metadata": {},
     "output_type": "display_data"
    },
    {
     "name": "stdout",
     "output_type": "stream",
     "text": [
      "\n",
      "\n"
     ]
    },
    {
     "data": {
      "text/html": [
       "<style type=\"text/css\">\n",
       "#T_7f431 caption {\n",
       "  text-align: center;\n",
       "  font-size: 130%;\n",
       "  font-weight: bold;\n",
       "  white-space: pre-wrap;\n",
       "}\n",
       "#T_7f431 th {\n",
       "  max-width: 200px;\n",
       "}\n",
       "</style>\n",
       "<table id=\"T_7f431\" class=\"dataframe\">\n",
       "  <caption>Информация о строковых признаках.</caption>\n",
       "  <thead>\n",
       "    <tr>\n",
       "      <th class=\"blank level0\" >&nbsp;</th>\n",
       "      <th id=\"T_7f431_level0_col0\" class=\"col_heading level0 col0\" >id</th>\n",
       "    </tr>\n",
       "  </thead>\n",
       "  <tbody>\n",
       "    <tr>\n",
       "      <th id=\"T_7f431_level0_row0\" class=\"row_heading level0 row0\" >count</th>\n",
       "      <td id=\"T_7f431_row0_col0\" class=\"data row0 col0\" >100000</td>\n",
       "    </tr>\n",
       "    <tr>\n",
       "      <th id=\"T_7f431_level0_row1\" class=\"row_heading level0 row1\" >unique</th>\n",
       "      <td id=\"T_7f431_row1_col0\" class=\"data row1 col0\" >99996</td>\n",
       "    </tr>\n",
       "    <tr>\n",
       "      <th id=\"T_7f431_level0_row2\" class=\"row_heading level0 row2\" >top</th>\n",
       "      <td id=\"T_7f431_row2_col0\" class=\"data row2 col0\" >VF7Jo</td>\n",
       "    </tr>\n",
       "    <tr>\n",
       "      <th id=\"T_7f431_level0_row3\" class=\"row_heading level0 row3\" >freq</th>\n",
       "      <td id=\"T_7f431_row3_col0\" class=\"data row3 col0\" >2</td>\n",
       "    </tr>\n",
       "  </tbody>\n",
       "</table>\n"
      ],
      "text/plain": [
       "<pandas.io.formats.style.Styler at 0x787addcfb490>"
      ]
     },
     "metadata": {},
     "output_type": "display_data"
    },
    {
     "name": "stdout",
     "output_type": "stream",
     "text": [
      "\n",
      "\n"
     ]
    },
    {
     "data": {
      "text/html": [
       "<style type=\"text/css\">\n",
       "#T_36cc2 caption {\n",
       "  text-align: center;\n",
       "  font-size: 130%;\n",
       "  font-weight: bold;\n",
       "  white-space: pre-wrap;\n",
       "}\n",
       "#T_36cc2 th {\n",
       "  max-width: 200px;\n",
       "}\n",
       "#T_36cc2_row0_col0, #T_36cc2_row1_col1, #T_36cc2_row2_col2, #T_36cc2_row3_col3 {\n",
       "  background-color: #800026;\n",
       "  color: #f1f1f1;\n",
       "}\n",
       "#T_36cc2_row0_col1, #T_36cc2_row0_col2, #T_36cc2_row0_col3, #T_36cc2_row1_col0, #T_36cc2_row1_col2, #T_36cc2_row1_col3, #T_36cc2_row2_col0, #T_36cc2_row2_col1, #T_36cc2_row3_col0, #T_36cc2_row3_col1 {\n",
       "  background-color: #ffffcc;\n",
       "  color: #000000;\n",
       "}\n",
       "#T_36cc2_row2_col3, #T_36cc2_row3_col2 {\n",
       "  background-color: #fd9d43;\n",
       "  color: #000000;\n",
       "}\n",
       "</style>\n",
       "<table id=\"T_36cc2\" class=\"dataframe\">\n",
       "  <caption>Матрица корреляции.\n",
       "(Коэффициенты Пирсона.)</caption>\n",
       "  <thead>\n",
       "    <tr>\n",
       "      <th class=\"blank level0\" >&nbsp;</th>\n",
       "      <th id=\"T_36cc2_level0_col0\" class=\"col_heading level0 col0\" >f0</th>\n",
       "      <th id=\"T_36cc2_level0_col1\" class=\"col_heading level0 col1\" >f1</th>\n",
       "      <th id=\"T_36cc2_level0_col2\" class=\"col_heading level0 col2\" >f2</th>\n",
       "      <th id=\"T_36cc2_level0_col3\" class=\"col_heading level0 col3\" >product</th>\n",
       "    </tr>\n",
       "  </thead>\n",
       "  <tbody>\n",
       "    <tr>\n",
       "      <th id=\"T_36cc2_level0_row0\" class=\"row_heading level0 row0\" >f0</th>\n",
       "      <td id=\"T_36cc2_row0_col0\" class=\"data row0 col0\" >1.00</td>\n",
       "      <td id=\"T_36cc2_row0_col1\" class=\"data row0 col1\" >0.00</td>\n",
       "      <td id=\"T_36cc2_row0_col2\" class=\"data row0 col2\" >-0.00</td>\n",
       "      <td id=\"T_36cc2_row0_col3\" class=\"data row0 col3\" >-0.00</td>\n",
       "    </tr>\n",
       "    <tr>\n",
       "      <th id=\"T_36cc2_level0_row1\" class=\"row_heading level0 row1\" >f1</th>\n",
       "      <td id=\"T_36cc2_row1_col0\" class=\"data row1 col0\" >0.00</td>\n",
       "      <td id=\"T_36cc2_row1_col1\" class=\"data row1 col1\" >1.00</td>\n",
       "      <td id=\"T_36cc2_row1_col2\" class=\"data row1 col2\" >0.00</td>\n",
       "      <td id=\"T_36cc2_row1_col3\" class=\"data row1 col3\" >-0.00</td>\n",
       "    </tr>\n",
       "    <tr>\n",
       "      <th id=\"T_36cc2_level0_row2\" class=\"row_heading level0 row2\" >f2</th>\n",
       "      <td id=\"T_36cc2_row2_col0\" class=\"data row2 col0\" >-0.00</td>\n",
       "      <td id=\"T_36cc2_row2_col1\" class=\"data row2 col1\" >0.00</td>\n",
       "      <td id=\"T_36cc2_row2_col2\" class=\"data row2 col2\" >1.00</td>\n",
       "      <td id=\"T_36cc2_row2_col3\" class=\"data row2 col3\" >0.45</td>\n",
       "    </tr>\n",
       "    <tr>\n",
       "      <th id=\"T_36cc2_level0_row3\" class=\"row_heading level0 row3\" >product</th>\n",
       "      <td id=\"T_36cc2_row3_col0\" class=\"data row3 col0\" >-0.00</td>\n",
       "      <td id=\"T_36cc2_row3_col1\" class=\"data row3 col1\" >-0.00</td>\n",
       "      <td id=\"T_36cc2_row3_col2\" class=\"data row3 col2\" >0.45</td>\n",
       "      <td id=\"T_36cc2_row3_col3\" class=\"data row3 col3\" >1.00</td>\n",
       "    </tr>\n",
       "  </tbody>\n",
       "</table>\n"
      ],
      "text/plain": [
       "<pandas.io.formats.style.Styler at 0x787addc46320>"
      ]
     },
     "metadata": {},
     "output_type": "display_data"
    },
    {
     "name": "stdout",
     "output_type": "stream",
     "text": [
      "\n",
      "\n"
     ]
    },
    {
     "data": {
      "image/png": "[encoded data removed]",
      "text/plain": [
       "<Figure size 1500x500 with 2 Axes>"
      ]
     },
     "metadata": {},
     "output_type": "display_data"
    },
    {
     "data": {
      "image/png": "[encoded data removed]",
      "text/plain": [
       "<Figure size 1500x500 with 2 Axes>"
      ]
     },
     "metadata": {},
     "output_type": "display_data"
    },
    {
     "data": {
      "image/png": "[encoded data removed]",
      "text/plain": [
       "<Figure size 1500x500 with 2 Axes>"
      ]
     },
     "metadata": {},
     "output_type": "display_data"
    },
    {
     "data": {
      "image/png": "[encoded data removed]",
      "text/plain": [
       "<Figure size 1500x500 with 2 Axes>"
      ]
     },
     "metadata": {},
     "output_type": "display_data"
    },
    {
     "name": "stdout",
     "output_type": "stream",
     "text": [
      "~~~~~~~~~~~~~~~~~~~~~~~~~~~~~~~~~~~~~~~~~~~~~~~~~~~~~~~~~~~~~~~~~~~~~~\n"
     ]
    }
   ],
   "source": [
    "# Вызовем функции и выведем информацию и графики.\n",
    "i = 0\n",
    "for df in [geo_data_0, geo_data_1, geo_data_2]:\n",
    "    get_eda_data(df, f'Регион {i}')\n",
    "    get_eda_info(df.drop(columns='id'))\n",
    "    print('~' * 70)\n",
    "    i += 1"
   ]
  },
  {
   "cell_type": "markdown",
   "metadata": {
    "id": "sp9vgXjA7Cpi"
   },
   "source": [
    "- Дополнительно проверим верность оценки корреляции коэффициентом Кендалла, который более устойчив к выбросам и различным видам распределений."
   ]
  },
  {
   "cell_type": "code",
   "execution_count": null,
   "metadata": {
    "colab": {
     "base_uri": "https://localhost:8080/",
     "height": 729
    },
    "executionInfo": {
     "elapsed": 623,
     "status": "ok",
     "timestamp": 1689483284959,
     "user": {
      "displayName": "S K",
      "userId": "16311672911204145470"
     },
     "user_tz": -180
    },
    "id": "Gp7R_GZ_xcJB",
    "outputId": "44b2805b-bdcd-4f6e-a575-30ed7f416721"
   },
   "outputs": [
    {
     "data": {
      "text/html": [
       "<style type=\"text/css\">\n",
       "#T_1cbb6 caption {\n",
       "  text-align: center;\n",
       "  font-size: 130%;\n",
       "  font-weight: bold;\n",
       "  white-space: pre-wrap;\n",
       "}\n",
       "#T_1cbb6 th {\n",
       "  max-width: 200px;\n",
       "}\n",
       "#T_1cbb6_row0_col0, #T_1cbb6_row1_col1, #T_1cbb6_row2_col2, #T_1cbb6_row3_col3 {\n",
       "  background-color: #800026;\n",
       "  color: #f1f1f1;\n",
       "}\n",
       "#T_1cbb6_row0_col1, #T_1cbb6_row0_col2, #T_1cbb6_row1_col0, #T_1cbb6_row1_col2, #T_1cbb6_row1_col3 {\n",
       "  background-color: #ffffcc;\n",
       "  color: #000000;\n",
       "}\n",
       "#T_1cbb6_row0_col3 {\n",
       "  background-color: #ffe48c;\n",
       "  color: #000000;\n",
       "}\n",
       "#T_1cbb6_row2_col0 {\n",
       "  background-color: #fede80;\n",
       "  color: #000000;\n",
       "}\n",
       "#T_1cbb6_row2_col1 {\n",
       "  background-color: #fedd7f;\n",
       "  color: #000000;\n",
       "}\n",
       "#T_1cbb6_row2_col3 {\n",
       "  background-color: #fea948;\n",
       "  color: #000000;\n",
       "}\n",
       "#T_1cbb6_row3_col0 {\n",
       "  background-color: #fece6a;\n",
       "  color: #000000;\n",
       "}\n",
       "#T_1cbb6_row3_col1 {\n",
       "  background-color: #ffeda0;\n",
       "  color: #000000;\n",
       "}\n",
       "#T_1cbb6_row3_col2 {\n",
       "  background-color: #febf5a;\n",
       "  color: #000000;\n",
       "}\n",
       "</style>\n",
       "<table id=\"T_1cbb6\">\n",
       "  <caption>Матрица корреляции. \n",
       " Коэффициенты Кендалла.</caption>\n",
       "  <thead>\n",
       "    <tr>\n",
       "      <th class=\"blank level0\" >&nbsp;</th>\n",
       "      <th id=\"T_1cbb6_level0_col0\" class=\"col_heading level0 col0\" >f0</th>\n",
       "      <th id=\"T_1cbb6_level0_col1\" class=\"col_heading level0 col1\" >f1</th>\n",
       "      <th id=\"T_1cbb6_level0_col2\" class=\"col_heading level0 col2\" >f2</th>\n",
       "      <th id=\"T_1cbb6_level0_col3\" class=\"col_heading level0 col3\" >product</th>\n",
       "    </tr>\n",
       "  </thead>\n",
       "  <tbody>\n",
       "    <tr>\n",
       "      <th id=\"T_1cbb6_level0_row0\" class=\"row_heading level0 row0\" >f0</th>\n",
       "      <td id=\"T_1cbb6_row0_col0\" class=\"data row0 col0\" >1.00</td>\n",
       "      <td id=\"T_1cbb6_row0_col1\" class=\"data row0 col1\" >-0.29</td>\n",
       "      <td id=\"T_1cbb6_row0_col2\" class=\"data row0 col2\" >-0.00</td>\n",
       "      <td id=\"T_1cbb6_row0_col3\" class=\"data row0 col3\" >0.09</td>\n",
       "    </tr>\n",
       "    <tr>\n",
       "      <th id=\"T_1cbb6_level0_row1\" class=\"row_heading level0 row1\" >f1</th>\n",
       "      <td id=\"T_1cbb6_row1_col0\" class=\"data row1 col0\" >-0.29</td>\n",
       "      <td id=\"T_1cbb6_row1_col1\" class=\"data row1 col1\" >1.00</td>\n",
       "      <td id=\"T_1cbb6_row1_col2\" class=\"data row1 col2\" >0.00</td>\n",
       "      <td id=\"T_1cbb6_row1_col3\" class=\"data row1 col3\" >-0.12</td>\n",
       "    </tr>\n",
       "    <tr>\n",
       "      <th id=\"T_1cbb6_level0_row2\" class=\"row_heading level0 row2\" >f2</th>\n",
       "      <td id=\"T_1cbb6_row2_col0\" class=\"data row2 col0\" >-0.00</td>\n",
       "      <td id=\"T_1cbb6_row2_col1\" class=\"data row2 col1\" >0.00</td>\n",
       "      <td id=\"T_1cbb6_row2_col2\" class=\"data row2 col2\" >1.00</td>\n",
       "      <td id=\"T_1cbb6_row2_col3\" class=\"data row2 col3\" >0.33</td>\n",
       "    </tr>\n",
       "    <tr>\n",
       "      <th id=\"T_1cbb6_level0_row3\" class=\"row_heading level0 row3\" >product</th>\n",
       "      <td id=\"T_1cbb6_row3_col0\" class=\"data row3 col0\" >0.09</td>\n",
       "      <td id=\"T_1cbb6_row3_col1\" class=\"data row3 col1\" >-0.12</td>\n",
       "      <td id=\"T_1cbb6_row3_col2\" class=\"data row3 col2\" >0.33</td>\n",
       "      <td id=\"T_1cbb6_row3_col3\" class=\"data row3 col3\" >1.00</td>\n",
       "    </tr>\n",
       "  </tbody>\n",
       "</table>\n"
      ],
      "text/plain": [
       "<pandas.io.formats.style.Styler at 0x1a279d74610>"
      ]
     },
     "metadata": {},
     "output_type": "display_data"
    },
    {
     "name": "stdout",
     "output_type": "stream",
     "text": [
      "\n",
      "\n"
     ]
    },
    {
     "data": {
      "text/html": [
       "<style type=\"text/css\">\n",
       "#T_2bb12 caption {\n",
       "  text-align: center;\n",
       "  font-size: 130%;\n",
       "  font-weight: bold;\n",
       "  white-space: pre-wrap;\n",
       "}\n",
       "#T_2bb12 th {\n",
       "  max-width: 200px;\n",
       "}\n",
       "#T_2bb12_row0_col0, #T_2bb12_row1_col1, #T_2bb12_row2_col2, #T_2bb12_row3_col3 {\n",
       "  background-color: #800026;\n",
       "  color: #f1f1f1;\n",
       "}\n",
       "#T_2bb12_row0_col1 {\n",
       "  background-color: #ffea9b;\n",
       "  color: #000000;\n",
       "}\n",
       "#T_2bb12_row0_col2, #T_2bb12_row0_col3, #T_2bb12_row1_col2, #T_2bb12_row3_col0, #T_2bb12_row3_col1 {\n",
       "  background-color: #ffffcc;\n",
       "  color: #000000;\n",
       "}\n",
       "#T_2bb12_row1_col0 {\n",
       "  background-color: #fee38b;\n",
       "  color: #000000;\n",
       "}\n",
       "#T_2bb12_row1_col3 {\n",
       "  background-color: #fff7b9;\n",
       "  color: #000000;\n",
       "}\n",
       "#T_2bb12_row2_col0 {\n",
       "  background-color: #fff4b2;\n",
       "  color: #000000;\n",
       "}\n",
       "#T_2bb12_row2_col1 {\n",
       "  background-color: #fffcc5;\n",
       "  color: #000000;\n",
       "}\n",
       "#T_2bb12_row2_col3 {\n",
       "  background-color: #b90026;\n",
       "  color: #f1f1f1;\n",
       "}\n",
       "#T_2bb12_row3_col2 {\n",
       "  background-color: #be0126;\n",
       "  color: #f1f1f1;\n",
       "}\n",
       "</style>\n",
       "<table id=\"T_2bb12\">\n",
       "  <caption>Матрица корреляции. \n",
       " Коэффициенты Кендалла.</caption>\n",
       "  <thead>\n",
       "    <tr>\n",
       "      <th class=\"blank level0\" >&nbsp;</th>\n",
       "      <th id=\"T_2bb12_level0_col0\" class=\"col_heading level0 col0\" >f0</th>\n",
       "      <th id=\"T_2bb12_level0_col1\" class=\"col_heading level0 col1\" >f1</th>\n",
       "      <th id=\"T_2bb12_level0_col2\" class=\"col_heading level0 col2\" >f2</th>\n",
       "      <th id=\"T_2bb12_level0_col3\" class=\"col_heading level0 col3\" >product</th>\n",
       "    </tr>\n",
       "  </thead>\n",
       "  <tbody>\n",
       "    <tr>\n",
       "      <th id=\"T_2bb12_level0_row0\" class=\"row_heading level0 row0\" >f0</th>\n",
       "      <td id=\"T_2bb12_row0_col0\" class=\"data row0 col0\" >1.00</td>\n",
       "      <td id=\"T_2bb12_row0_col1\" class=\"data row0 col1\" >0.12</td>\n",
       "      <td id=\"T_2bb12_row0_col2\" class=\"data row0 col2\" >-0.00</td>\n",
       "      <td id=\"T_2bb12_row0_col3\" class=\"data row0 col3\" >-0.09</td>\n",
       "    </tr>\n",
       "    <tr>\n",
       "      <th id=\"T_2bb12_level0_row1\" class=\"row_heading level0 row1\" >f1</th>\n",
       "      <td id=\"T_2bb12_row1_col0\" class=\"data row1 col0\" >0.12</td>\n",
       "      <td id=\"T_2bb12_row1_col1\" class=\"data row1 col1\" >1.00</td>\n",
       "      <td id=\"T_2bb12_row1_col2\" class=\"data row1 col2\" >-0.00</td>\n",
       "      <td id=\"T_2bb12_row1_col3\" class=\"data row1 col3\" >-0.02</td>\n",
       "    </tr>\n",
       "    <tr>\n",
       "      <th id=\"T_2bb12_level0_row2\" class=\"row_heading level0 row2\" >f2</th>\n",
       "      <td id=\"T_2bb12_row2_col0\" class=\"data row2 col0\" >-0.00</td>\n",
       "      <td id=\"T_2bb12_row2_col1\" class=\"data row2 col1\" >-0.00</td>\n",
       "      <td id=\"T_2bb12_row2_col2\" class=\"data row2 col2\" >1.00</td>\n",
       "      <td id=\"T_2bb12_row2_col3\" class=\"data row2 col3\" >0.87</td>\n",
       "    </tr>\n",
       "    <tr>\n",
       "      <th id=\"T_2bb12_level0_row3\" class=\"row_heading level0 row3\" >product</th>\n",
       "      <td id=\"T_2bb12_row3_col0\" class=\"data row3 col0\" >-0.09</td>\n",
       "      <td id=\"T_2bb12_row3_col1\" class=\"data row3 col1\" >-0.02</td>\n",
       "      <td id=\"T_2bb12_row3_col2\" class=\"data row3 col2\" >0.87</td>\n",
       "      <td id=\"T_2bb12_row3_col3\" class=\"data row3 col3\" >1.00</td>\n",
       "    </tr>\n",
       "  </tbody>\n",
       "</table>\n"
      ],
      "text/plain": [
       "<pandas.io.formats.style.Styler at 0x1a279d74610>"
      ]
     },
     "metadata": {},
     "output_type": "display_data"
    },
    {
     "name": "stdout",
     "output_type": "stream",
     "text": [
      "\n",
      "\n"
     ]
    },
    {
     "data": {
      "text/html": [
       "<style type=\"text/css\">\n",
       "#T_6e487 caption {\n",
       "  text-align: center;\n",
       "  font-size: 130%;\n",
       "  font-weight: bold;\n",
       "  white-space: pre-wrap;\n",
       "}\n",
       "#T_6e487 th {\n",
       "  max-width: 200px;\n",
       "}\n",
       "#T_6e487_row0_col0, #T_6e487_row1_col1, #T_6e487_row2_col2, #T_6e487_row3_col3 {\n",
       "  background-color: #800026;\n",
       "  color: #f1f1f1;\n",
       "}\n",
       "#T_6e487_row0_col1, #T_6e487_row0_col2, #T_6e487_row0_col3, #T_6e487_row1_col0, #T_6e487_row1_col2, #T_6e487_row1_col3, #T_6e487_row2_col0, #T_6e487_row2_col1, #T_6e487_row3_col0, #T_6e487_row3_col1 {\n",
       "  background-color: #ffffcc;\n",
       "  color: #000000;\n",
       "}\n",
       "#T_6e487_row2_col3, #T_6e487_row3_col2 {\n",
       "  background-color: #fec863;\n",
       "  color: #000000;\n",
       "}\n",
       "</style>\n",
       "<table id=\"T_6e487\">\n",
       "  <caption>Матрица корреляции. \n",
       " Коэффициенты Кендалла.</caption>\n",
       "  <thead>\n",
       "    <tr>\n",
       "      <th class=\"blank level0\" >&nbsp;</th>\n",
       "      <th id=\"T_6e487_level0_col0\" class=\"col_heading level0 col0\" >f0</th>\n",
       "      <th id=\"T_6e487_level0_col1\" class=\"col_heading level0 col1\" >f1</th>\n",
       "      <th id=\"T_6e487_level0_col2\" class=\"col_heading level0 col2\" >f2</th>\n",
       "      <th id=\"T_6e487_level0_col3\" class=\"col_heading level0 col3\" >product</th>\n",
       "    </tr>\n",
       "  </thead>\n",
       "  <tbody>\n",
       "    <tr>\n",
       "      <th id=\"T_6e487_level0_row0\" class=\"row_heading level0 row0\" >f0</th>\n",
       "      <td id=\"T_6e487_row0_col0\" class=\"data row0 col0\" >1.00</td>\n",
       "      <td id=\"T_6e487_row0_col1\" class=\"data row0 col1\" >0.00</td>\n",
       "      <td id=\"T_6e487_row0_col2\" class=\"data row0 col2\" >0.00</td>\n",
       "      <td id=\"T_6e487_row0_col3\" class=\"data row0 col3\" >-0.00</td>\n",
       "    </tr>\n",
       "    <tr>\n",
       "      <th id=\"T_6e487_level0_row1\" class=\"row_heading level0 row1\" >f1</th>\n",
       "      <td id=\"T_6e487_row1_col0\" class=\"data row1 col0\" >0.00</td>\n",
       "      <td id=\"T_6e487_row1_col1\" class=\"data row1 col1\" >1.00</td>\n",
       "      <td id=\"T_6e487_row1_col2\" class=\"data row1 col2\" >0.00</td>\n",
       "      <td id=\"T_6e487_row1_col3\" class=\"data row1 col3\" >-0.00</td>\n",
       "    </tr>\n",
       "    <tr>\n",
       "      <th id=\"T_6e487_level0_row2\" class=\"row_heading level0 row2\" >f2</th>\n",
       "      <td id=\"T_6e487_row2_col0\" class=\"data row2 col0\" >0.00</td>\n",
       "      <td id=\"T_6e487_row2_col1\" class=\"data row2 col1\" >0.00</td>\n",
       "      <td id=\"T_6e487_row2_col2\" class=\"data row2 col2\" >1.00</td>\n",
       "      <td id=\"T_6e487_row2_col3\" class=\"data row2 col3\" >0.30</td>\n",
       "    </tr>\n",
       "    <tr>\n",
       "      <th id=\"T_6e487_level0_row3\" class=\"row_heading level0 row3\" >product</th>\n",
       "      <td id=\"T_6e487_row3_col0\" class=\"data row3 col0\" >-0.00</td>\n",
       "      <td id=\"T_6e487_row3_col1\" class=\"data row3 col1\" >-0.00</td>\n",
       "      <td id=\"T_6e487_row3_col2\" class=\"data row3 col2\" >0.30</td>\n",
       "      <td id=\"T_6e487_row3_col3\" class=\"data row3 col3\" >1.00</td>\n",
       "    </tr>\n",
       "  </tbody>\n",
       "</table>\n"
      ],
      "text/plain": [
       "<pandas.io.formats.style.Styler at 0x1a279d74610>"
      ]
     },
     "metadata": {},
     "output_type": "display_data"
    },
    {
     "name": "stdout",
     "output_type": "stream",
     "text": [
      "\n",
      "\n"
     ]
    }
   ],
   "source": [
    "# Проверим верность оценки корреляции коэффициентом Кендалла.\n",
    "for df in [geo_data_0, geo_data_1, geo_data_2]:\n",
    "    display(\n",
    "        df\n",
    "        .corr('kendall', numeric_only=True)\n",
    "        .style\n",
    "        .background_gradient(cmap='YlOrRd')\n",
    "        .format(precision=2)\n",
    "        .set_caption('Матрица корреляции. \\n Коэффициенты Кендалла.')\n",
    "        .set_table_styles(styles)\n",
    "        )\n",
    "    print('\\n')"
   ]
  },
  {
   "cell_type": "markdown",
   "metadata": {
    "id": "XR9YIZSM4oLM"
   },
   "source": [
    "- Дополнительно выведем точную оценку корреляции Пирсона предиктора `f2` и целевого признака `product` \"Региона 1\" `geo_data_1`."
   ]
  },
  {
   "cell_type": "code",
   "execution_count": null,
   "metadata": {
    "colab": {
     "base_uri": "https://localhost:8080/"
    },
    "executionInfo": {
     "elapsed": 5,
     "status": "ok",
     "timestamp": 1689483284960,
     "user": {
      "displayName": "S K",
      "userId": "16311672911204145470"
     },
     "user_tz": -180
    },
    "id": "rG_cwco745Cf",
    "outputId": "3de52c66-a489-4dac-9ebf-341301757e0a"
   },
   "outputs": [
    {
     "name": "stdout",
     "output_type": "stream",
     "text": [
      "Коэфф. корреляции Пирсона признаков \"f2\" и \"product\" Региона 1: 0.999397.\n"
     ]
    }
   ],
   "source": [
    "print('Коэфф. корреляции Пирсона признаков \"f2\" и \"product\" Региона 1: ' +\n",
    "      f\"{geo_data_1['f2'].corr(geo_data_1['product']):.6f}.\")"
   ]
  },
  {
   "cell_type": "markdown",
   "metadata": {
    "id": "qzvngUYQMlR5"
   },
   "source": [
    "### Общая информация о данных. Выводы.\n",
    "#### Информация о составе датафреймов.\n",
    "- Каждый из трёх наборов данных представлен четырьмя непрерывными количественными признаками, один из которых целевой, и одним номинативным - идентификатором скважины. <br>\n",
    "- Исключение составляет набор данных по \"Региону 1\", файл `geo_data_1`, в котором значения признака `f2` и целевого `product`, возможно, были сгенерированы один из другого и, в связи с этим, представляются дискретными. <br>\n",
    "\n",
    "#### Признаки.\n",
    "- Предикторы:\n",
    "  - `f0`, `f1`, `f2`;\n",
    "- Целевой признак:\n",
    "  - `product`.\n",
    "- Дополнительные:\n",
    "  - `id` - идентификатор скважины:<br>\n",
    "  Т.к. конкретные скважины в рамках данной работы не важны и идентификаторы не несут информации для обучения моделей, удалим уникальные идентификаторы `id` скважин после предобработки.\n",
    "\n",
    "#### Задача построения модели.\n",
    "- Задача построения предиктивной модели сводится к линейной регрессии, \"обучению с учителем\", т.к.:\n",
    "  - Целевой признак определён.\n",
    "  - Тип целевого признака: количественный, непрерывный.\n",
    "\n",
    "#### Пропуски в данных.\n",
    "- Пропусков в данных не обнаружено.\n",
    "- Т.к. нулевых значений в данных немного, оставим их без изменений.\n",
    "\n",
    "#### Аномалии в данных.\n",
    "- Т.к. аномальных значений в данных ничтожно мало, оставим их без изменений.\n",
    "\n",
    "#### Дубликаты в данных.\n",
    "  - Явных дубликатов в данных не обнаружено.\n",
    "  - В данных обнаружены дубликаты в уникальных идентификаторах скважин - `id`:\n",
    "    - Регион 0: 10 дубликатов;\n",
    "    - Регион 1: 4 дубликата;\n",
    "    - Регион 2: 4 дубликата.<br>\n",
    "    \n",
    "    Объекты с дубликатами необходимо обработать.\n",
    "\n",
    "#### Распределения признаков.\n",
    "  - `Регион 0`:\n",
    "    - Признаки `f0`, `f1` и `product` распределены мультимодально.\n",
    "    - Признак `f2` распределен приближенно нормально с небольшим кол-вом аномальных значений.\n",
    "  - `Регион 1`:\n",
    "    - Признак `f0` распределен бимодально.\n",
    "    - Признак `f1` распределен нормально.\n",
    "    - Признаки `f2` и `product` распределены равномерно.\n",
    "  - `Регион 2`:\n",
    "    - Признаки `f0`, `f1` и `f2` распределены приближенно нормально с небольшими кол-вами аномальных значений.\n",
    "    - Признак `product` распределен мультимодально.<br>\n",
    "\n",
    "    Признаки необходимо смасштабировать.\n",
    "\n",
    "#### Корреляция признаков / мультиколлинеарность.\n",
    "  - `Регион 0`:\n",
    "    - Заметна слабая корреляция признаков `f0` и `f1`.\n",
    "    - Заметна корреляция всех признаков с целевым.\n",
    "    - Наиболее сильно коррелирует с целевым признак `f2`.\n",
    "  - `Регион 1`:\n",
    "    - Заметна слабая корреляция признаков `f0` и `f1`.\n",
    "    - Заметна почти полная корреляция признака `f2` и целевого `product`, что еще раз косвенно указывает на синтетическую природу значений одного из или обоих признаков. В данном случае, т.к. один предиктор полностью объясняет целевой признак, `r^2` квадрат коеффициента корреляции Пирсона будет равен `R^2` коэффициенту детерминации, и оба значения будут приближенно равны `1`.\n",
    "  - `Регион 2`:\n",
    "    - Заметна слабая корреляция признака `f2` и целевого `product`.\n"
   ]
  },
  {
   "cell_type": "markdown",
   "metadata": {
    "id": "rDd45_eahZn0"
   },
   "source": [
    "## Предобработка данных."
   ]
  },
  {
   "cell_type": "markdown",
   "metadata": {
    "id": "o2q-jzYqkKaO"
   },
   "source": [
    "### Обработка дубликатов.\n",
    "Выведем объекты с дубликатами в идентификаторе `id`."
   ]
  },
  {
   "cell_type": "code",
   "execution_count": null,
   "metadata": {
    "colab": {
     "base_uri": "https://localhost:8080/",
     "height": 1000
    },
    "executionInfo": {
     "elapsed": 378,
     "status": "ok",
     "timestamp": 1689483285334,
     "user": {
      "displayName": "S K",
      "userId": "16311672911204145470"
     },
     "user_tz": -180
    },
    "id": "9fCW1I6jLabT",
    "outputId": "18ceb652-f8fa-43f0-bfef-e61f11e2b2d6"
   },
   "outputs": [
    {
     "name": "stdout",
     "output_type": "stream",
     "text": [
      "\u001b[1mРегион 0:\u001b[0m\n"
     ]
    },
    {
     "data": {
      "text/html": [
       "<div>\n",
       "<style scoped>\n",
       "    .dataframe tbody tr th:only-of-type {\n",
       "        vertical-align: middle;\n",
       "    }\n",
       "\n",
       "    .dataframe tbody tr th {\n",
       "        vertical-align: top;\n",
       "    }\n",
       "\n",
       "    .dataframe thead th {\n",
       "        text-align: right;\n",
       "    }\n",
       "</style>\n",
       "<table border=\"1\" class=\"dataframe\">\n",
       "  <thead>\n",
       "    <tr style=\"text-align: right;\">\n",
       "      <th></th>\n",
       "      <th>id</th>\n",
       "      <th>f0</th>\n",
       "      <th>f1</th>\n",
       "      <th>f2</th>\n",
       "      <th>product</th>\n",
       "    </tr>\n",
       "  </thead>\n",
       "  <tbody>\n",
       "    <tr>\n",
       "      <th>66136</th>\n",
       "      <td>74z30</td>\n",
       "      <td>1.084962</td>\n",
       "      <td>-0.312358</td>\n",
       "      <td>6.990771</td>\n",
       "      <td>127.643327</td>\n",
       "    </tr>\n",
       "    <tr>\n",
       "      <th>64022</th>\n",
       "      <td>74z30</td>\n",
       "      <td>0.741456</td>\n",
       "      <td>0.459229</td>\n",
       "      <td>5.153109</td>\n",
       "      <td>140.771492</td>\n",
       "    </tr>\n",
       "    <tr>\n",
       "      <th>51970</th>\n",
       "      <td>A5aEY</td>\n",
       "      <td>-0.180335</td>\n",
       "      <td>0.935548</td>\n",
       "      <td>-2.094773</td>\n",
       "      <td>33.020205</td>\n",
       "    </tr>\n",
       "    <tr>\n",
       "      <th>3389</th>\n",
       "      <td>A5aEY</td>\n",
       "      <td>-0.039949</td>\n",
       "      <td>0.156872</td>\n",
       "      <td>0.209861</td>\n",
       "      <td>89.249364</td>\n",
       "    </tr>\n",
       "    <tr>\n",
       "      <th>69163</th>\n",
       "      <td>AGS9W</td>\n",
       "      <td>-0.933795</td>\n",
       "      <td>0.116194</td>\n",
       "      <td>-3.655896</td>\n",
       "      <td>19.230453</td>\n",
       "    </tr>\n",
       "    <tr>\n",
       "      <th>42529</th>\n",
       "      <td>AGS9W</td>\n",
       "      <td>1.454747</td>\n",
       "      <td>-0.479651</td>\n",
       "      <td>0.683380</td>\n",
       "      <td>126.370504</td>\n",
       "    </tr>\n",
       "    <tr>\n",
       "      <th>931</th>\n",
       "      <td>HZww2</td>\n",
       "      <td>0.755284</td>\n",
       "      <td>0.368511</td>\n",
       "      <td>1.863211</td>\n",
       "      <td>30.681774</td>\n",
       "    </tr>\n",
       "    <tr>\n",
       "      <th>7530</th>\n",
       "      <td>HZww2</td>\n",
       "      <td>1.061194</td>\n",
       "      <td>-0.373969</td>\n",
       "      <td>10.430210</td>\n",
       "      <td>158.828695</td>\n",
       "    </tr>\n",
       "    <tr>\n",
       "      <th>63593</th>\n",
       "      <td>QcMuo</td>\n",
       "      <td>0.635635</td>\n",
       "      <td>-0.473422</td>\n",
       "      <td>0.862670</td>\n",
       "      <td>64.578675</td>\n",
       "    </tr>\n",
       "    <tr>\n",
       "      <th>1949</th>\n",
       "      <td>QcMuo</td>\n",
       "      <td>0.506563</td>\n",
       "      <td>-0.323775</td>\n",
       "      <td>-2.215583</td>\n",
       "      <td>75.496502</td>\n",
       "    </tr>\n",
       "    <tr>\n",
       "      <th>75715</th>\n",
       "      <td>Tdehs</td>\n",
       "      <td>0.112079</td>\n",
       "      <td>0.430296</td>\n",
       "      <td>3.218993</td>\n",
       "      <td>60.964018</td>\n",
       "    </tr>\n",
       "    <tr>\n",
       "      <th>21426</th>\n",
       "      <td>Tdehs</td>\n",
       "      <td>0.829407</td>\n",
       "      <td>0.298807</td>\n",
       "      <td>-0.049563</td>\n",
       "      <td>96.035308</td>\n",
       "    </tr>\n",
       "    <tr>\n",
       "      <th>92341</th>\n",
       "      <td>TtcGQ</td>\n",
       "      <td>0.110711</td>\n",
       "      <td>1.022689</td>\n",
       "      <td>0.911381</td>\n",
       "      <td>101.318008</td>\n",
       "    </tr>\n",
       "    <tr>\n",
       "      <th>60140</th>\n",
       "      <td>TtcGQ</td>\n",
       "      <td>0.569276</td>\n",
       "      <td>-0.104876</td>\n",
       "      <td>6.440215</td>\n",
       "      <td>85.350186</td>\n",
       "    </tr>\n",
       "    <tr>\n",
       "      <th>89582</th>\n",
       "      <td>bsk9y</td>\n",
       "      <td>0.398908</td>\n",
       "      <td>-0.400253</td>\n",
       "      <td>10.122376</td>\n",
       "      <td>163.433078</td>\n",
       "    </tr>\n",
       "    <tr>\n",
       "      <th>97785</th>\n",
       "      <td>bsk9y</td>\n",
       "      <td>0.378429</td>\n",
       "      <td>0.005837</td>\n",
       "      <td>0.160827</td>\n",
       "      <td>160.637302</td>\n",
       "    </tr>\n",
       "    <tr>\n",
       "      <th>41724</th>\n",
       "      <td>bxg6G</td>\n",
       "      <td>-0.823752</td>\n",
       "      <td>0.546319</td>\n",
       "      <td>3.630479</td>\n",
       "      <td>93.007798</td>\n",
       "    </tr>\n",
       "    <tr>\n",
       "      <th>1364</th>\n",
       "      <td>bxg6G</td>\n",
       "      <td>0.411645</td>\n",
       "      <td>0.856830</td>\n",
       "      <td>-3.653440</td>\n",
       "      <td>73.604260</td>\n",
       "    </tr>\n",
       "    <tr>\n",
       "      <th>16633</th>\n",
       "      <td>fiKDv</td>\n",
       "      <td>0.157341</td>\n",
       "      <td>1.028359</td>\n",
       "      <td>5.585586</td>\n",
       "      <td>95.817889</td>\n",
       "    </tr>\n",
       "    <tr>\n",
       "      <th>90815</th>\n",
       "      <td>fiKDv</td>\n",
       "      <td>0.049883</td>\n",
       "      <td>0.841313</td>\n",
       "      <td>6.394613</td>\n",
       "      <td>137.346586</td>\n",
       "    </tr>\n",
       "  </tbody>\n",
       "</table>\n",
       "</div>"
      ],
      "text/plain": [
       "          id        f0        f1         f2     product\n",
       "66136  74z30  1.084962 -0.312358   6.990771  127.643327\n",
       "64022  74z30  0.741456  0.459229   5.153109  140.771492\n",
       "51970  A5aEY -0.180335  0.935548  -2.094773   33.020205\n",
       "3389   A5aEY -0.039949  0.156872   0.209861   89.249364\n",
       "69163  AGS9W -0.933795  0.116194  -3.655896   19.230453\n",
       "42529  AGS9W  1.454747 -0.479651   0.683380  126.370504\n",
       "931    HZww2  0.755284  0.368511   1.863211   30.681774\n",
       "7530   HZww2  1.061194 -0.373969  10.430210  158.828695\n",
       "63593  QcMuo  0.635635 -0.473422   0.862670   64.578675\n",
       "1949   QcMuo  0.506563 -0.323775  -2.215583   75.496502\n",
       "75715  Tdehs  0.112079  0.430296   3.218993   60.964018\n",
       "21426  Tdehs  0.829407  0.298807  -0.049563   96.035308\n",
       "92341  TtcGQ  0.110711  1.022689   0.911381  101.318008\n",
       "60140  TtcGQ  0.569276 -0.104876   6.440215   85.350186\n",
       "89582  bsk9y  0.398908 -0.400253  10.122376  163.433078\n",
       "97785  bsk9y  0.378429  0.005837   0.160827  160.637302\n",
       "41724  bxg6G -0.823752  0.546319   3.630479   93.007798\n",
       "1364   bxg6G  0.411645  0.856830  -3.653440   73.604260\n",
       "16633  fiKDv  0.157341  1.028359   5.585586   95.817889\n",
       "90815  fiKDv  0.049883  0.841313   6.394613  137.346586"
      ]
     },
     "metadata": {},
     "output_type": "display_data"
    },
    {
     "name": "stdout",
     "output_type": "stream",
     "text": [
      "~~~~~~~~~~~~~~~~~~~~~~~~~~~~~~~~~~~~~~~~~~~~~~~~~~~~~~~~~~~~~~~~~~~~~~\n",
      "\u001b[1mРегион 1:\u001b[0m\n"
     ]
    },
    {
     "data": {
      "text/html": [
       "<div>\n",
       "<style scoped>\n",
       "    .dataframe tbody tr th:only-of-type {\n",
       "        vertical-align: middle;\n",
       "    }\n",
       "\n",
       "    .dataframe tbody tr th {\n",
       "        vertical-align: top;\n",
       "    }\n",
       "\n",
       "    .dataframe thead th {\n",
       "        text-align: right;\n",
       "    }\n",
       "</style>\n",
       "<table border=\"1\" class=\"dataframe\">\n",
       "  <thead>\n",
       "    <tr style=\"text-align: right;\">\n",
       "      <th></th>\n",
       "      <th>id</th>\n",
       "      <th>f0</th>\n",
       "      <th>f1</th>\n",
       "      <th>f2</th>\n",
       "      <th>product</th>\n",
       "    </tr>\n",
       "  </thead>\n",
       "  <tbody>\n",
       "    <tr>\n",
       "      <th>5849</th>\n",
       "      <td>5ltQ6</td>\n",
       "      <td>-3.435401</td>\n",
       "      <td>-12.296043</td>\n",
       "      <td>1.999796</td>\n",
       "      <td>57.085625</td>\n",
       "    </tr>\n",
       "    <tr>\n",
       "      <th>84461</th>\n",
       "      <td>5ltQ6</td>\n",
       "      <td>18.213839</td>\n",
       "      <td>2.191999</td>\n",
       "      <td>3.993869</td>\n",
       "      <td>107.813044</td>\n",
       "    </tr>\n",
       "    <tr>\n",
       "      <th>1305</th>\n",
       "      <td>LHZR0</td>\n",
       "      <td>11.170835</td>\n",
       "      <td>-1.945066</td>\n",
       "      <td>3.002872</td>\n",
       "      <td>80.859783</td>\n",
       "    </tr>\n",
       "    <tr>\n",
       "      <th>41906</th>\n",
       "      <td>LHZR0</td>\n",
       "      <td>-8.989672</td>\n",
       "      <td>-4.286607</td>\n",
       "      <td>2.009139</td>\n",
       "      <td>57.085625</td>\n",
       "    </tr>\n",
       "    <tr>\n",
       "      <th>2721</th>\n",
       "      <td>bfPNe</td>\n",
       "      <td>-9.494442</td>\n",
       "      <td>-5.463692</td>\n",
       "      <td>4.006042</td>\n",
       "      <td>110.992147</td>\n",
       "    </tr>\n",
       "    <tr>\n",
       "      <th>82178</th>\n",
       "      <td>bfPNe</td>\n",
       "      <td>-6.202799</td>\n",
       "      <td>-4.820045</td>\n",
       "      <td>2.995107</td>\n",
       "      <td>84.038886</td>\n",
       "    </tr>\n",
       "    <tr>\n",
       "      <th>47591</th>\n",
       "      <td>wt4Uk</td>\n",
       "      <td>-9.091098</td>\n",
       "      <td>-8.109279</td>\n",
       "      <td>-0.002314</td>\n",
       "      <td>3.179103</td>\n",
       "    </tr>\n",
       "    <tr>\n",
       "      <th>82873</th>\n",
       "      <td>wt4Uk</td>\n",
       "      <td>10.259972</td>\n",
       "      <td>-9.376355</td>\n",
       "      <td>4.994297</td>\n",
       "      <td>134.766305</td>\n",
       "    </tr>\n",
       "  </tbody>\n",
       "</table>\n",
       "</div>"
      ],
      "text/plain": [
       "          id         f0         f1        f2     product\n",
       "5849   5ltQ6  -3.435401 -12.296043  1.999796   57.085625\n",
       "84461  5ltQ6  18.213839   2.191999  3.993869  107.813044\n",
       "1305   LHZR0  11.170835  -1.945066  3.002872   80.859783\n",
       "41906  LHZR0  -8.989672  -4.286607  2.009139   57.085625\n",
       "2721   bfPNe  -9.494442  -5.463692  4.006042  110.992147\n",
       "82178  bfPNe  -6.202799  -4.820045  2.995107   84.038886\n",
       "47591  wt4Uk  -9.091098  -8.109279 -0.002314    3.179103\n",
       "82873  wt4Uk  10.259972  -9.376355  4.994297  134.766305"
      ]
     },
     "metadata": {},
     "output_type": "display_data"
    },
    {
     "name": "stdout",
     "output_type": "stream",
     "text": [
      "~~~~~~~~~~~~~~~~~~~~~~~~~~~~~~~~~~~~~~~~~~~~~~~~~~~~~~~~~~~~~~~~~~~~~~\n",
      "\u001b[1mРегион 2:\u001b[0m\n"
     ]
    },
    {
     "data": {
      "text/html": [
       "<div>\n",
       "<style scoped>\n",
       "    .dataframe tbody tr th:only-of-type {\n",
       "        vertical-align: middle;\n",
       "    }\n",
       "\n",
       "    .dataframe tbody tr th {\n",
       "        vertical-align: top;\n",
       "    }\n",
       "\n",
       "    .dataframe thead th {\n",
       "        text-align: right;\n",
       "    }\n",
       "</style>\n",
       "<table border=\"1\" class=\"dataframe\">\n",
       "  <thead>\n",
       "    <tr style=\"text-align: right;\">\n",
       "      <th></th>\n",
       "      <th>id</th>\n",
       "      <th>f0</th>\n",
       "      <th>f1</th>\n",
       "      <th>f2</th>\n",
       "      <th>product</th>\n",
       "    </tr>\n",
       "  </thead>\n",
       "  <tbody>\n",
       "    <tr>\n",
       "      <th>45404</th>\n",
       "      <td>KUPhW</td>\n",
       "      <td>0.231846</td>\n",
       "      <td>-1.698941</td>\n",
       "      <td>4.990775</td>\n",
       "      <td>11.716299</td>\n",
       "    </tr>\n",
       "    <tr>\n",
       "      <th>55967</th>\n",
       "      <td>KUPhW</td>\n",
       "      <td>1.211150</td>\n",
       "      <td>3.176408</td>\n",
       "      <td>5.543540</td>\n",
       "      <td>132.831802</td>\n",
       "    </tr>\n",
       "    <tr>\n",
       "      <th>11449</th>\n",
       "      <td>VF7Jo</td>\n",
       "      <td>2.122656</td>\n",
       "      <td>-0.858275</td>\n",
       "      <td>5.746001</td>\n",
       "      <td>181.716817</td>\n",
       "    </tr>\n",
       "    <tr>\n",
       "      <th>49564</th>\n",
       "      <td>VF7Jo</td>\n",
       "      <td>-0.883115</td>\n",
       "      <td>0.560537</td>\n",
       "      <td>0.723601</td>\n",
       "      <td>136.233420</td>\n",
       "    </tr>\n",
       "    <tr>\n",
       "      <th>44378</th>\n",
       "      <td>Vcm5J</td>\n",
       "      <td>-1.229484</td>\n",
       "      <td>-2.439204</td>\n",
       "      <td>1.222909</td>\n",
       "      <td>137.968290</td>\n",
       "    </tr>\n",
       "    <tr>\n",
       "      <th>95090</th>\n",
       "      <td>Vcm5J</td>\n",
       "      <td>2.587702</td>\n",
       "      <td>1.986875</td>\n",
       "      <td>2.482245</td>\n",
       "      <td>92.327572</td>\n",
       "    </tr>\n",
       "    <tr>\n",
       "      <th>28039</th>\n",
       "      <td>xCHr8</td>\n",
       "      <td>1.633027</td>\n",
       "      <td>0.368135</td>\n",
       "      <td>-2.378367</td>\n",
       "      <td>6.120525</td>\n",
       "    </tr>\n",
       "    <tr>\n",
       "      <th>43233</th>\n",
       "      <td>xCHr8</td>\n",
       "      <td>-0.847066</td>\n",
       "      <td>2.101796</td>\n",
       "      <td>5.597130</td>\n",
       "      <td>184.388641</td>\n",
       "    </tr>\n",
       "  </tbody>\n",
       "</table>\n",
       "</div>"
      ],
      "text/plain": [
       "          id        f0        f1        f2     product\n",
       "45404  KUPhW  0.231846 -1.698941  4.990775   11.716299\n",
       "55967  KUPhW  1.211150  3.176408  5.543540  132.831802\n",
       "11449  VF7Jo  2.122656 -0.858275  5.746001  181.716817\n",
       "49564  VF7Jo -0.883115  0.560537  0.723601  136.233420\n",
       "44378  Vcm5J -1.229484 -2.439204  1.222909  137.968290\n",
       "95090  Vcm5J  2.587702  1.986875  2.482245   92.327572\n",
       "28039  xCHr8  1.633027  0.368135 -2.378367    6.120525\n",
       "43233  xCHr8 -0.847066  2.101796  5.597130  184.388641"
      ]
     },
     "metadata": {},
     "output_type": "display_data"
    },
    {
     "name": "stdout",
     "output_type": "stream",
     "text": [
      "~~~~~~~~~~~~~~~~~~~~~~~~~~~~~~~~~~~~~~~~~~~~~~~~~~~~~~~~~~~~~~~~~~~~~~\n"
     ]
    }
   ],
   "source": [
    "# Выведем объекты с дубликатами в идентификаторе id.\n",
    "i = 0\n",
    "for df in [geo_data_0, geo_data_1, geo_data_2]:\n",
    "    print(f'\\033[1mРегион {i}:\\033[0m')\n",
    "    display(df.loc[df['id'].duplicated(keep=False)].sort_values(by='id'))\n",
    "    print('~' * 70)\n",
    "    i += 1"
   ]
  },
  {
   "cell_type": "markdown",
   "metadata": {
    "id": "Xam935gckq6I"
   },
   "source": [
    "#### Удаление дубликатов.\n",
    "Т.к. идентификаторы скважин должны быть уникальнымии, объектов с дубликатами `id` относительно мало - 0.01% от кол-ва объектов и менее, а природу дубликатов установить невозможно, во избежание учёта\n",
    "ошибочно введённых данных удалим оригиналы и дубликаты объектов с дублированными идентификаторами `id` и сбросим индексы.<br>\n",
    "Проверим результат."
   ]
  },
  {
   "cell_type": "code",
   "execution_count": null,
   "metadata": {
    "colab": {
     "base_uri": "https://localhost:8080/"
    },
    "executionInfo": {
     "elapsed": 8,
     "status": "ok",
     "timestamp": 1689483285334,
     "user": {
      "displayName": "S K",
      "userId": "16311672911204145470"
     },
     "user_tz": -180
    },
    "id": "qBPtOxTFkreO",
    "outputId": "68b9c35d-23e8-4fa7-f44d-7d8a7ca8a5e2"
   },
   "outputs": [
    {
     "name": "stdout",
     "output_type": "stream",
     "text": [
      "\u001b[1m \n",
      "Из датафрейма \"geo_data_0\" удален(о) 20 объект(ов).\u001b[0m\n",
      "\n",
      "Информация о составе изменённого датафрейма:\n",
      "<class 'pandas.core.frame.DataFrame'>\n",
      "RangeIndex: 99980 entries, 0 to 99979\n",
      "Data columns (total 5 columns):\n",
      " #   Column   Non-Null Count  Dtype  \n",
      "---  ------   --------------  -----  \n",
      " 0   id       99980 non-null  object \n",
      " 1   f0       99980 non-null  float64\n",
      " 2   f1       99980 non-null  float64\n",
      " 3   f2       99980 non-null  float64\n",
      " 4   product  99980 non-null  float64\n",
      "dtypes: float64(4), object(1)\n",
      "memory usage: 3.8+ MB\n",
      "~~~~~~~~~~~~~~~~~~~~~~~~~~~~~~~~~~~~~~~~~~~~~~~~~~~~~~~~~~~~~~~~~~~~~~\n",
      "\u001b[1m \n",
      "Из датафрейма \"geo_data_1\" удален(о) 8 объект(ов).\u001b[0m\n",
      "\n",
      "Информация о составе изменённого датафрейма:\n",
      "<class 'pandas.core.frame.DataFrame'>\n",
      "RangeIndex: 99992 entries, 0 to 99991\n",
      "Data columns (total 5 columns):\n",
      " #   Column   Non-Null Count  Dtype  \n",
      "---  ------   --------------  -----  \n",
      " 0   id       99992 non-null  object \n",
      " 1   f0       99992 non-null  float64\n",
      " 2   f1       99992 non-null  float64\n",
      " 3   f2       99992 non-null  float64\n",
      " 4   product  99992 non-null  float64\n",
      "dtypes: float64(4), object(1)\n",
      "memory usage: 3.8+ MB\n",
      "~~~~~~~~~~~~~~~~~~~~~~~~~~~~~~~~~~~~~~~~~~~~~~~~~~~~~~~~~~~~~~~~~~~~~~\n",
      "\u001b[1m \n",
      "Из датафрейма \"geo_data_2\" удален(о) 8 объект(ов).\u001b[0m\n",
      "\n",
      "Информация о составе изменённого датафрейма:\n",
      "<class 'pandas.core.frame.DataFrame'>\n",
      "RangeIndex: 99992 entries, 0 to 99991\n",
      "Data columns (total 5 columns):\n",
      " #   Column   Non-Null Count  Dtype  \n",
      "---  ------   --------------  -----  \n",
      " 0   id       99992 non-null  object \n",
      " 1   f0       99992 non-null  float64\n",
      " 2   f1       99992 non-null  float64\n",
      " 3   f2       99992 non-null  float64\n",
      " 4   product  99992 non-null  float64\n",
      "dtypes: float64(4), object(1)\n",
      "memory usage: 3.8+ MB\n",
      "~~~~~~~~~~~~~~~~~~~~~~~~~~~~~~~~~~~~~~~~~~~~~~~~~~~~~~~~~~~~~~~~~~~~~~\n"
     ]
    }
   ],
   "source": [
    "# Удалим объекты с дубликатами идентификатора id и проверим результат.\n",
    "i = 0\n",
    "for df in [geo_data_0, geo_data_1, geo_data_2]:\n",
    "    orig_shape = df.shape[0]\n",
    "    df.drop_duplicates(subset='id', keep=False, inplace=True)\n",
    "    df.reset_index(drop=True, inplace=True)\n",
    "    print(f'\\033[1m \\nИз датафрейма \"geo_data_{i}\" удален(о)' +\n",
    "          f' {orig_shape - df.shape[0]} объект(ов).\\033[0m\\n')\n",
    "    print('Информация о составе изменённого датафрейма:')\n",
    "    df.info()\n",
    "    print('~' * 70)\n",
    "    i += 1"
   ]
  },
  {
   "cell_type": "markdown",
   "metadata": {
    "id": "LhU0SGv6zKw1"
   },
   "source": [
    "### Удаление неинформативного признака.\n",
    "Т.к. конкретные скважины в рамках данной работы не важны и идентификаторы не несут информации для обучения моделей, удалим уникальные идентификаторы скважин."
   ]
  },
  {
   "cell_type": "code",
   "execution_count": null,
   "metadata": {
    "colab": {
     "base_uri": "https://localhost:8080/"
    },
    "executionInfo": {
     "elapsed": 358,
     "status": "ok",
     "timestamp": 1689483285686,
     "user": {
      "displayName": "S K",
      "userId": "16311672911204145470"
     },
     "user_tz": -180
    },
    "id": "Bl8kcwDT0Aae",
    "outputId": "798bddb3-ed72-4500-e747-6a38c782da2e"
   },
   "outputs": [
    {
     "name": "stdout",
     "output_type": "stream",
     "text": [
      "\u001b[1mИнформация о составе изменённого датафрейма Регион 0:\u001b[0m\n",
      "\n",
      "<class 'pandas.core.frame.DataFrame'>\n",
      "RangeIndex: 99980 entries, 0 to 99979\n",
      "Data columns (total 4 columns):\n",
      " #   Column   Non-Null Count  Dtype  \n",
      "---  ------   --------------  -----  \n",
      " 0   f0       99980 non-null  float64\n",
      " 1   f1       99980 non-null  float64\n",
      " 2   f2       99980 non-null  float64\n",
      " 3   product  99980 non-null  float64\n",
      "dtypes: float64(4)\n",
      "memory usage: 3.1 MB\n",
      "~~~~~~~~~~~~~~~~~~~~~~~~~~~~~~~~~~~~~~~~~~~~~~~~~~~~~~~~~~~~~~~~~~~~~~\n",
      "\u001b[1mИнформация о составе изменённого датафрейма Регион 1:\u001b[0m\n",
      "\n",
      "<class 'pandas.core.frame.DataFrame'>\n",
      "RangeIndex: 99992 entries, 0 to 99991\n",
      "Data columns (total 4 columns):\n",
      " #   Column   Non-Null Count  Dtype  \n",
      "---  ------   --------------  -----  \n",
      " 0   f0       99992 non-null  float64\n",
      " 1   f1       99992 non-null  float64\n",
      " 2   f2       99992 non-null  float64\n",
      " 3   product  99992 non-null  float64\n",
      "dtypes: float64(4)\n",
      "memory usage: 3.1 MB\n",
      "~~~~~~~~~~~~~~~~~~~~~~~~~~~~~~~~~~~~~~~~~~~~~~~~~~~~~~~~~~~~~~~~~~~~~~\n",
      "\u001b[1mИнформация о составе изменённого датафрейма Регион 2:\u001b[0m\n",
      "\n",
      "<class 'pandas.core.frame.DataFrame'>\n",
      "RangeIndex: 99992 entries, 0 to 99991\n",
      "Data columns (total 4 columns):\n",
      " #   Column   Non-Null Count  Dtype  \n",
      "---  ------   --------------  -----  \n",
      " 0   f0       99992 non-null  float64\n",
      " 1   f1       99992 non-null  float64\n",
      " 2   f2       99992 non-null  float64\n",
      " 3   product  99992 non-null  float64\n",
      "dtypes: float64(4)\n",
      "memory usage: 3.1 MB\n",
      "~~~~~~~~~~~~~~~~~~~~~~~~~~~~~~~~~~~~~~~~~~~~~~~~~~~~~~~~~~~~~~~~~~~~~~\n"
     ]
    }
   ],
   "source": [
    "# Удалим уникальные идентификаторы скважин.\n",
    "i = 0\n",
    "for df in [geo_data_0, geo_data_1, geo_data_2]:\n",
    "    df.drop('id', axis=1, inplace=True)\n",
    "    print(f'\\033[1mИнформация о составе изменённого датафрейма Регион {i}:' +\n",
    "          '\\033[0m\\n')\n",
    "    df.info()\n",
    "    print('~' * 70)\n",
    "    i += 1"
   ]
  },
  {
   "cell_type": "markdown",
   "metadata": {
    "id": "xEkQ5V3_590o"
   },
   "source": [
    "### Предобработка данных. Выводы.\n",
    "- Были удалены дубликаты и оригиналы объектов с повторяющимися `id`.\n",
    "- Был удалён признак с уникальными идентификаторами скважин `id`."
   ]
  },
  {
   "cell_type": "markdown",
   "metadata": {
    "id": "f5W1SvpIvXu4"
   },
   "source": [
    "## Обучение и проверка модели."
   ]
  },
  {
   "cell_type": "markdown",
   "metadata": {
    "id": "8foTnZJlkhtn"
   },
   "source": [
    "### Создание функции.\n",
    "Создадим функцию которая:\n",
    "- Примет\n",
    "  - датафрейм;\n",
    "  - название целевого признака;\n",
    "  - долю валидационной выборки.\n",
    "- Разделит данные на выборки с выводом размерностей для проверки.\n",
    "- Смасштабирует признаки и обучит модель.\n",
    "- Выдаст\n",
    "  - предсказания и правильные ответы на валидационной выборке;\n",
    "  - средний запас предсказанного сырья для региона;\n",
    "  - RMSE модели;\n",
    "  - R2 коэффициент детерминации."
   ]
  },
  {
   "cell_type": "code",
   "execution_count": null,
   "metadata": {
    "colab": {
     "base_uri": "https://localhost:8080/",
     "height": 423
    },
    "executionInfo": {
     "elapsed": 9,
     "status": "ok",
     "timestamp": 1689483285687,
     "user": {
      "displayName": "S K",
      "userId": "16311672911204145470"
     },
     "user_tz": -180
    },
    "id": "C0pFilQCCCew",
    "outputId": "4e1c799a-dae6-420f-fbc9-202f4f6981a2"
   },
   "outputs": [
    {
     "data": {
      "text/html": [
       "<div>\n",
       "<style scoped>\n",
       "    .dataframe tbody tr th:only-of-type {\n",
       "        vertical-align: middle;\n",
       "    }\n",
       "\n",
       "    .dataframe tbody tr th {\n",
       "        vertical-align: top;\n",
       "    }\n",
       "\n",
       "    .dataframe thead th {\n",
       "        text-align: right;\n",
       "    }\n",
       "</style>\n",
       "<table border=\"1\" class=\"dataframe\">\n",
       "  <thead>\n",
       "    <tr style=\"text-align: right;\">\n",
       "      <th></th>\n",
       "      <th>f0</th>\n",
       "      <th>f1</th>\n",
       "      <th>f2</th>\n",
       "      <th>product</th>\n",
       "    </tr>\n",
       "  </thead>\n",
       "  <tbody>\n",
       "    <tr>\n",
       "      <th>0</th>\n",
       "      <td>0.705745</td>\n",
       "      <td>-0.497823</td>\n",
       "      <td>1.221170</td>\n",
       "      <td>105.280062</td>\n",
       "    </tr>\n",
       "    <tr>\n",
       "      <th>1</th>\n",
       "      <td>1.334711</td>\n",
       "      <td>-0.340164</td>\n",
       "      <td>4.365080</td>\n",
       "      <td>73.037750</td>\n",
       "    </tr>\n",
       "    <tr>\n",
       "      <th>2</th>\n",
       "      <td>1.022732</td>\n",
       "      <td>0.151990</td>\n",
       "      <td>1.419926</td>\n",
       "      <td>85.265647</td>\n",
       "    </tr>\n",
       "    <tr>\n",
       "      <th>3</th>\n",
       "      <td>-0.032172</td>\n",
       "      <td>0.139033</td>\n",
       "      <td>2.978566</td>\n",
       "      <td>168.620776</td>\n",
       "    </tr>\n",
       "    <tr>\n",
       "      <th>4</th>\n",
       "      <td>1.988431</td>\n",
       "      <td>0.155413</td>\n",
       "      <td>4.751769</td>\n",
       "      <td>154.036647</td>\n",
       "    </tr>\n",
       "    <tr>\n",
       "      <th>...</th>\n",
       "      <td>...</td>\n",
       "      <td>...</td>\n",
       "      <td>...</td>\n",
       "      <td>...</td>\n",
       "    </tr>\n",
       "    <tr>\n",
       "      <th>99975</th>\n",
       "      <td>0.971957</td>\n",
       "      <td>0.370953</td>\n",
       "      <td>6.075346</td>\n",
       "      <td>110.744026</td>\n",
       "    </tr>\n",
       "    <tr>\n",
       "      <th>99976</th>\n",
       "      <td>1.392429</td>\n",
       "      <td>-0.382606</td>\n",
       "      <td>1.273912</td>\n",
       "      <td>122.346843</td>\n",
       "    </tr>\n",
       "    <tr>\n",
       "      <th>99977</th>\n",
       "      <td>1.029585</td>\n",
       "      <td>0.018787</td>\n",
       "      <td>-1.348308</td>\n",
       "      <td>64.375443</td>\n",
       "    </tr>\n",
       "    <tr>\n",
       "      <th>99978</th>\n",
       "      <td>0.998163</td>\n",
       "      <td>-0.528582</td>\n",
       "      <td>1.583869</td>\n",
       "      <td>74.040764</td>\n",
       "    </tr>\n",
       "    <tr>\n",
       "      <th>99979</th>\n",
       "      <td>1.764754</td>\n",
       "      <td>-0.266417</td>\n",
       "      <td>5.722849</td>\n",
       "      <td>149.633246</td>\n",
       "    </tr>\n",
       "  </tbody>\n",
       "</table>\n",
       "<p>99980 rows × 4 columns</p>\n",
       "</div>"
      ],
      "text/plain": [
       "             f0        f1        f2     product\n",
       "0      0.705745 -0.497823  1.221170  105.280062\n",
       "1      1.334711 -0.340164  4.365080   73.037750\n",
       "2      1.022732  0.151990  1.419926   85.265647\n",
       "3     -0.032172  0.139033  2.978566  168.620776\n",
       "4      1.988431  0.155413  4.751769  154.036647\n",
       "...         ...       ...       ...         ...\n",
       "99975  0.971957  0.370953  6.075346  110.744026\n",
       "99976  1.392429 -0.382606  1.273912  122.346843\n",
       "99977  1.029585  0.018787 -1.348308   64.375443\n",
       "99978  0.998163 -0.528582  1.583869   74.040764\n",
       "99979  1.764754 -0.266417  5.722849  149.633246\n",
       "\n",
       "[99980 rows x 4 columns]"
      ]
     },
     "execution_count": 15,
     "metadata": {},
     "output_type": "execute_result"
    }
   ],
   "source": [
    "geo_data_0"
   ]
  },
  {
   "cell_type": "code",
   "execution_count": null,
   "metadata": {
    "id": "BHGJkrSTIojT"
   },
   "outputs": [],
   "source": [
    "# Функция вывода валидационных ответов, предсказаний, RMSE.\n",
    "def split_scale_pred(df=pd.DataFrame, target=str, test_size=float,\n",
    "                     model_name=LinearRegression, scaler_name=StandardScaler):\n",
    "\n",
    "    X_train, X_val, y_train, y_val = (\n",
    "        train_test_split(df.drop(target, axis=1),\n",
    "                         df[target],\n",
    "                         test_size=test_size,\n",
    "                         random_state=seed)\n",
    "        )\n",
    "\n",
    "    # Выведем размерности и проценты результирующих выборок.\n",
    "    display(\n",
    "        pd.DataFrame(\n",
    "            index=['Исходный датафрейм',\n",
    "                   'Обучающая выборка',\n",
    "                   'Валидационная выборка'],\n",
    "            columns=['Предикторы',\n",
    "                     'Целевой признак',\n",
    "                     'Процент от общего количества объектов'],\n",
    "            data=[[df.drop(target, axis=1).shape, df[target].shape[0], '100%'],\n",
    "                  [X_train.shape, y_train.shape[0],\n",
    "                   f'{y_train.shape[0] / df[target].shape[0]:.1%}'],\n",
    "                  [X_val.shape, y_val.shape[0],\n",
    "                   f'{y_val.shape[0] / df[target].shape[0]:.1%}']]\n",
    "            )\n",
    "        .style\n",
    "        .set_caption(f'Размерности выборок после разделения.')\n",
    "        .set_table_styles(styles)\n",
    "        )\n",
    "\n",
    "    print('\\n')\n",
    "\n",
    "    # Смасштабируем данные, обучим модель.\n",
    "    model = Pipeline(steps=[('Стандартизация.', scaler_name()),\n",
    "                            ('Линейная регрессия.', model_name())])\n",
    "    model.fit(X_train, y_train)\n",
    "\n",
    "    # Получим предикт и вычислим оценки модели.\n",
    "    y_preds = pd.Series(model.predict(X_val))\n",
    "    y_true = y_val.reset_index(drop=True)\n",
    "    rmse = mean_squared_error(y_val, y_preds, squared=False)\n",
    "    r2 = r2_score(y_val, y_preds)\n",
    "\n",
    "    # Выведем оценки модели и другие параметры.\n",
    "    display(pd.DataFrame(\n",
    "        index=['Значение:'],\n",
    "        data={'Средний запас предсказанного сырья:' : f'{y_preds.mean():.2f}',\n",
    "              'Разница между суммарными реальным и предск. запасами в %:' :\n",
    "              f'{abs((y_preds.sum() - y_val.sum())/y_val.sum()):.2%}',\n",
    "              'RMSE модели:' : f'{rmse:.2f}',\n",
    "              'R2 коэфф. детерминации' : f'{r2:.2f}'}\n",
    "        )\n",
    "    .style\n",
    "    .set_caption('Валидационная выборка.')\n",
    "    .set_table_styles(styles)\n",
    "    )\n",
    "\n",
    "    return y_true, y_preds"
   ]
  },
  {
   "cell_type": "markdown",
   "metadata": {
    "id": "P72Bq16LaiPX"
   },
   "source": [
    "### Обучение и проверка модели.\n",
    "- Вызовем функцию и\n",
    "  - разделим данные на выборки в соотношении 75:25;\n",
    "  - смасштабируем признаки;\n",
    "  - обучим модель, сохранив предсказания и правильные ответы на валидационной выборке и RMSE модели;\n",
    "  - выведем средний запас предсказанного сырья для региона и RMSE модели;\n",
    "  - сохраним предсказания и правильные ответы на валидационной выборке."
   ]
  },
  {
   "cell_type": "code",
   "execution_count": null,
   "metadata": {
    "colab": {
     "base_uri": "https://localhost:8080/",
     "height": 1000
    },
    "executionInfo": {
     "elapsed": 9,
     "status": "ok",
     "timestamp": 1689483285688,
     "user": {
      "displayName": "S K",
      "userId": "16311672911204145470"
     },
     "user_tz": -180
    },
    "id": "H0dGY1xYOlsg",
    "outputId": "211dd912-4081-481f-c4b9-f519b5a2f73e"
   },
   "outputs": [
    {
     "name": "stdout",
     "output_type": "stream",
     "text": [
      "\n",
      "\u001b[1m\u001b[4mРегион 0:\u001b[0m\n",
      "\n"
     ]
    },
    {
     "data": {
      "text/html": [
       "<style type=\"text/css\">\n",
       "#T_467c0 caption {\n",
       "  text-align: center;\n",
       "  font-size: 130%;\n",
       "  font-weight: bold;\n",
       "  white-space: pre-wrap;\n",
       "}\n",
       "#T_467c0 th {\n",
       "  max-width: 200px;\n",
       "}\n",
       "</style>\n",
       "<table id=\"T_467c0\">\n",
       "  <caption>Размерности выборок после разделения.</caption>\n",
       "  <thead>\n",
       "    <tr>\n",
       "      <th class=\"blank level0\" >&nbsp;</th>\n",
       "      <th id=\"T_467c0_level0_col0\" class=\"col_heading level0 col0\" >Предикторы</th>\n",
       "      <th id=\"T_467c0_level0_col1\" class=\"col_heading level0 col1\" >Целевой признак</th>\n",
       "      <th id=\"T_467c0_level0_col2\" class=\"col_heading level0 col2\" >Процент от общего количества объектов</th>\n",
       "    </tr>\n",
       "  </thead>\n",
       "  <tbody>\n",
       "    <tr>\n",
       "      <th id=\"T_467c0_level0_row0\" class=\"row_heading level0 row0\" >Исходный датафрейм</th>\n",
       "      <td id=\"T_467c0_row0_col0\" class=\"data row0 col0\" >(99980, 3)</td>\n",
       "      <td id=\"T_467c0_row0_col1\" class=\"data row0 col1\" >99980</td>\n",
       "      <td id=\"T_467c0_row0_col2\" class=\"data row0 col2\" >100%</td>\n",
       "    </tr>\n",
       "    <tr>\n",
       "      <th id=\"T_467c0_level0_row1\" class=\"row_heading level0 row1\" >Обучающая выборка</th>\n",
       "      <td id=\"T_467c0_row1_col0\" class=\"data row1 col0\" >(74985, 3)</td>\n",
       "      <td id=\"T_467c0_row1_col1\" class=\"data row1 col1\" >74985</td>\n",
       "      <td id=\"T_467c0_row1_col2\" class=\"data row1 col2\" >75.0%</td>\n",
       "    </tr>\n",
       "    <tr>\n",
       "      <th id=\"T_467c0_level0_row2\" class=\"row_heading level0 row2\" >Валидационная выборка</th>\n",
       "      <td id=\"T_467c0_row2_col0\" class=\"data row2 col0\" >(24995, 3)</td>\n",
       "      <td id=\"T_467c0_row2_col1\" class=\"data row2 col1\" >24995</td>\n",
       "      <td id=\"T_467c0_row2_col2\" class=\"data row2 col2\" >25.0%</td>\n",
       "    </tr>\n",
       "  </tbody>\n",
       "</table>\n"
      ],
      "text/plain": [
       "<pandas.io.formats.style.Styler at 0x1a202c968f0>"
      ]
     },
     "metadata": {},
     "output_type": "display_data"
    },
    {
     "name": "stdout",
     "output_type": "stream",
     "text": [
      "\n",
      "\n"
     ]
    },
    {
     "data": {
      "text/html": [
       "<style type=\"text/css\">\n",
       "#T_ae580 caption {\n",
       "  text-align: center;\n",
       "  font-size: 130%;\n",
       "  font-weight: bold;\n",
       "  white-space: pre-wrap;\n",
       "}\n",
       "#T_ae580 th {\n",
       "  max-width: 200px;\n",
       "}\n",
       "</style>\n",
       "<table id=\"T_ae580\">\n",
       "  <caption>Валидационная выборка.</caption>\n",
       "  <thead>\n",
       "    <tr>\n",
       "      <th class=\"blank level0\" >&nbsp;</th>\n",
       "      <th id=\"T_ae580_level0_col0\" class=\"col_heading level0 col0\" >Средний запас предсказанного сырья:</th>\n",
       "      <th id=\"T_ae580_level0_col1\" class=\"col_heading level0 col1\" >Разница между суммарными реальным и предск. запасами в %:</th>\n",
       "      <th id=\"T_ae580_level0_col2\" class=\"col_heading level0 col2\" >RMSE модели:</th>\n",
       "      <th id=\"T_ae580_level0_col3\" class=\"col_heading level0 col3\" >R2 коэфф. детерминации</th>\n",
       "    </tr>\n",
       "  </thead>\n",
       "  <tbody>\n",
       "    <tr>\n",
       "      <th id=\"T_ae580_level0_row0\" class=\"row_heading level0 row0\" >Значение:</th>\n",
       "      <td id=\"T_ae580_row0_col0\" class=\"data row0 col0\" >92.29</td>\n",
       "      <td id=\"T_ae580_row0_col1\" class=\"data row0 col1\" >0.10%</td>\n",
       "      <td id=\"T_ae580_row0_col2\" class=\"data row0 col2\" >37.76</td>\n",
       "      <td id=\"T_ae580_row0_col3\" class=\"data row0 col3\" >0.27</td>\n",
       "    </tr>\n",
       "  </tbody>\n",
       "</table>\n"
      ],
      "text/plain": [
       "<pandas.io.formats.style.Styler at 0x1a202c95090>"
      ]
     },
     "metadata": {},
     "output_type": "display_data"
    },
    {
     "name": "stdout",
     "output_type": "stream",
     "text": [
      "\n",
      "\n",
      "Реальный и предсказанный запасы сырья сохранены в переменные \"y0_true\" и \"y0_pred\" соответственно.\n",
      "~~~~~~~~~~~~~~~~~~~~~~~~~~~~~~~~~~~~~~~~~~~~~~~~~~~~~~~~~~~~~~~~~~~~~~\n",
      "\n",
      "\u001b[1m\u001b[4mРегион 1:\u001b[0m\n",
      "\n"
     ]
    },
    {
     "data": {
      "text/html": [
       "<style type=\"text/css\">\n",
       "#T_53b78 caption {\n",
       "  text-align: center;\n",
       "  font-size: 130%;\n",
       "  font-weight: bold;\n",
       "  white-space: pre-wrap;\n",
       "}\n",
       "#T_53b78 th {\n",
       "  max-width: 200px;\n",
       "}\n",
       "</style>\n",
       "<table id=\"T_53b78\">\n",
       "  <caption>Размерности выборок после разделения.</caption>\n",
       "  <thead>\n",
       "    <tr>\n",
       "      <th class=\"blank level0\" >&nbsp;</th>\n",
       "      <th id=\"T_53b78_level0_col0\" class=\"col_heading level0 col0\" >Предикторы</th>\n",
       "      <th id=\"T_53b78_level0_col1\" class=\"col_heading level0 col1\" >Целевой признак</th>\n",
       "      <th id=\"T_53b78_level0_col2\" class=\"col_heading level0 col2\" >Процент от общего количества объектов</th>\n",
       "    </tr>\n",
       "  </thead>\n",
       "  <tbody>\n",
       "    <tr>\n",
       "      <th id=\"T_53b78_level0_row0\" class=\"row_heading level0 row0\" >Исходный датафрейм</th>\n",
       "      <td id=\"T_53b78_row0_col0\" class=\"data row0 col0\" >(99992, 3)</td>\n",
       "      <td id=\"T_53b78_row0_col1\" class=\"data row0 col1\" >99992</td>\n",
       "      <td id=\"T_53b78_row0_col2\" class=\"data row0 col2\" >100%</td>\n",
       "    </tr>\n",
       "    <tr>\n",
       "      <th id=\"T_53b78_level0_row1\" class=\"row_heading level0 row1\" >Обучающая выборка</th>\n",
       "      <td id=\"T_53b78_row1_col0\" class=\"data row1 col0\" >(74994, 3)</td>\n",
       "      <td id=\"T_53b78_row1_col1\" class=\"data row1 col1\" >74994</td>\n",
       "      <td id=\"T_53b78_row1_col2\" class=\"data row1 col2\" >75.0%</td>\n",
       "    </tr>\n",
       "    <tr>\n",
       "      <th id=\"T_53b78_level0_row2\" class=\"row_heading level0 row2\" >Валидационная выборка</th>\n",
       "      <td id=\"T_53b78_row2_col0\" class=\"data row2 col0\" >(24998, 3)</td>\n",
       "      <td id=\"T_53b78_row2_col1\" class=\"data row2 col1\" >24998</td>\n",
       "      <td id=\"T_53b78_row2_col2\" class=\"data row2 col2\" >25.0%</td>\n",
       "    </tr>\n",
       "  </tbody>\n",
       "</table>\n"
      ],
      "text/plain": [
       "<pandas.io.formats.style.Styler at 0x1a202c94ca0>"
      ]
     },
     "metadata": {},
     "output_type": "display_data"
    },
    {
     "name": "stdout",
     "output_type": "stream",
     "text": [
      "\n",
      "\n"
     ]
    },
    {
     "data": {
      "text/html": [
       "<style type=\"text/css\">\n",
       "#T_3fe9e caption {\n",
       "  text-align: center;\n",
       "  font-size: 130%;\n",
       "  font-weight: bold;\n",
       "  white-space: pre-wrap;\n",
       "}\n",
       "#T_3fe9e th {\n",
       "  max-width: 200px;\n",
       "}\n",
       "</style>\n",
       "<table id=\"T_3fe9e\">\n",
       "  <caption>Валидационная выборка.</caption>\n",
       "  <thead>\n",
       "    <tr>\n",
       "      <th class=\"blank level0\" >&nbsp;</th>\n",
       "      <th id=\"T_3fe9e_level0_col0\" class=\"col_heading level0 col0\" >Средний запас предсказанного сырья:</th>\n",
       "      <th id=\"T_3fe9e_level0_col1\" class=\"col_heading level0 col1\" >Разница между суммарными реальным и предск. запасами в %:</th>\n",
       "      <th id=\"T_3fe9e_level0_col2\" class=\"col_heading level0 col2\" >RMSE модели:</th>\n",
       "      <th id=\"T_3fe9e_level0_col3\" class=\"col_heading level0 col3\" >R2 коэфф. детерминации</th>\n",
       "    </tr>\n",
       "  </thead>\n",
       "  <tbody>\n",
       "    <tr>\n",
       "      <th id=\"T_3fe9e_level0_row0\" class=\"row_heading level0 row0\" >Значение:</th>\n",
       "      <td id=\"T_3fe9e_row0_col0\" class=\"data row0 col0\" >69.17</td>\n",
       "      <td id=\"T_3fe9e_row0_col1\" class=\"data row0 col1\" >0.01%</td>\n",
       "      <td id=\"T_3fe9e_row0_col2\" class=\"data row0 col2\" >0.89</td>\n",
       "      <td id=\"T_3fe9e_row0_col3\" class=\"data row0 col3\" >1.00</td>\n",
       "    </tr>\n",
       "  </tbody>\n",
       "</table>\n"
      ],
      "text/plain": [
       "<pandas.io.formats.style.Styler at 0x1a202c96980>"
      ]
     },
     "metadata": {},
     "output_type": "display_data"
    },
    {
     "name": "stdout",
     "output_type": "stream",
     "text": [
      "\n",
      "\n",
      "Реальный и предсказанный запасы сырья сохранены в переменные \"y1_true\" и \"y1_pred\" соответственно.\n",
      "~~~~~~~~~~~~~~~~~~~~~~~~~~~~~~~~~~~~~~~~~~~~~~~~~~~~~~~~~~~~~~~~~~~~~~\n",
      "\n",
      "\u001b[1m\u001b[4mРегион 2:\u001b[0m\n",
      "\n"
     ]
    },
    {
     "data": {
      "text/html": [
       "<style type=\"text/css\">\n",
       "#T_257ec caption {\n",
       "  text-align: center;\n",
       "  font-size: 130%;\n",
       "  font-weight: bold;\n",
       "  white-space: pre-wrap;\n",
       "}\n",
       "#T_257ec th {\n",
       "  max-width: 200px;\n",
       "}\n",
       "</style>\n",
       "<table id=\"T_257ec\">\n",
       "  <caption>Размерности выборок после разделения.</caption>\n",
       "  <thead>\n",
       "    <tr>\n",
       "      <th class=\"blank level0\" >&nbsp;</th>\n",
       "      <th id=\"T_257ec_level0_col0\" class=\"col_heading level0 col0\" >Предикторы</th>\n",
       "      <th id=\"T_257ec_level0_col1\" class=\"col_heading level0 col1\" >Целевой признак</th>\n",
       "      <th id=\"T_257ec_level0_col2\" class=\"col_heading level0 col2\" >Процент от общего количества объектов</th>\n",
       "    </tr>\n",
       "  </thead>\n",
       "  <tbody>\n",
       "    <tr>\n",
       "      <th id=\"T_257ec_level0_row0\" class=\"row_heading level0 row0\" >Исходный датафрейм</th>\n",
       "      <td id=\"T_257ec_row0_col0\" class=\"data row0 col0\" >(99992, 3)</td>\n",
       "      <td id=\"T_257ec_row0_col1\" class=\"data row0 col1\" >99992</td>\n",
       "      <td id=\"T_257ec_row0_col2\" class=\"data row0 col2\" >100%</td>\n",
       "    </tr>\n",
       "    <tr>\n",
       "      <th id=\"T_257ec_level0_row1\" class=\"row_heading level0 row1\" >Обучающая выборка</th>\n",
       "      <td id=\"T_257ec_row1_col0\" class=\"data row1 col0\" >(74994, 3)</td>\n",
       "      <td id=\"T_257ec_row1_col1\" class=\"data row1 col1\" >74994</td>\n",
       "      <td id=\"T_257ec_row1_col2\" class=\"data row1 col2\" >75.0%</td>\n",
       "    </tr>\n",
       "    <tr>\n",
       "      <th id=\"T_257ec_level0_row2\" class=\"row_heading level0 row2\" >Валидационная выборка</th>\n",
       "      <td id=\"T_257ec_row2_col0\" class=\"data row2 col0\" >(24998, 3)</td>\n",
       "      <td id=\"T_257ec_row2_col1\" class=\"data row2 col1\" >24998</td>\n",
       "      <td id=\"T_257ec_row2_col2\" class=\"data row2 col2\" >25.0%</td>\n",
       "    </tr>\n",
       "  </tbody>\n",
       "</table>\n"
      ],
      "text/plain": [
       "<pandas.io.formats.style.Styler at 0x1a202c97a30>"
      ]
     },
     "metadata": {},
     "output_type": "display_data"
    },
    {
     "name": "stdout",
     "output_type": "stream",
     "text": [
      "\n",
      "\n"
     ]
    },
    {
     "data": {
      "text/html": [
       "<style type=\"text/css\">\n",
       "#T_ce634 caption {\n",
       "  text-align: center;\n",
       "  font-size: 130%;\n",
       "  font-weight: bold;\n",
       "  white-space: pre-wrap;\n",
       "}\n",
       "#T_ce634 th {\n",
       "  max-width: 200px;\n",
       "}\n",
       "</style>\n",
       "<table id=\"T_ce634\">\n",
       "  <caption>Валидационная выборка.</caption>\n",
       "  <thead>\n",
       "    <tr>\n",
       "      <th class=\"blank level0\" >&nbsp;</th>\n",
       "      <th id=\"T_ce634_level0_col0\" class=\"col_heading level0 col0\" >Средний запас предсказанного сырья:</th>\n",
       "      <th id=\"T_ce634_level0_col1\" class=\"col_heading level0 col1\" >Разница между суммарными реальным и предск. запасами в %:</th>\n",
       "      <th id=\"T_ce634_level0_col2\" class=\"col_heading level0 col2\" >RMSE модели:</th>\n",
       "      <th id=\"T_ce634_level0_col3\" class=\"col_heading level0 col3\" >R2 коэфф. детерминации</th>\n",
       "    </tr>\n",
       "  </thead>\n",
       "  <tbody>\n",
       "    <tr>\n",
       "      <th id=\"T_ce634_level0_row0\" class=\"row_heading level0 row0\" >Значение:</th>\n",
       "      <td id=\"T_ce634_row0_col0\" class=\"data row0 col0\" >94.82</td>\n",
       "      <td id=\"T_ce634_row0_col1\" class=\"data row0 col1\" >0.25%</td>\n",
       "      <td id=\"T_ce634_row0_col2\" class=\"data row0 col2\" >40.13</td>\n",
       "      <td id=\"T_ce634_row0_col3\" class=\"data row0 col3\" >0.19</td>\n",
       "    </tr>\n",
       "  </tbody>\n",
       "</table>\n"
      ],
      "text/plain": [
       "<pandas.io.formats.style.Styler at 0x1a202c97ac0>"
      ]
     },
     "metadata": {},
     "output_type": "display_data"
    },
    {
     "name": "stdout",
     "output_type": "stream",
     "text": [
      "\n",
      "\n",
      "Реальный и предсказанный запасы сырья сохранены в переменные \"y2_true\" и \"y2_pred\" соответственно.\n",
      "~~~~~~~~~~~~~~~~~~~~~~~~~~~~~~~~~~~~~~~~~~~~~~~~~~~~~~~~~~~~~~~~~~~~~~\n"
     ]
    }
   ],
   "source": [
    "# Вызовем функцию и получим данные.\n",
    "i = 0\n",
    "for df in [geo_data_0, geo_data_1, geo_data_2]:\n",
    "    print(f'\\n\\033[1m\\033[4mРегион {i}:\\033[0m\\n')\n",
    "    (globals()[f'y{i}_true'],\n",
    "     globals()[f'y{i}_pred']) = split_scale_pred(df, 'product', .25)\n",
    "    print('\\n\\nРеальный и предсказанный запасы сырья сохранены в переменные ' +\n",
    "          f'\"y{i}_true\" и \"y{i}_pred\" соответственно.')\n",
    "    print('~' * 70)\n",
    "    i += 1"
   ]
  },
  {
   "cell_type": "markdown",
   "metadata": {
    "id": "H0b6dOFFkdk5"
   },
   "source": [
    "### Обучение и проверка модели. Выводы.\n",
    "- Выборки были разделены в соотношении `75`:`25`.\n",
    "- Была проведена нормализация данных.\n",
    "- Было проведено обучение моделей линейной регрессии.\n",
    "- На валидационной выборке были рассчитаны средние запасы предсказанного сырья, а также корень среднеквадратичной ошибки `RMSE` и (выборочный) коэффициент детерминации `R2`.\n",
    "- Были сохранены предсказания и правильные ответы.\n",
    "- Регионы с оценками целевой метрики `RMSE` в порядке убывания:\n",
    "  - `Регион 1` | `geo_data_1`: `RMSE` - `0.89`;\n",
    "  - `Регион 0` | `geo_data_0`: `RMSE` - `37.76`;\n",
    "  - `Регион 2` | `geo_data_2`: `RMSE` - `40.13`. <br><br>\n",
    "\n",
    "- `Регион 0`, `Регион 2`:\n",
    "\n",
    "  Высокое значение `RMSE` близкое к значению `RMSE` среднего и низкое значение `R2` модели говорят о том, что модель предсказывает не намного лучше константной модели, всегда предсказывающей среднее. <br>\n",
    "  Этот вывод подтверждает небольшая разница между предсказанным и реальным средним запасов при низком качестве моделей.<br><br>\n",
    "\n",
    "- `Регион 1`:\n",
    "  \n",
    "  Значение `R2` близкое к `1` и низкое значение `RMSE` говорят о почти отсутствующих ошибках предсказаний или о функциональной зависимости признака `f2` и целевого `product`."
   ]
  },
  {
   "cell_type": "markdown",
   "metadata": {
    "id": "lfd5NbC1vXu5"
   },
   "source": [
    "## Подготовка к расчёту прибыли."
   ]
  },
  {
   "cell_type": "markdown",
   "metadata": {
    "id": "7ik_cxE1Cs6p"
   },
   "source": [
    "### Определение констант, указанных в ТЗ.\n",
    "- Бюджет на разработку скважин в регионе: 10 млрд. р.\n",
    "- Доход с каждой единицы продукта: 450 тыс. р., т.к. объём указан в тыс. баррелей.\n",
    "- Исследуемое кол-во скважин: 500.\n",
    "- Кол-во лучших скважин: 200.\n",
    "- Порог убыточности региона: 2.5%.\n",
    "- Кол-во выборок для бутстрэп исследования: 1000.\n",
    "- Пороги 95% доверительного интервала: (2.5% , 97.5%)."
   ]
  },
  {
   "cell_type": "code",
   "execution_count": null,
   "metadata": {
    "id": "8kfgNKsWvXu5"
   },
   "outputs": [],
   "source": [
    "## Зададим константы для рассчётов.\n",
    "# Бюджет.\n",
    "BUDGET = 1e+10\n",
    "# Доход на единицу (тысячу баррелей).\n",
    "RPU = 450000\n",
    "# Исследуемое кол-во скважин.\n",
    "WELLS_TOTAL = 500\n",
    "# Кол-во лучших скважин.\n",
    "WELLS_FINAL = 200\n",
    "# Порог убыточности региона.\n",
    "LOSS_THRESHOLD = .025\n",
    "# Кол-во выборок.\n",
    "BOOTSTRAP_SAMPLES = 1000\n",
    "# Пороги 95% доверительного интервала.\n",
    "CONF_INT_UPP = .975\n",
    "CONF_INT_LOW = .025"
   ]
  },
  {
   "cell_type": "markdown",
   "metadata": {
    "id": "TOTL9GyjOMhU"
   },
   "source": [
    "### Расчёт достаточного объёма сырья.\n",
    "- Рассчитаем достаточный объём сырья для безубыточной разработки новой скважины при 200 скважинах, разрабатываемых в регионе.\n",
    "- Сравним полученный объём сырья со средним запасом в каждом регионе."
   ]
  },
  {
   "cell_type": "code",
   "execution_count": null,
   "metadata": {
    "colab": {
     "base_uri": "https://localhost:8080/",
     "height": 305
    },
    "executionInfo": {
     "elapsed": 24,
     "status": "ok",
     "timestamp": 1688598964524,
     "user": {
      "displayName": "S K",
      "userId": "16311672911204145470"
     },
     "user_tz": -180
    },
    "id": "iwsxpxCBOzkL",
    "outputId": "07f6a7f2-6781-405e-ebb3-755bc6b5effd"
   },
   "outputs": [
    {
     "name": "stdout",
     "output_type": "stream",
     "text": [
      "Достаточный объём сырья в одной скважине для безубыточной разработки при 200 скважинах, \n",
      "разрабатываемых в регионе: 111.11 тыс. баррелей.\n",
      "\n",
      "\n"
     ]
    },
    {
     "data": {
      "text/html": [
       "<style type=\"text/css\">\n",
       "#T_00563 caption {\n",
       "  text-align: center;\n",
       "  font-size: 130%;\n",
       "  font-weight: bold;\n",
       "  white-space: pre-wrap;\n",
       "}\n",
       "#T_00563 th {\n",
       "  max-width: 200px;\n",
       "}\n",
       "</style>\n",
       "<table id=\"T_00563\">\n",
       "  <caption>Сводные данные о кач-ве скважин.</caption>\n",
       "  <thead>\n",
       "    <tr>\n",
       "      <th class=\"blank level0\" >&nbsp;</th>\n",
       "      <th id=\"T_00563_level0_col0\" class=\"col_heading level0 col0\" >Регион 0</th>\n",
       "      <th id=\"T_00563_level0_col1\" class=\"col_heading level0 col1\" >Регион 1</th>\n",
       "      <th id=\"T_00563_level0_col2\" class=\"col_heading level0 col2\" >Регион 2</th>\n",
       "    </tr>\n",
       "  </thead>\n",
       "  <tbody>\n",
       "    <tr>\n",
       "      <th id=\"T_00563_level0_row0\" class=\"row_heading level0 row0\" >Средний запас сырья на скважину в регионе:</th>\n",
       "      <td id=\"T_00563_row0_col0\" class=\"data row0 col0\" >92.5 тыс. баррелей</td>\n",
       "      <td id=\"T_00563_row0_col1\" class=\"data row0 col1\" >68.82 тыс. баррелей</td>\n",
       "      <td id=\"T_00563_row0_col2\" class=\"data row0 col2\" >95.0 тыс. баррелей</td>\n",
       "    </tr>\n",
       "    <tr>\n",
       "      <th id=\"T_00563_level0_row1\" class=\"row_heading level0 row1\" >Разница среднего и мин. безубыточного запаса на скважину:</th>\n",
       "      <td id=\"T_00563_row1_col0\" class=\"data row1 col0\" >-18.61 тыс. баррелей</td>\n",
       "      <td id=\"T_00563_row1_col1\" class=\"data row1 col1\" >-42.29 тыс. баррелей</td>\n",
       "      <td id=\"T_00563_row1_col2\" class=\"data row1 col2\" >-16.11 тыс. баррелей</td>\n",
       "    </tr>\n",
       "    <tr>\n",
       "      <th id=\"T_00563_level0_row2\" class=\"row_heading level0 row2\" >Кол-во безубыточных скважин в регионе:</th>\n",
       "      <td id=\"T_00563_row2_col0\" class=\"data row2 col0\" >36576</td>\n",
       "      <td id=\"T_00563_row2_col1\" class=\"data row2 col1\" >16536</td>\n",
       "      <td id=\"T_00563_row2_col2\" class=\"data row2 col2\" >38173</td>\n",
       "    </tr>\n",
       "  </tbody>\n",
       "</table>\n"
      ],
      "text/plain": [
       "<pandas.io.formats.style.Styler at 0x1a2044d5c90>"
      ]
     },
     "metadata": {},
     "output_type": "display_data"
    }
   ],
   "source": [
    "# Рассчитаем и выведем достаточный объём сырья.\n",
    "min_product = BUDGET / WELLS_FINAL / RPU\n",
    "print('Достаточный объём сырья в одной скважине для безубыточной разработки ' +\n",
    "      f'при {WELLS_FINAL} скважинах, \\nразрабатываемых в регионе: ' +\n",
    "      f'{min_product:.2f} тыс. баррелей.\\n\\n')\n",
    "\n",
    "# Сравним полученный объём сырья со средним запасом.\n",
    "i = 0\n",
    "comp_list = []\n",
    "for df in [geo_data_0, geo_data_1, geo_data_2]:\n",
    "    comp_list.append(\n",
    "        [f'{round(df[\"product\"].mean(), 2)} тыс. баррелей',\n",
    "         f'{round(df[\"product\"].mean() - min_product, 2)} тыс. баррелей',\n",
    "         (df[\"product\"] >= min_product).sum()]\n",
    "        )\n",
    "    i += 1\n",
    "\n",
    "display(pd.DataFrame(\n",
    "    index=['Средний запас сырья на скважину в регионе:',\n",
    "           'Разница среднего и мин. безубыточного запаса на скважину:',\n",
    "           'Кол-во безубыточных скважин в регионе:'],\n",
    "\n",
    "    columns=['Регион 0', 'Регион 1', 'Регион 2'],\n",
    "    data=[el for el in zip(*comp_list)]\n",
    "    )\n",
    ".style\n",
    ".set_caption('Сводные данные о кач-ве скважин.')\n",
    ".set_table_styles(styles))"
   ]
  },
  {
   "cell_type": "markdown",
   "metadata": {
    "id": "nhxkuLFJaJlt"
   },
   "source": [
    "### Подготовка к рассчёту прибыли. Выводы.\n",
    "- Были заданы константы в соответствии с ТЗ:\n",
    "  - `BUDGET` - бюджет на регион;\n",
    "  - `RPU` - доход с тысячи баррелей;\n",
    "  - `WELLS_TOTAL` - кол-во рассматриваемых скважин в регионе;\n",
    "  - `WELLS_FINAL` - кол-во отобранных скважин в регионе;\n",
    "  - `LOSS_THRESHOLD` - порог убыточности региона;\n",
    "  - `BOOTSTRAP_SAMPLES` - кол-во выборок для бутстрэп исследования;\n",
    "  - `CONF_INT_UPP`/`CONF_INT_LOW` - пороги `95%` доверительного интервала.\n",
    "- Был рассчитан достаточный объём сырья для безубыточной разработки новой скважины: `~111` тыс. баррелей.\n",
    "- Было произведено сравнение достаточного для безубыточной разработки и средних по регионам объёмов сырья. <br>\n",
    "  - Во всех регионах средний объём сырья на скважину значительно меньше объёма достаточного для безубыточной разработки[<sup>1</sup>](#fn1). Не все сочетания скважин прибыльны.\n",
    "  - В каждом регионе достаточно скважин с объёмами сырья равными или превышающими достаточный[<sup>1</sup>](#fn1)&nbsp; из которых можно выбрать `n` лучших.\n",
    "  - Регионы с минимальной разницей среднего запаса и запаса достаточного для безубыточной разработки[<sup>1</sup>](#fn1)&nbsp; в порядке убывания:\n",
    "    - `Регион 2` : `-16.11` тыс. баррелей.<br> Более `38 тыс.` безубыточных скважин;\n",
    "    - `Регион 1` : `-18.61` тыс. баррелей.<br> Более `36 тыс.` безубыточных скважин;\n",
    "    - `Регион 0` : `-42.29` тыс. баррелей.<br> Более `16 тыс.` безубыточных скважин.<br><br>\n",
    "\n",
    "\n",
    "\n",
    "\n",
    "> <span id=\"fn1\"><sup><u>1</u></sup> при разработке `200` скважин.</span>\n",
    "\n"
   ]
  },
  {
   "cell_type": "markdown",
   "metadata": {
    "id": "zusYELD9vXu6"
   },
   "source": [
    "## Расчёт прибыли и рисков"
   ]
  },
  {
   "cell_type": "markdown",
   "metadata": {
    "id": "UzqjVe13NXKM"
   },
   "source": [
    "### Функция расчёта прибыли.\n",
    "Зададим функцию расчёта прибыли с 200 лучших скважин по региону."
   ]
  },
  {
   "cell_type": "code",
   "execution_count": null,
   "metadata": {
    "id": "4qsjAeb1vXu6"
   },
   "outputs": [],
   "source": [
    "# Функция расчёта прибыли с 200 лучших скважин по региону.\n",
    "def get_profit(pred, true):\n",
    "    top_pred = pred.sort_values(ascending=False)\n",
    "    top_true = true[top_pred.index][:WELLS_FINAL]\n",
    "    profit = round(top_true.sum() * RPU - BUDGET)\n",
    "    return profit"
   ]
  },
  {
   "cell_type": "markdown",
   "metadata": {
    "id": "cHAhpyfLNuDM"
   },
   "source": [
    "С учётом заданных в ТЗ параметров создадим функцию, которая\n",
    "- техникой `Bootstrap` создаст 1000 выборок (по 500 скважин) с возвращением элементов, чтобы найти распределение прибыли;\n",
    "- для этого распределения рассчитает\n",
    "  - среднюю прибыль,\n",
    "  - 95%-й доверительный интервал,\n",
    "  - риск убытков как долю отрицательных объектов от всех объектов выборки."
   ]
  },
  {
   "cell_type": "code",
   "execution_count": null,
   "metadata": {
    "id": "lznkggT4MuB_"
   },
   "outputs": [],
   "source": [
    "# Функция расчета средней прибыли, 95% доверительного интервала и доли\n",
    "# отрицательной прибыли.\n",
    "def get_estimates(pred=pd.Series, true=pd.Series,\n",
    "                  header='Выходные параметры.'):\n",
    "\n",
    "    # Установим значение генератора.\n",
    "    state = np.random.RandomState(42)\n",
    "    # Объявим список для сбора прибыли.\n",
    "    profit = []\n",
    "\n",
    "    # Методом bootstrap переберём выборки, вычислим и запишем прибыль\n",
    "    # для каждой.\n",
    "    print('\\nНачало работы...\\n')\n",
    "    for _ in trange(BOOTSTRAP_SAMPLES):\n",
    "        true_sample = true.sample(WELLS_TOTAL,\n",
    "                                  replace=True,\n",
    "                                  random_state=state)\n",
    "        pred_sample = pred[true_sample.index]\n",
    "        profit.append(get_profit(pred_sample, true_sample))\n",
    "\n",
    "    # Вычислим среднюю прибыль, дов. интервал, долю отрицательной прибыли\n",
    "    # в распределении.\n",
    "    profit_avg = round(np.mean(profit))\n",
    "    lower = f'{round(np.quantile(profit, CONF_INT_LOW)):,}'.replace(\",\", \" \")\n",
    "    upper = f'{round(np.quantile(profit, CONF_INT_UPP)):,}'.replace(\",\", \" \")\n",
    "    risk_prob = sum(np.array(profit) < 0) / len(profit)\n",
    "\n",
    "    # Выведем данные.\n",
    "    print('\\n')\n",
    "    display(pd.DataFrame(\n",
    "        index=['Значение:'],\n",
    "        data={'Средняя прибыль, руб.:' : profit_avg,\n",
    "              '95% доверительный интервал, руб.:' : f'({lower} , {upper})',\n",
    "              'Риск убытков:' : f'{risk_prob:.2%}'}\n",
    "        )\n",
    "        .style\n",
    "        .format(thousands=' ')\n",
    "        .set_caption(header)\n",
    "        .set_table_styles(styles)\n",
    "        )\n",
    "\n",
    "    print('~' * 70)\n",
    "\n",
    "    return profit_avg, lower, upper, risk_prob"
   ]
  },
  {
   "cell_type": "markdown",
   "metadata": {
    "id": "AKrEvo4Kw_ST"
   },
   "source": [
    "### Рассчёт средней прибыли, доверительного интервала и риска убытков.\n",
    "- Для каждого региона с применением метода `Bootstrap`\n",
    "  - выведем среднюю прибыль,\n",
    "  - `95%-й` доверительный интервал,\n",
    "  - риск убытков (убыток - отрицательная прибыль).\n",
    "- Выведем и отсортируем по убыванию прибыльности регионы, риск убытков при разработке которых ниже порога убыточности, указанного в ТЗ на уровне `2.5%`."
   ]
  },
  {
   "cell_type": "code",
   "execution_count": null,
   "metadata": {
    "colab": {
     "base_uri": "https://localhost:8080/",
     "height": 1000
    },
    "executionInfo": {
     "elapsed": 22,
     "status": "ok",
     "timestamp": 1688598964525,
     "user": {
      "displayName": "S K",
      "userId": "16311672911204145470"
     },
     "user_tz": -180
    },
    "id": "E4UQ7Teuc4Vo",
    "outputId": "d5e41985-f96b-4de0-d16d-42dcbaf66bb1"
   },
   "outputs": [
    {
     "name": "stdout",
     "output_type": "stream",
     "text": [
      "\n",
      "Начало работы...\n",
      "\n"
     ]
    },
    {
     "name": "stderr",
     "output_type": "stream",
     "text": [
      "100%|█████████████████████████████████████████████████████████████████████████████| 1000/1000 [00:01<00:00, 648.44it/s]"
     ]
    },
    {
     "name": "stdout",
     "output_type": "stream",
     "text": [
      "\n",
      "\n"
     ]
    },
    {
     "name": "stderr",
     "output_type": "stream",
     "text": [
      "\n"
     ]
    },
    {
     "data": {
      "text/html": [
       "<style type=\"text/css\">\n",
       "#T_fd97c caption {\n",
       "  text-align: center;\n",
       "  font-size: 130%;\n",
       "  font-weight: bold;\n",
       "  white-space: pre-wrap;\n",
       "}\n",
       "#T_fd97c th {\n",
       "  max-width: 200px;\n",
       "}\n",
       "</style>\n",
       "<table id=\"T_fd97c\">\n",
       "  <caption>Регион 0.</caption>\n",
       "  <thead>\n",
       "    <tr>\n",
       "      <th class=\"blank level0\" >&nbsp;</th>\n",
       "      <th id=\"T_fd97c_level0_col0\" class=\"col_heading level0 col0\" >Средняя прибыль, руб.:</th>\n",
       "      <th id=\"T_fd97c_level0_col1\" class=\"col_heading level0 col1\" >95% доверительный интервал, руб.:</th>\n",
       "      <th id=\"T_fd97c_level0_col2\" class=\"col_heading level0 col2\" >Риск убытков:</th>\n",
       "    </tr>\n",
       "  </thead>\n",
       "  <tbody>\n",
       "    <tr>\n",
       "      <th id=\"T_fd97c_level0_row0\" class=\"row_heading level0 row0\" >Значение:</th>\n",
       "      <td id=\"T_fd97c_row0_col0\" class=\"data row0 col0\" >429 728 281</td>\n",
       "      <td id=\"T_fd97c_row0_col1\" class=\"data row0 col1\" >(-130 171 033 , 975 528 787)</td>\n",
       "      <td id=\"T_fd97c_row0_col2\" class=\"data row0 col2\" >6.90%</td>\n",
       "    </tr>\n",
       "  </tbody>\n",
       "</table>\n"
      ],
      "text/plain": [
       "<pandas.io.formats.style.Styler at 0x1a202c6fcd0>"
      ]
     },
     "metadata": {},
     "output_type": "display_data"
    },
    {
     "name": "stdout",
     "output_type": "stream",
     "text": [
      "~~~~~~~~~~~~~~~~~~~~~~~~~~~~~~~~~~~~~~~~~~~~~~~~~~~~~~~~~~~~~~~~~~~~~~\n",
      "\n",
      "Начало работы...\n",
      "\n"
     ]
    },
    {
     "name": "stderr",
     "output_type": "stream",
     "text": [
      "100%|█████████████████████████████████████████████████████████████████████████████| 1000/1000 [00:01<00:00, 696.78it/s]"
     ]
    },
    {
     "name": "stdout",
     "output_type": "stream",
     "text": [
      "\n",
      "\n"
     ]
    },
    {
     "name": "stderr",
     "output_type": "stream",
     "text": [
      "\n"
     ]
    },
    {
     "data": {
      "text/html": [
       "<style type=\"text/css\">\n",
       "#T_72f44 caption {\n",
       "  text-align: center;\n",
       "  font-size: 130%;\n",
       "  font-weight: bold;\n",
       "  white-space: pre-wrap;\n",
       "}\n",
       "#T_72f44 th {\n",
       "  max-width: 200px;\n",
       "}\n",
       "</style>\n",
       "<table id=\"T_72f44\">\n",
       "  <caption>Регион 1.</caption>\n",
       "  <thead>\n",
       "    <tr>\n",
       "      <th class=\"blank level0\" >&nbsp;</th>\n",
       "      <th id=\"T_72f44_level0_col0\" class=\"col_heading level0 col0\" >Средняя прибыль, руб.:</th>\n",
       "      <th id=\"T_72f44_level0_col1\" class=\"col_heading level0 col1\" >95% доверительный интервал, руб.:</th>\n",
       "      <th id=\"T_72f44_level0_col2\" class=\"col_heading level0 col2\" >Риск убытков:</th>\n",
       "    </tr>\n",
       "  </thead>\n",
       "  <tbody>\n",
       "    <tr>\n",
       "      <th id=\"T_72f44_level0_row0\" class=\"row_heading level0 row0\" >Значение:</th>\n",
       "      <td id=\"T_72f44_row0_col0\" class=\"data row0 col0\" >539 151 485</td>\n",
       "      <td id=\"T_72f44_row0_col1\" class=\"data row0 col1\" >(135 179 802 , 954 368 710)</td>\n",
       "      <td id=\"T_72f44_row0_col2\" class=\"data row0 col2\" >0.40%</td>\n",
       "    </tr>\n",
       "  </tbody>\n",
       "</table>\n"
      ],
      "text/plain": [
       "<pandas.io.formats.style.Styler at 0x1a202c0ac50>"
      ]
     },
     "metadata": {},
     "output_type": "display_data"
    },
    {
     "name": "stdout",
     "output_type": "stream",
     "text": [
      "~~~~~~~~~~~~~~~~~~~~~~~~~~~~~~~~~~~~~~~~~~~~~~~~~~~~~~~~~~~~~~~~~~~~~~\n",
      "\n",
      "Начало работы...\n",
      "\n"
     ]
    },
    {
     "name": "stderr",
     "output_type": "stream",
     "text": [
      "100%|█████████████████████████████████████████████████████████████████████████████| 1000/1000 [00:01<00:00, 704.33it/s]"
     ]
    },
    {
     "name": "stdout",
     "output_type": "stream",
     "text": [
      "\n",
      "\n"
     ]
    },
    {
     "name": "stderr",
     "output_type": "stream",
     "text": [
      "\n"
     ]
    },
    {
     "data": {
      "text/html": [
       "<style type=\"text/css\">\n",
       "#T_d9c8e caption {\n",
       "  text-align: center;\n",
       "  font-size: 130%;\n",
       "  font-weight: bold;\n",
       "  white-space: pre-wrap;\n",
       "}\n",
       "#T_d9c8e th {\n",
       "  max-width: 200px;\n",
       "}\n",
       "</style>\n",
       "<table id=\"T_d9c8e\">\n",
       "  <caption>Регион 2.</caption>\n",
       "  <thead>\n",
       "    <tr>\n",
       "      <th class=\"blank level0\" >&nbsp;</th>\n",
       "      <th id=\"T_d9c8e_level0_col0\" class=\"col_heading level0 col0\" >Средняя прибыль, руб.:</th>\n",
       "      <th id=\"T_d9c8e_level0_col1\" class=\"col_heading level0 col1\" >95% доверительный интервал, руб.:</th>\n",
       "      <th id=\"T_d9c8e_level0_col2\" class=\"col_heading level0 col2\" >Риск убытков:</th>\n",
       "    </tr>\n",
       "  </thead>\n",
       "  <tbody>\n",
       "    <tr>\n",
       "      <th id=\"T_d9c8e_level0_row0\" class=\"row_heading level0 row0\" >Значение:</th>\n",
       "      <td id=\"T_d9c8e_row0_col0\" class=\"data row0 col0\" >386 922 413</td>\n",
       "      <td id=\"T_d9c8e_row0_col1\" class=\"data row0 col1\" >(-187 982 203 , 893 248 484)</td>\n",
       "      <td id=\"T_d9c8e_row0_col2\" class=\"data row0 col2\" >8.80%</td>\n",
       "    </tr>\n",
       "  </tbody>\n",
       "</table>\n"
      ],
      "text/plain": [
       "<pandas.io.formats.style.Styler at 0x1a202c6fac0>"
      ]
     },
     "metadata": {},
     "output_type": "display_data"
    },
    {
     "name": "stdout",
     "output_type": "stream",
     "text": [
      "~~~~~~~~~~~~~~~~~~~~~~~~~~~~~~~~~~~~~~~~~~~~~~~~~~~~~~~~~~~~~~~~~~~~~~\n",
      "\n",
      "\n",
      "\n",
      "\n"
     ]
    },
    {
     "data": {
      "text/html": [
       "<style type=\"text/css\">\n",
       "#T_c807b caption {\n",
       "  text-align: center;\n",
       "  font-size: 130%;\n",
       "  font-weight: bold;\n",
       "  white-space: pre-wrap;\n",
       "}\n",
       "#T_c807b th {\n",
       "  max-width: 200px;\n",
       "}\n",
       "</style>\n",
       "<table id=\"T_c807b\">\n",
       "  <caption>Регионы удовлетворяющие критериям \n",
       "в порядке убывания прибыли.</caption>\n",
       "  <thead>\n",
       "    <tr>\n",
       "      <th class=\"blank level0\" >&nbsp;</th>\n",
       "      <th id=\"T_c807b_level0_col0\" class=\"col_heading level0 col0\" >Средняя прибыль, руб.:</th>\n",
       "      <th id=\"T_c807b_level0_col1\" class=\"col_heading level0 col1\" >95% доверительный интервал, руб.:</th>\n",
       "      <th id=\"T_c807b_level0_col2\" class=\"col_heading level0 col2\" >Риск убытков:</th>\n",
       "    </tr>\n",
       "  </thead>\n",
       "  <tbody>\n",
       "    <tr>\n",
       "      <th id=\"T_c807b_level0_row0\" class=\"row_heading level0 row0\" >Регион 1</th>\n",
       "      <td id=\"T_c807b_row0_col0\" class=\"data row0 col0\" >539 151 485</td>\n",
       "      <td id=\"T_c807b_row0_col1\" class=\"data row0 col1\" >(135 179 802 , 954 368 710)</td>\n",
       "      <td id=\"T_c807b_row0_col2\" class=\"data row0 col2\" >0.40%</td>\n",
       "    </tr>\n",
       "  </tbody>\n",
       "</table>\n"
      ],
      "text/plain": [
       "<pandas.io.formats.style.Styler at 0x1a2044a7f40>"
      ]
     },
     "metadata": {},
     "output_type": "display_data"
    }
   ],
   "source": [
    "# Выведем данные по всем регионам.\n",
    "top_regions = {}\n",
    "for i in range(3):\n",
    "    (profit_avg, lower,\n",
    "     upper, risk_prob) = get_estimates(globals()[f'y{i}_pred'],\n",
    "                                       globals()[f'y{i}_true'],\n",
    "                                       f'Регион {i}.')\n",
    "\n",
    "    if risk_prob < LOSS_THRESHOLD:\n",
    "        top_regions.update({f'Регион {i}' : [profit_avg,\n",
    "                                             f'({lower} , {upper})',\n",
    "                                             f'{risk_prob:.2%}']}\n",
    "            )\n",
    "print('\\n' * 3)\n",
    "\n",
    "# Выведем регионы отвечающие критериям.\n",
    "display(pd.DataFrame(\n",
    "    index=top_regions.keys(),\n",
    "    columns=['Средняя прибыль, руб.:' ,\n",
    "             '95% доверительный интервал, руб.:',\n",
    "             'Риск убытков:'],\n",
    "    data=top_regions.values()\n",
    "    )\n",
    ".sort_values(by='Средняя прибыль, руб.:', ascending=False)\n",
    ".style\n",
    ".format(thousands=' ')\n",
    ".set_caption('Регионы удовлетворяющие критериям ' +\n",
    "             '\\nв порядке убывания прибыли.')\n",
    ".set_table_styles(styles))"
   ]
  },
  {
   "cell_type": "markdown",
   "metadata": {
    "id": "MJBO971BLpXi"
   },
   "source": [
    "### Расчёт прибыли и рисков. Выводы:\n",
    "- Для каждого региона с применением метода `Bootstrap` были найдены\n",
    "  - средняя прибыль,\n",
    "  - `95%-й` доверительный интервал,\n",
    "  - риск убытков.\n",
    "- Результирующие распределения приближенно нормальны и визульно соответствуют полученным значениям метрик.\n",
    "\n",
    "- Найден один регион с риском убытков ниже порога убыточности `2.5%`. <br>\n",
    "Данный регион имеет наибольшую среднюю прибыль. <br>\n",
    "Параметры данного региона:\n",
    "  - `Регион 1` | `geo_data_1.csv`.\n",
    "  - Средняя прибыль: `~539 млн.руб`.\n",
    "  - `95%` доверительный интервал: `(~135 млн.руб. , ~954 млн.руб.)`.\n",
    "  - Риск убытков: `0.4%`."
   ]
  },
  {
   "cell_type": "markdown",
   "metadata": {
    "id": "hJwpQ--WOPEx"
   },
   "source": [
    "## Общие выводы:\n",
    "### Моделирование.\n",
    "Задача построения предиктивной модели была сведена к линейной регрессии, \"обучению с учителем\", т.к.:\n",
    "- Целевой признак определён.\n",
    "- Тип целевого признака: количественный, непрерывный.\n",
    "\n",
    "### Информация о составе датафреймов.\n",
    "- Каждый из трёх наборов данных представлен четырьмя непрерывными количественными признаками, один из которых целевой, и одним номинативным - идентификатором скважины.\n",
    "> Исключение составляет набор данных по `Региону 1`, файл `geo_data_1.csv`, в котором значения признака `f2` и целевого `product`, возможно, были сгенерированы одни из других и в связи с этим представляются дискретными и почти полностью коррелируют. В данном случае, т.к. один предиктор полностью объясняет целевой признак, `r^2` квадрат коеффициента корреляции Пирсона равен `R^2` коэффициенту детерминации, и оба значения будут приближенно равны `1`.\n",
    "- Признаки:\n",
    "  - Предикторы: `f0`, `f1`, `f2`;\n",
    "  - Целевой признак: `product`.\n",
    "  - Дополнительные: `id` - идентификатор скважины.\n",
    "\n",
    "- Пропуски в данных:\n",
    "  - Пропусков в данных не обнаружено.\n",
    "  - Нулевые значения были оставлены без изменений из-за их небольшого кол-ва.\n",
    "- Аномалии в данных:\n",
    "  - Аномальные значения были оставлены без изменений из-за их ничтожного кол-ва.\n",
    "- Дубликаты в данных:\n",
    "  - Явных дубликатов в данных не обнаружено.\n",
    "  - В данных были обнаружены и, во избежание учёта ошибочных данных, удалены вместе с оригиналами объекты с дубликатами в уникальных идентификаторах скважин - `id`.\n",
    "- Неинформативный в рамках данной работы признак `id`, содержащий идентификаторы, был удалён.\n",
    "\n",
    "### Обучение и проверка модели.\n",
    "- Выборки были разделены в соотношении `75`:`25`.\n",
    "- Была проведена нормализация данных.\n",
    "- Было проведено обучение моделей линейной регрессии.\n",
    "- На валидационной выборке были рассчитаны средние запасы предсказанного сырья, а также корень среднеквадратичной ошибки `RMSE` и (выборочный) коэффициент детерминации `R2`.\n",
    "- Регион с низшей оценкой целевой метрики `RMSE`:\n",
    "  - `Регион 1` | `geo_data_1`: `RMSE` - `0.89`.<br>\n",
    "  \n",
    "  Значение `R2` близкое к `1` и низкое значение `RMSE` говорят о почти отсутствующих ошибках предсказаний и о функциональной зависимости признака `f2` и целевого `product`.\n",
    "\n",
    "### Расчёт прибыли, 95%-го доверительного интервала и рисков убытков.\n",
    "- Были заданы константы в соответствии с ТЗ:\n",
    "  - `BUDGET` - бюджет на регион;\n",
    "  - `RPU` - доход с тысячи баррелей;\n",
    "  - `WELLS_TOTAL` - кол-во рассматриваемых скважин в регионе;\n",
    "  - `WELLS_FINAL` - кол-во отобранных скважин в регионе;\n",
    "  - `LOSS_THRESHOLD` - порог убыточности региона;\n",
    "  - `BOOTSTRAP_SAMPLES` - кол-во выборок для бутстрэп исследования;\n",
    "  - `CONF_INT_UPP`/`CONF_INT_LOW` - пороги `95%` доверительного интервала.\n",
    "- Был рассчитан достаточный объём сырья для безубыточной разработки новой скважины: `~111` тыс. баррелей.\n",
    "- Во всех регионах средний объём сырья на скважину значительно меньше объёма достаточного для безубыточной разработки[<sup>1</sup>](#fn1). Не все сочетания скважин прибыльны.\n",
    "- В каждом регионе достаточно скважин с объёмами сырья равными или превышающими достаточный[<sup>1</sup>](#fn1)&nbsp; из которых можно выбрать `n` лучших.\n",
    "- Регион с минимальной разницей среднего запаса и запаса достаточного для безубыточной разработки при разработке 200 скважин:\n",
    "    - `Регион 2` : `-16.11` тыс. баррелей.<br> Более `38 тыс.` безубыточных скважин.<br><br>\n",
    "\n",
    "- Для каждого региона с применением метода `Bootstrap` были найдены\n",
    "  - средняя прибыль,\n",
    "  - `95%-й` доверительный интервал,\n",
    "  - риск убытков.\n",
    "\n",
    "### Регион, в котором рекомендуется бурить новые скважины: `Регион 1`.\n",
    "- Риск убытков в данном регионе ниже порога убыточности `2.5%`.\n",
    "- Данный регион имеет наибольшую среднюю прибыль.\n",
    "- Параметры данного региона:\n",
    "  - `Регион 1` | `geo_data_1.csv`.\n",
    "  - Средняя прибыль: `~539 млн.руб`.\n",
    "  - `95%` доверительный интервал: `(~135 млн.руб. , ~954 млн.руб.)`.\n",
    "  - Риск убытков: `0.4%`."
   ]
  }
 ],
 "metadata": {
  "ExecuteTimeLog": [
   {
    "duration": 1032,
    "start_time": "2023-07-06T00:19:46.185Z"
   },
   {
    "duration": 0,
    "start_time": "2023-07-06T00:19:47.226Z"
   },
   {
    "duration": 0,
    "start_time": "2023-07-06T00:19:47.228Z"
   },
   {
    "duration": 0,
    "start_time": "2023-07-06T00:19:47.236Z"
   },
   {
    "duration": 0,
    "start_time": "2023-07-06T00:19:47.240Z"
   },
   {
    "duration": 0,
    "start_time": "2023-07-06T00:19:47.241Z"
   },
   {
    "duration": 0,
    "start_time": "2023-07-06T00:19:47.242Z"
   },
   {
    "duration": 0,
    "start_time": "2023-07-06T00:19:47.244Z"
   },
   {
    "duration": 0,
    "start_time": "2023-07-06T00:19:47.245Z"
   },
   {
    "duration": 0,
    "start_time": "2023-07-06T00:19:47.247Z"
   },
   {
    "duration": 0,
    "start_time": "2023-07-06T00:19:47.248Z"
   },
   {
    "duration": 0,
    "start_time": "2023-07-06T00:19:47.249Z"
   },
   {
    "duration": 0,
    "start_time": "2023-07-06T00:19:47.251Z"
   },
   {
    "duration": 0,
    "start_time": "2023-07-06T00:19:47.252Z"
   },
   {
    "duration": 0,
    "start_time": "2023-07-06T00:19:47.254Z"
   },
   {
    "duration": 0,
    "start_time": "2023-07-06T00:19:47.255Z"
   },
   {
    "duration": 0,
    "start_time": "2023-07-06T00:19:47.256Z"
   },
   {
    "duration": 0,
    "start_time": "2023-07-06T00:19:47.257Z"
   },
   {
    "duration": 0,
    "start_time": "2023-07-06T00:19:47.259Z"
   },
   {
    "duration": 0,
    "start_time": "2023-07-06T00:19:47.260Z"
   },
   {
    "duration": 0,
    "start_time": "2023-07-06T00:19:47.262Z"
   },
   {
    "duration": 6485,
    "start_time": "2023-07-06T00:20:13.890Z"
   },
   {
    "duration": 6093,
    "start_time": "2023-07-06T00:20:33.221Z"
   },
   {
    "duration": 191,
    "start_time": "2023-07-06T00:20:39.316Z"
   },
   {
    "duration": 9,
    "start_time": "2023-07-06T00:20:39.509Z"
   },
   {
    "duration": 3472,
    "start_time": "2023-07-06T00:20:39.524Z"
   },
   {
    "duration": 3,
    "start_time": "2023-07-06T00:20:42.998Z"
   },
   {
    "duration": 29,
    "start_time": "2023-07-06T00:20:43.002Z"
   },
   {
    "duration": 17,
    "start_time": "2023-07-06T00:20:43.036Z"
   },
   {
    "duration": 13,
    "start_time": "2023-07-06T00:20:43.056Z"
   },
   {
    "duration": 664,
    "start_time": "2023-07-06T00:20:43.071Z"
   },
   {
    "duration": 0,
    "start_time": "2023-07-06T00:20:43.740Z"
   },
   {
    "duration": 0,
    "start_time": "2023-07-06T00:20:43.741Z"
   },
   {
    "duration": 0,
    "start_time": "2023-07-06T00:20:43.743Z"
   },
   {
    "duration": 0,
    "start_time": "2023-07-06T00:20:43.744Z"
   },
   {
    "duration": 0,
    "start_time": "2023-07-06T00:20:43.746Z"
   },
   {
    "duration": 0,
    "start_time": "2023-07-06T00:20:43.747Z"
   },
   {
    "duration": 0,
    "start_time": "2023-07-06T00:20:43.748Z"
   },
   {
    "duration": 0,
    "start_time": "2023-07-06T00:20:43.752Z"
   },
   {
    "duration": 0,
    "start_time": "2023-07-06T00:20:43.753Z"
   },
   {
    "duration": 0,
    "start_time": "2023-07-06T00:20:43.754Z"
   },
   {
    "duration": 0,
    "start_time": "2023-07-06T00:20:43.755Z"
   },
   {
    "duration": 0,
    "start_time": "2023-07-06T00:20:43.757Z"
   },
   {
    "duration": 20385,
    "start_time": "2023-07-06T02:41:52.363Z"
   },
   {
    "duration": 42,
    "start_time": "2023-07-06T02:42:12.750Z"
   },
   {
    "duration": 7,
    "start_time": "2023-07-06T02:42:12.794Z"
   },
   {
    "duration": 1356,
    "start_time": "2023-07-06T02:42:12.803Z"
   },
   {
    "duration": 3,
    "start_time": "2023-07-06T02:42:14.162Z"
   },
   {
    "duration": 10,
    "start_time": "2023-07-06T02:42:14.167Z"
   },
   {
    "duration": 26,
    "start_time": "2023-07-06T02:42:14.179Z"
   },
   {
    "duration": 37,
    "start_time": "2023-07-06T02:42:14.207Z"
   },
   {
    "duration": 7587,
    "start_time": "2023-07-06T02:42:14.246Z"
   },
   {
    "duration": 523,
    "start_time": "2023-07-06T02:42:21.835Z"
   },
   {
    "duration": 5,
    "start_time": "2023-07-06T02:42:22.360Z"
   },
   {
    "duration": 91,
    "start_time": "2023-07-06T02:42:22.366Z"
   },
   {
    "duration": 114,
    "start_time": "2023-07-06T02:42:22.459Z"
   },
   {
    "duration": 43,
    "start_time": "2023-07-06T02:42:22.575Z"
   },
   {
    "duration": 8,
    "start_time": "2023-07-06T02:42:22.620Z"
   },
   {
    "duration": 502,
    "start_time": "2023-07-06T02:42:22.630Z"
   },
   {
    "duration": 5,
    "start_time": "2023-07-06T02:42:23.214Z"
   },
   {
    "duration": 105,
    "start_time": "2023-07-06T02:42:23.221Z"
   },
   {
    "duration": 11,
    "start_time": "2023-07-06T02:42:23.328Z"
   },
   {
    "duration": 15,
    "start_time": "2023-07-06T02:42:23.341Z"
   },
   {
    "duration": 4579,
    "start_time": "2023-07-06T02:42:23.358Z"
   },
   {
    "duration": 8477,
    "start_time": "2023-07-06T02:53:37.052Z"
   },
   {
    "duration": 43,
    "start_time": "2023-07-06T02:53:45.531Z"
   },
   {
    "duration": 8,
    "start_time": "2023-07-06T02:53:45.576Z"
   },
   {
    "duration": 1554,
    "start_time": "2023-07-06T02:53:45.586Z"
   },
   {
    "duration": 3,
    "start_time": "2023-07-06T02:53:47.141Z"
   },
   {
    "duration": 16,
    "start_time": "2023-07-06T02:53:47.146Z"
   },
   {
    "duration": 13,
    "start_time": "2023-07-06T02:53:47.164Z"
   },
   {
    "duration": 22,
    "start_time": "2023-07-06T02:53:47.179Z"
   },
   {
    "duration": 7921,
    "start_time": "2023-07-06T02:53:47.203Z"
   },
   {
    "duration": 525,
    "start_time": "2023-07-06T02:53:55.127Z"
   },
   {
    "duration": 6,
    "start_time": "2023-07-06T02:53:55.653Z"
   },
   {
    "duration": 105,
    "start_time": "2023-07-06T02:53:55.661Z"
   },
   {
    "duration": 116,
    "start_time": "2023-07-06T02:53:55.768Z"
   },
   {
    "duration": 41,
    "start_time": "2023-07-06T02:53:55.886Z"
   },
   {
    "duration": 8,
    "start_time": "2023-07-06T02:53:55.929Z"
   },
   {
    "duration": 578,
    "start_time": "2023-07-06T02:53:55.938Z"
   },
   {
    "duration": 93,
    "start_time": "2023-07-06T02:53:56.519Z"
   },
   {
    "duration": 29,
    "start_time": "2023-07-06T02:53:56.615Z"
   },
   {
    "duration": 31,
    "start_time": "2023-07-06T02:53:56.646Z"
   },
   {
    "duration": 25,
    "start_time": "2023-07-06T02:53:56.679Z"
   },
   {
    "duration": 4558,
    "start_time": "2023-07-06T02:53:56.706Z"
   },
   {
    "duration": 8,
    "start_time": "2023-07-06T02:54:01.266Z"
   },
   {
    "duration": 4567,
    "start_time": "2023-07-06T03:04:06.983Z"
   },
   {
    "duration": 7318,
    "start_time": "2023-07-06T03:11:06.058Z"
   },
   {
    "duration": 108,
    "start_time": "2023-07-06T03:11:13.379Z"
   },
   {
    "duration": 8,
    "start_time": "2023-07-06T03:11:13.489Z"
   },
   {
    "duration": 1714,
    "start_time": "2023-07-06T03:11:13.499Z"
   },
   {
    "duration": 3,
    "start_time": "2023-07-06T03:11:15.214Z"
   },
   {
    "duration": 17,
    "start_time": "2023-07-06T03:11:15.219Z"
   },
   {
    "duration": 10,
    "start_time": "2023-07-06T03:11:15.238Z"
   },
   {
    "duration": 7,
    "start_time": "2023-07-06T03:11:15.250Z"
   },
   {
    "duration": 7764,
    "start_time": "2023-07-06T03:11:15.258Z"
   },
   {
    "duration": 512,
    "start_time": "2023-07-06T03:11:23.024Z"
   },
   {
    "duration": 5,
    "start_time": "2023-07-06T03:11:23.538Z"
   },
   {
    "duration": 98,
    "start_time": "2023-07-06T03:11:23.545Z"
   },
   {
    "duration": 114,
    "start_time": "2023-07-06T03:11:23.645Z"
   },
   {
    "duration": 28,
    "start_time": "2023-07-06T03:11:23.760Z"
   },
   {
    "duration": 23,
    "start_time": "2023-07-06T03:11:23.790Z"
   },
   {
    "duration": 424,
    "start_time": "2023-07-06T03:11:23.815Z"
   },
   {
    "duration": 73,
    "start_time": "2023-07-06T03:11:24.241Z"
   },
   {
    "duration": 103,
    "start_time": "2023-07-06T03:11:24.316Z"
   },
   {
    "duration": 4,
    "start_time": "2023-07-06T03:11:24.420Z"
   },
   {
    "duration": 28,
    "start_time": "2023-07-06T03:11:24.426Z"
   },
   {
    "duration": 4486,
    "start_time": "2023-07-06T03:11:24.456Z"
   },
   {
    "duration": 24832,
    "start_time": "2023-07-06T21:30:47.654Z"
   },
   {
    "duration": 42,
    "start_time": "2023-07-06T21:31:12.488Z"
   },
   {
    "duration": 25,
    "start_time": "2023-07-06T21:31:12.531Z"
   },
   {
    "duration": 1759,
    "start_time": "2023-07-06T21:31:12.558Z"
   },
   {
    "duration": 2,
    "start_time": "2023-07-06T21:31:14.319Z"
   },
   {
    "duration": 16,
    "start_time": "2023-07-06T21:31:14.323Z"
   },
   {
    "duration": 14,
    "start_time": "2023-07-06T21:31:14.352Z"
   },
   {
    "duration": 11,
    "start_time": "2023-07-06T21:31:14.368Z"
   },
   {
    "duration": 7679,
    "start_time": "2023-07-06T21:31:14.380Z"
   },
   {
    "duration": 545,
    "start_time": "2023-07-06T21:31:22.062Z"
   },
   {
    "duration": 4,
    "start_time": "2023-07-06T21:31:22.609Z"
   },
   {
    "duration": 100,
    "start_time": "2023-07-06T21:31:22.614Z"
   },
   {
    "duration": 125,
    "start_time": "2023-07-06T21:31:22.715Z"
   },
   {
    "duration": 29,
    "start_time": "2023-07-06T21:31:22.849Z"
   },
   {
    "duration": 7,
    "start_time": "2023-07-06T21:31:22.880Z"
   },
   {
    "duration": 452,
    "start_time": "2023-07-06T21:31:22.888Z"
   },
   {
    "duration": 4,
    "start_time": "2023-07-06T21:31:23.345Z"
   },
   {
    "duration": 119,
    "start_time": "2023-07-06T21:31:23.351Z"
   },
   {
    "duration": 3,
    "start_time": "2023-07-06T21:31:23.472Z"
   },
   {
    "duration": 6,
    "start_time": "2023-07-06T21:31:23.476Z"
   },
   {
    "duration": 4723,
    "start_time": "2023-07-06T21:31:23.483Z"
   }
  ],
  "colab": {
   "provenance": []
  },
  "kernelspec": {
   "display_name": "Python 3 (ipykernel)",
   "language": "python",
   "name": "python3"
  },
  "language_info": {
   "codemirror_mode": {
    "name": "ipython",
    "version": 3
   },
   "file_extension": ".py",
   "mimetype": "text/x-python",
   "name": "python",
   "nbconvert_exporter": "python",
   "pygments_lexer": "ipython3",
   "version": "3.12.4"
  },
  "toc": {
   "base_numbering": 1,
   "nav_menu": {},
   "number_sections": true,
   "sideBar": true,
   "skip_h1_title": true,
   "title_cell": "Table of Contents",
   "title_sidebar": "Contents",
   "toc_cell": false,
   "toc_position": {
    "height": "calc(100% - 180px)",
    "left": "10px",
    "top": "150px",
    "width": "324px"
   },
   "toc_section_display": true,
   "toc_window_display": true
  },
  "widgets": {
   "application/vnd.jupyter.widget-state+json": {
    "16be6648677b4fb0a0caa0afcf530d60": {
     "model_module": "@jupyter-widgets/base",
     "model_module_version": "1.2.0",
     "model_name": "LayoutModel",
     "state": {
      "_model_module": "@jupyter-widgets/base",
      "_model_module_version": "1.2.0",
      "_model_name": "LayoutModel",
      "_view_count": null,
      "_view_module": "@jupyter-widgets/base",
      "_view_module_version": "1.2.0",
      "_view_name": "LayoutView",
      "align_content": null,
      "align_items": null,
      "align_self": null,
      "border": null,
      "bottom": null,
      "display": null,
      "flex": null,
      "flex_flow": null,
      "grid_area": null,
      "grid_auto_columns": null,
      "grid_auto_flow": null,
      "grid_auto_rows": null,
      "grid_column": null,
      "grid_gap": null,
      "grid_row": null,
      "grid_template_areas": null,
      "grid_template_columns": null,
      "grid_template_rows": null,
      "height": null,
      "justify_content": null,
      "justify_items": null,
      "left": null,
      "margin": null,
      "max_height": null,
      "max_width": null,
      "min_height": null,
      "min_width": null,
      "object_fit": null,
      "object_position": null,
      "order": null,
      "overflow": null,
      "overflow_x": null,
      "overflow_y": null,
      "padding": null,
      "right": null,
      "top": null,
      "visibility": null,
      "width": null
     }
    },
    "4736b05c0c014fa48115412b664443bc": {
     "model_module": "@jupyter-widgets/controls",
     "model_module_version": "1.5.0",
     "model_name": "ProgressStyleModel",
     "state": {
      "_model_module": "@jupyter-widgets/controls",
      "_model_module_version": "1.5.0",
      "_model_name": "ProgressStyleModel",
      "_view_count": null,
      "_view_module": "@jupyter-widgets/base",
      "_view_module_version": "1.2.0",
      "_view_name": "StyleView",
      "bar_color": null,
      "description_width": ""
     }
    },
    "55931096d1d3499fb5b3da6d41692f66": {
     "model_module": "@jupyter-widgets/controls",
     "model_module_version": "1.5.0",
     "model_name": "HTMLModel",
     "state": {
      "_dom_classes": [],
      "_model_module": "@jupyter-widgets/controls",
      "_model_module_version": "1.5.0",
      "_model_name": "HTMLModel",
      "_view_count": null,
      "_view_module": "@jupyter-widgets/controls",
      "_view_module_version": "1.5.0",
      "_view_name": "HTMLView",
      "description": "",
      "description_tooltip": null,
      "layout": "IPY_MODEL_e8c428bb6bde4ef8b1953c69884af94f",
      "placeholder": "​",
      "style": "IPY_MODEL_59c7b61fb2184d10870476a212b896e2",
      "value": " 3/3 [00:12&lt;00:00,  4.29s/it]"
     }
    },
    "59c7b61fb2184d10870476a212b896e2": {
     "model_module": "@jupyter-widgets/controls",
     "model_module_version": "1.5.0",
     "model_name": "DescriptionStyleModel",
     "state": {
      "_model_module": "@jupyter-widgets/controls",
      "_model_module_version": "1.5.0",
      "_model_name": "DescriptionStyleModel",
      "_view_count": null,
      "_view_module": "@jupyter-widgets/base",
      "_view_module_version": "1.2.0",
      "_view_name": "StyleView",
      "description_width": ""
     }
    },
    "5b7c4a004f974620a3156c3c02e7f84f": {
     "model_module": "@jupyter-widgets/controls",
     "model_module_version": "1.5.0",
     "model_name": "HTMLModel",
     "state": {
      "_dom_classes": [],
      "_model_module": "@jupyter-widgets/controls",
      "_model_module_version": "1.5.0",
      "_model_name": "HTMLModel",
      "_view_count": null,
      "_view_module": "@jupyter-widgets/controls",
      "_view_module_version": "1.5.0",
      "_view_name": "HTMLView",
      "description": "",
      "description_tooltip": null,
      "layout": "IPY_MODEL_16be6648677b4fb0a0caa0afcf530d60",
      "placeholder": "​",
      "style": "IPY_MODEL_c2210adea97c4019be8b03a0c4c7f954",
      "value": "100%"
     }
    },
    "677b4813aadb464e920fbc5838340b4c": {
     "model_module": "@jupyter-widgets/controls",
     "model_module_version": "1.5.0",
     "model_name": "HBoxModel",
     "state": {
      "_dom_classes": [],
      "_model_module": "@jupyter-widgets/controls",
      "_model_module_version": "1.5.0",
      "_model_name": "HBoxModel",
      "_view_count": null,
      "_view_module": "@jupyter-widgets/controls",
      "_view_module_version": "1.5.0",
      "_view_name": "HBoxView",
      "box_style": "",
      "children": [
       "IPY_MODEL_5b7c4a004f974620a3156c3c02e7f84f",
       "IPY_MODEL_e9222103417c451b9b43ddd177c78407",
       "IPY_MODEL_55931096d1d3499fb5b3da6d41692f66"
      ],
      "layout": "IPY_MODEL_6b82ea4e4e994e6a8ba2c6d9998a8a99"
     }
    },
    "6b82ea4e4e994e6a8ba2c6d9998a8a99": {
     "model_module": "@jupyter-widgets/base",
     "model_module_version": "1.2.0",
     "model_name": "LayoutModel",
     "state": {
      "_model_module": "@jupyter-widgets/base",
      "_model_module_version": "1.2.0",
      "_model_name": "LayoutModel",
      "_view_count": null,
      "_view_module": "@jupyter-widgets/base",
      "_view_module_version": "1.2.0",
      "_view_name": "LayoutView",
      "align_content": null,
      "align_items": null,
      "align_self": null,
      "border": null,
      "bottom": null,
      "display": null,
      "flex": null,
      "flex_flow": null,
      "grid_area": null,
      "grid_auto_columns": null,
      "grid_auto_flow": null,
      "grid_auto_rows": null,
      "grid_column": null,
      "grid_gap": null,
      "grid_row": null,
      "grid_template_areas": null,
      "grid_template_columns": null,
      "grid_template_rows": null,
      "height": null,
      "justify_content": null,
      "justify_items": null,
      "left": null,
      "margin": null,
      "max_height": null,
      "max_width": null,
      "min_height": null,
      "min_width": null,
      "object_fit": null,
      "object_position": null,
      "order": null,
      "overflow": null,
      "overflow_x": null,
      "overflow_y": null,
      "padding": null,
      "right": null,
      "top": null,
      "visibility": null,
      "width": null
     }
    },
    "8a25f01ac321465391ec899f9acbdd1f": {
     "model_module": "@jupyter-widgets/base",
     "model_module_version": "1.2.0",
     "model_name": "LayoutModel",
     "state": {
      "_model_module": "@jupyter-widgets/base",
      "_model_module_version": "1.2.0",
      "_model_name": "LayoutModel",
      "_view_count": null,
      "_view_module": "@jupyter-widgets/base",
      "_view_module_version": "1.2.0",
      "_view_name": "LayoutView",
      "align_content": null,
      "align_items": null,
      "align_self": null,
      "border": null,
      "bottom": null,
      "display": null,
      "flex": null,
      "flex_flow": null,
      "grid_area": null,
      "grid_auto_columns": null,
      "grid_auto_flow": null,
      "grid_auto_rows": null,
      "grid_column": null,
      "grid_gap": null,
      "grid_row": null,
      "grid_template_areas": null,
      "grid_template_columns": null,
      "grid_template_rows": null,
      "height": null,
      "justify_content": null,
      "justify_items": null,
      "left": null,
      "margin": null,
      "max_height": null,
      "max_width": null,
      "min_height": null,
      "min_width": null,
      "object_fit": null,
      "object_position": null,
      "order": null,
      "overflow": null,
      "overflow_x": null,
      "overflow_y": null,
      "padding": null,
      "right": null,
      "top": null,
      "visibility": null,
      "width": null
     }
    },
    "c2210adea97c4019be8b03a0c4c7f954": {
     "model_module": "@jupyter-widgets/controls",
     "model_module_version": "1.5.0",
     "model_name": "DescriptionStyleModel",
     "state": {
      "_model_module": "@jupyter-widgets/controls",
      "_model_module_version": "1.5.0",
      "_model_name": "DescriptionStyleModel",
      "_view_count": null,
      "_view_module": "@jupyter-widgets/base",
      "_view_module_version": "1.2.0",
      "_view_name": "StyleView",
      "description_width": ""
     }
    },
    "e8c428bb6bde4ef8b1953c69884af94f": {
     "model_module": "@jupyter-widgets/base",
     "model_module_version": "1.2.0",
     "model_name": "LayoutModel",
     "state": {
      "_model_module": "@jupyter-widgets/base",
      "_model_module_version": "1.2.0",
      "_model_name": "LayoutModel",
      "_view_count": null,
      "_view_module": "@jupyter-widgets/base",
      "_view_module_version": "1.2.0",
      "_view_name": "LayoutView",
      "align_content": null,
      "align_items": null,
      "align_self": null,
      "border": null,
      "bottom": null,
      "display": null,
      "flex": null,
      "flex_flow": null,
      "grid_area": null,
      "grid_auto_columns": null,
      "grid_auto_flow": null,
      "grid_auto_rows": null,
      "grid_column": null,
      "grid_gap": null,
      "grid_row": null,
      "grid_template_areas": null,
      "grid_template_columns": null,
      "grid_template_rows": null,
      "height": null,
      "justify_content": null,
      "justify_items": null,
      "left": null,
      "margin": null,
      "max_height": null,
      "max_width": null,
      "min_height": null,
      "min_width": null,
      "object_fit": null,
      "object_position": null,
      "order": null,
      "overflow": null,
      "overflow_x": null,
      "overflow_y": null,
      "padding": null,
      "right": null,
      "top": null,
      "visibility": null,
      "width": null
     }
    },
    "e9222103417c451b9b43ddd177c78407": {
     "model_module": "@jupyter-widgets/controls",
     "model_module_version": "1.5.0",
     "model_name": "FloatProgressModel",
     "state": {
      "_dom_classes": [],
      "_model_module": "@jupyter-widgets/controls",
      "_model_module_version": "1.5.0",
      "_model_name": "FloatProgressModel",
      "_view_count": null,
      "_view_module": "@jupyter-widgets/controls",
      "_view_module_version": "1.5.0",
      "_view_name": "ProgressView",
      "bar_style": "success",
      "description": "",
      "description_tooltip": null,
      "layout": "IPY_MODEL_8a25f01ac321465391ec899f9acbdd1f",
      "max": 3,
      "min": 0,
      "orientation": "horizontal",
      "style": "IPY_MODEL_4736b05c0c014fa48115412b664443bc",
      "value": 3
     }
    }
   }
  }
 },
 "nbformat": 4,
 "nbformat_minor": 4
}
